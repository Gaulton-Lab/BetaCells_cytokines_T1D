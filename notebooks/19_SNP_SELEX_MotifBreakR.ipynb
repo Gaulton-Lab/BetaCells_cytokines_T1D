{
 "cells": [
  {
   "cell_type": "code",
   "execution_count": 1,
   "id": "basic-terminal",
   "metadata": {},
   "outputs": [
    {
     "name": "stderr",
     "output_type": "stream",
     "text": [
      "See system.file(\"LICENSE\", package=\"MotifDb\") for use restrictions.\n",
      "\n"
     ]
    }
   ],
   "source": [
    "suppressPackageStartupMessages(library(motifbreakR))\n",
    "suppressPackageStartupMessages(library(MotifDb))\n",
    "suppressPackageStartupMessages(library(BSgenome))\n",
    "suppressPackageStartupMessages(library(tidyr))\n",
    "suppressPackageStartupMessages(library(\"BSgenome.Hsapiens.UCSC.hg19\"))\n",
    "suppressPackageStartupMessages(library(motifStack))\n",
    "suppressPackageStartupMessages(library(data.table))\n",
    "suppressPackageStartupMessages(library(stringr))\n",
    "suppressPackageStartupMessages(library(RColorBrewer))\n",
    "suppressPackageStartupMessages(library(gridExtra))\n",
    "suppressPackageStartupMessages(library(ggplot2))\n",
    "suppressPackageStartupMessages(library(MotIV))"
   ]
  },
  {
   "cell_type": "code",
   "execution_count": 2,
   "id": "equivalent-municipality",
   "metadata": {},
   "outputs": [],
   "source": [
    "setwd('/nfs/lab/projects/islet_cytok/analysis/selex/motifbreak')"
   ]
  },
  {
   "cell_type": "code",
   "execution_count": 3,
   "id": "becoming-dayton",
   "metadata": {},
   "outputs": [],
   "source": [
    "vars = read.table(\"../selex_variants_reclassified.bed\")"
   ]
  },
  {
   "cell_type": "code",
   "execution_count": 5,
   "id": "social-walker",
   "metadata": {},
   "outputs": [],
   "source": [
    "coord = str_replace_all(vars$V4,\"\\\\_\",\":\")\n",
    "coord = gsub(\"T1D:\", \"\", coord)\n",
    "coord = gsub(\"T2D:\", \"\", coord)\n",
    "varlist= vars[,1:3]\n",
    "varlist[,4] = paste0(\"chr\", coord)\n",
    "varlist[,5]= 0\n",
    "varlist[,6]=\"+\"\n",
    "varlist = varlist[!duplicated(varlist),]"
   ]
  },
  {
   "cell_type": "code",
   "execution_count": 12,
   "id": "indoor-delaware",
   "metadata": {},
   "outputs": [],
   "source": [
    "write.table( varlist, \"Input_var_list.tsv\", sep=\"\\t\", quote=F, row.names=F, col.names=F)"
   ]
  },
  {
   "cell_type": "code",
   "execution_count": 13,
   "id": "fatal-istanbul",
   "metadata": {},
   "outputs": [
    {
     "data": {
      "text/html": [
       "<style>\n",
       ".list-inline {list-style: none; margin:0; padding: 0}\n",
       ".list-inline>li {display: inline-block}\n",
       ".list-inline>li:not(:last-child)::after {content: \"\\00b7\"; padding: 0 .5ex}\n",
       "</style>\n",
       "<ol class=list-inline><li>182253</li><li>6</li></ol>\n"
      ],
      "text/latex": [
       "\\begin{enumerate*}\n",
       "\\item 182253\n",
       "\\item 6\n",
       "\\end{enumerate*}\n"
      ],
      "text/markdown": [
       "1. 182253\n",
       "2. 6\n",
       "\n",
       "\n"
      ],
      "text/plain": [
       "[1] 182253      6"
      ]
     },
     "metadata": {},
     "output_type": "display_data"
    }
   ],
   "source": [
    "dim(varlist)"
   ]
  },
  {
   "cell_type": "markdown",
   "id": "bottom-bidder",
   "metadata": {},
   "source": [
    "## Test analysis"
   ]
  },
  {
   "cell_type": "code",
   "execution_count": 14,
   "id": "closing-setting",
   "metadata": {},
   "outputs": [],
   "source": [
    "hocomoco2 = MotifDb[mcols(MotifDb)$dataSource=='HOCOMOCOv10' & mcols(MotifDb)$organism=='Hsapiens']"
   ]
  },
  {
   "cell_type": "code",
   "execution_count": 15,
   "id": "cosmetic-parcel",
   "metadata": {},
   "outputs": [
    {
     "name": "stderr",
     "output_type": "stream",
     "text": [
      "Warning message in snps.from.file(file = \"Input_var_list.tsv\", search.genome = BSgenome.Hsapiens.UCSC.hg19, :\n",
      "\"User selected reference allele differs from the sequence in BSgenome.Hsapiens.UCSC.hg19 continuing with genome specified reference allels\n",
      " there are 402 differences\"\n",
      "Warning message in snps.from.file(file = \"Input_var_list.tsv\", search.genome = BSgenome.Hsapiens.UCSC.hg19, :\n",
      "\"401 user variants are the same as the reference genome hg19 for Human\n",
      " These variants were excluded\"\n"
     ]
    }
   ],
   "source": [
    "snps <- snps.from.file(file = \"Input_var_list.tsv\",\n",
    "                                  search.genome = BSgenome.Hsapiens.UCSC.hg19,\n",
    "                                  format = \"bed\")"
   ]
  },
  {
   "cell_type": "code",
   "execution_count": 16,
   "id": "chief-bones",
   "metadata": {},
   "outputs": [],
   "source": [
    "results <- motifbreakR(snpList = snps[1], filterp = TRUE,\n",
    "                       pwmList = hocomoco2,\n",
    "                       method=\"ic\",\n",
    "                       threshold = 5e-4,\n",
    "                       BPPARAM = BiocParallel::bpparam(\"SerialParam\"))\n"
   ]
  },
  {
   "cell_type": "code",
   "execution_count": 17,
   "id": "underlying-convert",
   "metadata": {},
   "outputs": [
    {
     "data": {
      "text/html": [
       "181540"
      ],
      "text/latex": [
       "181540"
      ],
      "text/markdown": [
       "181540"
      ],
      "text/plain": [
       "[1] 181540"
      ]
     },
     "metadata": {},
     "output_type": "display_data"
    }
   ],
   "source": [
    "length(snps)"
   ]
  },
  {
   "cell_type": "code",
   "execution_count": 59,
   "id": "constant-growth",
   "metadata": {},
   "outputs": [
    {
     "data": {
      "text/html": [
       "182343"
      ],
      "text/latex": [
       "182343"
      ],
      "text/markdown": [
       "182343"
      ],
      "text/plain": [
       "[1] 182343"
      ]
     },
     "metadata": {},
     "output_type": "display_data"
    }
   ],
   "source": [
    "181540 + 402 +401"
   ]
  },
  {
   "cell_type": "code",
   "execution_count": 21,
   "id": "sticky-selection",
   "metadata": {},
   "outputs": [
    {
     "data": {
      "text/html": [
       "140"
      ],
      "text/latex": [
       "140"
      ],
      "text/markdown": [
       "140"
      ],
      "text/plain": [
       "[1] 140"
      ]
     },
     "metadata": {},
     "output_type": "display_data"
    }
   ],
   "source": [
    "length(181401:181540)"
   ]
  },
  {
   "cell_type": "code",
   "execution_count": null,
   "id": "moral-saudi",
   "metadata": {},
   "outputs": [],
   "source": [
    "#### Run using /bin/Rscript Motifbreak.R (~16 hrs) -- otherwise will load anaconda3 R\n",
    "# for (i in seq(1,181400, by=200)){\n",
    "#   test=snps[i:(i+199)]\n",
    "#   results <- mclapply(1:200, function(x) data.frame(motifbreakR(snpList = test[x], filterp = TRUE,\n",
    "#                        pwmList = hocomoco2,\n",
    "#                        method=\"ic\",\n",
    "#                        threshold = 5e-4,\n",
    "#                        BPPARAM = BiocParallel::bpparam(\"SerialParam\"))), mc.cores=18 )\n",
    "\n",
    "# rb = rbindlist(results[lapply(results, class) == \"data.frame\"])\n",
    "\n",
    "# if(nrow(rb)>0){\n",
    "#   write.table(rb, paste0(\"hocomoco_results/Results_Hocomoco_\", i, \"_\", i+199, \".tsv\"), quote=F, row.names=F, sep=\"\\t\")  \n",
    "# }\n",
    "\n",
    "# }\n",
    "\n",
    "#   test=snps[181401:181540]\n",
    "#   results <- mclapply(1:140, function(x) data.frame(motifbreakR(snpList = test[x], filterp = TRUE,\n",
    "#                        pwmList = hocomoco2,\n",
    "#                        method=\"ic\",\n",
    "#                        threshold = 5e-4,\n",
    "#                        BPPARAM = BiocParallel::bpparam(\"SerialParam\"))), mc.cores=18 )\n",
    "\n",
    "# rb = rbindlist(results[lapply(results, class) == \"data.frame\"])\n",
    "\n",
    "# if(nrow(rb)>0){\n",
    "#   write.table(rb, paste0(\"hocomoco_results/Results_Hocomoco_\", 181401, \"_\", 181540, \".tsv\"), quote=F, row.names=F, sep=\"\\t\")  \n",
    "# }\n"
   ]
  },
  {
   "cell_type": "code",
   "execution_count": 22,
   "id": "incident-meditation",
   "metadata": {},
   "outputs": [],
   "source": [
    "files = list.files('hocomoco_results')[grepl(\"Results\", list.files('hocomoco_results'))]"
   ]
  },
  {
   "cell_type": "code",
   "execution_count": 23,
   "id": "spare-exploration",
   "metadata": {},
   "outputs": [
    {
     "data": {
      "text/html": [
       "908"
      ],
      "text/latex": [
       "908"
      ],
      "text/markdown": [
       "908"
      ],
      "text/plain": [
       "[1] 908"
      ]
     },
     "metadata": {},
     "output_type": "display_data"
    }
   ],
   "source": [
    "length(files)"
   ]
  },
  {
   "cell_type": "code",
   "execution_count": 24,
   "id": "thousand-rebound",
   "metadata": {},
   "outputs": [],
   "source": [
    "RES = data.frame()\n",
    "for( f in files){\n",
    "    res = read.table(paste0('hocomoco_results/',f),  row.names=NULL, header=T, sep=\"\\t\", stringsAsFactors = F)\n",
    "    RES = rbind(RES, res)\n",
    "}"
   ]
  },
  {
   "cell_type": "code",
   "execution_count": 25,
   "id": "temporal-injection",
   "metadata": {},
   "outputs": [],
   "source": [
    "tab = RES[, c(6,10:24)]\n",
    "tab = tab[order(-abs(tab$alleleDiff)),]\n",
    "tab = tab[!duplicated(tab[,c('SNP_id','geneSymbol' )]),]"
   ]
  },
  {
   "cell_type": "code",
   "execution_count": 32,
   "id": "textile-sheep",
   "metadata": {},
   "outputs": [
    {
     "data": {
      "text/html": [
       "<table class=\"dataframe\">\n",
       "<caption>A data.frame: 2 × 16</caption>\n",
       "<thead>\n",
       "\t<tr><th></th><th scope=col>SNP_id</th><th scope=col>motifPos</th><th scope=col>geneSymbol</th><th scope=col>dataSource</th><th scope=col>providerName</th><th scope=col>providerId</th><th scope=col>seqMatch</th><th scope=col>pctRef</th><th scope=col>pctAlt</th><th scope=col>scoreRef</th><th scope=col>scoreAlt</th><th scope=col>Refpvalue</th><th scope=col>Altpvalue</th><th scope=col>altPos</th><th scope=col>alleleDiff</th><th scope=col>effect</th></tr>\n",
       "\t<tr><th></th><th scope=col>&lt;chr&gt;</th><th scope=col>&lt;chr&gt;</th><th scope=col>&lt;chr&gt;</th><th scope=col>&lt;chr&gt;</th><th scope=col>&lt;chr&gt;</th><th scope=col>&lt;chr&gt;</th><th scope=col>&lt;chr&gt;</th><th scope=col>&lt;dbl&gt;</th><th scope=col>&lt;dbl&gt;</th><th scope=col>&lt;dbl&gt;</th><th scope=col>&lt;dbl&gt;</th><th scope=col>&lt;lgl&gt;</th><th scope=col>&lt;lgl&gt;</th><th scope=col>&lt;int&gt;</th><th scope=col>&lt;dbl&gt;</th><th scope=col>&lt;chr&gt;</th></tr>\n",
       "</thead>\n",
       "<tbody>\n",
       "\t<tr><th scope=row>815444</th><td>chr14:68836369:A:G</td><td>c(-13, 7)</td><td>CUX2</td><td>HOCOMOCOv10</td><td>CUX2_HUMAN.H10MO.D</td><td>CUX2_HUMAN.H10MO.D</td><td>catatctttcactttCcctatcgatacttcatatgttatg </td><td>0.9211100</td><td>0.7757735</td><td>11.799061</td><td>10.00743</td><td>NA</td><td>NA</td><td>1</td><td>-1.791634</td><td>strong</td></tr>\n",
       "\t<tr><th scope=row>815445</th><td>chr14:68836369:A:G</td><td>c(-2, 11)</td><td>CUX1</td><td>HOCOMOCOv10</td><td>CUX1_HUMAN.H10MO.C</td><td>CUX1_HUMAN.H10MO.C</td><td>      tttcactttCcctatcgatacttcata        </td><td>0.9487956</td><td>0.7349893</td><td> 7.028517</td><td> 5.48814</td><td>NA</td><td>NA</td><td>1</td><td>-1.540377</td><td>strong</td></tr>\n",
       "</tbody>\n",
       "</table>\n"
      ],
      "text/latex": [
       "A data.frame: 2 × 16\n",
       "\\begin{tabular}{r|llllllllllllllll}\n",
       "  & SNP\\_id & motifPos & geneSymbol & dataSource & providerName & providerId & seqMatch & pctRef & pctAlt & scoreRef & scoreAlt & Refpvalue & Altpvalue & altPos & alleleDiff & effect\\\\\n",
       "  & <chr> & <chr> & <chr> & <chr> & <chr> & <chr> & <chr> & <dbl> & <dbl> & <dbl> & <dbl> & <lgl> & <lgl> & <int> & <dbl> & <chr>\\\\\n",
       "\\hline\n",
       "\t815444 & chr14:68836369:A:G & c(-13, 7) & CUX2 & HOCOMOCOv10 & CUX2\\_HUMAN.H10MO.D & CUX2\\_HUMAN.H10MO.D & catatctttcactttCcctatcgatacttcatatgttatg  & 0.9211100 & 0.7757735 & 11.799061 & 10.00743 & NA & NA & 1 & -1.791634 & strong\\\\\n",
       "\t815445 & chr14:68836369:A:G & c(-2, 11) & CUX1 & HOCOMOCOv10 & CUX1\\_HUMAN.H10MO.C & CUX1\\_HUMAN.H10MO.C &       tttcactttCcctatcgatacttcata         & 0.9487956 & 0.7349893 &  7.028517 &  5.48814 & NA & NA & 1 & -1.540377 & strong\\\\\n",
       "\\end{tabular}\n"
      ],
      "text/markdown": [
       "\n",
       "A data.frame: 2 × 16\n",
       "\n",
       "| <!--/--> | SNP_id &lt;chr&gt; | motifPos &lt;chr&gt; | geneSymbol &lt;chr&gt; | dataSource &lt;chr&gt; | providerName &lt;chr&gt; | providerId &lt;chr&gt; | seqMatch &lt;chr&gt; | pctRef &lt;dbl&gt; | pctAlt &lt;dbl&gt; | scoreRef &lt;dbl&gt; | scoreAlt &lt;dbl&gt; | Refpvalue &lt;lgl&gt; | Altpvalue &lt;lgl&gt; | altPos &lt;int&gt; | alleleDiff &lt;dbl&gt; | effect &lt;chr&gt; |\n",
       "|---|---|---|---|---|---|---|---|---|---|---|---|---|---|---|---|---|\n",
       "| 815444 | chr14:68836369:A:G | c(-13, 7) | CUX2 | HOCOMOCOv10 | CUX2_HUMAN.H10MO.D | CUX2_HUMAN.H10MO.D | catatctttcactttCcctatcgatacttcatatgttatg  | 0.9211100 | 0.7757735 | 11.799061 | 10.00743 | NA | NA | 1 | -1.791634 | strong |\n",
       "| 815445 | chr14:68836369:A:G | c(-2, 11) | CUX1 | HOCOMOCOv10 | CUX1_HUMAN.H10MO.C | CUX1_HUMAN.H10MO.C |       tttcactttCcctatcgatacttcata         | 0.9487956 | 0.7349893 |  7.028517 |  5.48814 | NA | NA | 1 | -1.540377 | strong |\n",
       "\n"
      ],
      "text/plain": [
       "       SNP_id             motifPos  geneSymbol dataSource  providerName      \n",
       "815444 chr14:68836369:A:G c(-13, 7) CUX2       HOCOMOCOv10 CUX2_HUMAN.H10MO.D\n",
       "815445 chr14:68836369:A:G c(-2, 11) CUX1       HOCOMOCOv10 CUX1_HUMAN.H10MO.C\n",
       "       providerId         seqMatch                                  pctRef   \n",
       "815444 CUX2_HUMAN.H10MO.D catatctttcactttCcctatcgatacttcatatgttatg  0.9211100\n",
       "815445 CUX1_HUMAN.H10MO.C       tttcactttCcctatcgatacttcata         0.9487956\n",
       "       pctAlt    scoreRef  scoreAlt Refpvalue Altpvalue altPos alleleDiff\n",
       "815444 0.7757735 11.799061 10.00743 NA        NA        1      -1.791634 \n",
       "815445 0.7349893  7.028517  5.48814 NA        NA        1      -1.540377 \n",
       "       effect\n",
       "815444 strong\n",
       "815445 strong"
      ]
     },
     "metadata": {},
     "output_type": "display_data"
    }
   ],
   "source": [
    "tab[tab$SNP_id==\"chr14:68836369:A:G\",]"
   ]
  },
  {
   "cell_type": "code",
   "execution_count": 30,
   "id": "contrary-pottery",
   "metadata": {},
   "outputs": [],
   "source": [
    "write.table(tab, \"Summary_significant_motifs_hocomocov10_long.tsv\", sep=\"\\t\", row.names=F, quote=F)"
   ]
  },
  {
   "cell_type": "code",
   "execution_count": 56,
   "id": "protecting-stress",
   "metadata": {},
   "outputs": [
    {
     "data": {
      "text/html": [
       "0.400002980693127"
      ],
      "text/latex": [
       "0.400002980693127"
      ],
      "text/markdown": [
       "0.400002980693127"
      ],
      "text/plain": [
       "[1] 0.400003"
      ]
     },
     "metadata": {},
     "output_type": "display_data"
    }
   ],
   "source": [
    "min(abs(tab$alleleDiff))"
   ]
  },
  {
   "cell_type": "code",
   "execution_count": 35,
   "id": "honest-weight",
   "metadata": {},
   "outputs": [
    {
     "data": {
      "text/html": [
       "<style>\n",
       ".list-inline {list-style: none; margin:0; padding: 0}\n",
       ".list-inline>li {display: inline-block}\n",
       ".list-inline>li:not(:last-child)::after {content: \"\\00b7\"; padding: 0 .5ex}\n",
       "</style>\n",
       "<ol class=list-inline><li>1538690</li><li>16</li></ol>\n"
      ],
      "text/latex": [
       "\\begin{enumerate*}\n",
       "\\item 1538690\n",
       "\\item 16\n",
       "\\end{enumerate*}\n"
      ],
      "text/markdown": [
       "1. 1538690\n",
       "2. 16\n",
       "\n",
       "\n"
      ],
      "text/plain": [
       "[1] 1538690      16"
      ]
     },
     "metadata": {},
     "output_type": "display_data"
    }
   ],
   "source": [
    "dim(tab)"
   ]
  },
  {
   "cell_type": "code",
   "execution_count": 34,
   "id": "virtual-luxembourg",
   "metadata": {},
   "outputs": [
    {
     "data": {
      "text/html": [
       "177270"
      ],
      "text/latex": [
       "177270"
      ],
      "text/markdown": [
       "177270"
      ],
      "text/plain": [
       "[1] 177270"
      ]
     },
     "metadata": {},
     "output_type": "display_data"
    }
   ],
   "source": [
    "sum(!duplicated(tab$SNP_id))"
   ]
  },
  {
   "cell_type": "code",
   "execution_count": null,
   "id": "floppy-spelling",
   "metadata": {},
   "outputs": [],
   "source": []
  },
  {
   "cell_type": "code",
   "execution_count": 36,
   "id": "improved-female",
   "metadata": {},
   "outputs": [],
   "source": [
    "selex = read.table(\"../combinedResults.tsv\", header=T)"
   ]
  },
  {
   "cell_type": "code",
   "execution_count": 37,
   "id": "downtown-hardware",
   "metadata": {},
   "outputs": [],
   "source": [
    "selex = subset(selex, !is.na(PBSb))\n",
    "coord = str_replace_all(selex$snp_name,\"\\\\_\",\":\")\n",
    "coord = gsub(\"T1D:\", \"\", coord)\n",
    "coord = gsub(\"T2D:\", \"\", coord)\n",
    "selex$snpID = paste0 (\"chr\", coord)\n",
    "\n",
    "comp = merge(selex[,c('snpID','prot', \"Family\", 'PBSb', 'PBSb_pv')], tab[,c('SNP_id', 'geneSymbol','alleleDiff') ],\n",
    "             by=1:2, all.x=T)"
   ]
  },
  {
   "cell_type": "code",
   "execution_count": 45,
   "id": "academic-classic",
   "metadata": {},
   "outputs": [
    {
     "data": {
      "text/html": [
       "<style>\n",
       ".list-inline {list-style: none; margin:0; padding: 0}\n",
       ".list-inline>li {display: inline-block}\n",
       ".list-inline>li:not(:last-child)::after {content: \"\\00b7\"; padding: 0 .5ex}\n",
       "</style>\n",
       "<ol class=list-inline><li>1896977</li><li>6</li></ol>\n"
      ],
      "text/latex": [
       "\\begin{enumerate*}\n",
       "\\item 1896977\n",
       "\\item 6\n",
       "\\end{enumerate*}\n"
      ],
      "text/markdown": [
       "1. 1896977\n",
       "2. 6\n",
       "\n",
       "\n"
      ],
      "text/plain": [
       "[1] 1896977       6"
      ]
     },
     "metadata": {},
     "output_type": "display_data"
    }
   ],
   "source": [
    "dim(comp)"
   ]
  },
  {
   "cell_type": "code",
   "execution_count": 60,
   "id": "tired-ticket",
   "metadata": {},
   "outputs": [
    {
     "data": {
      "text/html": [
       "500"
      ],
      "text/latex": [
       "500"
      ],
      "text/markdown": [
       "500"
      ],
      "text/plain": [
       "[1] 500"
      ]
     },
     "metadata": {},
     "output_type": "display_data"
    }
   ],
   "source": [
    "sum(!duplicated(comp$prot))"
   ]
  },
  {
   "cell_type": "code",
   "execution_count": 62,
   "id": "opponent-vault",
   "metadata": {},
   "outputs": [
    {
     "data": {
      "text/html": [
       "129842"
      ],
      "text/latex": [
       "129842"
      ],
      "text/markdown": [
       "129842"
      ],
      "text/plain": [
       "[1] 129842"
      ]
     },
     "metadata": {},
     "output_type": "display_data"
    }
   ],
   "source": [
    "sum(!duplicated(comp$snpID))"
   ]
  },
  {
   "cell_type": "code",
   "execution_count": 57,
   "id": "adolescent-sheffield",
   "metadata": {},
   "outputs": [
    {
     "data": {
      "text/plain": [
       "\n",
       "  Simon G. Coetzee, Gerhard A. Coetzee and Dennis J. Hazelett (2015).\n",
       "  motifbreakR: an R/Bioconductor package for predicting variant effects\n",
       "  at transcription factor binding sites. Bioinformatics.\n",
       "  doi:10.1093/bioinformatics/btv470\n",
       "\n",
       "A BibTeX entry for LaTeX users is\n",
       "\n",
       "  @Article{,\n",
       "    title = {motifbreakR: an R/Bioconductor package for predicting variant effects at transcription factor binding sites},\n",
       "    author = {Simon G. Coetzee and Gerhard A. Coetzee and Dennis J. Hazelett},\n",
       "    year = {2015},\n",
       "    journal = {Bioinformatics},\n",
       "    doi = {10.1093/bioinformatics/btv470},\n",
       "    url = {http://bioinformatics.oxfordjournals.org/content/early/2015/08/12/bioinformatics.btv470.abstract},\n",
       "  }\n"
      ]
     },
     "metadata": {},
     "output_type": "display_data"
    }
   ],
   "source": [
    "citation(\"motifbreakR\")"
   ]
  },
  {
   "cell_type": "code",
   "execution_count": 61,
   "id": "piano-porter",
   "metadata": {},
   "outputs": [
    {
     "data": {
      "text/html": [
       "640"
      ],
      "text/latex": [
       "640"
      ],
      "text/markdown": [
       "640"
      ],
      "text/plain": [
       "[1] 640"
      ]
     },
     "metadata": {},
     "output_type": "display_data"
    }
   ],
   "source": [
    "length(hocomoco2)"
   ]
  },
  {
   "cell_type": "code",
   "execution_count": null,
   "id": "royal-target",
   "metadata": {},
   "outputs": [],
   "source": []
  }
 ],
 "metadata": {
  "kernelspec": {
   "display_name": "R",
   "language": "R",
   "name": "ir"
  },
  "language_info": {
   "codemirror_mode": "r",
   "file_extension": ".r",
   "mimetype": "text/x-r-source",
   "name": "R",
   "pygments_lexer": "r",
   "version": "3.6.0"
  }
 },
 "nbformat": 4,
 "nbformat_minor": 5
}
