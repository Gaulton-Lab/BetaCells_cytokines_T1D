{
 "cells": [
  {
   "cell_type": "code",
   "execution_count": 1,
   "id": "secret-jewelry",
   "metadata": {},
   "outputs": [],
   "source": [
    "suppressPackageStartupMessages(library(\"DESeq2\"))\n",
    "suppressPackageStartupMessages(library(\"ggplot2\"))\n",
    "suppressPackageStartupMessages(library(\"stringr\"))\n",
    "suppressPackageStartupMessages(library(\"tidyr\"))"
   ]
  },
  {
   "cell_type": "code",
   "execution_count": 2,
   "id": "protected-fifty",
   "metadata": {},
   "outputs": [],
   "source": [
    "setwd('/nfs/lab/projects/islet_cytok/analysis/snATAC/peaks/')"
   ]
  },
  {
   "cell_type": "code",
   "execution_count": 3,
   "id": "southern-fleet",
   "metadata": {},
   "outputs": [],
   "source": [
    "cells = c('beta','acinar','alpha','delta','endothelial','stellate')"
   ]
  },
  {
   "cell_type": "markdown",
   "id": "metric-filter",
   "metadata": {},
   "source": [
    "### Separate bacodes with demultipelxed file"
   ]
  },
  {
   "cell_type": "code",
   "execution_count": 8,
   "id": "mathematical-annual",
   "metadata": {},
   "outputs": [],
   "source": [
    "barcode_list = read.table('/nfs/lab/elisha/islets/cytokine/new_islet/gaulton/peaks/gatsby/onlyIslets_umap.cytunt.txt', \n",
    "                          sep=\"\\t\",header=T)"
   ]
  },
  {
   "cell_type": "code",
   "execution_count": 9,
   "id": "bizarre-background",
   "metadata": {},
   "outputs": [],
   "source": [
    "names_list = read.table('/nfs/lab/elisha/islets/cytokine/new_islet/gaulton/peaks/gatsby/onlyIslets_names.cytunt.txt', \n",
    "                          sep=\"\\t\",header=T)"
   ]
  },
  {
   "cell_type": "code",
   "execution_count": 10,
   "id": "chronic-edward",
   "metadata": {},
   "outputs": [],
   "source": [
    "names_list = merge(barcode_list, names_list, by = c('X', 'leiden', 'cluster'))"
   ]
  },
  {
   "cell_type": "code",
   "execution_count": 11,
   "id": "smoking-violation",
   "metadata": {},
   "outputs": [],
   "source": [
    "names_list$treat = str_split_fixed(names_list$X, \"\\\\_\",5)[,3]\n",
    "names_list$treat2 = substr(str_split_fixed(names_list$X, \"\\\\_\",2)[,1],5 ,7)\n",
    "names_list$treat[names_list$treat==\"\"]<-names_list$treat2[names_list$treat==\"\"]"
   ]
  },
  {
   "cell_type": "code",
   "execution_count": 12,
   "id": "bored-chuck",
   "metadata": {},
   "outputs": [],
   "source": [
    "names_list$bc = gsub( 'scATAC_islet7453_unt_500' , \"unt500\" , names_list$X)\n",
    "names_list$bc = gsub( 'scATAC_islet7453_cyt' , \"cyt\" , names_list$bc)\n",
    "names_list$bc = gsub( 'scATAC_islet4807_unt_4000' , \"unt4000\" , names_list$bc)\n",
    "bc = str_split_fixed(names_list$bc, \"\\\\_\",2)\n",
    "names_list$barcode = paste0(\"CB:Z:\", bc[,2], \"-1\")"
   ]
  },
  {
   "cell_type": "code",
   "execution_count": 13,
   "id": "available-combat",
   "metadata": {},
   "outputs": [],
   "source": [
    "names_list$bam = paste0(names_list$experiment, '.filt.rmdup.bam')"
   ]
  },
  {
   "cell_type": "code",
   "execution_count": 18,
   "id": "sonic-pocket",
   "metadata": {},
   "outputs": [],
   "source": [
    "dem_cyt = read.table('/nfs/lab/mokino/SP21/scATAC_demuxlet/28apr21_1000cyt_demux.tsv', header=T)\n",
    "dem_unt = read.table('/nfs/lab/mokino/SP21/scATAC_demuxlet/28apr21_1000unt_demux.tsv', header=T)"
   ]
  },
  {
   "cell_type": "code",
   "execution_count": 25,
   "id": "blessed-landing",
   "metadata": {},
   "outputs": [],
   "source": [
    "dem_cyt$bc = paste(\"1000cytokine\",dem_cyt$barcode , sep=\"_\")\n",
    "dem_unt$bc = paste(\"1000untreated\",dem_unt$barcode , sep=\"_\")\n",
    "dem = rbind(dem_cyt, dem_unt)"
   ]
  },
  {
   "cell_type": "code",
   "execution_count": 136,
   "id": "cross-serum",
   "metadata": {},
   "outputs": [
    {
     "data": {
      "text/plain": [
       "\n",
       "DBL-4-islet-GT-4_4-islet-GT-4-5-islet-GT-5_5-islet-GT-5-0.500 \n",
       "                                                           38 \n",
       "DBL-5-islet-GT-5_5-islet-GT-5-4-islet-GT-4_4-islet-GT-4-0.500 \n",
       "                                                            2 \n",
       "                                SNG-4-islet-GT-4_4-islet-GT-4 \n",
       "                                                          803 \n",
       "                                SNG-5-islet-GT-5_5-islet-GT-5 \n",
       "                                                          895 "
      ]
     },
     "metadata": {},
     "output_type": "display_data"
    }
   ],
   "source": [
    "table(dem_unt$demuxlet_best)"
   ]
  },
  {
   "cell_type": "code",
   "execution_count": 28,
   "id": "impressive-necessity",
   "metadata": {},
   "outputs": [],
   "source": [
    "samps = str_split_fixed(dem$demuxlet_best,'-islet', 2)[,1]\n",
    "samps = gsub(\"SNG-\", \"islet\", samps)"
   ]
  },
  {
   "cell_type": "code",
   "execution_count": 30,
   "id": "dominican-memorabilia",
   "metadata": {},
   "outputs": [],
   "source": [
    "dem$samples = samps"
   ]
  },
  {
   "cell_type": "code",
   "execution_count": 48,
   "id": "downtown-consortium",
   "metadata": {},
   "outputs": [
    {
     "data": {
      "text/plain": [
       "\n",
       "             1000cytokine             1000untreated scATAC_islet4807_unt_4000 \n",
       "                     2492                      1738                      1304 \n",
       "     scATAC_islet7453_cyt  scATAC_islet7453_unt_500 \n",
       "                     1390                       905 "
      ]
     },
     "metadata": {},
     "output_type": "display_data"
    }
   ],
   "source": [
    "table(names_list$experiment)"
   ]
  },
  {
   "cell_type": "code",
   "execution_count": 16,
   "id": "arranged-central",
   "metadata": {},
   "outputs": [
    {
     "data": {
      "text/html": [
       "<style>\n",
       ".dl-inline {width: auto; margin:0; padding: 0}\n",
       ".dl-inline>dt, .dl-inline>dd {float: none; width: auto; display: inline-block}\n",
       ".dl-inline>dt::after {content: \":\\0020\"; padding-right: .5ex}\n",
       ".dl-inline>dt:not(:first-of-type) {padding-left: .5ex}\n",
       "</style><dl class=dl-inline><dt>acinar</dt><dd>327</dd><dt>alpha</dt><dd>2113</dd><dt>beta</dt><dd>4267</dd><dt>delta</dt><dd>541</dd><dt>endothelial</dt><dd>219</dd><dt>stellate</dt><dd>362</dd></dl>\n"
      ],
      "text/latex": [
       "\\begin{description*}\n",
       "\\item[acinar] 327\n",
       "\\item[alpha] 2113\n",
       "\\item[beta] 4267\n",
       "\\item[delta] 541\n",
       "\\item[endothelial] 219\n",
       "\\item[stellate] 362\n",
       "\\end{description*}\n"
      ],
      "text/markdown": [
       "acinar\n",
       ":   327alpha\n",
       ":   2113beta\n",
       ":   4267delta\n",
       ":   541endothelial\n",
       ":   219stellate\n",
       ":   362\n",
       "\n"
      ],
      "text/plain": [
       "     acinar       alpha        beta       delta endothelial    stellate \n",
       "        327        2113        4267         541         219         362 "
      ]
     },
     "metadata": {},
     "output_type": "display_data"
    }
   ],
   "source": [
    "c(table(names_list$cluster))"
   ]
  },
  {
   "cell_type": "code",
   "execution_count": 37,
   "id": "noted-income",
   "metadata": {},
   "outputs": [],
   "source": [
    "dem$experiment  = paste(dem$samples, dem$condition, sep=\"_\")\n",
    "dem2            = dem[,c(\"bc\", \"experiment\")]\n",
    "ori             = names_list[,c(\"bc\", \"experiment\")]\n",
    "ori = subset(ori, !(experiment %in% c('1000cytokine', '1000untreated')))\n",
    "\n",
    "all = rbind(dem2, ori)\n",
    "\n",
    "colnames(all)[2] = \"samples\"\n",
    "\n",
    "names_list = merge(names_list, all, by=\"bc\")"
   ]
  },
  {
   "cell_type": "code",
   "execution_count": 135,
   "id": "naval-orientation",
   "metadata": {},
   "outputs": [
    {
     "data": {
      "text/html": [
       "1698"
      ],
      "text/latex": [
       "1698"
      ],
      "text/markdown": [
       "1698"
      ],
      "text/plain": [
       "[1] 1698"
      ]
     },
     "metadata": {},
     "output_type": "display_data"
    },
    {
     "data": {
      "text/html": [
       "2459"
      ],
      "text/latex": [
       "2459"
      ],
      "text/markdown": [
       "2459"
      ],
      "text/plain": [
       "[1] 2459"
      ]
     },
     "metadata": {},
     "output_type": "display_data"
    }
   ],
   "source": [
    "895 + 803\n",
    "1387+ 1072"
   ]
  },
  {
   "cell_type": "code",
   "execution_count": 46,
   "id": "intense-raleigh",
   "metadata": {},
   "outputs": [
    {
     "data": {
      "text/plain": [
       "\n",
       "                AMB-5_cyt                 DBL-4_cyt                 DBL-4_unt \n",
       "                        1                        29                        38 \n",
       "                DBL-5_cyt                 DBL-5_unt                islet4_cyt \n",
       "                        3                         2                      1387 \n",
       "               islet4_unt                islet5_cyt                islet5_unt \n",
       "                      803                      1072                       895 \n",
       "scATAC_islet4807_unt_4000      scATAC_islet7453_cyt  scATAC_islet7453_unt_500 \n",
       "                     1304                      1390                       905 "
      ]
     },
     "metadata": {},
     "output_type": "display_data"
    }
   ],
   "source": [
    "table(names_list$samples)"
   ]
  },
  {
   "cell_type": "code",
   "execution_count": 58,
   "id": "constitutional-influence",
   "metadata": {},
   "outputs": [],
   "source": [
    "write.table(names_list, \"/nfs/lab/projects/islet_cytok/analysis/snATAC/barcode_and_cluster_demux.tsv\", quote=F )"
   ]
  },
  {
   "cell_type": "code",
   "execution_count": 160,
   "id": "broke-evening",
   "metadata": {},
   "outputs": [],
   "source": [
    "names_list$donor = gsub(\"_cyt\" , \"\",names_list$samples)\n",
    "names_list$donor = gsub(\"_unt\" , \"\",names_list$donor)\n",
    "names_list$donor = gsub(\"_500\" , \"\",names_list$donor)"
   ]
  },
  {
   "cell_type": "code",
   "execution_count": 179,
   "id": "dried-baptist",
   "metadata": {},
   "outputs": [
    {
     "data": {
      "text/plain": [
       "\n",
       "                AMB-5                 DBL-4                 DBL-5 \n",
       "                    1                    67                     5 \n",
       "               islet4                islet5 scATAC_islet4807_4000 \n",
       "                 2190                  1967                  1304 \n",
       "     scATAC_islet7453 \n",
       "                 2295 "
      ]
     },
     "metadata": {},
     "output_type": "display_data"
    }
   ],
   "source": [
    "table(names_list$donor)"
   ]
  },
  {
   "cell_type": "code",
   "execution_count": 168,
   "id": "purple-training",
   "metadata": {},
   "outputs": [],
   "source": [
    "SampleC = data.frame(brewer.pal(9, \"Paired\")[c(2,7,6,4)], \n",
    "                     c('islet4', \"islet5\", 'scATAC_islet7453', 'scATAC_islet4807_4000'))"
   ]
  },
  {
   "cell_type": "code",
   "execution_count": 171,
   "id": "asian-detector",
   "metadata": {},
   "outputs": [
    {
     "data": {
      "text/html": [
       "'/nfs/lab/projects/islet_cytok/analysis/snATAC/peaks'"
      ],
      "text/latex": [
       "'/nfs/lab/projects/islet\\_cytok/analysis/snATAC/peaks'"
      ],
      "text/markdown": [
       "'/nfs/lab/projects/islet_cytok/analysis/snATAC/peaks'"
      ],
      "text/plain": [
       "[1] \"/nfs/lab/projects/islet_cytok/analysis/snATAC/peaks\""
      ]
     },
     "metadata": {},
     "output_type": "display_data"
    }
   ],
   "source": [
    "getwd()"
   ]
  },
  {
   "cell_type": "code",
   "execution_count": 173,
   "id": "emerging-brave",
   "metadata": {},
   "outputs": [
    {
     "data": {
      "text/html": [
       "<strong>png:</strong> 2"
      ],
      "text/latex": [
       "\\textbf{png:} 2"
      ],
      "text/markdown": [
       "**png:** 2"
      ],
      "text/plain": [
       "png \n",
       "  2 "
      ]
     },
     "metadata": {},
     "output_type": "display_data"
    }
   ],
   "source": [
    "png(\"../../cytokine_figures/UMAP_donors.png\", width = 2, height = 2, units = 'in', res = 300)\n",
    "par (mar=c(0,0,0,0))\n",
    "\n",
    "plot(UMAP2~UMAP1, names_list, pch = 16, \n",
    "     col = as.character(SampleC[,1])[match(names_list$donor, SampleC[,2])], cex=0.3, bty='o')\n",
    "dev.off()\n",
    "#legend(\"bottomleft\", pch=19, col = as.character(SampleC[,1]))"
   ]
  },
  {
   "cell_type": "code",
   "execution_count": 176,
   "id": "shared-walter",
   "metadata": {},
   "outputs": [
    {
     "data": {
      "text/html": [
       "<strong>png:</strong> 2"
      ],
      "text/latex": [
       "\\textbf{png:} 2"
      ],
      "text/markdown": [
       "**png:** 2"
      ],
      "text/plain": [
       "png \n",
       "  2 "
      ]
     },
     "metadata": {},
     "output_type": "display_data"
    }
   ],
   "source": [
    "pdf(\"../../cytokine_figures/samp_leg.pdf\")\n",
    "\n",
    "plot.new()\n",
    "legend(\"center\", pch=19, col = as.character(SampleC[,1]), legend= SampleC[,2])\n",
    "dev.off()"
   ]
  },
  {
   "cell_type": "code",
   "execution_count": 186,
   "id": "aboriginal-performer",
   "metadata": {},
   "outputs": [
    {
     "data": {
      "text/html": [
       "<strong>png:</strong> 2"
      ],
      "text/latex": [
       "\\textbf{png:} 2"
      ],
      "text/markdown": [
       "**png:** 2"
      ],
      "text/plain": [
       "png \n",
       "  2 "
      ]
     },
     "metadata": {},
     "output_type": "display_data"
    }
   ],
   "source": [
    "pdf(\"../../cytokine_figures/UMAP_donors_separated.pdf\")\n",
    "par (mfrow=c(2,2))\n",
    "for (x in 1:4){\n",
    "    sa = c('islet4','islet5',  'scATAC_islet7453','scATAC_islet4807_4000')[x]\n",
    "    main = c('islet3535', 'islet9245', 'islet7453', 'islet4807')[x]\n",
    "plot(UMAP2~UMAP1, names_list[names_list$donor==sa,], pch = 16, main=main,\n",
    "    # col = as.character(SampleC[,1])[match(names_list$donor[names_list$donor==sa], SampleC[,2])], \n",
    "     col = as.factor(names_list$treat[names_list$donor==sa]),\n",
    "     cex=0.3, bty='o')\n",
    "}\n",
    "    dev.off()\n"
   ]
  },
  {
   "cell_type": "code",
   "execution_count": 196,
   "id": "guided-tanzania",
   "metadata": {},
   "outputs": [],
   "source": [
    "ag = as.data.frame(table(names_list$samples, names_list$leiden))\n",
    "ag = ag[!grepl(\"-\", ag$Var1),]\n",
    "ag = spread(ag, key = Var2,value = Freq)"
   ]
  },
  {
   "cell_type": "code",
   "execution_count": 220,
   "id": "seven-organ",
   "metadata": {},
   "outputs": [
    {
     "data": {
      "text/html": [
       "<style>\n",
       ".list-inline {list-style: none; margin:0; padding: 0}\n",
       ".list-inline>li {display: inline-block}\n",
       ".list-inline>li:not(:last-child)::after {content: \"\\00b7\"; padding: 0 .5ex}\n",
       "</style>\n",
       "<ol class=list-inline><li>islet4_cyt</li><li>islet4_unt</li><li>islet5_cyt</li><li>islet5_unt</li><li>scATAC_islet4807_unt_4000</li><li>scATAC_islet7453_cyt</li><li>scATAC_islet7453_unt_500</li></ol>\n",
       "\n",
       "<details>\n",
       "\t<summary style=display:list-item;cursor:pointer>\n",
       "\t\t<strong>Levels</strong>:\n",
       "\t</summary>\n",
       "\t<style>\n",
       "\t.list-inline {list-style: none; margin:0; padding: 0}\n",
       "\t.list-inline>li {display: inline-block}\n",
       "\t.list-inline>li:not(:last-child)::after {content: \"\\00b7\"; padding: 0 .5ex}\n",
       "\t</style>\n",
       "\t<ol class=list-inline><li>'AMB-5_cyt'</li><li>'DBL-4_cyt'</li><li>'DBL-4_unt'</li><li>'DBL-5_cyt'</li><li>'DBL-5_unt'</li><li>'islet4_cyt'</li><li>'islet4_unt'</li><li>'islet5_cyt'</li><li>'islet5_unt'</li><li>'scATAC_islet4807_unt_4000'</li><li>'scATAC_islet7453_cyt'</li><li>'scATAC_islet7453_unt_500'</li></ol>\n",
       "</details>"
      ],
      "text/latex": [
       "\\begin{enumerate*}\n",
       "\\item islet4\\_cyt\n",
       "\\item islet4\\_unt\n",
       "\\item islet5\\_cyt\n",
       "\\item islet5\\_unt\n",
       "\\item scATAC\\_islet4807\\_unt\\_4000\n",
       "\\item scATAC\\_islet7453\\_cyt\n",
       "\\item scATAC\\_islet7453\\_unt\\_500\n",
       "\\end{enumerate*}\n",
       "\n",
       "\\emph{Levels}: \\begin{enumerate*}\n",
       "\\item 'AMB-5\\_cyt'\n",
       "\\item 'DBL-4\\_cyt'\n",
       "\\item 'DBL-4\\_unt'\n",
       "\\item 'DBL-5\\_cyt'\n",
       "\\item 'DBL-5\\_unt'\n",
       "\\item 'islet4\\_cyt'\n",
       "\\item 'islet4\\_unt'\n",
       "\\item 'islet5\\_cyt'\n",
       "\\item 'islet5\\_unt'\n",
       "\\item 'scATAC\\_islet4807\\_unt\\_4000'\n",
       "\\item 'scATAC\\_islet7453\\_cyt'\n",
       "\\item 'scATAC\\_islet7453\\_unt\\_500'\n",
       "\\end{enumerate*}\n"
      ],
      "text/markdown": [
       "1. islet4_cyt\n",
       "2. islet4_unt\n",
       "3. islet5_cyt\n",
       "4. islet5_unt\n",
       "5. scATAC_islet4807_unt_4000\n",
       "6. scATAC_islet7453_cyt\n",
       "7. scATAC_islet7453_unt_500\n",
       "\n",
       "\n",
       "\n",
       "**Levels**: 1. 'AMB-5_cyt'\n",
       "2. 'DBL-4_cyt'\n",
       "3. 'DBL-4_unt'\n",
       "4. 'DBL-5_cyt'\n",
       "5. 'DBL-5_unt'\n",
       "6. 'islet4_cyt'\n",
       "7. 'islet4_unt'\n",
       "8. 'islet5_cyt'\n",
       "9. 'islet5_unt'\n",
       "10. 'scATAC_islet4807_unt_4000'\n",
       "11. 'scATAC_islet7453_cyt'\n",
       "12. 'scATAC_islet7453_unt_500'\n",
       "\n",
       "\n"
      ],
      "text/plain": [
       "[1] islet4_cyt                islet4_unt               \n",
       "[3] islet5_cyt                islet5_unt               \n",
       "[5] scATAC_islet4807_unt_4000 scATAC_islet7453_cyt     \n",
       "[7] scATAC_islet7453_unt_500 \n",
       "12 Levels: AMB-5_cyt DBL-4_cyt DBL-4_unt DBL-5_cyt DBL-5_unt ... scATAC_islet7453_unt_500"
      ]
     },
     "metadata": {},
     "output_type": "display_data"
    }
   ],
   "source": [
    "ag$Var1"
   ]
  },
  {
   "cell_type": "code",
   "execution_count": 223,
   "id": "proof-juvenile",
   "metadata": {},
   "outputs": [],
   "source": [
    "coll = as.character(SampleC[c(1,1,2,2,4,3,3),1])"
   ]
  },
  {
   "cell_type": "code",
   "execution_count": 225,
   "id": "portuguese-stock",
   "metadata": {},
   "outputs": [],
   "source": [
    "cytunt = c(1,0,1,0,0,1,0)"
   ]
  },
  {
   "cell_type": "code",
   "execution_count": 233,
   "id": "careful-jimmy",
   "metadata": {},
   "outputs": [],
   "source": [
    "pct = t(t(ag[,-1])/colSums(ag[,-1]))"
   ]
  },
  {
   "cell_type": "code",
   "execution_count": 262,
   "id": "existing-hawaiian",
   "metadata": {},
   "outputs": [
    {
     "data": {
      "text/html": [
       "<strong>png:</strong> 2"
      ],
      "text/latex": [
       "\\textbf{png:} 2"
      ],
      "text/markdown": [
       "**png:** 2"
      ],
      "text/plain": [
       "png \n",
       "  2 "
      ]
     },
     "metadata": {},
     "output_type": "display_data"
    }
   ],
   "source": [
    "pdf(\"../../cytokine_figures/UMAP_donors_barplot.pdf\", height = 4, width = 4)\n",
    "par(mar = c(2,2,4,4), xpd=T)\n",
    "barplot(pct, col=coll)\n",
    "barplot(pct, density=c(0,20)[cytunt+1] , border=F, add=T, col=1)\n",
    "legend(\"right\", pch=15, col = as.character(SampleC[,1]), pt.cex=1.5,bty=\"n\",\n",
    "       legend= c('isl3535', 'isl9245', 'isl7453', 'isl4807'),inset=c(-0.3,0))\n",
    "legend(\"bottomright\",  density=c(20,0), legend=c('cyt', 'unt'),bty=\"n\",inset=c(-0.25,0.15))\n",
    "dev.off()"
   ]
  },
  {
   "cell_type": "code",
   "execution_count": 263,
   "id": "secure-salon",
   "metadata": {},
   "outputs": [],
   "source": [
    "ag2 = as.data.frame(table(names_list$donor, names_list$leiden))\n",
    "ag2 = ag2[!grepl(\"-\", ag2$Var1),]\n",
    "ag2 = spread(ag2, key = Var2,value = Freq)"
   ]
  },
  {
   "cell_type": "code",
   "execution_count": 267,
   "id": "superior-month",
   "metadata": {},
   "outputs": [],
   "source": [
    "pct2 = t(t(ag2[,-1])/colSums(ag2[,-1]))"
   ]
  },
  {
   "cell_type": "code",
   "execution_count": 265,
   "id": "restricted-organizer",
   "metadata": {},
   "outputs": [],
   "source": [
    "ag3 = as.data.frame(table(names_list$treat, names_list$leiden))\n",
    "ag3 = spread(ag3, key = Var2,value = Freq)"
   ]
  },
  {
   "cell_type": "code",
   "execution_count": 268,
   "id": "split-special",
   "metadata": {},
   "outputs": [],
   "source": [
    "pct3 = t(t(ag3[,-1])/colSums(ag3[,-1]))"
   ]
  },
  {
   "cell_type": "code",
   "execution_count": 274,
   "id": "double-brief",
   "metadata": {},
   "outputs": [
    {
     "data": {
      "text/html": [
       "<table class=\"dataframe\">\n",
       "<caption>A data.frame: 2 × 11</caption>\n",
       "<thead>\n",
       "\t<tr><th scope=col>Var1</th><th scope=col>0</th><th scope=col>1</th><th scope=col>2</th><th scope=col>3</th><th scope=col>4</th><th scope=col>5</th><th scope=col>6</th><th scope=col>7</th><th scope=col>8</th><th scope=col>9</th></tr>\n",
       "\t<tr><th scope=col>&lt;fct&gt;</th><th scope=col>&lt;int&gt;</th><th scope=col>&lt;int&gt;</th><th scope=col>&lt;int&gt;</th><th scope=col>&lt;int&gt;</th><th scope=col>&lt;int&gt;</th><th scope=col>&lt;int&gt;</th><th scope=col>&lt;int&gt;</th><th scope=col>&lt;int&gt;</th><th scope=col>&lt;int&gt;</th><th scope=col>&lt;int&gt;</th></tr>\n",
       "</thead>\n",
       "<tbody>\n",
       "\t<tr><td>cyt</td><td> 840</td><td>934</td><td>251</td><td>683</td><td>256</td><td>282</td><td>120</td><td>185</td><td>215</td><td>116</td></tr>\n",
       "\t<tr><td>unt</td><td>1063</td><td>858</td><td>390</td><td>472</td><td>285</td><td>286</td><td>207</td><td>136</td><td>147</td><td>103</td></tr>\n",
       "</tbody>\n",
       "</table>\n"
      ],
      "text/latex": [
       "A data.frame: 2 × 11\n",
       "\\begin{tabular}{lllllllllll}\n",
       " Var1 & 0 & 1 & 2 & 3 & 4 & 5 & 6 & 7 & 8 & 9\\\\\n",
       " <fct> & <int> & <int> & <int> & <int> & <int> & <int> & <int> & <int> & <int> & <int>\\\\\n",
       "\\hline\n",
       "\t cyt &  840 & 934 & 251 & 683 & 256 & 282 & 120 & 185 & 215 & 116\\\\\n",
       "\t unt & 1063 & 858 & 390 & 472 & 285 & 286 & 207 & 136 & 147 & 103\\\\\n",
       "\\end{tabular}\n"
      ],
      "text/markdown": [
       "\n",
       "A data.frame: 2 × 11\n",
       "\n",
       "| Var1 &lt;fct&gt; | 0 &lt;int&gt; | 1 &lt;int&gt; | 2 &lt;int&gt; | 3 &lt;int&gt; | 4 &lt;int&gt; | 5 &lt;int&gt; | 6 &lt;int&gt; | 7 &lt;int&gt; | 8 &lt;int&gt; | 9 &lt;int&gt; |\n",
       "|---|---|---|---|---|---|---|---|---|---|---|\n",
       "| cyt |  840 | 934 | 251 | 683 | 256 | 282 | 120 | 185 | 215 | 116 |\n",
       "| unt | 1063 | 858 | 390 | 472 | 285 | 286 | 207 | 136 | 147 | 103 |\n",
       "\n"
      ],
      "text/plain": [
       "  Var1 0    1   2   3   4   5   6   7   8   9  \n",
       "1 cyt   840 934 251 683 256 282 120 185 215 116\n",
       "2 unt  1063 858 390 472 285 286 207 136 147 103"
      ]
     },
     "metadata": {},
     "output_type": "display_data"
    }
   ],
   "source": [
    "ag3"
   ]
  },
  {
   "cell_type": "code",
   "execution_count": 273,
   "id": "exclusive-polyester",
   "metadata": {},
   "outputs": [
    {
     "data": {
      "text/html": [
       "<table class=\"dataframe\">\n",
       "<caption>A matrix: 2 × 10 of type dbl</caption>\n",
       "<thead>\n",
       "\t<tr><th scope=col>0</th><th scope=col>1</th><th scope=col>2</th><th scope=col>3</th><th scope=col>4</th><th scope=col>5</th><th scope=col>6</th><th scope=col>7</th><th scope=col>8</th><th scope=col>9</th></tr>\n",
       "</thead>\n",
       "<tbody>\n",
       "\t<tr><td>0.4414083</td><td>0.5212054</td><td>0.3915757</td><td>0.591342</td><td>0.4731978</td><td>0.4964789</td><td>0.3669725</td><td>0.576324</td><td>0.5939227</td><td>0.5296804</td></tr>\n",
       "\t<tr><td>0.5585917</td><td>0.4787946</td><td>0.6084243</td><td>0.408658</td><td>0.5268022</td><td>0.5035211</td><td>0.6330275</td><td>0.423676</td><td>0.4060773</td><td>0.4703196</td></tr>\n",
       "</tbody>\n",
       "</table>\n"
      ],
      "text/latex": [
       "A matrix: 2 × 10 of type dbl\n",
       "\\begin{tabular}{llllllllll}\n",
       " 0 & 1 & 2 & 3 & 4 & 5 & 6 & 7 & 8 & 9\\\\\n",
       "\\hline\n",
       "\t 0.4414083 & 0.5212054 & 0.3915757 & 0.591342 & 0.4731978 & 0.4964789 & 0.3669725 & 0.576324 & 0.5939227 & 0.5296804\\\\\n",
       "\t 0.5585917 & 0.4787946 & 0.6084243 & 0.408658 & 0.5268022 & 0.5035211 & 0.6330275 & 0.423676 & 0.4060773 & 0.4703196\\\\\n",
       "\\end{tabular}\n"
      ],
      "text/markdown": [
       "\n",
       "A matrix: 2 × 10 of type dbl\n",
       "\n",
       "| 0 | 1 | 2 | 3 | 4 | 5 | 6 | 7 | 8 | 9 |\n",
       "|---|---|---|---|---|---|---|---|---|---|\n",
       "| 0.4414083 | 0.5212054 | 0.3915757 | 0.591342 | 0.4731978 | 0.4964789 | 0.3669725 | 0.576324 | 0.5939227 | 0.5296804 |\n",
       "| 0.5585917 | 0.4787946 | 0.6084243 | 0.408658 | 0.5268022 | 0.5035211 | 0.6330275 | 0.423676 | 0.4060773 | 0.4703196 |\n",
       "\n"
      ],
      "text/plain": [
       "     0         1         2         3        4         5         6        \n",
       "[1,] 0.4414083 0.5212054 0.3915757 0.591342 0.4731978 0.4964789 0.3669725\n",
       "[2,] 0.5585917 0.4787946 0.6084243 0.408658 0.5268022 0.5035211 0.6330275\n",
       "     7        8         9        \n",
       "[1,] 0.576324 0.5939227 0.5296804\n",
       "[2,] 0.423676 0.4060773 0.4703196"
      ]
     },
     "metadata": {},
     "output_type": "display_data"
    }
   ],
   "source": [
    "pct3"
   ]
  },
  {
   "cell_type": "code",
   "execution_count": 277,
   "id": "attached-equation",
   "metadata": {},
   "outputs": [
    {
     "data": {
      "text/html": [
       "<strong>png:</strong> 2"
      ],
      "text/latex": [
       "\\textbf{png:} 2"
      ],
      "text/markdown": [
       "**png:** 2"
      ],
      "text/plain": [
       "png \n",
       "  2 "
      ]
     },
     "metadata": {},
     "output_type": "display_data"
    }
   ],
   "source": [
    "pdf(\"../../cytokine_figures/UMAP_donors_barplot_sep.pdf\")\n",
    "par(mfrow = c(2,2), xpd=T)\n",
    "barplot(pct2, col=as.character(SampleC[c(1,2,4,3),1]))\n",
    "legend(\"right\", pch=15, col = as.character(SampleC[,1]), pt.cex=1.5,bty=\"n\",\n",
    "       legend= c('isl3535', 'isl9245', 'isl7453', 'isl4807'),inset=c(-0.3,0))\n",
    "\n",
    "barplot(pct3, density=c(20,0) ,  col=1)\n",
    "legend(\"right\",  density=c(20,0), legend=c('cyt', 'unt'),bty=\"n\",inset=c(-0.22,0.15))\n",
    "dev.off()"
   ]
  },
  {
   "cell_type": "markdown",
   "id": "sufficient-luther",
   "metadata": {},
   "source": [
    "### Remake bam files and count matrices"
   ]
  },
  {
   "cell_type": "code",
   "execution_count": 49,
   "id": "ignored-beauty",
   "metadata": {},
   "outputs": [],
   "source": [
    "samples = c('islet4_cyt', 'islet4_unt','islet5_cyt', 'islet5_unt', 'scATAC_islet7453_cyt','scATAC_islet7453_unt_500' )\n",
    "sampdir = '/nfs/lab/elisha/islets/cytokine/new_islet/gaulton/peaks/gatsby/'\n",
    "newdir  = '/nfs/lab/projects/islet_cytok/analysis/snATAC/bams_demux/'"
   ]
  },
  {
   "cell_type": "code",
   "execution_count": 50,
   "id": "attractive-opportunity",
   "metadata": {},
   "outputs": [],
   "source": [
    "make_cluster_bam = function(s, celltypes, sampdir) {\n",
    "    \n",
    "    \n",
    "     system(paste0('mkdir -p ',newdir, s, '/cell_type_bam'))\n",
    "     setwd(paste0(newdir, s,'/cell_type_bam'))\n",
    "     d   = names_list$experiment[names_list$samples==s] [1]\n",
    "     bam = paste0(sampdir,  d, '/',  d, '.filt.rmdup.bam')\n",
    "     system(paste(\"samtools view -H\", bam ,\"> SAM_header\"))\n",
    "   \n",
    "    for (cell in celltypes) {\n",
    "        \n",
    "        barcodes = names_list$barcode[names_list$samples==s & names_list$cluster==cell]\n",
    "        writeLines(as.character(barcodes), cell)\n",
    "        system(paste('samtools view', bam , '| LC_ALL=C grep -F -f', cell , '> filtered_SAM_body'))\n",
    "        system(\"cat SAM_header filtered_SAM_body > filtered.sam\")\n",
    "        system(paste0(\"samtools view -b filtered.sam > \", s, \"_\",cell, \".bam\"))\n",
    "        system('rm filtered.sam filtered_SAM_body')\n",
    "        system(paste0(\"samtools index \", s, \"_\",cell, \".bam\"))\n",
    "}\n",
    "\n",
    "     \n",
    "}"
   ]
  },
  {
   "cell_type": "code",
   "execution_count": null,
   "id": "unlike-recorder",
   "metadata": {},
   "outputs": [
    {
     "data": {
      "text/html": [
       "<ol>\n",
       "\t<li>NULL</li>\n",
       "\t<li>NULL</li>\n",
       "\t<li>NULL</li>\n",
       "\t<li>NULL</li>\n",
       "\t<li>NULL</li>\n",
       "\t<li>NULL</li>\n",
       "</ol>\n"
      ],
      "text/latex": [
       "\\begin{enumerate}\n",
       "\\item NULL\n",
       "\\item NULL\n",
       "\\item NULL\n",
       "\\item NULL\n",
       "\\item NULL\n",
       "\\item NULL\n",
       "\\end{enumerate}\n"
      ],
      "text/markdown": [
       "1. NULL\n",
       "2. NULL\n",
       "3. NULL\n",
       "4. NULL\n",
       "5. NULL\n",
       "6. NULL\n",
       "\n",
       "\n"
      ],
      "text/plain": [
       "[[1]]\n",
       "NULL\n",
       "\n",
       "[[2]]\n",
       "NULL\n",
       "\n",
       "[[3]]\n",
       "NULL\n",
       "\n",
       "[[4]]\n",
       "NULL\n",
       "\n",
       "[[5]]\n",
       "NULL\n",
       "\n",
       "[[6]]\n",
       "NULL\n"
      ]
     },
     "metadata": {},
     "output_type": "display_data"
    }
   ],
   "source": [
    "setwd(sampdir)\n",
    "celltypes = cells\n",
    "mclapply(samples, function(x) make_cluster_bam(s=x, celltypes=celltypes, sampdir=sampdir ) , mc.cores = 32)  "
   ]
  },
  {
   "cell_type": "code",
   "execution_count": 55,
   "id": "arctic-vessel",
   "metadata": {},
   "outputs": [],
   "source": [
    "bamdir   = '/nfs/lab/projects/islet_cytok/analysis/snATAC/bams_demux/'\n",
    "outdir   = '/nfs/lab/projects/islet_cytok/analysis/snATAC/peaks/'\n",
    "saf      = '/nfs/lab/projects/islet_cytok/analysis/snATAC/peaks/Islet_bulkATAC.saf'"
   ]
  },
  {
   "cell_type": "code",
   "execution_count": 56,
   "id": "rental-patch",
   "metadata": {},
   "outputs": [],
   "source": [
    "featurecounts = function(c){\n",
    "\n",
    "count_matrix = paste0(outdir,  \"/\", c, '.count_matrix_demux')    \n",
    "bam = paste0(bamdir, samples, '/cell_type_bam/',samples, \"_\", c, \".bam\")\n",
    "gi  <-  paste(\"featureCounts -p -T 10 -F SAF --donotsort -a\" , saf, \"-o\",  count_matrix , \n",
    "                paste(bam,collapse=\" \"))\n",
    "system(gi)\n",
    "}\n"
   ]
  },
  {
   "cell_type": "code",
   "execution_count": 67,
   "id": "convertible-release",
   "metadata": {},
   "outputs": [
    {
     "data": {
      "text/html": [
       "<ol>\n",
       "\t<li>0</li>\n",
       "\t<li>0</li>\n",
       "\t<li>0</li>\n",
       "</ol>\n"
      ],
      "text/latex": [
       "\\begin{enumerate}\n",
       "\\item 0\n",
       "\\item 0\n",
       "\\item 0\n",
       "\\end{enumerate}\n"
      ],
      "text/markdown": [
       "1. 0\n",
       "2. 0\n",
       "3. 0\n",
       "\n",
       "\n"
      ],
      "text/plain": [
       "[[1]]\n",
       "[1] 0\n",
       "\n",
       "[[2]]\n",
       "[1] 0\n",
       "\n",
       "[[3]]\n",
       "[1] 0\n"
      ]
     },
     "metadata": {},
     "output_type": "display_data"
    }
   ],
   "source": [
    "mclapply(celltypes,featurecounts, mc.cores = 16 )"
   ]
  },
  {
   "cell_type": "markdown",
   "id": "orange-paste",
   "metadata": {},
   "source": [
    "### Run Deseq"
   ]
  },
  {
   "cell_type": "code",
   "execution_count": 4,
   "id": "rational-psychology",
   "metadata": {},
   "outputs": [],
   "source": [
    "setwd('/nfs/lab/projects/islet_cytok/analysis/snATAC/peaks/')"
   ]
  },
  {
   "cell_type": "code",
   "execution_count": 5,
   "id": "95ae005a",
   "metadata": {},
   "outputs": [],
   "source": [
    "celltypes = cells"
   ]
  },
  {
   "cell_type": "code",
   "execution_count": 6,
   "id": "ae88aa44",
   "metadata": {},
   "outputs": [],
   "source": [
    "for(ce in celltypes){\n",
    "\n",
    "TAB = read.table(paste0(ce, '.count_matrix_demux'), row.names=1, header=T)[,6:11]\n",
    "colnames(TAB) = c('isl3535_cyt', 'isl3535_unt','isl9245_cyt', 'isl9245_unt', \n",
    "                  'isl7453_cyt','isl7453_unt' )\n",
    "write.table(TAB, paste0(\"../../../geo_submission_oct21/processed_files/\", ce, \".snATAC_count.matrix.txt\")\n",
    "            , sep=\"\\t\", quote=F)\n",
    "    }"
   ]
  },
  {
   "cell_type": "code",
   "execution_count": 22,
   "id": "identical-stone",
   "metadata": {},
   "outputs": [
    {
     "name": "stderr",
     "output_type": "stream",
     "text": [
      "Warning message in DESeqDataSet(se, design = design, ignoreRank):\n",
      "“some variables in design formula are characters, converting to factors”\n",
      "estimating size factors\n",
      "\n",
      "estimating dispersions\n",
      "\n",
      "gene-wise dispersion estimates\n",
      "\n",
      "mean-dispersion relationship\n",
      "\n",
      "final dispersion estimates\n",
      "\n",
      "fitting model and testing\n",
      "\n",
      "Warning message in DESeqDataSet(se, design = design, ignoreRank):\n",
      "“some variables in design formula are characters, converting to factors”\n",
      "estimating size factors\n",
      "\n",
      "estimating dispersions\n",
      "\n",
      "gene-wise dispersion estimates\n",
      "\n",
      "mean-dispersion relationship\n",
      "\n",
      "-- note: fitType='parametric', but the dispersion trend was not well captured by the\n",
      "   function: y = a/x + b, and a local regression fit was automatically substituted.\n",
      "   specify fitType='local' or 'mean' to avoid this message next time.\n",
      "\n",
      "final dispersion estimates\n",
      "\n",
      "fitting model and testing\n",
      "\n"
     ]
    }
   ],
   "source": [
    "v = c()\n",
    "for(ce in celltypes[1:2]){\n",
    "\n",
    "TAB = read.table(paste0(ce, '.count_matrix_demux'), row.names=1, header=T)[,6:11]\n",
    "colnames(TAB) = c('isl4_cyt', 'isl4_unt','isl5_cyt', 'isl5_unt', \n",
    "                  'isl7453_cyt','isl7453_unt' )\n",
    "info = data.frame( sample = c('isl4', 'isl4', 'isl5', 'isl5','isl7453', 'isl7453'), \n",
    "                     treatment = rep(c(\"cyt\", \"unt\"), rep=3), names = colnames(TAB)) \n",
    "TAB = subset(TAB, rowMeans(TAB)>1 )    ### subset matrix for minimum average read of 1\n",
    "dds <-DESeqDataSetFromMatrix(TAB, colData = info, design = ~ sample + treatment)\n",
    "  \n",
    "dds     <- DESeq(dds)    \n",
    "res     <- results(dds, contrast=c(\"treatment\", \"cyt\", \"unt\")  )\n",
    "    v[ce]  = sum(res$padj <0.1, na.rm=T)\n",
    "    res     = res[order(res$pvalue),]\n",
    "    write.csv(res, paste0(ce, '.deseq_results_demux_final.csv') )  \n",
    "    }"
   ]
  },
  {
   "cell_type": "code",
   "execution_count": 8,
   "id": "9fa241a5",
   "metadata": {},
   "outputs": [
    {
     "data": {
      "text/html": [
       "<style>\n",
       ".dl-inline {width: auto; margin:0; padding: 0}\n",
       ".dl-inline>dt, .dl-inline>dd {float: none; width: auto; display: inline-block}\n",
       ".dl-inline>dt::after {content: \":\\0020\"; padding-right: .5ex}\n",
       ".dl-inline>dt:not(:first-of-type) {padding-left: .5ex}\n",
       "</style><dl class=dl-inline><dt>beta</dt><dd>2412</dd><dt>acinar</dt><dd>0</dd><dt>alpha</dt><dd>226</dd><dt>delta</dt><dd>10</dd><dt>endothelial</dt><dd>0</dd><dt>stellate</dt><dd>0</dd></dl>\n"
      ],
      "text/latex": [
       "\\begin{description*}\n",
       "\\item[beta] 2412\n",
       "\\item[acinar] 0\n",
       "\\item[alpha] 226\n",
       "\\item[delta] 10\n",
       "\\item[endothelial] 0\n",
       "\\item[stellate] 0\n",
       "\\end{description*}\n"
      ],
      "text/markdown": [
       "beta\n",
       ":   2412acinar\n",
       ":   0alpha\n",
       ":   226delta\n",
       ":   10endothelial\n",
       ":   0stellate\n",
       ":   0\n",
       "\n"
      ],
      "text/plain": [
       "       beta      acinar       alpha       delta endothelial    stellate \n",
       "       2412           0         226          10           0           0 "
      ]
     },
     "metadata": {},
     "output_type": "display_data"
    }
   ],
   "source": [
    "v"
   ]
  },
  {
   "cell_type": "code",
   "execution_count": 9,
   "id": "capable-swiss",
   "metadata": {},
   "outputs": [],
   "source": [
    "library(pheatmap)\n",
    "library(RColorBrewer)"
   ]
  },
  {
   "cell_type": "code",
   "execution_count": 10,
   "id": "latter-electric",
   "metadata": {},
   "outputs": [],
   "source": [
    "for(ce in cells){\n",
    "TAB = read.table(paste0(ce, '.count_matrix_demux'), row.names=1, header=T)[,6:11]\n",
    "if(ce == cells[1]) { tab= TAB}else{\n",
    "    tab= cbind(tab, TAB)}\n",
    "    }\n",
    "colnames(tab) = paste(rep(cells, each=6), c('isl4_cyt', 'isl4_unt','isl5_cyt', 'isl5_unt', \n",
    "                  'isl7453_cyt','isl7453_unt' ), sep=\"_\")"
   ]
  },
  {
   "cell_type": "code",
   "execution_count": 11,
   "id": "prospective-beach",
   "metadata": {},
   "outputs": [
    {
     "name": "stderr",
     "output_type": "stream",
     "text": [
      "Warning message in DESeqDataSet(se, design = design, ignoreRank):\n",
      "“some variables in design formula are characters, converting to factors”\n",
      "-- note: fitType='parametric', but the dispersion trend was not well captured by the\n",
      "   function: y = a/x + b, and a local regression fit was automatically substituted.\n",
      "   specify fitType='local' or 'mean' to avoid this message next time.\n",
      "\n"
     ]
    }
   ],
   "source": [
    "info = data.frame(cell   = rep(cells, each=6), \n",
    "                  sample = rep(c('isl4', 'isl4', 'isl5', 'isl5','isl7453', 'isl7453') ,6), \n",
    "                  treatment = rep(c(\"cyt\", \"unt\"), rep=18), names = colnames(tab))\n",
    "dds <-DESeqDataSetFromMatrix(tab, colData = info, design = ~ sample + treatment)\n",
    "vld <- vst(dds)\n"
   ]
  },
  {
   "cell_type": "code",
   "execution_count": 12,
   "id": "whole-leave",
   "metadata": {},
   "outputs": [],
   "source": [
    "mat = assay(vld)"
   ]
  },
  {
   "cell_type": "code",
   "execution_count": 13,
   "id": "nutritional-detail",
   "metadata": {},
   "outputs": [],
   "source": [
    "beta =read.csv(\"beta.deseq_results_demux_final.csv\", row.names=1)"
   ]
  },
  {
   "cell_type": "code",
   "execution_count": 14,
   "id": "coastal-fellow",
   "metadata": {},
   "outputs": [],
   "source": [
    "alpha =read.csv(\"alpha.deseq_results_demux_final.csv\", row.names=1)\n",
    "delta =read.csv(\"delta.deseq_results_demux_final.csv\", row.names=1)"
   ]
  },
  {
   "cell_type": "code",
   "execution_count": 15,
   "id": "raised-connecticut",
   "metadata": {},
   "outputs": [],
   "source": [
    "acinar =read.csv(\"acinar.deseq_results_demux_final.csv\", row.names=1)\n",
    "endothelial =read.csv(\"endothelial.deseq_results_demux_final.csv\", row.names=1)\n",
    "stellate =read.csv(\"stellate.deseq_results_demux_final.csv\", row.names=1)"
   ]
  },
  {
   "cell_type": "code",
   "execution_count": 16,
   "id": "velvet-browse",
   "metadata": {},
   "outputs": [
    {
     "data": {
      "text/plain": [
       "       \n",
       "        FALSE  TRUE\n",
       "  FALSE 59150   131\n",
       "  TRUE  57509  2281"
      ]
     },
     "metadata": {},
     "output_type": "display_data"
    }
   ],
   "source": [
    "table(beta$log2FoldChange>0, beta$padj<0.1)"
   ]
  },
  {
   "cell_type": "code",
   "execution_count": 17,
   "id": "eight-chinese",
   "metadata": {},
   "outputs": [],
   "source": [
    "matd = subset(mat, rownames(mat) %in% c(rownames(beta)[beta$padj<0.1], \n",
    "                                        rownames(alpha)[alpha$padj<0.1],\n",
    "                                        rownames(delta)[delta$padj<0.1]   ))"
   ]
  },
  {
   "cell_type": "code",
   "execution_count": 18,
   "id": "pending-animal",
   "metadata": {},
   "outputs": [
    {
     "data": {
      "text/html": [
       "<style>\n",
       ".list-inline {list-style: none; margin:0; padding: 0}\n",
       ".list-inline>li {display: inline-block}\n",
       ".list-inline>li:not(:last-child)::after {content: \"\\00b7\"; padding: 0 .5ex}\n",
       "</style>\n",
       "<ol class=list-inline><li>2464</li><li>36</li></ol>\n"
      ],
      "text/latex": [
       "\\begin{enumerate*}\n",
       "\\item 2464\n",
       "\\item 36\n",
       "\\end{enumerate*}\n"
      ],
      "text/markdown": [
       "1. 2464\n",
       "2. 36\n",
       "\n",
       "\n"
      ],
      "text/plain": [
       "[1] 2464   36"
      ]
     },
     "metadata": {},
     "output_type": "display_data"
    }
   ],
   "source": [
    "dim(matd)"
   ]
  },
  {
   "cell_type": "code",
   "execution_count": 19,
   "id": "flush-cooler",
   "metadata": {},
   "outputs": [],
   "source": [
    "annot = info[,1:3]\n",
    "rownames(annot)  = info$names\n",
    "colnames(annot) = c(\"Celltype\", \"Sample\", \"Treatment\")\n",
    "Celltype           = c('#33A02C', '#A6CEE3',  '#FF7F00', '#E7298A', '#666666', '#CAB2D6')\n",
    "names(Celltype)    = cells\n",
    "\n",
    "Sample = brewer.pal(9, \"Paired\")[c(2,7,6)]\n",
    "names(Sample )   = c('isl4', \"isl5\", 'isl7453')\n",
    "\n",
    "Treatment = brewer.pal(9, \"Paired\")[3:4]\n",
    "names(Treatment )   = c('cyt', 'unt')\n",
    "\n",
    "annocol = list(Celltype = Celltype, Sample = Sample, Treatment = Treatment)"
   ]
  },
  {
   "cell_type": "code",
   "execution_count": 20,
   "id": "effective-sunrise",
   "metadata": {},
   "outputs": [],
   "source": [
    "hcol = colorRampPalette(brewer.pal(9, \"PuOr\"))(50)"
   ]
  },
  {
   "cell_type": "code",
   "execution_count": 21,
   "id": "toxic-overview",
   "metadata": {},
   "outputs": [],
   "source": [
    "pheatmap(matd, annotation_col = annot, show_rownames = F, show_colnames = F, treeheight_row = F,\n",
    "         annotation_colors = annocol,cellwidth = 10, cellheight = 0.1,\n",
    "         file = \"/nfs/lab/projects/islet_cytok/analysis/cytokine_figures/Heatmap_2464DAC_demux2.png\",\n",
    "         scale=\"row\", col=hcol, )"
   ]
  },
  {
   "cell_type": "markdown",
   "id": "pretty-charm",
   "metadata": {},
   "source": [
    "### Compare with the bulk differential"
   ]
  },
  {
   "cell_type": "code",
   "execution_count": 10,
   "id": "exclusive-increase",
   "metadata": {},
   "outputs": [],
   "source": [
    "cyt = read.table('../../deseq_ATAC_NEW/cytokine_24hr_Hi.dec16.filtered.txt')\n",
    "cyt = cyt[order(cyt$pvalue),]\n",
    "rownames(cyt) = gsub(\"peak-\",\"\", rownames(cyt))"
   ]
  },
  {
   "cell_type": "code",
   "execution_count": 96,
   "id": "progressive-metropolitan",
   "metadata": {},
   "outputs": [],
   "source": [
    "mat2 = mat"
   ]
  },
  {
   "cell_type": "code",
   "execution_count": 18,
   "id": "unlikely-venture",
   "metadata": {},
   "outputs": [],
   "source": [
    "rownames(mat2) = gsub(\":\", \"-\", rownames(mat))"
   ]
  },
  {
   "cell_type": "code",
   "execution_count": 98,
   "id": "political-swedish",
   "metadata": {},
   "outputs": [],
   "source": [
    "matd2 = mat2[rownames(cyt)[cyt$padj<0.1] ,]"
   ]
  },
  {
   "cell_type": "code",
   "execution_count": 99,
   "id": "superior-branch",
   "metadata": {
    "scrolled": true
   },
   "outputs": [
    {
     "data": {
      "image/png": "[encoded data removed]",
      "text/plain": [
       "plot without title"
      ]
     },
     "metadata": {
      "image/png": {
       "height": 420,
       "width": 420
      }
     },
     "output_type": "display_data"
    }
   ],
   "source": [
    "pheatmap(matd2[1:200,], annotation_col = annot, show_rownames = F, \n",
    "         show_colnames = F, \n",
    "         treeheight_row = F,\n",
    "         cellwidth = 10, cellheight = 1,\n",
    "         annotation_colors = annocol,\n",
    "         scale=\"row\", col=hcol, )"
   ]
  },
  {
   "cell_type": "markdown",
   "id": "nasty-aquarium",
   "metadata": {},
   "source": [
    "Identify differential sites in beta that are obscured in bulk"
   ]
  },
  {
   "cell_type": "markdown",
   "id": "adverse-moment",
   "metadata": {},
   "source": [
    "Evaluate effects in cell types (beta) -- log2FC?"
   ]
  },
  {
   "cell_type": "code",
   "execution_count": 11,
   "id": "distributed-exemption",
   "metadata": {},
   "outputs": [],
   "source": [
    "rownames(beta) = gsub(\":\", \"-\", rownames(beta))"
   ]
  },
  {
   "cell_type": "code",
   "execution_count": 31,
   "id": "homeless-prerequisite",
   "metadata": {},
   "outputs": [],
   "source": [
    "rownames(alpha) = gsub(\":\", \"-\", rownames(alpha))"
   ]
  },
  {
   "cell_type": "code",
   "execution_count": 87,
   "id": "nervous-agriculture",
   "metadata": {},
   "outputs": [],
   "source": [
    "me = merge(cyt[,c(1,2,6)], beta[,c(1,2,6)], by=\"row.names\")"
   ]
  },
  {
   "cell_type": "code",
   "execution_count": 88,
   "id": "cheap-alliance",
   "metadata": {},
   "outputs": [
    {
     "data": {
      "text/html": [
       "2412"
      ],
      "text/latex": [
       "2412"
      ],
      "text/markdown": [
       "2412"
      ],
      "text/plain": [
       "[1] 2412"
      ]
     },
     "metadata": {},
     "output_type": "display_data"
    }
   ],
   "source": [
    "sum(beta$padj<0.1, na.rm=T)"
   ]
  },
  {
   "cell_type": "code",
   "execution_count": 89,
   "id": "developing-certification",
   "metadata": {},
   "outputs": [
    {
     "data": {
      "text/plain": [
       "       \n",
       "        FALSE  TRUE\n",
       "  FALSE 91234    24\n",
       "  TRUE  25425  2388"
      ]
     },
     "metadata": {},
     "output_type": "display_data"
    }
   ],
   "source": [
    "table(me$padj.x<0.1, me$padj.y<0.1)"
   ]
  },
  {
   "cell_type": "markdown",
   "id": "residential-laptop",
   "metadata": {},
   "source": [
    " 24 were specific to beta"
   ]
  },
  {
   "cell_type": "code",
   "execution_count": 90,
   "id": "governing-might",
   "metadata": {},
   "outputs": [],
   "source": [
    "su = subset(me, padj.x<0.1 | padj.y<0.1)\n",
    "su[is.na(su[,7]),7]<-1\n",
    "su[is.na(su[,4]),4]<-1\n",
    "su$col = as.factor(paste0(as.numeric(su[,4]<0.1), as.numeric(su[,7]<0.1)))\n",
    "su=su[order(-su[,7]),]\n",
    "col3=c(\"red3\", \"gray\", \"#253494\")\n"
   ]
  },
  {
   "cell_type": "code",
   "execution_count": 71,
   "id": "wound-mouth",
   "metadata": {},
   "outputs": [
    {
     "data": {
      "text/html": [
       "<strong>png:</strong> 2"
      ],
      "text/latex": [
       "\\textbf{png:} 2"
      ],
      "text/markdown": [
       "**png:** 2"
      ],
      "text/plain": [
       "png \n",
       "  2 "
      ]
     },
     "metadata": {},
     "output_type": "display_data"
    }
   ],
   "source": [
    "png(\"/nfs/lab/projects/islet_cytok/analysis/cytokine_figures/scatterplot_deseq_betacells.png\",width = 3, height = 3, units = 'in', res = 300)\n",
    "par(mar=c(0,0,0,0))\n",
    "plot(su$log2FoldChange.x,su$log2FoldChange.y, col =col3[as.numeric(su$col)] , cex=0.5,\n",
    "     xlab=\"Bulk log2FC\", ylab=\"Beta log2FC\", axes=F)\n",
    "dev.off()"
   ]
  },
  {
   "cell_type": "code",
   "execution_count": 72,
   "id": "educated-batman",
   "metadata": {},
   "outputs": [
    {
     "data": {
      "text/html": [
       "<strong>png:</strong> 2"
      ],
      "text/latex": [
       "\\textbf{png:} 2"
      ],
      "text/markdown": [
       "**png:** 2"
      ],
      "text/plain": [
       "png \n",
       "  2 "
      ]
     },
     "metadata": {},
     "output_type": "display_data"
    }
   ],
   "source": [
    "pdf(\"/nfs/lab/projects/islet_cytok/analysis/cytokine_figures/scatterplot_deseq_betacells.pdf\")\n",
    "plot(su$log2FoldChange.x,su$log2FoldChange.y, col =col3[as.numeric(su$col)] , \n",
    "     xlab=\"Bulk log2FC\", ylab=\"Beta log2FC\", pch=\"\")\n",
    "abline(h=0, v=0, col=\"gray\")\n",
    "legend(\"topleft\", col=col3, pch=19, legend=c(\"only beta\", \"only bulk\",\"both\"))\n",
    "dev.off()"
   ]
  },
  {
   "cell_type": "code",
   "execution_count": 75,
   "id": "brief-nurse",
   "metadata": {},
   "outputs": [
    {
     "data": {
      "text/plain": [
       "\n",
       "   01    10    11 \n",
       "   24 32557  2388 "
      ]
     },
     "metadata": {},
     "output_type": "display_data"
    }
   ],
   "source": [
    "table(su$col)"
   ]
  },
  {
   "cell_type": "code",
   "execution_count": 26,
   "id": "charming-technical",
   "metadata": {},
   "outputs": [],
   "source": [
    "bed = str_split_fixed(su[su$padj.y<0.1 & su$log2FoldChange.y>0,1], \"\\\\-\",3)\n",
    "write.table(bed, \"homer_beta_v2/Beta_diffUP.bed\", col.names=F,row.names=F, quote=F, sep=\"\\t\")"
   ]
  },
  {
   "cell_type": "code",
   "execution_count": 27,
   "id": "federal-overhead",
   "metadata": {},
   "outputs": [],
   "source": [
    "bed = str_split_fixed(su[su$padj.y<0.1 & su$log2FoldChange.y<0,1], \"\\\\-\",3)\n",
    "write.table(bed, \"homer_beta_v2/Beta_diffDOWN.bed\", col.names=F,row.names=F, quote=F, sep=\"\\t\")"
   ]
  },
  {
   "cell_type": "code",
   "execution_count": 28,
   "id": "exceptional-trustee",
   "metadata": {},
   "outputs": [],
   "source": [
    "run_homer = function(bedfile, outdir, bgfile )\n",
    "{\n",
    "    system(paste ('findMotifsGenome.pl', bedfile, '/nfs/lab/KG/ref/male.masked.hg19.fa', \n",
    "       outdir,  '-bg', bgfile,  '-nomotif' ))\n",
    "}"
   ]
  },
  {
   "cell_type": "code",
   "execution_count": 29,
   "id": "sound-aaron",
   "metadata": {},
   "outputs": [],
   "source": [
    "run_homer(bedfile = paste0(getwd(),\"/homer_beta_v2/Beta_diffUP.bed\"),\n",
    "          outdir  = paste0(getwd(),\"/homer_beta_v2/beta_spec.up\"),\n",
    "          bgfile  = paste0(getwd(),\"/homer_beta/all.up.bed\"))"
   ]
  },
  {
   "cell_type": "code",
   "execution_count": 30,
   "id": "coordinated-hardware",
   "metadata": {},
   "outputs": [],
   "source": [
    "run_homer(bedfile = paste0(getwd(),\"/homer_beta_v2/Beta_diffDOWN.bed\"),\n",
    "          outdir  = paste0(getwd(),\"/homer_beta_v2/beta_spec.down\"),\n",
    "          bgfile  = paste0(getwd(),\"/homer_beta/all.down.bed\"))"
   ]
  },
  {
   "cell_type": "markdown",
   "id": "excessive-faith",
   "metadata": {},
   "source": [
    "Effects are similar-"
   ]
  },
  {
   "cell_type": "code",
   "execution_count": 91,
   "id": "adequate-right",
   "metadata": {},
   "outputs": [],
   "source": [
    "su2 = subset(me, padj.x<0.1 & padj.y<0.1)"
   ]
  },
  {
   "cell_type": "code",
   "execution_count": 74,
   "id": "collectible-metabolism",
   "metadata": {},
   "outputs": [
    {
     "data": {
      "text/html": [
       "<strong>png:</strong> 2"
      ],
      "text/latex": [
       "\\textbf{png:} 2"
      ],
      "text/markdown": [
       "**png:** 2"
      ],
      "text/plain": [
       "png \n",
       "  2 "
      ]
     },
     "metadata": {},
     "output_type": "display_data"
    }
   ],
   "source": [
    "pdf(\"/nfs/lab/projects/islet_cytok/analysis/cytokine_figures/densityeffects.pdf\")\n",
    "par(pin=c(2,1))\n",
    "plot(density(su2$log2FoldChange.x), xlim=c(-4,8))\n",
    "lines(density(su2$log2FoldChange.y), col=\"red\")\n",
    "dev.off()"
   ]
  },
  {
   "cell_type": "code",
   "execution_count": 96,
   "id": "frequent-bachelor",
   "metadata": {},
   "outputs": [
    {
     "data": {
      "text/plain": [
       "\n",
       "\tWilcoxon signed rank test with continuity correction\n",
       "\n",
       "data:  abs(su2$log2FoldChange.x) and abs(su2$log2FoldChange.y)\n",
       "V = 65077, p-value < 2.2e-16\n",
       "alternative hypothesis: true location shift is not equal to 0\n"
      ]
     },
     "metadata": {},
     "output_type": "display_data"
    }
   ],
   "source": [
    "wilcox.test(abs(su2$log2FoldChange.x),abs(su2$log2FoldChange.y), paired=T)"
   ]
  },
  {
   "cell_type": "code",
   "execution_count": 24,
   "id": "attractive-lexington",
   "metadata": {},
   "outputs": [
    {
     "data": {
      "text/html": [
       "<table class=\"dataframe\">\n",
       "<caption>A data.frame: 6 × 6</caption>\n",
       "<thead>\n",
       "\t<tr><th></th><th scope=col>baseMean</th><th scope=col>log2FoldChange</th><th scope=col>lfcSE</th><th scope=col>stat</th><th scope=col>pvalue</th><th scope=col>padj</th></tr>\n",
       "\t<tr><th></th><th scope=col>&lt;dbl&gt;</th><th scope=col>&lt;dbl&gt;</th><th scope=col>&lt;dbl&gt;</th><th scope=col>&lt;dbl&gt;</th><th scope=col>&lt;dbl&gt;</th><th scope=col>&lt;dbl&gt;</th></tr>\n",
       "</thead>\n",
       "<tbody>\n",
       "\t<tr><th scope=row>chr5-131813055-131815697</th><td>110.46693</td><td>3.642718</td><td>0.3308684</td><td>11.009567</td><td>3.436522e-28</td><td>4.091902e-23</td></tr>\n",
       "\t<tr><th scope=row>chr5-131815845-131817201</th><td> 70.89374</td><td>4.478056</td><td>0.4526906</td><td> 9.892089</td><td>4.505288e-23</td><td>2.682246e-18</td></tr>\n",
       "\t<tr><th scope=row>chr17-74488515-74489821</th><td> 64.91057</td><td>3.340552</td><td>0.3827038</td><td> 8.728817</td><td>2.573499e-18</td><td>1.021430e-13</td></tr>\n",
       "\t<tr><th scope=row>chr8-56918890-56919885</th><td> 55.38153</td><td>3.295231</td><td>0.4104035</td><td> 8.029246</td><td>9.807329e-16</td><td>2.919421e-11</td></tr>\n",
       "\t<tr><th scope=row>chr14-100796710-100799927</th><td>356.03773</td><td>1.176443</td><td>0.1476173</td><td> 7.969546</td><td>1.592583e-15</td><td>3.706730e-11</td></tr>\n",
       "\t<tr><th scope=row>chr12-92945491-92946465</th><td> 69.95783</td><td>2.805050</td><td>0.3528445</td><td> 7.949820</td><td>1.867825e-15</td><td>3.706730e-11</td></tr>\n",
       "</tbody>\n",
       "</table>\n"
      ],
      "text/latex": [
       "A data.frame: 6 × 6\n",
       "\\begin{tabular}{r|llllll}\n",
       "  & baseMean & log2FoldChange & lfcSE & stat & pvalue & padj\\\\\n",
       "  & <dbl> & <dbl> & <dbl> & <dbl> & <dbl> & <dbl>\\\\\n",
       "\\hline\n",
       "\tchr5-131813055-131815697 & 110.46693 & 3.642718 & 0.3308684 & 11.009567 & 3.436522e-28 & 4.091902e-23\\\\\n",
       "\tchr5-131815845-131817201 &  70.89374 & 4.478056 & 0.4526906 &  9.892089 & 4.505288e-23 & 2.682246e-18\\\\\n",
       "\tchr17-74488515-74489821 &  64.91057 & 3.340552 & 0.3827038 &  8.728817 & 2.573499e-18 & 1.021430e-13\\\\\n",
       "\tchr8-56918890-56919885 &  55.38153 & 3.295231 & 0.4104035 &  8.029246 & 9.807329e-16 & 2.919421e-11\\\\\n",
       "\tchr14-100796710-100799927 & 356.03773 & 1.176443 & 0.1476173 &  7.969546 & 1.592583e-15 & 3.706730e-11\\\\\n",
       "\tchr12-92945491-92946465 &  69.95783 & 2.805050 & 0.3528445 &  7.949820 & 1.867825e-15 & 3.706730e-11\\\\\n",
       "\\end{tabular}\n"
      ],
      "text/markdown": [
       "\n",
       "A data.frame: 6 × 6\n",
       "\n",
       "| <!--/--> | baseMean &lt;dbl&gt; | log2FoldChange &lt;dbl&gt; | lfcSE &lt;dbl&gt; | stat &lt;dbl&gt; | pvalue &lt;dbl&gt; | padj &lt;dbl&gt; |\n",
       "|---|---|---|---|---|---|---|\n",
       "| chr5-131813055-131815697 | 110.46693 | 3.642718 | 0.3308684 | 11.009567 | 3.436522e-28 | 4.091902e-23 |\n",
       "| chr5-131815845-131817201 |  70.89374 | 4.478056 | 0.4526906 |  9.892089 | 4.505288e-23 | 2.682246e-18 |\n",
       "| chr17-74488515-74489821 |  64.91057 | 3.340552 | 0.3827038 |  8.728817 | 2.573499e-18 | 1.021430e-13 |\n",
       "| chr8-56918890-56919885 |  55.38153 | 3.295231 | 0.4104035 |  8.029246 | 9.807329e-16 | 2.919421e-11 |\n",
       "| chr14-100796710-100799927 | 356.03773 | 1.176443 | 0.1476173 |  7.969546 | 1.592583e-15 | 3.706730e-11 |\n",
       "| chr12-92945491-92946465 |  69.95783 | 2.805050 | 0.3528445 |  7.949820 | 1.867825e-15 | 3.706730e-11 |\n",
       "\n"
      ],
      "text/plain": [
       "                          baseMean  log2FoldChange lfcSE     stat     \n",
       "chr5-131813055-131815697  110.46693 3.642718       0.3308684 11.009567\n",
       "chr5-131815845-131817201   70.89374 4.478056       0.4526906  9.892089\n",
       "chr17-74488515-74489821    64.91057 3.340552       0.3827038  8.728817\n",
       "chr8-56918890-56919885     55.38153 3.295231       0.4104035  8.029246\n",
       "chr14-100796710-100799927 356.03773 1.176443       0.1476173  7.969546\n",
       "chr12-92945491-92946465    69.95783 2.805050       0.3528445  7.949820\n",
       "                          pvalue       padj        \n",
       "chr5-131813055-131815697  3.436522e-28 4.091902e-23\n",
       "chr5-131815845-131817201  4.505288e-23 2.682246e-18\n",
       "chr17-74488515-74489821   2.573499e-18 1.021430e-13\n",
       "chr8-56918890-56919885    9.807329e-16 2.919421e-11\n",
       "chr14-100796710-100799927 1.592583e-15 3.706730e-11\n",
       "chr12-92945491-92946465   1.867825e-15 3.706730e-11"
      ]
     },
     "metadata": {},
     "output_type": "display_data"
    }
   ],
   "source": [
    "head(beta)"
   ]
  },
  {
   "cell_type": "markdown",
   "id": "based-basics",
   "metadata": {},
   "source": [
    "### Compare the effects between alpha and beta cells"
   ]
  },
  {
   "cell_type": "code",
   "execution_count": 78,
   "id": "laughing-badge",
   "metadata": {},
   "outputs": [
    {
     "data": {
      "text/plain": [
       "       \n",
       "        FALSE  TRUE\n",
       "  FALSE 69253  1478\n",
       "  TRUE     46   174"
      ]
     },
     "metadata": {},
     "output_type": "display_data"
    }
   ],
   "source": [
    "me = merge(alpha[,c(1,2,6)], beta[,c(1,2,6)], by=\"row.names\")\n",
    "table(me$padj.x<0.1, me$padj.y<0.1)"
   ]
  },
  {
   "cell_type": "code",
   "execution_count": 79,
   "id": "confident-great",
   "metadata": {},
   "outputs": [],
   "source": [
    "su = subset(me, padj.x<0.1 | padj.y<0.1)\n",
    "su[is.na(su[,7]),7]<-1\n",
    "su[is.na(su[,4]),4]<-1\n",
    "su$col = as.factor(paste0(as.numeric(su[,4]<0.1), as.numeric(su[,7]<0.1)))\n",
    "su=su[order(-su[,7]),]\n",
    "\n"
   ]
  },
  {
   "cell_type": "code",
   "execution_count": 55,
   "id": "banned-delivery",
   "metadata": {},
   "outputs": [],
   "source": [
    "col3=c(\"red3\", \"goldenrod1\", \"#253494\")"
   ]
  },
  {
   "cell_type": "code",
   "execution_count": 63,
   "id": "placed-capitol",
   "metadata": {},
   "outputs": [
    {
     "data": {
      "text/html": [
       "<strong>png:</strong> 2"
      ],
      "text/latex": [
       "\\textbf{png:} 2"
      ],
      "text/markdown": [
       "**png:** 2"
      ],
      "text/plain": [
       "png \n",
       "  2 "
      ]
     },
     "metadata": {},
     "output_type": "display_data"
    }
   ],
   "source": [
    "png(\"/nfs/lab/projects/islet_cytok/analysis/cytokine_figures/scatterplot_deseq_beta_alpha_cells.png\",width = 3, height = 3, units = 'in', res = 300)\n",
    "par(mar=c(0,0,0,0))\n",
    "plot(su$log2FoldChange.x,su$log2FoldChange.y, col =col3[as.numeric(su$col)] , cex=0.5,pch=19,\n",
    "     xlab=\"Bulk log2FC\", ylab=\"Beta log2FC\", axes=F)\n",
    "dev.off()"
   ]
  },
  {
   "cell_type": "code",
   "execution_count": 64,
   "id": "technical-springfield",
   "metadata": {},
   "outputs": [
    {
     "data": {
      "text/html": [
       "<strong>png:</strong> 2"
      ],
      "text/latex": [
       "\\textbf{png:} 2"
      ],
      "text/markdown": [
       "**png:** 2"
      ],
      "text/plain": [
       "png \n",
       "  2 "
      ]
     },
     "metadata": {},
     "output_type": "display_data"
    }
   ],
   "source": [
    "pdf(\"/nfs/lab/projects/islet_cytok/analysis/cytokine_figures/scatterplot_deseq_beta_alpha_cells.pdf\")\n",
    "plot(su$log2FoldChange.x,su$log2FoldChange.y, col =col3[as.numeric(su$col)] , \n",
    "     xlab=\"Bulk log2FC\", ylab=\"Beta log2FC\", pch=\"\")\n",
    "abline(h=0, v=0, col=\"gray\")\n",
    "legend(\"topleft\", col=col3, pch=19, legend=c(\"only beta\", \"only alpha\",\"both\"))\n",
    "dev.off()"
   ]
  },
  {
   "cell_type": "code",
   "execution_count": 80,
   "id": "cellular-ranking",
   "metadata": {},
   "outputs": [
    {
     "data": {
      "text/plain": [
       "\n",
       "\tSpearman's rank correlation rho\n",
       "\n",
       "data:  su$log2FoldChange.x and su$log2FoldChange.y\n",
       "S = 768444510, p-value < 2.2e-16\n",
       "alternative hypothesis: true rho is not equal to 0\n",
       "sample estimates:\n",
       "      rho \n",
       "0.6902877 \n"
      ]
     },
     "metadata": {},
     "output_type": "display_data"
    }
   ],
   "source": [
    "cor.test(su$log2FoldChange.x,su$log2FoldChange.y, method = \"spearman\")"
   ]
  },
  {
   "cell_type": "code",
   "execution_count": 67,
   "id": "authorized-origin",
   "metadata": {},
   "outputs": [
    {
     "data": {
      "text/html": [
       "<strong>png:</strong> 2"
      ],
      "text/latex": [
       "\\textbf{png:} 2"
      ],
      "text/markdown": [
       "**png:** 2"
      ],
      "text/plain": [
       "png \n",
       "  2 "
      ]
     },
     "metadata": {},
     "output_type": "display_data"
    }
   ],
   "source": [
    "pdf(\"/nfs/lab/projects/islet_cytok/analysis/cytokine_figures/densityeffects_beta_alpha.pdf\")\n",
    "par(pin=c(2,1), mfrow=c(2,2))\n",
    "plot(density(su$log2FoldChange.x), xlim=c(-4,8), col=\"goldenrod1\")\n",
    "lines(density(su$log2FoldChange.y), col=\"red\")\n",
    "plot(density(su$log2FoldChange.x[su$col=='11']), xlim=c(-4,8), col=\"goldenrod1\")\n",
    "lines(density(su$log2FoldChange.y[su$col=='11']), col=\"red\")\n",
    "dev.off()"
   ]
  },
  {
   "cell_type": "code",
   "execution_count": 65,
   "id": "respected-charter",
   "metadata": {},
   "outputs": [
    {
     "data": {
      "text/plain": [
       "\n",
       "  01   10   11 \n",
       "2234   52  174 "
      ]
     },
     "metadata": {},
     "output_type": "display_data"
    }
   ],
   "source": [
    "table(su$col)"
   ]
  },
  {
   "cell_type": "code",
   "execution_count": 85,
   "id": "distributed-coverage",
   "metadata": {},
   "outputs": [
    {
     "data": {
      "text/html": [
       "1.1471611641585e-255"
      ],
      "text/latex": [
       "1.1471611641585e-255"
      ],
      "text/markdown": [
       "1.1471611641585e-255"
      ],
      "text/plain": [
       "[1] 1.147161e-255"
      ]
     },
     "metadata": {},
     "output_type": "display_data"
    }
   ],
   "source": [
    "wilcox.test(abs(su$log2FoldChange.x), abs(su$log2FoldChange.y), paired=T)$p.value"
   ]
  },
  {
   "cell_type": "code",
   "execution_count": 86,
   "id": "attractive-wagon",
   "metadata": {},
   "outputs": [
    {
     "data": {
      "text/html": [
       "0.000891583896632483"
      ],
      "text/latex": [
       "0.000891583896632483"
      ],
      "text/markdown": [
       "0.000891583896632483"
      ],
      "text/plain": [
       "[1] 0.0008915839"
      ]
     },
     "metadata": {},
     "output_type": "display_data"
    }
   ],
   "source": [
    "wilcox.test(abs(su$log2FoldChange.x[su$col=='11']), abs(su$log2FoldChange.y[su$col=='11']), paired=T)$p.value"
   ]
  },
  {
   "cell_type": "markdown",
   "id": "a0644535",
   "metadata": {},
   "source": [
    "### extra"
   ]
  },
  {
   "cell_type": "code",
   "execution_count": 1,
   "id": "2028554b",
   "metadata": {},
   "outputs": [],
   "source": [
    "setwd(\"/nfs/lab/projects/islet_cytok/analysis/snATAC/\")"
   ]
  },
  {
   "cell_type": "code",
   "execution_count": 36,
   "id": "f55e9007",
   "metadata": {},
   "outputs": [],
   "source": [
    "demux =read.table(\"barcode_and_cluster_demux.tsv\")"
   ]
  },
  {
   "cell_type": "code",
   "execution_count": 5,
   "id": "1df9ad9a",
   "metadata": {},
   "outputs": [],
   "source": [
    "ori = read.table('barcode_and_cluster_original.tsv')"
   ]
  },
  {
   "cell_type": "code",
   "execution_count": 7,
   "id": "d19fec99",
   "metadata": {},
   "outputs": [],
   "source": [
    "ori$donor = ori$experiment\n",
    "namevec =  setNames(object = demux$samples , nm = demux$X)\n",
    "ori[names(namevec),'donor'] <- namevec\n",
    "ori$donor[ori$donor %in% c(\"DBL-5_cyt\",'DBL-4_cyt', 'AMB-5_cyt', 'DBL-5_unt', 'DBL-4_unt')]<-\"unassigned\""
   ]
  },
  {
   "cell_type": "code",
   "execution_count": 20,
   "id": "6eb91c74",
   "metadata": {},
   "outputs": [
    {
     "data": {
      "text/plain": [
       "\n",
       "                    A0019                     C0025                     C0026 \n",
       "                     5160                      6551                      5660 \n",
       "               islet4_cyt                islet4_unt                islet5_cyt \n",
       "                     1387                       803                      1072 \n",
       "               islet5_unt scATAC_islet4807_unt_4000      scATAC_islet7453_cyt \n",
       "                      895                      1304                      1390 \n",
       " scATAC_islet7453_unt_500                unassigned \n",
       "                      905                        73 "
      ]
     },
     "metadata": {},
     "output_type": "display_data"
    }
   ],
   "source": [
    "table(ori$donor)"
   ]
  },
  {
   "cell_type": "code",
   "execution_count": null,
   "id": "601c6aba",
   "metadata": {},
   "outputs": [],
   "source": [
    "ori$donor = ori$experiment\n",
    "namevec =  setNames(object = demux$samples , nm = demux$X)\n",
    "ori[names(namevec),'donor'] <- namevec\n",
    "ori$donor[ori$donor %in% c(\"DBL-5_cyt\",'DBL-4_cyt', 'AMB-5_cyt', 'DBL-5_unt', 'DBL-4_unt')]<-\"unassigned\""
   ]
  },
  {
   "cell_type": "code",
   "execution_count": 37,
   "id": "734b2c76",
   "metadata": {},
   "outputs": [
    {
     "data": {
      "text/html": [
       "<style>\n",
       ".list-inline {list-style: none; margin:0; padding: 0}\n",
       ".list-inline>li {display: inline-block}\n",
       ".list-inline>li:not(:last-child)::after {content: \"\\00b7\"; padding: 0 .5ex}\n",
       "</style>\n",
       "<ol class=list-inline><li>'bc'</li><li>'X'</li><li>'leiden'</li><li>'cluster'</li><li>'UMAP1'</li><li>'UMAP2'</li><li>'unique_usable_reads'</li><li>'total_sequenced_reads'</li><li>'duplicated_reads'</li><li>'unique_mito_reads'</li><li>'reads_in_peaks'</li><li>'reads_in_promoters'</li><li>'tss_used'</li><li>'frac_reads_in_peaks'</li><li>'frac_reads_in_promoters'</li><li>'frac_promoters_used'</li><li>'frac_mito_reads'</li><li>'frac_duplicated_reads'</li><li>'experiment'</li><li>'log10_unique_usable_reads'</li><li>'n_counts'</li><li>'log_usable_counts'</li><li>'norm'</li><li>'subset'</li><li>'treat'</li><li>'treat2'</li><li>'barcode'</li><li>'bam'</li><li>'samples'</li></ol>\n"
      ],
      "text/latex": [
       "\\begin{enumerate*}\n",
       "\\item 'bc'\n",
       "\\item 'X'\n",
       "\\item 'leiden'\n",
       "\\item 'cluster'\n",
       "\\item 'UMAP1'\n",
       "\\item 'UMAP2'\n",
       "\\item 'unique\\_usable\\_reads'\n",
       "\\item 'total\\_sequenced\\_reads'\n",
       "\\item 'duplicated\\_reads'\n",
       "\\item 'unique\\_mito\\_reads'\n",
       "\\item 'reads\\_in\\_peaks'\n",
       "\\item 'reads\\_in\\_promoters'\n",
       "\\item 'tss\\_used'\n",
       "\\item 'frac\\_reads\\_in\\_peaks'\n",
       "\\item 'frac\\_reads\\_in\\_promoters'\n",
       "\\item 'frac\\_promoters\\_used'\n",
       "\\item 'frac\\_mito\\_reads'\n",
       "\\item 'frac\\_duplicated\\_reads'\n",
       "\\item 'experiment'\n",
       "\\item 'log10\\_unique\\_usable\\_reads'\n",
       "\\item 'n\\_counts'\n",
       "\\item 'log\\_usable\\_counts'\n",
       "\\item 'norm'\n",
       "\\item 'subset'\n",
       "\\item 'treat'\n",
       "\\item 'treat2'\n",
       "\\item 'barcode'\n",
       "\\item 'bam'\n",
       "\\item 'samples'\n",
       "\\end{enumerate*}\n"
      ],
      "text/markdown": [
       "1. 'bc'\n",
       "2. 'X'\n",
       "3. 'leiden'\n",
       "4. 'cluster'\n",
       "5. 'UMAP1'\n",
       "6. 'UMAP2'\n",
       "7. 'unique_usable_reads'\n",
       "8. 'total_sequenced_reads'\n",
       "9. 'duplicated_reads'\n",
       "10. 'unique_mito_reads'\n",
       "11. 'reads_in_peaks'\n",
       "12. 'reads_in_promoters'\n",
       "13. 'tss_used'\n",
       "14. 'frac_reads_in_peaks'\n",
       "15. 'frac_reads_in_promoters'\n",
       "16. 'frac_promoters_used'\n",
       "17. 'frac_mito_reads'\n",
       "18. 'frac_duplicated_reads'\n",
       "19. 'experiment'\n",
       "20. 'log10_unique_usable_reads'\n",
       "21. 'n_counts'\n",
       "22. 'log_usable_counts'\n",
       "23. 'norm'\n",
       "24. 'subset'\n",
       "25. 'treat'\n",
       "26. 'treat2'\n",
       "27. 'barcode'\n",
       "28. 'bam'\n",
       "29. 'samples'\n",
       "\n",
       "\n"
      ],
      "text/plain": [
       " [1] \"bc\"                        \"X\"                        \n",
       " [3] \"leiden\"                    \"cluster\"                  \n",
       " [5] \"UMAP1\"                     \"UMAP2\"                    \n",
       " [7] \"unique_usable_reads\"       \"total_sequenced_reads\"    \n",
       " [9] \"duplicated_reads\"          \"unique_mito_reads\"        \n",
       "[11] \"reads_in_peaks\"            \"reads_in_promoters\"       \n",
       "[13] \"tss_used\"                  \"frac_reads_in_peaks\"      \n",
       "[15] \"frac_reads_in_promoters\"   \"frac_promoters_used\"      \n",
       "[17] \"frac_mito_reads\"           \"frac_duplicated_reads\"    \n",
       "[19] \"experiment\"                \"log10_unique_usable_reads\"\n",
       "[21] \"n_counts\"                  \"log_usable_counts\"        \n",
       "[23] \"norm\"                      \"subset\"                   \n",
       "[25] \"treat\"                     \"treat2\"                   \n",
       "[27] \"barcode\"                   \"bam\"                      \n",
       "[29] \"samples\"                  "
      ]
     },
     "metadata": {},
     "output_type": "display_data"
    }
   ],
   "source": [
    "colnames(demux)"
   ]
  },
  {
   "cell_type": "code",
   "execution_count": 39,
   "id": "19201121",
   "metadata": {},
   "outputs": [],
   "source": [
    "demux$donor = gsub(\"islet4_\", \"islet3535_\", demux$samples)\n",
    "demux$donor = gsub(\"islet5_\", \"islet9245_\", demux$donor)\n"
   ]
  },
  {
   "cell_type": "code",
   "execution_count": 40,
   "id": "3d38d9b9",
   "metadata": {},
   "outputs": [],
   "source": [
    "demux$donor = gsub(\"_cyt\" , \"\",demux$donor)\n",
    "demux$donor = gsub(\"_unt\" , \"\",demux$donor)\n",
    "demux$donor = gsub(\"_500\" , \"\",demux$donor)"
   ]
  },
  {
   "cell_type": "code",
   "execution_count": 41,
   "id": "6156a9c4",
   "metadata": {},
   "outputs": [],
   "source": [
    "demux$donor = gsub(\"scATAC_\" , \"\",demux$donor)\n",
    "demux$donor = gsub(\"_4000\" , \"\",demux$donor)"
   ]
  },
  {
   "cell_type": "code",
   "execution_count": 42,
   "id": "929ce553",
   "metadata": {},
   "outputs": [],
   "source": [
    "demux$donor[!(grepl(\"islet\", demux$donor))] <- \"unassigned\""
   ]
  },
  {
   "cell_type": "code",
   "execution_count": 43,
   "id": "952e761d",
   "metadata": {},
   "outputs": [
    {
     "data": {
      "text/plain": [
       "\n",
       " islet3535  islet4807  islet7453  islet9245 unassigned \n",
       "      2190       1304       2295       1967         73 "
      ]
     },
     "metadata": {},
     "output_type": "display_data"
    }
   ],
   "source": [
    "table(demux$donor)"
   ]
  },
  {
   "cell_type": "code",
   "execution_count": 45,
   "id": "cabb8613",
   "metadata": {},
   "outputs": [],
   "source": [
    "write.table(demux, \"barcode_and_cluster_demux.tsv\", sep=\"\\t\")"
   ]
  },
  {
   "cell_type": "code",
   "execution_count": null,
   "id": "e9e435d6",
   "metadata": {},
   "outputs": [],
   "source": []
  }
 ],
 "metadata": {
  "kernelspec": {
   "display_name": "R 4.1",
   "language": "R",
   "name": "ir41"
  },
  "language_info": {
   "codemirror_mode": "r",
   "file_extension": ".r",
   "mimetype": "text/x-r-source",
   "name": "R",
   "pygments_lexer": "r",
   "version": "4.1.1"
  }
 },
 "nbformat": 4,
 "nbformat_minor": 5
}
