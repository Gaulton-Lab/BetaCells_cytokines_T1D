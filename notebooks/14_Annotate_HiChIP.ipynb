{
 "cells": [
  {
   "cell_type": "code",
   "execution_count": 1,
   "id": "front-jacksonville",
   "metadata": {},
   "outputs": [],
   "source": [
    "setwd('/nfs/lab/projects/islet_cytok/analysis/snATAC/coaccess')"
   ]
  },
  {
   "cell_type": "code",
   "execution_count": 2,
   "id": "closing-processing",
   "metadata": {},
   "outputs": [],
   "source": [
    "suppressPackageStartupMessages(library(data.table))\n",
    "suppressPackageStartupMessages(library(stringr))\n",
    "suppressPackageStartupMessages(library(RColorBrewer))"
   ]
  },
  {
   "cell_type": "code",
   "execution_count": 3,
   "id": "permanent-atlantic",
   "metadata": {},
   "outputs": [],
   "source": [
    "cells = c('A471.EndoC_cyt','A471.EndoC_unt')"
   ]
  },
  {
   "cell_type": "code",
   "execution_count": 18,
   "id": "horizontal-bernard",
   "metadata": {},
   "outputs": [],
   "source": [
    "### remove scientific notation form the coordinates\n",
    "for (cell in cells){\n",
    "file = paste0(cell,  '.FDR10.bedpe')\n",
    "test = fread(file)\n",
    "    fwrite(test, file, sep=\"\\t\", quote=F, row.names=F, col.names = F,scipen = 999)\n",
    "    }\n"
   ]
  },
  {
   "cell_type": "code",
   "execution_count": 20,
   "id": "upset-lingerie",
   "metadata": {},
   "outputs": [],
   "source": [
    "for (cell in cells){\n",
    "file     = paste0(cell,  '.FDR10.bedpe')\n",
    "filesort = paste0(cell,  '.FDR10.bedpe.sorted')\n",
    "prom     = \"/nfs/lab/publicdata/gencode_v19/gencode.v19.5kb_all_possible_transcripts.bed\"\n",
    "out      = paste0(cell,  '.FDR10.bedpe.promLabelled')\n",
    "system (paste(\"pgltools sort\", file, \">\", filesort))\n",
    "system (paste('pgltools intersect1D -a' , filesort , '-b', prom , '-wa -allA >' ,out))\n",
    "}"
   ]
  },
  {
   "cell_type": "code",
   "execution_count": 66,
   "id": "mental-genetics",
   "metadata": {},
   "outputs": [],
   "source": [
    "for (cell in cells){\n",
    "file     = paste0(cell,  '.FDR10.bedpe.promLabelled')\n",
    "fileout  = paste0(cell,  '.FDR10.bedpe.promLabelled.dedup.cp')\n",
    "\n",
    "test = read.table(file)\n",
    "test =test[!duplicated(test),]\n",
    "test$V19 = apply(test[,1:7],1, paste, collapse=\"_\")\n",
    "ag = aggregate(V9~V19, test, paste, collapse=\",\")\n",
    "test = merge(test, ag, by=\"V19\")\n",
    "test =test[!duplicated(test[,c(1,11)]),-10]\n",
    "test$V20 = apply(test[,2:7],1, paste, collapse=\"_\")\n",
    "ag = aggregate(V7~V20, test, paste, collapse=\",\")\n",
    "\n",
    "#table(ag$V7)\n",
    "ag = subset(ag, V7!=\"A,B\")\n",
    "test = subset(test, V20 %in% ag$V20)\n",
    "test$V9 = test$V9.y\n",
    "test$V9[test$V7==\"B\"]<-\".\"\n",
    "test$V10 = test$V9.y\n",
    "test$V10[test$V7==\"A\"]<-\".\"\n",
    "test$V8 = \"CP\"\n",
    "subtest = test[,c('V1','V2','V3','V4','V5','V6','V8','V9','V10')]\n",
    "fwrite(subtest, fileout, sep=\"\\t\", quote=F, row.names=F, col.names = F,scipen = 999)\n",
    "  }"
   ]
  },
  {
   "cell_type": "code",
   "execution_count": 67,
   "id": "gentle-hello",
   "metadata": {},
   "outputs": [],
   "source": [
    "for(cell in cells){\n",
    "system(paste('pgltools intersect1D -a', paste0(cell,  '.FDR10.bedpe.promLabelled.dedup.cp') ,  \n",
    "             '-b ../../ldsc/Islet_bulkATAC.bed -allA -wa -wb >',\n",
    "       paste0(cell, \".pchich.promlab.fdr10.intersect.alsites\")))\n",
    "}"
   ]
  },
  {
   "cell_type": "code",
   "execution_count": null,
   "id": "spread-mobile",
   "metadata": {},
   "outputs": [],
   "source": []
  }
 ],
 "metadata": {
  "kernelspec": {
   "display_name": "R 4.1",
   "language": "R",
   "name": "ir41"
  },
  "language_info": {
   "codemirror_mode": "r",
   "file_extension": ".r",
   "mimetype": "text/x-r-source",
   "name": "R",
   "pygments_lexer": "r",
   "version": "4.1.1"
  }
 },
 "nbformat": 4,
 "nbformat_minor": 5
}
