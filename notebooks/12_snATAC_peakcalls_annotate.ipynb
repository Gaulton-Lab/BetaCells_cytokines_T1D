{
 "cells": [
  {
   "cell_type": "markdown",
   "id": "bright-sheep",
   "metadata": {},
   "source": [
    "Here are the peak calls for the snATAC-seq data (excluding biobank samples) by cell type:\n",
    "- cytokine+untreated:/nfs/lab/elisha/islets/cytokine/new_islet/gaulton/peaks/gatsby/cellType_cytunt\n",
    "- cytokine: /nfs/lab/elisha/islets/cytokine/new_islet/gaulton/peaks/gatsby/cellType_cyt\n",
    "- untreated: /nfs/lab/elisha/islets/cytokine/new_islet/gaulton/peaks/gatsby/cellType_unt "
   ]
  },
  {
   "cell_type": "code",
   "execution_count": 1,
   "id": "chinese-neutral",
   "metadata": {},
   "outputs": [],
   "source": [
    "library(stringr)\n",
    "library(RColorBrewer)"
   ]
  },
  {
   "cell_type": "code",
   "execution_count": 2,
   "id": "neural-black",
   "metadata": {},
   "outputs": [],
   "source": [
    "setwd(\"/nfs/lab/projects/islet_cytok/analysis/snATAC/peaks\")"
   ]
  },
  {
   "cell_type": "code",
   "execution_count": 3,
   "id": "eleven-wales",
   "metadata": {},
   "outputs": [],
   "source": [
    "annp = read.table('Islet_bulkATAC.subpop.sorted.merged.bed')"
   ]
  },
  {
   "cell_type": "code",
   "execution_count": 4,
   "id": "approved-offer",
   "metadata": {},
   "outputs": [],
   "source": [
    "annp$counts = str_count(annp$V4,\",\")+1\n",
    "annp$peaks = paste(\"peak\", annp[,1], annp[,2], annp[,3], sep=\"-\")"
   ]
  },
  {
   "cell_type": "code",
   "execution_count": 5,
   "id": "underlying-scope",
   "metadata": {},
   "outputs": [],
   "source": [
    "u = read.table(\"../../deseq_ATAC_NEW_bedfiles/annotated_peaks.tsv\")"
   ]
  },
  {
   "cell_type": "code",
   "execution_count": 6,
   "id": "bibliographic-pantyhose",
   "metadata": {},
   "outputs": [],
   "source": [
    "annp$upr = annp$peaks %in% rownames(u) [rowSums(u[,c(2,4,6,8,10,12,14)])>0]\n",
    "annp$dor = annp$peaks %in% rownames(u) [rowSums(u[,c(1,3,5,7,9,11,13)])>0]"
   ]
  },
  {
   "cell_type": "code",
   "execution_count": 7,
   "id": "southeast-georgia",
   "metadata": {},
   "outputs": [
    {
     "data": {
      "text/html": [
       "44969"
      ],
      "text/latex": [
       "44969"
      ],
      "text/markdown": [
       "44969"
      ],
      "text/plain": [
       "[1] 44969"
      ]
     },
     "metadata": {},
     "output_type": "display_data"
    }
   ],
   "source": [
    "sum(rowSums(u)>0)"
   ]
  },
  {
   "cell_type": "code",
   "execution_count": 9,
   "id": "musical-project",
   "metadata": {},
   "outputs": [
    {
     "data": {
      "text/html": [
       "<table class=\"dataframe\">\n",
       "<caption>A data.frame: 6 × 8</caption>\n",
       "<thead>\n",
       "\t<tr><th></th><th scope=col>V1</th><th scope=col>V2</th><th scope=col>V3</th><th scope=col>V4</th><th scope=col>counts</th><th scope=col>peaks</th><th scope=col>upr</th><th scope=col>dor</th></tr>\n",
       "\t<tr><th></th><th scope=col>&lt;fct&gt;</th><th scope=col>&lt;int&gt;</th><th scope=col>&lt;int&gt;</th><th scope=col>&lt;fct&gt;</th><th scope=col>&lt;dbl&gt;</th><th scope=col>&lt;chr&gt;</th><th scope=col>&lt;lgl&gt;</th><th scope=col>&lt;lgl&gt;</th></tr>\n",
       "</thead>\n",
       "<tbody>\n",
       "\t<tr><th scope=row>1</th><td>chr1</td><td>755248</td><td>757745</td><td>beta                                        </td><td>1</td><td>peak-chr1-755248-757745</td><td>FALSE</td><td>FALSE</td></tr>\n",
       "\t<tr><th scope=row>2</th><td>chr1</td><td>762279</td><td>763259</td><td>acinar,alpha,beta,delta,endothelial,stellate</td><td>6</td><td>peak-chr1-762279-763259</td><td>FALSE</td><td>FALSE</td></tr>\n",
       "\t<tr><th scope=row>3</th><td>chr1</td><td>767391</td><td>768426</td><td>acinar,alpha,beta,delta,stellate            </td><td>5</td><td>peak-chr1-767391-768426</td><td>FALSE</td><td> TRUE</td></tr>\n",
       "\t<tr><th scope=row>4</th><td>chr1</td><td>786797</td><td>787798</td><td>alpha,beta                                  </td><td>2</td><td>peak-chr1-786797-787798</td><td>FALSE</td><td>FALSE</td></tr>\n",
       "\t<tr><th scope=row>5</th><td>chr1</td><td>793418</td><td>794514</td><td>acinar,alpha,beta,delta,stellate            </td><td>5</td><td>peak-chr1-793418-794514</td><td>FALSE</td><td> TRUE</td></tr>\n",
       "\t<tr><th scope=row>6</th><td>chr1</td><td>804948</td><td>805700</td><td>acinar,alpha,beta,delta,endothelial,stellate</td><td>6</td><td>peak-chr1-804948-805700</td><td>FALSE</td><td>FALSE</td></tr>\n",
       "</tbody>\n",
       "</table>\n"
      ],
      "text/latex": [
       "A data.frame: 6 × 8\n",
       "\\begin{tabular}{r|llllllll}\n",
       "  & V1 & V2 & V3 & V4 & counts & peaks & upr & dor\\\\\n",
       "  & <fct> & <int> & <int> & <fct> & <dbl> & <chr> & <lgl> & <lgl>\\\\\n",
       "\\hline\n",
       "\t1 & chr1 & 755248 & 757745 & beta                                         & 1 & peak-chr1-755248-757745 & FALSE & FALSE\\\\\n",
       "\t2 & chr1 & 762279 & 763259 & acinar,alpha,beta,delta,endothelial,stellate & 6 & peak-chr1-762279-763259 & FALSE & FALSE\\\\\n",
       "\t3 & chr1 & 767391 & 768426 & acinar,alpha,beta,delta,stellate             & 5 & peak-chr1-767391-768426 & FALSE &  TRUE\\\\\n",
       "\t4 & chr1 & 786797 & 787798 & alpha,beta                                   & 2 & peak-chr1-786797-787798 & FALSE & FALSE\\\\\n",
       "\t5 & chr1 & 793418 & 794514 & acinar,alpha,beta,delta,stellate             & 5 & peak-chr1-793418-794514 & FALSE &  TRUE\\\\\n",
       "\t6 & chr1 & 804948 & 805700 & acinar,alpha,beta,delta,endothelial,stellate & 6 & peak-chr1-804948-805700 & FALSE & FALSE\\\\\n",
       "\\end{tabular}\n"
      ],
      "text/markdown": [
       "\n",
       "A data.frame: 6 × 8\n",
       "\n",
       "| <!--/--> | V1 &lt;fct&gt; | V2 &lt;int&gt; | V3 &lt;int&gt; | V4 &lt;fct&gt; | counts &lt;dbl&gt; | peaks &lt;chr&gt; | upr &lt;lgl&gt; | dor &lt;lgl&gt; |\n",
       "|---|---|---|---|---|---|---|---|---|\n",
       "| 1 | chr1 | 755248 | 757745 | beta                                         | 1 | peak-chr1-755248-757745 | FALSE | FALSE |\n",
       "| 2 | chr1 | 762279 | 763259 | acinar,alpha,beta,delta,endothelial,stellate | 6 | peak-chr1-762279-763259 | FALSE | FALSE |\n",
       "| 3 | chr1 | 767391 | 768426 | acinar,alpha,beta,delta,stellate             | 5 | peak-chr1-767391-768426 | FALSE |  TRUE |\n",
       "| 4 | chr1 | 786797 | 787798 | alpha,beta                                   | 2 | peak-chr1-786797-787798 | FALSE | FALSE |\n",
       "| 5 | chr1 | 793418 | 794514 | acinar,alpha,beta,delta,stellate             | 5 | peak-chr1-793418-794514 | FALSE |  TRUE |\n",
       "| 6 | chr1 | 804948 | 805700 | acinar,alpha,beta,delta,endothelial,stellate | 6 | peak-chr1-804948-805700 | FALSE | FALSE |\n",
       "\n"
      ],
      "text/plain": [
       "  V1   V2     V3     V4                                           counts\n",
       "1 chr1 755248 757745 beta                                         1     \n",
       "2 chr1 762279 763259 acinar,alpha,beta,delta,endothelial,stellate 6     \n",
       "3 chr1 767391 768426 acinar,alpha,beta,delta,stellate             5     \n",
       "4 chr1 786797 787798 alpha,beta                                   2     \n",
       "5 chr1 793418 794514 acinar,alpha,beta,delta,stellate             5     \n",
       "6 chr1 804948 805700 acinar,alpha,beta,delta,endothelial,stellate 6     \n",
       "  peaks                   upr   dor  \n",
       "1 peak-chr1-755248-757745 FALSE FALSE\n",
       "2 peak-chr1-762279-763259 FALSE FALSE\n",
       "3 peak-chr1-767391-768426 FALSE  TRUE\n",
       "4 peak-chr1-786797-787798 FALSE FALSE\n",
       "5 peak-chr1-793418-794514 FALSE  TRUE\n",
       "6 peak-chr1-804948-805700 FALSE FALSE"
      ]
     },
     "metadata": {},
     "output_type": "display_data"
    }
   ],
   "source": [
    "head(annp)"
   ]
  },
  {
   "cell_type": "code",
   "execution_count": 20,
   "id": "considerable-replacement",
   "metadata": {},
   "outputs": [],
   "source": [
    "bed1 = read.table('Islet_bulkATAC.bed' )\n",
    "bed2 = read.table('Islet_bulkATAC.subpop.sorted.merged.bed')"
   ]
  },
  {
   "cell_type": "code",
   "execution_count": 39,
   "id": "detailed-competition",
   "metadata": {},
   "outputs": [],
   "source": [
    "bed1$V4=\"z\"\n",
    "bedm = rbind(bed1, bed2)"
   ]
  },
  {
   "cell_type": "code",
   "execution_count": 40,
   "id": "expensive-alloy",
   "metadata": {},
   "outputs": [],
   "source": [
    "bedm = bedm[order(bedm$V4),]"
   ]
  },
  {
   "cell_type": "code",
   "execution_count": 41,
   "id": "spiritual-blade",
   "metadata": {},
   "outputs": [],
   "source": [
    "bedm = bedm[!duplicated(bedm[,1:3]),]"
   ]
  },
  {
   "cell_type": "code",
   "execution_count": 42,
   "id": "wrapped-chamber",
   "metadata": {},
   "outputs": [],
   "source": [
    "bedm$V4[bedm$V4=='z']<-\"na\""
   ]
  },
  {
   "cell_type": "code",
   "execution_count": 43,
   "id": "reliable-clearing",
   "metadata": {},
   "outputs": [],
   "source": [
    "peaks = paste(\"peak\", bedm[,1], bedm[,2], bedm[,3], sep=\"-\")"
   ]
  },
  {
   "cell_type": "code",
   "execution_count": 50,
   "id": "postal-drill",
   "metadata": {},
   "outputs": [
    {
     "data": {
      "text/html": [
       "0"
      ],
      "text/latex": [
       "0"
      ],
      "text/markdown": [
       "0"
      ],
      "text/plain": [
       "[1] 0"
      ]
     },
     "metadata": {},
     "output_type": "display_data"
    }
   ],
   "source": [
    "sum(duplicated(annp$peaks))"
   ]
  },
  {
   "cell_type": "code",
   "execution_count": 54,
   "id": "appreciated-chrome",
   "metadata": {},
   "outputs": [
    {
     "data": {
      "text/html": [
       "<style>\n",
       ".list-inline {list-style: none; margin:0; padding: 0}\n",
       ".list-inline>li {display: inline-block}\n",
       ".list-inline>li:not(:last-child)::after {content: \"\\00b7\"; padding: 0 .5ex}\n",
       "</style>\n",
       "<ol class=list-inline><li>165884</li><li>5</li></ol>\n"
      ],
      "text/latex": [
       "\\begin{enumerate*}\n",
       "\\item 165884\n",
       "\\item 5\n",
       "\\end{enumerate*}\n"
      ],
      "text/markdown": [
       "1. 165884\n",
       "2. 5\n",
       "\n",
       "\n"
      ],
      "text/plain": [
       "[1] 165884      5"
      ]
     },
     "metadata": {},
     "output_type": "display_data"
    }
   ],
   "source": [
    "dim(bedm)"
   ]
  },
  {
   "cell_type": "code",
   "execution_count": 44,
   "id": "alone-product",
   "metadata": {},
   "outputs": [],
   "source": [
    "bedm$cyt = peaks %in% rownames(u)"
   ]
  },
  {
   "cell_type": "code",
   "execution_count": 46,
   "id": "revolutionary-closing",
   "metadata": {},
   "outputs": [],
   "source": [
    "tab1 = subset(bedm, grepl(\"beta\", bedm$V4))"
   ]
  },
  {
   "cell_type": "code",
   "execution_count": 55,
   "id": "mechanical-promise",
   "metadata": {},
   "outputs": [],
   "source": [
    "colnames(bedm) = c(\"chrom\", \"start\", \"end\", \"islet_cell_type\", \"cytokine_responsive\")"
   ]
  },
  {
   "cell_type": "code",
   "execution_count": 56,
   "id": "motivated-beginning",
   "metadata": {},
   "outputs": [],
   "source": [
    "write.table(bedm, \"cCREs_annotated.bed\", sep=\"\\t\", quote=F, row.names=F)"
   ]
  },
  {
   "cell_type": "code",
   "execution_count": 7,
   "id": "chicken-antibody",
   "metadata": {},
   "outputs": [],
   "source": [
    "cells = c('acinar','alpha','beta','delta','endothelial','stellate')\n",
    "mat1 =  matrix(NA, nrow=2, ncol=6)\n",
    "colnames(mat1) = cells\n",
    "rownames(mat1) = c(\"down\", \"up\")\n",
    "mat2 = mat1\n",
    "for (cell in cells ){\n",
    "    tab1 = subset(annp, grepl(cell, annp$V4))\n",
    "    write.table(tab1[tab1$upr==T,1:3], paste0(\"/nfs/lab/projects/islet_cytok/analysis/ldsc/\", cell, \".up.bed\"), \n",
    "                sep=\"\\t\", quote=F, row.names=F, col.names=F)\n",
    "    write.table(tab1[tab1$dor==T,1:3], paste0(\"/nfs/lab/projects/islet_cytok/analysis/ldsc/\", cell, \".down.bed\"), \n",
    "                sep=\"\\t\", quote=F, row.names=F, col.names=F)\n",
    "    mat1[\"up\",cell] = sum(tab1$upr)\n",
    "    mat1[\"down\",cell] = sum(tab1$dor)\n",
    "    \n",
    "    tab2 = subset(annp, annp$V4 == cell)\n",
    "    mat2[\"up\",cell] = sum(tab2$upr)\n",
    "    mat2[\"down\",cell] = sum(tab2$dor)\n",
    "}"
   ]
  },
  {
   "cell_type": "code",
   "execution_count": 13,
   "id": "breeding-pierre",
   "metadata": {},
   "outputs": [
    {
     "data": {
      "text/html": [
       "<table class=\"dataframe\">\n",
       "<caption>A matrix: 2 × 6 of type int</caption>\n",
       "<thead>\n",
       "\t<tr><th></th><th scope=col>acinar</th><th scope=col>alpha</th><th scope=col>beta</th><th scope=col>delta</th><th scope=col>endothelial</th><th scope=col>stellate</th></tr>\n",
       "</thead>\n",
       "<tbody>\n",
       "\t<tr><th scope=row>down</th><td> 9441</td><td>19447</td><td>20097</td><td>15951</td><td>4554</td><td>13257</td></tr>\n",
       "\t<tr><th scope=row>up</th><td>10880</td><td>16648</td><td>18881</td><td>12990</td><td>4840</td><td>12610</td></tr>\n",
       "</tbody>\n",
       "</table>\n"
      ],
      "text/latex": [
       "A matrix: 2 × 6 of type int\n",
       "\\begin{tabular}{r|llllll}\n",
       "  & acinar & alpha & beta & delta & endothelial & stellate\\\\\n",
       "\\hline\n",
       "\tdown &  9441 & 19447 & 20097 & 15951 & 4554 & 13257\\\\\n",
       "\tup & 10880 & 16648 & 18881 & 12990 & 4840 & 12610\\\\\n",
       "\\end{tabular}\n"
      ],
      "text/markdown": [
       "\n",
       "A matrix: 2 × 6 of type int\n",
       "\n",
       "| <!--/--> | acinar | alpha | beta | delta | endothelial | stellate |\n",
       "|---|---|---|---|---|---|---|\n",
       "| down |  9441 | 19447 | 20097 | 15951 | 4554 | 13257 |\n",
       "| up | 10880 | 16648 | 18881 | 12990 | 4840 | 12610 |\n",
       "\n"
      ],
      "text/plain": [
       "     acinar alpha beta  delta endothelial stellate\n",
       "down  9441  19447 20097 15951 4554        13257   \n",
       "up   10880  16648 18881 12990 4840        12610   "
      ]
     },
     "metadata": {},
     "output_type": "display_data"
    },
    {
     "data": {
      "text/html": [
       "<style>\n",
       ".dl-inline {width: auto; margin:0; padding: 0}\n",
       ".dl-inline>dt, .dl-inline>dd {float: none; width: auto; display: inline-block}\n",
       ".dl-inline>dt::after {content: \":\\0020\"; padding-right: .5ex}\n",
       ".dl-inline>dt:not(:first-of-type) {padding-left: .5ex}\n",
       "</style><dl class=dl-inline><dt>acinar</dt><dd>20321</dd><dt>alpha</dt><dd>36095</dd><dt>beta</dt><dd>38978</dd><dt>delta</dt><dd>28941</dd><dt>endothelial</dt><dd>9394</dd><dt>stellate</dt><dd>25867</dd></dl>\n"
      ],
      "text/latex": [
       "\\begin{description*}\n",
       "\\item[acinar] 20321\n",
       "\\item[alpha] 36095\n",
       "\\item[beta] 38978\n",
       "\\item[delta] 28941\n",
       "\\item[endothelial] 9394\n",
       "\\item[stellate] 25867\n",
       "\\end{description*}\n"
      ],
      "text/markdown": [
       "acinar\n",
       ":   20321alpha\n",
       ":   36095beta\n",
       ":   38978delta\n",
       ":   28941endothelial\n",
       ":   9394stellate\n",
       ":   25867\n",
       "\n"
      ],
      "text/plain": [
       "     acinar       alpha        beta       delta endothelial    stellate \n",
       "      20321       36095       38978       28941        9394       25867 "
      ]
     },
     "metadata": {},
     "output_type": "display_data"
    }
   ],
   "source": [
    "mat1\n",
    "colSums(mat1)"
   ]
  },
  {
   "cell_type": "code",
   "execution_count": 15,
   "id": "drawn-importance",
   "metadata": {},
   "outputs": [
    {
     "data": {
      "text/html": [
       "0.0817384165426651"
      ],
      "text/latex": [
       "0.0817384165426651"
      ],
      "text/markdown": [
       "0.0817384165426651"
      ],
      "text/plain": [
       "[1] 0.08173842"
      ]
     },
     "metadata": {},
     "output_type": "display_data"
    }
   ],
   "source": [
    "3186/38978"
   ]
  },
  {
   "cell_type": "code",
   "execution_count": 14,
   "id": "false-stanley",
   "metadata": {},
   "outputs": [
    {
     "data": {
      "text/html": [
       "<table class=\"dataframe\">\n",
       "<caption>A matrix: 2 × 6 of type int</caption>\n",
       "<thead>\n",
       "\t<tr><th></th><th scope=col>acinar</th><th scope=col>alpha</th><th scope=col>beta</th><th scope=col>delta</th><th scope=col>endothelial</th><th scope=col>stellate</th></tr>\n",
       "</thead>\n",
       "<tbody>\n",
       "\t<tr><th scope=row>down</th><td> 14</td><td>962</td><td>1314</td><td> 63</td><td> 1</td><td> 20</td></tr>\n",
       "\t<tr><th scope=row>up</th><td>239</td><td>670</td><td>1872</td><td>128</td><td>20</td><td>390</td></tr>\n",
       "</tbody>\n",
       "</table>\n"
      ],
      "text/latex": [
       "A matrix: 2 × 6 of type int\n",
       "\\begin{tabular}{r|llllll}\n",
       "  & acinar & alpha & beta & delta & endothelial & stellate\\\\\n",
       "\\hline\n",
       "\tdown &  14 & 962 & 1314 &  63 &  1 &  20\\\\\n",
       "\tup & 239 & 670 & 1872 & 128 & 20 & 390\\\\\n",
       "\\end{tabular}\n"
      ],
      "text/markdown": [
       "\n",
       "A matrix: 2 × 6 of type int\n",
       "\n",
       "| <!--/--> | acinar | alpha | beta | delta | endothelial | stellate |\n",
       "|---|---|---|---|---|---|---|\n",
       "| down |  14 | 962 | 1314 |  63 |  1 |  20 |\n",
       "| up | 239 | 670 | 1872 | 128 | 20 | 390 |\n",
       "\n"
      ],
      "text/plain": [
       "     acinar alpha beta delta endothelial stellate\n",
       "down  14    962   1314  63    1           20     \n",
       "up   239    670   1872 128   20          390     "
      ]
     },
     "metadata": {},
     "output_type": "display_data"
    },
    {
     "data": {
      "text/html": [
       "<style>\n",
       ".dl-inline {width: auto; margin:0; padding: 0}\n",
       ".dl-inline>dt, .dl-inline>dd {float: none; width: auto; display: inline-block}\n",
       ".dl-inline>dt::after {content: \":\\0020\"; padding-right: .5ex}\n",
       ".dl-inline>dt:not(:first-of-type) {padding-left: .5ex}\n",
       "</style><dl class=dl-inline><dt>acinar</dt><dd>253</dd><dt>alpha</dt><dd>1632</dd><dt>beta</dt><dd>3186</dd><dt>delta</dt><dd>191</dd><dt>endothelial</dt><dd>21</dd><dt>stellate</dt><dd>410</dd></dl>\n"
      ],
      "text/latex": [
       "\\begin{description*}\n",
       "\\item[acinar] 253\n",
       "\\item[alpha] 1632\n",
       "\\item[beta] 3186\n",
       "\\item[delta] 191\n",
       "\\item[endothelial] 21\n",
       "\\item[stellate] 410\n",
       "\\end{description*}\n"
      ],
      "text/markdown": [
       "acinar\n",
       ":   253alpha\n",
       ":   1632beta\n",
       ":   3186delta\n",
       ":   191endothelial\n",
       ":   21stellate\n",
       ":   410\n",
       "\n"
      ],
      "text/plain": [
       "     acinar       alpha        beta       delta endothelial    stellate \n",
       "        253        1632        3186         191          21         410 "
      ]
     },
     "metadata": {},
     "output_type": "display_data"
    }
   ],
   "source": [
    "mat2\n",
    "colSums(mat2)"
   ]
  },
  {
   "cell_type": "code",
   "execution_count": 67,
   "id": "otherwise-screening",
   "metadata": {},
   "outputs": [
    {
     "data": {
      "text/html": [
       "<strong>png:</strong> 2"
      ],
      "text/latex": [
       "\\textbf{png:} 2"
      ],
      "text/markdown": [
       "**png:** 2"
      ],
      "text/plain": [
       "png \n",
       "  2 "
      ]
     },
     "metadata": {},
     "output_type": "display_data"
    }
   ],
   "source": [
    "pdf(\"../../cytokine_figures/snatac_annotated_peaks.pdf\")\n",
    "par(mfrow=c(2,2),mar = c(4,4,4,5))\n",
    "b = barplot(mat1, las=3,\n",
    "           ylim=c(0,50000), col = brewer.pal(9, \"PuOr\")[c(3,7)] )\n",
    "\n",
    "text(x = b, y =mat1[1,], labels = paste0(round(unlist(mat1[1 ,])/1000,1),\"k\") , pos = 1, cex=0.75)\n",
    "text(x = b, y = as.numeric(mat1[2,])+ as.numeric(mat1[1,]), \n",
    "     labels = paste0(round(unlist(mat1[2,])/1000,1),\"k\") , pos = 1, cex=0.75)\n",
    "\n",
    "b = barplot(mat2, las=3,\n",
    "           ylim=c(0,3500), col = brewer.pal(9, \"PuOr\")[c(3,7)] )\n",
    "\n",
    "text(x = b, y =mat2[1,], labels = paste0(round(unlist(mat2[1 ,])/1000,1),\"k\") , pos = 1, cex=0.75)\n",
    "text(x = b, y = as.numeric(mat2[2,])+ as.numeric(mat2[1,]), \n",
    "     labels = paste0(round(unlist(mat2[2,])/1000,1),\"k\") , pos = 1, cex=0.75)\n",
    "dev.off()"
   ]
  },
  {
   "cell_type": "code",
   "execution_count": 55,
   "id": "wound-print",
   "metadata": {},
   "outputs": [],
   "source": [
    " tab2 = subset(annp, V4 == \"beta\" & upr == TRUE)"
   ]
  },
  {
   "cell_type": "code",
   "execution_count": 56,
   "id": "final-treasure",
   "metadata": {},
   "outputs": [
    {
     "data": {
      "text/html": [
       "<table class=\"dataframe\">\n",
       "<caption>A data.frame: 6 × 8</caption>\n",
       "<thead>\n",
       "\t<tr><th></th><th scope=col>V1</th><th scope=col>V2</th><th scope=col>V3</th><th scope=col>V4</th><th scope=col>counts</th><th scope=col>peaks</th><th scope=col>upr</th><th scope=col>dor</th></tr>\n",
       "\t<tr><th></th><th scope=col>&lt;fct&gt;</th><th scope=col>&lt;int&gt;</th><th scope=col>&lt;int&gt;</th><th scope=col>&lt;fct&gt;</th><th scope=col>&lt;dbl&gt;</th><th scope=col>&lt;chr&gt;</th><th scope=col>&lt;lgl&gt;</th><th scope=col>&lt;lgl&gt;</th></tr>\n",
       "</thead>\n",
       "<tbody>\n",
       "\t<tr><th scope=row>73</th><td>chr1</td><td> 1353266</td><td> 1353689</td><td>beta</td><td>1</td><td>peak-chr1-1353266-1353689  </td><td>TRUE</td><td>FALSE</td></tr>\n",
       "\t<tr><th scope=row>106</th><td>chr1</td><td> 1720184</td><td> 1720938</td><td>beta</td><td>1</td><td>peak-chr1-1720184-1720938  </td><td>TRUE</td><td>FALSE</td></tr>\n",
       "\t<tr><th scope=row>270</th><td>chr1</td><td> 3807705</td><td> 3807970</td><td>beta</td><td>1</td><td>peak-chr1-3807705-3807970  </td><td>TRUE</td><td>FALSE</td></tr>\n",
       "\t<tr><th scope=row>590</th><td>chr1</td><td> 8593207</td><td> 8593540</td><td>beta</td><td>1</td><td>peak-chr1-8593207-8593540  </td><td>TRUE</td><td>FALSE</td></tr>\n",
       "\t<tr><th scope=row>1376</th><td>chr1</td><td>19496023</td><td>19496554</td><td>beta</td><td>1</td><td>peak-chr1-19496023-19496554</td><td>TRUE</td><td>FALSE</td></tr>\n",
       "\t<tr><th scope=row>1426</th><td>chr1</td><td>19884316</td><td>19884604</td><td>beta</td><td>1</td><td>peak-chr1-19884316-19884604</td><td>TRUE</td><td>FALSE</td></tr>\n",
       "</tbody>\n",
       "</table>\n"
      ],
      "text/latex": [
       "A data.frame: 6 × 8\n",
       "\\begin{tabular}{r|llllllll}\n",
       "  & V1 & V2 & V3 & V4 & counts & peaks & upr & dor\\\\\n",
       "  & <fct> & <int> & <int> & <fct> & <dbl> & <chr> & <lgl> & <lgl>\\\\\n",
       "\\hline\n",
       "\t73 & chr1 &  1353266 &  1353689 & beta & 1 & peak-chr1-1353266-1353689   & TRUE & FALSE\\\\\n",
       "\t106 & chr1 &  1720184 &  1720938 & beta & 1 & peak-chr1-1720184-1720938   & TRUE & FALSE\\\\\n",
       "\t270 & chr1 &  3807705 &  3807970 & beta & 1 & peak-chr1-3807705-3807970   & TRUE & FALSE\\\\\n",
       "\t590 & chr1 &  8593207 &  8593540 & beta & 1 & peak-chr1-8593207-8593540   & TRUE & FALSE\\\\\n",
       "\t1376 & chr1 & 19496023 & 19496554 & beta & 1 & peak-chr1-19496023-19496554 & TRUE & FALSE\\\\\n",
       "\t1426 & chr1 & 19884316 & 19884604 & beta & 1 & peak-chr1-19884316-19884604 & TRUE & FALSE\\\\\n",
       "\\end{tabular}\n"
      ],
      "text/markdown": [
       "\n",
       "A data.frame: 6 × 8\n",
       "\n",
       "| <!--/--> | V1 &lt;fct&gt; | V2 &lt;int&gt; | V3 &lt;int&gt; | V4 &lt;fct&gt; | counts &lt;dbl&gt; | peaks &lt;chr&gt; | upr &lt;lgl&gt; | dor &lt;lgl&gt; |\n",
       "|---|---|---|---|---|---|---|---|---|\n",
       "| 73 | chr1 |  1353266 |  1353689 | beta | 1 | peak-chr1-1353266-1353689   | TRUE | FALSE |\n",
       "| 106 | chr1 |  1720184 |  1720938 | beta | 1 | peak-chr1-1720184-1720938   | TRUE | FALSE |\n",
       "| 270 | chr1 |  3807705 |  3807970 | beta | 1 | peak-chr1-3807705-3807970   | TRUE | FALSE |\n",
       "| 590 | chr1 |  8593207 |  8593540 | beta | 1 | peak-chr1-8593207-8593540   | TRUE | FALSE |\n",
       "| 1376 | chr1 | 19496023 | 19496554 | beta | 1 | peak-chr1-19496023-19496554 | TRUE | FALSE |\n",
       "| 1426 | chr1 | 19884316 | 19884604 | beta | 1 | peak-chr1-19884316-19884604 | TRUE | FALSE |\n",
       "\n"
      ],
      "text/plain": [
       "     V1   V2       V3       V4   counts peaks                       upr  dor  \n",
       "73   chr1  1353266  1353689 beta 1      peak-chr1-1353266-1353689   TRUE FALSE\n",
       "106  chr1  1720184  1720938 beta 1      peak-chr1-1720184-1720938   TRUE FALSE\n",
       "270  chr1  3807705  3807970 beta 1      peak-chr1-3807705-3807970   TRUE FALSE\n",
       "590  chr1  8593207  8593540 beta 1      peak-chr1-8593207-8593540   TRUE FALSE\n",
       "1376 chr1 19496023 19496554 beta 1      peak-chr1-19496023-19496554 TRUE FALSE\n",
       "1426 chr1 19884316 19884604 beta 1      peak-chr1-19884316-19884604 TRUE FALSE"
      ]
     },
     "metadata": {},
     "output_type": "display_data"
    }
   ],
   "source": [
    "head(tab2)"
   ]
  },
  {
   "cell_type": "code",
   "execution_count": 57,
   "id": "friendly-cisco",
   "metadata": {},
   "outputs": [],
   "source": [
    "cyt = read.table('/nfs/lab/elisha/islets/cytokine/update_deseq/output/cytokine_24hr_Hi.dec16.filtered.txt')\n",
    "cyt = cyt[order(cyt$pvalue),]"
   ]
  },
  {
   "cell_type": "code",
   "execution_count": 59,
   "id": "beautiful-hughes",
   "metadata": {},
   "outputs": [],
   "source": [
    "cytb = subset(cyt, rownames(cyt) %in% tab2$peaks)"
   ]
  },
  {
   "cell_type": "code",
   "execution_count": 61,
   "id": "protecting-clause",
   "metadata": {},
   "outputs": [
    {
     "data": {
      "text/html": [
       "<table class=\"dataframe\">\n",
       "<caption>A data.frame: 20 × 6</caption>\n",
       "<thead>\n",
       "\t<tr><th></th><th scope=col>baseMean</th><th scope=col>log2FoldChange</th><th scope=col>lfcSE</th><th scope=col>stat</th><th scope=col>pvalue</th><th scope=col>padj</th></tr>\n",
       "\t<tr><th></th><th scope=col>&lt;dbl&gt;</th><th scope=col>&lt;dbl&gt;</th><th scope=col>&lt;dbl&gt;</th><th scope=col>&lt;dbl&gt;</th><th scope=col>&lt;dbl&gt;</th><th scope=col>&lt;dbl&gt;</th></tr>\n",
       "</thead>\n",
       "<tbody>\n",
       "\t<tr><th scope=row>peak-chr4-17581932-17582182</th><td>100.31767</td><td>3.889667</td><td>0.2597773</td><td>14.973084</td><td>1.100953e-50</td><td>6.087683e-46</td></tr>\n",
       "\t<tr><th scope=row>peak-chr6-43804096-43804441</th><td>172.62966</td><td>1.721841</td><td>0.1625232</td><td>10.594432</td><td>3.162551e-26</td><td>3.544706e-23</td></tr>\n",
       "\t<tr><th scope=row>peak-chr3-115775143-115775361</th><td> 51.70124</td><td>3.245185</td><td>0.3372836</td><td> 9.621530</td><td>6.485925e-22</td><td>3.610440e-19</td></tr>\n",
       "\t<tr><th scope=row>peak-chr2-133178441-133178662</th><td> 78.75060</td><td>2.464606</td><td>0.2639840</td><td> 9.336194</td><td>9.985890e-21</td><td>4.575965e-18</td></tr>\n",
       "\t<tr><th scope=row>peak-chr3-71772786-71773061</th><td> 55.71386</td><td>2.724314</td><td>0.2973036</td><td> 9.163408</td><td>5.028382e-20</td><td>2.000307e-17</td></tr>\n",
       "\t<tr><th scope=row>peak-chr3-179984965-179985522</th><td> 56.59627</td><td>2.944213</td><td>0.3508117</td><td> 8.392574</td><td>4.756142e-17</td><td>1.053362e-14</td></tr>\n",
       "\t<tr><th scope=row>peak-chr20-56810012-56810439</th><td> 58.07287</td><td>2.961955</td><td>0.3530934</td><td> 8.388589</td><td>4.920095e-17</td><td>1.086771e-14</td></tr>\n",
       "\t<tr><th scope=row>peak-chr1-54875176-54875462</th><td> 93.82417</td><td>1.973000</td><td>0.2362314</td><td> 8.351979</td><td>6.712852e-17</td><td>1.440562e-14</td></tr>\n",
       "\t<tr><th scope=row>peak-chr7-154180526-154180932</th><td> 44.27482</td><td>2.945653</td><td>0.3532528</td><td> 8.338654</td><td>7.514078e-17</td><td>1.589879e-14</td></tr>\n",
       "\t<tr><th scope=row>peak-chr19-18609846-18610167</th><td> 54.52840</td><td>2.367876</td><td>0.2852161</td><td> 8.302041</td><td>1.023377e-16</td><td>2.135370e-14</td></tr>\n",
       "\t<tr><th scope=row>peak-chr10-111650229-111650688</th><td> 48.60518</td><td>3.159106</td><td>0.3808660</td><td> 8.294534</td><td>1.090116e-16</td><td>2.268919e-14</td></tr>\n",
       "\t<tr><th scope=row>peak-chr1-22667336-22667676</th><td> 98.39734</td><td>1.794688</td><td>0.2167036</td><td> 8.281762</td><td>1.213660e-16</td><td>2.497850e-14</td></tr>\n",
       "\t<tr><th scope=row>peak-chr6-127724888-127725568</th><td> 41.04400</td><td>2.862149</td><td>0.3491363</td><td> 8.197798</td><td>2.448299e-16</td><td>4.733491e-14</td></tr>\n",
       "\t<tr><th scope=row>peak-chr8-53305230-53305611</th><td>137.32789</td><td>1.479820</td><td>0.1839449</td><td> 8.044910</td><td>8.630867e-16</td><td>1.511851e-13</td></tr>\n",
       "\t<tr><th scope=row>peak-chr8-38129843-38130087</th><td> 98.25323</td><td>1.756285</td><td>0.2187449</td><td> 8.028919</td><td>9.833559e-16</td><td>1.713477e-13</td></tr>\n",
       "\t<tr><th scope=row>peak-chr14-100821142-100821708</th><td> 62.64537</td><td>2.546236</td><td>0.3173437</td><td> 8.023590</td><td>1.026986e-15</td><td>1.778294e-13</td></tr>\n",
       "\t<tr><th scope=row>peak-chr17-48136659-48136938</th><td>107.35157</td><td>2.037451</td><td>0.2592918</td><td> 7.857756</td><td>3.910763e-15</td><td>6.196113e-13</td></tr>\n",
       "\t<tr><th scope=row>peak-chr11-112755201-112755506</th><td> 56.50292</td><td>2.073079</td><td>0.2643080</td><td> 7.843419</td><td>4.384422e-15</td><td>6.900432e-13</td></tr>\n",
       "\t<tr><th scope=row>peak-chr2-23672248-23672645</th><td> 49.40120</td><td>2.655359</td><td>0.3392322</td><td> 7.827556</td><td>4.974449e-15</td><td>7.784731e-13</td></tr>\n",
       "\t<tr><th scope=row>peak-chr11-6627355-6627564</th><td> 75.91394</td><td>2.161085</td><td>0.2768577</td><td> 7.805759</td><td>5.914428e-15</td><td>9.109647e-13</td></tr>\n",
       "</tbody>\n",
       "</table>\n"
      ],
      "text/latex": [
       "A data.frame: 20 × 6\n",
       "\\begin{tabular}{r|llllll}\n",
       "  & baseMean & log2FoldChange & lfcSE & stat & pvalue & padj\\\\\n",
       "  & <dbl> & <dbl> & <dbl> & <dbl> & <dbl> & <dbl>\\\\\n",
       "\\hline\n",
       "\tpeak-chr4-17581932-17582182 & 100.31767 & 3.889667 & 0.2597773 & 14.973084 & 1.100953e-50 & 6.087683e-46\\\\\n",
       "\tpeak-chr6-43804096-43804441 & 172.62966 & 1.721841 & 0.1625232 & 10.594432 & 3.162551e-26 & 3.544706e-23\\\\\n",
       "\tpeak-chr3-115775143-115775361 &  51.70124 & 3.245185 & 0.3372836 &  9.621530 & 6.485925e-22 & 3.610440e-19\\\\\n",
       "\tpeak-chr2-133178441-133178662 &  78.75060 & 2.464606 & 0.2639840 &  9.336194 & 9.985890e-21 & 4.575965e-18\\\\\n",
       "\tpeak-chr3-71772786-71773061 &  55.71386 & 2.724314 & 0.2973036 &  9.163408 & 5.028382e-20 & 2.000307e-17\\\\\n",
       "\tpeak-chr3-179984965-179985522 &  56.59627 & 2.944213 & 0.3508117 &  8.392574 & 4.756142e-17 & 1.053362e-14\\\\\n",
       "\tpeak-chr20-56810012-56810439 &  58.07287 & 2.961955 & 0.3530934 &  8.388589 & 4.920095e-17 & 1.086771e-14\\\\\n",
       "\tpeak-chr1-54875176-54875462 &  93.82417 & 1.973000 & 0.2362314 &  8.351979 & 6.712852e-17 & 1.440562e-14\\\\\n",
       "\tpeak-chr7-154180526-154180932 &  44.27482 & 2.945653 & 0.3532528 &  8.338654 & 7.514078e-17 & 1.589879e-14\\\\\n",
       "\tpeak-chr19-18609846-18610167 &  54.52840 & 2.367876 & 0.2852161 &  8.302041 & 1.023377e-16 & 2.135370e-14\\\\\n",
       "\tpeak-chr10-111650229-111650688 &  48.60518 & 3.159106 & 0.3808660 &  8.294534 & 1.090116e-16 & 2.268919e-14\\\\\n",
       "\tpeak-chr1-22667336-22667676 &  98.39734 & 1.794688 & 0.2167036 &  8.281762 & 1.213660e-16 & 2.497850e-14\\\\\n",
       "\tpeak-chr6-127724888-127725568 &  41.04400 & 2.862149 & 0.3491363 &  8.197798 & 2.448299e-16 & 4.733491e-14\\\\\n",
       "\tpeak-chr8-53305230-53305611 & 137.32789 & 1.479820 & 0.1839449 &  8.044910 & 8.630867e-16 & 1.511851e-13\\\\\n",
       "\tpeak-chr8-38129843-38130087 &  98.25323 & 1.756285 & 0.2187449 &  8.028919 & 9.833559e-16 & 1.713477e-13\\\\\n",
       "\tpeak-chr14-100821142-100821708 &  62.64537 & 2.546236 & 0.3173437 &  8.023590 & 1.026986e-15 & 1.778294e-13\\\\\n",
       "\tpeak-chr17-48136659-48136938 & 107.35157 & 2.037451 & 0.2592918 &  7.857756 & 3.910763e-15 & 6.196113e-13\\\\\n",
       "\tpeak-chr11-112755201-112755506 &  56.50292 & 2.073079 & 0.2643080 &  7.843419 & 4.384422e-15 & 6.900432e-13\\\\\n",
       "\tpeak-chr2-23672248-23672645 &  49.40120 & 2.655359 & 0.3392322 &  7.827556 & 4.974449e-15 & 7.784731e-13\\\\\n",
       "\tpeak-chr11-6627355-6627564 &  75.91394 & 2.161085 & 0.2768577 &  7.805759 & 5.914428e-15 & 9.109647e-13\\\\\n",
       "\\end{tabular}\n"
      ],
      "text/markdown": [
       "\n",
       "A data.frame: 20 × 6\n",
       "\n",
       "| <!--/--> | baseMean &lt;dbl&gt; | log2FoldChange &lt;dbl&gt; | lfcSE &lt;dbl&gt; | stat &lt;dbl&gt; | pvalue &lt;dbl&gt; | padj &lt;dbl&gt; |\n",
       "|---|---|---|---|---|---|---|\n",
       "| peak-chr4-17581932-17582182 | 100.31767 | 3.889667 | 0.2597773 | 14.973084 | 1.100953e-50 | 6.087683e-46 |\n",
       "| peak-chr6-43804096-43804441 | 172.62966 | 1.721841 | 0.1625232 | 10.594432 | 3.162551e-26 | 3.544706e-23 |\n",
       "| peak-chr3-115775143-115775361 |  51.70124 | 3.245185 | 0.3372836 |  9.621530 | 6.485925e-22 | 3.610440e-19 |\n",
       "| peak-chr2-133178441-133178662 |  78.75060 | 2.464606 | 0.2639840 |  9.336194 | 9.985890e-21 | 4.575965e-18 |\n",
       "| peak-chr3-71772786-71773061 |  55.71386 | 2.724314 | 0.2973036 |  9.163408 | 5.028382e-20 | 2.000307e-17 |\n",
       "| peak-chr3-179984965-179985522 |  56.59627 | 2.944213 | 0.3508117 |  8.392574 | 4.756142e-17 | 1.053362e-14 |\n",
       "| peak-chr20-56810012-56810439 |  58.07287 | 2.961955 | 0.3530934 |  8.388589 | 4.920095e-17 | 1.086771e-14 |\n",
       "| peak-chr1-54875176-54875462 |  93.82417 | 1.973000 | 0.2362314 |  8.351979 | 6.712852e-17 | 1.440562e-14 |\n",
       "| peak-chr7-154180526-154180932 |  44.27482 | 2.945653 | 0.3532528 |  8.338654 | 7.514078e-17 | 1.589879e-14 |\n",
       "| peak-chr19-18609846-18610167 |  54.52840 | 2.367876 | 0.2852161 |  8.302041 | 1.023377e-16 | 2.135370e-14 |\n",
       "| peak-chr10-111650229-111650688 |  48.60518 | 3.159106 | 0.3808660 |  8.294534 | 1.090116e-16 | 2.268919e-14 |\n",
       "| peak-chr1-22667336-22667676 |  98.39734 | 1.794688 | 0.2167036 |  8.281762 | 1.213660e-16 | 2.497850e-14 |\n",
       "| peak-chr6-127724888-127725568 |  41.04400 | 2.862149 | 0.3491363 |  8.197798 | 2.448299e-16 | 4.733491e-14 |\n",
       "| peak-chr8-53305230-53305611 | 137.32789 | 1.479820 | 0.1839449 |  8.044910 | 8.630867e-16 | 1.511851e-13 |\n",
       "| peak-chr8-38129843-38130087 |  98.25323 | 1.756285 | 0.2187449 |  8.028919 | 9.833559e-16 | 1.713477e-13 |\n",
       "| peak-chr14-100821142-100821708 |  62.64537 | 2.546236 | 0.3173437 |  8.023590 | 1.026986e-15 | 1.778294e-13 |\n",
       "| peak-chr17-48136659-48136938 | 107.35157 | 2.037451 | 0.2592918 |  7.857756 | 3.910763e-15 | 6.196113e-13 |\n",
       "| peak-chr11-112755201-112755506 |  56.50292 | 2.073079 | 0.2643080 |  7.843419 | 4.384422e-15 | 6.900432e-13 |\n",
       "| peak-chr2-23672248-23672645 |  49.40120 | 2.655359 | 0.3392322 |  7.827556 | 4.974449e-15 | 7.784731e-13 |\n",
       "| peak-chr11-6627355-6627564 |  75.91394 | 2.161085 | 0.2768577 |  7.805759 | 5.914428e-15 | 9.109647e-13 |\n",
       "\n"
      ],
      "text/plain": [
       "                               baseMean  log2FoldChange lfcSE     stat     \n",
       "peak-chr4-17581932-17582182    100.31767 3.889667       0.2597773 14.973084\n",
       "peak-chr6-43804096-43804441    172.62966 1.721841       0.1625232 10.594432\n",
       "peak-chr3-115775143-115775361   51.70124 3.245185       0.3372836  9.621530\n",
       "peak-chr2-133178441-133178662   78.75060 2.464606       0.2639840  9.336194\n",
       "peak-chr3-71772786-71773061     55.71386 2.724314       0.2973036  9.163408\n",
       "peak-chr3-179984965-179985522   56.59627 2.944213       0.3508117  8.392574\n",
       "peak-chr20-56810012-56810439    58.07287 2.961955       0.3530934  8.388589\n",
       "peak-chr1-54875176-54875462     93.82417 1.973000       0.2362314  8.351979\n",
       "peak-chr7-154180526-154180932   44.27482 2.945653       0.3532528  8.338654\n",
       "peak-chr19-18609846-18610167    54.52840 2.367876       0.2852161  8.302041\n",
       "peak-chr10-111650229-111650688  48.60518 3.159106       0.3808660  8.294534\n",
       "peak-chr1-22667336-22667676     98.39734 1.794688       0.2167036  8.281762\n",
       "peak-chr6-127724888-127725568   41.04400 2.862149       0.3491363  8.197798\n",
       "peak-chr8-53305230-53305611    137.32789 1.479820       0.1839449  8.044910\n",
       "peak-chr8-38129843-38130087     98.25323 1.756285       0.2187449  8.028919\n",
       "peak-chr14-100821142-100821708  62.64537 2.546236       0.3173437  8.023590\n",
       "peak-chr17-48136659-48136938   107.35157 2.037451       0.2592918  7.857756\n",
       "peak-chr11-112755201-112755506  56.50292 2.073079       0.2643080  7.843419\n",
       "peak-chr2-23672248-23672645     49.40120 2.655359       0.3392322  7.827556\n",
       "peak-chr11-6627355-6627564      75.91394 2.161085       0.2768577  7.805759\n",
       "                               pvalue       padj        \n",
       "peak-chr4-17581932-17582182    1.100953e-50 6.087683e-46\n",
       "peak-chr6-43804096-43804441    3.162551e-26 3.544706e-23\n",
       "peak-chr3-115775143-115775361  6.485925e-22 3.610440e-19\n",
       "peak-chr2-133178441-133178662  9.985890e-21 4.575965e-18\n",
       "peak-chr3-71772786-71773061    5.028382e-20 2.000307e-17\n",
       "peak-chr3-179984965-179985522  4.756142e-17 1.053362e-14\n",
       "peak-chr20-56810012-56810439   4.920095e-17 1.086771e-14\n",
       "peak-chr1-54875176-54875462    6.712852e-17 1.440562e-14\n",
       "peak-chr7-154180526-154180932  7.514078e-17 1.589879e-14\n",
       "peak-chr19-18609846-18610167   1.023377e-16 2.135370e-14\n",
       "peak-chr10-111650229-111650688 1.090116e-16 2.268919e-14\n",
       "peak-chr1-22667336-22667676    1.213660e-16 2.497850e-14\n",
       "peak-chr6-127724888-127725568  2.448299e-16 4.733491e-14\n",
       "peak-chr8-53305230-53305611    8.630867e-16 1.511851e-13\n",
       "peak-chr8-38129843-38130087    9.833559e-16 1.713477e-13\n",
       "peak-chr14-100821142-100821708 1.026986e-15 1.778294e-13\n",
       "peak-chr17-48136659-48136938   3.910763e-15 6.196113e-13\n",
       "peak-chr11-112755201-112755506 4.384422e-15 6.900432e-13\n",
       "peak-chr2-23672248-23672645    4.974449e-15 7.784731e-13\n",
       "peak-chr11-6627355-6627564     5.914428e-15 9.109647e-13"
      ]
     },
     "metadata": {},
     "output_type": "display_data"
    }
   ],
   "source": [
    "head(cytb,20)"
   ]
  },
  {
   "cell_type": "code",
   "execution_count": 9,
   "id": "hawaiian-brush",
   "metadata": {},
   "outputs": [
    {
     "data": {
      "text/html": [
       "<table class=\"dataframe\">\n",
       "<caption>A data.frame: 6 × 8</caption>\n",
       "<thead>\n",
       "\t<tr><th></th><th scope=col>V1</th><th scope=col>V2</th><th scope=col>V3</th><th scope=col>V4</th><th scope=col>counts</th><th scope=col>peaks</th><th scope=col>upr</th><th scope=col>dor</th></tr>\n",
       "\t<tr><th></th><th scope=col>&lt;fct&gt;</th><th scope=col>&lt;int&gt;</th><th scope=col>&lt;int&gt;</th><th scope=col>&lt;fct&gt;</th><th scope=col>&lt;dbl&gt;</th><th scope=col>&lt;chr&gt;</th><th scope=col>&lt;lgl&gt;</th><th scope=col>&lt;lgl&gt;</th></tr>\n",
       "</thead>\n",
       "<tbody>\n",
       "\t<tr><th scope=row>1</th><td>chr1</td><td>755248</td><td>757745</td><td>beta                                        </td><td>1</td><td>peak-chr1-755248-757745</td><td>FALSE</td><td>FALSE</td></tr>\n",
       "\t<tr><th scope=row>2</th><td>chr1</td><td>762279</td><td>763259</td><td>acinar,alpha,beta,delta,endothelial,stellate</td><td>6</td><td>peak-chr1-762279-763259</td><td>FALSE</td><td>FALSE</td></tr>\n",
       "\t<tr><th scope=row>3</th><td>chr1</td><td>767391</td><td>768426</td><td>acinar,alpha,beta,delta,stellate            </td><td>5</td><td>peak-chr1-767391-768426</td><td>FALSE</td><td> TRUE</td></tr>\n",
       "\t<tr><th scope=row>4</th><td>chr1</td><td>786797</td><td>787798</td><td>alpha,beta                                  </td><td>2</td><td>peak-chr1-786797-787798</td><td>FALSE</td><td>FALSE</td></tr>\n",
       "\t<tr><th scope=row>5</th><td>chr1</td><td>793418</td><td>794514</td><td>acinar,alpha,beta,delta,stellate            </td><td>5</td><td>peak-chr1-793418-794514</td><td>FALSE</td><td> TRUE</td></tr>\n",
       "\t<tr><th scope=row>6</th><td>chr1</td><td>804948</td><td>805700</td><td>acinar,alpha,beta,delta,endothelial,stellate</td><td>6</td><td>peak-chr1-804948-805700</td><td>FALSE</td><td>FALSE</td></tr>\n",
       "</tbody>\n",
       "</table>\n"
      ],
      "text/latex": [
       "A data.frame: 6 × 8\n",
       "\\begin{tabular}{r|llllllll}\n",
       "  & V1 & V2 & V3 & V4 & counts & peaks & upr & dor\\\\\n",
       "  & <fct> & <int> & <int> & <fct> & <dbl> & <chr> & <lgl> & <lgl>\\\\\n",
       "\\hline\n",
       "\t1 & chr1 & 755248 & 757745 & beta                                         & 1 & peak-chr1-755248-757745 & FALSE & FALSE\\\\\n",
       "\t2 & chr1 & 762279 & 763259 & acinar,alpha,beta,delta,endothelial,stellate & 6 & peak-chr1-762279-763259 & FALSE & FALSE\\\\\n",
       "\t3 & chr1 & 767391 & 768426 & acinar,alpha,beta,delta,stellate             & 5 & peak-chr1-767391-768426 & FALSE &  TRUE\\\\\n",
       "\t4 & chr1 & 786797 & 787798 & alpha,beta                                   & 2 & peak-chr1-786797-787798 & FALSE & FALSE\\\\\n",
       "\t5 & chr1 & 793418 & 794514 & acinar,alpha,beta,delta,stellate             & 5 & peak-chr1-793418-794514 & FALSE &  TRUE\\\\\n",
       "\t6 & chr1 & 804948 & 805700 & acinar,alpha,beta,delta,endothelial,stellate & 6 & peak-chr1-804948-805700 & FALSE & FALSE\\\\\n",
       "\\end{tabular}\n"
      ],
      "text/markdown": [
       "\n",
       "A data.frame: 6 × 8\n",
       "\n",
       "| <!--/--> | V1 &lt;fct&gt; | V2 &lt;int&gt; | V3 &lt;int&gt; | V4 &lt;fct&gt; | counts &lt;dbl&gt; | peaks &lt;chr&gt; | upr &lt;lgl&gt; | dor &lt;lgl&gt; |\n",
       "|---|---|---|---|---|---|---|---|---|\n",
       "| 1 | chr1 | 755248 | 757745 | beta                                         | 1 | peak-chr1-755248-757745 | FALSE | FALSE |\n",
       "| 2 | chr1 | 762279 | 763259 | acinar,alpha,beta,delta,endothelial,stellate | 6 | peak-chr1-762279-763259 | FALSE | FALSE |\n",
       "| 3 | chr1 | 767391 | 768426 | acinar,alpha,beta,delta,stellate             | 5 | peak-chr1-767391-768426 | FALSE |  TRUE |\n",
       "| 4 | chr1 | 786797 | 787798 | alpha,beta                                   | 2 | peak-chr1-786797-787798 | FALSE | FALSE |\n",
       "| 5 | chr1 | 793418 | 794514 | acinar,alpha,beta,delta,stellate             | 5 | peak-chr1-793418-794514 | FALSE |  TRUE |\n",
       "| 6 | chr1 | 804948 | 805700 | acinar,alpha,beta,delta,endothelial,stellate | 6 | peak-chr1-804948-805700 | FALSE | FALSE |\n",
       "\n"
      ],
      "text/plain": [
       "  V1   V2     V3     V4                                           counts\n",
       "1 chr1 755248 757745 beta                                         1     \n",
       "2 chr1 762279 763259 acinar,alpha,beta,delta,endothelial,stellate 6     \n",
       "3 chr1 767391 768426 acinar,alpha,beta,delta,stellate             5     \n",
       "4 chr1 786797 787798 alpha,beta                                   2     \n",
       "5 chr1 793418 794514 acinar,alpha,beta,delta,stellate             5     \n",
       "6 chr1 804948 805700 acinar,alpha,beta,delta,endothelial,stellate 6     \n",
       "  peaks                   upr   dor  \n",
       "1 peak-chr1-755248-757745 FALSE FALSE\n",
       "2 peak-chr1-762279-763259 FALSE FALSE\n",
       "3 peak-chr1-767391-768426 FALSE  TRUE\n",
       "4 peak-chr1-786797-787798 FALSE FALSE\n",
       "5 peak-chr1-793418-794514 FALSE  TRUE\n",
       "6 peak-chr1-804948-805700 FALSE FALSE"
      ]
     },
     "metadata": {},
     "output_type": "display_data"
    }
   ],
   "source": [
    "head(annp)"
   ]
  },
  {
   "cell_type": "markdown",
   "id": "stock-tattoo",
   "metadata": {},
   "source": [
    "## Motif enrichment in beta cell specific peaks "
   ]
  },
  {
   "cell_type": "code",
   "execution_count": 11,
   "id": "stunning-jerusalem",
   "metadata": {},
   "outputs": [],
   "source": [
    "tab1 = subset(annp, V4==\"beta\")\n",
    "    write.table(tab1[tab1$upr==T,1:3],  \"homer_beta/beta_spec.up.bed\", \n",
    "                sep=\"\\t\", quote=F, row.names=F, col.names=F)\n",
    "    write.table(tab1[tab1$dor==T,1:3],  \"homer_beta/beta_spec.down.bed\", \n",
    "                sep=\"\\t\", quote=F, row.names=F, col.names=F)"
   ]
  },
  {
   "cell_type": "code",
   "execution_count": 14,
   "id": "sunrise-anthropology",
   "metadata": {},
   "outputs": [],
   "source": [
    "write.table(annp[annp$upr==T,1:3],  \"homer_beta/all.up.bed\", \n",
    "                sep=\"\\t\", quote=F, row.names=F, col.names=F)\n",
    "    write.table(annp[annp$dor==T,1:3],  \"homer_beta/all.down.bed\", \n",
    "                sep=\"\\t\", quote=F, row.names=F, col.names=F)"
   ]
  },
  {
   "cell_type": "code",
   "execution_count": 13,
   "id": "recorded-trash",
   "metadata": {},
   "outputs": [],
   "source": [
    "run_homer = function(bedfile, outdir, bgfile )\n",
    "{\n",
    "    system(paste ('findMotifsGenome.pl', bedfile, '/nfs/lab/KG/ref/male.masked.hg19.fa', \n",
    "       outdir,  '-bg', bgfile,  '-nomotif' ))\n",
    "}"
   ]
  },
  {
   "cell_type": "code",
   "execution_count": 15,
   "id": "veterinary-behalf",
   "metadata": {},
   "outputs": [],
   "source": [
    "run_homer(bedfile = paste0(getwd(),\"/homer_beta/beta_spec.up.bed\"),\n",
    "          outdir  = paste0(getwd(),\"/homer_beta/beta_spec.up\"),\n",
    "          bgfile  = paste0(getwd(),\"/homer_beta/all.up.bed\"))"
   ]
  },
  {
   "cell_type": "code",
   "execution_count": null,
   "id": "employed-sunglasses",
   "metadata": {},
   "outputs": [],
   "source": [
    "run_homer(bedfile = paste0(getwd(),\"/homer_beta/beta_spec.down.bed\"),\n",
    "          outdir  = paste0(getwd(),\"/homer_beta/beta_spec.down\"),\n",
    "          bgfile  = paste0(getwd(),\"/homer_beta/all.down.bed\"))"
   ]
  },
  {
   "cell_type": "code",
   "execution_count": null,
   "id": "internal-identifier",
   "metadata": {},
   "outputs": [],
   "source": []
  }
 ],
 "metadata": {
  "kernelspec": {
   "display_name": "R 4.1",
   "language": "R",
   "name": "ir41"
  },
  "language_info": {
   "codemirror_mode": "r",
   "file_extension": ".r",
   "mimetype": "text/x-r-source",
   "name": "R",
   "pygments_lexer": "r",
   "version": "4.1.1"
  }
 },
 "nbformat": 4,
 "nbformat_minor": 5
}
