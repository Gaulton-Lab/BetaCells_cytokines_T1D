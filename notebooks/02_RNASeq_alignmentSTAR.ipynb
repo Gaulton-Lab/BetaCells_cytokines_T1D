{
 "cells": [
  {
   "cell_type": "code",
   "execution_count": 1,
   "metadata": {},
   "outputs": [],
   "source": [
    "library(stringr)\n",
    "library(parallel)"
   ]
  },
  {
   "cell_type": "code",
   "execution_count": 25,
   "metadata": {},
   "outputs": [],
   "source": [
    "samples = readLines(\"../data/RNAseq/sample_list\")"
   ]
  },
  {
   "cell_type": "code",
   "execution_count": 26,
   "metadata": {},
   "outputs": [],
   "source": [
    "samples = readLines(\"../data/RNAseq/sample_list_2\")"
   ]
  },
  {
   "cell_type": "markdown",
   "metadata": {},
   "source": [
    " merge samples from two different runs in one  "
   ]
  },
  {
   "cell_type": "code",
   "execution_count": 49,
   "metadata": {},
   "outputs": [],
   "source": [
    "# setwd(\"/nfs/lab/projects/islet_cytok/data/RNAseq/\")\n",
    "# for (samp in samples[10]){\n",
    "    \n",
    "# system(paste( 'cat', paste0(samp,'_R1_001.fastq.gz'), paste0(gsub(\"L001\", \"L007\", samp),'_R1_001.fastq.gz'),\n",
    "#      \">\", paste0(gsub(\"L001\", \"combined\", samp),'_R1_001.fastq.gz')) )\n",
    "# system(paste( 'cat', paste0(samp,'_R2_001.fastq.gz'), paste0(gsub(\"L001\", \"L007\", samp),'_R2_001.fastq.gz'),\n",
    "#      \">\", paste0(gsub(\"L001\", \"combined\", samp),'_R2_001.fastq.gz')) )    \n",
    "    \n",
    "# }"
   ]
  },
  {
   "cell_type": "code",
   "execution_count": 50,
   "metadata": {},
   "outputs": [],
   "source": [
    "samples =gsub(\"L001\", \"combined\", samples)"
   ]
  },
  {
   "cell_type": "code",
   "execution_count": 2,
   "metadata": {},
   "outputs": [],
   "source": [
    "home = '/nfs/lab/projects/islet_cytok/pipeline/RNAseq/sample'"
   ]
  },
  {
   "cell_type": "code",
   "execution_count": 8,
   "metadata": {},
   "outputs": [],
   "source": [
    "align = function (samp) {\n",
    "outdir = paste( home, samp , \"alignment\", sep=\"/\")\n",
    "c1     = paste( \"mkdir -p\",  outdir)\n",
    "c2     = paste( \"cd\"      ,  outdir)\n",
    "\n",
    "r1     = paste('/nfs/lab/projects/islet_cytok/data/RNAseq/', samp, '_R1_001.fastq.gz', sep=\"\")\n",
    "r2     = paste('/nfs/lab/projects/islet_cytok/data/RNAseq/', samp, '_R2_001.fastq.gz', sep=\"\")\n",
    "\n",
    "pars   = paste(\" LB:\", samp, \" SM:\", samp, sep=\"\") \n",
    "\n",
    "c3 = paste(\n",
    "'STAR' ,\n",
    "\t'--runThreadN 16' ,\n",
    "#'--genomeDir /nfs/lab/star_index_hg19_sorted_20151123' ,\n",
    "    '--genomeDir /home/ysun/reference/starIndex/hg19' ,\n",
    "\t'--genomeLoad LoadAndKeep' , ###LoadAndRemove\n",
    "\t'--readFilesCommand zcat' ,\n",
    "\t'--readFilesIn', r1, r2, \n",
    "\t'--outSAMattributes All' ,\n",
    "\t'--outSAMunmapped Within' ,\n",
    "\t'--outSAMattrRGline ID:1 PL:ILLUMINA',  pars,\n",
    "\t'--outFilterMultimapNmax 20' ,\n",
    "\t'--outFilterMismatchNmax 999' ,\n",
    "\t'--alignIntronMin 20' ,\n",
    "\t'--alignIntronMax 1000000' ,\n",
    "\t'--alignMatesGapMax 1000000' ,\n",
    "\t'--outSAMtype BAM Unsorted' ,\n",
    "\t'--quantMode TranscriptomeSAM')\n",
    "\n",
    "system(c1)\n",
    "system(c2)\n",
    "system(c3)\n",
    "\n",
    "outname = paste(outdir, samp, sep=\"/\")    \n",
    "files = c('Aligned.out.bam', 'Log.out', 'Log.final.out', 'Log.progress.out', \n",
    "          'SJ.out.tab', 'Aligned.toTranscriptome.out.bam') \n",
    "    \n",
    "    \n",
    "for (f in files){\n",
    "c = paste(\"mv \", f, \" \", outname, \"_\", f, sep=\"\")\n",
    "    system(c)\n",
    "}\n",
    "    \n",
    "    \n",
    "system(\"rm -r _STARtmp\")\n",
    "    }"
   ]
  },
  {
   "cell_type": "code",
   "execution_count": 59,
   "metadata": {},
   "outputs": [],
   "source": [
    "for (s in samples){\n",
    "    align(samp=s)\n",
    "}"
   ]
  }
 ],
 "metadata": {
  "kernelspec": {
   "display_name": "R 4.1",
   "language": "R",
   "name": "ir41"
  },
  "language_info": {
   "codemirror_mode": "r",
   "file_extension": ".r",
   "mimetype": "text/x-r-source",
   "name": "R",
   "pygments_lexer": "r",
   "version": "4.1.1"
  }
 },
 "nbformat": 4,
 "nbformat_minor": 2
}
