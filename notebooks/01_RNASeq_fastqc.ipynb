{
 "cells": [
  {
   "cell_type": "code",
   "execution_count": 1,
   "metadata": {},
   "outputs": [],
   "source": [
    "library(stringr)\n",
    "library(parallel)"
   ]
  },
  {
   "cell_type": "code",
   "execution_count": 6,
   "metadata": {},
   "outputs": [],
   "source": [
    "samples = readLines(\"../data/RNAseq/sample_list\")"
   ]
  },
  {
   "cell_type": "code",
   "execution_count": 3,
   "metadata": {},
   "outputs": [],
   "source": [
    "samples = readLines(\"../data/RNAseq/sample_list_2\")"
   ]
  },
  {
   "cell_type": "code",
   "execution_count": 5,
   "metadata": {},
   "outputs": [],
   "source": [
    "home = '/nfs/lab/projects/islet_cytok/pipeline/RNAseq/sample'"
   ]
  },
  {
   "cell_type": "code",
   "execution_count": 2,
   "metadata": {},
   "outputs": [],
   "source": [
    "fastqc = function (samp) {\n",
    "outdir = paste( home, samp , \"qc\", sep=\"/\")\n",
    "c1     = paste( \"mkdir -p\",  outdir)\n",
    "c2     = paste( \"cd\"      ,  outdir)\n",
    "\n",
    "r1     = paste('/nfs/lab/projects/islet_cytok/data/RNAseq/', samp, '_R1_001.fastq.gz', sep=\"\")\n",
    "r2     = paste('/nfs/lab/projects/islet_cytok/data/RNAseq/', samp, '_R2_001.fastq.gz', sep=\"\")\n",
    "\n",
    "c3     = paste( \"fastqc --outdir\", outdir,  '--nogroup --threads 2' , r1, r2)\n",
    "\n",
    "system(c1)\n",
    "system(c2)\n",
    "system(c3)\n",
    "    }"
   ]
  },
  {
   "cell_type": "code",
   "execution_count": 11,
   "metadata": {},
   "outputs": [],
   "source": [
    "invisible(mclapply(samples, fastqc, mc.cores = 32))"
   ]
  },
  {
   "cell_type": "markdown",
   "metadata": {},
   "source": [
    "### New batch"
   ]
  },
  {
   "cell_type": "code",
   "execution_count": 10,
   "metadata": {},
   "outputs": [],
   "source": [
    "fi = list.files('/nfs/lab/projects/islet_dex/data/RNAseq/RNAseq_supp/')\n",
    "fi = fi[grepl(\"islet_dex\", fi)]\n",
    "samples = str_split_fixed(fi, '_R',2)[,1]"
   ]
  },
  {
   "cell_type": "code",
   "execution_count": 12,
   "metadata": {},
   "outputs": [],
   "source": [
    "for (fl in fi){\n",
    "    system(\n",
    "    paste0('ln -s /nfs/lab/projects/islet_dex/data/RNAseq/RNAseq_supp/', \n",
    "           fl, \" /nfs/lab/projects/islet_cytok/data/RNAseq/\")\n",
    "    )\n",
    "}"
   ]
  },
  {
   "cell_type": "code",
   "execution_count": 13,
   "metadata": {},
   "outputs": [],
   "source": [
    "invisible(mclapply(samples, fastqc, mc.cores = 32))"
   ]
  },
  {
   "cell_type": "code",
   "execution_count": null,
   "metadata": {},
   "outputs": [],
   "source": []
  }
 ],
 "metadata": {
  "kernelspec": {
   "display_name": "R 4.1",
   "language": "R",
   "name": "ir41"
  },
  "language_info": {
   "codemirror_mode": "r",
   "file_extension": ".r",
   "mimetype": "text/x-r-source",
   "name": "R",
   "pygments_lexer": "r",
   "version": "4.1.1"
  }
 },
 "nbformat": 4,
 "nbformat_minor": 2
}
