{
 "cells": [
  {
   "cell_type": "markdown",
   "metadata": {},
   "source": [
    "**Question**: are differentially accessible sites after cytokine stimulation enriched for differentielly expressed genes under the same conditions?"
   ]
  },
  {
   "cell_type": "code",
   "execution_count": 4,
   "metadata": {},
   "outputs": [],
   "source": [
    "suppressPackageStartupMessages(library(stringr))\n",
    "suppressPackageStartupMessages(library(RColorBrewer))\n",
    "suppressPackageStartupMessages(library(tidyr))"
   ]
  },
  {
   "cell_type": "code",
   "execution_count": 5,
   "metadata": {},
   "outputs": [],
   "source": [
    "outdir = '/nfs/lab/projects/islet_cytok/analysis/enrichment_genes'"
   ]
  },
  {
   "cell_type": "code",
   "execution_count": 6,
   "metadata": {},
   "outputs": [],
   "source": [
    "setwd(outdir)"
   ]
  },
  {
   "cell_type": "code",
   "execution_count": 7,
   "metadata": {},
   "outputs": [],
   "source": [
    "rna = read.table(\"../deseq_analysis/g.highcyt3.deseq_results_cytok.tsv\", stringsAsFactors = F)"
   ]
  },
  {
   "cell_type": "code",
   "execution_count": 8,
   "metadata": {},
   "outputs": [],
   "source": [
    "a=sum(rna$padj<0.1, na.rm=T)\n",
    "b=sum(rna$padj<0.1& rna$log2FoldChange >0, na.rm=T)\n",
    "c=sum(rna$padj<0.1& rna$log2FoldChange <0, na.rm=T)"
   ]
  },
  {
   "cell_type": "code",
   "execution_count": 9,
   "metadata": {},
   "outputs": [],
   "source": [
    "#writeLines(rownames(rna)[rna$padj<0.1& rna$log2FoldChange >0], \"Up_genes_hicyt.txt\")\n",
    "#writeLines(rownames(rna)[rna$padj<0.1& rna$log2FoldChange <0], \"Down_genes_hicyt.txt\")"
   ]
  },
  {
   "cell_type": "code",
   "execution_count": 10,
   "metadata": {},
   "outputs": [],
   "source": [
    "atac = read.table('../deseq_ATAC_NEW/cytokine_24hr_Hi.dec16.filtered.txt')\n",
    "\n",
    "rownames(atac) = gsub(\"peak-\", \"\",rownames(atac) )"
   ]
  },
  {
   "cell_type": "markdown",
   "metadata": {},
   "source": [
    "- *Method 1* : assign genes to peaks based promoter proximity (5KB)"
   ]
  },
  {
   "cell_type": "code",
   "execution_count": 9,
   "metadata": {},
   "outputs": [],
   "source": [
    "system('bedtools intersect -a Islet_bulkATAC.bed -b /nfs/lab/publicdata/gencode_v19/gencode.v19.20kb_all_possible_transcripts.bed  -wa -wb > genes_within_10kb')\n",
    "intersec = read.table(\"genes_within_10kb\", sep=\"\\t\")\n",
    "\n",
    "cent1 = intersec[,2] + ((intersec[,3]-intersec[,2])/2) \n",
    "cent2 = intersec[,5] + ((intersec[,6]-intersec[,5])/2) \n",
    "dist = abs(cent1 - cent2)\n"
   ]
  },
  {
   "cell_type": "code",
   "execution_count": 10,
   "metadata": {},
   "outputs": [],
   "source": [
    "intersec$peak = paste(intersec$V1, intersec$V2,intersec$V3, sep=\"-\")\n",
    "int = intersec[,c(8, 7)]\n",
    "colnames(int) = c(\"peak\", \"gene\")\n",
    "int$dist = dist"
   ]
  },
  {
   "cell_type": "code",
   "execution_count": 12,
   "metadata": {},
   "outputs": [],
   "source": [
    "fishtab = function (int, atac, rna, distance = 100000, FC=\"both\", atac_FC = \"both\", fdr=0.1) {\n",
    "int = int[int$dist <= distance, ]\n",
    "int = int[!duplicated(int[,1:2]),]    \n",
    "if(FC==\"both\"){\n",
    "int$gene_diff = int$gene %in% rownames(rna)[rna$padj < fdr ]}\n",
    "if(FC==\"up\"){\n",
    "int$gene_diff = int$gene %in% rownames(rna)[rna$padj < fdr & rna$log2FoldChange >0]}\n",
    "if(FC==\"down\"){\n",
    "int$gene_diff = int$gene %in% rownames(rna)[rna$padj < fdr & rna$log2FoldChange <0]}\n",
    "    \n",
    "ag           = aggregate(gene_diff~peak, int, sum)\n",
    "if(atac_FC==\"both\"){\n",
    "ag$peak_diff = ag$peak %in% rownames(atac)[atac$padj <fdr]}\n",
    "if(atac_FC==\"up\"){\n",
    "ag$peak_diff = ag$peak %in% rownames(atac)[atac$padj <fdr & atac$log2FoldChange >0]\n",
    "#ag = subset(ag, !(ag$peak %in% rownames(atac)[atac$padj <fdr & atac$log2FoldChange <0]) )\n",
    "    }\n",
    "if(atac_FC==\"down\"){\n",
    "ag$peak_diff = ag$peak %in% rownames(atac)[atac$padj <fdr & atac$log2FoldChange <0]\n",
    "#ag = subset(ag, !(ag$peak %in% rownames(atac)[atac$padj <fdr & atac$log2FoldChange >0])) \n",
    "    }\n",
    "    \n",
    "tab          = table(ag$peak_diff, ag$gene_diff>0)\n",
    "    \n",
    "    return(tab)\n",
    "    }"
   ]
  },
  {
   "cell_type": "code",
   "execution_count": 12,
   "metadata": {},
   "outputs": [
    {
     "data": {
      "text/html": [
       "48288"
      ],
      "text/latex": [
       "48288"
      ],
      "text/markdown": [
       "48288"
      ],
      "text/plain": [
       "[1] 48288"
      ]
     },
     "metadata": {},
     "output_type": "display_data"
    }
   ],
   "source": [
    "sum(rownames(atac) %in% int$peak)"
   ]
  },
  {
   "cell_type": "code",
   "execution_count": 13,
   "metadata": {},
   "outputs": [],
   "source": [
    "int_sub = int\n",
    "atac_sub = atac\n",
    "genes_sub = rna"
   ]
  },
  {
   "cell_type": "code",
   "execution_count": 14,
   "metadata": {},
   "outputs": [],
   "source": [
    "tab       = fishtab(int=int_sub, atac=atac_sub, rna=genes_sub, FC=\"both\", atac_FC=\"up\",distance =10000)\n",
    "tab_up    = fishtab(int=int_sub, atac=atac_sub, rna=genes_sub, FC=\"up\",   atac_FC=\"up\",distance =10000)\n",
    "tab_down  = fishtab(int=int_sub, atac=atac_sub, rna=genes_sub, FC=\"down\", atac_FC=\"up\",distance =10000)\n",
    "\n",
    "li = list(tab, tab_up, tab_down)\n",
    "pl = cbind(tab[,2]/rowSums(tab) , tab_up[,2]/rowSums(tab_up) , tab_down[,2]/rowSums(tab_down))\n",
    "colnames(pl) = c('All DEGs', 'Up-reg.', 'Down-reg.')\n",
    "\n",
    "li_up = li\n",
    "pl_up = pl\n",
    "\n",
    "tab       = fishtab(int=int_sub, atac=atac_sub, rna=genes_sub, FC=\"both\", atac_FC=\"down\",distance =10000)\n",
    "tab_up    = fishtab(int=int_sub, atac=atac_sub, rna=genes_sub, FC=\"up\",   atac_FC=\"down\",distance =10000)\n",
    "tab_down  = fishtab(int=int_sub, atac=atac_sub, rna=genes_sub, FC=\"down\", atac_FC=\"down\",distance =10000)\n",
    "li = list(tab, tab_up, tab_down)\n",
    "pl = cbind(tab[,2]/rowSums(tab) , tab_up[,2]/rowSums(tab_up) , tab_down[,2]/rowSums(tab_down))\n",
    "colnames(pl) = c('All DEGs', 'Up-reg.', 'Down-reg.')\n",
    "\n",
    "li_down = li\n",
    "pl_down = pl\n",
    "\n",
    "tab       = fishtab(int=int_sub, atac=atac_sub, rna=genes_sub, FC=\"both\", atac_FC=\"both\")\n",
    "\n",
    "mm = rbind(pl_down[2,], pl_up)\n",
    "mm = mm[,2:3]\n",
    "rownames(mm) = c(\"down\", \"no.diff\", \"up\")\n"
   ]
  },
  {
   "cell_type": "code",
   "execution_count": 15,
   "metadata": {},
   "outputs": [],
   "source": [
    "a=sum(genes_sub$padj<0.05, na.rm=T)\n",
    "b=sum(genes_sub$padj<0.05& genes_sub$log2FoldChange >0, na.rm=T)\n",
    "c=sum(genes_sub$padj<0.05& genes_sub$log2FoldChange <0, na.rm=T)"
   ]
  },
  {
   "cell_type": "code",
   "execution_count": 16,
   "metadata": {},
   "outputs": [],
   "source": [
    "col = rainbow(2)\n",
    "col = c(\"#fdb863\", \"#b2abd2\")"
   ]
  },
  {
   "cell_type": "code",
   "execution_count": 17,
   "metadata": {},
   "outputs": [
    {
     "data": {
      "text/html": [
       "<strong>png:</strong> 2"
      ],
      "text/latex": [
       "\\textbf{png:} 2"
      ],
      "text/markdown": [
       "**png:** 2"
      ],
      "text/plain": [
       "png \n",
       "  2 "
      ]
     },
     "metadata": {},
     "output_type": "display_data"
    }
   ],
   "source": [
    "pdf(\"Enrichment_results_degs_fdr10.pdf\")\n",
    "par(mfrow=c(2,2))\n",
    "\n",
    "bp <- barplot(pl_up, beside=T, ylab = \"frac. peaks with DEGs within 10kb\", las=1,  \n",
    "              legend=TRUE, ylim = c(0,0.5),col=col,\n",
    "        args.legend =list(x = \"topright\", legend =  c('no.diff', 'diff.peak.up'), bty=\"n\"))\n",
    "\n",
    "txt = paste0(\"p=\", sapply(li_up, function(x) signif(fisher.test(x)$p.value,2)))\n",
    "txt2 = paste0(\"OR=\", sapply(li_up, function(x) signif(fisher.test(x)$estimate,2)))\n",
    "text(x=c(2,5,8), y=pl_up[2,]+0.05, labels = paste(txt, txt2, sep=\"\\n\") )    \n",
    "mtext(text = paste0(\"n=\", c(a,b,c)), at = c(2,5,8), side =1, cex=0.8, line = 2)      \n",
    "\n",
    "\n",
    "\n",
    "bp <- barplot(pl_down, beside=T, ylab = \"frac. peaks with DEGs within 10kb\", las=1,  \n",
    "              legend=TRUE, ylim = c(0,0.5),col=col,\n",
    "        args.legend =list(x = \"topright\", legend =  c('no.diff', 'diff.peak.down'), bty=\"n\"))\n",
    "\n",
    "txt = paste0(\"p=\", sapply(li_down, function(x) signif(fisher.test(x)$p.value,2)))\n",
    "txt2 = paste0(\"OR=\", sapply(li_down, function(x) signif(fisher.test(x)$estimate,2)))\n",
    "text(x=c(2,5,8), y=pl_down[2,]+0.05, labels = paste(txt, txt2, sep=\"\\n\") )    \n",
    "mtext(text = paste0(\"n=\", c(a,b,c)), at = c(2,5,8), side =1, cex=0.8, line = 2)      \n",
    "\n",
    "                            \n",
    "bp <- barplot(tab[,2]/rowSums(tab), beside=T, ylab = \"frac. peaks with DEGs within 10kb\", las=1,  \n",
    "              legend=TRUE, ylim = c(0,0.5),col=col,\n",
    "        args.legend =list(x = \"topright\", legend =  c('no.diff', 'diff.peak'), bty=\"n\"))\n",
    "\n",
    "txt = paste0(\"p=\", signif(fisher.test(tab)$p.value,2))\n",
    "txt2 = paste0(\"OR=\", signif(fisher.test(tab)$estimate,2))\n",
    "text(x=1, y=0.45, labels = paste(txt, txt2, sep=\"\\n\") )    \n",
    "mtext(\"overall\")\n",
    "                            \n",
    " bp <- barplot(mm, beside=T, ylab = \"frac. peaks with coacc DEGs\", las=1,  \n",
    "              legend=TRUE, ylim = c(0,0.3),\n",
    "        args.legend =list(x = \"topright\", legend =  rownames(mm), bty=\"n\"))\n",
    "\n",
    "                           dev.off()"
   ]
  },
  {
   "cell_type": "code",
   "execution_count": 18,
   "metadata": {},
   "outputs": [],
   "source": [
    "pl_al = cbind(pl_up[,2:3], pl_down[,2:3])\n",
    "li_al = list(li_up[[2]], li_up[[3]],li_down[[2]], li_down[[3]] )\n",
    "\n",
    "col = brewer.pal(4, 'Paired')"
   ]
  },
  {
   "cell_type": "code",
   "execution_count": 19,
   "metadata": {},
   "outputs": [
    {
     "data": {
      "text/html": [
       "<strong>png:</strong> 2"
      ],
      "text/latex": [
       "\\textbf{png:} 2"
      ],
      "text/markdown": [
       "**png:** 2"
      ],
      "text/plain": [
       "png \n",
       "  2 "
      ]
     },
     "metadata": {},
     "output_type": "display_data"
    }
   ],
   "source": [
    "pdf(\"../cytokine_figures/Enrichemnt_DAC_DEG_promoters.pdf\")\n",
    "par(mfrow=c(2,2))\n",
    "\n",
    "bp <- barplot(pl_al, beside=T, ylab = \"frac. peaks with DEGs within 10kb TSS\", las=1, \n",
    "               ylim = c(0,0.5),col=col[c(1,2,1,2,3,4,3,4)], space=c(0,0.5), \n",
    "              names.arg = c('Up', 'Down', 'Up', 'Down') )\n",
    "        \n",
    "xpos = bp[1,]+((bp[2,]-bp[1,])/2)\n",
    "txt = paste0(\"p=\", sapply(li_al, function(x) signif(fisher.test(x)$p.value,2)))\n",
    "txt2 = paste0(\"OR=\", sapply(li_al, function(x) signif(fisher.test(x)$estimate,2)))\n",
    "text(x=xpos, y=pl_al[2,]+0.07, labels = paste(txt, txt2, sep=\"\\n\") )    \n",
    "mtext(text = paste0(rep(\"genes\",4)), at = xpos, side =1, cex=0.8, line = 2)      \n",
    "\n",
    "\n",
    "plot.new()\n",
    "legend(\"top\", legend =  c( 'Not.DAC.up', 'DAC.up', 'Not.DAC.down', 'DAC.down'), pch=22, pt.bg=col, pt.cex=2)\n",
    "\n",
    "                        \n",
    " dev.off()"
   ]
  },
  {
   "cell_type": "markdown",
   "metadata": {},
   "source": [
    "- *Method 2* : assign genes to peaks based on coaccessibility"
   ]
  },
  {
   "cell_type": "code",
   "execution_count": 20,
   "metadata": {},
   "outputs": [],
   "source": [
    "coacc1 = read.table('../snATAC/coaccess/untreated.beta.coacc.intersect.alsites')\n",
    "coacc2 = read.table('../snATAC/coaccess/cytokine.beta.coacc.intersect.alsites')\n",
    "coacc3 = read.table('../snATAC/coaccess/cyt_unt.beta.coacc.intersect.alsites')"
   ]
  },
  {
   "cell_type": "code",
   "execution_count": 61,
   "metadata": {},
   "outputs": [],
   "source": [
    "###Used in the paper\n",
    "hichip1 = read.table('../snATAC/coaccess/A471.EndoC_unt.pchich.promlab.fdr10.intersect.alsites')\n",
    "hichip2 = read.table('../snATAC/coaccess/A471.EndoC_cyt.pchich.promlab.fdr10.intersect.alsites')"
   ]
  },
  {
   "cell_type": "code",
   "execution_count": 13,
   "metadata": {},
   "outputs": [],
   "source": [
    "###new Hichip\n",
    "#hichip1 = read.table('../snATAC/coaccess/EndoB_HiChIP_UNT_1_01102022_S51.pchich.promlab.intersect.alsites')\n",
    "#hichip2 = read.table('../snATAC/coaccess/EndoB_HiChIP_HiCy_1_01102022_S53.pchich.promlab.intersect.alsites')"
   ]
  },
  {
   "cell_type": "code",
   "execution_count": 14,
   "metadata": {},
   "outputs": [],
   "source": [
    "convert_coacc = function(coacc){\n",
    "coacc = subset(coacc, V8==\"CP\")\n",
    "coacc$peak = paste(coacc$V11,  coacc$V12,  coacc$V13, sep=\"-\")\n",
    "coacc$dist = coacc$V6 - coacc$V2\n",
    "colnames(coacc)[9] = 'gene'\n",
    "colnames(coacc)[10] = 'gene2'\n",
    "\n",
    "coacc$distal = (coacc$gene==\".\" & coacc$V7==\"A\") | (coacc$gene2==\".\" & coacc$V7==\"B\")\n",
    "coacc = subset(coacc, distal ==TRUE)\n",
    "\n",
    "map  = coacc[,c('peak', 'dist', 'gene')]\n",
    "map2 = coacc[,c('peak', 'dist', 'gene2')]\n",
    "colnames(map2)[3] = c('gene')\n",
    "map  = rbind(map, map2)\n",
    "map  = map[!duplicated(map),]\n",
    "\n",
    "map = subset(map, gene!=\".\")\n",
    "\n",
    "commas = str_count(map$gene, \",\")\n",
    "\n",
    "for (cm in 0:4){\n",
    "    if(cm==0){\n",
    "        MAP = subset(map, commas ==0)\n",
    "    }else{\n",
    "        mp = subset(map, commas ==cm)\n",
    "        mp2 = str_split_fixed(mp$gene, \"\\\\,\",cm+1)\n",
    "        mp3 = data.frame(mp[,1:2],mp2,stringsAsFactors = F)\n",
    "        mp4 = gather(mp3, \"column\", \"gene\", -(1:2))\n",
    "        MAP = rbind(MAP, mp4 [,c('peak', 'gene', 'dist')])\n",
    "    }\n",
    "}\n",
    "\n",
    "MAP = MAP[!duplicated(MAP), c('peak','gene','dist')]\n",
    "MAP = subset(MAP, dist > 10000)\n",
    "map_sub = MAP[MAP$gene %in% rownames(rna),]\n",
    "    return(map_sub)\n",
    "    }"
   ]
  },
  {
   "cell_type": "code",
   "execution_count": 15,
   "metadata": {},
   "outputs": [],
   "source": [
    "map_unt = convert_coacc(hichip1)\n",
    "map_cyt = convert_coacc(hichip2)"
   ]
  },
  {
   "cell_type": "code",
   "execution_count": 20,
   "metadata": {},
   "outputs": [],
   "source": [
    "int_sub   = map_cyt\n",
    "atac_sub  = atac\n",
    "genes_sub = rna"
   ]
  },
  {
   "cell_type": "code",
   "execution_count": 21,
   "metadata": {},
   "outputs": [],
   "source": [
    "tab       = fishtab(int=int_sub, atac=atac_sub, rna=genes_sub, FC=\"both\", atac_FC=\"up\",distance =1000000)\n",
    "tab_up    = fishtab(int=int_sub, atac=atac_sub, rna=genes_sub, FC=\"up\",   atac_FC=\"up\",distance =1000000)\n",
    "tab_down  = fishtab(int=int_sub, atac=atac_sub, rna=genes_sub, FC=\"down\", atac_FC=\"up\",distance =1000000)\n",
    "\n",
    "li = list(tab, tab_up, tab_down)\n",
    "pl = cbind(tab[,2]/rowSums(tab) , tab_up[,2]/rowSums(tab_up) , tab_down[,2]/rowSums(tab_down))\n",
    "colnames(pl) = c('All DEGs', 'Up-reg.', 'Down-reg.')\n",
    "\n",
    "li_up = li\n",
    "pl_up = pl\n",
    "\n",
    "tab       = fishtab(int=int_sub, atac=atac_sub, rna=genes_sub, FC=\"both\", atac_FC=\"down\",distance =1000000)\n",
    "tab_up    = fishtab(int=int_sub, atac=atac_sub, rna=genes_sub, FC=\"up\",   atac_FC=\"down\",distance =1000000)\n",
    "tab_down  = fishtab(int=int_sub, atac=atac_sub, rna=genes_sub, FC=\"down\", atac_FC=\"down\",distance =1000000)\n",
    "li = list(tab, tab_up, tab_down)\n",
    "pl = cbind(tab[,2]/rowSums(tab) , tab_up[,2]/rowSums(tab_up) , tab_down[,2]/rowSums(tab_down))\n",
    "colnames(pl) = c('All DEGs', 'Up-reg.', 'Down-reg.')\n",
    "\n",
    "li_down = li\n",
    "pl_down = pl\n",
    "\n",
    "tab       = fishtab(int=int_sub, atac=atac_sub, rna=genes_sub, FC=\"both\", atac_FC=\"both\")\n",
    "\n",
    "mm = rbind(pl_down[2,], pl_up)\n",
    "mm = mm[,2:3]\n",
    "rownames(mm) = c(\"down\", \"no.diff\", \"up\")\n",
    "\n"
   ]
  },
  {
   "cell_type": "code",
   "execution_count": 22,
   "metadata": {},
   "outputs": [],
   "source": [
    "pl_al = cbind(pl_up[,2:3], pl_down[,2:3])\n",
    "li_al = list(li_up[[2]], li_up[[3]],li_down[[2]], li_down[[3]] )\n",
    "\n",
    "col = brewer.pal(4, 'Paired')"
   ]
  },
  {
   "cell_type": "code",
   "execution_count": 23,
   "metadata": {},
   "outputs": [
    {
     "data": {
      "text/html": [
       "<strong>png:</strong> 2"
      ],
      "text/latex": [
       "\\textbf{png:} 2"
      ],
      "text/markdown": [
       "**png:** 2"
      ],
      "text/plain": [
       "png \n",
       "  2 "
      ]
     },
     "metadata": {},
     "output_type": "display_data"
    }
   ],
   "source": [
    "#pdf(\"../cytokine_figures/Enrichemnt_DAC_DEG_coacc_untr.pdf\")\n",
    "#pdf(\"../cytokine_figures/Enrichemnt_DAC_DEG_coacc_cyt.pdf\")\n",
    "#pdf(\"../cytokine_figures/Enrichemnt_DAC_DEG_coacc_cyt_unt.pdf\")\n",
    "#pdf(\"../cytokine_figures/Enrichemnt_DAC_DEG_Hichip_cyt.pdf\")\n",
    "pdf(\"../cytokine_figures/Enrichemnt_DAC_DEG_Hichip_cyt_newbatchdf10.pdf\")\n",
    "par(mfrow=c(2,2), xpd=TRUE)\n",
    "\n",
    "bp <- barplot(pl_al, beside=T, ylab = \"frac. peaks with coacces. DEGs 10-1000kb\", las=1, \n",
    "               ylim = c(0,0.6),col=col[c(1,2,1,2,3,4,3,4)], space=c(0,0.5), \n",
    "              names.arg = c('Up', 'Down', 'Up', 'Down') )\n",
    "        \n",
    "xpos = bp[1,]+((bp[2,]-bp[1,])/2)\n",
    "txt = paste0(\"p=\", sapply(li_al, function(x) signif(fisher.test(x)$p.value,2)))\n",
    "txt2 = paste0(\"OR=\", sapply(li_al, function(x) signif(fisher.test(x)$estimate,2)))\n",
    "text(x=xpos, y=pl_al[2,]+0.07, labels = paste(txt, txt2, sep=\"\\n\") )    \n",
    "mtext(text = paste0(rep(\"genes\",4)), at = xpos, side =1, cex=0.8, line = 2)      \n",
    "\n",
    "\n",
    "plot.new()\n",
    "legend(\"top\", legend =  c( 'Not.DAC.up', 'DAC.up', 'Not.DAC.down', 'DAC.down'), pch=22, pt.bg=col, pt.cex=2)\n",
    "\n",
    "                        \n",
    " dev.off()"
   ]
  },
  {
   "cell_type": "markdown",
   "metadata": {},
   "source": [
    "### Find examples that are validated by HiChiP"
   ]
  },
  {
   "cell_type": "code",
   "execution_count": 101,
   "metadata": {},
   "outputs": [],
   "source": [
    "suppressPackageStartupMessages(library(cicero))\n",
    "suppressPackageStartupMessages(library(parallel))"
   ]
  },
  {
   "cell_type": "code",
   "execution_count": null,
   "metadata": {},
   "outputs": [],
   "source": [
    "### Here is a list of coaccessible gene-distal ATAC that have concordant differential expression and accessibility and that show both coaccessibility AND validation with HiCHIP in only one of the conditions.- for our examples."
   ]
  },
  {
   "cell_type": "code",
   "execution_count": 165,
   "metadata": {},
   "outputs": [],
   "source": [
    "split_commas = function(map, spl=\"gene\" ,colkeep = c('peak','dist')){\n",
    "    \n",
    "    commas = str_count(map[,spl], \",\")\n",
    "   for (cm in 0:max(commas)){\n",
    "    if(cm==0){\n",
    "        MAP = subset(map, commas ==0)\n",
    "    }else{\n",
    "        mp = subset(map, commas ==cm)\n",
    "        mp2 = str_split_fixed(mp[,spl], \"\\\\,\",cm+1)\n",
    "        mp3 = data.frame(mp[,colkeep],mp2,stringsAsFactors = F)\n",
    "        gath_cols= colnames(mp3)[!(colnames(mp3)%in%colkeep) ]\n",
    "        mp4 = gather_(mp3, \"column\", spl, gather_cols=gath_cols)\n",
    "        MAP = rbind(MAP[,c(colkeep,spl )], mp4 [, c(colkeep,spl )])\n",
    "    }\n",
    "}\n",
    " return(MAP)\n",
    "}"
   ]
  },
  {
   "cell_type": "code",
   "execution_count": 103,
   "metadata": {},
   "outputs": [],
   "source": [
    "cyt = read.table('/nfs/lab/projects/islet_cytok/analysis/hichip/cyt/A471_Arima_EndoC_Lo_S3_L002.5k.2.sig3Dinteractions.bedpe', header=T)\n",
    "unt = read.table('/nfs/lab/projects/islet_cytok/analysis/hichip/unt/A471_Arima_EndoB_Lo_S1_L002.5k.2.sig3Dinteractions.bedpe', header=T)\n",
    "\n",
    "cyt = data.frame(Peak1 = paste(cyt[,1], cyt[,2], cyt[,3], sep=\"_\"),\n",
    "                 Peak2 = paste(cyt[,4], cyt[,5], cyt[,6], sep=\"_\"))\n",
    "\n",
    "unt = data.frame(Peak1 = paste(unt[,1], unt[,2], unt[,3], sep=\"_\"),\n",
    "                 Peak2 = paste(unt[,4], unt[,5], unt[,6], sep=\"_\"))\n",
    "\n",
    "cyt = cyt[!duplicated(cyt),]\n",
    "unt = unt[!duplicated(unt),]"
   ]
  },
  {
   "cell_type": "code",
   "execution_count": 113,
   "metadata": {},
   "outputs": [],
   "source": [
    "coacc1$peak = paste(coacc1$V11,  coacc1$V12,  coacc1$V13, sep=\"-\")\n",
    "coacc1$dist = coacc1$V6 - coacc1$V2\n",
    "coac_untr      = subset(coacc1,   ((V9==\".\" & V7==\"A\") | (V10==\".\" & V7==\"B\"))& V8==\"CP\" )\n",
    "coacc2$peak = paste(coacc2$V11,  coacc2$V12,  coacc2$V13, sep=\"-\")\n",
    "coacc2$dist = coacc2$V6 - coacc2$V2\n",
    "coac_cyt      = subset(coacc2,   ((V9==\".\" & V7==\"A\") | (V10==\".\" & V7==\"B\"))& V8==\"CP\" )"
   ]
  },
  {
   "cell_type": "code",
   "execution_count": 114,
   "metadata": {},
   "outputs": [],
   "source": [
    "coac_cyt = data.frame(Peak1 = paste(coac_cyt[,1], coac_cyt[,2], coac_cyt[,3], sep=\"_\"),\n",
    "                 Peak2 = paste(coac_cyt[,4], coac_cyt[,5], coac_cyt[,6], sep=\"_\"), coac_cyt[,c(9,10,14,15)] )\n",
    "\n",
    "coac_untr = data.frame(Peak1 = paste(coac_untr[,1], coac_untr[,2], coac_untr[,3], sep=\"_\"),\n",
    "                 Peak2 = paste(coac_untr[,4], coac_untr[,5], coac_untr[,6], sep=\"_\"), coac_untr[,c(9,10,14,15)] )\n"
   ]
  },
  {
   "cell_type": "code",
   "execution_count": 116,
   "metadata": {},
   "outputs": [],
   "source": [
    "coac_cyt$hichip_cyt = compare_connections(coac_cyt[,1:2], cyt, maxgap=1000)\n",
    "coac_cyt$hichip_unt = compare_connections(coac_cyt[,1:2], unt, maxgap=1000)\n",
    "coac_cyt$coac_unt = compare_connections(coac_cyt[,1:2], coac_untr[,1:2], maxgap=1000)\n",
    "\n",
    "coac_cyt_uni = subset(coac_cyt,hichip_cyt==T & hichip_unt==F &coac_unt==F)\n",
    "\n",
    "coac_cyt_uni = coac_cyt_uni[!duplicated(coac_cyt_uni),]\n",
    "\n",
    "coac_cyt_uni$gene = apply(coac_cyt_uni[,3:4], 1, function(x) x[x!=\".\"])\n",
    "\n",
    "ccu = split_commas(coac_cyt_uni, colkeep=c('Peak1','Peak2', 'peak','dist','hichip_cyt','hichip_unt','coac_unt'))"
   ]
  },
  {
   "cell_type": "code",
   "execution_count": 172,
   "metadata": {},
   "outputs": [],
   "source": [
    "ccu = merge(ccu, atac[,c(1,2,6)], by.x=\"peak\", by.y=\"row.names\")\n",
    "ccu = merge(ccu, rna[,c(1,2,6)], by.x=\"gene\", by.y=\"row.names\")\n",
    "\n",
    "fctab_up = subset(ccu, log2FoldChange.x>0 & log2FoldChange.y>0 & padj.x<0.1 &padj.y<0.1)\n",
    "fctab_up = fctab_up[with(fctab_up, order(padj.y,padj.x)),]"
   ]
  },
  {
   "cell_type": "code",
   "execution_count": 190,
   "metadata": {},
   "outputs": [],
   "source": [
    "write.csv(fctab_up, \"Coaccessible_concordant_validated_examples_up.csv\")"
   ]
  },
  {
   "cell_type": "code",
   "execution_count": 180,
   "metadata": {},
   "outputs": [],
   "source": [
    "sur = readLines('/nfs/lab/projects/islet_cytok/analysis/crispr_screen/Down_genes_cyt.txt')"
   ]
  },
  {
   "cell_type": "code",
   "execution_count": 181,
   "metadata": {},
   "outputs": [],
   "source": [
    "fctab_up$screen = fctab_up$gene %in% sur"
   ]
  },
  {
   "cell_type": "code",
   "execution_count": 185,
   "metadata": {},
   "outputs": [],
   "source": [
    "coac_untr$hichip_cyt = compare_connections(coac_untr[,1:2], cyt, maxgap=1000)\n",
    "coac_untr$hichip_unt = compare_connections(coac_untr[,1:2], unt, maxgap=1000)\n",
    "coac_untr$coac_cyt = compare_connections(coac_untr[,1:2], coac_cyt[,1:2], maxgap=1000)\n",
    "\n",
    "coac_untr_uni = subset(coac_untr,hichip_cyt==F & hichip_unt==T &coac_cyt==F)\n",
    "coac_untr_uni = coac_untr_uni[!duplicated(coac_untr_uni),]\n",
    "\n",
    "coac_untr_uni$gene = apply(coac_untr_uni[,3:4], 1, function(x) x[x!=\".\"])\n",
    "\n",
    "cuu = split_commas(coac_untr_uni, colkeep=c('Peak1','Peak2', 'peak','dist','hichip_cyt','hichip_unt','coac_cyt'))"
   ]
  },
  {
   "cell_type": "code",
   "execution_count": 186,
   "metadata": {},
   "outputs": [],
   "source": [
    "cuu = merge(cuu, atac[,c(1,2,6)], by.x=\"peak\", by.y=\"row.names\")\n",
    "cuu = merge(cuu, rna[,c(1,2,6)], by.x=\"gene\", by.y=\"row.names\")\n",
    "\n",
    "fctab_do = subset(cuu, log2FoldChange.x<0 & log2FoldChange.y<0 & padj.x<0.1 &padj.y<0.1)\n",
    "fctab_do = fctab_do[with(fctab_do, order(padj.y,padj.x),]"
   ]
  },
  {
   "cell_type": "code",
   "execution_count": 187,
   "metadata": {},
   "outputs": [],
   "source": [
    "fctab_do$screen = fctab_do$gene %in% readLines('/nfs/lab/projects/islet_cytok/analysis/crispr_screen/Up_genes_cyt.txt')"
   ]
  },
  {
   "cell_type": "code",
   "execution_count": 191,
   "metadata": {},
   "outputs": [],
   "source": [
    "write.csv(fctab_do, \"Coaccessible_concordant_validated_examples_down.csv\")"
   ]
  },
  {
   "cell_type": "markdown",
   "metadata": {},
   "source": [
    "### Plot Connection examples "
   ]
  },
  {
   "cell_type": "code",
   "execution_count": 4,
   "metadata": {},
   "outputs": [],
   "source": [
    "suppressPackageStartupMessages(library(data.table))"
   ]
  },
  {
   "cell_type": "code",
   "execution_count": 5,
   "metadata": {},
   "outputs": [],
   "source": [
    "gene_annotation <- read.table('/home/joshchiou/references/gencode.v19.cicero_gene_annotation.txt', header=T, stringsAsFactors=FALSE)\n",
    "gene_annotation <- gene_annotation[gene_annotation[['feature']]=='protein_coding',]"
   ]
  },
  {
   "cell_type": "code",
   "execution_count": 6,
   "metadata": {},
   "outputs": [],
   "source": [
    "cells = c('untreated','cytokine')"
   ]
  },
  {
   "cell_type": "code",
   "execution_count": 7,
   "metadata": {},
   "outputs": [],
   "source": [
    "coacc_dir = '/nfs/lab/projects/islet_cytok/analysis/snATAC/coaccess'"
   ]
  },
  {
   "cell_type": "code",
   "execution_count": 205,
   "metadata": {},
   "outputs": [],
   "source": [
    "for (cell in cells){\n",
    "\n",
    "file = paste(coacc_dir, cell,  '5kb_all/promLabel/beta.cicero_conns_dedup.promLabelled.txt', sep=\"/\")\n",
    "conns = fread(file, data.table = F)\n",
    "coacc = subset(conns, coaccess >= 0.05)\n",
    "cic = coacc[,1:3]\n",
    "assign(cell, cic)\n",
    "}"
   ]
  },
  {
   "cell_type": "code",
   "execution_count": 208,
   "metadata": {},
   "outputs": [],
   "source": [
    "cp_cyt = coac_cyt[!duplicated(coac_cyt[,1:2]),1:2]\n",
    "cp_unt = coac_untr[!duplicated(coac_untr[,1:2]),1:2]"
   ]
  },
  {
   "cell_type": "code",
   "execution_count": 209,
   "metadata": {},
   "outputs": [],
   "source": [
    "cp_cyt = merge(cp_cyt, cytokine, by=1:2) \n",
    "cp_unt = merge(cp_unt, untreated, by=1:2) "
   ]
  },
  {
   "cell_type": "code",
   "execution_count": 216,
   "metadata": {},
   "outputs": [],
   "source": [
    "cyt$coaccess=0.5\n",
    "unt$coaccess=0.5"
   ]
  },
  {
   "cell_type": "code",
   "execution_count": 275,
   "metadata": {},
   "outputs": [
    {
     "data": {
      "text/html": [
       "<strong>png:</strong> 2"
      ],
      "text/latex": [
       "\\textbf{png:} 2"
      ],
      "text/markdown": [
       "**png:** 2"
      ],
      "text/plain": [
       "png \n",
       "  2 "
      ]
     },
     "metadata": {},
     "output_type": "display_data"
    }
   ],
   "source": [
    "pdf(\"MNX_untcyt_prom_cp_new.pdf\")\n",
    "plot_connections(cp_unt, \"chr7\", 156781418,157016341, alpha_by_coaccess = TRUE,\n",
    "                 viewpoint = 'chr7_156781418_156803890',\n",
    "                gene_model = gene_annotation, \n",
    "                 comparison_track = cp_cyt)\n",
    "dev.off()"
   ]
  },
  {
   "cell_type": "code",
   "execution_count": 379,
   "metadata": {},
   "outputs": [
    {
     "name": "stderr",
     "output_type": "stream",
     "text": [
      "Warning message in plot_connections(cp_unt, \"chr7\", 156781418, 157016341, alpha_by_coaccess = TRUE, :\n",
      "\"No comparison connections in viewpoint\"\n",
      "Warning message in max(sub2$height, na.rm = TRUE):\n",
      "\"no non-missing arguments to max; returning -Inf\"\n",
      "Warning message in plot_connections(cp_unt, \"chr7\", 156781418, 157016341, alpha_by_coaccess = TRUE, :\n",
      "\"comparison_ymax calc failed\"\n",
      "Warning message in plotBedpe(sub2, chrom = chr, chromstart = minbp, chromend = maxbp, :\n",
      "\"Nothing to plot\"\n"
     ]
    },
    {
     "data": {
      "text/html": [
       "<strong>png:</strong> 2"
      ],
      "text/latex": [
       "\\textbf{png:} 2"
      ],
      "text/markdown": [
       "**png:** 2"
      ],
      "text/plain": [
       "png \n",
       "  2 "
      ]
     },
     "metadata": {},
     "output_type": "display_data"
    }
   ],
   "source": [
    "pdf(\"MNX_untcyt_enh_cp_new.pdf\")\n",
    "plot_connections(cp_unt, \"chr7\", 156781418,157016341, alpha_by_coaccess = TRUE,\n",
    "                 viewpoint = 'chr7_157001443_157002210',\n",
    "                gene_model = gene_annotation, \n",
    "                 comparison_track = cp_cyt)\n",
    "dev.off()"
   ]
  },
  {
   "cell_type": "code",
   "execution_count": 232,
   "metadata": {},
   "outputs": [
    {
     "name": "stderr",
     "output_type": "stream",
     "text": [
      "Warning message in max(sub2$height, na.rm = TRUE):\n",
      "\"no non-missing arguments to max; returning -Inf\"\n",
      "Warning message in plot_connections(cp_cyt, \"chr16\", 11340000, 11420000, alpha_by_coaccess = TRUE, :\n",
      "\"comparison_ymax calc failed\"\n",
      "Warning message in plotBedpe(sub2, chrom = chr, chromstart = minbp, chromend = maxbp, :\n",
      "\"Nothing to plot\"\n"
     ]
    },
    {
     "data": {
      "text/html": [
       "<strong>png:</strong> 2"
      ],
      "text/latex": [
       "\\textbf{png:} 2"
      ],
      "text/markdown": [
       "**png:** 2"
      ],
      "text/plain": [
       "png \n",
       "  2 "
      ]
     },
     "metadata": {},
     "output_type": "display_data"
    }
   ],
   "source": [
    "pdf(\"SOCS1_untcyt_enh_cp_new.pdf\")\n",
    "plot_connections(cp_cyt, \"chr16\", 11340000,11420000,alpha_by_coaccess = TRUE,\n",
    "                 viewpoint = 'chr16_11401017_11401743',\n",
    "                gene_model = gene_annotation,  \n",
    "                 comparison_track = cp_unt )\n",
    "dev.off()"
   ]
  },
  {
   "cell_type": "code",
   "execution_count": 269,
   "metadata": {},
   "outputs": [
    {
     "name": "stderr",
     "output_type": "stream",
     "text": [
      "Warning message in max(sub2$height, na.rm = TRUE):\n",
      "\"no non-missing arguments to max; returning -Inf\"\n",
      "Warning message in plot_connections(cp_cyt, \"chr16\", 11340000, 11420000, alpha_by_coaccess = TRUE, :\n",
      "\"comparison_ymax calc failed\"\n",
      "Warning message in plotBedpe(sub2, chrom = chr, chromstart = minbp, chromend = maxbp, :\n",
      "\"Nothing to plot\"\n"
     ]
    },
    {
     "data": {
      "text/html": [
       "<strong>png:</strong> 2"
      ],
      "text/latex": [
       "\\textbf{png:} 2"
      ],
      "text/markdown": [
       "**png:** 2"
      ],
      "text/plain": [
       "png \n",
       "  2 "
      ]
     },
     "metadata": {},
     "output_type": "display_data"
    }
   ],
   "source": [
    "pdf(\"SOCS1_untcyt_prom_cp_new.pdf\")\n",
    "plot_connections(cp_cyt, \"chr16\", 11340000,11420000,alpha_by_coaccess = TRUE,\n",
    "                 viewpoint = 'chr16_11340000_11352536',\n",
    "                gene_model = gene_annotation,  \n",
    "                 comparison_track = cp_unt )\n",
    "dev.off()"
   ]
  },
  {
   "cell_type": "code",
   "execution_count": 262,
   "metadata": {},
   "outputs": [],
   "source": [
    "\n",
    "# pdf(\"Examples_validated_coacc_up.pdf\")\n",
    "# for (i in 1:12){\n",
    "# coord = str_split(fctab_up$peak[i],\"-\", 3,simplify = TRUE)\n",
    "# cr = coord[1]\n",
    "# start = as.numeric(coord[2])- fctab_up$dist[i]-10000\n",
    "# end = as.numeric(coord[2])+ fctab_up$dist[i]+10000\n",
    "# vp = gsub(\"-\", \"_\",fctab_up$peak[i] )\n",
    "#  plot_connections(cp_cyt, cr, start,end,alpha_by_coaccess = TRUE,\n",
    "#                  viewpoint = vp,\n",
    "#                 gene_model = gene_annotation,  \n",
    "#                  comparison_track = cp_unt )\n",
    "    \n",
    "# }\n",
    "# dev.off()\n"
   ]
  },
  {
   "cell_type": "code",
   "execution_count": 286,
   "metadata": {},
   "outputs": [
    {
     "data": {
      "text/html": [
       "<table class=\"dataframe\">\n",
       "<caption>A data.frame: 1 × 15</caption>\n",
       "<thead>\n",
       "\t<tr><th></th><th scope=col>gene</th><th scope=col>peak</th><th scope=col>Peak1</th><th scope=col>Peak2</th><th scope=col>dist</th><th scope=col>hichip_cyt</th><th scope=col>hichip_unt</th><th scope=col>coac_unt</th><th scope=col>baseMean.x</th><th scope=col>log2FoldChange.x</th><th scope=col>padj.x</th><th scope=col>baseMean.y</th><th scope=col>log2FoldChange.y</th><th scope=col>padj.y</th><th scope=col>screen</th></tr>\n",
       "\t<tr><th></th><th scope=col>&lt;chr&gt;</th><th scope=col>&lt;chr&gt;</th><th scope=col>&lt;fct&gt;</th><th scope=col>&lt;fct&gt;</th><th scope=col>&lt;int&gt;</th><th scope=col>&lt;lgl&gt;</th><th scope=col>&lt;lgl&gt;</th><th scope=col>&lt;lgl&gt;</th><th scope=col>&lt;dbl&gt;</th><th scope=col>&lt;dbl&gt;</th><th scope=col>&lt;dbl&gt;</th><th scope=col>&lt;dbl&gt;</th><th scope=col>&lt;dbl&gt;</th><th scope=col>&lt;dbl&gt;</th><th scope=col>&lt;lgl&gt;</th></tr>\n",
       "</thead>\n",
       "<tbody>\n",
       "\t<tr><th scope=row>19</th><td>BCL6</td><td>chr3-187724421-187725031</td><td>chr3_187463067_187463728</td><td>chr3_187724371_187725011</td><td>261944</td><td>TRUE</td><td>FALSE</td><td>FALSE</td><td>230.8912</td><td>0.7279962</td><td>4.606726e-05</td><td>1019.504</td><td>0.9964662</td><td>3.351261e-24</td><td>FALSE</td></tr>\n",
       "</tbody>\n",
       "</table>\n"
      ],
      "text/latex": [
       "A data.frame: 1 × 15\n",
       "\\begin{tabular}{r|lllllllllllllll}\n",
       "  & gene & peak & Peak1 & Peak2 & dist & hichip\\_cyt & hichip\\_unt & coac\\_unt & baseMean.x & log2FoldChange.x & padj.x & baseMean.y & log2FoldChange.y & padj.y & screen\\\\\n",
       "  & <chr> & <chr> & <fct> & <fct> & <int> & <lgl> & <lgl> & <lgl> & <dbl> & <dbl> & <dbl> & <dbl> & <dbl> & <dbl> & <lgl>\\\\\n",
       "\\hline\n",
       "\t19 & BCL6 & chr3-187724421-187725031 & chr3\\_187463067\\_187463728 & chr3\\_187724371\\_187725011 & 261944 & TRUE & FALSE & FALSE & 230.8912 & 0.7279962 & 4.606726e-05 & 1019.504 & 0.9964662 & 3.351261e-24 & FALSE\\\\\n",
       "\\end{tabular}\n"
      ],
      "text/markdown": [
       "\n",
       "A data.frame: 1 × 15\n",
       "\n",
       "| <!--/--> | gene &lt;chr&gt; | peak &lt;chr&gt; | Peak1 &lt;fct&gt; | Peak2 &lt;fct&gt; | dist &lt;int&gt; | hichip_cyt &lt;lgl&gt; | hichip_unt &lt;lgl&gt; | coac_unt &lt;lgl&gt; | baseMean.x &lt;dbl&gt; | log2FoldChange.x &lt;dbl&gt; | padj.x &lt;dbl&gt; | baseMean.y &lt;dbl&gt; | log2FoldChange.y &lt;dbl&gt; | padj.y &lt;dbl&gt; | screen &lt;lgl&gt; |\n",
       "|---|---|---|---|---|---|---|---|---|---|---|---|---|---|---|---|\n",
       "| 19 | BCL6 | chr3-187724421-187725031 | chr3_187463067_187463728 | chr3_187724371_187725011 | 261944 | TRUE | FALSE | FALSE | 230.8912 | 0.7279962 | 4.606726e-05 | 1019.504 | 0.9964662 | 3.351261e-24 | FALSE |\n",
       "\n"
      ],
      "text/plain": [
       "   gene peak                     Peak1                   \n",
       "19 BCL6 chr3-187724421-187725031 chr3_187463067_187463728\n",
       "   Peak2                    dist   hichip_cyt hichip_unt coac_unt baseMean.x\n",
       "19 chr3_187724371_187725011 261944 TRUE       FALSE      FALSE    230.8912  \n",
       "   log2FoldChange.x padj.x       baseMean.y log2FoldChange.y padj.y      \n",
       "19 0.7279962        4.606726e-05 1019.504   0.9964662        3.351261e-24\n",
       "   screen\n",
       "19 FALSE "
      ]
     },
     "metadata": {},
     "output_type": "display_data"
    }
   ],
   "source": [
    "fctab_up[fctab_up$gene==\"BCL6\",]"
   ]
  },
  {
   "cell_type": "code",
   "execution_count": 375,
   "metadata": {},
   "outputs": [
    {
     "name": "stderr",
     "output_type": "stream",
     "text": [
      "Warning message in max(sub2$height, na.rm = TRUE):\n",
      "\"no non-missing arguments to max; returning -Inf\"\n",
      "Warning message in plot_connections(cp_cyt, \"chr3\", 187410164, 187750682, alpha_by_coaccess = TRUE, :\n",
      "\"comparison_ymax calc failed\"\n",
      "Warning message in plotBedpe(sub2, chrom = chr, chromstart = minbp, chromend = maxbp, :\n",
      "\"Nothing to plot\"\n"
     ]
    },
    {
     "data": {
      "text/html": [
       "<strong>png:</strong> 2"
      ],
      "text/latex": [
       "\\textbf{png:} 2"
      ],
      "text/markdown": [
       "**png:** 2"
      ],
      "text/plain": [
       "png \n",
       "  2 "
      ]
     },
     "metadata": {},
     "output_type": "display_data"
    }
   ],
   "source": [
    "pdf(\"BCL6_untcyt_enh_cp_new.pdf\")\n",
    "plot_connections(cp_cyt, 'chr3', 187410164, 187750682, alpha_by_coaccess = TRUE,\n",
    "                 viewpoint = 'chr3_187724421_187725031',\n",
    "                gene_model = gene_annotation,  \n",
    "                 comparison_track = cp_unt )\n",
    "dev.off()"
   ]
  },
  {
   "cell_type": "code",
   "execution_count": 376,
   "metadata": {},
   "outputs": [
    {
     "name": "stderr",
     "output_type": "stream",
     "text": [
      "Warning message in max(sub2$height, na.rm = TRUE):\n",
      "\"no non-missing arguments to max; returning -Inf\"\n",
      "Warning message in plot_connections(cp_cyt, \"chr3\", 187410164, 187750682, alpha_by_coaccess = TRUE, :\n",
      "\"comparison_ymax calc failed\"\n",
      "Warning message in plotBedpe(sub2, chrom = chr, chromstart = minbp, chromend = maxbp, :\n",
      "\"Nothing to plot\"\n"
     ]
    },
    {
     "data": {
      "text/html": [
       "<strong>png:</strong> 2"
      ],
      "text/latex": [
       "\\textbf{png:} 2"
      ],
      "text/markdown": [
       "**png:** 2"
      ],
      "text/plain": [
       "png \n",
       "  2 "
      ]
     },
     "metadata": {},
     "output_type": "display_data"
    }
   ],
   "source": [
    "pdf(\"BCL6_untcyt_prom_cp_new.pdf\")\n",
    "plot_connections(cp_cyt, 'chr3', 187410164, 187750682, alpha_by_coaccess = TRUE,\n",
    "                 viewpoint = 'chr3_187463067_187463728',\n",
    "                gene_model = gene_annotation,  \n",
    "                 comparison_track = cp_unt )\n",
    "dev.off()"
   ]
  },
  {
   "cell_type": "code",
   "execution_count": 378,
   "metadata": {},
   "outputs": [
    {
     "data": {
      "text/html": [
       "<table class=\"dataframe\">\n",
       "<caption>A data.frame: 2 × 15</caption>\n",
       "<thead>\n",
       "\t<tr><th></th><th scope=col>gene</th><th scope=col>peak</th><th scope=col>Peak1</th><th scope=col>Peak2</th><th scope=col>dist</th><th scope=col>hichip_cyt</th><th scope=col>hichip_unt</th><th scope=col>coac_cyt</th><th scope=col>baseMean.x</th><th scope=col>log2FoldChange.x</th><th scope=col>padj.x</th><th scope=col>baseMean.y</th><th scope=col>log2FoldChange.y</th><th scope=col>padj.y</th><th scope=col>screen</th></tr>\n",
       "\t<tr><th></th><th scope=col>&lt;chr&gt;</th><th scope=col>&lt;chr&gt;</th><th scope=col>&lt;fct&gt;</th><th scope=col>&lt;fct&gt;</th><th scope=col>&lt;int&gt;</th><th scope=col>&lt;lgl&gt;</th><th scope=col>&lt;lgl&gt;</th><th scope=col>&lt;lgl&gt;</th><th scope=col>&lt;dbl&gt;</th><th scope=col>&lt;dbl&gt;</th><th scope=col>&lt;dbl&gt;</th><th scope=col>&lt;dbl&gt;</th><th scope=col>&lt;dbl&gt;</th><th scope=col>&lt;dbl&gt;</th><th scope=col>&lt;lgl&gt;</th></tr>\n",
       "</thead>\n",
       "<tbody>\n",
       "\t<tr><th scope=row>94</th><td>MNX1</td><td>chr7-157001443-157002210</td><td>chr7_156803006_156803890</td><td>chr7_157001442_157002194</td><td>199188</td><td>FALSE</td><td>TRUE</td><td>FALSE</td><td>401.15720</td><td>-1.1237771</td><td>4.409097e-17</td><td>422.1425</td><td>-0.8731248</td><td>1.737599e-13</td><td>FALSE</td></tr>\n",
       "\t<tr><th scope=row>93</th><td>MNX1</td><td>chr7-156921910-156922208</td><td>chr7_156803006_156803890</td><td>chr7_156921914_156922153</td><td>119147</td><td>FALSE</td><td>TRUE</td><td>FALSE</td><td> 32.71712</td><td>-0.8025611</td><td>9.545010e-02</td><td>422.1425</td><td>-0.8731248</td><td>1.737599e-13</td><td>FALSE</td></tr>\n",
       "</tbody>\n",
       "</table>\n"
      ],
      "text/latex": [
       "A data.frame: 2 × 15\n",
       "\\begin{tabular}{r|lllllllllllllll}\n",
       "  & gene & peak & Peak1 & Peak2 & dist & hichip\\_cyt & hichip\\_unt & coac\\_cyt & baseMean.x & log2FoldChange.x & padj.x & baseMean.y & log2FoldChange.y & padj.y & screen\\\\\n",
       "  & <chr> & <chr> & <fct> & <fct> & <int> & <lgl> & <lgl> & <lgl> & <dbl> & <dbl> & <dbl> & <dbl> & <dbl> & <dbl> & <lgl>\\\\\n",
       "\\hline\n",
       "\t94 & MNX1 & chr7-157001443-157002210 & chr7\\_156803006\\_156803890 & chr7\\_157001442\\_157002194 & 199188 & FALSE & TRUE & FALSE & 401.15720 & -1.1237771 & 4.409097e-17 & 422.1425 & -0.8731248 & 1.737599e-13 & FALSE\\\\\n",
       "\t93 & MNX1 & chr7-156921910-156922208 & chr7\\_156803006\\_156803890 & chr7\\_156921914\\_156922153 & 119147 & FALSE & TRUE & FALSE &  32.71712 & -0.8025611 & 9.545010e-02 & 422.1425 & -0.8731248 & 1.737599e-13 & FALSE\\\\\n",
       "\\end{tabular}\n"
      ],
      "text/markdown": [
       "\n",
       "A data.frame: 2 × 15\n",
       "\n",
       "| <!--/--> | gene &lt;chr&gt; | peak &lt;chr&gt; | Peak1 &lt;fct&gt; | Peak2 &lt;fct&gt; | dist &lt;int&gt; | hichip_cyt &lt;lgl&gt; | hichip_unt &lt;lgl&gt; | coac_cyt &lt;lgl&gt; | baseMean.x &lt;dbl&gt; | log2FoldChange.x &lt;dbl&gt; | padj.x &lt;dbl&gt; | baseMean.y &lt;dbl&gt; | log2FoldChange.y &lt;dbl&gt; | padj.y &lt;dbl&gt; | screen &lt;lgl&gt; |\n",
       "|---|---|---|---|---|---|---|---|---|---|---|---|---|---|---|---|\n",
       "| 94 | MNX1 | chr7-157001443-157002210 | chr7_156803006_156803890 | chr7_157001442_157002194 | 199188 | FALSE | TRUE | FALSE | 401.15720 | -1.1237771 | 4.409097e-17 | 422.1425 | -0.8731248 | 1.737599e-13 | FALSE |\n",
       "| 93 | MNX1 | chr7-156921910-156922208 | chr7_156803006_156803890 | chr7_156921914_156922153 | 119147 | FALSE | TRUE | FALSE |  32.71712 | -0.8025611 | 9.545010e-02 | 422.1425 | -0.8731248 | 1.737599e-13 | FALSE |\n",
       "\n"
      ],
      "text/plain": [
       "   gene peak                     Peak1                   \n",
       "94 MNX1 chr7-157001443-157002210 chr7_156803006_156803890\n",
       "93 MNX1 chr7-156921910-156922208 chr7_156803006_156803890\n",
       "   Peak2                    dist   hichip_cyt hichip_unt coac_cyt baseMean.x\n",
       "94 chr7_157001442_157002194 199188 FALSE      TRUE       FALSE    401.15720 \n",
       "93 chr7_156921914_156922153 119147 FALSE      TRUE       FALSE     32.71712 \n",
       "   log2FoldChange.x padj.x       baseMean.y log2FoldChange.y padj.y      \n",
       "94 -1.1237771       4.409097e-17 422.1425   -0.8731248       1.737599e-13\n",
       "93 -0.8025611       9.545010e-02 422.1425   -0.8731248       1.737599e-13\n",
       "   screen\n",
       "94 FALSE \n",
       "93 FALSE "
      ]
     },
     "metadata": {},
     "output_type": "display_data"
    }
   ],
   "source": [
    "fctab_do[fctab_do$gene==\"MNX1\",]"
   ]
  },
  {
   "cell_type": "markdown",
   "metadata": {},
   "source": [
    "### Plot also the virtual 4C as arcs"
   ]
  },
  {
   "cell_type": "code",
   "execution_count": 8,
   "metadata": {},
   "outputs": [],
   "source": [
    "files = list.files(\"bedgraph\")"
   ]
  },
  {
   "cell_type": "code",
   "execution_count": 1,
   "metadata": {},
   "outputs": [],
   "source": [
    "mat = matrix(c(  'MNX1_prom' , 'MNX1_enh'  ,'BCL6_prom', 'BCL6_enh', 'SOCS1_prom', 'SOCS1_enh',\n",
    "                'chr7_156781418_156803890', 'chr7_157001443_157002210',\n",
    "                'chr3_187463067_187463728', 'chr3_187724421_187725031',\n",
    "                'chr16_11340000_11352536',  'chr16_11401017_11401743'), ncol=2)"
   ]
  },
  {
   "cell_type": "code",
   "execution_count": 2,
   "metadata": {},
   "outputs": [],
   "source": [
    "colnames(mat) = c(\"locus\", \"Peak1\")"
   ]
  },
  {
   "cell_type": "code",
   "execution_count": null,
   "metadata": {},
   "outputs": [],
   "source": []
  },
  {
   "cell_type": "code",
   "execution_count": 12,
   "metadata": {},
   "outputs": [],
   "source": [
    "nm = str_split_fixed(files, \"\\\\.\",3)"
   ]
  },
  {
   "cell_type": "code",
   "execution_count": 13,
   "metadata": {},
   "outputs": [],
   "source": [
    "v4c = data.frame()\n",
    "for (x in 1:length(files)){\n",
    "   \n",
    "f1 = read.table(paste0(\"bedgraph/\", files[x]))\n",
    "f1$Peak2    = paste(f1$V1,f1$V2,f1$V3, sep=\"_\" )\n",
    "f1$score = f1$V4\n",
    "f1$locus = nm[x,1]\n",
    "f1$condition = nm[x,2]\n",
    "v4c = rbind(v4c, f1)\n",
    "    }"
   ]
  },
  {
   "cell_type": "code",
   "execution_count": 14,
   "metadata": {},
   "outputs": [],
   "source": [
    "v4c = merge(mat,v4c, by=\"locus\" )"
   ]
  },
  {
   "cell_type": "code",
   "execution_count": 17,
   "metadata": {},
   "outputs": [],
   "source": [
    "range01 <- function(x){(x-min(x))/(max(x)-min(x))}"
   ]
  },
  {
   "cell_type": "code",
   "execution_count": 18,
   "metadata": {},
   "outputs": [],
   "source": [
    "sp = split(v4c, v4c$locus)"
   ]
  },
  {
   "cell_type": "code",
   "execution_count": 19,
   "metadata": {},
   "outputs": [],
   "source": [
    "v4c$coaccess =unlist(lapply(sp, function(x) range01(x$score )))"
   ]
  },
  {
   "cell_type": "code",
   "execution_count": 454,
   "metadata": {},
   "outputs": [],
   "source": [
    "a = v4c[ v4c$locus =='MNX1_enh' & v4c$condition =='unt'  , c('Peak1', 'Peak2', 'coaccess')]\n",
    "b = v4c[ v4c$locus =='SOCS1_enh' & v4c$condition =='cyt'  , c('Peak1', 'Peak2', 'coaccess')]\n",
    "c = v4c[ v4c$locus =='MNX1_prom' & v4c$condition =='unt'  , c('Peak1', 'Peak2', 'coaccess')]\n",
    "d = v4c[ v4c$locus =='MNX1_prom' & v4c$condition =='cyt'  , c('Peak1', 'Peak2', 'coaccess')]"
   ]
  },
  {
   "cell_type": "code",
   "execution_count": 390,
   "metadata": {},
   "outputs": [
    {
     "name": "stderr",
     "output_type": "stream",
     "text": [
      "Warning message in max(sub2$height, na.rm = TRUE):\n",
      "\"no non-missing arguments to max; returning -Inf\"\n",
      "Warning message in plot_connections(a, \"chr7\", 156781418, 157016341, alpha_by_coaccess = TRUE, :\n",
      "\"comparison_ymax calc failed\"\n",
      "Warning message in plotBedpe(sub2, chrom = chr, chromstart = minbp, chromend = maxbp, :\n",
      "\"Nothing to plot\"\n"
     ]
    },
    {
     "data": {
      "text/html": [
       "<strong>png:</strong> 2"
      ],
      "text/latex": [
       "\\textbf{png:} 2"
      ],
      "text/markdown": [
       "**png:** 2"
      ],
      "text/plain": [
       "png \n",
       "  2 "
      ]
     },
     "metadata": {},
     "output_type": "display_data"
    }
   ],
   "source": [
    "pdf(\"MNX_untcyt_enh_cp_v4c.pdf\")\n",
    "plot_connections(a, \"chr7\", 156781418,157016341, alpha_by_coaccess = TRUE,\n",
    "                 viewpoint = 'chr7_157001443_157002210',\n",
    "                  connection_color=\"forestgreen\",comparison_connection_color=\"forestgreen\",\n",
    "                gene_model = gene_annotation, comparison_track = b)\n",
    "dev.off()"
   ]
  },
  {
   "cell_type": "code",
   "execution_count": 360,
   "metadata": {},
   "outputs": [
    {
     "data": {
      "text/html": [
       "<strong>png:</strong> 2"
      ],
      "text/latex": [
       "\\textbf{png:} 2"
      ],
      "text/markdown": [
       "**png:** 2"
      ],
      "text/plain": [
       "png \n",
       "  2 "
      ]
     },
     "metadata": {},
     "output_type": "display_data"
    }
   ],
   "source": [
    "pdf(\"MNX_untcyt_prom_cp_v4c.pdf\")\n",
    "plot_connections(c, \"chr7\", 156781418,157016341, alpha_by_coaccess = TRUE,\n",
    "                 viewpoint = 'chr7_156781418_156803890',\n",
    "                gene_model = gene_annotation, \n",
    "                 connection_color=\"forestgreen\",comparison_connection_color=\"forestgreen\",\n",
    "                 comparison_track = d)\n",
    "dev.off()"
   ]
  },
  {
   "cell_type": "code",
   "execution_count": 437,
   "metadata": {},
   "outputs": [],
   "source": [
    "a = v4c[ v4c$locus =='SOCS1_enh' & v4c$condition =='cyt'  , c('Peak1', 'Peak2', 'coaccess')]\n",
    "b = v4c[ v4c$locus =='SOCS1_enh' & v4c$condition =='unt'  , c('Peak1', 'Peak2', 'coaccess')]\n",
    "c = v4c[ v4c$locus =='SOCS1_prom' & v4c$condition =='cyt'  , c('Peak1', 'Peak2', 'coaccess')]\n",
    "d = v4c[ v4c$locus =='SOCS1_prom' & v4c$condition =='unt'  , c('Peak1', 'Peak2', 'coaccess')]"
   ]
  },
  {
   "cell_type": "code",
   "execution_count": 366,
   "metadata": {},
   "outputs": [
    {
     "name": "stderr",
     "output_type": "stream",
     "text": [
      "Warning message in max(sub2$height, na.rm = TRUE):\n",
      "\"no non-missing arguments to max; returning -Inf\"\n",
      "Warning message in plot_connections(a, \"chr16\", 11340000, 11420000, alpha_by_coaccess = TRUE, :\n",
      "\"comparison_ymax calc failed\"\n",
      "Warning message in plotBedpe(sub2, chrom = chr, chromstart = minbp, chromend = maxbp, :\n",
      "\"Nothing to plot\"\n"
     ]
    },
    {
     "data": {
      "text/html": [
       "<strong>png:</strong> 2"
      ],
      "text/latex": [
       "\\textbf{png:} 2"
      ],
      "text/markdown": [
       "**png:** 2"
      ],
      "text/plain": [
       "png \n",
       "  2 "
      ]
     },
     "metadata": {},
     "output_type": "display_data"
    }
   ],
   "source": [
    "pdf(\"SOCS1_untcyt_enh_cp_v4c.pdf\")\n",
    "plot_connections(a, \"chr16\", 11340000,11420000,alpha_by_coaccess = TRUE,\n",
    "                 viewpoint = 'chr16_11401017_11401743',\n",
    "                gene_model = gene_annotation,  \n",
    "                  connection_color=\"forestgreen\",comparison_connection_color=\"forestgreen\",\n",
    "                 comparison_track = b )\n",
    "dev.off()"
   ]
  },
  {
   "cell_type": "code",
   "execution_count": 367,
   "metadata": {},
   "outputs": [
    {
     "data": {
      "text/html": [
       "<strong>png:</strong> 2"
      ],
      "text/latex": [
       "\\textbf{png:} 2"
      ],
      "text/markdown": [
       "**png:** 2"
      ],
      "text/plain": [
       "png \n",
       "  2 "
      ]
     },
     "metadata": {},
     "output_type": "display_data"
    }
   ],
   "source": [
    "pdf(\"SOCS1_untcyt_prom_cp_v4c.pdf\")\n",
    "plot_connections(c, \"chr16\", 11340000,11420000,alpha_by_coaccess = TRUE,\n",
    "                 viewpoint = 'chr16_11340000_11352536',\n",
    "                gene_model = gene_annotation,  \n",
    "                  connection_color=\"forestgreen\",comparison_connection_color=\"forestgreen\",\n",
    "                 comparison_track = d )\n",
    "dev.off()"
   ]
  },
  {
   "cell_type": "code",
   "execution_count": 451,
   "metadata": {},
   "outputs": [],
   "source": [
    "a = v4c[ v4c$locus =='BCL6_enh' & v4c$condition =='cyt'  , c('Peak1', 'Peak2', 'coaccess')]\n",
    "b = v4c[ v4c$locus =='BCL6_enh' & v4c$condition =='unt'  , c('Peak1', 'Peak2', 'coaccess')]\n",
    "c = v4c[ v4c$locus =='BCL6_prom' & v4c$condition =='cyt'  , c('Peak1', 'Peak2', 'coaccess')]\n",
    "d = v4c[ v4c$locus =='BCL6_prom' & v4c$condition =='unt'  , c('Peak1', 'Peak2', 'coaccess')]"
   ]
  },
  {
   "cell_type": "code",
   "execution_count": 373,
   "metadata": {},
   "outputs": [
    {
     "data": {
      "text/html": [
       "<strong>png:</strong> 2"
      ],
      "text/latex": [
       "\\textbf{png:} 2"
      ],
      "text/markdown": [
       "**png:** 2"
      ],
      "text/plain": [
       "png \n",
       "  2 "
      ]
     },
     "metadata": {},
     "output_type": "display_data"
    }
   ],
   "source": [
    "pdf(\"BCL6_untcyt_enh_cp_v4c.pdf\")\n",
    "plot_connections(a, 'chr3', 187410164, 187750682, alpha_by_coaccess = TRUE,\n",
    "                 viewpoint = 'chr3_187724421_187725031',\n",
    "                gene_model = gene_annotation,  \n",
    "                 connection_color=\"forestgreen\",comparison_connection_color=\"forestgreen\",\n",
    "                 comparison_track = b )\n",
    "dev.off()"
   ]
  },
  {
   "cell_type": "code",
   "execution_count": 374,
   "metadata": {},
   "outputs": [
    {
     "data": {
      "text/html": [
       "<strong>png:</strong> 2"
      ],
      "text/latex": [
       "\\textbf{png:} 2"
      ],
      "text/markdown": [
       "**png:** 2"
      ],
      "text/plain": [
       "png \n",
       "  2 "
      ]
     },
     "metadata": {},
     "output_type": "display_data"
    }
   ],
   "source": [
    "pdf(\"BCL6_untcyt_prom_cp_v4c.pdf\")\n",
    "plot_connections(c, 'chr3', 187410164, 187750682, alpha_by_coaccess = TRUE,\n",
    "                 viewpoint = 'chr3_187463067_187463728',\n",
    "                gene_model = gene_annotation,  \n",
    "                 connection_color=\"forestgreen\",comparison_connection_color=\"forestgreen\",\n",
    "                 comparison_track = d )\n",
    "dev.off()"
   ]
  },
  {
   "cell_type": "code",
   "execution_count": 452,
   "metadata": {},
   "outputs": [],
   "source": [
    "A=plot_connections(a, 'chr3', 187410164, 187750682, alpha_by_coaccess = TRUE, connection_color=4,return_as_list = TRUE,gene_model = gene_annotation)\n",
    "B=plot_connections(b, 'chr3', 187410164, 187750682, alpha_by_coaccess = TRUE, connection_color=4,return_as_list = TRUE)\n",
    "\n",
    "CY=plot_connections(cp_cyt, 'chr3', 187410164, 187750682, alpha_by_coaccess = TRUE,return_as_list = TRUE)\n",
    "UN=plot_connections(cp_cyt, 'chr3', 187410164, 187750682, alpha_by_coaccess = TRUE, return_as_list = TRUE)\n",
    "\n",
    "plot_list= list(CY[[1]], UN[[1]], A[[1]], B[[1]],  A[[3]])"
   ]
  },
  {
   "cell_type": "code",
   "execution_count": 453,
   "metadata": {},
   "outputs": [
    {
     "data": {
      "text/html": [
       "<strong>png:</strong> 2"
      ],
      "text/latex": [
       "\\textbf{png:} 2"
      ],
      "text/markdown": [
       "**png:** 2"
      ],
      "text/plain": [
       "png \n",
       "  2 "
      ]
     },
     "metadata": {},
     "output_type": "display_data"
    }
   ],
   "source": [
    "pdf(\"BCL6.pdf\",width = 5, height = 2.5)\n",
    "\n",
    "Gviz::plotTracks(plot_list,\n",
    "               # sizes = c(2,2,2,2,1,1),\n",
    "                from = 187410164, to = 187750682, chromosome = \"chr3\", \n",
    "                transcriptAnnotation = \"symbol\",\n",
    "                col.axis = \"black\", cex.axis=1 ,\n",
    "                fontsize.group = 6,\n",
    "                fontcolor.legend = \"black\",\n",
    "                title.width = 2, background.title = \"transparent\", \n",
    "                col.border.title = \"transparent\")\n",
    "               dev.off()"
   ]
  },
  {
   "cell_type": "code",
   "execution_count": 441,
   "metadata": {},
   "outputs": [],
   "source": [
    "A=plot_connections(a, \"chr16\", 11340000,11420000, alpha_by_coaccess = TRUE, connection_color=4,return_as_list = TRUE,gene_model = gene_annotation)\n",
    "\n",
    "CY=plot_connections(cp_cyt, \"chr16\", 11340000,11420000, alpha_by_coaccess = TRUE,return_as_list = TRUE)\n"
   ]
  },
  {
   "cell_type": "code",
   "execution_count": 444,
   "metadata": {},
   "outputs": [],
   "source": [
    "plot_list= list(CY[[1]], CY[[1]], A[[1]], A[[1]],  A[[3]])"
   ]
  },
  {
   "cell_type": "code",
   "execution_count": 449,
   "metadata": {},
   "outputs": [
    {
     "data": {
      "text/html": [
       "<strong>png:</strong> 2"
      ],
      "text/latex": [
       "\\textbf{png:} 2"
      ],
      "text/markdown": [
       "**png:** 2"
      ],
      "text/plain": [
       "png \n",
       "  2 "
      ]
     },
     "metadata": {},
     "output_type": "display_data"
    }
   ],
   "source": [
    "pdf(\"SOCS1.pdf\", width = 5, height = 2.5)\n",
    "\n",
    "Gviz::plotTracks(plot_list,\n",
    "                #sizes = c(2,2,2,2,1,1),\n",
    "                from = 11340000, to = 11420000, chromosome = \"chr16\", \n",
    "                transcriptAnnotation = \"symbol\",\n",
    "                col.axis = \"black\", cex.axis=1 ,\n",
    "                fontsize.group = 6,\n",
    "                fontcolor.legend = \"black\",\n",
    "                title.width = 2, background.title = \"transparent\", \n",
    "                col.border.title = \"transparent\")\n",
    "               dev.off()"
   ]
  },
  {
   "cell_type": "code",
   "execution_count": 455,
   "metadata": {},
   "outputs": [],
   "source": [
    "A=plot_connections(a, \"chr7\", 156781418,157016341, alpha_by_coaccess = TRUE, connection_color=4,return_as_list = TRUE,gene_model = gene_annotation)\n",
    "\n",
    "UN=plot_connections(cp_unt, \"chr7\", 156781418,157016341, alpha_by_coaccess = TRUE,return_as_list = TRUE)\n"
   ]
  },
  {
   "cell_type": "code",
   "execution_count": 456,
   "metadata": {},
   "outputs": [],
   "source": [
    "plot_list= list(UN[[1]], UN[[1]], A[[1]], A[[1]],  A[[3]])"
   ]
  },
  {
   "cell_type": "code",
   "execution_count": 457,
   "metadata": {},
   "outputs": [
    {
     "data": {
      "text/html": [
       "<strong>png:</strong> 2"
      ],
      "text/latex": [
       "\\textbf{png:} 2"
      ],
      "text/markdown": [
       "**png:** 2"
      ],
      "text/plain": [
       "png \n",
       "  2 "
      ]
     },
     "metadata": {},
     "output_type": "display_data"
    }
   ],
   "source": [
    "\n",
    "pdf(\"MNX1.pdf\", width = 5, height = 2.5)\n",
    "\n",
    "Gviz::plotTracks(plot_list,\n",
    "                #sizes = c(2,2,2,2,1,1),\n",
    "                from = 156781418, to = 157016341, chromosome = \"chr7\", \n",
    "                transcriptAnnotation = \"symbol\",\n",
    "                col.axis = \"black\", cex.axis=1 ,\n",
    "                fontsize.group = 6,\n",
    "                fontcolor.legend = \"black\",\n",
    "                title.width = 2, background.title = \"transparent\", \n",
    "                col.border.title = \"transparent\")\n",
    "               dev.off()\n",
    "\n"
   ]
  },
  {
   "cell_type": "markdown",
   "metadata": {},
   "source": [
    "### Socs1 value for paper\n"
   ]
  },
  {
   "cell_type": "code",
   "execution_count": 36,
   "metadata": {},
   "outputs": [],
   "source": [
    "x=16\n",
    "cyt_dir = '/nfs/lab/mokino/SP21/endoC_HiChIP/17may21_cyt_newpeaks/MAPS_output/A471_Arima_EndoC_Lo_S3_L002_current/'\n",
    "ori = read.table(paste0(cyt_dir, 'reg_raw.chr', x,'.A471_Arima_EndoC_Lo_S3_L002.5k.and.MAPS2_pospoisson'))\n",
    "\n",
    "sub = subset(ori, bin1_mid> 11340000 & bin2_mid < 11402000)"
   ]
  },
  {
   "cell_type": "code",
   "execution_count": 37,
   "metadata": {},
   "outputs": [],
   "source": [
    "sub$Peak = paste(\"chr16\", sub$bin1_mid , sub$bin1_mid + 5000, sep=\"_\")"
   ]
  },
  {
   "cell_type": "code",
   "execution_count": 45,
   "metadata": {},
   "outputs": [
    {
     "data": {
      "text/html": [
       "<table class=\"dataframe\">\n",
       "<caption>A data.frame: 6 × 28</caption>\n",
       "<thead>\n",
       "\t<tr><th></th><th scope=col>bin1_mid</th><th scope=col>bin2_mid</th><th scope=col>count</th><th scope=col>X1D_peak_bin1</th><th scope=col>X1D_peak_bin2</th><th scope=col>effective_length1</th><th scope=col>gc1</th><th scope=col>mappability1</th><th scope=col>short_count1</th><th scope=col>effective_length2</th><th scope=col>⋯</th><th scope=col>logShortCount</th><th scope=col>chr</th><th scope=col>expected</th><th scope=col>p_val</th><th scope=col>expected2</th><th scope=col>ratio2</th><th scope=col>p_val_reg2</th><th scope=col>p_bonferroni</th><th scope=col>fdr</th><th scope=col>Peak</th></tr>\n",
       "\t<tr><th></th><th scope=col>&lt;dbl&gt;</th><th scope=col>&lt;dbl&gt;</th><th scope=col>&lt;int&gt;</th><th scope=col>&lt;int&gt;</th><th scope=col>&lt;int&gt;</th><th scope=col>&lt;int&gt;</th><th scope=col>&lt;dbl&gt;</th><th scope=col>&lt;dbl&gt;</th><th scope=col>&lt;int&gt;</th><th scope=col>&lt;int&gt;</th><th scope=col>⋯</th><th scope=col>&lt;dbl&gt;</th><th scope=col>&lt;fct&gt;</th><th scope=col>&lt;dbl&gt;</th><th scope=col>&lt;dbl&gt;</th><th scope=col>&lt;dbl&gt;</th><th scope=col>&lt;dbl&gt;</th><th scope=col>&lt;dbl&gt;</th><th scope=col>&lt;dbl&gt;</th><th scope=col>&lt;dbl&gt;</th><th scope=col>&lt;chr&gt;</th></tr>\n",
       "</thead>\n",
       "<tbody>\n",
       "\t<tr><th scope=row>420515</th><td>11345000</td><td>11390000</td><td>13</td><td>1</td><td>1</td><td>5520</td><td>0.5669</td><td>0.9765</td><td>104</td><td>5081</td><td>⋯</td><td>-2.723959</td><td>chr16</td><td>12.46823</td><td>0.368709668</td><td>11.549802</td><td>1.1255604</td><td>0.2719631555</td><td> 891663.0250</td><td>0.801573409</td><td>chr16_11345000_11350000</td></tr>\n",
       "\t<tr><th scope=row>420614</th><td>11350000</td><td>11390000</td><td>51</td><td>1</td><td>1</td><td>5154</td><td>0.5414</td><td>0.9828</td><td>400</td><td>5081</td><td>⋯</td><td>-1.383958</td><td>chr16</td><td>33.04529</td><td>0.001385866</td><td>29.538099</td><td>1.7265837</td><td>0.0001169019</td><td>    383.2765</td><td>0.008351577</td><td>chr16_11350000_11355000</td></tr>\n",
       "\t<tr><th scope=row>420715</th><td>11370000</td><td>11390000</td><td>30</td><td>1</td><td>1</td><td>5118</td><td>0.5238</td><td>0.8978</td><td> 91</td><td>5081</td><td>⋯</td><td>-2.856131</td><td>chr16</td><td>21.66115</td><td>0.034239708</td><td>20.488465</td><td>1.4642385</td><td>0.0180766183</td><td>  59266.3079</td><td>0.320198765</td><td>chr16_11370000_11375000</td></tr>\n",
       "\t<tr><th scope=row>426815</th><td>11345000</td><td>11400000</td><td>11</td><td>1</td><td>1</td><td>5520</td><td>0.5669</td><td>0.9765</td><td>104</td><td>5627</td><td>⋯</td><td>-3.427415</td><td>chr16</td><td> 6.69320</td><td>0.040732043</td><td> 6.310895</td><td>1.7430175</td><td>0.0280974804</td><td>  92120.8768</td><td>0.408896388</td><td>chr16_11345000_11350000</td></tr>\n",
       "\t<tr><th scope=row>426915</th><td>11350000</td><td>11400000</td><td>28</td><td>1</td><td>1</td><td>5154</td><td>0.5414</td><td>0.9828</td><td>400</td><td>5627</td><td>⋯</td><td>-2.087414</td><td>chr16</td><td>17.42389</td><td>0.006855663</td><td>15.837987</td><td>1.7679015</td><td>0.0018963322</td><td>   6217.3470</td><td>0.068979462</td><td>chr16_11350000_11355000</td></tr>\n",
       "\t<tr><th scope=row>427012</th><td>11370000</td><td>11400000</td><td> 7</td><td>1</td><td>1</td><td>5118</td><td>0.5238</td><td>0.8978</td><td> 91</td><td>5627</td><td>⋯</td><td>-3.559587</td><td>chr16</td><td>10.09395</td><td>0.788155949</td><td> 9.683980</td><td>0.7228433</td><td>0.7500022610</td><td>2458970.1630</td><td>0.842282792</td><td>chr16_11370000_11375000</td></tr>\n",
       "</tbody>\n",
       "</table>\n"
      ],
      "text/latex": [
       "A data.frame: 6 × 28\n",
       "\\begin{tabular}{r|lllllllllllllllllllll}\n",
       "  & bin1\\_mid & bin2\\_mid & count & X1D\\_peak\\_bin1 & X1D\\_peak\\_bin2 & effective\\_length1 & gc1 & mappability1 & short\\_count1 & effective\\_length2 & ⋯ & logShortCount & chr & expected & p\\_val & expected2 & ratio2 & p\\_val\\_reg2 & p\\_bonferroni & fdr & Peak\\\\\n",
       "  & <dbl> & <dbl> & <int> & <int> & <int> & <int> & <dbl> & <dbl> & <int> & <int> & ⋯ & <dbl> & <fct> & <dbl> & <dbl> & <dbl> & <dbl> & <dbl> & <dbl> & <dbl> & <chr>\\\\\n",
       "\\hline\n",
       "\t420515 & 11345000 & 11390000 & 13 & 1 & 1 & 5520 & 0.5669 & 0.9765 & 104 & 5081 & ⋯ & -2.723959 & chr16 & 12.46823 & 0.368709668 & 11.549802 & 1.1255604 & 0.2719631555 &  891663.0250 & 0.801573409 & chr16\\_11345000\\_11350000\\\\\n",
       "\t420614 & 11350000 & 11390000 & 51 & 1 & 1 & 5154 & 0.5414 & 0.9828 & 400 & 5081 & ⋯ & -1.383958 & chr16 & 33.04529 & 0.001385866 & 29.538099 & 1.7265837 & 0.0001169019 &     383.2765 & 0.008351577 & chr16\\_11350000\\_11355000\\\\\n",
       "\t420715 & 11370000 & 11390000 & 30 & 1 & 1 & 5118 & 0.5238 & 0.8978 &  91 & 5081 & ⋯ & -2.856131 & chr16 & 21.66115 & 0.034239708 & 20.488465 & 1.4642385 & 0.0180766183 &   59266.3079 & 0.320198765 & chr16\\_11370000\\_11375000\\\\\n",
       "\t426815 & 11345000 & 11400000 & 11 & 1 & 1 & 5520 & 0.5669 & 0.9765 & 104 & 5627 & ⋯ & -3.427415 & chr16 &  6.69320 & 0.040732043 &  6.310895 & 1.7430175 & 0.0280974804 &   92120.8768 & 0.408896388 & chr16\\_11345000\\_11350000\\\\\n",
       "\t426915 & 11350000 & 11400000 & 28 & 1 & 1 & 5154 & 0.5414 & 0.9828 & 400 & 5627 & ⋯ & -2.087414 & chr16 & 17.42389 & 0.006855663 & 15.837987 & 1.7679015 & 0.0018963322 &    6217.3470 & 0.068979462 & chr16\\_11350000\\_11355000\\\\\n",
       "\t427012 & 11370000 & 11400000 &  7 & 1 & 1 & 5118 & 0.5238 & 0.8978 &  91 & 5627 & ⋯ & -3.559587 & chr16 & 10.09395 & 0.788155949 &  9.683980 & 0.7228433 & 0.7500022610 & 2458970.1630 & 0.842282792 & chr16\\_11370000\\_11375000\\\\\n",
       "\\end{tabular}\n"
      ],
      "text/markdown": [
       "\n",
       "A data.frame: 6 × 28\n",
       "\n",
       "| <!--/--> | bin1_mid &lt;dbl&gt; | bin2_mid &lt;dbl&gt; | count &lt;int&gt; | X1D_peak_bin1 &lt;int&gt; | X1D_peak_bin2 &lt;int&gt; | effective_length1 &lt;int&gt; | gc1 &lt;dbl&gt; | mappability1 &lt;dbl&gt; | short_count1 &lt;int&gt; | effective_length2 &lt;int&gt; | ⋯ ⋯ | logShortCount &lt;dbl&gt; | chr &lt;fct&gt; | expected &lt;dbl&gt; | p_val &lt;dbl&gt; | expected2 &lt;dbl&gt; | ratio2 &lt;dbl&gt; | p_val_reg2 &lt;dbl&gt; | p_bonferroni &lt;dbl&gt; | fdr &lt;dbl&gt; | Peak &lt;chr&gt; |\n",
       "|---|---|---|---|---|---|---|---|---|---|---|---|---|---|---|---|---|---|---|---|---|---|\n",
       "| 420515 | 11345000 | 11390000 | 13 | 1 | 1 | 5520 | 0.5669 | 0.9765 | 104 | 5081 | ⋯ | -2.723959 | chr16 | 12.46823 | 0.368709668 | 11.549802 | 1.1255604 | 0.2719631555 |  891663.0250 | 0.801573409 | chr16_11345000_11350000 |\n",
       "| 420614 | 11350000 | 11390000 | 51 | 1 | 1 | 5154 | 0.5414 | 0.9828 | 400 | 5081 | ⋯ | -1.383958 | chr16 | 33.04529 | 0.001385866 | 29.538099 | 1.7265837 | 0.0001169019 |     383.2765 | 0.008351577 | chr16_11350000_11355000 |\n",
       "| 420715 | 11370000 | 11390000 | 30 | 1 | 1 | 5118 | 0.5238 | 0.8978 |  91 | 5081 | ⋯ | -2.856131 | chr16 | 21.66115 | 0.034239708 | 20.488465 | 1.4642385 | 0.0180766183 |   59266.3079 | 0.320198765 | chr16_11370000_11375000 |\n",
       "| 426815 | 11345000 | 11400000 | 11 | 1 | 1 | 5520 | 0.5669 | 0.9765 | 104 | 5627 | ⋯ | -3.427415 | chr16 |  6.69320 | 0.040732043 |  6.310895 | 1.7430175 | 0.0280974804 |   92120.8768 | 0.408896388 | chr16_11345000_11350000 |\n",
       "| 426915 | 11350000 | 11400000 | 28 | 1 | 1 | 5154 | 0.5414 | 0.9828 | 400 | 5627 | ⋯ | -2.087414 | chr16 | 17.42389 | 0.006855663 | 15.837987 | 1.7679015 | 0.0018963322 |    6217.3470 | 0.068979462 | chr16_11350000_11355000 |\n",
       "| 427012 | 11370000 | 11400000 |  7 | 1 | 1 | 5118 | 0.5238 | 0.8978 |  91 | 5627 | ⋯ | -3.559587 | chr16 | 10.09395 | 0.788155949 |  9.683980 | 0.7228433 | 0.7500022610 | 2458970.1630 | 0.842282792 | chr16_11370000_11375000 |\n",
       "\n"
      ],
      "text/plain": [
       "       bin1_mid bin2_mid count X1D_peak_bin1 X1D_peak_bin2 effective_length1\n",
       "420515 11345000 11390000 13    1             1             5520             \n",
       "420614 11350000 11390000 51    1             1             5154             \n",
       "420715 11370000 11390000 30    1             1             5118             \n",
       "426815 11345000 11400000 11    1             1             5520             \n",
       "426915 11350000 11400000 28    1             1             5154             \n",
       "427012 11370000 11400000  7    1             1             5118             \n",
       "       gc1    mappability1 short_count1 effective_length2 ⋯ logShortCount chr  \n",
       "420515 0.5669 0.9765       104          5081              ⋯ -2.723959     chr16\n",
       "420614 0.5414 0.9828       400          5081              ⋯ -1.383958     chr16\n",
       "420715 0.5238 0.8978        91          5081              ⋯ -2.856131     chr16\n",
       "426815 0.5669 0.9765       104          5627              ⋯ -3.427415     chr16\n",
       "426915 0.5414 0.9828       400          5627              ⋯ -2.087414     chr16\n",
       "427012 0.5238 0.8978        91          5627              ⋯ -3.559587     chr16\n",
       "       expected p_val       expected2 ratio2    p_val_reg2   p_bonferroni\n",
       "420515 12.46823 0.368709668 11.549802 1.1255604 0.2719631555  891663.0250\n",
       "420614 33.04529 0.001385866 29.538099 1.7265837 0.0001169019     383.2765\n",
       "420715 21.66115 0.034239708 20.488465 1.4642385 0.0180766183   59266.3079\n",
       "426815  6.69320 0.040732043  6.310895 1.7430175 0.0280974804   92120.8768\n",
       "426915 17.42389 0.006855663 15.837987 1.7679015 0.0018963322    6217.3470\n",
       "427012 10.09395 0.788155949  9.683980 0.7228433 0.7500022610 2458970.1630\n",
       "       fdr         Peak                   \n",
       "420515 0.801573409 chr16_11345000_11350000\n",
       "420614 0.008351577 chr16_11350000_11355000\n",
       "420715 0.320198765 chr16_11370000_11375000\n",
       "426815 0.408896388 chr16_11345000_11350000\n",
       "426915 0.068979462 chr16_11350000_11355000\n",
       "427012 0.842282792 chr16_11370000_11375000"
      ]
     },
     "metadata": {},
     "output_type": "display_data"
    }
   ],
   "source": [
    "head(sub)"
   ]
  },
  {
   "cell_type": "code",
   "execution_count": 39,
   "metadata": {},
   "outputs": [],
   "source": [
    "m = merge(v4c, sub, by.x=\"Peak2\", by.y=\"Peak\")"
   ]
  },
  {
   "cell_type": "code",
   "execution_count": 46,
   "metadata": {},
   "outputs": [
    {
     "data": {
      "text/html": [
       "<table class=\"dataframe\">\n",
       "<caption>A data.frame: 6 × 10</caption>\n",
       "<thead>\n",
       "\t<tr><th></th><th scope=col>locus</th><th scope=col>Peak1</th><th scope=col>V1</th><th scope=col>V2</th><th scope=col>V3</th><th scope=col>V4</th><th scope=col>Peak2</th><th scope=col>score</th><th scope=col>condition</th><th scope=col>coaccess</th></tr>\n",
       "\t<tr><th></th><th scope=col>&lt;fct&gt;</th><th scope=col>&lt;fct&gt;</th><th scope=col>&lt;fct&gt;</th><th scope=col>&lt;int&gt;</th><th scope=col>&lt;int&gt;</th><th scope=col>&lt;int&gt;</th><th scope=col>&lt;chr&gt;</th><th scope=col>&lt;int&gt;</th><th scope=col>&lt;chr&gt;</th><th scope=col>&lt;dbl&gt;</th></tr>\n",
       "</thead>\n",
       "<tbody>\n",
       "\t<tr><th scope=row>1</th><td>BCL6_enh</td><td>chr3_187724421_187725031</td><td>chr3</td><td>187465000</td><td>187470000</td><td>7</td><td>chr3_187465000_187470000</td><td>7</td><td>cyt</td><td>0.33333333</td></tr>\n",
       "\t<tr><th scope=row>2</th><td>BCL6_enh</td><td>chr3_187724421_187725031</td><td>chr3</td><td>188010000</td><td>188015000</td><td>3</td><td>chr3_188010000_188015000</td><td>3</td><td>cyt</td><td>0.11111111</td></tr>\n",
       "\t<tr><th scope=row>3</th><td>BCL6_enh</td><td>chr3_187724421_187725031</td><td>chr3</td><td>188010000</td><td>188015000</td><td>3</td><td>chr3_188010000_188015000</td><td>3</td><td>unt</td><td>0.11111111</td></tr>\n",
       "\t<tr><th scope=row>4</th><td>BCL6_enh</td><td>chr3_187724421_187725031</td><td>chr3</td><td>188150000</td><td>188155000</td><td>2</td><td>chr3_188150000_188155000</td><td>2</td><td>cyt</td><td>0.05555556</td></tr>\n",
       "\t<tr><th scope=row>5</th><td>BCL6_enh</td><td>chr3_187724421_187725031</td><td>chr3</td><td>187870000</td><td>187875000</td><td>2</td><td>chr3_187870000_187875000</td><td>2</td><td>cyt</td><td>0.05555556</td></tr>\n",
       "\t<tr><th scope=row>6</th><td>BCL6_enh</td><td>chr3_187724421_187725031</td><td>chr3</td><td>187465000</td><td>187470000</td><td>8</td><td>chr3_187465000_187470000</td><td>8</td><td>unt</td><td>0.38888889</td></tr>\n",
       "</tbody>\n",
       "</table>\n"
      ],
      "text/latex": [
       "A data.frame: 6 × 10\n",
       "\\begin{tabular}{r|llllllllll}\n",
       "  & locus & Peak1 & V1 & V2 & V3 & V4 & Peak2 & score & condition & coaccess\\\\\n",
       "  & <fct> & <fct> & <fct> & <int> & <int> & <int> & <chr> & <int> & <chr> & <dbl>\\\\\n",
       "\\hline\n",
       "\t1 & BCL6\\_enh & chr3\\_187724421\\_187725031 & chr3 & 187465000 & 187470000 & 7 & chr3\\_187465000\\_187470000 & 7 & cyt & 0.33333333\\\\\n",
       "\t2 & BCL6\\_enh & chr3\\_187724421\\_187725031 & chr3 & 188010000 & 188015000 & 3 & chr3\\_188010000\\_188015000 & 3 & cyt & 0.11111111\\\\\n",
       "\t3 & BCL6\\_enh & chr3\\_187724421\\_187725031 & chr3 & 188010000 & 188015000 & 3 & chr3\\_188010000\\_188015000 & 3 & unt & 0.11111111\\\\\n",
       "\t4 & BCL6\\_enh & chr3\\_187724421\\_187725031 & chr3 & 188150000 & 188155000 & 2 & chr3\\_188150000\\_188155000 & 2 & cyt & 0.05555556\\\\\n",
       "\t5 & BCL6\\_enh & chr3\\_187724421\\_187725031 & chr3 & 187870000 & 187875000 & 2 & chr3\\_187870000\\_187875000 & 2 & cyt & 0.05555556\\\\\n",
       "\t6 & BCL6\\_enh & chr3\\_187724421\\_187725031 & chr3 & 187465000 & 187470000 & 8 & chr3\\_187465000\\_187470000 & 8 & unt & 0.38888889\\\\\n",
       "\\end{tabular}\n"
      ],
      "text/markdown": [
       "\n",
       "A data.frame: 6 × 10\n",
       "\n",
       "| <!--/--> | locus &lt;fct&gt; | Peak1 &lt;fct&gt; | V1 &lt;fct&gt; | V2 &lt;int&gt; | V3 &lt;int&gt; | V4 &lt;int&gt; | Peak2 &lt;chr&gt; | score &lt;int&gt; | condition &lt;chr&gt; | coaccess &lt;dbl&gt; |\n",
       "|---|---|---|---|---|---|---|---|---|---|---|\n",
       "| 1 | BCL6_enh | chr3_187724421_187725031 | chr3 | 187465000 | 187470000 | 7 | chr3_187465000_187470000 | 7 | cyt | 0.33333333 |\n",
       "| 2 | BCL6_enh | chr3_187724421_187725031 | chr3 | 188010000 | 188015000 | 3 | chr3_188010000_188015000 | 3 | cyt | 0.11111111 |\n",
       "| 3 | BCL6_enh | chr3_187724421_187725031 | chr3 | 188010000 | 188015000 | 3 | chr3_188010000_188015000 | 3 | unt | 0.11111111 |\n",
       "| 4 | BCL6_enh | chr3_187724421_187725031 | chr3 | 188150000 | 188155000 | 2 | chr3_188150000_188155000 | 2 | cyt | 0.05555556 |\n",
       "| 5 | BCL6_enh | chr3_187724421_187725031 | chr3 | 187870000 | 187875000 | 2 | chr3_187870000_187875000 | 2 | cyt | 0.05555556 |\n",
       "| 6 | BCL6_enh | chr3_187724421_187725031 | chr3 | 187465000 | 187470000 | 8 | chr3_187465000_187470000 | 8 | unt | 0.38888889 |\n",
       "\n"
      ],
      "text/plain": [
       "  locus    Peak1                    V1   V2        V3        V4\n",
       "1 BCL6_enh chr3_187724421_187725031 chr3 187465000 187470000 7 \n",
       "2 BCL6_enh chr3_187724421_187725031 chr3 188010000 188015000 3 \n",
       "3 BCL6_enh chr3_187724421_187725031 chr3 188010000 188015000 3 \n",
       "4 BCL6_enh chr3_187724421_187725031 chr3 188150000 188155000 2 \n",
       "5 BCL6_enh chr3_187724421_187725031 chr3 187870000 187875000 2 \n",
       "6 BCL6_enh chr3_187724421_187725031 chr3 187465000 187470000 8 \n",
       "  Peak2                    score condition coaccess  \n",
       "1 chr3_187465000_187470000 7     cyt       0.33333333\n",
       "2 chr3_188010000_188015000 3     cyt       0.11111111\n",
       "3 chr3_188010000_188015000 3     unt       0.11111111\n",
       "4 chr3_188150000_188155000 2     cyt       0.05555556\n",
       "5 chr3_187870000_187875000 2     cyt       0.05555556\n",
       "6 chr3_187465000_187470000 8     unt       0.38888889"
      ]
     },
     "metadata": {},
     "output_type": "display_data"
    }
   ],
   "source": [
    "head(v4c)"
   ]
  },
  {
   "cell_type": "code",
   "execution_count": 43,
   "metadata": {},
   "outputs": [],
   "source": [
    "m= subset(m, locus==\"SOCS1_enh\" & coaccess >0.1 & bin2_mid > 11397000)"
   ]
  },
  {
   "cell_type": "code",
   "execution_count": 44,
   "metadata": {},
   "outputs": [
    {
     "data": {
      "text/html": [
       "<table class=\"dataframe\">\n",
       "<caption>A matrix: 37 × 4 of type chr</caption>\n",
       "<thead>\n",
       "\t<tr><th></th><th scope=col>2</th><th scope=col>5</th><th scope=col>12</th><th scope=col>15</th></tr>\n",
       "</thead>\n",
       "<tbody>\n",
       "\t<tr><th scope=row>Peak2</th><td>chr16_11345000_11350000</td><td>chr16_11350000_11355000</td><td>chr16_11370000_11375000</td><td>chr16_11390000_11395000</td></tr>\n",
       "\t<tr><th scope=row>locus</th><td>SOCS1_enh              </td><td>SOCS1_enh              </td><td>SOCS1_enh              </td><td>SOCS1_enh              </td></tr>\n",
       "\t<tr><th scope=row>Peak1</th><td>chr16_11401017_11401743</td><td>chr16_11401017_11401743</td><td>chr16_11401017_11401743</td><td>chr16_11401017_11401743</td></tr>\n",
       "\t<tr><th scope=row>V1</th><td>chr16                  </td><td>chr16                  </td><td>chr16                  </td><td>chr16                  </td></tr>\n",
       "\t<tr><th scope=row>V2</th><td>11345000               </td><td>11350000               </td><td>11370000               </td><td>11390000               </td></tr>\n",
       "\t<tr><th scope=row>V3</th><td>11350000               </td><td>11355000               </td><td>11375000               </td><td>11395000               </td></tr>\n",
       "\t<tr><th scope=row>V4</th><td>11                     </td><td>28                     </td><td> 7                     </td><td>48                     </td></tr>\n",
       "\t<tr><th scope=row>score</th><td>11                     </td><td>28                     </td><td> 7                     </td><td>48                     </td></tr>\n",
       "\t<tr><th scope=row>condition</th><td>cyt                    </td><td>cyt                    </td><td>cyt                    </td><td>cyt                    </td></tr>\n",
       "\t<tr><th scope=row>coaccess</th><td>0.2127660              </td><td>0.5744681              </td><td>0.1276596              </td><td>1.0000000              </td></tr>\n",
       "\t<tr><th scope=row>bin1_mid</th><td>11345000               </td><td>11350000               </td><td>11370000               </td><td>11390000               </td></tr>\n",
       "\t<tr><th scope=row>bin2_mid</th><td>11400000               </td><td>11400000               </td><td>11400000               </td><td>11400000               </td></tr>\n",
       "\t<tr><th scope=row>count</th><td>11                     </td><td>28                     </td><td> 7                     </td><td>48                     </td></tr>\n",
       "\t<tr><th scope=row>X1D_peak_bin1</th><td>1                      </td><td>1                      </td><td>1                      </td><td>1                      </td></tr>\n",
       "\t<tr><th scope=row>X1D_peak_bin2</th><td>1                      </td><td>1                      </td><td>1                      </td><td>1                      </td></tr>\n",
       "\t<tr><th scope=row>effective_length1</th><td>5520                   </td><td>5154                   </td><td>5118                   </td><td>5081                   </td></tr>\n",
       "\t<tr><th scope=row>gc1</th><td>0.5669                 </td><td>0.5414                 </td><td>0.5238                 </td><td>0.5190                 </td></tr>\n",
       "\t<tr><th scope=row>mappability1</th><td>0.9765                 </td><td>0.9828                 </td><td>0.8978                 </td><td>0.9101                 </td></tr>\n",
       "\t<tr><th scope=row>short_count1</th><td>104                    </td><td>400                    </td><td> 91                    </td><td>389                    </td></tr>\n",
       "\t<tr><th scope=row>effective_length2</th><td>5627                   </td><td>5627                   </td><td>5627                   </td><td>5627                   </td></tr>\n",
       "\t<tr><th scope=row>gc2</th><td>0.5094                 </td><td>0.5094                 </td><td>0.5094                 </td><td>0.5094                 </td></tr>\n",
       "\t<tr><th scope=row>mappability2</th><td>0.888                  </td><td>0.888                  </td><td>0.888                  </td><td>0.888                  </td></tr>\n",
       "\t<tr><th scope=row>short_count2</th><td>192                    </td><td>192                    </td><td>192                    </td><td>192                    </td></tr>\n",
       "\t<tr><th scope=row>dist</th><td>11                     </td><td>10                     </td><td> 6                     </td><td> 2                     </td></tr>\n",
       "\t<tr><th scope=row>logl</th><td>0.2174373              </td><td>0.1488454              </td><td>0.1418374              </td><td>0.1345832              </td></tr>\n",
       "\t<tr><th scope=row>loggc</th><td>-1.242094              </td><td>-1.288119              </td><td>-1.321167              </td><td>-1.330373              </td></tr>\n",
       "\t<tr><th scope=row>logm</th><td>-0.1425641             </td><td>-0.1361332             </td><td>-0.2265915             </td><td>-0.2129843             </td></tr>\n",
       "\t<tr><th scope=row>logdist</th><td>-3.506558              </td><td>-3.593569              </td><td>-4.045554              </td><td>-4.892852              </td></tr>\n",
       "\t<tr><th scope=row>logShortCount</th><td>-3.427415              </td><td>-2.087414              </td><td>-3.559587              </td><td>-2.115229              </td></tr>\n",
       "\t<tr><th scope=row>chr</th><td>chr16                  </td><td>chr16                  </td><td>chr16                  </td><td>chr16                  </td></tr>\n",
       "\t<tr><th scope=row>expected</th><td> 6.69320               </td><td>17.42389               </td><td>10.09395               </td><td>54.70552               </td></tr>\n",
       "\t<tr><th scope=row>p_val</th><td>0.040732043            </td><td>0.006855663            </td><td>0.788155949            </td><td>0.797471749            </td></tr>\n",
       "\t<tr><th scope=row>expected2</th><td> 6.310895              </td><td>15.837987              </td><td> 9.683980              </td><td>51.150272              </td></tr>\n",
       "\t<tr><th scope=row>ratio2</th><td>1.7430175              </td><td>1.7679015              </td><td>0.7228433              </td><td>0.9384114              </td></tr>\n",
       "\t<tr><th scope=row>p_val_reg2</th><td>0.028097480            </td><td>0.001896332            </td><td>0.750002261            </td><td>0.636932224            </td></tr>\n",
       "\t<tr><th scope=row>p_bonferroni</th><td>  92120.877            </td><td>   6217.347            </td><td>2458970.163            </td><td>2088256.819            </td></tr>\n",
       "\t<tr><th scope=row>fdr</th><td>0.40889639             </td><td>0.06897946             </td><td>0.84228279             </td><td>0.80394023             </td></tr>\n",
       "</tbody>\n",
       "</table>\n"
      ],
      "text/latex": [
       "A matrix: 37 × 4 of type chr\n",
       "\\begin{tabular}{r|llll}\n",
       "  & 2 & 5 & 12 & 15\\\\\n",
       "\\hline\n",
       "\tPeak2 & chr16\\_11345000\\_11350000 & chr16\\_11350000\\_11355000 & chr16\\_11370000\\_11375000 & chr16\\_11390000\\_11395000\\\\\n",
       "\tlocus & SOCS1\\_enh               & SOCS1\\_enh               & SOCS1\\_enh               & SOCS1\\_enh              \\\\\n",
       "\tPeak1 & chr16\\_11401017\\_11401743 & chr16\\_11401017\\_11401743 & chr16\\_11401017\\_11401743 & chr16\\_11401017\\_11401743\\\\\n",
       "\tV1 & chr16                   & chr16                   & chr16                   & chr16                  \\\\\n",
       "\tV2 & 11345000                & 11350000                & 11370000                & 11390000               \\\\\n",
       "\tV3 & 11350000                & 11355000                & 11375000                & 11395000               \\\\\n",
       "\tV4 & 11                      & 28                      &  7                      & 48                     \\\\\n",
       "\tscore & 11                      & 28                      &  7                      & 48                     \\\\\n",
       "\tcondition & cyt                     & cyt                     & cyt                     & cyt                    \\\\\n",
       "\tcoaccess & 0.2127660               & 0.5744681               & 0.1276596               & 1.0000000              \\\\\n",
       "\tbin1\\_mid & 11345000                & 11350000                & 11370000                & 11390000               \\\\\n",
       "\tbin2\\_mid & 11400000                & 11400000                & 11400000                & 11400000               \\\\\n",
       "\tcount & 11                      & 28                      &  7                      & 48                     \\\\\n",
       "\tX1D\\_peak\\_bin1 & 1                       & 1                       & 1                       & 1                      \\\\\n",
       "\tX1D\\_peak\\_bin2 & 1                       & 1                       & 1                       & 1                      \\\\\n",
       "\teffective\\_length1 & 5520                    & 5154                    & 5118                    & 5081                   \\\\\n",
       "\tgc1 & 0.5669                  & 0.5414                  & 0.5238                  & 0.5190                 \\\\\n",
       "\tmappability1 & 0.9765                  & 0.9828                  & 0.8978                  & 0.9101                 \\\\\n",
       "\tshort\\_count1 & 104                     & 400                     &  91                     & 389                    \\\\\n",
       "\teffective\\_length2 & 5627                    & 5627                    & 5627                    & 5627                   \\\\\n",
       "\tgc2 & 0.5094                  & 0.5094                  & 0.5094                  & 0.5094                 \\\\\n",
       "\tmappability2 & 0.888                   & 0.888                   & 0.888                   & 0.888                  \\\\\n",
       "\tshort\\_count2 & 192                     & 192                     & 192                     & 192                    \\\\\n",
       "\tdist & 11                      & 10                      &  6                      &  2                     \\\\\n",
       "\tlogl & 0.2174373               & 0.1488454               & 0.1418374               & 0.1345832              \\\\\n",
       "\tloggc & -1.242094               & -1.288119               & -1.321167               & -1.330373              \\\\\n",
       "\tlogm & -0.1425641              & -0.1361332              & -0.2265915              & -0.2129843             \\\\\n",
       "\tlogdist & -3.506558               & -3.593569               & -4.045554               & -4.892852              \\\\\n",
       "\tlogShortCount & -3.427415               & -2.087414               & -3.559587               & -2.115229              \\\\\n",
       "\tchr & chr16                   & chr16                   & chr16                   & chr16                  \\\\\n",
       "\texpected &  6.69320                & 17.42389                & 10.09395                & 54.70552               \\\\\n",
       "\tp\\_val & 0.040732043             & 0.006855663             & 0.788155949             & 0.797471749            \\\\\n",
       "\texpected2 &  6.310895               & 15.837987               &  9.683980               & 51.150272              \\\\\n",
       "\tratio2 & 1.7430175               & 1.7679015               & 0.7228433               & 0.9384114              \\\\\n",
       "\tp\\_val\\_reg2 & 0.028097480             & 0.001896332             & 0.750002261             & 0.636932224            \\\\\n",
       "\tp\\_bonferroni &   92120.877             &    6217.347             & 2458970.163             & 2088256.819            \\\\\n",
       "\tfdr & 0.40889639              & 0.06897946              & 0.84228279              & 0.80394023             \\\\\n",
       "\\end{tabular}\n"
      ],
      "text/markdown": [
       "\n",
       "A matrix: 37 × 4 of type chr\n",
       "\n",
       "| <!--/--> | 2 | 5 | 12 | 15 |\n",
       "|---|---|---|---|---|\n",
       "| Peak2 | chr16_11345000_11350000 | chr16_11350000_11355000 | chr16_11370000_11375000 | chr16_11390000_11395000 |\n",
       "| locus | SOCS1_enh               | SOCS1_enh               | SOCS1_enh               | SOCS1_enh               |\n",
       "| Peak1 | chr16_11401017_11401743 | chr16_11401017_11401743 | chr16_11401017_11401743 | chr16_11401017_11401743 |\n",
       "| V1 | chr16                   | chr16                   | chr16                   | chr16                   |\n",
       "| V2 | 11345000                | 11350000                | 11370000                | 11390000                |\n",
       "| V3 | 11350000                | 11355000                | 11375000                | 11395000                |\n",
       "| V4 | 11                      | 28                      |  7                      | 48                      |\n",
       "| score | 11                      | 28                      |  7                      | 48                      |\n",
       "| condition | cyt                     | cyt                     | cyt                     | cyt                     |\n",
       "| coaccess | 0.2127660               | 0.5744681               | 0.1276596               | 1.0000000               |\n",
       "| bin1_mid | 11345000                | 11350000                | 11370000                | 11390000                |\n",
       "| bin2_mid | 11400000                | 11400000                | 11400000                | 11400000                |\n",
       "| count | 11                      | 28                      |  7                      | 48                      |\n",
       "| X1D_peak_bin1 | 1                       | 1                       | 1                       | 1                       |\n",
       "| X1D_peak_bin2 | 1                       | 1                       | 1                       | 1                       |\n",
       "| effective_length1 | 5520                    | 5154                    | 5118                    | 5081                    |\n",
       "| gc1 | 0.5669                  | 0.5414                  | 0.5238                  | 0.5190                  |\n",
       "| mappability1 | 0.9765                  | 0.9828                  | 0.8978                  | 0.9101                  |\n",
       "| short_count1 | 104                     | 400                     |  91                     | 389                     |\n",
       "| effective_length2 | 5627                    | 5627                    | 5627                    | 5627                    |\n",
       "| gc2 | 0.5094                  | 0.5094                  | 0.5094                  | 0.5094                  |\n",
       "| mappability2 | 0.888                   | 0.888                   | 0.888                   | 0.888                   |\n",
       "| short_count2 | 192                     | 192                     | 192                     | 192                     |\n",
       "| dist | 11                      | 10                      |  6                      |  2                      |\n",
       "| logl | 0.2174373               | 0.1488454               | 0.1418374               | 0.1345832               |\n",
       "| loggc | -1.242094               | -1.288119               | -1.321167               | -1.330373               |\n",
       "| logm | -0.1425641              | -0.1361332              | -0.2265915              | -0.2129843              |\n",
       "| logdist | -3.506558               | -3.593569               | -4.045554               | -4.892852               |\n",
       "| logShortCount | -3.427415               | -2.087414               | -3.559587               | -2.115229               |\n",
       "| chr | chr16                   | chr16                   | chr16                   | chr16                   |\n",
       "| expected |  6.69320                | 17.42389                | 10.09395                | 54.70552                |\n",
       "| p_val | 0.040732043             | 0.006855663             | 0.788155949             | 0.797471749             |\n",
       "| expected2 |  6.310895               | 15.837987               |  9.683980               | 51.150272               |\n",
       "| ratio2 | 1.7430175               | 1.7679015               | 0.7228433               | 0.9384114               |\n",
       "| p_val_reg2 | 0.028097480             | 0.001896332             | 0.750002261             | 0.636932224             |\n",
       "| p_bonferroni |   92120.877             |    6217.347             | 2458970.163             | 2088256.819             |\n",
       "| fdr | 0.40889639              | 0.06897946              | 0.84228279              | 0.80394023              |\n",
       "\n"
      ],
      "text/plain": [
       "                  2                       5                      \n",
       "Peak2             chr16_11345000_11350000 chr16_11350000_11355000\n",
       "locus             SOCS1_enh               SOCS1_enh              \n",
       "Peak1             chr16_11401017_11401743 chr16_11401017_11401743\n",
       "V1                chr16                   chr16                  \n",
       "V2                11345000                11350000               \n",
       "V3                11350000                11355000               \n",
       "V4                11                      28                     \n",
       "score             11                      28                     \n",
       "condition         cyt                     cyt                    \n",
       "coaccess          0.2127660               0.5744681              \n",
       "bin1_mid          11345000                11350000               \n",
       "bin2_mid          11400000                11400000               \n",
       "count             11                      28                     \n",
       "X1D_peak_bin1     1                       1                      \n",
       "X1D_peak_bin2     1                       1                      \n",
       "effective_length1 5520                    5154                   \n",
       "gc1               0.5669                  0.5414                 \n",
       "mappability1      0.9765                  0.9828                 \n",
       "short_count1      104                     400                    \n",
       "effective_length2 5627                    5627                   \n",
       "gc2               0.5094                  0.5094                 \n",
       "mappability2      0.888                   0.888                  \n",
       "short_count2      192                     192                    \n",
       "dist              11                      10                     \n",
       "logl              0.2174373               0.1488454              \n",
       "loggc             -1.242094               -1.288119              \n",
       "logm              -0.1425641              -0.1361332             \n",
       "logdist           -3.506558               -3.593569              \n",
       "logShortCount     -3.427415               -2.087414              \n",
       "chr               chr16                   chr16                  \n",
       "expected           6.69320                17.42389               \n",
       "p_val             0.040732043             0.006855663            \n",
       "expected2          6.310895               15.837987              \n",
       "ratio2            1.7430175               1.7679015              \n",
       "p_val_reg2        0.028097480             0.001896332            \n",
       "p_bonferroni        92120.877                6217.347            \n",
       "fdr               0.40889639              0.06897946             \n",
       "                  12                      15                     \n",
       "Peak2             chr16_11370000_11375000 chr16_11390000_11395000\n",
       "locus             SOCS1_enh               SOCS1_enh              \n",
       "Peak1             chr16_11401017_11401743 chr16_11401017_11401743\n",
       "V1                chr16                   chr16                  \n",
       "V2                11370000                11390000               \n",
       "V3                11375000                11395000               \n",
       "V4                 7                      48                     \n",
       "score              7                      48                     \n",
       "condition         cyt                     cyt                    \n",
       "coaccess          0.1276596               1.0000000              \n",
       "bin1_mid          11370000                11390000               \n",
       "bin2_mid          11400000                11400000               \n",
       "count              7                      48                     \n",
       "X1D_peak_bin1     1                       1                      \n",
       "X1D_peak_bin2     1                       1                      \n",
       "effective_length1 5118                    5081                   \n",
       "gc1               0.5238                  0.5190                 \n",
       "mappability1      0.8978                  0.9101                 \n",
       "short_count1       91                     389                    \n",
       "effective_length2 5627                    5627                   \n",
       "gc2               0.5094                  0.5094                 \n",
       "mappability2      0.888                   0.888                  \n",
       "short_count2      192                     192                    \n",
       "dist               6                       2                     \n",
       "logl              0.1418374               0.1345832              \n",
       "loggc             -1.321167               -1.330373              \n",
       "logm              -0.2265915              -0.2129843             \n",
       "logdist           -4.045554               -4.892852              \n",
       "logShortCount     -3.559587               -2.115229              \n",
       "chr               chr16                   chr16                  \n",
       "expected          10.09395                54.70552               \n",
       "p_val             0.788155949             0.797471749            \n",
       "expected2          9.683980               51.150272              \n",
       "ratio2            0.7228433               0.9384114              \n",
       "p_val_reg2        0.750002261             0.636932224            \n",
       "p_bonferroni      2458970.163             2088256.819            \n",
       "fdr               0.84228279              0.80394023             "
      ]
     },
     "metadata": {},
     "output_type": "display_data"
    }
   ],
   "source": [
    "m[,]"
   ]
  },
  {
   "cell_type": "code",
   "execution_count": 58,
   "metadata": {},
   "outputs": [
    {
     "data": {
      "text/html": [
       "<table class=\"dataframe\">\n",
       "<caption>A data.frame: 4 × 13</caption>\n",
       "<thead>\n",
       "\t<tr><th></th><th scope=col>bin1_mid</th><th scope=col>bin2_mid</th><th scope=col>count</th><th scope=col>effective_length1</th><th scope=col>short_count1</th><th scope=col>effective_length2</th><th scope=col>short_count2</th><th scope=col>expected</th><th scope=col>p_val</th><th scope=col>expected2</th><th scope=col>ratio2</th><th scope=col>p_val_reg2</th><th scope=col>fdr</th></tr>\n",
       "\t<tr><th></th><th scope=col>&lt;dbl&gt;</th><th scope=col>&lt;dbl&gt;</th><th scope=col>&lt;int&gt;</th><th scope=col>&lt;int&gt;</th><th scope=col>&lt;int&gt;</th><th scope=col>&lt;int&gt;</th><th scope=col>&lt;int&gt;</th><th scope=col>&lt;dbl&gt;</th><th scope=col>&lt;dbl&gt;</th><th scope=col>&lt;dbl&gt;</th><th scope=col>&lt;dbl&gt;</th><th scope=col>&lt;dbl&gt;</th><th scope=col>&lt;dbl&gt;</th></tr>\n",
       "</thead>\n",
       "<tbody>\n",
       "\t<tr><th scope=row>2</th><td>11345000</td><td>11400000</td><td>11</td><td>5520</td><td>104</td><td>5627</td><td>192</td><td> 6.69320</td><td>0.040732043</td><td> 6.310895</td><td>1.7430175</td><td>0.028097480</td><td>0.40889639</td></tr>\n",
       "\t<tr><th scope=row>5</th><td>11350000</td><td>11400000</td><td>28</td><td>5154</td><td>400</td><td>5627</td><td>192</td><td>17.42389</td><td>0.006855663</td><td>15.837987</td><td>1.7679015</td><td>0.001896332</td><td>0.06897946</td></tr>\n",
       "\t<tr><th scope=row>12</th><td>11370000</td><td>11400000</td><td> 7</td><td>5118</td><td> 91</td><td>5627</td><td>192</td><td>10.09395</td><td>0.788155949</td><td> 9.683980</td><td>0.7228433</td><td>0.750002261</td><td>0.84228279</td></tr>\n",
       "\t<tr><th scope=row>15</th><td>11390000</td><td>11400000</td><td>48</td><td>5081</td><td>389</td><td>5627</td><td>192</td><td>54.70552</td><td>0.797471749</td><td>51.150272</td><td>0.9384114</td><td>0.636932224</td><td>0.80394023</td></tr>\n",
       "</tbody>\n",
       "</table>\n"
      ],
      "text/latex": [
       "A data.frame: 4 × 13\n",
       "\\begin{tabular}{r|lllllllllllll}\n",
       "  & bin1\\_mid & bin2\\_mid & count & effective\\_length1 & short\\_count1 & effective\\_length2 & short\\_count2 & expected & p\\_val & expected2 & ratio2 & p\\_val\\_reg2 & fdr\\\\\n",
       "  & <dbl> & <dbl> & <int> & <int> & <int> & <int> & <int> & <dbl> & <dbl> & <dbl> & <dbl> & <dbl> & <dbl>\\\\\n",
       "\\hline\n",
       "\t2 & 11345000 & 11400000 & 11 & 5520 & 104 & 5627 & 192 &  6.69320 & 0.040732043 &  6.310895 & 1.7430175 & 0.028097480 & 0.40889639\\\\\n",
       "\t5 & 11350000 & 11400000 & 28 & 5154 & 400 & 5627 & 192 & 17.42389 & 0.006855663 & 15.837987 & 1.7679015 & 0.001896332 & 0.06897946\\\\\n",
       "\t12 & 11370000 & 11400000 &  7 & 5118 &  91 & 5627 & 192 & 10.09395 & 0.788155949 &  9.683980 & 0.7228433 & 0.750002261 & 0.84228279\\\\\n",
       "\t15 & 11390000 & 11400000 & 48 & 5081 & 389 & 5627 & 192 & 54.70552 & 0.797471749 & 51.150272 & 0.9384114 & 0.636932224 & 0.80394023\\\\\n",
       "\\end{tabular}\n"
      ],
      "text/markdown": [
       "\n",
       "A data.frame: 4 × 13\n",
       "\n",
       "| <!--/--> | bin1_mid &lt;dbl&gt; | bin2_mid &lt;dbl&gt; | count &lt;int&gt; | effective_length1 &lt;int&gt; | short_count1 &lt;int&gt; | effective_length2 &lt;int&gt; | short_count2 &lt;int&gt; | expected &lt;dbl&gt; | p_val &lt;dbl&gt; | expected2 &lt;dbl&gt; | ratio2 &lt;dbl&gt; | p_val_reg2 &lt;dbl&gt; | fdr &lt;dbl&gt; |\n",
       "|---|---|---|---|---|---|---|---|---|---|---|---|---|---|\n",
       "| 2 | 11345000 | 11400000 | 11 | 5520 | 104 | 5627 | 192 |  6.69320 | 0.040732043 |  6.310895 | 1.7430175 | 0.028097480 | 0.40889639 |\n",
       "| 5 | 11350000 | 11400000 | 28 | 5154 | 400 | 5627 | 192 | 17.42389 | 0.006855663 | 15.837987 | 1.7679015 | 0.001896332 | 0.06897946 |\n",
       "| 12 | 11370000 | 11400000 |  7 | 5118 |  91 | 5627 | 192 | 10.09395 | 0.788155949 |  9.683980 | 0.7228433 | 0.750002261 | 0.84228279 |\n",
       "| 15 | 11390000 | 11400000 | 48 | 5081 | 389 | 5627 | 192 | 54.70552 | 0.797471749 | 51.150272 | 0.9384114 | 0.636932224 | 0.80394023 |\n",
       "\n"
      ],
      "text/plain": [
       "   bin1_mid bin2_mid count effective_length1 short_count1 effective_length2\n",
       "2  11345000 11400000 11    5520              104          5627             \n",
       "5  11350000 11400000 28    5154              400          5627             \n",
       "12 11370000 11400000  7    5118               91          5627             \n",
       "15 11390000 11400000 48    5081              389          5627             \n",
       "   short_count2 expected p_val       expected2 ratio2    p_val_reg2  fdr       \n",
       "2  192           6.69320 0.040732043  6.310895 1.7430175 0.028097480 0.40889639\n",
       "5  192          17.42389 0.006855663 15.837987 1.7679015 0.001896332 0.06897946\n",
       "12 192          10.09395 0.788155949  9.683980 0.7228433 0.750002261 0.84228279\n",
       "15 192          54.70552 0.797471749 51.150272 0.9384114 0.636932224 0.80394023"
      ]
     },
     "metadata": {},
     "output_type": "display_data"
    }
   ],
   "source": [
    "m[,c(11:13,16,19,20,23, 31:35,37)]"
   ]
  },
  {
   "cell_type": "code",
   "execution_count": 59,
   "metadata": {},
   "outputs": [
    {
     "data": {
      "text/html": [
       "<table class=\"dataframe\">\n",
       "<caption>A data.frame: 4 × 11</caption>\n",
       "<thead>\n",
       "\t<tr><th></th><th scope=col>bin1_mid</th><th scope=col>bin2_mid</th><th scope=col>count</th><th scope=col>short_count1</th><th scope=col>short_count2</th><th scope=col>expected</th><th scope=col>p_val</th><th scope=col>expected2</th><th scope=col>ratio2</th><th scope=col>p_val_reg2</th><th scope=col>fdr</th></tr>\n",
       "\t<tr><th></th><th scope=col>&lt;dbl&gt;</th><th scope=col>&lt;dbl&gt;</th><th scope=col>&lt;int&gt;</th><th scope=col>&lt;int&gt;</th><th scope=col>&lt;int&gt;</th><th scope=col>&lt;dbl&gt;</th><th scope=col>&lt;dbl&gt;</th><th scope=col>&lt;dbl&gt;</th><th scope=col>&lt;dbl&gt;</th><th scope=col>&lt;dbl&gt;</th><th scope=col>&lt;dbl&gt;</th></tr>\n",
       "</thead>\n",
       "<tbody>\n",
       "\t<tr><th scope=row>2</th><td>11345000</td><td>11400000</td><td>11</td><td>104</td><td>192</td><td> 6.69320</td><td>0.040732043</td><td> 6.310895</td><td>1.7430175</td><td>0.028097480</td><td>0.40889639</td></tr>\n",
       "\t<tr><th scope=row>5</th><td>11350000</td><td>11400000</td><td>28</td><td>400</td><td>192</td><td>17.42389</td><td>0.006855663</td><td>15.837987</td><td>1.7679015</td><td>0.001896332</td><td>0.06897946</td></tr>\n",
       "\t<tr><th scope=row>12</th><td>11370000</td><td>11400000</td><td> 7</td><td> 91</td><td>192</td><td>10.09395</td><td>0.788155949</td><td> 9.683980</td><td>0.7228433</td><td>0.750002261</td><td>0.84228279</td></tr>\n",
       "\t<tr><th scope=row>15</th><td>11390000</td><td>11400000</td><td>48</td><td>389</td><td>192</td><td>54.70552</td><td>0.797471749</td><td>51.150272</td><td>0.9384114</td><td>0.636932224</td><td>0.80394023</td></tr>\n",
       "</tbody>\n",
       "</table>\n"
      ],
      "text/latex": [
       "A data.frame: 4 × 11\n",
       "\\begin{tabular}{r|lllllllllll}\n",
       "  & bin1\\_mid & bin2\\_mid & count & short\\_count1 & short\\_count2 & expected & p\\_val & expected2 & ratio2 & p\\_val\\_reg2 & fdr\\\\\n",
       "  & <dbl> & <dbl> & <int> & <int> & <int> & <dbl> & <dbl> & <dbl> & <dbl> & <dbl> & <dbl>\\\\\n",
       "\\hline\n",
       "\t2 & 11345000 & 11400000 & 11 & 104 & 192 &  6.69320 & 0.040732043 &  6.310895 & 1.7430175 & 0.028097480 & 0.40889639\\\\\n",
       "\t5 & 11350000 & 11400000 & 28 & 400 & 192 & 17.42389 & 0.006855663 & 15.837987 & 1.7679015 & 0.001896332 & 0.06897946\\\\\n",
       "\t12 & 11370000 & 11400000 &  7 &  91 & 192 & 10.09395 & 0.788155949 &  9.683980 & 0.7228433 & 0.750002261 & 0.84228279\\\\\n",
       "\t15 & 11390000 & 11400000 & 48 & 389 & 192 & 54.70552 & 0.797471749 & 51.150272 & 0.9384114 & 0.636932224 & 0.80394023\\\\\n",
       "\\end{tabular}\n"
      ],
      "text/markdown": [
       "\n",
       "A data.frame: 4 × 11\n",
       "\n",
       "| <!--/--> | bin1_mid &lt;dbl&gt; | bin2_mid &lt;dbl&gt; | count &lt;int&gt; | short_count1 &lt;int&gt; | short_count2 &lt;int&gt; | expected &lt;dbl&gt; | p_val &lt;dbl&gt; | expected2 &lt;dbl&gt; | ratio2 &lt;dbl&gt; | p_val_reg2 &lt;dbl&gt; | fdr &lt;dbl&gt; |\n",
       "|---|---|---|---|---|---|---|---|---|---|---|---|\n",
       "| 2 | 11345000 | 11400000 | 11 | 104 | 192 |  6.69320 | 0.040732043 |  6.310895 | 1.7430175 | 0.028097480 | 0.40889639 |\n",
       "| 5 | 11350000 | 11400000 | 28 | 400 | 192 | 17.42389 | 0.006855663 | 15.837987 | 1.7679015 | 0.001896332 | 0.06897946 |\n",
       "| 12 | 11370000 | 11400000 |  7 |  91 | 192 | 10.09395 | 0.788155949 |  9.683980 | 0.7228433 | 0.750002261 | 0.84228279 |\n",
       "| 15 | 11390000 | 11400000 | 48 | 389 | 192 | 54.70552 | 0.797471749 | 51.150272 | 0.9384114 | 0.636932224 | 0.80394023 |\n",
       "\n"
      ],
      "text/plain": [
       "   bin1_mid bin2_mid count short_count1 short_count2 expected p_val      \n",
       "2  11345000 11400000 11    104          192           6.69320 0.040732043\n",
       "5  11350000 11400000 28    400          192          17.42389 0.006855663\n",
       "12 11370000 11400000  7     91          192          10.09395 0.788155949\n",
       "15 11390000 11400000 48    389          192          54.70552 0.797471749\n",
       "   expected2 ratio2    p_val_reg2  fdr       \n",
       "2   6.310895 1.7430175 0.028097480 0.40889639\n",
       "5  15.837987 1.7679015 0.001896332 0.06897946\n",
       "12  9.683980 0.7228433 0.750002261 0.84228279\n",
       "15 51.150272 0.9384114 0.636932224 0.80394023"
      ]
     },
     "metadata": {},
     "output_type": "display_data"
    }
   ],
   "source": [
    "m[,c(11:13,19,23, 31:35,37)]"
   ]
  },
  {
   "cell_type": "code",
   "execution_count": null,
   "metadata": {},
   "outputs": [],
   "source": []
  }
 ],
 "metadata": {
  "kernelspec": {
   "display_name": "R 4.1",
   "language": "R",
   "name": "ir41"
  },
  "language_info": {
   "codemirror_mode": "r",
   "file_extension": ".r",
   "mimetype": "text/x-r-source",
   "name": "R",
   "pygments_lexer": "r",
   "version": "4.1.1"
  }
 },
 "nbformat": 4,
 "nbformat_minor": 4
}
