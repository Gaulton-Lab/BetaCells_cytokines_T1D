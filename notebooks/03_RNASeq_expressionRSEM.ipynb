{
 "cells": [
  {
   "cell_type": "code",
   "execution_count": 1,
   "metadata": {},
   "outputs": [],
   "source": [
    "library(stringr)\n",
    "library(parallel)"
   ]
  },
  {
   "cell_type": "code",
   "execution_count": 2,
   "metadata": {},
   "outputs": [],
   "source": [
    "samples = readLines(\"../data/RNAseq/sample_list\")\n",
    "samples = readLines(\"../data/RNAseq/sample_list_2\")\n",
    "home = '/nfs/lab/projects/islet_cytok/pipeline/RNAseq/sample'"
   ]
  },
  {
   "cell_type": "code",
   "execution_count": 22,
   "metadata": {},
   "outputs": [],
   "source": [
    "samples =gsub(\"L001\", \"combined\", samples)"
   ]
  },
  {
   "cell_type": "code",
   "execution_count": 5,
   "metadata": {},
   "outputs": [],
   "source": [
    "rsem = function(samp){\n",
    "outdir = paste( home, samp , \"rsem\", sep=\"/\")\n",
    "c1     = paste( \"mkdir -p\",  outdir)\n",
    "c2     = paste( \"cd\"      ,  outdir)\n",
    "\n",
    "input_bam = paste(home, \"/\", samp, '/alignment/', samp, '_Aligned.toTranscriptome.out.bam', sep=\"\")\n",
    "    \n",
    "c3 = paste(\n",
    "\"rsem-calculate-expression --bam --paired-end --num-threads 8 --no-bam-output --seed 3272015\",\n",
    "    \"--estimate-rspd --forward-prob 0\" ,\n",
    "     input_bam,\n",
    "    \"/nfs/lab/publicdata/rsem_reference_hg19_20151104/rsem_reference_hg19_20151104\" ,\n",
    "     samp)\n",
    "\n",
    "system(c1)\n",
    "system(c2)\n",
    "system(c3)\n",
    "}"
   ]
  },
  {
   "cell_type": "code",
   "execution_count": 1,
   "metadata": {},
   "outputs": [],
   "source": [
    "mclapply(samples, rsem, mc.cores = 32)"
   ]
  },
  {
   "cell_type": "code",
   "execution_count": 12,
   "metadata": {},
   "outputs": [],
   "source": [
    "for (samp in samples){\n",
    "    \n",
    " outdir = paste( home, samp , \"rsem\", sep=\"/\")\n",
    "   \n",
    "    cm = paste (\"mv \", samp, \"* \", outdir, sep=\"\" )\n",
    "    system(cm)\n",
    "}"
   ]
  },
  {
   "cell_type": "code",
   "execution_count": null,
   "metadata": {},
   "outputs": [],
   "source": []
  }
 ],
 "metadata": {
  "kernelspec": {
   "display_name": "R 4.1",
   "language": "R",
   "name": "ir41"
  },
  "language_info": {
   "codemirror_mode": "r",
   "file_extension": ".r",
   "mimetype": "text/x-r-source",
   "name": "R",
   "pygments_lexer": "r",
   "version": "4.1.1"
  }
 },
 "nbformat": 4,
 "nbformat_minor": 2
}
