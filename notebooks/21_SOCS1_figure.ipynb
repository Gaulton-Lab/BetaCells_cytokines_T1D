{
 "cells": [
  {
   "cell_type": "code",
   "execution_count": 2,
   "id": "legislative-designation",
   "metadata": {},
   "outputs": [],
   "source": [
    "setwd('/nfs/lab/projects/islet_cytok/analysis/socs1_figure')"
   ]
  },
  {
   "cell_type": "code",
   "execution_count": 2,
   "id": "generous-highlight",
   "metadata": {},
   "outputs": [
    {
     "name": "stderr",
     "output_type": "stream",
     "text": [
      "Warning message:\n",
      "“no DISPLAY variable so Tk is not available”\n"
     ]
    }
   ],
   "source": [
    "library(scales)\n",
    "library(RColorBrewer)\n",
    "suppressPackageStartupMessages(library(plot3D))"
   ]
  },
  {
   "cell_type": "code",
   "execution_count": 89,
   "id": "foreign-package",
   "metadata": {},
   "outputs": [],
   "source": [
    "rec = read.csv(\"../selex/selex_variants_reclassified_annotated_with_atac_new.csv\", row.names=1)"
   ]
  },
  {
   "cell_type": "code",
   "execution_count": 86,
   "id": "adjusted-interpretation",
   "metadata": {},
   "outputs": [],
   "source": [
    "t1d = read.table('../selex/T1D.99credset_new.bed', stringsAsFactors = F)"
   ]
  },
  {
   "cell_type": "code",
   "execution_count": 94,
   "id": "aboriginal-lender",
   "metadata": {},
   "outputs": [],
   "source": [
    "finemap = subset(t1d, grepl(\"DEXI\", t1d$V5))"
   ]
  },
  {
   "cell_type": "code",
   "execution_count": 95,
   "id": "domestic-preview",
   "metadata": {},
   "outputs": [],
   "source": [
    "finemap$pbsnp_diffatac_1 = finemap$V4 %in% rec$snpID[rec$pbs005 & rec$diff==T]"
   ]
  },
  {
   "cell_type": "code",
   "execution_count": 96,
   "id": "retired-undergraduate",
   "metadata": {},
   "outputs": [],
   "source": [
    "finemap$pbsnp_atac_1 = finemap$V4 %in% rec$snpID[rec$pbs005 & rec$atac==T]"
   ]
  },
  {
   "cell_type": "code",
   "execution_count": 97,
   "id": "periodic-springfield",
   "metadata": {},
   "outputs": [],
   "source": [
    "finemap$pbsnp = finemap$V4 %in% rec$snpID[rec$pbs005 ]"
   ]
  },
  {
   "cell_type": "code",
   "execution_count": 98,
   "id": "completed-catalyst",
   "metadata": {},
   "outputs": [
    {
     "data": {
      "text/plain": [
       "       \n",
       "        FALSE TRUE\n",
       "  FALSE    89    0\n",
       "  TRUE      0    1"
      ]
     },
     "metadata": {},
     "output_type": "display_data"
    }
   ],
   "source": [
    "table(finemap$pbsnp_diffatac_1,finemap$pbsnp_atac_1)"
   ]
  },
  {
   "cell_type": "code",
   "execution_count": 99,
   "id": "cross-mauritius",
   "metadata": {},
   "outputs": [
    {
     "data": {
      "text/plain": [
       "\n",
       "FALSE  TRUE \n",
       "   84     6 "
      ]
     },
     "metadata": {},
     "output_type": "display_data"
    }
   ],
   "source": [
    "table(finemap$pbsnp)"
   ]
  },
  {
   "cell_type": "code",
   "execution_count": 101,
   "id": "equivalent-birthday",
   "metadata": {},
   "outputs": [],
   "source": [
    "# bedtools intersect -a /nfs/lab/publicdata/1kg_snps/ALL.wgs.phase3_sites.bed.ids -b loci -wa > loci_snps.bed\n",
    "# awk -v OFS=\"\\t\" '{print $5}' loci_snps.bed > loci_snps.rsid_list\n",
    "# zgrep -F -f loci_snps.rsid_list /home/joshchiou/joshchiou-data2/T1D-GWAS/matched_cohorts/TOPMed/meta_analysis/T1D_meta.all_chr.hg19.sumstats.txt.gz > T1D.Chiou2020.select"
   ]
  },
  {
   "cell_type": "code",
   "execution_count": 102,
   "id": "welcome-space",
   "metadata": {},
   "outputs": [],
   "source": [
    "gwas = read.table(\"T1D.Chiou2020.select\", sep=\"\\t\", stringsAsFactors = F)\n",
    "gwas$log10pval = -log10(gwas$V8)\n",
    "gwas$credset = gwas$V1 %in% t1d$V4"
   ]
  },
  {
   "cell_type": "code",
   "execution_count": 103,
   "id": "sealed-thanks",
   "metadata": {},
   "outputs": [],
   "source": [
    "ld = read.table(\"caqtl.ld.EUR.ld\", header=T)"
   ]
  },
  {
   "cell_type": "code",
   "execution_count": 104,
   "id": "valuable-draft",
   "metadata": {},
   "outputs": [],
   "source": [
    "ld2 = read.table(\"caqtl.ld.EUR2.ld\", header=T)"
   ]
  },
  {
   "cell_type": "code",
   "execution_count": 105,
   "id": "distinct-variety",
   "metadata": {},
   "outputs": [
    {
     "data": {
      "text/html": [
       "<style>\n",
       ".list-inline {list-style: none; margin:0; padding: 0}\n",
       ".list-inline>li {display: inline-block}\n",
       ".list-inline>li:not(:last-child)::after {content: \"\\00b7\"; padding: 0 .5ex}\n",
       "</style>\n",
       "<ol class=list-inline><li>560</li><li>7</li></ol>\n"
      ],
      "text/latex": [
       "\\begin{enumerate*}\n",
       "\\item 560\n",
       "\\item 7\n",
       "\\end{enumerate*}\n"
      ],
      "text/markdown": [
       "1. 560\n",
       "2. 7\n",
       "\n",
       "\n"
      ],
      "text/plain": [
       "[1] 560   7"
      ]
     },
     "metadata": {},
     "output_type": "display_data"
    },
    {
     "data": {
      "text/html": [
       "<style>\n",
       ".list-inline {list-style: none; margin:0; padding: 0}\n",
       ".list-inline>li {display: inline-block}\n",
       ".list-inline>li:not(:last-child)::after {content: \"\\00b7\"; padding: 0 .5ex}\n",
       "</style>\n",
       "<ol class=list-inline><li>406</li><li>7</li></ol>\n"
      ],
      "text/latex": [
       "\\begin{enumerate*}\n",
       "\\item 406\n",
       "\\item 7\n",
       "\\end{enumerate*}\n"
      ],
      "text/markdown": [
       "1. 406\n",
       "2. 7\n",
       "\n",
       "\n"
      ],
      "text/plain": [
       "[1] 406   7"
      ]
     },
     "metadata": {},
     "output_type": "display_data"
    },
    {
     "data": {
      "text/html": [
       "<style>\n",
       ".list-inline {list-style: none; margin:0; padding: 0}\n",
       ".list-inline>li {display: inline-block}\n",
       ".list-inline>li:not(:last-child)::after {content: \"\\00b7\"; padding: 0 .5ex}\n",
       "</style>\n",
       "<ol class=list-inline><li>17317</li><li>17</li></ol>\n"
      ],
      "text/latex": [
       "\\begin{enumerate*}\n",
       "\\item 17317\n",
       "\\item 17\n",
       "\\end{enumerate*}\n"
      ],
      "text/markdown": [
       "1. 17317\n",
       "2. 17\n",
       "\n",
       "\n"
      ],
      "text/plain": [
       "[1] 17317    17"
      ]
     },
     "metadata": {},
     "output_type": "display_data"
    }
   ],
   "source": [
    "dim(ld)\n",
    "dim(ld2)\n",
    "dim(gwas)"
   ]
  },
  {
   "cell_type": "code",
   "execution_count": 106,
   "id": "affected-excerpt",
   "metadata": {},
   "outputs": [],
   "source": [
    "gwas = merge(gwas, ld[,6:7], by=1, all.x=T)"
   ]
  },
  {
   "cell_type": "code",
   "execution_count": 107,
   "id": "robust-sunset",
   "metadata": {},
   "outputs": [],
   "source": [
    "gwas$R2[gwas$V1 == '16:11194771:C:T']<-1\n",
    "gwas$R2[is.na(gwas$R2)]<- 0"
   ]
  },
  {
   "cell_type": "code",
   "execution_count": 108,
   "id": "activated-webmaster",
   "metadata": {},
   "outputs": [],
   "source": [
    "gwas = merge(gwas, ld2[,6:7], by=1, all.x=T)"
   ]
  },
  {
   "cell_type": "code",
   "execution_count": 109,
   "id": "weird-phrase",
   "metadata": {},
   "outputs": [],
   "source": [
    "gwas$R2.y[gwas$V1 == '11428643:C:G']<-1\n",
    "gwas$R2.y[is.na(gwas$R2.y)]<- 0"
   ]
  },
  {
   "cell_type": "code",
   "execution_count": 110,
   "id": "intensive-refund",
   "metadata": {},
   "outputs": [],
   "source": [
    "my_palette = colorRampPalette( brewer.pal(9, \"Blues\")[3:9] )(20)\n",
    "my_palette2 = colorRampPalette( brewer.pal(9, \"Reds\")[3:9] )(20)\n",
    "\n",
    "color1   <- my_palette[as.numeric(cut(gwas$R2.x ,breaks = 20))]\n",
    "color2  <- my_palette2[as.numeric(cut(gwas$R2.y ,breaks = 20))]"
   ]
  },
  {
   "cell_type": "code",
   "execution_count": 111,
   "id": "intense-airplane",
   "metadata": {},
   "outputs": [],
   "source": [
    "color = c(color1[1:head(which(gwas$V3 >11350000 ),1)],\n",
    "          color2[head(which(gwas$V3 >11350000 ))[2]:length(color2)])"
   ]
  },
  {
   "cell_type": "code",
   "execution_count": 112,
   "id": "earlier-allen",
   "metadata": {},
   "outputs": [],
   "source": [
    "gwas$color = color\n",
    "gwas$color[gwas$R2.y == 0 & gwas$R2.x==0]<-\"gray\"\n",
    "gwas_toplot = gwas[order(gwas$log10pval),]"
   ]
  },
  {
   "cell_type": "code",
   "execution_count": 113,
   "id": "nuclear-sponsorship",
   "metadata": {},
   "outputs": [],
   "source": [
    "gwas_toplot = gwas_toplot[order(gwas_toplot$R2.x, decreasing = F),]\n",
    "gwas_toplot = gwas_toplot[order(gwas_toplot$R2.y, decreasing = F),]"
   ]
  },
  {
   "cell_type": "code",
   "execution_count": 198,
   "id": "selected-orlando",
   "metadata": {},
   "outputs": [
    {
     "data": {
      "text/html": [
       "<strong>png:</strong> 2"
      ],
      "text/latex": [
       "\\textbf{png:} 2"
      ],
      "text/markdown": [
       "**png:** 2"
      ],
      "text/plain": [
       "png \n",
       "  2 "
      ]
     },
     "metadata": {},
     "output_type": "display_data"
    }
   ],
   "source": [
    "pdf(\"socs1_finemap.pdf\")\n",
    "par(mfrow=c(3,1), mar = c(4,2,6,4), las=1)\n",
    "plot(log10pval~V3, gwas_toplot,  xlim= c(10934642,11913586), ylim=c(0,45),\n",
    "     pch= 21,\n",
    "     col = c(NA, alpha('white',0.5))[gwas_toplot$credset +1],\n",
    "     #col=alpha('gray', 0.5),\n",
    "     bg=alpha(gwas_toplot$color, 0.8)\n",
    "     #col=alpha(c(\"gray\", \"red\"),0.5)[gwas$credset +1]\n",
    "     )\n",
    "colkey(c(\"gray\",my_palette), clim=c(0,1), clab=\"R2\", add=T, side=4, length=0.5)\n",
    "# plot(V7~V3, finemap, \n",
    "#   col=alpha(c(\"black\", \"red\"),0.6)[finemap$pbsnp_diffatac_1 +1],\n",
    "#      pch=16, xlim= c(10934642,11913586))\n",
    "\n",
    "plot(V7~V3, finemap[finemap$V5 == 'DEXI_16:11194771:C:T',], \n",
    "     col=alpha(c(\"black\", \"red\"),0.8)[finemap$pbsnp_diffatac_1[finemap$V5 == 'DEXI_16:11194771:C:T'] +1],\n",
    "     pch=16, xlim= c(10934642,11913586))\n",
    " \n",
    "plot(V7~V3, finemap[finemap$V5 == 'DEXI_16:11428643:C:G',], \n",
    "      col=alpha(c(\"black\", \"red\"),0.8)[finemap$pbsnp_diffatac_1[finemap$V5 == 'DEXI_16:11428643:C:G'] +1],\n",
    "   pch=16, xlim= c(10934642,11913586))\n",
    "\n",
    "colkey(c(\"gray\",my_palette2), clim=c(0,1), clab=\"R2\", add=T, side=4, length=0.5)\n",
    "\n",
    "    dev.off()\n"
   ]
  },
  {
   "cell_type": "code",
   "execution_count": 114,
   "id": "adjacent-maryland",
   "metadata": {},
   "outputs": [
    {
     "data": {
      "text/html": [
       "<strong>png:</strong> 2"
      ],
      "text/latex": [
       "\\textbf{png:} 2"
      ],
      "text/markdown": [
       "**png:** 2"
      ],
      "text/plain": [
       "png \n",
       "  2 "
      ]
     },
     "metadata": {},
     "output_type": "display_data"
    }
   ],
   "source": [
    "png(\"socs1_locus.png\", width = 6.51, height = 1.064, units = 'in', res = 300)\n",
    "par( mar=c(0,0,0,0))\n",
    "plot(log10pval~V3, gwas_toplot,  xlim= c(10934642,11913586), ylim=c(0,45),\n",
    "     pch= 21,axes=F,lwd=0.5, cex=0.6,\n",
    "     col = c(NA, alpha('white',0.5))[gwas_toplot$credset +1],\n",
    "     #col=alpha('gray', 0.5),\n",
    "     bg=alpha(gwas_toplot$color, 0.8)\n",
    "     #col=alpha(c(\"gray\", \"red\"),0.5)[gwas$credset +1]\n",
    "     )\n",
    "dev.off()"
   ]
  },
  {
   "cell_type": "code",
   "execution_count": 115,
   "id": "amateur-resource",
   "metadata": {},
   "outputs": [
    {
     "data": {
      "text/html": [
       "<strong>png:</strong> 2"
      ],
      "text/latex": [
       "\\textbf{png:} 2"
      ],
      "text/markdown": [
       "**png:** 2"
      ],
      "text/plain": [
       "png \n",
       "  2 "
      ]
     },
     "metadata": {},
     "output_type": "display_data"
    }
   ],
   "source": [
    "png(\"socs1_locus_norbord.png\", width = 6.51, height = 1.064, units = 'in', res = 300)\n",
    "par( mar=c(0,0,0,0))\n",
    "plot(log10pval~V3, gwas_toplot,  xlim= c(10934642,11913586), ylim=c(0,45),\n",
    "     pch= 19,axes=F,cex=0.6,\n",
    "     col=alpha(gwas_toplot$color, 0.8)\n",
    "     \n",
    "     )\n",
    "dev.off()"
   ]
  },
  {
   "cell_type": "code",
   "execution_count": 132,
   "id": "oriented-banking",
   "metadata": {},
   "outputs": [],
   "source": [
    "write.table(finemap[finemap$V5 == 'DEXI_16:11428643:C:G',1:3], \"finemap_snps.bed\",\n",
    "           sep=\"\\t\", col.names=F, row.names=F, quote=F)"
   ]
  },
  {
   "cell_type": "markdown",
   "id": "neutral-belle",
   "metadata": {},
   "source": [
    "## APOTRACKER experiment"
   ]
  },
  {
   "cell_type": "code",
   "execution_count": 3,
   "id": "active-scholar",
   "metadata": {},
   "outputs": [],
   "source": [
    "suppressPackageStartupMessages(library(stringr))\n",
    "suppressPackageStartupMessages(library(RColorBrewer))\n",
    "suppressPackageStartupMessages(library(gplots))\n",
    "suppressPackageStartupMessages(library(beeswarm))\n",
    "suppressPackageStartupMessages(library(tidyr))"
   ]
  },
  {
   "cell_type": "code",
   "execution_count": 5,
   "id": "02faa33d",
   "metadata": {},
   "outputs": [],
   "source": [
    "new = read.table(\"endoc_ko.txt\", row.names=1)"
   ]
  },
  {
   "cell_type": "code",
   "execution_count": 19,
   "id": "0754e4e2",
   "metadata": {},
   "outputs": [],
   "source": [
    "df = data.frame(Treatment = c(rep('Control', 8), rep('Cytokine', 8)), \n",
    "                shRNA = rep(c(rep('Scramble', 4), rep('SOCS1', 4)),2 ) ,\n",
    "          meas = c(t(new[1,]), t(new[2,])))"
   ]
  },
  {
   "cell_type": "code",
   "execution_count": 22,
   "id": "3f4d4866",
   "metadata": {},
   "outputs": [
    {
     "data": {
      "text/html": [
       "<table class=\"dataframe\">\n",
       "<caption>A data.frame: 16 × 3</caption>\n",
       "<thead>\n",
       "\t<tr><th scope=col>Treatment</th><th scope=col>shRNA</th><th scope=col>meas</th></tr>\n",
       "\t<tr><th scope=col>&lt;chr&gt;</th><th scope=col>&lt;chr&gt;</th><th scope=col>&lt;dbl&gt;</th></tr>\n",
       "</thead>\n",
       "<tbody>\n",
       "\t<tr><td>Control </td><td>Scramble</td><td> 2.12</td></tr>\n",
       "\t<tr><td>Control </td><td>Scramble</td><td> 2.44</td></tr>\n",
       "\t<tr><td>Control </td><td>Scramble</td><td> 2.30</td></tr>\n",
       "\t<tr><td>Control </td><td>Scramble</td><td> 1.30</td></tr>\n",
       "\t<tr><td>Control </td><td>SOCS1   </td><td> 3.78</td></tr>\n",
       "\t<tr><td>Control </td><td>SOCS1   </td><td> 2.09</td></tr>\n",
       "\t<tr><td>Control </td><td>SOCS1   </td><td> 0.58</td></tr>\n",
       "\t<tr><td>Control </td><td>SOCS1   </td><td> 1.73</td></tr>\n",
       "\t<tr><td>Cytokine</td><td>Scramble</td><td> 3.02</td></tr>\n",
       "\t<tr><td>Cytokine</td><td>Scramble</td><td> 4.00</td></tr>\n",
       "\t<tr><td>Cytokine</td><td>Scramble</td><td> 3.63</td></tr>\n",
       "\t<tr><td>Cytokine</td><td>Scramble</td><td> 1.95</td></tr>\n",
       "\t<tr><td>Cytokine</td><td>SOCS1   </td><td>16.10</td></tr>\n",
       "\t<tr><td>Cytokine</td><td>SOCS1   </td><td>21.50</td></tr>\n",
       "\t<tr><td>Cytokine</td><td>SOCS1   </td><td>19.90</td></tr>\n",
       "\t<tr><td>Cytokine</td><td>SOCS1   </td><td> 2.67</td></tr>\n",
       "</tbody>\n",
       "</table>\n"
      ],
      "text/latex": [
       "A data.frame: 16 × 3\n",
       "\\begin{tabular}{lll}\n",
       " Treatment & shRNA & meas\\\\\n",
       " <chr> & <chr> & <dbl>\\\\\n",
       "\\hline\n",
       "\t Control  & Scramble &  2.12\\\\\n",
       "\t Control  & Scramble &  2.44\\\\\n",
       "\t Control  & Scramble &  2.30\\\\\n",
       "\t Control  & Scramble &  1.30\\\\\n",
       "\t Control  & SOCS1    &  3.78\\\\\n",
       "\t Control  & SOCS1    &  2.09\\\\\n",
       "\t Control  & SOCS1    &  0.58\\\\\n",
       "\t Control  & SOCS1    &  1.73\\\\\n",
       "\t Cytokine & Scramble &  3.02\\\\\n",
       "\t Cytokine & Scramble &  4.00\\\\\n",
       "\t Cytokine & Scramble &  3.63\\\\\n",
       "\t Cytokine & Scramble &  1.95\\\\\n",
       "\t Cytokine & SOCS1    & 16.10\\\\\n",
       "\t Cytokine & SOCS1    & 21.50\\\\\n",
       "\t Cytokine & SOCS1    & 19.90\\\\\n",
       "\t Cytokine & SOCS1    &  2.67\\\\\n",
       "\\end{tabular}\n"
      ],
      "text/markdown": [
       "\n",
       "A data.frame: 16 × 3\n",
       "\n",
       "| Treatment &lt;chr&gt; | shRNA &lt;chr&gt; | meas &lt;dbl&gt; |\n",
       "|---|---|---|\n",
       "| Control  | Scramble |  2.12 |\n",
       "| Control  | Scramble |  2.44 |\n",
       "| Control  | Scramble |  2.30 |\n",
       "| Control  | Scramble |  1.30 |\n",
       "| Control  | SOCS1    |  3.78 |\n",
       "| Control  | SOCS1    |  2.09 |\n",
       "| Control  | SOCS1    |  0.58 |\n",
       "| Control  | SOCS1    |  1.73 |\n",
       "| Cytokine | Scramble |  3.02 |\n",
       "| Cytokine | Scramble |  4.00 |\n",
       "| Cytokine | Scramble |  3.63 |\n",
       "| Cytokine | Scramble |  1.95 |\n",
       "| Cytokine | SOCS1    | 16.10 |\n",
       "| Cytokine | SOCS1    | 21.50 |\n",
       "| Cytokine | SOCS1    | 19.90 |\n",
       "| Cytokine | SOCS1    |  2.67 |\n",
       "\n"
      ],
      "text/plain": [
       "   Treatment shRNA    meas \n",
       "1  Control   Scramble  2.12\n",
       "2  Control   Scramble  2.44\n",
       "3  Control   Scramble  2.30\n",
       "4  Control   Scramble  1.30\n",
       "5  Control   SOCS1     3.78\n",
       "6  Control   SOCS1     2.09\n",
       "7  Control   SOCS1     0.58\n",
       "8  Control   SOCS1     1.73\n",
       "9  Cytokine  Scramble  3.02\n",
       "10 Cytokine  Scramble  4.00\n",
       "11 Cytokine  Scramble  3.63\n",
       "12 Cytokine  Scramble  1.95\n",
       "13 Cytokine  SOCS1    16.10\n",
       "14 Cytokine  SOCS1    21.50\n",
       "15 Cytokine  SOCS1    19.90\n",
       "16 Cytokine  SOCS1     2.67"
      ]
     },
     "metadata": {},
     "output_type": "display_data"
    }
   ],
   "source": [
    "df"
   ]
  },
  {
   "cell_type": "code",
   "execution_count": 29,
   "id": "66268154",
   "metadata": {},
   "outputs": [
    {
     "data": {
      "text/html": [
       "<table class=\"dataframe\">\n",
       "<caption>A anova: 2 × 5</caption>\n",
       "<thead>\n",
       "\t<tr><th></th><th scope=col>Df</th><th scope=col>Sum Sq</th><th scope=col>Mean Sq</th><th scope=col>F value</th><th scope=col>Pr(&gt;F)</th></tr>\n",
       "\t<tr><th></th><th scope=col>&lt;int&gt;</th><th scope=col>&lt;dbl&gt;</th><th scope=col>&lt;dbl&gt;</th><th scope=col>&lt;dbl&gt;</th><th scope=col>&lt;dbl&gt;</th></tr>\n",
       "</thead>\n",
       "<tbody>\n",
       "\t<tr><th scope=row>shRNA</th><td>1</td><td>0.00005</td><td>0.00005</td><td>4.967463e-05</td><td>0.994605</td></tr>\n",
       "\t<tr><th scope=row>Residuals</th><td>6</td><td>6.03930</td><td>1.00655</td><td>          NA</td><td>      NA</td></tr>\n",
       "</tbody>\n",
       "</table>\n"
      ],
      "text/latex": [
       "A anova: 2 × 5\n",
       "\\begin{tabular}{r|lllll}\n",
       "  & Df & Sum Sq & Mean Sq & F value & Pr(>F)\\\\\n",
       "  & <int> & <dbl> & <dbl> & <dbl> & <dbl>\\\\\n",
       "\\hline\n",
       "\tshRNA & 1 & 0.00005 & 0.00005 & 4.967463e-05 & 0.994605\\\\\n",
       "\tResiduals & 6 & 6.03930 & 1.00655 &           NA &       NA\\\\\n",
       "\\end{tabular}\n"
      ],
      "text/markdown": [
       "\n",
       "A anova: 2 × 5\n",
       "\n",
       "| <!--/--> | Df &lt;int&gt; | Sum Sq &lt;dbl&gt; | Mean Sq &lt;dbl&gt; | F value &lt;dbl&gt; | Pr(&gt;F) &lt;dbl&gt; |\n",
       "|---|---|---|---|---|---|\n",
       "| shRNA | 1 | 0.00005 | 0.00005 | 4.967463e-05 | 0.994605 |\n",
       "| Residuals | 6 | 6.03930 | 1.00655 |           NA |       NA |\n",
       "\n"
      ],
      "text/plain": [
       "          Df Sum Sq  Mean Sq F value      Pr(>F)  \n",
       "shRNA     1  0.00005 0.00005 4.967463e-05 0.994605\n",
       "Residuals 6  6.03930 1.00655           NA       NA"
      ]
     },
     "metadata": {},
     "output_type": "display_data"
    }
   ],
   "source": [
    "anova(lm(meas ~ shRNA , df[df$Treatment=='Control',]))"
   ]
  },
  {
   "cell_type": "code",
   "execution_count": 68,
   "id": "9cdeca42",
   "metadata": {},
   "outputs": [
    {
     "data": {
      "text/html": [
       "<table class=\"dataframe\">\n",
       "<caption>A anova: 2 × 5</caption>\n",
       "<thead>\n",
       "\t<tr><th></th><th scope=col>Df</th><th scope=col>Sum Sq</th><th scope=col>Mean Sq</th><th scope=col>F value</th><th scope=col>Pr(&gt;F)</th></tr>\n",
       "\t<tr><th></th><th scope=col>&lt;int&gt;</th><th scope=col>&lt;dbl&gt;</th><th scope=col>&lt;dbl&gt;</th><th scope=col>&lt;dbl&gt;</th><th scope=col>&lt;dbl&gt;</th></tr>\n",
       "</thead>\n",
       "<tbody>\n",
       "\t<tr><th scope=row>shRNA</th><td>1</td><td>282.8631</td><td>282.86311</td><td>7.648343</td><td>0.03261316</td></tr>\n",
       "\t<tr><th scope=row>Residuals</th><td>6</td><td>221.9015</td><td> 36.98358</td><td>      NA</td><td>        NA</td></tr>\n",
       "</tbody>\n",
       "</table>\n"
      ],
      "text/latex": [
       "A anova: 2 × 5\n",
       "\\begin{tabular}{r|lllll}\n",
       "  & Df & Sum Sq & Mean Sq & F value & Pr(>F)\\\\\n",
       "  & <int> & <dbl> & <dbl> & <dbl> & <dbl>\\\\\n",
       "\\hline\n",
       "\tshRNA & 1 & 282.8631 & 282.86311 & 7.648343 & 0.03261316\\\\\n",
       "\tResiduals & 6 & 221.9015 &  36.98358 &       NA &         NA\\\\\n",
       "\\end{tabular}\n"
      ],
      "text/markdown": [
       "\n",
       "A anova: 2 × 5\n",
       "\n",
       "| <!--/--> | Df &lt;int&gt; | Sum Sq &lt;dbl&gt; | Mean Sq &lt;dbl&gt; | F value &lt;dbl&gt; | Pr(&gt;F) &lt;dbl&gt; |\n",
       "|---|---|---|---|---|---|\n",
       "| shRNA | 1 | 282.8631 | 282.86311 | 7.648343 | 0.03261316 |\n",
       "| Residuals | 6 | 221.9015 |  36.98358 |       NA |         NA |\n",
       "\n"
      ],
      "text/plain": [
       "          Df Sum Sq   Mean Sq   F value  Pr(>F)    \n",
       "shRNA     1  282.8631 282.86311 7.648343 0.03261316\n",
       "Residuals 6  221.9015  36.98358       NA         NA"
      ]
     },
     "metadata": {},
     "output_type": "display_data"
    }
   ],
   "source": [
    "anova(lm(meas ~ shRNA , df[df$Treatment=='Cytokine',]))"
   ]
  },
  {
   "cell_type": "code",
   "execution_count": 71,
   "id": "a7ea7635",
   "metadata": {},
   "outputs": [],
   "source": [
    "res.aov = aov(meas ~ shRNA*Treatment , df)"
   ]
  },
  {
   "cell_type": "code",
   "execution_count": 73,
   "id": "d0dc994f",
   "metadata": {},
   "outputs": [
    {
     "data": {
      "text/plain": [
       "                Df Sum Sq Mean Sq F value  Pr(>F)   \n",
       "shRNA            1  141.6   141.6   7.452 0.01827 * \n",
       "Treatment        1  199.0   199.0  10.478 0.00713 **\n",
       "shRNA:Treatment  1  141.3   141.3   7.439 0.01835 * \n",
       "Residuals       12  227.9    19.0                   \n",
       "---\n",
       "Signif. codes:  0 ‘***’ 0.001 ‘**’ 0.01 ‘*’ 0.05 ‘.’ 0.1 ‘ ’ 1"
      ]
     },
     "metadata": {},
     "output_type": "display_data"
    }
   ],
   "source": [
    "summary(res.aov)"
   ]
  },
  {
   "cell_type": "code",
   "execution_count": 76,
   "id": "3fc78c24",
   "metadata": {},
   "outputs": [
    {
     "data": {
      "text/plain": [
       "  Tukey multiple comparisons of means\n",
       "    95% family-wise confidence level\n",
       "\n",
       "Fit: aov(formula = meas ~ shRNA * Treatment, data = df)\n",
       "\n",
       "$shRNA\n",
       "                  diff      lwr      upr     p adj\n",
       "SOCS1-Scramble 5.94875 1.200754 10.69675 0.0182723\n",
       "\n",
       "$Treatment\n",
       "                    diff      lwr      upr     p adj\n",
       "Cytokine-Control 7.05375 2.305754 11.80175 0.0071275\n",
       "\n",
       "$`shRNA:Treatment`\n",
       "                                      diff       lwr       upr     p adj\n",
       "SOCS1:Control-Scramble:Control      0.0050 -9.144579  9.154579 1.0000000\n",
       "Scramble:Cytokine-Scramble:Control  1.1100 -8.039579 10.259579 0.9832324\n",
       "SOCS1:Cytokine-Scramble:Control    13.0025  3.852921 22.152079 0.0056562\n",
       "Scramble:Cytokine-SOCS1:Control     1.1050 -8.044579 10.254579 0.9834491\n",
       "SOCS1:Cytokine-SOCS1:Control       12.9975  3.847921 22.147079 0.0056720\n",
       "SOCS1:Cytokine-Scramble:Cytokine   11.8925  2.742921 21.042079 0.0105609\n"
      ]
     },
     "metadata": {},
     "output_type": "display_data"
    }
   ],
   "source": [
    "TukeyHSD(res.aov)"
   ]
  },
  {
   "cell_type": "code",
   "execution_count": null,
   "id": "c11105e8",
   "metadata": {},
   "outputs": [],
   "source": []
  }
 ],
 "metadata": {
  "kernelspec": {
   "display_name": "R 4.1",
   "language": "R",
   "name": "ir41"
  },
  "language_info": {
   "codemirror_mode": "r",
   "file_extension": ".r",
   "mimetype": "text/x-r-source",
   "name": "R",
   "pygments_lexer": "r",
   "version": "4.1.1"
  }
 },
 "nbformat": 4,
 "nbformat_minor": 5
}
