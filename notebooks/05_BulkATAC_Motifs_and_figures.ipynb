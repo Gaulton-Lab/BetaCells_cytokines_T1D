{
 "cells": [
  {
   "cell_type": "code",
   "execution_count": 5,
   "metadata": {},
   "outputs": [],
   "source": [
    "library(stringr)\n",
    "library(RColorBrewer)\n",
    "library(parallel)\n",
    "library(pheatmap)"
   ]
  },
  {
   "cell_type": "code",
   "execution_count": 35,
   "metadata": {},
   "outputs": [],
   "source": [
    "setwd(\"../analysis/\")"
   ]
  },
  {
   "cell_type": "code",
   "execution_count": 6,
   "metadata": {},
   "outputs": [],
   "source": [
    "dir = '/nfs/lab/projects/islet_cytok/analysis/deseq_ATAC_NEW/'"
   ]
  },
  {
   "cell_type": "code",
   "execution_count": 37,
   "metadata": {},
   "outputs": [],
   "source": [
    "fi = list.files(dir)"
   ]
  },
  {
   "cell_type": "code",
   "execution_count": 38,
   "metadata": {},
   "outputs": [],
   "source": [
    "li= list()\n",
    "for (ff in fi ){\n",
    "    \n",
    "    file = read.table(paste0(dir, ff), header=T, row.names = 1)\n",
    "    \n",
    "    nm = paste( str_split_fixed(ff, \"\\\\.\",2)[1], \"down\", sep=\".\")\n",
    "     li[[nm]] <- na.omit(rownames(file)[file$padj<0.1 & file$log2FoldChange>0])## the orientation was swapped\n",
    "\n",
    "    nm = paste( str_split_fixed(ff, \"\\\\.\",2)[1], \"up\", sep=\".\")\n",
    "    li[[nm]] <- na.omit(rownames(file)[file$padj<0.1 & file$log2FoldChange<0])## the orientation was swapped\n",
    "}"
   ]
  },
  {
   "cell_type": "code",
   "execution_count": 39,
   "metadata": {},
   "outputs": [],
   "source": [
    "mm = matrix(lapply(li, length), ncol = 2, byrow = T)[c(1:4,6,5,7),1:2]\n",
    "colnames(mm)= c(\"Down\", \"Up\") "
   ]
  },
  {
   "cell_type": "code",
   "execution_count": 40,
   "metadata": {},
   "outputs": [],
   "source": [
    "##union =c(length(unique(unlist(li[c(1,3,5,7)]))) , length(unique(unlist(li[c(2,4,6,8)])))) why only the 4?\n",
    "union =c(length(unique(unlist(li[c(1,3,5,7,9,11,13)]))) , length(unique(unlist(li[c(2,4,6,8,10,12,14)]))))"
   ]
  },
  {
   "cell_type": "code",
   "execution_count": 41,
   "metadata": {},
   "outputs": [],
   "source": [
    "mm= rbind(union, mm)"
   ]
  },
  {
   "cell_type": "code",
   "execution_count": 42,
   "metadata": {},
   "outputs": [
    {
     "data": {
      "text/html": [
       "<strong>png:</strong> 2"
      ],
      "text/latex": [
       "\\textbf{png:} 2"
      ],
      "text/markdown": [
       "**png:** 2"
      ],
      "text/plain": [
       "png \n",
       "  2 "
      ]
     },
     "metadata": {},
     "output_type": "display_data"
    }
   ],
   "source": [
    "pdf(\"cytokine_figures/Summary_DACs_cytok.pdf\")\n",
    "par(mfrow=c(2,2),mar = c(4,4,4,0))\n",
    "b = barplot(t(mm), las=2, legend.text = colnames(mm), ylim=c(0,50000), col = brewer.pal(9, \"PuOr\")[c(3,7)] )\n",
    "text(x = b, y =mm[,1], labels = paste0(round(unlist(mm[,1])/1000,1),\"k\") , pos = 1)\n",
    "text(x = b, y = as.numeric(mm[,2])+ as.numeric(mm[,1]), labels = paste0(round(unlist(mm[,2])/1000,1),\"k\") , pos = 1)\n",
    "dev.off()"
   ]
  },
  {
   "cell_type": "code",
   "execution_count": 43,
   "metadata": {},
   "outputs": [],
   "source": [
    "u =  data.frame(unique(unlist(li)))\n",
    "for(n in 1:length(li)){\n",
    "    u[,n+1] =   u[,1] %in% li[[n]]\n",
    "}\n"
   ]
  },
  {
   "cell_type": "code",
   "execution_count": 44,
   "metadata": {},
   "outputs": [],
   "source": [
    "rownames(u)=u[,1]\n",
    "u=u[,-1]"
   ]
  },
  {
   "cell_type": "code",
   "execution_count": 45,
   "metadata": {},
   "outputs": [],
   "source": [
    "colnames(u) = names(li)"
   ]
  },
  {
   "cell_type": "code",
   "execution_count": 46,
   "metadata": {},
   "outputs": [
    {
     "data": {
      "text/html": [
       "<style>\n",
       ".dl-inline {width: auto; margin:0; padding: 0}\n",
       ".dl-inline>dt, .dl-inline>dd {float: none; width: auto; display: inline-block}\n",
       ".dl-inline>dt::after {content: \":\\0020\"; padding-right: .5ex}\n",
       ".dl-inline>dt:not(:first-of-type) {padding-left: .5ex}\n",
       "</style><dl class=dl-inline><dt>cytokine_24hr_Hi.down</dt><dd>16821</dd><dt>cytokine_24hr_Hi.up</dt><dd>18309</dd><dt>cytokine_24hr_Hi2.down</dt><dd>3514</dd><dt>cytokine_24hr_Hi2.up</dt><dd>8884</dd><dt>cytokine_24hr_Lo.down</dt><dd>1</dd><dt>cytokine_24hr_Lo.up</dt><dd>25</dd><dt>cytokine_24hr_Lo2.down</dt><dd>1</dd><dt>cytokine_24hr_Lo2.up</dt><dd>19</dd><dt>cytokine_48hr_Hi.down</dt><dd>7112</dd><dt>cytokine_48hr_Hi.up</dt><dd>9336</dd><dt>cytokine_6hr_Hi.down</dt><dd>5751</dd><dt>cytokine_6hr_Hi.up</dt><dd>10003</dd><dt>cytokine_72hr_Hi.down</dt><dd>9037</dd><dt>cytokine_72hr_Hi.up</dt><dd>12684</dd></dl>\n"
      ],
      "text/latex": [
       "\\begin{description*}\n",
       "\\item[cytokine\\textbackslash{}\\_24hr\\textbackslash{}\\_Hi.down] 16821\n",
       "\\item[cytokine\\textbackslash{}\\_24hr\\textbackslash{}\\_Hi.up] 18309\n",
       "\\item[cytokine\\textbackslash{}\\_24hr\\textbackslash{}\\_Hi2.down] 3514\n",
       "\\item[cytokine\\textbackslash{}\\_24hr\\textbackslash{}\\_Hi2.up] 8884\n",
       "\\item[cytokine\\textbackslash{}\\_24hr\\textbackslash{}\\_Lo.down] 1\n",
       "\\item[cytokine\\textbackslash{}\\_24hr\\textbackslash{}\\_Lo.up] 25\n",
       "\\item[cytokine\\textbackslash{}\\_24hr\\textbackslash{}\\_Lo2.down] 1\n",
       "\\item[cytokine\\textbackslash{}\\_24hr\\textbackslash{}\\_Lo2.up] 19\n",
       "\\item[cytokine\\textbackslash{}\\_48hr\\textbackslash{}\\_Hi.down] 7112\n",
       "\\item[cytokine\\textbackslash{}\\_48hr\\textbackslash{}\\_Hi.up] 9336\n",
       "\\item[cytokine\\textbackslash{}\\_6hr\\textbackslash{}\\_Hi.down] 5751\n",
       "\\item[cytokine\\textbackslash{}\\_6hr\\textbackslash{}\\_Hi.up] 10003\n",
       "\\item[cytokine\\textbackslash{}\\_72hr\\textbackslash{}\\_Hi.down] 9037\n",
       "\\item[cytokine\\textbackslash{}\\_72hr\\textbackslash{}\\_Hi.up] 12684\n",
       "\\end{description*}\n"
      ],
      "text/markdown": [
       "cytokine_24hr_Hi.down\n",
       ":   16821cytokine_24hr_Hi.up\n",
       ":   18309cytokine_24hr_Hi2.down\n",
       ":   3514cytokine_24hr_Hi2.up\n",
       ":   8884cytokine_24hr_Lo.down\n",
       ":   1cytokine_24hr_Lo.up\n",
       ":   25cytokine_24hr_Lo2.down\n",
       ":   1cytokine_24hr_Lo2.up\n",
       ":   19cytokine_48hr_Hi.down\n",
       ":   7112cytokine_48hr_Hi.up\n",
       ":   9336cytokine_6hr_Hi.down\n",
       ":   5751cytokine_6hr_Hi.up\n",
       ":   10003cytokine_72hr_Hi.down\n",
       ":   9037cytokine_72hr_Hi.up\n",
       ":   12684\n",
       "\n"
      ],
      "text/plain": [
       " cytokine_24hr_Hi.down    cytokine_24hr_Hi.up cytokine_24hr_Hi2.down \n",
       "                 16821                  18309                   3514 \n",
       "  cytokine_24hr_Hi2.up  cytokine_24hr_Lo.down    cytokine_24hr_Lo.up \n",
       "                  8884                      1                     25 \n",
       "cytokine_24hr_Lo2.down   cytokine_24hr_Lo2.up  cytokine_48hr_Hi.down \n",
       "                     1                     19                   7112 \n",
       "   cytokine_48hr_Hi.up   cytokine_6hr_Hi.down     cytokine_6hr_Hi.up \n",
       "                  9336                   5751                  10003 \n",
       " cytokine_72hr_Hi.down    cytokine_72hr_Hi.up \n",
       "                  9037                  12684 "
      ]
     },
     "metadata": {},
     "output_type": "display_data"
    }
   ],
   "source": [
    "colSums(u)"
   ]
  },
  {
   "cell_type": "code",
   "execution_count": 47,
   "metadata": {},
   "outputs": [],
   "source": [
    "bed_full = cbind(str_split_fixed(rownames(u), \"\\\\-\",4)[,2:4], rownames(u))"
   ]
  },
  {
   "cell_type": "code",
   "execution_count": 48,
   "metadata": {},
   "outputs": [],
   "source": [
    "write.table(bed_full, \"deseq_ATAC_NEW_bedfiles/All_differential.bed\", sep=\"\\t\", quote=F, row.names=F)"
   ]
  },
  {
   "cell_type": "code",
   "execution_count": 67,
   "metadata": {},
   "outputs": [],
   "source": [
    "for (cc in colnames(u)){\n",
    "    bed = subset(bed_full, u[,cc]==TRUE)\n",
    "    #write.table(bed, paste0(\"deseq_ATAC_NEW_bedfiles/\", cc, \".bed\"), sep=\"\\t\", quote=F, row.names=F, col.names=F)\n",
    "    write.table(bed[,1:3], paste0(\"/nfs/lab/projects/islet_cytok/analysis/ldsc/\", cc, \".bed\"), sep=\"\\t\", quote=F, row.names=F, col.names=F)\n",
    "}"
   ]
  },
  {
   "cell_type": "code",
   "execution_count": 52,
   "metadata": {},
   "outputs": [
    {
     "data": {
      "text/html": [
       "<style>\n",
       ".list-inline {list-style: none; margin:0; padding: 0}\n",
       ".list-inline>li {display: inline-block}\n",
       ".list-inline>li:not(:last-child)::after {content: \"\\00b7\"; padding: 0 .5ex}\n",
       "</style>\n",
       "<ol class=list-inline><li>44969</li><li>4</li></ol>\n"
      ],
      "text/latex": [
       "\\begin{enumerate*}\n",
       "\\item 44969\n",
       "\\item 4\n",
       "\\end{enumerate*}\n"
      ],
      "text/markdown": [
       "1. 44969\n",
       "2. 4\n",
       "\n",
       "\n"
      ],
      "text/plain": [
       "[1] 44969     4"
      ]
     },
     "metadata": {},
     "output_type": "display_data"
    }
   ],
   "source": [
    "dim(bed_full)"
   ]
  },
  {
   "cell_type": "code",
   "execution_count": 54,
   "metadata": {},
   "outputs": [
    {
     "data": {
      "text/html": [
       "<style>\n",
       ".list-inline {list-style: none; margin:0; padding: 0}\n",
       ".list-inline>li {display: inline-block}\n",
       ".list-inline>li:not(:last-child)::after {content: \"\\00b7\"; padding: 0 .5ex}\n",
       "</style>\n",
       "<ol class=list-inline><li>165884</li><li>6</li></ol>\n"
      ],
      "text/latex": [
       "\\begin{enumerate*}\n",
       "\\item 165884\n",
       "\\item 6\n",
       "\\end{enumerate*}\n"
      ],
      "text/markdown": [
       "1. 165884\n",
       "2. 6\n",
       "\n",
       "\n"
      ],
      "text/plain": [
       "[1] 165884      6"
      ]
     },
     "metadata": {},
     "output_type": "display_data"
    }
   ],
   "source": [
    "dim(file)"
   ]
  },
  {
   "cell_type": "code",
   "execution_count": 47,
   "metadata": {},
   "outputs": [],
   "source": [
    "write.table( subset(bed_full, rowSums(u[,c(2,4,6,8,10,12,14)])>0),\"deseq_ATAC_NEW_bedfiles/All_differential_up.bed\", sep=\"\\t\", quote=F, row.names=F, col.names=F)\n",
    "write.table( subset(bed_full, rowSums(u[,c(1,3,5,7,9,11,13)])>0),\"deseq_ATAC_NEW_bedfiles/All_differential_down.bed\", sep=\"\\t\", quote=F, row.names=F, col.names=F)"
   ]
  },
  {
   "cell_type": "code",
   "execution_count": 68,
   "metadata": {},
   "outputs": [],
   "source": [
    "write.table( subset(bed_full[,1:3], rowSums(u[,c(2,4,6,8,10,12,14)])>0),\"/nfs/lab/projects/islet_cytok/analysis/ldsc/All_differential_up.bed\", sep=\"\\t\", quote=F, row.names=F, col.names=F)\n",
    "write.table( subset(bed_full[,1:3], rowSums(u[,c(1,3,5,7,9,11,13)])>0),\"/nfs/lab/projects/islet_cytok/analysis/ldsc/All_differential_down.bed\", sep=\"\\t\", quote=F, row.names=F, col.names=F)"
   ]
  },
  {
   "cell_type": "code",
   "execution_count": 48,
   "metadata": {},
   "outputs": [
    {
     "data": {
      "text/html": [
       "44969"
      ],
      "text/latex": [
       "44969"
      ],
      "text/markdown": [
       "44969"
      ],
      "text/plain": [
       "[1] 44969"
      ]
     },
     "metadata": {},
     "output_type": "display_data"
    }
   ],
   "source": [
    "length(unique(rownames(u)))"
   ]
  },
  {
   "cell_type": "code",
   "execution_count": 66,
   "metadata": {},
   "outputs": [],
   "source": [
    "write.table(u, \"deseq_ATAC_NEW_bedfiles/annotated_peaks.tsv\", sep=\"\\t\", quote=F)"
   ]
  },
  {
   "cell_type": "code",
   "execution_count": null,
   "metadata": {},
   "outputs": [],
   "source": [
    "#annotatePeaks.pl TNFa_24h_hi.bed hg19  -m known41.motif -noann > TNFa_24h_hi.NFKB_1.txt"
   ]
  },
  {
   "cell_type": "code",
   "execution_count": null,
   "metadata": {},
   "outputs": [],
   "source": [
    "#findMotifsGenome.pl TNFa_24h_hi.bed hg19 out -find known41.motif > TNFa_24h_hi.NFKB_v2.txt"
   ]
  },
  {
   "cell_type": "code",
   "execution_count": null,
   "metadata": {},
   "outputs": [],
   "source": [
    "#findMotifsGenome.pl 24h_hi.bed hg19 out -find known41.motif > 24h_hi.bed_nfkb.txt"
   ]
  },
  {
   "cell_type": "code",
   "execution_count": null,
   "metadata": {},
   "outputs": [],
   "source": [
    "#annotatePeaks.pl 24h_hi.bed hg19 -m known41.motif -noann > 24h_hi.bed_nfkb_v1.txt"
   ]
  },
  {
   "cell_type": "markdown",
   "metadata": {},
   "source": [
    "### Plot Motif enrichemnt"
   ]
  },
  {
   "cell_type": "code",
   "execution_count": 186,
   "metadata": {},
   "outputs": [],
   "source": [
    "homer_dir = '/nfs/lab/elisha/islets/cytokine/HOMER/homer_dec15/'\n",
    "#list.files(homer_dir)\n",
    "files2 = c('union_up','union_down', 'hiVhi2_up','hiVhi2_down','hi2_24_up','hi2_24_down')"
   ]
  },
  {
   "cell_type": "code",
   "execution_count": 11,
   "metadata": {},
   "outputs": [
    {
     "data": {
      "text/html": [
       "<strong>png:</strong> 2"
      ],
      "text/latex": [
       "\\textbf{png:} 2"
      ],
      "text/markdown": [
       "**png:** 2"
      ],
      "text/plain": [
       "png \n",
       "  2 "
      ]
     },
     "metadata": {},
     "output_type": "display_data"
    }
   ],
   "source": [
    "#pdf(\"cytokine_figures/Plot_motifs.pdf\", height = 6, width=12)\n",
    "pdf(\"cytokine_figures/Plot_motifs_2.pdf\")\n",
    "\n",
    "#par(mfcol=c(2,4), mar = c(4,4,4,0))\n",
    "par(mfcol=c(2,3), mar = c(4,4,4,0))\n",
    "for (exp in files2){\n",
    "hom= read.table( paste0(homer_dir, exp, '/knownResults.txt'), header=F, fill=T, check.names=F, skip=1)\n",
    "hom$fold_change = as.numeric(gsub('%',\"\", hom$V7)) /(as.numeric(gsub('%',\"\", hom$V9))+0.1) ##pseudocount for inf (only V2)\n",
    "hom$Motif = toupper(str_split_fixed(hom$V1, \"\\\\(\",5)[,1])\n",
    "hom[,\"-logP\"] = -(hom$V4)\n",
    "\n",
    "hom=hom[order(hom$fold_change, decreasing=T),]\n",
    "hom=hom[order(hom[,'-logP'], decreasing=T),]\n",
    "    \n",
    "plot(hom[,c('fold_change', '-logP')], pch = 19, \n",
    "     col = (hom$V5<0.05)+1  )\n",
    "if(sum(hom$V5<0.05)>0){\n",
    "    text (hom[1:25,c('fold_change', '-logP')], hom$Motif[1:20], \n",
    "      pos=2, cex=0.7,offset = 0.2)\n",
    "    \n",
    "    #text (hom[hom$V5<0.01,c('fold_change', '-logP')], hom$Motif[hom$V5<0.01], \n",
    "    #  pos=c(2,4), cex=0.9,offset = 0.5)\n",
    "}\n",
    "mtext(exp)\n",
    "}\n",
    "dev.off()"
   ]
  },
  {
   "cell_type": "markdown",
   "metadata": {},
   "source": [
    "### Run HOMER"
   ]
  },
  {
   "cell_type": "code",
   "execution_count": 63,
   "metadata": {},
   "outputs": [],
   "source": [
    "lf    = list.files(\"deseq_ATAC_NEW_bedfiles\")\n",
    "ups   = lf[grepl(\"up\",lf) & !grepl(\"All\",lf)]\n",
    "downs = lf[grepl(\"down\",lf) & !grepl(\"All\",lf)]\n",
    "bup   = lf[grepl(\"up\",lf) & grepl(\"All\",lf)]\n",
    "bdown = lf[grepl(\"down\",lf) & grepl(\"All\",lf)]"
   ]
  },
  {
   "cell_type": "code",
   "execution_count": 74,
   "metadata": {},
   "outputs": [],
   "source": [
    "beddir =\"/nfs/lab/projects/islet_cytok/analysis/deseq_ATAC_NEW_bedfiles\"\n",
    "\n",
    "hdir = \"/nfs/lab/projects/islet_cytok/analysis/HOMER_diff_sites/\"\n",
    "\n",
    "run_homer = function(bedfile, outdir,bgfile )\n",
    "{\n",
    "    system(paste ('findMotifsGenome.pl', bedfile, '/nfs/lab/KG/ref/male.masked.hg19.fa', \n",
    "       outdir,  '-bg', bgfile,  '-nomotif' ))\n",
    "}"
   ]
  },
  {
   "cell_type": "code",
   "execution_count": 80,
   "metadata": {},
   "outputs": [
    {
     "data": {
      "text/html": [
       "<ol>\n",
       "\t<li>0</li>\n",
       "\t<li>0</li>\n",
       "\t<li>0</li>\n",
       "\t<li>0</li>\n",
       "\t<li>0</li>\n",
       "\t<li>0</li>\n",
       "\t<li>0</li>\n",
       "</ol>\n"
      ],
      "text/latex": [
       "\\begin{enumerate}\n",
       "\\item 0\n",
       "\\item 0\n",
       "\\item 0\n",
       "\\item 0\n",
       "\\item 0\n",
       "\\item 0\n",
       "\\item 0\n",
       "\\end{enumerate}\n"
      ],
      "text/markdown": [
       "1. 0\n",
       "2. 0\n",
       "3. 0\n",
       "4. 0\n",
       "5. 0\n",
       "6. 0\n",
       "7. 0\n",
       "\n",
       "\n"
      ],
      "text/plain": [
       "[[1]]\n",
       "[1] 0\n",
       "\n",
       "[[2]]\n",
       "[1] 0\n",
       "\n",
       "[[3]]\n",
       "[1] 0\n",
       "\n",
       "[[4]]\n",
       "[1] 0\n",
       "\n",
       "[[5]]\n",
       "[1] 0\n",
       "\n",
       "[[6]]\n",
       "[1] 0\n",
       "\n",
       "[[7]]\n",
       "[1] 0\n"
      ]
     },
     "metadata": {},
     "output_type": "display_data"
    }
   ],
   "source": [
    "mclapply(1:length(ups), function (i) run_homer(paste(beddir,ups[i], sep=\"/\"), \n",
    "                                               paste0(hdir,gsub(\".bed\", \"\", ups[i]) ), \n",
    "                                               paste(beddir,bup, sep=\"/\")),mc.cores = 18)"
   ]
  },
  {
   "cell_type": "code",
   "execution_count": 81,
   "metadata": {},
   "outputs": [
    {
     "data": {
      "text/html": [
       "<ol>\n",
       "\t<li>0</li>\n",
       "\t<li>0</li>\n",
       "\t<li>0</li>\n",
       "\t<li>0</li>\n",
       "\t<li>0</li>\n",
       "\t<li>0</li>\n",
       "\t<li>0</li>\n",
       "</ol>\n"
      ],
      "text/latex": [
       "\\begin{enumerate}\n",
       "\\item 0\n",
       "\\item 0\n",
       "\\item 0\n",
       "\\item 0\n",
       "\\item 0\n",
       "\\item 0\n",
       "\\item 0\n",
       "\\end{enumerate}\n"
      ],
      "text/markdown": [
       "1. 0\n",
       "2. 0\n",
       "3. 0\n",
       "4. 0\n",
       "5. 0\n",
       "6. 0\n",
       "7. 0\n",
       "\n",
       "\n"
      ],
      "text/plain": [
       "[[1]]\n",
       "[1] 0\n",
       "\n",
       "[[2]]\n",
       "[1] 0\n",
       "\n",
       "[[3]]\n",
       "[1] 0\n",
       "\n",
       "[[4]]\n",
       "[1] 0\n",
       "\n",
       "[[5]]\n",
       "[1] 0\n",
       "\n",
       "[[6]]\n",
       "[1] 0\n",
       "\n",
       "[[7]]\n",
       "[1] 0\n"
      ]
     },
     "metadata": {},
     "output_type": "display_data"
    }
   ],
   "source": [
    "mclapply(1:length(ups), \n",
    "         function (i) run_homer(paste(beddir,downs[i], sep=\"/\"), paste0(hdir,gsub(\".bed\", \"\", downs[i]) ), \n",
    "                                paste(beddir,bdown, sep=\"/\")),mc.cores = 18)\n",
    "  "
   ]
  },
  {
   "cell_type": "markdown",
   "metadata": {},
   "source": [
    "### Plot new motifs with  differential as bckground\n",
    "up with up / down wth down"
   ]
  },
  {
   "cell_type": "code",
   "execution_count": 82,
   "metadata": {},
   "outputs": [
    {
     "data": {
      "text/html": [
       "<style>\n",
       ".list-inline {list-style: none; margin:0; padding: 0}\n",
       ".list-inline>li {display: inline-block}\n",
       ".list-inline>li:not(:last-child)::after {content: \"\\00b7\"; padding: 0 .5ex}\n",
       "</style>\n",
       "<ol class=list-inline><li>'cytokine_24hr_Hi.down'</li><li>'cytokine_24hr_Hi.up'</li><li>'cytokine_24hr_Hi2.down'</li><li>'cytokine_24hr_Hi2.up'</li><li>'cytokine_24hr_Lo.down'</li><li>'cytokine_24hr_Lo.up'</li><li>'cytokine_24hr_Lo2.down'</li><li>'cytokine_24hr_Lo2.up'</li><li>'cytokine_48hr_Hi.down'</li><li>'cytokine_48hr_Hi.up'</li><li>'cytokine_6hr_Hi.down'</li><li>'cytokine_6hr_Hi.up'</li><li>'cytokine_72hr_Hi.down'</li><li>'cytokine_72hr_Hi.up'</li></ol>\n"
      ],
      "text/latex": [
       "\\begin{enumerate*}\n",
       "\\item 'cytokine\\_24hr\\_Hi.down'\n",
       "\\item 'cytokine\\_24hr\\_Hi.up'\n",
       "\\item 'cytokine\\_24hr\\_Hi2.down'\n",
       "\\item 'cytokine\\_24hr\\_Hi2.up'\n",
       "\\item 'cytokine\\_24hr\\_Lo.down'\n",
       "\\item 'cytokine\\_24hr\\_Lo.up'\n",
       "\\item 'cytokine\\_24hr\\_Lo2.down'\n",
       "\\item 'cytokine\\_24hr\\_Lo2.up'\n",
       "\\item 'cytokine\\_48hr\\_Hi.down'\n",
       "\\item 'cytokine\\_48hr\\_Hi.up'\n",
       "\\item 'cytokine\\_6hr\\_Hi.down'\n",
       "\\item 'cytokine\\_6hr\\_Hi.up'\n",
       "\\item 'cytokine\\_72hr\\_Hi.down'\n",
       "\\item 'cytokine\\_72hr\\_Hi.up'\n",
       "\\end{enumerate*}\n"
      ],
      "text/markdown": [
       "1. 'cytokine_24hr_Hi.down'\n",
       "2. 'cytokine_24hr_Hi.up'\n",
       "3. 'cytokine_24hr_Hi2.down'\n",
       "4. 'cytokine_24hr_Hi2.up'\n",
       "5. 'cytokine_24hr_Lo.down'\n",
       "6. 'cytokine_24hr_Lo.up'\n",
       "7. 'cytokine_24hr_Lo2.down'\n",
       "8. 'cytokine_24hr_Lo2.up'\n",
       "9. 'cytokine_48hr_Hi.down'\n",
       "10. 'cytokine_48hr_Hi.up'\n",
       "11. 'cytokine_6hr_Hi.down'\n",
       "12. 'cytokine_6hr_Hi.up'\n",
       "13. 'cytokine_72hr_Hi.down'\n",
       "14. 'cytokine_72hr_Hi.up'\n",
       "\n",
       "\n"
      ],
      "text/plain": [
       " [1] \"cytokine_24hr_Hi.down\"  \"cytokine_24hr_Hi.up\"    \"cytokine_24hr_Hi2.down\"\n",
       " [4] \"cytokine_24hr_Hi2.up\"   \"cytokine_24hr_Lo.down\"  \"cytokine_24hr_Lo.up\"   \n",
       " [7] \"cytokine_24hr_Lo2.down\" \"cytokine_24hr_Lo2.up\"   \"cytokine_48hr_Hi.down\" \n",
       "[10] \"cytokine_48hr_Hi.up\"    \"cytokine_6hr_Hi.down\"   \"cytokine_6hr_Hi.up\"    \n",
       "[13] \"cytokine_72hr_Hi.down\"  \"cytokine_72hr_Hi.up\"   "
      ]
     },
     "metadata": {},
     "output_type": "display_data"
    }
   ],
   "source": [
    "homer_dir = hdir\n",
    "list.files(homer_dir)\n"
   ]
  },
  {
   "cell_type": "code",
   "execution_count": 108,
   "metadata": {},
   "outputs": [],
   "source": [
    "files2 = c('cytokine_6hr_Hi.up','cytokine_6hr_Hi.down',\n",
    "           'cytokine_24hr_Hi2.up','cytokine_24hr_Hi2.down',\n",
    "           'cytokine_24hr_Hi.up','cytokine_24hr_Hi.down',\n",
    "            'cytokine_48hr_Hi.up','cytokine_48hr_Hi.down',\n",
    "            'cytokine_72hr_Hi.up','cytokine_72hr_Hi.down')"
   ]
  },
  {
   "cell_type": "code",
   "execution_count": 112,
   "metadata": {},
   "outputs": [
    {
     "name": "stderr",
     "output_type": "stream",
     "text": [
      "Warning message in eval(expr, envir, enclos):\n",
      "“NAs introduced by coercion”\n",
      "Warning message in eval(expr, envir, enclos):\n",
      "“NAs introduced by coercion”\n",
      "Warning message in eval(expr, envir, enclos):\n",
      "“NAs introduced by coercion”\n",
      "Warning message in eval(expr, envir, enclos):\n",
      "“NAs introduced by coercion”\n",
      "Warning message in eval(expr, envir, enclos):\n",
      "“NAs introduced by coercion”\n",
      "Warning message in eval(expr, envir, enclos):\n",
      "“NAs introduced by coercion”\n",
      "Warning message in eval(expr, envir, enclos):\n",
      "“NAs introduced by coercion”\n",
      "Warning message in eval(expr, envir, enclos):\n",
      "“NAs introduced by coercion”\n",
      "Warning message in eval(expr, envir, enclos):\n",
      "“NAs introduced by coercion”\n",
      "Warning message in eval(expr, envir, enclos):\n",
      "“NAs introduced by coercion”\n"
     ]
    },
    {
     "data": {
      "text/html": [
       "<strong>png:</strong> 2"
      ],
      "text/latex": [
       "\\textbf{png:} 2"
      ],
      "text/markdown": [
       "**png:** 2"
      ],
      "text/plain": [
       "png \n",
       "  2 "
      ]
     },
     "metadata": {},
     "output_type": "display_data"
    }
   ],
   "source": [
    "pdf(\"cytokine_figures/Plot_motifs_diffbckg_log.pdf\", height = 6, width=14)\n",
    "\n",
    "par(mfcol=c(2,5), mar = c(4,4,4,0.2))\n",
    "\n",
    "#par(mfcol=c(2,3), mar = c(4,4,4,0))\n",
    "for (exp in files2){\n",
    "hom= read.table( paste0(homer_dir, exp, '/knownResults.txt'), header=F, fill=T, check.names=F, skip=1, stringsAsFactors = F)\n",
    "hom$fold_change = as.numeric(gsub('%',\"\", hom$V7)) /(as.numeric(gsub('%',\"\", hom$V9))+0.1) ##pseudocount for inf (only V2)\n",
    "hom$Motif = toupper(str_split_fixed(hom$V1, \"\\\\(\",5)[,1])\n",
    "\n",
    "    hom[,\"-logP\"] = -(as.numeric(hom$V4))\n",
    "#hom[,\"-logP\"] = -log10(as.numeric(hom$V3))\n",
    " hom = hom[complete.cases(hom),]   \n",
    "hom=hom[order(hom$fold_change, decreasing=T),]\n",
    "hom=hom[order(hom[,'-logP'], decreasing=T),]\n",
    "    \n",
    "plot(hom[,c('fold_change', '-logP')], pch = 19, \n",
    "     col = (hom$V5<0.05)+1  )\n",
    "if(sum(hom$V5<0.05)>0){\n",
    "    text (hom[1:25,c('fold_change', '-logP')], hom$Motif[1:20], \n",
    "      pos=2, cex=0.7,offset = 0.2)\n",
    "    \n",
    "    #text (hom[hom$V5<0.01,c('fold_change', '-logP')], hom$Motif[hom$V5<0.01], \n",
    "    #  pos=c(2,4), cex=0.9,offset = 0.5)\n",
    "}\n",
    "mtext(exp)\n",
    "}\n",
    "dev.off()"
   ]
  },
  {
   "cell_type": "markdown",
   "metadata": {},
   "source": [
    "### Plot the fold change by time"
   ]
  },
  {
   "cell_type": "code",
   "execution_count": 17,
   "metadata": {},
   "outputs": [],
   "source": [
    "setwd(\"/nfs/lab/projects/islet_cytok/analysis/\")"
   ]
  },
  {
   "cell_type": "code",
   "execution_count": 1,
   "metadata": {},
   "outputs": [],
   "source": [
    "library(tidyr)"
   ]
  },
  {
   "cell_type": "code",
   "execution_count": 2,
   "metadata": {},
   "outputs": [],
   "source": [
    "files3 = c('cytokine_6hr_Hi.up','cytokine_6hr_Hi.down',\n",
    "           'cytokine_24hr_Hi.up','cytokine_24hr_Hi.down',\n",
    "            'cytokine_48hr_Hi.up','cytokine_48hr_Hi.down',\n",
    "            'cytokine_72hr_Hi.up','cytokine_72hr_Hi.down')"
   ]
  },
  {
   "cell_type": "code",
   "execution_count": 3,
   "metadata": {},
   "outputs": [],
   "source": [
    "homer_dir = '/nfs/lab/elisha/islets/cytokine/HOMER/homer_dec15/'\n",
    "#list.files(homer_dir)\n",
    "files3 = c('hi_24_down','hi_24_up','hi2_24_down','hi2_24_up',\n",
    "           'lo_24_down','lo_24_up','lo2_24_down','lo2_24_up',\n",
    "           'hi_6_down','hi_6_up','hi_48_down','hi_48_up',\n",
    "           'hi_72_down','hi_72_up')"
   ]
  },
  {
   "cell_type": "code",
   "execution_count": 7,
   "metadata": {},
   "outputs": [],
   "source": [
    "df = data.frame()\n",
    "for (exp in files3){\n",
    "hom= read.table( paste0(homer_dir, exp, '/knownResults.txt'), header=F, fill=T, check.names=F, skip=1, stringsAsFactors = F)\n",
    "hom$fold_change = as.numeric(gsub('%',\"\", hom$V7)) /(as.numeric(gsub('%',\"\", hom$V9))+0.1) ##pseudocount for inf (only V2)\n",
    "hom$Motif = toupper(str_split_fixed(hom$V1, \"\\\\(\",5)[,1])\n",
    "\n",
    "hom = hom[complete.cases(hom),] \n",
    "hom = subset(hom, Motif !=\"SEQBIAS:\") \n",
    "hom$Qval = p.adjust(as.numeric(hom$V3))\n",
    "tab = hom[,c(\"Motif\",\"fold_change\", \"Qval\")]\n",
    "tab = tab[complete.cases(tab),]\n",
    "tab$treat = exp\n",
    "    df = rbind(df,tab )\n",
    "}"
   ]
  },
  {
   "cell_type": "code",
   "execution_count": 8,
   "metadata": {},
   "outputs": [
    {
     "data": {
      "text/html": [
       "<table class=\"dataframe\">\n",
       "<caption>A data.frame: 6 × 4</caption>\n",
       "<thead>\n",
       "\t<tr><th></th><th scope=col>Motif</th><th scope=col>fold_change</th><th scope=col>Qval</th><th scope=col>treat</th></tr>\n",
       "\t<tr><th></th><th scope=col>&lt;chr&gt;</th><th scope=col>&lt;dbl&gt;</th><th scope=col>&lt;dbl&gt;</th><th scope=col>&lt;chr&gt;</th></tr>\n",
       "</thead>\n",
       "<tbody>\n",
       "\t<tr><th scope=row>1</th><td>FOXA1   </td><td>1.369912</td><td>3.64e-23</td><td>hi_24_down</td></tr>\n",
       "\t<tr><th scope=row>2</th><td>FOXM1   </td><td>1.381633</td><td>3.63e-21</td><td>hi_24_down</td></tr>\n",
       "\t<tr><th scope=row>3</th><td>FOXA1   </td><td>1.383023</td><td>3.63e-21</td><td>hi_24_down</td></tr>\n",
       "\t<tr><th scope=row>4</th><td>FOX:EBOX</td><td>1.427441</td><td>3.61e-20</td><td>hi_24_down</td></tr>\n",
       "\t<tr><th scope=row>5</th><td>FOXA2   </td><td>1.406977</td><td>3.60e-17</td><td>hi_24_down</td></tr>\n",
       "\t<tr><th scope=row>6</th><td>FOXA3   </td><td>1.439490</td><td>3.59e-09</td><td>hi_24_down</td></tr>\n",
       "</tbody>\n",
       "</table>\n"
      ],
      "text/latex": [
       "A data.frame: 6 × 4\n",
       "\\begin{tabular}{r|llll}\n",
       "  & Motif & fold\\_change & Qval & treat\\\\\n",
       "  & <chr> & <dbl> & <dbl> & <chr>\\\\\n",
       "\\hline\n",
       "\t1 & FOXA1    & 1.369912 & 3.64e-23 & hi\\_24\\_down\\\\\n",
       "\t2 & FOXM1    & 1.381633 & 3.63e-21 & hi\\_24\\_down\\\\\n",
       "\t3 & FOXA1    & 1.383023 & 3.63e-21 & hi\\_24\\_down\\\\\n",
       "\t4 & FOX:EBOX & 1.427441 & 3.61e-20 & hi\\_24\\_down\\\\\n",
       "\t5 & FOXA2    & 1.406977 & 3.60e-17 & hi\\_24\\_down\\\\\n",
       "\t6 & FOXA3    & 1.439490 & 3.59e-09 & hi\\_24\\_down\\\\\n",
       "\\end{tabular}\n"
      ],
      "text/markdown": [
       "\n",
       "A data.frame: 6 × 4\n",
       "\n",
       "| <!--/--> | Motif &lt;chr&gt; | fold_change &lt;dbl&gt; | Qval &lt;dbl&gt; | treat &lt;chr&gt; |\n",
       "|---|---|---|---|---|\n",
       "| 1 | FOXA1    | 1.369912 | 3.64e-23 | hi_24_down |\n",
       "| 2 | FOXM1    | 1.381633 | 3.63e-21 | hi_24_down |\n",
       "| 3 | FOXA1    | 1.383023 | 3.63e-21 | hi_24_down |\n",
       "| 4 | FOX:EBOX | 1.427441 | 3.61e-20 | hi_24_down |\n",
       "| 5 | FOXA2    | 1.406977 | 3.60e-17 | hi_24_down |\n",
       "| 6 | FOXA3    | 1.439490 | 3.59e-09 | hi_24_down |\n",
       "\n"
      ],
      "text/plain": [
       "  Motif    fold_change Qval     treat     \n",
       "1 FOXA1    1.369912    3.64e-23 hi_24_down\n",
       "2 FOXM1    1.381633    3.63e-21 hi_24_down\n",
       "3 FOXA1    1.383023    3.63e-21 hi_24_down\n",
       "4 FOX:EBOX 1.427441    3.61e-20 hi_24_down\n",
       "5 FOXA2    1.406977    3.60e-17 hi_24_down\n",
       "6 FOXA3    1.439490    3.59e-09 hi_24_down"
      ]
     },
     "metadata": {},
     "output_type": "display_data"
    }
   ],
   "source": [
    "head(df)"
   ]
  },
  {
   "cell_type": "code",
   "execution_count": 9,
   "metadata": {},
   "outputs": [],
   "source": [
    "df = df[!duplicated(df[,c(1,4)]),]\n",
    "fc = spread(df[, c(1,2,4)], treat, fold_change)\n",
    "qv = spread(df[, c(1,3,4)], treat, Qval)\n",
    "\n",
    "rownames(fc) = fc$Motif\n",
    "fc = fc[,-1]\n",
    "rownames(qv) = qv$Motif\n",
    "qv = qv[,-1]\n",
    "\n",
    "fc = subset(fc, rowSums(qv<0.05, na.rm=T)>0)\n",
    "qv = subset(qv, rowSums(qv<0.05, na.rm=T)>0)"
   ]
  },
  {
   "cell_type": "code",
   "execution_count": 10,
   "metadata": {},
   "outputs": [],
   "source": [
    "fc = fc[order(rowSums(log10(qv))),]\n",
    "qv = qv[order(rowSums(log10(qv))), ]"
   ]
  },
  {
   "cell_type": "code",
   "execution_count": 11,
   "metadata": {},
   "outputs": [
    {
     "data": {
      "text/html": [
       "<style>\n",
       ".list-inline {list-style: none; margin:0; padding: 0}\n",
       ".list-inline>li {display: inline-block}\n",
       ".list-inline>li:not(:last-child)::after {content: \"\\00b7\"; padding: 0 .5ex}\n",
       "</style>\n",
       "<ol class=list-inline><li>'hi_24_down'</li><li>'hi_24_up'</li><li>'hi_48_down'</li><li>'hi_48_up'</li><li>'hi_6_down'</li><li>'hi_6_up'</li><li>'hi_72_down'</li><li>'hi_72_up'</li><li>'hi2_24_down'</li><li>'hi2_24_up'</li><li>'lo_24_down'</li><li>'lo_24_up'</li><li>'lo2_24_down'</li><li>'lo2_24_up'</li></ol>\n"
      ],
      "text/latex": [
       "\\begin{enumerate*}\n",
       "\\item 'hi\\_24\\_down'\n",
       "\\item 'hi\\_24\\_up'\n",
       "\\item 'hi\\_48\\_down'\n",
       "\\item 'hi\\_48\\_up'\n",
       "\\item 'hi\\_6\\_down'\n",
       "\\item 'hi\\_6\\_up'\n",
       "\\item 'hi\\_72\\_down'\n",
       "\\item 'hi\\_72\\_up'\n",
       "\\item 'hi2\\_24\\_down'\n",
       "\\item 'hi2\\_24\\_up'\n",
       "\\item 'lo\\_24\\_down'\n",
       "\\item 'lo\\_24\\_up'\n",
       "\\item 'lo2\\_24\\_down'\n",
       "\\item 'lo2\\_24\\_up'\n",
       "\\end{enumerate*}\n"
      ],
      "text/markdown": [
       "1. 'hi_24_down'\n",
       "2. 'hi_24_up'\n",
       "3. 'hi_48_down'\n",
       "4. 'hi_48_up'\n",
       "5. 'hi_6_down'\n",
       "6. 'hi_6_up'\n",
       "7. 'hi_72_down'\n",
       "8. 'hi_72_up'\n",
       "9. 'hi2_24_down'\n",
       "10. 'hi2_24_up'\n",
       "11. 'lo_24_down'\n",
       "12. 'lo_24_up'\n",
       "13. 'lo2_24_down'\n",
       "14. 'lo2_24_up'\n",
       "\n",
       "\n"
      ],
      "text/plain": [
       " [1] \"hi_24_down\"  \"hi_24_up\"    \"hi_48_down\"  \"hi_48_up\"    \"hi_6_down\"  \n",
       " [6] \"hi_6_up\"     \"hi_72_down\"  \"hi_72_up\"    \"hi2_24_down\" \"hi2_24_up\"  \n",
       "[11] \"lo_24_down\"  \"lo_24_up\"    \"lo2_24_down\" \"lo2_24_up\"  "
      ]
     },
     "metadata": {},
     "output_type": "display_data"
    }
   ],
   "source": [
    "colnames(fc)"
   ]
  },
  {
   "cell_type": "code",
   "execution_count": 14,
   "metadata": {},
   "outputs": [
    {
     "data": {
      "text/html": [
       "<strong>png:</strong> 2"
      ],
      "text/latex": [
       "\\textbf{png:} 2"
      ],
      "text/markdown": [
       "**png:** 2"
      ],
      "text/plain": [
       "png \n",
       "  2 "
      ]
     },
     "metadata": {},
     "output_type": "display_data"
    }
   ],
   "source": [
    "pdf(\"cytokine_figures/Motifs_by_time_all_bckg.pdf\")\n",
    "par(mfrow = c(5,5), mar =c(3,3,2,2), xpd = T)\n",
    "\n",
    "#ups   = c(1,3,5,7)\n",
    "#downs = c(2,4,6,8)\n",
    "\n",
    "downs   = c(5,1,3,7)\n",
    "ups = c(6,3,4,8)\n",
    "for( i in 1:nrow(fc)){\n",
    "    \n",
    "    down = data.frame( time = c(6, 24, 48,  72),\n",
    "                      fold_change = as.numeric(t(fc[i, downs])), qval = as.numeric(t(qv[i, c(1,3,5,7)])) )\n",
    "    up = data.frame( time = c(6, 24, 48,  72),\n",
    "                      fold_change = as.numeric(t(fc[i, ups])), qval = as.numeric(t(qv[i, c(2,4,6,8)])) )\n",
    "    \n",
    "\n",
    "\n",
    "plot(up[,1:2], type = \"o\", pch=19, col=\"orangered\",\n",
    "     axes=F,\n",
    "     ylim = c(min(c(up[,2], down[,2])), max(c(up[,2], down[,2]))+ max(c(up[,2], down[,2]))/5   )  )\n",
    "    axis(1, at=c(6, 24, 48,  72), labels = c(6, 24, 48,  72) )\n",
    "    axis(2)\n",
    "    mtext(\"Fold change\", side=2 , line=2, cex=0.6)\n",
    "    abline(h=1, col=\"gray\", lty=2)\n",
    "text(up[,c(1:2)], c(\"\",\"*\")[(up$qv<0.05) +1], pos=3, cex=2,offset = 0.1)\n",
    "lines(down[,1:2], type = \"o\", pch=19, col=\"dodgerblue\")\n",
    "text(down[,c(1:2)], c(\"\",\"*\")[(down$qv<0.05) +1], pos=3, cex=2,offset = 0.1)\n",
    "mtext( rownames(fc)[i], cex=0.8)\n",
    "    }\n",
    "dev.off()"
   ]
  },
  {
   "cell_type": "code",
   "execution_count": 15,
   "metadata": {},
   "outputs": [],
   "source": [
    "ranks = apply(-fc, 2 , rank)\n"
   ]
  },
  {
   "cell_type": "code",
   "execution_count": 12,
   "metadata": {},
   "outputs": [
    {
     "data": {
      "text/html": [
       "<table class=\"dataframe\">\n",
       "<caption>A data.frame: 6 × 14</caption>\n",
       "<thead>\n",
       "\t<tr><th></th><th scope=col>hi_24_down</th><th scope=col>hi_24_up</th><th scope=col>hi_48_down</th><th scope=col>hi_48_up</th><th scope=col>hi_6_down</th><th scope=col>hi_6_up</th><th scope=col>hi_72_down</th><th scope=col>hi_72_up</th><th scope=col>hi2_24_down</th><th scope=col>hi2_24_up</th><th scope=col>lo_24_down</th><th scope=col>lo_24_up</th><th scope=col>lo2_24_down</th><th scope=col>lo2_24_up</th></tr>\n",
       "\t<tr><th></th><th scope=col>&lt;dbl&gt;</th><th scope=col>&lt;dbl&gt;</th><th scope=col>&lt;dbl&gt;</th><th scope=col>&lt;dbl&gt;</th><th scope=col>&lt;dbl&gt;</th><th scope=col>&lt;dbl&gt;</th><th scope=col>&lt;dbl&gt;</th><th scope=col>&lt;dbl&gt;</th><th scope=col>&lt;dbl&gt;</th><th scope=col>&lt;dbl&gt;</th><th scope=col>&lt;dbl&gt;</th><th scope=col>&lt;dbl&gt;</th><th scope=col>&lt;dbl&gt;</th><th scope=col>&lt;dbl&gt;</th></tr>\n",
       "</thead>\n",
       "<tbody>\n",
       "\t<tr><th scope=row>IRF1</th><td>0.07142857</td><td>11.807692</td><td>0.15306122</td><td>6.946809</td><td>0.10126582</td><td>8.522222</td><td>0.12500000</td><td>6.843373</td><td>0.19148936</td><td>11.000000</td><td>0</td><td> 8.166667</td><td>0</td><td> 6.613095</td></tr>\n",
       "\t<tr><th scope=row>IRF2</th><td>0.04705882</td><td>13.675000</td><td>0.08139535</td><td>7.894737</td><td>0.08571429</td><td>9.638889</td><td>0.09210526</td><td>7.924242</td><td>0.00000000</td><td>12.617647</td><td>0</td><td>14.957627</td><td>0</td><td> 7.935714</td></tr>\n",
       "\t<tr><th scope=row>IRF3</th><td>0.14893617</td><td> 7.060000</td><td>0.26206897</td><td>4.979452</td><td>0.18421053</td><td>5.775510</td><td>0.25196850</td><td>4.819549</td><td>0.10370370</td><td> 7.194444</td><td>0</td><td> 8.567961</td><td>0</td><td> 4.629167</td></tr>\n",
       "\t<tr><th scope=row>IRF8</th><td>0.18840580</td><td> 6.941748</td><td>0.26086957</td><td>5.074324</td><td>0.25217391</td><td>5.905405</td><td>0.24800000</td><td>4.940299</td><td>0.29104478</td><td> 7.368056</td><td>0</td><td> 5.764706</td><td>0</td><td> 4.768240</td></tr>\n",
       "\t<tr><th scope=row>ISRE</th><td>0.05000000</td><td>13.642857</td><td>0.05000000</td><td>7.814815</td><td>0.04000000</td><td>9.038462</td><td>0.07407407</td><td>7.500000</td><td>0.06896552</td><td>12.142857</td><td>0</td><td>12.923077</td><td>0</td><td>11.000000</td></tr>\n",
       "\t<tr><th scope=row>PRDM1</th><td>0.48235294</td><td> 3.833333</td><td>0.43103448</td><td>3.390000</td><td>0.59589041</td><td>3.877451</td><td>0.51592357</td><td>3.170213</td><td>0.59537572</td><td> 4.368421</td><td>0</td><td> 4.575875</td><td>0</td><td> 4.099631</td></tr>\n",
       "</tbody>\n",
       "</table>\n"
      ],
      "text/latex": [
       "A data.frame: 6 × 14\n",
       "\\begin{tabular}{r|llllllllllllll}\n",
       "  & hi\\_24\\_down & hi\\_24\\_up & hi\\_48\\_down & hi\\_48\\_up & hi\\_6\\_down & hi\\_6\\_up & hi\\_72\\_down & hi\\_72\\_up & hi2\\_24\\_down & hi2\\_24\\_up & lo\\_24\\_down & lo\\_24\\_up & lo2\\_24\\_down & lo2\\_24\\_up\\\\\n",
       "  & <dbl> & <dbl> & <dbl> & <dbl> & <dbl> & <dbl> & <dbl> & <dbl> & <dbl> & <dbl> & <dbl> & <dbl> & <dbl> & <dbl>\\\\\n",
       "\\hline\n",
       "\tIRF1 & 0.07142857 & 11.807692 & 0.15306122 & 6.946809 & 0.10126582 & 8.522222 & 0.12500000 & 6.843373 & 0.19148936 & 11.000000 & 0 &  8.166667 & 0 &  6.613095\\\\\n",
       "\tIRF2 & 0.04705882 & 13.675000 & 0.08139535 & 7.894737 & 0.08571429 & 9.638889 & 0.09210526 & 7.924242 & 0.00000000 & 12.617647 & 0 & 14.957627 & 0 &  7.935714\\\\\n",
       "\tIRF3 & 0.14893617 &  7.060000 & 0.26206897 & 4.979452 & 0.18421053 & 5.775510 & 0.25196850 & 4.819549 & 0.10370370 &  7.194444 & 0 &  8.567961 & 0 &  4.629167\\\\\n",
       "\tIRF8 & 0.18840580 &  6.941748 & 0.26086957 & 5.074324 & 0.25217391 & 5.905405 & 0.24800000 & 4.940299 & 0.29104478 &  7.368056 & 0 &  5.764706 & 0 &  4.768240\\\\\n",
       "\tISRE & 0.05000000 & 13.642857 & 0.05000000 & 7.814815 & 0.04000000 & 9.038462 & 0.07407407 & 7.500000 & 0.06896552 & 12.142857 & 0 & 12.923077 & 0 & 11.000000\\\\\n",
       "\tPRDM1 & 0.48235294 &  3.833333 & 0.43103448 & 3.390000 & 0.59589041 & 3.877451 & 0.51592357 & 3.170213 & 0.59537572 &  4.368421 & 0 &  4.575875 & 0 &  4.099631\\\\\n",
       "\\end{tabular}\n"
      ],
      "text/markdown": [
       "\n",
       "A data.frame: 6 × 14\n",
       "\n",
       "| <!--/--> | hi_24_down &lt;dbl&gt; | hi_24_up &lt;dbl&gt; | hi_48_down &lt;dbl&gt; | hi_48_up &lt;dbl&gt; | hi_6_down &lt;dbl&gt; | hi_6_up &lt;dbl&gt; | hi_72_down &lt;dbl&gt; | hi_72_up &lt;dbl&gt; | hi2_24_down &lt;dbl&gt; | hi2_24_up &lt;dbl&gt; | lo_24_down &lt;dbl&gt; | lo_24_up &lt;dbl&gt; | lo2_24_down &lt;dbl&gt; | lo2_24_up &lt;dbl&gt; |\n",
       "|---|---|---|---|---|---|---|---|---|---|---|---|---|---|---|\n",
       "| IRF1 | 0.07142857 | 11.807692 | 0.15306122 | 6.946809 | 0.10126582 | 8.522222 | 0.12500000 | 6.843373 | 0.19148936 | 11.000000 | 0 |  8.166667 | 0 |  6.613095 |\n",
       "| IRF2 | 0.04705882 | 13.675000 | 0.08139535 | 7.894737 | 0.08571429 | 9.638889 | 0.09210526 | 7.924242 | 0.00000000 | 12.617647 | 0 | 14.957627 | 0 |  7.935714 |\n",
       "| IRF3 | 0.14893617 |  7.060000 | 0.26206897 | 4.979452 | 0.18421053 | 5.775510 | 0.25196850 | 4.819549 | 0.10370370 |  7.194444 | 0 |  8.567961 | 0 |  4.629167 |\n",
       "| IRF8 | 0.18840580 |  6.941748 | 0.26086957 | 5.074324 | 0.25217391 | 5.905405 | 0.24800000 | 4.940299 | 0.29104478 |  7.368056 | 0 |  5.764706 | 0 |  4.768240 |\n",
       "| ISRE | 0.05000000 | 13.642857 | 0.05000000 | 7.814815 | 0.04000000 | 9.038462 | 0.07407407 | 7.500000 | 0.06896552 | 12.142857 | 0 | 12.923077 | 0 | 11.000000 |\n",
       "| PRDM1 | 0.48235294 |  3.833333 | 0.43103448 | 3.390000 | 0.59589041 | 3.877451 | 0.51592357 | 3.170213 | 0.59537572 |  4.368421 | 0 |  4.575875 | 0 |  4.099631 |\n",
       "\n"
      ],
      "text/plain": [
       "      hi_24_down hi_24_up  hi_48_down hi_48_up hi_6_down  hi_6_up  hi_72_down\n",
       "IRF1  0.07142857 11.807692 0.15306122 6.946809 0.10126582 8.522222 0.12500000\n",
       "IRF2  0.04705882 13.675000 0.08139535 7.894737 0.08571429 9.638889 0.09210526\n",
       "IRF3  0.14893617  7.060000 0.26206897 4.979452 0.18421053 5.775510 0.25196850\n",
       "IRF8  0.18840580  6.941748 0.26086957 5.074324 0.25217391 5.905405 0.24800000\n",
       "ISRE  0.05000000 13.642857 0.05000000 7.814815 0.04000000 9.038462 0.07407407\n",
       "PRDM1 0.48235294  3.833333 0.43103448 3.390000 0.59589041 3.877451 0.51592357\n",
       "      hi_72_up hi2_24_down hi2_24_up lo_24_down lo_24_up  lo2_24_down lo2_24_up\n",
       "IRF1  6.843373 0.19148936  11.000000 0           8.166667 0            6.613095\n",
       "IRF2  7.924242 0.00000000  12.617647 0          14.957627 0            7.935714\n",
       "IRF3  4.819549 0.10370370   7.194444 0           8.567961 0            4.629167\n",
       "IRF8  4.940299 0.29104478   7.368056 0           5.764706 0            4.768240\n",
       "ISRE  7.500000 0.06896552  12.142857 0          12.923077 0           11.000000\n",
       "PRDM1 3.170213 0.59537572   4.368421 0           4.575875 0            4.099631"
      ]
     },
     "metadata": {},
     "output_type": "display_data"
    }
   ],
   "source": [
    "head(fc)"
   ]
  },
  {
   "cell_type": "code",
   "execution_count": 13,
   "metadata": {},
   "outputs": [],
   "source": [
    "#downs   = c(5,11,13,1,9,3,7)\n",
    "downs   = c(9,5,1,3,7)\n",
    "downs   = c(5,1,3,7)\n",
    "ups = downs+1"
   ]
  },
  {
   "cell_type": "code",
   "execution_count": 14,
   "metadata": {},
   "outputs": [],
   "source": [
    "color = colorRampPalette(brewer.pal(9, \"YlGnBu\"))(50)"
   ]
  },
  {
   "cell_type": "code",
   "execution_count": 15,
   "metadata": {},
   "outputs": [],
   "source": [
    "fcup   = fc[,ups]\n",
    "qup    = qv[,ups]\n",
    "fcup   = subset(fcup, rowSums(qup<0.05, na.rm=T)>0)\n",
    "qup    = subset(qup, rowSums(qup<0.05, na.rm=T)>0)\n",
    "\n",
    "xx = qup\n",
    "xx[xx<0.05]<-\"*\"\n",
    "xx[xx>=0.05]<-\"\""
   ]
  },
  {
   "cell_type": "code",
   "execution_count": 18,
   "metadata": {},
   "outputs": [],
   "source": [
    "pheatmap(fcup, col=color, scale=\"row\", cellwidth = 20,display_numbers = xx,\n",
    "         number_color = \"red\",\n",
    "         file = \"cytokine_figures/Heatmap_motifs_up_only_hi.pdf\",\n",
    "         cluster_rows = T, cluster_cols = F)"
   ]
  },
  {
   "cell_type": "code",
   "execution_count": 22,
   "metadata": {},
   "outputs": [],
   "source": [
    "pheatmap(log(fcup,2), col=color, scale=\"none\", cellwidth = 20,display_numbers = xx,\n",
    "         number_color = \"red\",\n",
    "         file = \"cytokine_figures/Heatmap_motifs_up_notscales.pdf\",\n",
    "         cluster_rows = T, cluster_cols = F)"
   ]
  },
  {
   "cell_type": "code",
   "execution_count": 19,
   "metadata": {},
   "outputs": [],
   "source": [
    "fcdo   = fc[,downs]\n",
    "qdo    = qv[,downs]\n",
    "fcdo   = subset(fcdo, rowSums(qdo<0.05, na.rm=T)>0)\n",
    "qdo    = subset(qdo, rowSums(qdo<0.05, na.rm=T)>0)\n",
    "\n",
    "xx = qdo\n",
    "xx[xx<0.05]<-\"*\"\n",
    "xx[xx>=0.05]<-\"\""
   ]
  },
  {
   "cell_type": "code",
   "execution_count": 20,
   "metadata": {},
   "outputs": [],
   "source": [
    "pheatmap(fcdo, col=color, scale=\"row\", cellwidth = 20,display_numbers = xx,\n",
    "         number_color = \"red\",\n",
    "         file = \"cytokine_figures/Heatmap_motifs_down_onlyhi.pdf\",\n",
    "         cluster_rows = T, cluster_cols = F)"
   ]
  },
  {
   "cell_type": "code",
   "execution_count": 31,
   "metadata": {},
   "outputs": [],
   "source": [
    "l2 = log(fcdo,2)\n",
    "l2[l2==-Inf]<-0"
   ]
  },
  {
   "cell_type": "code",
   "execution_count": 32,
   "metadata": {},
   "outputs": [],
   "source": [
    "pheatmap(l2, col=color, scale=\"none\", cellwidth = 20,display_numbers = xx,\n",
    "         number_color = \"red\",\n",
    "         file = \"cytokine_figures/Heatmap_motifs_down_log2fc.pdf\",\n",
    "         cluster_rows = T, cluster_cols = F)"
   ]
  },
  {
   "cell_type": "markdown",
   "metadata": {},
   "source": [
    "### Supplementary Table"
   ]
  },
  {
   "cell_type": "code",
   "execution_count": 21,
   "metadata": {},
   "outputs": [
    {
     "data": {
      "text/html": [
       "<style>\n",
       ".list-inline {list-style: none; margin:0; padding: 0}\n",
       ".list-inline>li {display: inline-block}\n",
       ".list-inline>li:not(:last-child)::after {content: \"\\00b7\"; padding: 0 .5ex}\n",
       "</style>\n",
       "<ol class=list-inline><li>'bed_files'</li><li>'cytPeak_matrix.final.bed'</li><li>'hi_24_down'</li><li>'hi_24_up'</li><li>'hi_48_down'</li><li>'hi_48_up'</li><li>'hi_6_down'</li><li>'hi_6_up'</li><li>'hi_72_down'</li><li>'hi_72_up'</li><li>'hi2_24_down'</li><li>'hi2_24_up'</li><li>'hiVhi2_down'</li><li>'hiVhi2_up'</li><li>'homer.sh'</li><li>'html'</li><li>'lo_24_down'</li><li>'lo_24_up'</li><li>'lo2_24_down'</li><li>'lo2_24_up'</li><li>'output'</li><li>'union_down'</li><li>'union_down.bed'</li><li>'union_down.txt'</li><li>'union_up'</li><li>'union_up.bed'</li><li>'union_up.txt'</li><li>'union.sh'</li></ol>\n"
      ],
      "text/latex": [
       "\\begin{enumerate*}\n",
       "\\item 'bed\\_files'\n",
       "\\item 'cytPeak\\_matrix.final.bed'\n",
       "\\item 'hi\\_24\\_down'\n",
       "\\item 'hi\\_24\\_up'\n",
       "\\item 'hi\\_48\\_down'\n",
       "\\item 'hi\\_48\\_up'\n",
       "\\item 'hi\\_6\\_down'\n",
       "\\item 'hi\\_6\\_up'\n",
       "\\item 'hi\\_72\\_down'\n",
       "\\item 'hi\\_72\\_up'\n",
       "\\item 'hi2\\_24\\_down'\n",
       "\\item 'hi2\\_24\\_up'\n",
       "\\item 'hiVhi2\\_down'\n",
       "\\item 'hiVhi2\\_up'\n",
       "\\item 'homer.sh'\n",
       "\\item 'html'\n",
       "\\item 'lo\\_24\\_down'\n",
       "\\item 'lo\\_24\\_up'\n",
       "\\item 'lo2\\_24\\_down'\n",
       "\\item 'lo2\\_24\\_up'\n",
       "\\item 'output'\n",
       "\\item 'union\\_down'\n",
       "\\item 'union\\_down.bed'\n",
       "\\item 'union\\_down.txt'\n",
       "\\item 'union\\_up'\n",
       "\\item 'union\\_up.bed'\n",
       "\\item 'union\\_up.txt'\n",
       "\\item 'union.sh'\n",
       "\\end{enumerate*}\n"
      ],
      "text/markdown": [
       "1. 'bed_files'\n",
       "2. 'cytPeak_matrix.final.bed'\n",
       "3. 'hi_24_down'\n",
       "4. 'hi_24_up'\n",
       "5. 'hi_48_down'\n",
       "6. 'hi_48_up'\n",
       "7. 'hi_6_down'\n",
       "8. 'hi_6_up'\n",
       "9. 'hi_72_down'\n",
       "10. 'hi_72_up'\n",
       "11. 'hi2_24_down'\n",
       "12. 'hi2_24_up'\n",
       "13. 'hiVhi2_down'\n",
       "14. 'hiVhi2_up'\n",
       "15. 'homer.sh'\n",
       "16. 'html'\n",
       "17. 'lo_24_down'\n",
       "18. 'lo_24_up'\n",
       "19. 'lo2_24_down'\n",
       "20. 'lo2_24_up'\n",
       "21. 'output'\n",
       "22. 'union_down'\n",
       "23. 'union_down.bed'\n",
       "24. 'union_down.txt'\n",
       "25. 'union_up'\n",
       "26. 'union_up.bed'\n",
       "27. 'union_up.txt'\n",
       "28. 'union.sh'\n",
       "\n",
       "\n"
      ],
      "text/plain": [
       " [1] \"bed_files\"                \"cytPeak_matrix.final.bed\"\n",
       " [3] \"hi_24_down\"               \"hi_24_up\"                \n",
       " [5] \"hi_48_down\"               \"hi_48_up\"                \n",
       " [7] \"hi_6_down\"                \"hi_6_up\"                 \n",
       " [9] \"hi_72_down\"               \"hi_72_up\"                \n",
       "[11] \"hi2_24_down\"              \"hi2_24_up\"               \n",
       "[13] \"hiVhi2_down\"              \"hiVhi2_up\"               \n",
       "[15] \"homer.sh\"                 \"html\"                    \n",
       "[17] \"lo_24_down\"               \"lo_24_up\"                \n",
       "[19] \"lo2_24_down\"              \"lo2_24_up\"               \n",
       "[21] \"output\"                   \"union_down\"              \n",
       "[23] \"union_down.bed\"           \"union_down.txt\"          \n",
       "[25] \"union_up\"                 \"union_up.bed\"            \n",
       "[27] \"union_up.txt\"             \"union.sh\"                "
      ]
     },
     "metadata": {},
     "output_type": "display_data"
    }
   ],
   "source": [
    "homer_dir = '/nfs/lab/elisha/islets/cytokine/HOMER/homer_dec15/'\n",
    "list.files(homer_dir)"
   ]
  },
  {
   "cell_type": "code",
   "execution_count": 22,
   "metadata": {},
   "outputs": [],
   "source": [
    "files3 = c('union_down', 'union_up',\n",
    "           'hi_6_down','hi_6_up',\n",
    "           'hi_24_down','hi_24_up',\n",
    "           'hi_48_down','hi_48_up',\n",
    "           'hi_72_down','hi_72_up' ,\n",
    "           'lo_24_down','lo_24_up',\n",
    "           'lo2_24_down','lo2_24_up',\n",
    "           'hi2_24_down','hi2_24_up')"
   ]
  },
  {
   "cell_type": "code",
   "execution_count": 66,
   "metadata": {},
   "outputs": [],
   "source": [
    "cn = c('Motif','P_value', \"log_P_value\",'Q_value','No_seq_withMotif','Pct_seq_withMotif','Fold_change')"
   ]
  },
  {
   "cell_type": "code",
   "execution_count": 67,
   "metadata": {},
   "outputs": [],
   "source": [
    "for (u in 0:1){\n",
    "    for(s in seq(1,16,by=2)+u){\n",
    "exp =     files3[s]\n",
    "hom= read.table( paste0(homer_dir, exp, '/knownResults.txt'), header=F, fill=T, check.names=F, skip=1, stringsAsFactors = F)\n",
    "hom$fold_change = as.numeric(gsub('%',\"\", hom$V7)) /(as.numeric(gsub('%',\"\", hom$V9))+0.1) ##pseudocount for inf (only V2)\n",
    "hom$Motif2 = toupper(str_split_fixed(hom$V1, \"\\\\(\",5)[,1])\n",
    "hom$Motif = toupper(str_split_fixed(hom$V1, \"\\\\/\",3)[,1])\n",
    "hom = hom[complete.cases(hom),] \n",
    "hom = subset(hom, Motif2 !=\"SEQBIAS:\") \n",
    "    \n",
    "tab = hom[,c(12,3,4, 5,6,7,10)]\n",
    "colnames(tab) = paste(cn, s , sep=\".\")\n",
    "tab$Rank = 1:nrow(tab)\n",
    "   if( s == (1+u) ) \n",
    "   {df =tab }else{\n",
    "       df = merge(df, tab, by=\"Rank\", all.x=T)\n",
    "   }\n",
    "}\n",
    "    if(u==0){df_down=df}\n",
    "      }"
   ]
  },
  {
   "cell_type": "code",
   "execution_count": 68,
   "metadata": {},
   "outputs": [],
   "source": [
    "colnames(df) = colnames(df_down)=c(\"Rank\", rep(cn, 8))"
   ]
  },
  {
   "cell_type": "code",
   "execution_count": 70,
   "metadata": {},
   "outputs": [],
   "source": [
    "write.csv(df_down, \"HOMER_diff_sites/SuppTab_down.csv\", row.names=F )"
   ]
  },
  {
   "cell_type": "code",
   "execution_count": 71,
   "metadata": {},
   "outputs": [],
   "source": [
    "write.csv(df, \"HOMER_diff_sites/SuppTab_up.csv\", row.names=F )"
   ]
  },
  {
   "cell_type": "markdown",
   "metadata": {},
   "source": [
    "### GeoTable"
   ]
  },
  {
   "cell_type": "code",
   "execution_count": 11,
   "metadata": {},
   "outputs": [],
   "source": [
    "mat = read.table('/nfs/lab/elisha/islets/cytokine/update_deseq/matrix/cytPeak.dec9.matrix.filtered.R', header=T, row.names=1)"
   ]
  },
  {
   "cell_type": "code",
   "execution_count": 15,
   "metadata": {},
   "outputs": [],
   "source": [
    "meta = read.table('/nfs/lab/elisha/islets/cytokine/update_deseq/metadata/cytokine_35.metadata.txt', header=T)"
   ]
  },
  {
   "cell_type": "code",
   "execution_count": 18,
   "metadata": {},
   "outputs": [],
   "source": [
    "meta$recode = meta$donor"
   ]
  },
  {
   "cell_type": "code",
   "execution_count": 19,
   "metadata": {},
   "outputs": [],
   "source": [
    "meta$recode[meta$donor==\"islet_1\"]<-'SAMN12833535'\n",
    "meta$recode[meta$donor==\"islet_2\"]<-'SAMN12889245'"
   ]
  },
  {
   "cell_type": "code",
   "execution_count": 21,
   "metadata": {},
   "outputs": [
    {
     "data": {
      "text/plain": [
       "\n",
       "       hi       hi2        lo       lo2 untreated \n",
       "       11         5         3         3        13 "
      ]
     },
     "metadata": {},
     "output_type": "display_data"
    }
   ],
   "source": [
    "table(meta$condition)"
   ]
  },
  {
   "cell_type": "code",
   "execution_count": 13,
   "metadata": {},
   "outputs": [
    {
     "data": {
      "text/html": [
       "<style>\n",
       ".list-inline {list-style: none; margin:0; padding: 0}\n",
       ".list-inline>li {display: inline-block}\n",
       ".list-inline>li:not(:last-child)::after {content: \"\\00b7\"; padding: 0 .5ex}\n",
       "</style>\n",
       "<ol class=list-inline><li>165884</li><li>35</li></ol>\n"
      ],
      "text/latex": [
       "\\begin{enumerate*}\n",
       "\\item 165884\n",
       "\\item 35\n",
       "\\end{enumerate*}\n"
      ],
      "text/markdown": [
       "1. 165884\n",
       "2. 35\n",
       "\n",
       "\n"
      ],
      "text/plain": [
       "[1] 165884     35"
      ]
     },
     "metadata": {},
     "output_type": "display_data"
    }
   ],
   "source": [
    "dim(mat)"
   ]
  },
  {
   "cell_type": "code",
   "execution_count": 22,
   "metadata": {},
   "outputs": [],
   "source": [
    "recode = c(hi2='2cyt-hi',\n",
    "lo2='2cyt-lo',\n",
    "hi='3cyt-hi',\n",
    "lo='3cyt-lo',\n",
    "untreated = 'untreat')"
   ]
  },
  {
   "cell_type": "code",
   "execution_count": 23,
   "metadata": {},
   "outputs": [],
   "source": [
    "meta$treat = recode[meta$condition]"
   ]
  },
  {
   "cell_type": "code",
   "execution_count": 31,
   "metadata": {},
   "outputs": [],
   "source": [
    "meta$sampname = paste(meta$recode, meta$treat, paste0(meta$time, \"h\"), sep=\"_\")"
   ]
  },
  {
   "cell_type": "code",
   "execution_count": 39,
   "metadata": {},
   "outputs": [],
   "source": [
    "colnames(mat) = meta$sampname[match( colnames(mat), meta$bam)]"
   ]
  },
  {
   "cell_type": "code",
   "execution_count": 42,
   "metadata": {},
   "outputs": [],
   "source": [
    "rownames(mat) = gsub(\"peak-\", \"\", rownames(mat))"
   ]
  },
  {
   "cell_type": "code",
   "execution_count": 43,
   "metadata": {},
   "outputs": [],
   "source": [
    "write.table(mat, \"../geo_submission_oct21/processed_files/Bulk_ATACSeq_count.matrix.txt\", sep=\"\\t\", quote=F)"
   ]
  },
  {
   "cell_type": "code",
   "execution_count": 45,
   "metadata": {},
   "outputs": [
    {
     "data": {
      "text/html": [
       "<table class=\"dataframe\">\n",
       "<caption>A data.frame: 5 × 13</caption>\n",
       "<thead>\n",
       "\t<tr><th></th><th scope=col>donor</th><th scope=col>treatment</th><th scope=col>time</th><th scope=col>condition</th><th scope=col>bam_x</th><th scope=col>bam</th><th scope=col>bam_path</th><th scope=col>peaks</th><th scope=col>reads_1</th><th scope=col>reads_2</th><th scope=col>recode</th><th scope=col>treat</th><th scope=col>sampname</th></tr>\n",
       "\t<tr><th></th><th scope=col>&lt;chr&gt;</th><th scope=col>&lt;chr&gt;</th><th scope=col>&lt;int&gt;</th><th scope=col>&lt;chr&gt;</th><th scope=col>&lt;chr&gt;</th><th scope=col>&lt;chr&gt;</th><th scope=col>&lt;chr&gt;</th><th scope=col>&lt;chr&gt;</th><th scope=col>&lt;chr&gt;</th><th scope=col>&lt;chr&gt;</th><th scope=col>&lt;chr&gt;</th><th scope=col>&lt;chr&gt;</th><th scope=col>&lt;chr&gt;</th></tr>\n",
       "</thead>\n",
       "<tbody>\n",
       "\t<tr><th scope=row>11</th><td>SAMN10977276</td><td>SAMN10977276_hi       </td><td>24</td><td>hi       </td><td>X.nfs.lab.projects.islet_cytok.data.ATACseq.bam.SAMN10977276_hi.sort.filt.rmdup.bam        </td><td>SAMN10977276_hi.sort.filt.rmdup.bam        </td><td>/nfs/lab/projects/islet_cytok/data/ATACseq/bam/SAMN10977276_hi.sort.filt.rmdup.bam        </td><td>/nfs/lab/projects/islet_cytok/data/ATACseq/peaks/SAMN10977276_hi_peaks.narrowPeak        </td><td>/nfs/lab/mokino/islet_ATAC/27mar2019/SAMN10977276_hi_S1_L008_R1_001.fastq.gz       </td><td>/nfs/lab/mokino/islet_ATAC/27mar2019/SAMN10977276_hi_S1_L008_R2_001.fastq.gz       </td><td>SAMN10977276</td><td>3cyt-hi</td><td>SAMN10977276_3cyt-hi_24h</td></tr>\n",
       "\t<tr><th scope=row>16</th><td>SAMN10977276</td><td>SAMN10977276_hi_noTNFA</td><td>24</td><td>hi2      </td><td>X.nfs.lab.projects.islet_cytok.data.ATACseq.bam.hi_noTNFA_SAMN10977276.sort.filt.rmdup.bam </td><td>hi_noTNFA_SAMN10977276.sort.filt.rmdup.bam </td><td>/nfs/lab/projects/islet_cytok/data/ATACseq/bam/hi_noTNFA_SAMN10977276.sort.filt.rmdup.bam </td><td>/nfs/lab/projects/islet_cytok/data/ATACseq/peaks/hi_noTNFA_SAMN10977276_peaks.narrowPeak </td><td>/nfs/lab/mokino/islet_ATAC/27mar2019/SAMN10977276_hi_noTNFA_S2_L008_R1_001.fastq.gz</td><td>/nfs/lab/mokino/islet_ATAC/27mar2019/SAMN10977276_hi_noTNFA_S2_L008_R2_001.fastq.gz</td><td>SAMN10977276</td><td>2cyt-hi</td><td>SAMN10977276_2cyt-hi_24h</td></tr>\n",
       "\t<tr><th scope=row>19</th><td>SAMN10977276</td><td>SAMN10977276_lo       </td><td>24</td><td>lo       </td><td>X.nfs.lab.projects.islet_cytok.data.ATACseq.bam.low_SAMN10977276.sort.filt.rmdup.bam       </td><td>low_SAMN10977276.sort.filt.rmdup.bam       </td><td>/nfs/lab/projects/islet_cytok/data/ATACseq/bam/low_SAMN10977276.sort.filt.rmdup.bam       </td><td>/nfs/lab/projects/islet_cytok/data/ATACseq/peaks/low_SAMN10977276_peaks.narrowPeak       </td><td>/nfs/lab/mokino/islet_ATAC/27mar2019/SAMN10977276_lo_S4_L008_R1_001.fastq.gz       </td><td>/nfs/lab/mokino/islet_ATAC/27mar2019/SAMN10977276_lo_S4_L008_R2_001.fastq.gz       </td><td>SAMN10977276</td><td>3cyt-lo</td><td>SAMN10977276_3cyt-lo_24h</td></tr>\n",
       "\t<tr><th scope=row>22</th><td>SAMN10977276</td><td>SAMN10977276_lo_noTNFA</td><td>24</td><td>lo2      </td><td>X.nfs.lab.projects.islet_cytok.data.ATACseq.bam.low_noTNFA_SAMN10977276.sort.filt.rmdup.bam</td><td>low_noTNFA_SAMN10977276.sort.filt.rmdup.bam</td><td>/nfs/lab/projects/islet_cytok/data/ATACseq/bam/low_noTNFA_SAMN10977276.sort.filt.rmdup.bam</td><td>/nfs/lab/projects/islet_cytok/data/ATACseq/peaks/low_noTNFA_SAMN10977276_peaks.narrowPeak</td><td>/nfs/lab/mokino/islet_ATAC/27mar2019/SAMN10977276_lo_noTNFA_S3_L008_R1_001.fastq.gz</td><td>/nfs/lab/mokino/islet_ATAC/27mar2019/SAMN10977276_lo_noTNFA_S3_L008_R2_001.fastq.gz</td><td>SAMN10977276</td><td>2cyt-lo</td><td>SAMN10977276_2cyt-lo_24h</td></tr>\n",
       "\t<tr><th scope=row>35</th><td>SAMN10977276</td><td>SAMN10977276_untreated</td><td>24</td><td>untreated</td><td>X.nfs.lab.projects.islet_cytok.data.ATACseq.bam.untreated_SAMN10977276.sort.filt.rmdup.bam </td><td>untreated_SAMN10977276.sort.filt.rmdup.bam </td><td>/nfs/lab/projects/islet_cytok/data/ATACseq/bam/untreated_SAMN10977276.sort.filt.rmdup.bam </td><td>/nfs/lab/projects/islet_cytok/data/ATACseq/peaks/untreated_SAMN10977276_peaks.narrowPeak </td><td>/nfs/lab/mokino/islet_ATAC/27mar2019/SAMN10977276_untreated_S5_L008_R1_001.fastq.gz</td><td>/nfs/lab/mokino/islet_ATAC/27mar2019/SAMN10977276_untreated_S5_L008_R2_001.fastq.gz</td><td>SAMN10977276</td><td>untreat</td><td>SAMN10977276_untreat_24h</td></tr>\n",
       "</tbody>\n",
       "</table>\n"
      ],
      "text/latex": [
       "A data.frame: 5 × 13\n",
       "\\begin{tabular}{r|lllllllllllll}\n",
       "  & donor & treatment & time & condition & bam\\_x & bam & bam\\_path & peaks & reads\\_1 & reads\\_2 & recode & treat & sampname\\\\\n",
       "  & <chr> & <chr> & <int> & <chr> & <chr> & <chr> & <chr> & <chr> & <chr> & <chr> & <chr> & <chr> & <chr>\\\\\n",
       "\\hline\n",
       "\t11 & SAMN10977276 & SAMN10977276\\_hi        & 24 & hi        & X.nfs.lab.projects.islet\\_cytok.data.ATACseq.bam.SAMN10977276\\_hi.sort.filt.rmdup.bam         & SAMN10977276\\_hi.sort.filt.rmdup.bam         & /nfs/lab/projects/islet\\_cytok/data/ATACseq/bam/SAMN10977276\\_hi.sort.filt.rmdup.bam         & /nfs/lab/projects/islet\\_cytok/data/ATACseq/peaks/SAMN10977276\\_hi\\_peaks.narrowPeak         & /nfs/lab/mokino/islet\\_ATAC/27mar2019/SAMN10977276\\_hi\\_S1\\_L008\\_R1\\_001.fastq.gz        & /nfs/lab/mokino/islet\\_ATAC/27mar2019/SAMN10977276\\_hi\\_S1\\_L008\\_R2\\_001.fastq.gz        & SAMN10977276 & 3cyt-hi & SAMN10977276\\_3cyt-hi\\_24h\\\\\n",
       "\t16 & SAMN10977276 & SAMN10977276\\_hi\\_noTNFA & 24 & hi2       & X.nfs.lab.projects.islet\\_cytok.data.ATACseq.bam.hi\\_noTNFA\\_SAMN10977276.sort.filt.rmdup.bam  & hi\\_noTNFA\\_SAMN10977276.sort.filt.rmdup.bam  & /nfs/lab/projects/islet\\_cytok/data/ATACseq/bam/hi\\_noTNFA\\_SAMN10977276.sort.filt.rmdup.bam  & /nfs/lab/projects/islet\\_cytok/data/ATACseq/peaks/hi\\_noTNFA\\_SAMN10977276\\_peaks.narrowPeak  & /nfs/lab/mokino/islet\\_ATAC/27mar2019/SAMN10977276\\_hi\\_noTNFA\\_S2\\_L008\\_R1\\_001.fastq.gz & /nfs/lab/mokino/islet\\_ATAC/27mar2019/SAMN10977276\\_hi\\_noTNFA\\_S2\\_L008\\_R2\\_001.fastq.gz & SAMN10977276 & 2cyt-hi & SAMN10977276\\_2cyt-hi\\_24h\\\\\n",
       "\t19 & SAMN10977276 & SAMN10977276\\_lo        & 24 & lo        & X.nfs.lab.projects.islet\\_cytok.data.ATACseq.bam.low\\_SAMN10977276.sort.filt.rmdup.bam        & low\\_SAMN10977276.sort.filt.rmdup.bam        & /nfs/lab/projects/islet\\_cytok/data/ATACseq/bam/low\\_SAMN10977276.sort.filt.rmdup.bam        & /nfs/lab/projects/islet\\_cytok/data/ATACseq/peaks/low\\_SAMN10977276\\_peaks.narrowPeak        & /nfs/lab/mokino/islet\\_ATAC/27mar2019/SAMN10977276\\_lo\\_S4\\_L008\\_R1\\_001.fastq.gz        & /nfs/lab/mokino/islet\\_ATAC/27mar2019/SAMN10977276\\_lo\\_S4\\_L008\\_R2\\_001.fastq.gz        & SAMN10977276 & 3cyt-lo & SAMN10977276\\_3cyt-lo\\_24h\\\\\n",
       "\t22 & SAMN10977276 & SAMN10977276\\_lo\\_noTNFA & 24 & lo2       & X.nfs.lab.projects.islet\\_cytok.data.ATACseq.bam.low\\_noTNFA\\_SAMN10977276.sort.filt.rmdup.bam & low\\_noTNFA\\_SAMN10977276.sort.filt.rmdup.bam & /nfs/lab/projects/islet\\_cytok/data/ATACseq/bam/low\\_noTNFA\\_SAMN10977276.sort.filt.rmdup.bam & /nfs/lab/projects/islet\\_cytok/data/ATACseq/peaks/low\\_noTNFA\\_SAMN10977276\\_peaks.narrowPeak & /nfs/lab/mokino/islet\\_ATAC/27mar2019/SAMN10977276\\_lo\\_noTNFA\\_S3\\_L008\\_R1\\_001.fastq.gz & /nfs/lab/mokino/islet\\_ATAC/27mar2019/SAMN10977276\\_lo\\_noTNFA\\_S3\\_L008\\_R2\\_001.fastq.gz & SAMN10977276 & 2cyt-lo & SAMN10977276\\_2cyt-lo\\_24h\\\\\n",
       "\t35 & SAMN10977276 & SAMN10977276\\_untreated & 24 & untreated & X.nfs.lab.projects.islet\\_cytok.data.ATACseq.bam.untreated\\_SAMN10977276.sort.filt.rmdup.bam  & untreated\\_SAMN10977276.sort.filt.rmdup.bam  & /nfs/lab/projects/islet\\_cytok/data/ATACseq/bam/untreated\\_SAMN10977276.sort.filt.rmdup.bam  & /nfs/lab/projects/islet\\_cytok/data/ATACseq/peaks/untreated\\_SAMN10977276\\_peaks.narrowPeak  & /nfs/lab/mokino/islet\\_ATAC/27mar2019/SAMN10977276\\_untreated\\_S5\\_L008\\_R1\\_001.fastq.gz & /nfs/lab/mokino/islet\\_ATAC/27mar2019/SAMN10977276\\_untreated\\_S5\\_L008\\_R2\\_001.fastq.gz & SAMN10977276 & untreat & SAMN10977276\\_untreat\\_24h\\\\\n",
       "\\end{tabular}\n"
      ],
      "text/markdown": [
       "\n",
       "A data.frame: 5 × 13\n",
       "\n",
       "| <!--/--> | donor &lt;chr&gt; | treatment &lt;chr&gt; | time &lt;int&gt; | condition &lt;chr&gt; | bam_x &lt;chr&gt; | bam &lt;chr&gt; | bam_path &lt;chr&gt; | peaks &lt;chr&gt; | reads_1 &lt;chr&gt; | reads_2 &lt;chr&gt; | recode &lt;chr&gt; | treat &lt;chr&gt; | sampname &lt;chr&gt; |\n",
       "|---|---|---|---|---|---|---|---|---|---|---|---|---|---|\n",
       "| 11 | SAMN10977276 | SAMN10977276_hi        | 24 | hi        | X.nfs.lab.projects.islet_cytok.data.ATACseq.bam.SAMN10977276_hi.sort.filt.rmdup.bam         | SAMN10977276_hi.sort.filt.rmdup.bam         | /nfs/lab/projects/islet_cytok/data/ATACseq/bam/SAMN10977276_hi.sort.filt.rmdup.bam         | /nfs/lab/projects/islet_cytok/data/ATACseq/peaks/SAMN10977276_hi_peaks.narrowPeak         | /nfs/lab/mokino/islet_ATAC/27mar2019/SAMN10977276_hi_S1_L008_R1_001.fastq.gz        | /nfs/lab/mokino/islet_ATAC/27mar2019/SAMN10977276_hi_S1_L008_R2_001.fastq.gz        | SAMN10977276 | 3cyt-hi | SAMN10977276_3cyt-hi_24h |\n",
       "| 16 | SAMN10977276 | SAMN10977276_hi_noTNFA | 24 | hi2       | X.nfs.lab.projects.islet_cytok.data.ATACseq.bam.hi_noTNFA_SAMN10977276.sort.filt.rmdup.bam  | hi_noTNFA_SAMN10977276.sort.filt.rmdup.bam  | /nfs/lab/projects/islet_cytok/data/ATACseq/bam/hi_noTNFA_SAMN10977276.sort.filt.rmdup.bam  | /nfs/lab/projects/islet_cytok/data/ATACseq/peaks/hi_noTNFA_SAMN10977276_peaks.narrowPeak  | /nfs/lab/mokino/islet_ATAC/27mar2019/SAMN10977276_hi_noTNFA_S2_L008_R1_001.fastq.gz | /nfs/lab/mokino/islet_ATAC/27mar2019/SAMN10977276_hi_noTNFA_S2_L008_R2_001.fastq.gz | SAMN10977276 | 2cyt-hi | SAMN10977276_2cyt-hi_24h |\n",
       "| 19 | SAMN10977276 | SAMN10977276_lo        | 24 | lo        | X.nfs.lab.projects.islet_cytok.data.ATACseq.bam.low_SAMN10977276.sort.filt.rmdup.bam        | low_SAMN10977276.sort.filt.rmdup.bam        | /nfs/lab/projects/islet_cytok/data/ATACseq/bam/low_SAMN10977276.sort.filt.rmdup.bam        | /nfs/lab/projects/islet_cytok/data/ATACseq/peaks/low_SAMN10977276_peaks.narrowPeak        | /nfs/lab/mokino/islet_ATAC/27mar2019/SAMN10977276_lo_S4_L008_R1_001.fastq.gz        | /nfs/lab/mokino/islet_ATAC/27mar2019/SAMN10977276_lo_S4_L008_R2_001.fastq.gz        | SAMN10977276 | 3cyt-lo | SAMN10977276_3cyt-lo_24h |\n",
       "| 22 | SAMN10977276 | SAMN10977276_lo_noTNFA | 24 | lo2       | X.nfs.lab.projects.islet_cytok.data.ATACseq.bam.low_noTNFA_SAMN10977276.sort.filt.rmdup.bam | low_noTNFA_SAMN10977276.sort.filt.rmdup.bam | /nfs/lab/projects/islet_cytok/data/ATACseq/bam/low_noTNFA_SAMN10977276.sort.filt.rmdup.bam | /nfs/lab/projects/islet_cytok/data/ATACseq/peaks/low_noTNFA_SAMN10977276_peaks.narrowPeak | /nfs/lab/mokino/islet_ATAC/27mar2019/SAMN10977276_lo_noTNFA_S3_L008_R1_001.fastq.gz | /nfs/lab/mokino/islet_ATAC/27mar2019/SAMN10977276_lo_noTNFA_S3_L008_R2_001.fastq.gz | SAMN10977276 | 2cyt-lo | SAMN10977276_2cyt-lo_24h |\n",
       "| 35 | SAMN10977276 | SAMN10977276_untreated | 24 | untreated | X.nfs.lab.projects.islet_cytok.data.ATACseq.bam.untreated_SAMN10977276.sort.filt.rmdup.bam  | untreated_SAMN10977276.sort.filt.rmdup.bam  | /nfs/lab/projects/islet_cytok/data/ATACseq/bam/untreated_SAMN10977276.sort.filt.rmdup.bam  | /nfs/lab/projects/islet_cytok/data/ATACseq/peaks/untreated_SAMN10977276_peaks.narrowPeak  | /nfs/lab/mokino/islet_ATAC/27mar2019/SAMN10977276_untreated_S5_L008_R1_001.fastq.gz | /nfs/lab/mokino/islet_ATAC/27mar2019/SAMN10977276_untreated_S5_L008_R2_001.fastq.gz | SAMN10977276 | untreat | SAMN10977276_untreat_24h |\n",
       "\n"
      ],
      "text/plain": [
       "   donor        treatment              time condition\n",
       "11 SAMN10977276 SAMN10977276_hi        24   hi       \n",
       "16 SAMN10977276 SAMN10977276_hi_noTNFA 24   hi2      \n",
       "19 SAMN10977276 SAMN10977276_lo        24   lo       \n",
       "22 SAMN10977276 SAMN10977276_lo_noTNFA 24   lo2      \n",
       "35 SAMN10977276 SAMN10977276_untreated 24   untreated\n",
       "   bam_x                                                                                      \n",
       "11 X.nfs.lab.projects.islet_cytok.data.ATACseq.bam.SAMN10977276_hi.sort.filt.rmdup.bam        \n",
       "16 X.nfs.lab.projects.islet_cytok.data.ATACseq.bam.hi_noTNFA_SAMN10977276.sort.filt.rmdup.bam \n",
       "19 X.nfs.lab.projects.islet_cytok.data.ATACseq.bam.low_SAMN10977276.sort.filt.rmdup.bam       \n",
       "22 X.nfs.lab.projects.islet_cytok.data.ATACseq.bam.low_noTNFA_SAMN10977276.sort.filt.rmdup.bam\n",
       "35 X.nfs.lab.projects.islet_cytok.data.ATACseq.bam.untreated_SAMN10977276.sort.filt.rmdup.bam \n",
       "   bam                                        \n",
       "11 SAMN10977276_hi.sort.filt.rmdup.bam        \n",
       "16 hi_noTNFA_SAMN10977276.sort.filt.rmdup.bam \n",
       "19 low_SAMN10977276.sort.filt.rmdup.bam       \n",
       "22 low_noTNFA_SAMN10977276.sort.filt.rmdup.bam\n",
       "35 untreated_SAMN10977276.sort.filt.rmdup.bam \n",
       "   bam_path                                                                                  \n",
       "11 /nfs/lab/projects/islet_cytok/data/ATACseq/bam/SAMN10977276_hi.sort.filt.rmdup.bam        \n",
       "16 /nfs/lab/projects/islet_cytok/data/ATACseq/bam/hi_noTNFA_SAMN10977276.sort.filt.rmdup.bam \n",
       "19 /nfs/lab/projects/islet_cytok/data/ATACseq/bam/low_SAMN10977276.sort.filt.rmdup.bam       \n",
       "22 /nfs/lab/projects/islet_cytok/data/ATACseq/bam/low_noTNFA_SAMN10977276.sort.filt.rmdup.bam\n",
       "35 /nfs/lab/projects/islet_cytok/data/ATACseq/bam/untreated_SAMN10977276.sort.filt.rmdup.bam \n",
       "   peaks                                                                                    \n",
       "11 /nfs/lab/projects/islet_cytok/data/ATACseq/peaks/SAMN10977276_hi_peaks.narrowPeak        \n",
       "16 /nfs/lab/projects/islet_cytok/data/ATACseq/peaks/hi_noTNFA_SAMN10977276_peaks.narrowPeak \n",
       "19 /nfs/lab/projects/islet_cytok/data/ATACseq/peaks/low_SAMN10977276_peaks.narrowPeak       \n",
       "22 /nfs/lab/projects/islet_cytok/data/ATACseq/peaks/low_noTNFA_SAMN10977276_peaks.narrowPeak\n",
       "35 /nfs/lab/projects/islet_cytok/data/ATACseq/peaks/untreated_SAMN10977276_peaks.narrowPeak \n",
       "   reads_1                                                                            \n",
       "11 /nfs/lab/mokino/islet_ATAC/27mar2019/SAMN10977276_hi_S1_L008_R1_001.fastq.gz       \n",
       "16 /nfs/lab/mokino/islet_ATAC/27mar2019/SAMN10977276_hi_noTNFA_S2_L008_R1_001.fastq.gz\n",
       "19 /nfs/lab/mokino/islet_ATAC/27mar2019/SAMN10977276_lo_S4_L008_R1_001.fastq.gz       \n",
       "22 /nfs/lab/mokino/islet_ATAC/27mar2019/SAMN10977276_lo_noTNFA_S3_L008_R1_001.fastq.gz\n",
       "35 /nfs/lab/mokino/islet_ATAC/27mar2019/SAMN10977276_untreated_S5_L008_R1_001.fastq.gz\n",
       "   reads_2                                                                            \n",
       "11 /nfs/lab/mokino/islet_ATAC/27mar2019/SAMN10977276_hi_S1_L008_R2_001.fastq.gz       \n",
       "16 /nfs/lab/mokino/islet_ATAC/27mar2019/SAMN10977276_hi_noTNFA_S2_L008_R2_001.fastq.gz\n",
       "19 /nfs/lab/mokino/islet_ATAC/27mar2019/SAMN10977276_lo_S4_L008_R2_001.fastq.gz       \n",
       "22 /nfs/lab/mokino/islet_ATAC/27mar2019/SAMN10977276_lo_noTNFA_S3_L008_R2_001.fastq.gz\n",
       "35 /nfs/lab/mokino/islet_ATAC/27mar2019/SAMN10977276_untreated_S5_L008_R2_001.fastq.gz\n",
       "   recode       treat   sampname                \n",
       "11 SAMN10977276 3cyt-hi SAMN10977276_3cyt-hi_24h\n",
       "16 SAMN10977276 2cyt-hi SAMN10977276_2cyt-hi_24h\n",
       "19 SAMN10977276 3cyt-lo SAMN10977276_3cyt-lo_24h\n",
       "22 SAMN10977276 2cyt-lo SAMN10977276_2cyt-lo_24h\n",
       "35 SAMN10977276 untreat SAMN10977276_untreat_24h"
      ]
     },
     "metadata": {},
     "output_type": "display_data"
    }
   ],
   "source": [
    "meta[meta$recode=='SAMN10977276',]"
   ]
  },
  {
   "cell_type": "code",
   "execution_count": null,
   "metadata": {},
   "outputs": [],
   "source": []
  }
 ],
 "metadata": {
  "kernelspec": {
   "display_name": "R 4.1",
   "language": "R",
   "name": "ir41"
  },
  "language_info": {
   "codemirror_mode": "r",
   "file_extension": ".r",
   "mimetype": "text/x-r-source",
   "name": "R",
   "pygments_lexer": "r",
   "version": "4.1.1"
  }
 },
 "nbformat": 4,
 "nbformat_minor": 4
}
