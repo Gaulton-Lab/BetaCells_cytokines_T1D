{
 "cells": [
  {
   "cell_type": "code",
   "execution_count": 16,
   "id": "ordinary-cleaning",
   "metadata": {},
   "outputs": [],
   "source": [
    "suppressMessages(library(Matrix))\n",
    "suppressMessages(library(chromVAR))\n",
    "suppressMessages(library(motifmatchr))\n",
    "suppressMessages(library(SummarizedExperiment))\n",
    "suppressMessages(library(BSgenome.Hsapiens.UCSC.hg19))\n",
    "suppressMessages(library(ggplot2))\n",
    "suppressMessages(library(stringr))\n",
    "register(MulticoreParam(8, progressbar = TRUE))\n",
    "set.seed(0)"
   ]
  },
  {
   "cell_type": "code",
   "execution_count": 280,
   "id": "upset-plate",
   "metadata": {},
   "outputs": [],
   "source": [
    "suppressMessages(library(pheatmap))\n",
    "suppressMessages(library(RColorBrewer))"
   ]
  },
  {
   "cell_type": "code",
   "execution_count": 3,
   "id": "naval-johns",
   "metadata": {},
   "outputs": [],
   "source": [
    "wd <- '/nfs/lab/projects/islet_cytok/analysis/snATAC/chromVAR/'"
   ]
  },
  {
   "cell_type": "code",
   "execution_count": 6,
   "id": "explicit-invasion",
   "metadata": {},
   "outputs": [],
   "source": [
    "metr = list.files(wd)[grepl(\"qc\",list.files(wd) )]"
   ]
  },
  {
   "cell_type": "code",
   "execution_count": 8,
   "id": "macro-forty",
   "metadata": {},
   "outputs": [],
   "source": [
    "metrics <- data.frame()\n",
    "for (fi in metr){\n",
    "t1 = read.table(file.path(wd, fi), sep='\\t', header=TRUE, row.names=1, stringsAsFactors=FALSE)\n",
    "metrics = rbind(metrics,t1)\n",
    "    }"
   ]
  },
  {
   "cell_type": "code",
   "execution_count": 20,
   "id": "certain-usage",
   "metadata": {},
   "outputs": [],
   "source": [
    "metrics = metrics[rownames(clusters),]"
   ]
  },
  {
   "cell_type": "code",
   "execution_count": 11,
   "id": "threatened-telescope",
   "metadata": {},
   "outputs": [],
   "source": [
    "clusters <- read.table(file.path(wd, 'onlyIslets_umap.cytunt.txt'), sep='\\t', header=TRUE, row.names=1, stringsAsFactors=FALSE)"
   ]
  },
  {
   "cell_type": "code",
   "execution_count": 14,
   "id": "paperback-synthesis",
   "metadata": {},
   "outputs": [
    {
     "data": {
      "text/html": [
       "<style>\n",
       ".list-inline {list-style: none; margin:0; padding: 0}\n",
       ".list-inline>li {display: inline-block}\n",
       ".list-inline>li:not(:last-child)::after {content: \"\\00b7\"; padding: 0 .5ex}\n",
       "</style>\n",
       "<ol class=list-inline><li>7829</li><li>4</li></ol>\n"
      ],
      "text/latex": [
       "\\begin{enumerate*}\n",
       "\\item 7829\n",
       "\\item 4\n",
       "\\end{enumerate*}\n"
      ],
      "text/markdown": [
       "1. 7829\n",
       "2. 4\n",
       "\n",
       "\n"
      ],
      "text/plain": [
       "[1] 7829    4"
      ]
     },
     "metadata": {},
     "output_type": "display_data"
    }
   ],
   "source": [
    "dim(clusters)"
   ]
  },
  {
   "cell_type": "code",
   "execution_count": 17,
   "id": "academic-schema",
   "metadata": {},
   "outputs": [],
   "source": [
    "clusters$treat = str_split_fixed(rownames(clusters), \"\\\\_\",5)[,3]\n",
    "clusters$treat2 = substr(str_split_fixed(rownames(clusters), \"\\\\_\",2)[,1],5 ,7)\n",
    "clusters$treat[clusters$treat==\"\"]<-clusters$treat2[clusters$treat==\"\"]"
   ]
  },
  {
   "cell_type": "code",
   "execution_count": 18,
   "id": "weighted-better",
   "metadata": {},
   "outputs": [
    {
     "data": {
      "text/plain": [
       "\n",
       " cyt  unt \n",
       "3882 3947 "
      ]
     },
     "metadata": {},
     "output_type": "display_data"
    }
   ],
   "source": [
    "table(clusters$treat)"
   ]
  },
  {
   "cell_type": "code",
   "execution_count": 19,
   "id": "exclusive-colleague",
   "metadata": {},
   "outputs": [],
   "source": [
    "sc.data <- read.table(file.path(wd, 'peaks_cytunt.lf_mtx.gz'), sep='\\t', header=TRUE)\n",
    "sc.data['binary'] <- 1\n",
    "sc.data = droplevels(sc.data[sc.data$peak!=\"peak\",])"
   ]
  },
  {
   "cell_type": "code",
   "execution_count": 21,
   "id": "genuine-darkness",
   "metadata": {},
   "outputs": [],
   "source": [
    "colnames(sc.data)[2] = \"barcode\"\n",
    "sc.data.stored = sc.data"
   ]
  },
  {
   "cell_type": "code",
   "execution_count": 22,
   "id": "equipped-perry",
   "metadata": {},
   "outputs": [],
   "source": [
    "sc.data <- with(sc.data, sparseMatrix(i=as.numeric(peak), j=as.numeric(barcode), x=binary, dimnames=list(levels(peak), levels(barcode))))\n",
    "sc.data <- sc.data[,colnames(sc.data) %in% rownames(clusters)]\n",
    "rownames(sc.data) <- paste0('chr', gsub('-','_', gsub(':','_',rownames(sc.data))))"
   ]
  },
  {
   "cell_type": "code",
   "execution_count": 207,
   "id": "sustained-acquisition",
   "metadata": {},
   "outputs": [],
   "source": [
    "bed = str_split_fixed(rownames(sc.data), \"\\\\_\", 3)\n",
    "gr= GRanges(seqnames = bed[,1], ranges = IRanges(start = as.numeric(bed[,2]), end = as.numeric(bed[,3])))\n",
    "fragment.counts <- SummarizedExperiment(assays=list(counts=sc.data), rowRanges=gr)"
   ]
  },
  {
   "cell_type": "code",
   "execution_count": 211,
   "id": "standard-disposal",
   "metadata": {},
   "outputs": [
    {
     "data": {
      "text/html": [
       "<style>\n",
       ".list-inline {list-style: none; margin:0; padding: 0}\n",
       ".list-inline>li {display: inline-block}\n",
       ".list-inline>li:not(:last-child)::after {content: \"\\00b7\"; padding: 0 .5ex}\n",
       "</style>\n",
       "<ol class=list-inline><li>7829</li><li>6</li></ol>\n"
      ],
      "text/latex": [
       "\\begin{enumerate*}\n",
       "\\item 7829\n",
       "\\item 6\n",
       "\\end{enumerate*}\n"
      ],
      "text/markdown": [
       "1. 7829\n",
       "2. 6\n",
       "\n",
       "\n"
      ],
      "text/plain": [
       "[1] 7829    6"
      ]
     },
     "metadata": {},
     "output_type": "display_data"
    }
   ],
   "source": [
    "dim(clusters)"
   ]
  },
  {
   "cell_type": "code",
   "execution_count": 212,
   "id": "interim-release",
   "metadata": {},
   "outputs": [
    {
     "data": {
      "text/html": [
       "<style>\n",
       ".list-inline {list-style: none; margin:0; padding: 0}\n",
       ".list-inline>li {display: inline-block}\n",
       ".list-inline>li:not(:last-child)::after {content: \"\\00b7\"; padding: 0 .5ex}\n",
       "</style>\n",
       "<ol class=list-inline><li>288937</li><li>7829</li></ol>\n"
      ],
      "text/latex": [
       "\\begin{enumerate*}\n",
       "\\item 288937\n",
       "\\item 7829\n",
       "\\end{enumerate*}\n"
      ],
      "text/markdown": [
       "1. 288937\n",
       "2. 7829\n",
       "\n",
       "\n"
      ],
      "text/plain": [
       "[1] 288937   7829"
      ]
     },
     "metadata": {},
     "output_type": "display_data"
    }
   ],
   "source": [
    "dim(assay(fragment.counts ))"
   ]
  },
  {
   "cell_type": "code",
   "execution_count": 213,
   "id": "funny-palmer",
   "metadata": {},
   "outputs": [
    {
     "data": {
      "text/plain": [
       "\n",
       "     acinar       alpha        beta       delta endothelial    stellate \n",
       "        327        2113        4267         541         219         362 "
      ]
     },
     "metadata": {},
     "output_type": "display_data"
    }
   ],
   "source": [
    "table(clusters$cluster)"
   ]
  },
  {
   "cell_type": "code",
   "execution_count": 214,
   "id": "based-tutorial",
   "metadata": {},
   "outputs": [
    {
     "data": {
      "text/plain": [
       "             \n",
       "               cyt  unt\n",
       "  acinar       120  207\n",
       "  alpha       1119  994\n",
       "  beta        2056 2211\n",
       "  delta        256  285\n",
       "  endothelial  116  103\n",
       "  stellate     215  147"
      ]
     },
     "metadata": {},
     "output_type": "display_data"
    }
   ],
   "source": [
    "table(clusters$cluster, clusters$treat)"
   ]
  },
  {
   "cell_type": "code",
   "execution_count": 36,
   "id": "metropolitan-dodge",
   "metadata": {},
   "outputs": [],
   "source": [
    "jaspar.motifs <- getJasparMotifs()"
   ]
  },
  {
   "cell_type": "code",
   "execution_count": 220,
   "id": "oriented-leave",
   "metadata": {},
   "outputs": [
    {
     "name": "stdout",
     "output_type": "stream",
     "text": [
      "  |======================================================================| 100%\n",
      "\n"
     ]
    }
   ],
   "source": [
    "### Full dataset\n",
    "colData(fragment.counts) <- cbind(colData(fragment.counts), metrics[rownames(colData(fragment.counts)),], \n",
    "                                  clusters[rownames(colData(fragment.counts)),])\n",
    "colData(fragment.counts)$depth <-colData(fragment.counts)$unique_usable_reads\n",
    "colData(fragment.counts)$fragments_per_sample <-colData(fragment.counts)$reads_in_peaks\n",
    "fragment.counts <- addGCBias(fragment.counts, genome=BSgenome.Hsapiens.UCSC.hg19)\n",
    "fragment.counts <- filterSamples(fragment.counts, min_depth=1500, min_in_peaks=.15)#, plot=TRUE)\n",
    "fragment.counts <- filterPeaks(fragment.counts, non_overlapping=TRUE)\n",
    "motif.ix <- matchMotifs(jaspar.motifs, fragment.counts, genome=BSgenome.Hsapiens.UCSC.hg19)\n",
    "# computing deivations\n",
    "\n",
    "expected <- computeExpectations(fragment.counts)\n",
    "dev <- computeDeviations(object=fragment.counts, annotations=motif.ix, expectation=expected)\n",
    "write.table(deviationScores(dev), file= paste0(wd,'chromVAR_dev_scores.txt'), sep='\\t', quote=FALSE)"
   ]
  },
  {
   "cell_type": "code",
   "execution_count": 221,
   "id": "laden-spencer",
   "metadata": {},
   "outputs": [
    {
     "name": "stdout",
     "output_type": "stream",
     "text": [
      "  |======================================================================| 100%\n",
      "\n"
     ]
    }
   ],
   "source": [
    "variability <- computeVariability(dev)\n",
    "write.table(variability, file=paste0(wd,'chromVAR_variability.txt'), sep='\\t', quote=FALSE)"
   ]
  },
  {
   "cell_type": "code",
   "execution_count": null,
   "id": "educational-bulletin",
   "metadata": {},
   "outputs": [],
   "source": [
    "### deviations by cell-type"
   ]
  },
  {
   "cell_type": "code",
   "execution_count": 222,
   "id": "focal-physics",
   "metadata": {},
   "outputs": [
    {
     "name": "stdout",
     "output_type": "stream",
     "text": [
      "  |======================================================================| 100%\n",
      "\n",
      "  |======================================================================| 100%\n",
      "\n",
      "  |======================================================================| 100%\n",
      "\n",
      "  |======================================================================| 100%\n",
      "\n",
      "  |======================================================================| 100%\n",
      "\n",
      "  |======================================================================| 100%\n",
      "\n",
      "  |======================================================================| 100%\n",
      "\n",
      "  |======================================================================| 100%\n",
      "\n",
      "  |======================================================================| 100%\n",
      "\n",
      "  |======================================================================| 100%\n",
      "\n",
      "  |======================================================================| 100%\n",
      "\n",
      "  |======================================================================| 100%\n",
      "\n"
     ]
    }
   ],
   "source": [
    "for (cell in unique(clusters$cluster)){\n",
    "test <- fragment.counts[, fragment.counts$cluster == cell]\n",
    "test <- filterPeaks(test, non_overlapping=TRUE)\n",
    "motif.ix <- matchMotifs(jaspar.motifs, test, genome=BSgenome.Hsapiens.UCSC.hg19)\n",
    "expected <- computeExpectations(test)\n",
    "dev <- computeDeviations(object=test, annotations=motif.ix, expectation=expected)\n",
    "write.table(deviationScores(dev), file= paste0(wd,cell, '.chromVAR_dev_scores.txt'), sep='\\t', quote=FALSE)\n",
    "variability <- computeVariability(dev)\n",
    "write.table(variability, file=paste0(wd,cell,'.chromVAR_variability.txt'), sep='\\t', quote=FALSE)\n",
    "    }\n"
   ]
  },
  {
   "cell_type": "code",
   "execution_count": 223,
   "id": "african-channel",
   "metadata": {},
   "outputs": [],
   "source": [
    "### deviations by treatment"
   ]
  },
  {
   "cell_type": "code",
   "execution_count": 224,
   "id": "selective-ensemble",
   "metadata": {},
   "outputs": [
    {
     "name": "stdout",
     "output_type": "stream",
     "text": [
      "  |======================================================================| 100%\n",
      "\n",
      "  |======================================================================| 100%\n",
      "\n",
      "  |======================================================================| 100%\n",
      "\n",
      "  |======================================================================| 100%\n",
      "\n"
     ]
    }
   ],
   "source": [
    "for (cell in unique(clusters$treat)){\n",
    "test <- fragment.counts[, fragment.counts$treat == cell]\n",
    "test <- filterPeaks(test, non_overlapping=TRUE)\n",
    "motif.ix <- matchMotifs(jaspar.motifs, test, genome=BSgenome.Hsapiens.UCSC.hg19)\n",
    "expected <- computeExpectations(test)\n",
    "dev <- computeDeviations(object=test, annotations=motif.ix, expectation=expected)\n",
    "write.table(deviationScores(dev), file= paste0(wd,cell, '.chromVAR_dev_scores.txt'), sep='\\t', quote=FALSE)\n",
    "variability <- computeVariability(dev)\n",
    "write.table(variability, file=paste0(wd,cell,'.chromVAR_variability.txt'), sep='\\t', quote=FALSE)\n",
    "    }\n"
   ]
  },
  {
   "cell_type": "code",
   "execution_count": 54,
   "id": "floppy-extension",
   "metadata": {},
   "outputs": [
    {
     "data": {
      "text/html": [
       "'/nfs/lab/projects/islet_cytok/notebooks'"
      ],
      "text/latex": [
       "'/nfs/lab/projects/islet\\_cytok/notebooks'"
      ],
      "text/markdown": [
       "'/nfs/lab/projects/islet_cytok/notebooks'"
      ],
      "text/plain": [
       "[1] \"/nfs/lab/projects/islet_cytok/notebooks\""
      ]
     },
     "metadata": {},
     "output_type": "display_data"
    }
   ],
   "source": [
    "getwd()"
   ]
  },
  {
   "cell_type": "code",
   "execution_count": 86,
   "id": "balanced-champagne",
   "metadata": {},
   "outputs": [],
   "source": [
    "lseq <- function(from=1, to=100000, length.out=6) {\n",
    "  # logarithmic spaced sequence\n",
    "  #  from library(\"emdbook\")\n",
    "  exp(seq(log(from), log(to), length.out = length.out))\n",
    "}\n"
   ]
  },
  {
   "cell_type": "code",
   "execution_count": 245,
   "id": "mighty-spectacular",
   "metadata": {},
   "outputs": [
    {
     "data": {
      "text/html": [
       "<style>\n",
       ".list-inline {list-style: none; margin:0; padding: 0}\n",
       ".list-inline>li {display: inline-block}\n",
       ".list-inline>li:not(:last-child)::after {content: \"\\00b7\"; padding: 0 .5ex}\n",
       "</style>\n",
       "<ol class=list-inline><li>386</li><li>467</li></ol>\n"
      ],
      "text/latex": [
       "\\begin{enumerate*}\n",
       "\\item 386\n",
       "\\item 467\n",
       "\\end{enumerate*}\n"
      ],
      "text/markdown": [
       "1. 386\n",
       "2. 467\n",
       "\n",
       "\n"
      ],
      "text/plain": [
       "[1] 386 467"
      ]
     },
     "metadata": {},
     "output_type": "display_data"
    }
   ],
   "source": [
    "dim(devtab)"
   ]
  },
  {
   "cell_type": "code",
   "execution_count": 244,
   "id": "executive-plate",
   "metadata": {},
   "outputs": [
    {
     "data": {
      "text/html": [
       "<style>\n",
       ".dl-inline {width: auto; margin:0; padding: 0}\n",
       ".dl-inline>dt, .dl-inline>dd {float: none; width: auto; display: inline-block}\n",
       ".dl-inline>dt::after {content: \":\\0020\"; padding-right: .5ex}\n",
       ".dl-inline>dt:not(:first-of-type) {padding-left: .5ex}\n",
       "</style><dl class=dl-inline><dt>NFIL3</dt><dd>-0.430009750852765</dd><dt>FOXF2</dt><dd>-0.178804622401548</dd><dt>FOXD1</dt><dd>-0.183523751488494</dd><dt>IRF2</dt><dd>6.26639459557937</dd><dt>MZF1</dt><dd>0.302481121746744</dd><dt>MZF1(var.2)</dt><dd>0.385222891079306</dd></dl>\n"
      ],
      "text/latex": [
       "\\begin{description*}\n",
       "\\item[NFIL3] -0.430009750852765\n",
       "\\item[FOXF2] -0.178804622401548\n",
       "\\item[FOXD1] -0.183523751488494\n",
       "\\item[IRF2] 6.26639459557937\n",
       "\\item[MZF1] 0.302481121746744\n",
       "\\item[MZF1(var.2)] 0.385222891079306\n",
       "\\end{description*}\n"
      ],
      "text/markdown": [
       "NFIL3\n",
       ":   -0.430009750852765FOXF2\n",
       ":   -0.178804622401548FOXD1\n",
       ":   -0.183523751488494IRF2\n",
       ":   6.26639459557937MZF1\n",
       ":   0.302481121746744MZF1(var.2)\n",
       ":   0.385222891079306\n",
       "\n"
      ],
      "text/plain": [
       "      NFIL3       FOXF2       FOXD1        IRF2        MZF1 MZF1(var.2) \n",
       " -0.4300098  -0.1788046  -0.1835238   6.2663946   0.3024811   0.3852229 "
      ]
     },
     "metadata": {},
     "output_type": "display_data"
    }
   ],
   "source": [
    "head(diffs)"
   ]
  },
  {
   "cell_type": "code",
   "execution_count": 252,
   "id": "better-flood",
   "metadata": {},
   "outputs": [
    {
     "data": {
      "text/html": [
       "<strong>png:</strong> 2"
      ],
      "text/latex": [
       "\\textbf{png:} 2"
      ],
      "text/markdown": [
       "**png:** 2"
      ],
      "text/plain": [
       "png \n",
       "  2 "
      ]
     },
     "metadata": {},
     "output_type": "display_data"
    }
   ],
   "source": [
    "pdf(paste0(wd, \"ChromvarRankDiff.pdf\"))\n",
    "difftab=matrix(NA, ncol = 6, nrow = 386)\n",
    "par(mfrow=c(2,3), mar = c(2,2,2,2))\n",
    "i = 0\n",
    "for (cell in unique(clusters$cluster)){\n",
    "i= i+1\n",
    "devtab     = read.table(  paste0(wd,cell, '.chromVAR_dev_scores.txt'), check.names=F)\n",
    "#variability= read.table(paste0(wd,cell,'.chromVAR_variability.txt'))\n",
    "#topvar = variability[variability$variability>1.2,]\n",
    "#devsub = devtab[match(rownames(topvar), rownames(devtab)),]\n",
    "devsub= devtab\n",
    "rownames(devsub) = str_split_fixed(rownames(devsub), \"\\\\_\", 2)[,2]\n",
    "\n",
    "unt = rownames(clusters2)[clusters2$cluster==cell & clusters2$treat=='unt']\n",
    "cyt = rownames(clusters2)[clusters2$cluster==cell & clusters2$treat=='cyt']\n",
    "\n",
    "diffs = rowMeans(devsub[,colnames(devsub)%in% cyt])-rowMeans(devsub[,colnames(devsub)%in% unt])\n",
    "\n",
    "    a=20\n",
    "    OFFSET = c(0.5,2,0.5,3,2,0)[i]\n",
    "plot(1:length(diffs) ,-sort(-diffs), main=cell, ,pch=16,col=\"forestgreen\",\n",
    "      ylim=c(-3.5, 8), ylab=\"Delta dev.score CYT-UNTR\")\n",
    "    \n",
    "    text(lseq(5,100,length.out = 15)+a,  cex=0.8,\n",
    "         seq(max(diffs)+ OFFSET,2,length.out = 15)  , \n",
    "         names(-sort(-diffs)[1:15]),pos=4)\n",
    "    \n",
    "    text(-lseq(5,100,length.out = 10)+250, cex=0.8,\n",
    "         seq(-3.5,-0.5,length.out = 10), \n",
    "         names(sort(diffs)[1:10]),pos=2) \n",
    "    abline(h=0, col=\"gray\")\n",
    "\n",
    "    arrows(1:15,-sort(-diffs)[1:15], lseq(5,100,length.out = 15)+a,\n",
    "       seq(max(diffs)+ OFFSET,2,length.out = 15) , \n",
    "           length = 0 )\n",
    "\n",
    "    arrows(length(diffs):(length(diffs)-9),sort(diffs)[1:10],\n",
    "       -lseq(5,100,length.out = 10)+250,\n",
    "       seq(-3.5,-0.5,length.out = 10),length = 0 )\n",
    "difftab[,i]<-diffs\n",
    "    }\n",
    "dev.off()"
   ]
  },
  {
   "cell_type": "code",
   "execution_count": 254,
   "id": "level-mining",
   "metadata": {},
   "outputs": [],
   "source": [
    "colnames(difftab) = unique(clusters$cluster)\n",
    "rownames(difftab) = names(diffs)"
   ]
  },
  {
   "cell_type": "code",
   "execution_count": 257,
   "id": "senior-consistency",
   "metadata": {},
   "outputs": [],
   "source": [
    "write.table(difftab, paste0(wd, \"DiffScore_cytunt_percelltype.tsv\"), sep=\"\\t\", quote=F)"
   ]
  },
  {
   "cell_type": "code",
   "execution_count": 264,
   "id": "cognitive-greenhouse",
   "metadata": {},
   "outputs": [],
   "source": [
    "vars = matrixStats::rowVars(difftab)"
   ]
  },
  {
   "cell_type": "code",
   "execution_count": 269,
   "id": "unlimited-inspector",
   "metadata": {},
   "outputs": [],
   "source": [
    "sel1 = difftab[order(-vars),]"
   ]
  },
  {
   "cell_type": "code",
   "execution_count": 309,
   "id": "dietary-painting",
   "metadata": {},
   "outputs": [],
   "source": [
    "## most variable motifs difference between cell types\n",
    "mat = sel1[1:50,]\n",
    "pheatmap(mat,  breaks=seq(-max(abs(mat)), max(abs(mat)),length.out=100 ), cellwidth =25 ,cellheight = 7,\n",
    "         fontsize_row = 8,\n",
    "         file = paste0(wd, \"heatmap_mostvar.pdf\"),\n",
    "         \n",
    "         col= colorRampPalette(rev(brewer.pal(9,'RdBu')))(100))"
   ]
  },
  {
   "cell_type": "code",
   "execution_count": 287,
   "id": "occasional-advocacy",
   "metadata": {},
   "outputs": [],
   "source": [
    "sortab = apply(difftab, 2, function(x) names(x)[order(x)])"
   ]
  },
  {
   "cell_type": "code",
   "execution_count": 294,
   "id": "opened-facility",
   "metadata": {},
   "outputs": [],
   "source": [
    "topdiff = unique(c(head(sortab,15), tail(sortab,15)))"
   ]
  },
  {
   "cell_type": "code",
   "execution_count": 310,
   "id": "alternative-yesterday",
   "metadata": {},
   "outputs": [],
   "source": [
    "## most variable motifs difference between cell types\n",
    "mat = difftab[topdiff,]\n",
    "pheatmap(mat, \n",
    "         breaks=seq(-max(abs(mat)), max(abs(mat)),length.out=100 ), \n",
    "          cellwidth =25 ,cellheight = 7, fontsize_row = 8,\n",
    "         file = paste0(wd, \"heatmap_mostdiff.pdf\"),\n",
    "         col= colorRampPalette(rev(brewer.pal(9,'RdBu')))(100))"
   ]
  },
  {
   "cell_type": "markdown",
   "id": "artistic-collaboration",
   "metadata": {},
   "source": [
    "variability within treatrment"
   ]
  },
  {
   "cell_type": "code",
   "execution_count": 312,
   "id": "frequent-lindsay",
   "metadata": {},
   "outputs": [
    {
     "name": "stdout",
     "output_type": "stream",
     "text": [
      "[1] \"beta\"\n",
      "[1] \"alpha\"\n",
      "[1] \"acinar\"\n",
      "[1] \"endothelial\"\n",
      "[1] \"stellate\"\n",
      "[1] \"delta\"\n",
      "[1] \"beta\"\n",
      "[1] \"alpha\"\n",
      "[1] \"acinar\"\n",
      "[1] \"endothelial\"\n",
      "[1] \"stellate\"\n",
      "[1] \"delta\"\n"
     ]
    }
   ],
   "source": [
    "i=0\n",
    "for (tr in unique(clusters$treat)){\n",
    "i= i+1\n",
    "devtab     = read.table(  paste0(wd,tr, '.chromVAR_dev_scores.txt'), check.names=F)\n",
    "variability= read.table(paste0(wd,tr,'.chromVAR_variability.txt'))\n",
    "\n",
    "\n",
    "topvar = variability[variability$variability>1.2,]\n",
    "topvar = topvar[order(topvar$variability, decreasing=T),]\n",
    "\n",
    "devsub = devtab[match(rownames(topvar), rownames(devtab)),]\n",
    "\n",
    "avgs = matrix(0, nrow = nrow(devsub), ncol = length(unique (clusters$cluster)) )\n",
    "colnames(avgs) = unique (clusters$cluster)\n",
    "rownames(avgs) = str_split_fixed(rownames(devsub), \"\\\\_\", 2)[,2]\n",
    "for(clu in unique (clusters$cluster)) {\n",
    "    print(clu)\n",
    "subtab = devsub[,colnames(devsub) %in% rownames(clusters)[clusters$cluster==clu] ]\n",
    "avgs[,clu] = rowMeans(subtab)\n",
    "    }\n",
    "\n",
    "    \n",
    "colnames(avgs)    = paste(colnames(avgs), tr, sep=\".\")\n",
    "    if(i==1){\n",
    "        combo=avgs }else{\n",
    "        combo=merge(combo,avgs,by=\"row.names\")\n",
    "    }\n",
    "    \n",
    "test = t(apply(avgs, 1, function(x) (x-min(x)) / (max(x) -min(x))))\n",
    "\n",
    "my_palette =colorRampPalette( brewer.pal(9, \"YlGnBu\"))(50)\n",
    "               pheatmap(test[1:50,], scale= \"none\", cluster_rows = TRUE, cellwidth = 20, cellheight = 7, \n",
    "         filename = paste0(wd,tr, '_heatmap_norm_avg.pdf'),\n",
    "         fontsize_row = 8, col=my_palette)\n",
    "               }"
   ]
  },
  {
   "cell_type": "code",
   "execution_count": 316,
   "id": "tough-diabetes",
   "metadata": {},
   "outputs": [],
   "source": [
    "rownames(combo) = combo[,1]\n",
    "combo=combo[,-1]"
   ]
  },
  {
   "cell_type": "code",
   "execution_count": 319,
   "id": "still-explorer",
   "metadata": {},
   "outputs": [],
   "source": [
    "vars = matrixStats::rowVars(as.matrix(combo))"
   ]
  },
  {
   "cell_type": "code",
   "execution_count": 321,
   "id": "center-corrections",
   "metadata": {},
   "outputs": [],
   "source": [
    "mat = combo[order(-vars),] \n",
    "pheatmap(mat[1:50,], scale= \"row\", show_rownames = TRUE,fontsize_row = 8,\n",
    "         filename = paste0(wd, 'combo_heatmap_norm_avg_top50.pdf'),\n",
    "         col=my_palette)\n",
    "     "
   ]
  },
  {
   "cell_type": "code",
   "execution_count": 324,
   "id": "caring-component",
   "metadata": {},
   "outputs": [],
   "source": [
    "pheatmap(mat[rownames(mat) %in% topdiff,], scale= \"row\", show_rownames = TRUE,fontsize_row = 6,\n",
    "         filename = paste0(wd, 'combo_heatmap_norm_avg_topdiff.pdf'),\n",
    "         col=my_palette)\n",
    "     "
   ]
  },
  {
   "cell_type": "code",
   "execution_count": 384,
   "id": "amended-cooperative",
   "metadata": {},
   "outputs": [],
   "source": [
    "color = c(\"red3\", \"goldenrod1\")[(abs(difftab[,2]) > abs(difftab[,1])) + 1]"
   ]
  },
  {
   "cell_type": "code",
   "execution_count": null,
   "id": "uniform-comfort",
   "metadata": {},
   "outputs": [],
   "source": []
  },
  {
   "cell_type": "code",
   "execution_count": 387,
   "id": "palestinian-evanescence",
   "metadata": {},
   "outputs": [],
   "source": [
    "abdif = abs(difftab[,2]) - abs(difftab[,1])"
   ]
  },
  {
   "cell_type": "code",
   "execution_count": 404,
   "id": "sought-recorder",
   "metadata": {},
   "outputs": [],
   "source": [
    "top1 = difftab[order(-difftab[,1]),2:1]   \n",
    "top2 = difftab[order(-abdif)  ,2:1]\n",
    "bottom = difftab[order(rowSums(difftab[,2:1])),2:1]   "
   ]
  },
  {
   "cell_type": "code",
   "execution_count": 460,
   "id": "czech-tsunami",
   "metadata": {},
   "outputs": [],
   "source": [
    "mypal = brewer.pal(9,\"YlOrRd\")[8:2]"
   ]
  },
  {
   "cell_type": "code",
   "execution_count": 475,
   "id": "freelance-immune",
   "metadata": {},
   "outputs": [],
   "source": [
    "coco  = mypal[as.numeric(cut(abdif,breaks = seq(max(abdif), min(abdif), length.out=length(mypal))\n",
    "                             ,include.lowest = T))]"
   ]
  },
  {
   "cell_type": "code",
   "execution_count": 478,
   "id": "related-equilibrium",
   "metadata": {},
   "outputs": [
    {
     "data": {
      "text/html": [
       "<strong>png:</strong> 2"
      ],
      "text/latex": [
       "\\textbf{png:} 2"
      ],
      "text/markdown": [
       "**png:** 2"
      ],
      "text/plain": [
       "png \n",
       "  2 "
      ]
     },
     "metadata": {},
     "output_type": "display_data"
    }
   ],
   "source": [
    "pdf(\"/nfs/lab/projects/islet_cytok/analysis/cytokine_figures/chromvar_beta_alpha.pdf\")\n",
    "par(pin=c(4,4))\n",
    "plot(difftab[,2:1], xlim=c(-2,8), ylim=c(-2,8), \n",
    "     pch=16, col=alpha(coco,0.7), cex=1.2)\n",
    "abline(h=0, v=0, col=\"gray\")\n",
    "l = lm(difftab[,1]~ difftab[,2])\n",
    "abline(l, lty=2)\n",
    "text(top1[1:8,], labels = rownames(top1)[1:8], pos=2, cex=0.8)\n",
    "text(bottom[1:10,], labels = rownames(bottom)[1:10], pos=2, cex=0.8)\n",
    "text(top2[1:8,], labels = rownames(top2)[1:8], pos=4, cex=0.8)\n",
    "\n",
    "mtext(line= -2, at = -1, \n",
    "      paste(\"ß=\", round(summary(l)$coefficients[2,1],3)) )\n",
    "plot3D::colkey(mypal, clim=c(max(abdif), min(abdif)), \n",
    "               clab=\"Diff\", add=T, side=4, length=0.5)\n",
    "dev.off()"
   ]
  },
  {
   "cell_type": "code",
   "execution_count": 464,
   "id": "protecting-article",
   "metadata": {},
   "outputs": [
    {
     "data": {
      "image/png": "[encoded data removed]",
      "text/plain": [
       "Plot with title “density.default(x = difftab[, 2])”"
      ]
     },
     "metadata": {
      "image/png": {
       "height": 420,
       "width": 420
      }
     },
     "output_type": "display_data"
    }
   ],
   "source": [
    "#pdf(\"/nfs/lab/projects/islet_cytok/analysis/cytokine_figures/densityeffects_beta_alpha.pdf\")\n",
    "par(pin=c(2,1), mfrow=c(2,2))\n",
    "plot(density(difftab[,2]), xlim=c(-2,8), col=\"goldenrod1\")\n",
    "lines(density(difftab[,1]), col=\"red\")\n",
    "#dev.off()"
   ]
  },
  {
   "cell_type": "code",
   "execution_count": 481,
   "id": "linear-editor",
   "metadata": {},
   "outputs": [
    {
     "data": {
      "text/html": [
       "<style>\n",
       ".list-inline {list-style: none; margin:0; padding: 0}\n",
       ".list-inline>li {display: inline-block}\n",
       ".list-inline>li:not(:last-child)::after {content: \"\\00b7\"; padding: 0 .5ex}\n",
       "</style>\n",
       "<ol class=list-inline><li>386</li><li>6</li></ol>\n"
      ],
      "text/latex": [
       "\\begin{enumerate*}\n",
       "\\item 386\n",
       "\\item 6\n",
       "\\end{enumerate*}\n"
      ],
      "text/markdown": [
       "1. 386\n",
       "2. 6\n",
       "\n",
       "\n"
      ],
      "text/plain": [
       "[1] 386   6"
      ]
     },
     "metadata": {},
     "output_type": "display_data"
    }
   ],
   "source": [
    "dim(difftab)"
   ]
  },
  {
   "cell_type": "code",
   "execution_count": 417,
   "id": "champion-potter",
   "metadata": {},
   "outputs": [
    {
     "data": {
      "text/html": [
       "<table class=\"dataframe\">\n",
       "<caption>A matrix: 8 × 2 of type dbl</caption>\n",
       "<thead>\n",
       "\t<tr><th></th><th scope=col>alpha</th><th scope=col>beta</th></tr>\n",
       "</thead>\n",
       "<tbody>\n",
       "\t<tr><th scope=row>ELF5</th><td>2.221123</td><td>0.9082357</td></tr>\n",
       "\t<tr><th scope=row>CEBPA</th><td>2.286815</td><td>0.9764704</td></tr>\n",
       "\t<tr><th scope=row>ELF3</th><td>1.969324</td><td>0.8274188</td></tr>\n",
       "\t<tr><th scope=row>RELA</th><td>2.553254</td><td>1.4253070</td></tr>\n",
       "\t<tr><th scope=row>CEBPG</th><td>1.889729</td><td>0.7804930</td></tr>\n",
       "\t<tr><th scope=row>CEBPE</th><td>1.763084</td><td>0.6679171</td></tr>\n",
       "\t<tr><th scope=row>CEBPB</th><td>1.760893</td><td>0.6751475</td></tr>\n",
       "\t<tr><th scope=row>REL</th><td>2.458656</td><td>1.4634549</td></tr>\n",
       "</tbody>\n",
       "</table>\n"
      ],
      "text/latex": [
       "A matrix: 8 × 2 of type dbl\n",
       "\\begin{tabular}{r|ll}\n",
       "  & alpha & beta\\\\\n",
       "\\hline\n",
       "\tELF5 & 2.221123 & 0.9082357\\\\\n",
       "\tCEBPA & 2.286815 & 0.9764704\\\\\n",
       "\tELF3 & 1.969324 & 0.8274188\\\\\n",
       "\tRELA & 2.553254 & 1.4253070\\\\\n",
       "\tCEBPG & 1.889729 & 0.7804930\\\\\n",
       "\tCEBPE & 1.763084 & 0.6679171\\\\\n",
       "\tCEBPB & 1.760893 & 0.6751475\\\\\n",
       "\tREL & 2.458656 & 1.4634549\\\\\n",
       "\\end{tabular}\n"
      ],
      "text/markdown": [
       "\n",
       "A matrix: 8 × 2 of type dbl\n",
       "\n",
       "| <!--/--> | alpha | beta |\n",
       "|---|---|---|\n",
       "| ELF5 | 2.221123 | 0.9082357 |\n",
       "| CEBPA | 2.286815 | 0.9764704 |\n",
       "| ELF3 | 1.969324 | 0.8274188 |\n",
       "| RELA | 2.553254 | 1.4253070 |\n",
       "| CEBPG | 1.889729 | 0.7804930 |\n",
       "| CEBPE | 1.763084 | 0.6679171 |\n",
       "| CEBPB | 1.760893 | 0.6751475 |\n",
       "| REL | 2.458656 | 1.4634549 |\n",
       "\n"
      ],
      "text/plain": [
       "      alpha    beta     \n",
       "ELF5  2.221123 0.9082357\n",
       "CEBPA 2.286815 0.9764704\n",
       "ELF3  1.969324 0.8274188\n",
       "RELA  2.553254 1.4253070\n",
       "CEBPG 1.889729 0.7804930\n",
       "CEBPE 1.763084 0.6679171\n",
       "CEBPB 1.760893 0.6751475\n",
       "REL   2.458656 1.4634549"
      ]
     },
     "metadata": {},
     "output_type": "display_data"
    }
   ],
   "source": [
    "difftab[rownames(top2)[1:8],2:1]"
   ]
  },
  {
   "cell_type": "code",
   "execution_count": null,
   "id": "acceptable-grove",
   "metadata": {},
   "outputs": [],
   "source": []
  }
 ],
 "metadata": {
  "kernelspec": {
   "display_name": "R",
   "language": "R",
   "name": "ir"
  },
  "language_info": {
   "codemirror_mode": "r",
   "file_extension": ".r",
   "mimetype": "text/x-r-source",
   "name": "R",
   "pygments_lexer": "r",
   "version": "3.6.0"
  }
 },
 "nbformat": 4,
 "nbformat_minor": 5
}
