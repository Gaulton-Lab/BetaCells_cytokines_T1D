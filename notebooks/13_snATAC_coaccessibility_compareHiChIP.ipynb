{
 "cells": [
  {
   "cell_type": "code",
   "execution_count": 1,
   "id": "front-jacksonville",
   "metadata": {},
   "outputs": [],
   "source": [
    "setwd('/nfs/lab/projects/islet_cytok/analysis/snATAC/coaccess')"
   ]
  },
  {
   "cell_type": "code",
   "execution_count": 11,
   "id": "closing-processing",
   "metadata": {},
   "outputs": [],
   "source": [
    "suppressPackageStartupMessages(library(data.table))\n",
    "suppressPackageStartupMessages(library(stringr))\n",
    "suppressPackageStartupMessages(library(RColorBrewer))"
   ]
  },
  {
   "cell_type": "code",
   "execution_count": 3,
   "id": "descending-going",
   "metadata": {},
   "outputs": [],
   "source": [
    "u = read.table(\"../../deseq_ATAC_NEW_bedfiles/annotated_peaks.tsv\")"
   ]
  },
  {
   "cell_type": "code",
   "execution_count": 4,
   "id": "muslim-hometown",
   "metadata": {},
   "outputs": [],
   "source": [
    "diff = gsub(\"peak-\",\"\", rownames(u))\n",
    "diff = unique(gsub(\"-\",\"_\", diff))"
   ]
  },
  {
   "cell_type": "code",
   "execution_count": 5,
   "id": "common-delhi",
   "metadata": {},
   "outputs": [],
   "source": [
    "bd = str_split_fixed (diff, \"_\", 3)"
   ]
  },
  {
   "cell_type": "code",
   "execution_count": 52,
   "id": "synthetic-compact",
   "metadata": {},
   "outputs": [],
   "source": [
    "write.table(bd, 'all_diff_sites.bed', sep=\"\\t\", quote=F, col.names=F, row.names=F)"
   ]
  },
  {
   "cell_type": "code",
   "execution_count": 9,
   "id": "permanent-atlantic",
   "metadata": {},
   "outputs": [],
   "source": [
    "cells = c('untreated','cytokine', 'cyt_unt')"
   ]
  },
  {
   "cell_type": "code",
   "execution_count": 233,
   "id": "upset-lingerie",
   "metadata": {},
   "outputs": [],
   "source": [
    "for (cell in cells){\n",
    "file = paste0(cell,  '/5kb_all/promLabel/beta.cicero_conns_dedup.promLabelled.txt')\n",
    "conns = fread(file, data.table = F)\n",
    "coacc = subset(conns, coaccess >= 0.05)\n",
    "write.table(coacc, paste0(cell, \".beta.coaccessible.peaks.tsv\"), sep=\"\\t\", quote=F, col.names=T, row.names=F)\n",
    "}"
   ]
  },
  {
   "cell_type": "code",
   "execution_count": 158,
   "id": "mental-stack",
   "metadata": {},
   "outputs": [],
   "source": [
    "smry = data.frame()\n",
    "for (cell in cells){\n",
    "file = paste0(cell,  '/5kb_all/promLabel/beta.cicero_conns_dedup.promLabelled.txt')\n",
    "conns = fread(file, data.table = F)\n",
    "coacc = subset(conns, coaccess >= 0.05)\n",
    "coacc$CC = coacc[,4] ==\".\" & coacc[,5]==\".\"\n",
    "coacc$CP = (coacc[,4]==\".\" & coacc[,5]!=\".\") | (coacc[,4]!=\".\" & coacc[,5]==\".\")\n",
    "coacc$PP = coacc[,4]!=\".\" & coacc[,5]!=\".\"\n",
    "coacc$type = apply(coacc[,6:8], 1, function(x) paste(as.numeric(x), collapse=\"\"))\n",
    "coacc$type = c('PP', 'CP', 'CC') [as.numeric(as.factor(coacc$type))]\n",
    "\n",
    "smry = rbind(smry, table(coacc$type))\n",
    "\n",
    "p1 = str_split_fixed(coacc$Peak1, \"_\",3)\n",
    "p2 = str_split_fixed(coacc$Peak2, \"_\",3)\n",
    "\n",
    "bedpe = cbind(p1, p2, coacc$type, coacc$Peak1Promoter, coacc$Peak2Promoter)\n",
    "\n",
    "write.table(bedpe, paste0(cell, \".beta.coacc.bedpe\"), sep=\"\\t\", quote=F, col.names=F, row.names=F)\n",
    "                   }"
   ]
  },
  {
   "cell_type": "code",
   "execution_count": 159,
   "id": "fancy-abuse",
   "metadata": {},
   "outputs": [],
   "source": [
    "colnames(smry) =  c( 'CC', 'CP', 'PP')\n",
    "rownames(smry) = cells"
   ]
  },
  {
   "cell_type": "code",
   "execution_count": 161,
   "id": "gentle-hello",
   "metadata": {},
   "outputs": [],
   "source": [
    "for(cell in cells){\n",
    "system(paste('pgltools intersect1D -a', paste0(cell, \".beta.coacc.pgl\") ,  \n",
    "             '-b ../../ldsc/Islet_bulkATAC.bed -allA -wa -wb >',\n",
    "       paste0(cell, \".beta.coacc.intersect.alsites\")))\n",
    "}"
   ]
  },
  {
   "cell_type": "code",
   "execution_count": 160,
   "id": "responsible-minute",
   "metadata": {},
   "outputs": [],
   "source": [
    "for(cell in cells){\n",
    "system( paste( 'pgltools formatbedpe' , paste0(cell, \".beta.coacc.bedpe\"), '>', paste0(cell, \".beta.coacc.pgl\")))\n",
    "system(paste('pgltools intersect1D -a', paste0(cell, \".beta.coacc.pgl\") ,  '-b all_diff_sites.bed -allA -wa -wb >',\n",
    "       paste0(cell, \".beta.coacc.intersect.differential\")))\n",
    "    }"
   ]
  },
  {
   "cell_type": "code",
   "execution_count": 162,
   "id": "automated-rates",
   "metadata": {},
   "outputs": [],
   "source": [
    "smry2 = data.frame()\n",
    "for (cell in cells){\n",
    "file = paste0(cell,  '.beta.coacc.intersect.differential')\n",
    "conns = fread(file, data.table = F)\n",
    "conns = subset(conns, !duplicated(conns[,1:6]))\n",
    "    smry2 = rbind(smry2, table(conns[,8]))\n",
    "}"
   ]
  },
  {
   "cell_type": "code",
   "execution_count": 163,
   "id": "brown-county",
   "metadata": {},
   "outputs": [],
   "source": [
    "colnames(smry2) =   c( 'CC', 'CP', 'PP')\n",
    "rownames(smry2) = cells"
   ]
  },
  {
   "cell_type": "code",
   "execution_count": 164,
   "id": "directed-military",
   "metadata": {},
   "outputs": [],
   "source": [
    "col3 = brewer.pal(3,'Blues')"
   ]
  },
  {
   "cell_type": "code",
   "execution_count": 166,
   "id": "opposed-static",
   "metadata": {},
   "outputs": [],
   "source": [
    "smry3 = data.frame(peak=rownames(u))\n",
    "for (cell in cells){\n",
    "file = paste0(cell,  '.beta.coacc.intersect.differential')\n",
    "conns = fread(file, data.table = F)\n",
    "coacc = subset(conns, V8==\"CP\")\n",
    "coacc$peak = paste('peak', coacc$V11,  coacc$V12,  coacc$V13, sep=\"-\")\n",
    "coacc$dist = coacc$V6 - coacc$V2\n",
    "colnames(coacc)[9] = 'gene'\n",
    "colnames(coacc)[10] = 'gene2'\n",
    "coacc$distal = (coacc$gene==\".\" & coacc$V7==\"A\") | (coacc$gene2==\".\" & coacc$V7==\"B\")\n",
    "coacc = subset(coacc, distal ==TRUE)\n",
    "map  = coacc[,c('peak', 'dist', 'gene')]\n",
    "map2 = coacc[,c('peak', 'dist', 'gene2')]\n",
    "colnames(map2)[3] = c('gene')\n",
    "map  = rbind(map, map2)\n",
    "map  = map[!duplicated(map),]\n",
    "map = subset(map, gene!=\".\")\n",
    "map = map[map$dist>10000,]\n",
    "smry3 [,cell]= (smry3$peak   %in% map$peak)\n",
    "    }"
   ]
  },
  {
   "cell_type": "code",
   "execution_count": 193,
   "id": "overhead-antarctica",
   "metadata": {},
   "outputs": [],
   "source": [
    "intersec = read.table(\"../../enrichment_genes/genes_within_10kb\", sep=\"\\t\")\n",
    "cent1 = intersec[,2] + ((intersec[,3]-intersec[,2])/2) \n",
    "cent2 = intersec[,5] + ((intersec[,6]-intersec[,5])/2) \n",
    "dist = abs(cent1 - cent2)\n",
    "intersec$peak = paste(\"peak\",intersec$V1, intersec$V2,intersec$V3, sep=\"-\")\n",
    "int = intersec[,c(8, 7)]\n",
    "colnames(int) = c(\"peak\", \"gene\")\n",
    "int$dist = dist"
   ]
  },
  {
   "cell_type": "code",
   "execution_count": 194,
   "id": "ambient-patient",
   "metadata": {},
   "outputs": [],
   "source": [
    "int = int[int$peak %in% rownames(u),]\n",
    "int=int[int$dist<10000,]\n",
    "int2=int[int$dist<2500,]"
   ]
  },
  {
   "cell_type": "code",
   "execution_count": 204,
   "id": "computational-trick",
   "metadata": {},
   "outputs": [],
   "source": [
    "smry3 [,\"prom\"]= smry3$peak   %in% int2$peak"
   ]
  },
  {
   "cell_type": "code",
   "execution_count": 226,
   "id": "solar-transport",
   "metadata": {},
   "outputs": [
    {
     "data": {
      "text/html": [
       "<style>\n",
       ".dl-inline {width: auto; margin:0; padding: 0}\n",
       ".dl-inline>dt, .dl-inline>dd {float: none; width: auto; display: inline-block}\n",
       ".dl-inline>dt::after {content: \":\\0020\"; padding-right: .5ex}\n",
       ".dl-inline>dt:not(:first-of-type) {padding-left: .5ex}\n",
       "</style><dl class=dl-inline><dt>untreated</dt><dd>8434</dd><dt>cytokine</dt><dd>11124</dd><dt>cyt_unt</dt><dd>11480</dd><dt>prom</dt><dd>4428</dd></dl>\n"
      ],
      "text/latex": [
       "\\begin{description*}\n",
       "\\item[untreated] 8434\n",
       "\\item[cytokine] 11124\n",
       "\\item[cyt\\textbackslash{}\\_unt] 11480\n",
       "\\item[prom] 4428\n",
       "\\end{description*}\n"
      ],
      "text/markdown": [
       "untreated\n",
       ":   8434cytokine\n",
       ":   11124cyt_unt\n",
       ":   11480prom\n",
       ":   4428\n",
       "\n"
      ],
      "text/plain": [
       "untreated  cytokine   cyt_unt      prom \n",
       "     8434     11124     11480      4428 "
      ]
     },
     "metadata": {},
     "output_type": "display_data"
    }
   ],
   "source": [
    "colSums(smry3[,2:5])"
   ]
  },
  {
   "cell_type": "code",
   "execution_count": 210,
   "id": "copyrighted-discovery",
   "metadata": {},
   "outputs": [],
   "source": [
    "toplot = colSums(smry3[,2:5])/nrow(smry3)"
   ]
  },
  {
   "cell_type": "code",
   "execution_count": 228,
   "id": "confirmed-there",
   "metadata": {},
   "outputs": [
    {
     "data": {
      "text/html": [
       "<style>\n",
       ".dl-inline {width: auto; margin:0; padding: 0}\n",
       ".dl-inline>dt, .dl-inline>dd {float: none; width: auto; display: inline-block}\n",
       ".dl-inline>dt::after {content: \":\\0020\"; padding-right: .5ex}\n",
       ".dl-inline>dt:not(:first-of-type) {padding-left: .5ex}\n",
       "</style><dl class=dl-inline><dt>untreated</dt><dd>0.19</dd><dt>cytokine</dt><dd>0.25</dd><dt>cyt_unt</dt><dd>0.26</dd><dt>prom</dt><dd>0.1</dd></dl>\n"
      ],
      "text/latex": [
       "\\begin{description*}\n",
       "\\item[untreated] 0.19\n",
       "\\item[cytokine] 0.25\n",
       "\\item[cyt\\textbackslash{}\\_unt] 0.26\n",
       "\\item[prom] 0.1\n",
       "\\end{description*}\n"
      ],
      "text/markdown": [
       "untreated\n",
       ":   0.19cytokine\n",
       ":   0.25cyt_unt\n",
       ":   0.26prom\n",
       ":   0.1\n",
       "\n"
      ],
      "text/plain": [
       "untreated  cytokine   cyt_unt      prom \n",
       "     0.19      0.25      0.26      0.10 "
      ]
     },
     "metadata": {},
     "output_type": "display_data"
    }
   ],
   "source": [
    "round(toplot,2)"
   ]
  },
  {
   "cell_type": "code",
   "execution_count": 216,
   "id": "inside-founder",
   "metadata": {},
   "outputs": [
    {
     "data": {
      "text/html": [
       "<strong>png:</strong> 2"
      ],
      "text/latex": [
       "\\textbf{png:} 2"
      ],
      "text/markdown": [
       "**png:** 2"
      ],
      "text/plain": [
       "png \n",
       "  2 "
      ]
     },
     "metadata": {},
     "output_type": "display_data"
    }
   ],
   "source": [
    "pdf(\"/nfs/lab/projects/islet_cytok/analysis/cytokine_figures/coaccessible_sites_beta_cytunt.pdf\")\n",
    "par(mfrow=c(2,2),mar = c(4,4,4,5))\n",
    "barplot(as.matrix(t(smry/1000)), las=3, col=col3 , ylim=c(0,5e+02), ylab=\"# coacc. sites (x1e3)\")\n",
    "barplot(as.matrix(t(smry2/1000)), las=3, col=col3 , ylim=c(0,2.5e+02), ylab=\"# coacc. sites (x1e3) in DACs\")\n",
    "barplot(cbind(t(smry/1000),t(smry2/1000)), las=3, col=col3 ,  ylab=\"# coacc. sites (x1e3) \")\n",
    "legend(\"topright\", legend =  c( 'CC', 'CP', 'PP'), pch=22, pt.bg=col3, pt.cex=1.5)\n",
    "barplot(toplot, ylab=\"fract. DACs with coacc.gene\",col=col3[2], ylim=c(0,0.3), las=2)\n",
    "\n",
    "dev.off()"
   ]
  },
  {
   "cell_type": "code",
   "execution_count": 199,
   "id": "reflected-outline",
   "metadata": {},
   "outputs": [
    {
     "data": {
      "text/plain": [
       "       \n",
       "        FALSE  TRUE\n",
       "  FALSE 29421  4424\n",
       "  TRUE  11120     4"
      ]
     },
     "metadata": {},
     "output_type": "display_data"
    }
   ],
   "source": [
    "table(smry3$cytokine, smry3$prom25)"
   ]
  },
  {
   "cell_type": "code",
   "execution_count": 200,
   "id": "ceramic-citizenship",
   "metadata": {},
   "outputs": [
    {
     "data": {
      "text/plain": [
       "       \n",
       "        FALSE  TRUE\n",
       "  FALSE 29063  4426\n",
       "  TRUE  11478     2"
      ]
     },
     "metadata": {},
     "output_type": "display_data"
    }
   ],
   "source": [
    "table(smry3$cyt_unt, smry3$prom25)"
   ]
  },
  {
   "cell_type": "code",
   "execution_count": 219,
   "id": "related-banks",
   "metadata": {},
   "outputs": [
    {
     "data": {
      "text/html": [
       "<table class=\"dataframe\">\n",
       "<caption>A data.frame: 3 × 3</caption>\n",
       "<thead>\n",
       "\t<tr><th></th><th scope=col>CC</th><th scope=col>CP</th><th scope=col>PP</th></tr>\n",
       "\t<tr><th></th><th scope=col>&lt;int&gt;</th><th scope=col>&lt;int&gt;</th><th scope=col>&lt;int&gt;</th></tr>\n",
       "</thead>\n",
       "<tbody>\n",
       "\t<tr><th scope=row>untreated</th><td> 60988</td><td>40548</td><td>23888</td></tr>\n",
       "\t<tr><th scope=row>cytokine</th><td>112693</td><td>58508</td><td>29927</td></tr>\n",
       "\t<tr><th scope=row>cyt_unt</th><td>123978</td><td>59305</td><td>31398</td></tr>\n",
       "</tbody>\n",
       "</table>\n"
      ],
      "text/latex": [
       "A data.frame: 3 × 3\n",
       "\\begin{tabular}{r|lll}\n",
       "  & CC & CP & PP\\\\\n",
       "  & <int> & <int> & <int>\\\\\n",
       "\\hline\n",
       "\tuntreated &  60988 & 40548 & 23888\\\\\n",
       "\tcytokine & 112693 & 58508 & 29927\\\\\n",
       "\tcyt\\_unt & 123978 & 59305 & 31398\\\\\n",
       "\\end{tabular}\n"
      ],
      "text/markdown": [
       "\n",
       "A data.frame: 3 × 3\n",
       "\n",
       "| <!--/--> | CC &lt;int&gt; | CP &lt;int&gt; | PP &lt;int&gt; |\n",
       "|---|---|---|---|\n",
       "| untreated |  60988 | 40548 | 23888 |\n",
       "| cytokine | 112693 | 58508 | 29927 |\n",
       "| cyt_unt | 123978 | 59305 | 31398 |\n",
       "\n"
      ],
      "text/plain": [
       "          CC     CP    PP   \n",
       "untreated  60988 40548 23888\n",
       "cytokine  112693 58508 29927\n",
       "cyt_unt   123978 59305 31398"
      ]
     },
     "metadata": {},
     "output_type": "display_data"
    }
   ],
   "source": [
    "smry2"
   ]
  },
  {
   "cell_type": "code",
   "execution_count": 225,
   "id": "becoming-shoot",
   "metadata": {},
   "outputs": [
    {
     "data": {
      "text/html": [
       "<style>\n",
       ".dl-inline {width: auto; margin:0; padding: 0}\n",
       ".dl-inline>dt, .dl-inline>dd {float: none; width: auto; display: inline-block}\n",
       ".dl-inline>dt::after {content: \":\\0020\"; padding-right: .5ex}\n",
       ".dl-inline>dt:not(:first-of-type) {padding-left: .5ex}\n",
       "</style><dl class=dl-inline><dt>untreated</dt><dd>0.362285409465592</dd><dt>cytokine</dt><dd>0.445336323653919</dd><dt>cyt_unt</dt><dd>0.462909262263142</dd></dl>\n"
      ],
      "text/latex": [
       "\\begin{description*}\n",
       "\\item[untreated] 0.362285409465592\n",
       "\\item[cytokine] 0.445336323653919\n",
       "\\item[cyt\\textbackslash{}\\_unt] 0.462909262263142\n",
       "\\end{description*}\n"
      ],
      "text/markdown": [
       "untreated\n",
       ":   0.362285409465592cytokine\n",
       ":   0.445336323653919cyt_unt\n",
       ":   0.462909262263142\n",
       "\n"
      ],
      "text/plain": [
       "untreated  cytokine   cyt_unt \n",
       "0.3622854 0.4453363 0.4629093 "
      ]
     },
     "metadata": {},
     "output_type": "display_data"
    }
   ],
   "source": [
    "smry$CC/rowSums(smry)"
   ]
  },
  {
   "cell_type": "code",
   "execution_count": 223,
   "id": "statutory-tissue",
   "metadata": {},
   "outputs": [
    {
     "data": {
      "text/html": [
       "<table class=\"dataframe\">\n",
       "<caption>A data.frame: 3 × 3</caption>\n",
       "<thead>\n",
       "\t<tr><th></th><th scope=col>CC</th><th scope=col>CP</th><th scope=col>PP</th></tr>\n",
       "\t<tr><th></th><th scope=col>&lt;int&gt;</th><th scope=col>&lt;int&gt;</th><th scope=col>&lt;int&gt;</th></tr>\n",
       "</thead>\n",
       "<tbody>\n",
       "\t<tr><th scope=row>untreated</th><td>100515</td><td> 99958</td><td>76974</td></tr>\n",
       "\t<tr><th scope=row>cytokine</th><td>178314</td><td>130222</td><td>91867</td></tr>\n",
       "\t<tr><th scope=row>cyt_unt</th><td>204330</td><td>139098</td><td>97976</td></tr>\n",
       "</tbody>\n",
       "</table>\n"
      ],
      "text/latex": [
       "A data.frame: 3 × 3\n",
       "\\begin{tabular}{r|lll}\n",
       "  & CC & CP & PP\\\\\n",
       "  & <int> & <int> & <int>\\\\\n",
       "\\hline\n",
       "\tuntreated & 100515 &  99958 & 76974\\\\\n",
       "\tcytokine & 178314 & 130222 & 91867\\\\\n",
       "\tcyt\\_unt & 204330 & 139098 & 97976\\\\\n",
       "\\end{tabular}\n"
      ],
      "text/markdown": [
       "\n",
       "A data.frame: 3 × 3\n",
       "\n",
       "| <!--/--> | CC &lt;int&gt; | CP &lt;int&gt; | PP &lt;int&gt; |\n",
       "|---|---|---|---|\n",
       "| untreated | 100515 |  99958 | 76974 |\n",
       "| cytokine | 178314 | 130222 | 91867 |\n",
       "| cyt_unt | 204330 | 139098 | 97976 |\n",
       "\n"
      ],
      "text/plain": [
       "          CC     CP     PP   \n",
       "untreated 100515  99958 76974\n",
       "cytokine  178314 130222 91867\n",
       "cyt_unt   204330 139098 97976"
      ]
     },
     "metadata": {},
     "output_type": "display_data"
    }
   ],
   "source": [
    "smry"
   ]
  },
  {
   "cell_type": "markdown",
   "id": "greater-canadian",
   "metadata": {},
   "source": [
    "### Compare with HiChip data"
   ]
  },
  {
   "cell_type": "code",
   "execution_count": 10,
   "id": "floral-turning",
   "metadata": {},
   "outputs": [],
   "source": [
    "suppressPackageStartupMessages(library(cicero))\n",
    "suppressPackageStartupMessages(library(parallel))\n",
    "suppressPackageStartupMessages(library(pheatmap))"
   ]
  },
  {
   "cell_type": "code",
   "execution_count": 3,
   "id": "closing-couple",
   "metadata": {},
   "outputs": [],
   "source": [
    "setwd('/nfs/lab/projects/islet_cytok/analysis/snATAC/coaccess')"
   ]
  },
  {
   "cell_type": "code",
   "execution_count": 4,
   "id": "electric-inquiry",
   "metadata": {},
   "outputs": [],
   "source": [
    "#unt_dir = '/nfs/lab/mokino/SP21/endoC_HiChIP/18may21_baseline_newpeaks/MAPS_output/A471_Arima_EndoB_Lo_S1_L002_current/'\n",
    "#cyt_dir = '/nfs/lab/mokino/SP21/endoC_HiChIP/17may21_cyt_newpeaks/MAPS_output/A471_Arima_EndoC_Lo_S3_L002_current/'"
   ]
  },
  {
   "cell_type": "code",
   "execution_count": 5,
   "id": "interim-screen",
   "metadata": {},
   "outputs": [],
   "source": [
    "unt_dir = cyt_dir = getwd()"
   ]
  },
  {
   "cell_type": "code",
   "execution_count": 6,
   "id": "complicated-above",
   "metadata": {},
   "outputs": [],
   "source": [
    "#cyt = read.table(paste0(cyt_dir,'A471_Arima_EndoC_Lo_S3_L002.5k.2.sig3Dinteractions.bedpe'), header=T)\n",
    "#unt = read.table(paste0(unt_dir,'A471_Arima_EndoB_Lo_S1_L002.5k.2.sig3Dinteractions.bedpe'), header=T)\n",
    "\n",
    "cyt = read.table(paste0(cyt_dir,'/A471.EndoC_cyt.FDR10.bedpe'), header=T)\n",
    "unt = read.table(paste0(unt_dir,'/A471.EndoC_unt.FDR10.bedpe'), header=T)\n",
    "\n",
    "cyt = data.frame(Peak1 = paste(cyt[,1], cyt[,2], cyt[,3], sep=\"_\"),\n",
    "                 Peak2 = paste(cyt[,4], cyt[,5], cyt[,6], sep=\"_\"))\n",
    "\n",
    "unt = data.frame(Peak1 = paste(unt[,1], unt[,2], unt[,3], sep=\"_\"),\n",
    "                 Peak2 = paste(unt[,4], unt[,5], unt[,6], sep=\"_\"))\n",
    "\n",
    "cyt = cyt[!duplicated(cyt),]\n",
    "unt = unt[!duplicated(unt),]"
   ]
  },
  {
   "cell_type": "code",
   "execution_count": 7,
   "id": "possible-photograph",
   "metadata": {},
   "outputs": [
    {
     "data": {
      "text/html": [
       "27793"
      ],
      "text/latex": [
       "27793"
      ],
      "text/markdown": [
       "27793"
      ],
      "text/plain": [
       "[1] 27793"
      ]
     },
     "metadata": {},
     "output_type": "display_data"
    },
    {
     "data": {
      "text/html": [
       "32560"
      ],
      "text/latex": [
       "32560"
      ],
      "text/markdown": [
       "32560"
      ],
      "text/plain": [
       "[1] 32560"
      ]
     },
     "metadata": {},
     "output_type": "display_data"
    }
   ],
   "source": [
    "nrow(cyt)\n",
    "nrow(unt)"
   ]
  },
  {
   "cell_type": "code",
   "execution_count": 8,
   "id": "operational-regular",
   "metadata": {},
   "outputs": [],
   "source": [
    "cells = c('untreated','cytokine', 'cyt_unt')"
   ]
  },
  {
   "cell_type": "code",
   "execution_count": 13,
   "id": "favorite-blond",
   "metadata": {},
   "outputs": [],
   "source": [
    "m4=data.frame()\n",
    "for (cell in cells){\n",
    "\n",
    "file = paste0(cell,  '/5kb_all/promLabel/beta.cicero_conns_dedup.promLabelled.txt')\n",
    "conns = fread(file, data.table = F)\n",
    "\n",
    "conns$CC = conns[,4] ==\".\" & conns[,5]==\".\"\n",
    "conns$CP = (conns[,4]==\".\" & conns[,5]!=\".\") | (conns[,4]!=\".\" & conns[,5]==\".\")\n",
    "conns$PP = conns[,4]!=\".\" & conns[,5]!=\".\"\n",
    "#conns = subset(conns, CP == TRUE)\n",
    "    \n",
    "coacc = subset(conns, coaccess >= 0.05)\n",
    "    \n",
    "\n",
    "cic = coacc[,1:3]\n",
    "\n",
    "in_cyt  <- compare_connections(cyt, cic, maxgap=1000)\n",
    "in_unt  <- compare_connections(unt, cic, maxgap=1000)\n",
    "\n",
    "v4=c (sum(in_cyt)/ length(in_cyt), sum(in_unt)/ length(in_unt))\n",
    "m4 = rbind(m4, v4) \n",
    "    \n",
    "conns$in_hichip_cyt  <- compare_connections(conns[,1:3], cyt, maxgap=1000)\n",
    "conns$in_hichip_unt  <- compare_connections(conns[,1:3], unt, maxgap=1000)\n",
    "    \n",
    "    \n",
    "assign(cell, conns)        \n",
    "    \n",
    "    }"
   ]
  },
  {
   "cell_type": "code",
   "execution_count": 14,
   "id": "numerous-sussex",
   "metadata": {},
   "outputs": [],
   "source": [
    "rownames(m4)= cells\n",
    "colnames(m4)= c(\"%cyt_coacc\", \"%unt_coacc\")"
   ]
  },
  {
   "cell_type": "code",
   "execution_count": 15,
   "id": "tutorial-reunion",
   "metadata": {},
   "outputs": [
    {
     "data": {
      "text/html": [
       "<table class=\"dataframe\">\n",
       "<caption>A data.frame: 3 × 2</caption>\n",
       "<thead>\n",
       "\t<tr><th></th><th scope=col>%cyt_coacc</th><th scope=col>%unt_coacc</th></tr>\n",
       "\t<tr><th></th><th scope=col>&lt;dbl&gt;</th><th scope=col>&lt;dbl&gt;</th></tr>\n",
       "</thead>\n",
       "<tbody>\n",
       "\t<tr><th scope=row>untreated</th><td>0.1762314</td><td>0.1786855</td></tr>\n",
       "\t<tr><th scope=row>cytokine</th><td>0.2297341</td><td>0.2219902</td></tr>\n",
       "\t<tr><th scope=row>cyt_unt</th><td>0.2338718</td><td>0.2297297</td></tr>\n",
       "</tbody>\n",
       "</table>\n"
      ],
      "text/latex": [
       "A data.frame: 3 × 2\n",
       "\\begin{tabular}{r|ll}\n",
       "  & \\%cyt\\_coacc & \\%unt\\_coacc\\\\\n",
       "  & <dbl> & <dbl>\\\\\n",
       "\\hline\n",
       "\tuntreated & 0.1762314 & 0.1786855\\\\\n",
       "\tcytokine & 0.2297341 & 0.2219902\\\\\n",
       "\tcyt\\_unt & 0.2338718 & 0.2297297\\\\\n",
       "\\end{tabular}\n"
      ],
      "text/markdown": [
       "\n",
       "A data.frame: 3 × 2\n",
       "\n",
       "| <!--/--> | %cyt_coacc &lt;dbl&gt; | %unt_coacc &lt;dbl&gt; |\n",
       "|---|---|---|\n",
       "| untreated | 0.1762314 | 0.1786855 |\n",
       "| cytokine | 0.2297341 | 0.2219902 |\n",
       "| cyt_unt | 0.2338718 | 0.2297297 |\n",
       "\n"
      ],
      "text/plain": [
       "          %cyt_coacc %unt_coacc\n",
       "untreated 0.1762314  0.1786855 \n",
       "cytokine  0.2297341  0.2219902 \n",
       "cyt_unt   0.2338718  0.2297297 "
      ]
     },
     "metadata": {},
     "output_type": "display_data"
    }
   ],
   "source": [
    "m4"
   ]
  },
  {
   "cell_type": "code",
   "execution_count": 16,
   "id": "36a6eb8d",
   "metadata": {},
   "outputs": [
    {
     "ename": "ERROR",
     "evalue": "Error in eval(expr, envir, enclos): object 'filist' not found\n",
     "output_type": "error",
     "traceback": [
      "Error in eval(expr, envir, enclos): object 'filist' not found\nTraceback:\n"
     ]
    }
   ],
   "source": [
    "### all sites\n",
    "filist"
   ]
  },
  {
   "cell_type": "code",
   "execution_count": 54,
   "id": "detailed-florida",
   "metadata": {},
   "outputs": [
    {
     "data": {
      "text/plain": [
       "$CcytHcyt\n",
       "       \n",
       "          FALSE    TRUE\n",
       "  FALSE 1655999   15727\n",
       "  TRUE   127702    2520\n",
       "\n",
       "$CuntHcyt\n",
       "       \n",
       "          FALSE    TRUE\n",
       "  FALSE 1341262   14242\n",
       "  TRUE    98066    1892\n",
       "\n",
       "$CcytHunt\n",
       "       \n",
       "          FALSE    TRUE\n",
       "  FALSE 1653902   17824\n",
       "  TRUE   127549    2673\n",
       "\n",
       "$CuntHunt\n",
       "       \n",
       "          FALSE    TRUE\n",
       "  FALSE 1339023   16481\n",
       "  TRUE    97895    2063\n"
      ]
     },
     "metadata": {},
     "output_type": "display_data"
    }
   ],
   "source": [
    "## only CP\n",
    "filist"
   ]
  },
  {
   "cell_type": "code",
   "execution_count": 55,
   "id": "sacred-dance",
   "metadata": {},
   "outputs": [
    {
     "data": {
      "text/html": [
       "0.0193515688593325"
      ],
      "text/latex": [
       "0.0193515688593325"
      ],
      "text/markdown": [
       "0.0193515688593325"
      ],
      "text/plain": [
       "[1] 0.01935157"
      ]
     },
     "metadata": {},
     "output_type": "display_data"
    }
   ],
   "source": [
    "2520/ (127702+2520)"
   ]
  },
  {
   "cell_type": "code",
   "execution_count": 56,
   "id": "radical-wrist",
   "metadata": {},
   "outputs": [
    {
     "data": {
      "text/html": [
       "0.0206386682406611"
      ],
      "text/latex": [
       "0.0206386682406611"
      ],
      "text/markdown": [
       "0.0206386682406611"
      ],
      "text/plain": [
       "[1] 0.02063867"
      ]
     },
     "metadata": {},
     "output_type": "display_data"
    }
   ],
   "source": [
    "2063/(97895+2063)"
   ]
  },
  {
   "cell_type": "code",
   "execution_count": 17,
   "id": "initial-smooth",
   "metadata": {},
   "outputs": [],
   "source": [
    "filist= list(    CcytHcyt = table(cytokine$coaccess>0.05,cytokine$in_hichip_cyt==T ),\n",
    "                 CuntHcyt = table(untreated$coaccess>0.05,untreated$in_hichip_cyt==T ),\n",
    "                 CcytHunt = table(cytokine$coaccess>0.05,cytokine$in_hichip_unt==T ),\n",
    "                 CuntHunt = table(untreated$coaccess>0.05,untreated$in_hichip_unt==T ))"
   ]
  },
  {
   "cell_type": "code",
   "execution_count": 19,
   "id": "c1fe6676",
   "metadata": {},
   "outputs": [
    {
     "data": {
      "text/plain": [
       "$CcytHcyt\n",
       "\n",
       "\tFisher's Exact Test for Count Data\n",
       "\n",
       "data:  X[[i]]\n",
       "p-value < 2.2e-16\n",
       "alternative hypothesis: true odds ratio is not equal to 1\n",
       "95 percent confidence interval:\n",
       " 3.492463 3.670254\n",
       "sample estimates:\n",
       "odds ratio \n",
       "  3.580428 \n",
       "\n",
       "\n",
       "$CuntHcyt\n",
       "\n",
       "\tFisher's Exact Test for Count Data\n",
       "\n",
       "data:  X[[i]]\n",
       "p-value < 2.2e-16\n",
       "alternative hypothesis: true odds ratio is not equal to 1\n",
       "95 percent confidence interval:\n",
       " 3.056553 3.238489\n",
       "sample estimates:\n",
       "odds ratio \n",
       "  3.146439 \n",
       "\n",
       "\n",
       "$CcytHunt\n",
       "\n",
       "\tFisher's Exact Test for Count Data\n",
       "\n",
       "data:  X[[i]]\n",
       "p-value < 2.2e-16\n",
       "alternative hypothesis: true odds ratio is not equal to 1\n",
       "95 percent confidence interval:\n",
       " 3.415344 3.580242\n",
       "sample estimates:\n",
       "odds ratio \n",
       "   3.49717 \n",
       "\n",
       "\n",
       "$CuntHunt\n",
       "\n",
       "\tFisher's Exact Test for Count Data\n",
       "\n",
       "data:  X[[i]]\n",
       "p-value < 2.2e-16\n",
       "alternative hypothesis: true odds ratio is not equal to 1\n",
       "95 percent confidence interval:\n",
       " 3.131235 3.302870\n",
       "sample estimates:\n",
       "odds ratio \n",
       "  3.216146 \n",
       "\n"
      ]
     },
     "metadata": {},
     "output_type": "display_data"
    }
   ],
   "source": [
    "lapply(filist, fisher.test)"
   ]
  },
  {
   "cell_type": "code",
   "execution_count": 50,
   "id": "identified-probe",
   "metadata": {},
   "outputs": [],
   "source": [
    "fish_res = t(sapply(filist, function(x) unlist(fisher.test(x)[1:4])))"
   ]
  },
  {
   "cell_type": "code",
   "execution_count": 51,
   "id": "destroyed-junior",
   "metadata": {},
   "outputs": [
    {
     "data": {
      "image/png": "[encoded data removed]",
      "text/plain": [
       "plot without title"
      ]
     },
     "metadata": {
      "image/png": {
       "height": 420,
       "width": 420
      }
     },
     "output_type": "display_data"
    }
   ],
   "source": [
    "par(pin=c(2,3))\n",
    "bp = barplot( fish_res[,4],  names = row.names(fish_res), las = 2, ylim= c(0, 4), ylab=\"Enrichemnt OR\")\n",
    "arrows( bp,fish_res[,2],bp,fish_res[,3], code=3, angle=90, length=0.05)\n"
   ]
  },
  {
   "cell_type": "code",
   "execution_count": 33,
   "id": "threatened-mission",
   "metadata": {},
   "outputs": [
    {
     "data": {
      "image/png": "[encoded data removed]",
      "text/plain": [
       "plot without title"
      ]
     },
     "metadata": {
      "image/png": {
       "height": 420,
       "width": 420
      }
     },
     "output_type": "display_data"
    }
   ],
   "source": [
    "par(pin=c(2,3))\n",
    "bp = barplot( fish_res[,4],  names = row.names(fish_res), las = 2, ylim= c(0, 4), ylab=\"Enrichemnt OR\")\n",
    "arrows( bp,fish_res[,2],bp,fish_res[,3], code=3, angle=90, length=0.05)\n"
   ]
  },
  {
   "cell_type": "code",
   "execution_count": null,
   "id": "spread-mobile",
   "metadata": {},
   "outputs": [],
   "source": []
  }
 ],
 "metadata": {
  "kernelspec": {
   "display_name": "R 4.1",
   "language": "R",
   "name": "ir41"
  },
  "language_info": {
   "codemirror_mode": "r",
   "file_extension": ".r",
   "mimetype": "text/x-r-source",
   "name": "R",
   "pygments_lexer": "r",
   "version": "4.1.1"
  }
 },
 "nbformat": 4,
 "nbformat_minor": 5
}
