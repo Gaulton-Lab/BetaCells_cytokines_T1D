{
 "cells": [
  {
   "cell_type": "code",
   "execution_count": 180,
   "id": "european-configuration",
   "metadata": {},
   "outputs": [],
   "source": [
    "suppressPackageStartupMessages(library(circlize))\n",
    "suppressPackageStartupMessages(library(plotrix))\n",
    "suppressPackageStartupMessages(library(gplots))\n",
    "suppressPackageStartupMessages(library(stringr))\n",
    "suppressPackageStartupMessages(library(scales))\n",
    "suppressPackageStartupMessages(library(gridExtra))\n",
    "suppressPackageStartupMessages(library(RColorBrewer))\n",
    "suppressPackageStartupMessages(library(tidyr))\n",
    "suppressPackageStartupMessages(library(beeswarm))\n",
    "suppressPackageStartupMessages(library(reshape))"
   ]
  },
  {
   "cell_type": "code",
   "execution_count": 2,
   "id": "bronze-naples",
   "metadata": {},
   "outputs": [],
   "source": [
    "setwd(\"/nfs/lab/projects/islet_cytok/analysis/selex/\")"
   ]
  },
  {
   "cell_type": "markdown",
   "id": "progressive-worst",
   "metadata": {},
   "source": [
    "### DeepSea"
   ]
  },
  {
   "cell_type": "code",
   "execution_count": 1,
   "id": "smooth-waste",
   "metadata": {},
   "outputs": [],
   "source": [
    "deepdiff2 = read.table( \"/nfs/lab/projects/selex/selex_t2d_t1d/results/deepsea/Compiled_DeepSea_results\", header=T)\n",
    "evalues   = read.table(  \"/nfs/lab/projects/selex/selex_t2d_t1d/results/deepsea/Compiled_DeepSea_results_evalue\", header=T)\n",
    "deepdiff2[evalues>=0.01] <-NA"
   ]
  },
  {
   "cell_type": "code",
   "execution_count": 4,
   "id": "loaded-accordance",
   "metadata": {},
   "outputs": [],
   "source": [
    "selex = read.table(\"combinedResults.tsv\", header=T)"
   ]
  },
  {
   "cell_type": "code",
   "execution_count": 5,
   "id": "stunning-committee",
   "metadata": {},
   "outputs": [],
   "source": [
    "mmr = subset(selex, prot %in% colnames(deepdiff2))"
   ]
  },
  {
   "cell_type": "code",
   "execution_count": 7,
   "id": "thorough-chile",
   "metadata": {},
   "outputs": [
    {
     "data": {
      "text/html": [
       "38"
      ],
      "text/latex": [
       "38"
      ],
      "text/markdown": [
       "38"
      ],
      "text/plain": [
       "[1] 38"
      ]
     },
     "metadata": {},
     "output_type": "display_data"
    }
   ],
   "source": [
    "length(unique(mmr$prot))"
   ]
  },
  {
   "cell_type": "code",
   "execution_count": 9,
   "id": "ranging-voltage",
   "metadata": {},
   "outputs": [],
   "source": [
    "mermer=data.frame()\n",
    "vi = list()\n",
    "for (tf in unique(as.character(mmr$prot))) {\n",
    "deep  = deepdiff2[,c(1,which(colnames(deepdiff2) == tf))]\n",
    "if (ncol(deep)>2){\n",
    "    deep$DeepSea = rowMeans(deep[,2:ncol(deep)])  ### average the Deepsea results for the same protein\n",
    "    #deep$DeepSea = apply(deep[,2:ncol(deep)],1, max)## max Deepsea results for the same protein\n",
    "    } else {\n",
    "    deep$DeepSea = deep[,2]\n",
    "}    \n",
    "sel = subset(mmr, prot == toupper(tf))\n",
    "    \n",
    "mer   = merge(sel, deep[,c(\"CTCF\",\"DeepSea\")], by.x=\"snp_name\", by.y=\"row.names\")\n",
    "if (sum(!is.na(mer$DeepSea)) >=5 ){    \n",
    "\n",
    "vi[[\"all_SNPs\"]][tf]<-  cor.test(-mer$DeepSea, mer$PBSb)$estimate\n",
    "mermer = rbind(mermer, mer)   \n",
    "    }\n",
    "mers = subset(mer,mer[,'PBSb_pv']<0.05 )\n",
    "if (sum(!is.na(mers$DeepSea)) >=5 ){     \n",
    "    vi[[\"pbSNPs\"]][tf]<- cor.test(-mers$DeepSea, mers$PBSb)$estimate\n",
    "}\n",
    "    \n",
    "}\n",
    "mermer$DeepSea_prediction = -mermer$DeepSea\n"
   ]
  },
  {
   "cell_type": "code",
   "execution_count": 10,
   "id": "passive-father",
   "metadata": {},
   "outputs": [
    {
     "data": {
      "text/html": [
       "24"
      ],
      "text/latex": [
       "24"
      ],
      "text/markdown": [
       "24"
      ],
      "text/plain": [
       "[1] 24"
      ]
     },
     "metadata": {},
     "output_type": "display_data"
    }
   ],
   "source": [
    "length(vi[[\"pbSNPs\"]])"
   ]
  },
  {
   "cell_type": "code",
   "execution_count": 26,
   "id": "statutory-mentor",
   "metadata": {},
   "outputs": [
    {
     "data": {
      "text/html": [
       "<style>\n",
       ".list-inline {list-style: none; margin:0; padding: 0}\n",
       ".list-inline>li {display: inline-block}\n",
       ".list-inline>li:not(:last-child)::after {content: \"\\00b7\"; padding: 0 .5ex}\n",
       "</style>\n",
       "<ol class=list-inline><li>'CEBPB'</li><li>'BATF'</li><li>'ATF2'</li><li>'USF2'</li><li>'ELK4'</li><li>'POU5F1'</li><li>'PRDM1'</li><li>'USF1'</li><li>'ELK1'</li><li>'POU2F2'</li><li>'ATF3'</li><li>'ELF1'</li><li>'GATA2'</li><li>'FOXA1'</li><li>'GATA3'</li><li>'NFATC1'</li><li>'ZBTB7A'</li><li>'FOXA2'</li><li>'CTCF'</li><li>'ETS1'</li><li>'YY1'</li><li>'IRF4'</li><li>'MYBL2'</li><li>'FOXM1'</li></ol>\n"
      ],
      "text/latex": [
       "\\begin{enumerate*}\n",
       "\\item 'CEBPB'\n",
       "\\item 'BATF'\n",
       "\\item 'ATF2'\n",
       "\\item 'USF2'\n",
       "\\item 'ELK4'\n",
       "\\item 'POU5F1'\n",
       "\\item 'PRDM1'\n",
       "\\item 'USF1'\n",
       "\\item 'ELK1'\n",
       "\\item 'POU2F2'\n",
       "\\item 'ATF3'\n",
       "\\item 'ELF1'\n",
       "\\item 'GATA2'\n",
       "\\item 'FOXA1'\n",
       "\\item 'GATA3'\n",
       "\\item 'NFATC1'\n",
       "\\item 'ZBTB7A'\n",
       "\\item 'FOXA2'\n",
       "\\item 'CTCF'\n",
       "\\item 'ETS1'\n",
       "\\item 'YY1'\n",
       "\\item 'IRF4'\n",
       "\\item 'MYBL2'\n",
       "\\item 'FOXM1'\n",
       "\\end{enumerate*}\n"
      ],
      "text/markdown": [
       "1. 'CEBPB'\n",
       "2. 'BATF'\n",
       "3. 'ATF2'\n",
       "4. 'USF2'\n",
       "5. 'ELK4'\n",
       "6. 'POU5F1'\n",
       "7. 'PRDM1'\n",
       "8. 'USF1'\n",
       "9. 'ELK1'\n",
       "10. 'POU2F2'\n",
       "11. 'ATF3'\n",
       "12. 'ELF1'\n",
       "13. 'GATA2'\n",
       "14. 'FOXA1'\n",
       "15. 'GATA3'\n",
       "16. 'NFATC1'\n",
       "17. 'ZBTB7A'\n",
       "18. 'FOXA2'\n",
       "19. 'CTCF'\n",
       "20. 'ETS1'\n",
       "21. 'YY1'\n",
       "22. 'IRF4'\n",
       "23. 'MYBL2'\n",
       "24. 'FOXM1'\n",
       "\n",
       "\n"
      ],
      "text/plain": [
       " [1] \"CEBPB\"  \"BATF\"   \"ATF2\"   \"USF2\"   \"ELK4\"   \"POU5F1\" \"PRDM1\"  \"USF1\"  \n",
       " [9] \"ELK1\"   \"POU2F2\" \"ATF3\"   \"ELF1\"   \"GATA2\"  \"FOXA1\"  \"GATA3\"  \"NFATC1\"\n",
       "[17] \"ZBTB7A\" \"FOXA2\"  \"CTCF\"   \"ETS1\"   \"YY1\"    \"IRF4\"   \"MYBL2\"  \"FOXM1\" "
      ]
     },
     "metadata": {},
     "output_type": "display_data"
    }
   ],
   "source": [
    "names(vi[[\"pbSNPs\"]])"
   ]
  },
  {
   "cell_type": "code",
   "execution_count": 11,
   "id": "certain-eight",
   "metadata": {},
   "outputs": [
    {
     "data": {
      "text/html": [
       "37"
      ],
      "text/latex": [
       "37"
      ],
      "text/markdown": [
       "37"
      ],
      "text/plain": [
       "[1] 37"
      ]
     },
     "metadata": {},
     "output_type": "display_data"
    }
   ],
   "source": [
    "length(vi[[\"all_SNPs\"]])"
   ]
  },
  {
   "cell_type": "code",
   "execution_count": 29,
   "id": "fleet-geneva",
   "metadata": {},
   "outputs": [
    {
     "data": {
      "text/html": [
       "'ATF2, ATF3, BATF, CEBPB, CTCF, E2F4, ELF1, ELK1, ELK4, ETS1, FOSL1, FOXA1, FOXA2, FOXM1, FOXP2, GATA2, GATA3, IRF3, IRF4, MEF2C, MYBL2, NANOG, NFATC1, NFIC, POU2F2, POU5F1, PRDM1, RFX5, RUNX3, RXRA, SRF, TCF12, TCF7L2, USF1, USF2, YY1, ZBTB7A'"
      ],
      "text/latex": [
       "'ATF2, ATF3, BATF, CEBPB, CTCF, E2F4, ELF1, ELK1, ELK4, ETS1, FOSL1, FOXA1, FOXA2, FOXM1, FOXP2, GATA2, GATA3, IRF3, IRF4, MEF2C, MYBL2, NANOG, NFATC1, NFIC, POU2F2, POU5F1, PRDM1, RFX5, RUNX3, RXRA, SRF, TCF12, TCF7L2, USF1, USF2, YY1, ZBTB7A'"
      ],
      "text/markdown": [
       "'ATF2, ATF3, BATF, CEBPB, CTCF, E2F4, ELF1, ELK1, ELK4, ETS1, FOSL1, FOXA1, FOXA2, FOXM1, FOXP2, GATA2, GATA3, IRF3, IRF4, MEF2C, MYBL2, NANOG, NFATC1, NFIC, POU2F2, POU5F1, PRDM1, RFX5, RUNX3, RXRA, SRF, TCF12, TCF7L2, USF1, USF2, YY1, ZBTB7A'"
      ],
      "text/plain": [
       "[1] \"ATF2, ATF3, BATF, CEBPB, CTCF, E2F4, ELF1, ELK1, ELK4, ETS1, FOSL1, FOXA1, FOXA2, FOXM1, FOXP2, GATA2, GATA3, IRF3, IRF4, MEF2C, MYBL2, NANOG, NFATC1, NFIC, POU2F2, POU5F1, PRDM1, RFX5, RUNX3, RXRA, SRF, TCF12, TCF7L2, USF1, USF2, YY1, ZBTB7A\""
      ]
     },
     "metadata": {},
     "output_type": "display_data"
    }
   ],
   "source": [
    "paste(sort(names(vi[[\"all_SNPs\"]])), collapse=\", \")"
   ]
  },
  {
   "cell_type": "code",
   "execution_count": 12,
   "id": "pressing-thong",
   "metadata": {},
   "outputs": [],
   "source": [
    "vi = lapply(vi, function(x) x[order(-x)])"
   ]
  },
  {
   "cell_type": "code",
   "execution_count": 13,
   "id": "bright-constant",
   "metadata": {},
   "outputs": [
    {
     "data": {
      "text/plain": [
       "    Min.  1st Qu.   Median     Mean  3rd Qu.     Max. \n",
       "-0.35204  0.09739  0.34948  0.35253  0.66087  0.87856 "
      ]
     },
     "metadata": {},
     "output_type": "display_data"
    }
   ],
   "source": [
    "summary(vi[[\"all_SNPs\"]])"
   ]
  },
  {
   "cell_type": "code",
   "execution_count": 14,
   "id": "found-inquiry",
   "metadata": {},
   "outputs": [
    {
     "data": {
      "text/plain": [
       "   Min. 1st Qu.  Median    Mean 3rd Qu.    Max. \n",
       "-0.1303  0.8171  0.8815  0.8122  0.9167  0.9694 "
      ]
     },
     "metadata": {},
     "output_type": "display_data"
    }
   ],
   "source": [
    "summary(vi[[\"pbSNPs\"]])"
   ]
  },
  {
   "cell_type": "code",
   "execution_count": 15,
   "id": "criminal-sapphire",
   "metadata": {},
   "outputs": [],
   "source": [
    "mmg = mermer"
   ]
  },
  {
   "cell_type": "code",
   "execution_count": 17,
   "id": "activated-routine",
   "metadata": {},
   "outputs": [],
   "source": [
    "col = rainbow(4)[3:4]"
   ]
  },
  {
   "cell_type": "code",
   "execution_count": 33,
   "id": "realistic-pledge",
   "metadata": {},
   "outputs": [
    {
     "data": {
      "text/html": [
       "<strong>png:</strong> 2"
      ],
      "text/latex": [
       "\\textbf{png:} 2"
      ],
      "text/markdown": [
       "**png:** 2"
      ],
      "text/plain": [
       "png \n",
       "  2 "
      ]
     },
     "metadata": {},
     "output_type": "display_data"
    }
   ],
   "source": [
    "pdf(\"../cytokine_figures/Corr_Selex_DeepSea.pdf\")\n",
    "par(mfrow=c(3,3),mar=c(4,4,4,2))\n",
    "plot(density(vi[[\"pbSNPs\"]]), col =col[2], lwd=1.5, main=\"Correlation per TF\", xlab=\"Pearson coefficient\", xlim=c(-0.5,1))\n",
    "lines(density(vi[[\"all_SNPs\"]]), col =col[1], lwd=1.5)\n",
    "abline(v=mean(vi[[\"pbSNPs\"]]), col=col[2], lty=2)\n",
    "abline(v=mean(vi[[\"all_SNPs\"]]), col=col[1], lty=2)\n",
    "legend(\"topleft\", col = col, legend = paste(c( \"all SNPs\",\"pbSNPs\"), lapply(vi, length)) , pch=15, bty=\"n\")\n",
    "\n",
    "\n",
    "par(mar=c(4,4,4,4))\n",
    "tab    = na.omit(mmg[mmg[,'PBSb_pv'] <0.05   , c(\"PBSb\", \"DeepSea_prediction\" )])\n",
    "\n",
    "pc  = round(sum( sign(tab[, \"PBSb\"]) == sign(tab[, \"DeepSea_prediction\"])) / nrow(tab),4) *100\n",
    "\n",
    "plot(mmg[,c(\"DeepSea_prediction\",\"PBSb\")],  col= alpha(c(\"gray\", col[2]),0.2)[(mmg[,'PBSb_pv'] <0.05)+1], \n",
    "       pch=19,\n",
    "          ylab= \"Selex change\", xlab= \"DeepSea change\", las=1)\n",
    "\n",
    "abline (v=0, h=0, lty=2)\n",
    "legend(\"topleft\", legend= paste( pc, \"%\\nconcord.\"), bty=\"n\")  \n",
    "mtext(side=3, text= paste(\"n pbSNPs=\", nrow(tab)), cex=0.8)\n",
    "mtext(side=3, text= paste(\"n all=\", sum(!is.na(mmg$DeepSea_prediction))), cex=0.8, line=1)\n",
    "dev.off()"
   ]
  },
  {
   "cell_type": "code",
   "execution_count": 162,
   "id": "general-static",
   "metadata": {},
   "outputs": [
    {
     "data": {
      "text/html": [
       "<strong>png:</strong> 2"
      ],
      "text/latex": [
       "\\textbf{png:} 2"
      ],
      "text/markdown": [
       "**png:** 2"
      ],
      "text/plain": [
       "png \n",
       "  2 "
      ]
     },
     "metadata": {},
     "output_type": "display_data"
    }
   ],
   "source": [
    "png(\"../cytokine_figures/Corr_Selex_deepsea.png\", width = 4, height = 4, units = 'in', res = 300)\n",
    "par( mar=c(0,0,0,0))\n",
    "plot(mermer[,c(\"DeepSea_prediction\",\"PBSb\")],  col= alpha(c(\"gray\", col[2]),0.2)[(mermer$PBSb_pv <0.05)+1], \n",
    "       pch=19,ylab= \"\", xlab= \"\", axes=F)\n",
    "        \n",
    "dev.off()"
   ]
  },
  {
   "cell_type": "markdown",
   "id": "falling-requirement",
   "metadata": {},
   "source": [
    "### Family correlations"
   ]
  },
  {
   "cell_type": "code",
   "execution_count": 38,
   "id": "excited-malaysia",
   "metadata": {},
   "outputs": [],
   "source": [
    "fams = selex[!duplicated(selex[,c('prot','Family')]),c('prot','Family')]"
   ]
  },
  {
   "cell_type": "code",
   "execution_count": 72,
   "id": "gentle-calculation",
   "metadata": {},
   "outputs": [],
   "source": [
    "ag = data.frame(table(fams[,2]))\n",
    "ag = ag[order(-ag$Freq),]\n",
    "ag$color = c(brewer.pal( 12, \"Paired\"), brewer.pal( 8, \"Set2\"),brewer.pal( 8, \"Dark2\"),brewer.pal( 9, \"Pastel1\"))\n",
    "fams = merge(fams, ag, by.x=2, by.y=1)"
   ]
  },
  {
   "cell_type": "code",
   "execution_count": 76,
   "id": "dutch-perception",
   "metadata": {},
   "outputs": [],
   "source": [
    "circosfun = function(cormat, drawlegend =TRUE , annot = \"well\") {\n",
    "cormat = cormat[complete.cases(cormat),complete.cases(cormat)]\n",
    "mat = cormat[1:2,]\n",
    "mat[1:2,] = 1\n",
    "factors = 'a'\n",
    "dend = as.dendrogram(hclust(as.dist(1-cormat)))   \n",
    "circos.par(cell.padding = c(0, 0, 0, 0))\n",
    "circos.initialize(factors, xlim = c(0, ncol(mat)))\n",
    "circos.track(ylim = c(0, 2.5), bg.border = NA, panel.fun = function(x, y) {\n",
    "  \n",
    "\n",
    "    m2 = mat[, order.dendrogram(dend)]\n",
    "    \n",
    "    col_mat = as.character(fams$color[ match( colnames(m2),fams[,annot])])\n",
    "    \n",
    "    nr = nrow(m2)\n",
    "    nc = ncol(m2)\n",
    "    for(i in 1:nr) {\n",
    "        circos.rect(1:nc - 1, rep(nr - i, nc), \n",
    "            1:nc, rep(nr - i + 1, nc), \n",
    "            border = col_mat,  col = col_mat)\n",
    "    }\n",
    "})\n",
    "\n",
    "max_height = attr(dend, \"height\")\n",
    "circos.track(ylim = c(0, max_height), bg.border = NA, track.height = 0.5, \n",
    "    panel.fun = function(x, y) {\n",
    "        circos.dendrogram(dend, max_height = max_height)\n",
    "})\n",
    "circos.clear()\n",
    "text(0, 0, nrow(cormat), cex = 1.5)\n",
    "if (drawlegend ==TRUE) {\n",
    "lab  = unique(fams$Family[ match( colnames(mat),fams[,annot])])\n",
    "coll = unique(as.character(fams$color[ match( colnames(mat),fams[,annot])]) )\n",
    "legend(\"right\", pch=22, pt.bg=coll, legend=lab, cex=0.7, pt.cex=1.6, bty = \"n\", y.intersp=0.7, inset=c(-0.5,0), xpd=TRUE)\n",
    "    }\n",
    "    }"
   ]
  },
  {
   "cell_type": "code",
   "execution_count": 79,
   "id": "urban-label",
   "metadata": {},
   "outputs": [],
   "source": [
    "data = selex[, c('snp_name','prot', 'PBSb')]\n",
    "data = data [complete.cases(data),]\n",
    "mat  = spread(data , key = prot,value = PBSb, fill = NA)"
   ]
  },
  {
   "cell_type": "code",
   "execution_count": 83,
   "id": "adjustable-booking",
   "metadata": {},
   "outputs": [],
   "source": [
    "rownames(mat) = mat[,1]\n",
    "mat = mat[,-1]\n",
    "mat = mat[rowSums(!is.na(mat))>1,]\n",
    "mat = mat[,colnames(mat) %in% fams$prot[fams$Freq>2]]"
   ]
  },
  {
   "cell_type": "code",
   "execution_count": 103,
   "id": "south-wholesale",
   "metadata": {},
   "outputs": [],
   "source": [
    "mat_sig = mat[rownames(mat) %in% selex$snp_name[selex$PBSb_pv<0.05],]"
   ]
  },
  {
   "cell_type": "code",
   "execution_count": 91,
   "id": "indie-beach",
   "metadata": {},
   "outputs": [],
   "source": [
    "cormatfun = function( mat1, filter=100,   method = \"pearson\") {\n",
    "testcor = mat1[, colSums(!is.na(mat1))> filter ]\n",
    "testcor = testcor[rowSums(is.na(testcor))< ncol(testcor), ]\n",
    "cat (dim(testcor))\n",
    "cormat = cor(testcor, use=\"pairwise\", method =method)   \n",
    "    return(cormat)\n",
    "    }"
   ]
  },
  {
   "cell_type": "code",
   "execution_count": 109,
   "id": "architectural-northern",
   "metadata": {},
   "outputs": [
    {
     "name": "stdout",
     "output_type": "stream",
     "text": [
      "27627 37427650 41127654 44227655 457"
     ]
    },
    {
     "data": {
      "text/html": [
       "<strong>png:</strong> 2"
      ],
      "text/latex": [
       "\\textbf{png:} 2"
      ],
      "text/markdown": [
       "**png:** 2"
      ],
      "text/plain": [
       "png \n",
       "  2 "
      ]
     },
     "metadata": {},
     "output_type": "display_data"
    }
   ],
   "source": [
    "pdf(\"../cytokine_figures/CircosPlot_selex_pearson.pdf\")\n",
    "par(mfrow=c(2,2),mar=c(1,1,3.5,3.5), xpd=TRUE)\n",
    "\n",
    "for (fi in c(400, 200, 100, 50)){\n",
    "    corr1 = cormatfun(mat_sig, filter = fi)\n",
    "    circosfun(corr1, annot = \"prot\" )\n",
    "}\n",
    "dev.off()"
   ]
  },
  {
   "cell_type": "code",
   "execution_count": 115,
   "id": "hybrid-peeing",
   "metadata": {},
   "outputs": [
    {
     "name": "stdout",
     "output_type": "stream",
     "text": [
      "107351 413107356 441107363 454107364 462"
     ]
    },
    {
     "data": {
      "text/html": [
       "<strong>png:</strong> 2"
      ],
      "text/latex": [
       "\\textbf{png:} 2"
      ],
      "text/markdown": [
       "**png:** 2"
      ],
      "text/plain": [
       "png \n",
       "  2 "
      ]
     },
     "metadata": {},
     "output_type": "display_data"
    }
   ],
   "source": [
    "pdf(\"../cytokine_figures/CircosPlot_selex_pearson_all.pdf\")\n",
    "par(mfrow=c(2,2),mar=c(1,1,3.5,3.5), xpd=TRUE)\n",
    "\n",
    "for (fi in c(400, 200, 100, 50)){\n",
    "    corr1 = cormatfun(mat, filter = fi)\n",
    "    circosfun(corr1, annot = \"prot\" )\n",
    "}\n",
    "dev.off()"
   ]
  },
  {
   "cell_type": "code",
   "execution_count": 172,
   "id": "immune-gross",
   "metadata": {},
   "outputs": [
    {
     "name": "stdout",
     "output_type": "stream",
     "text": [
      "27655 457"
     ]
    }
   ],
   "source": [
    "corr1 = cormatfun(mat_sig, filter = 50)"
   ]
  },
  {
   "cell_type": "code",
   "execution_count": 173,
   "id": "quarterly-constitution",
   "metadata": {},
   "outputs": [
    {
     "data": {
      "text/html": [
       "<style>\n",
       ".list-inline {list-style: none; margin:0; padding: 0}\n",
       ".list-inline>li {display: inline-block}\n",
       ".list-inline>li:not(:last-child)::after {content: \"\\00b7\"; padding: 0 .5ex}\n",
       "</style>\n",
       "<ol class=list-inline><li>457</li><li>457</li></ol>\n"
      ],
      "text/latex": [
       "\\begin{enumerate*}\n",
       "\\item 457\n",
       "\\item 457\n",
       "\\end{enumerate*}\n"
      ],
      "text/markdown": [
       "1. 457\n",
       "2. 457\n",
       "\n",
       "\n"
      ],
      "text/plain": [
       "[1] 457 457"
      ]
     },
     "metadata": {},
     "output_type": "display_data"
    }
   ],
   "source": [
    "dim(corr1)"
   ]
  },
  {
   "cell_type": "code",
   "execution_count": 174,
   "id": "corrected-roads",
   "metadata": {},
   "outputs": [],
   "source": [
    "cormat = corr1[complete.cases(corr1),complete.cases(corr1)]"
   ]
  },
  {
   "cell_type": "code",
   "execution_count": 175,
   "id": "nuclear-vegetable",
   "metadata": {},
   "outputs": [
    {
     "data": {
      "text/html": [
       "<style>\n",
       ".list-inline {list-style: none; margin:0; padding: 0}\n",
       ".list-inline>li {display: inline-block}\n",
       ".list-inline>li:not(:last-child)::after {content: \"\\00b7\"; padding: 0 .5ex}\n",
       "</style>\n",
       "<ol class=list-inline><li>264</li><li>264</li></ol>\n"
      ],
      "text/latex": [
       "\\begin{enumerate*}\n",
       "\\item 264\n",
       "\\item 264\n",
       "\\end{enumerate*}\n"
      ],
      "text/markdown": [
       "1. 264\n",
       "2. 264\n",
       "\n",
       "\n"
      ],
      "text/plain": [
       "[1] 264 264"
      ]
     },
     "metadata": {},
     "output_type": "display_data"
    }
   ],
   "source": [
    "dim(cormat)"
   ]
  },
  {
   "cell_type": "code",
   "execution_count": 181,
   "id": "coral-creator",
   "metadata": {},
   "outputs": [],
   "source": [
    "tab_corr = melt(corr1)"
   ]
  },
  {
   "cell_type": "code",
   "execution_count": 183,
   "id": "stylish-freeze",
   "metadata": {},
   "outputs": [
    {
     "data": {
      "text/html": [
       "<style>\n",
       ".list-inline {list-style: none; margin:0; padding: 0}\n",
       ".list-inline>li {display: inline-block}\n",
       ".list-inline>li:not(:last-child)::after {content: \"\\00b7\"; padding: 0 .5ex}\n",
       "</style>\n",
       "<ol class=list-inline><li>208849</li><li>3</li></ol>\n"
      ],
      "text/latex": [
       "\\begin{enumerate*}\n",
       "\\item 208849\n",
       "\\item 3\n",
       "\\end{enumerate*}\n"
      ],
      "text/markdown": [
       "1. 208849\n",
       "2. 3\n",
       "\n",
       "\n"
      ],
      "text/plain": [
       "[1] 208849      3"
      ]
     },
     "metadata": {},
     "output_type": "display_data"
    }
   ],
   "source": [
    "dim(tab_corr)"
   ]
  },
  {
   "cell_type": "code",
   "execution_count": 188,
   "id": "applied-regular",
   "metadata": {},
   "outputs": [],
   "source": [
    "tab_corr$pair = apply(tab_corr, 1, function(x) paste(sort(x[1:2]), collapse=\"_\"))\n",
    "tab_corr = tab_corr[!duplicated(tab_corr[,3:4]),]\n",
    "tab_corr = tab_corr[tab_corr[,1]!=tab_corr[,2],]"
   ]
  },
  {
   "cell_type": "code",
   "execution_count": 196,
   "id": "successful-mount",
   "metadata": {},
   "outputs": [],
   "source": [
    "tc = merge(tab_corr, fams[,1:2], by.x=1, by.y=2)\n",
    "tc = merge(tc, fams[,1:2], by.x=2, by.y=2)"
   ]
  },
  {
   "cell_type": "code",
   "execution_count": 200,
   "id": "executive-exemption",
   "metadata": {},
   "outputs": [],
   "source": [
    "tc$samefam = tc[,5]==tc[,6]"
   ]
  },
  {
   "cell_type": "code",
   "execution_count": 203,
   "id": "rolled-default",
   "metadata": {},
   "outputs": [
    {
     "data": {
      "text/html": [
       "<table class=\"dataframe\">\n",
       "<caption>A data.frame: 2 × 2</caption>\n",
       "<thead>\n",
       "\t<tr><th scope=col>samefam</th><th scope=col>value</th></tr>\n",
       "\t<tr><th scope=col>&lt;lgl&gt;</th><th scope=col>&lt;dbl&gt;</th></tr>\n",
       "</thead>\n",
       "<tbody>\n",
       "\t<tr><td>FALSE</td><td>0.1476119</td></tr>\n",
       "\t<tr><td> TRUE</td><td>0.2621796</td></tr>\n",
       "</tbody>\n",
       "</table>\n"
      ],
      "text/latex": [
       "A data.frame: 2 × 2\n",
       "\\begin{tabular}{ll}\n",
       " samefam & value\\\\\n",
       " <lgl> & <dbl>\\\\\n",
       "\\hline\n",
       "\t FALSE & 0.1476119\\\\\n",
       "\t  TRUE & 0.2621796\\\\\n",
       "\\end{tabular}\n"
      ],
      "text/markdown": [
       "\n",
       "A data.frame: 2 × 2\n",
       "\n",
       "| samefam &lt;lgl&gt; | value &lt;dbl&gt; |\n",
       "|---|---|\n",
       "| FALSE | 0.1476119 |\n",
       "|  TRUE | 0.2621796 |\n",
       "\n"
      ],
      "text/plain": [
       "  samefam value    \n",
       "1 FALSE   0.1476119\n",
       "2  TRUE   0.2621796"
      ]
     },
     "metadata": {},
     "output_type": "display_data"
    }
   ],
   "source": [
    "aggregate(value~samefam, tc, mean)"
   ]
  },
  {
   "cell_type": "markdown",
   "id": "armed-upset",
   "metadata": {},
   "source": [
    "## PWM correlation"
   ]
  },
  {
   "cell_type": "code",
   "execution_count": 114,
   "id": "intensive-damages",
   "metadata": {},
   "outputs": [],
   "source": [
    "tab   = read.table(\"motifbreak/Summary_significant_motifs_hocomocov10_long.tsv\", header=T, sep=\"\\t\")\n",
    "selex = subset(selex, !is.na(PBSb))\n",
    "coord = str_replace_all(selex$snp_name,\"\\\\_\",\":\")\n",
    "coord = gsub(\"T1D:\", \"\", coord)\n",
    "coord = gsub(\"T2D:\", \"\", coord)\n",
    "selex$snpID = paste0 (\"chr\", coord)\n",
    "\n",
    "comp = merge(selex[,c('snpID','prot', \"Family\", 'PBSb', 'PBSb_pv')], tab[,c('SNP_id', 'geneSymbol','alleleDiff') ],\n",
    "             by=1:2, all.x=T)"
   ]
  },
  {
   "cell_type": "code",
   "execution_count": 137,
   "id": "opening-registration",
   "metadata": {},
   "outputs": [],
   "source": [
    "sig = subset(comp, PBSb_pv<0.05)\n",
    "#sp   = split(sig, sig$prot)\n",
    "sp   = split(comp, comp$prot)\n",
    "sp1  = sp[sapply(sp, function(c) sum(!is.na(c$alleleDiff)) >10)]\n",
    "rho1 = sapply(sp1 , function(x) cor.test(x$PBSb, -x$alleleDiff, exact = FALSE)$estimate)"
   ]
  },
  {
   "cell_type": "code",
   "execution_count": 138,
   "id": "corresponding-popularity",
   "metadata": {},
   "outputs": [],
   "source": [
    "frac = sapply( sp1, function(x) sum(x$PBSb_pv<0.05 & !is.na(x[, \"alleleDiff\"]))/ sum(x$PBSb_pv<0.05))"
   ]
  },
  {
   "cell_type": "code",
   "execution_count": 139,
   "id": "hollywood-tennis",
   "metadata": {},
   "outputs": [
    {
     "data": {
      "text/plain": [
       "   Min. 1st Qu.  Median    Mean 3rd Qu.    Max.    NA's \n",
       "0.00000 0.08835 0.27132 0.29165 0.45977 0.85752       1 "
      ]
     },
     "metadata": {},
     "output_type": "display_data"
    }
   ],
   "source": [
    "summary(frac)"
   ]
  },
  {
   "cell_type": "code",
   "execution_count": 205,
   "id": "color-central",
   "metadata": {},
   "outputs": [
    {
     "data": {
      "text/html": [
       "234"
      ],
      "text/latex": [
       "234"
      ],
      "text/markdown": [
       "234"
      ],
      "text/plain": [
       "[1] 234"
      ]
     },
     "metadata": {},
     "output_type": "display_data"
    }
   ],
   "source": [
    "length(rho1)"
   ]
  },
  {
   "cell_type": "code",
   "execution_count": 140,
   "id": "compatible-tutorial",
   "metadata": {},
   "outputs": [
    {
     "data": {
      "text/plain": [
       "   Min. 1st Qu.  Median    Mean 3rd Qu.    Max. \n",
       "-0.5510  0.3795  0.6410  0.5507  0.7826  0.9532 "
      ]
     },
     "metadata": {},
     "output_type": "display_data"
    }
   ],
   "source": [
    "summary(rho1)"
   ]
  },
  {
   "cell_type": "code",
   "execution_count": 141,
   "id": "aging-rehabilitation",
   "metadata": {},
   "outputs": [],
   "source": [
    "ta = data.frame(rho = rho1, frac= frac, prot = names(sp1))"
   ]
  },
  {
   "cell_type": "code",
   "execution_count": 142,
   "id": "micro-console",
   "metadata": {},
   "outputs": [],
   "source": [
    "ta = merge(ta, fams, by=\"prot\")"
   ]
  },
  {
   "cell_type": "code",
   "execution_count": 144,
   "id": "settled-financing",
   "metadata": {},
   "outputs": [],
   "source": [
    "ta = droplevels(ta)"
   ]
  },
  {
   "cell_type": "code",
   "execution_count": 150,
   "id": "proved-designer",
   "metadata": {},
   "outputs": [
    {
     "data": {
      "text/html": [
       "<strong>png:</strong> 2"
      ],
      "text/latex": [
       "\\textbf{png:} 2"
      ],
      "text/markdown": [
       "**png:** 2"
      ],
      "text/plain": [
       "png \n",
       "  2 "
      ]
     },
     "metadata": {},
     "output_type": "display_data"
    }
   ],
   "source": [
    "pdf(\"../cytokine_figures/MotifBreak_compare.pdf\")\n",
    "par(mar=c(4,8,6,8),mfrow = c(3,1))\n",
    "bymedian <- with(ta, reorder(as.factor(Family), -rho, median))\n",
    "agcol = aggregate(rho~color, ta, median)\n",
    "boxplot(rho~bymedian, ta,  xlab=NA, ylab=\"correlation with PWM\", las=2)\n",
    "beeswarm(rho~bymedian, ta, las=2, method=\"center\", corral =\"gutter\", pch =19, \n",
    "         col= alpha(agcol[order(-agcol$rho), \"color\"],0.8),\n",
    "       add=T, axes=F)\n",
    "bymedian <- with(ta, reorder(as.factor(Family), -frac, median, na.rm=T))\n",
    "agcol = aggregate(frac~color, ta, median)\n",
    "boxplot(frac~bymedian, ta,  xlab=NA, ylab=\"%pbSNPs with PWM\", las=2)\n",
    "beeswarm(frac~bymedian, ta, las=2, method=\"center\", corral =\"gutter\", pch =19, \n",
    "         col= alpha(agcol[order(-agcol$frac), \"color\"],0.8),\n",
    "       add=T, axes=F)\n",
    "dev.off()"
   ]
  },
  {
   "cell_type": "code",
   "execution_count": 151,
   "id": "broke-parish",
   "metadata": {},
   "outputs": [],
   "source": [
    "sp   = split(sig, sig$prot)\n",
    "sp2  = sp[sapply(sp, function(c) sum(!is.na(c$alleleDiff)) >10)]\n",
    "rho2 = sapply(sp2 , function(x) cor.test(x$PBSb, -x$alleleDiff, exact = FALSE)$estimate)"
   ]
  },
  {
   "cell_type": "code",
   "execution_count": 161,
   "id": "coupled-tragedy",
   "metadata": {},
   "outputs": [
    {
     "data": {
      "text/plain": [
       "   Min. 1st Qu.  Median    Mean 3rd Qu.    Max. \n",
       "-0.1231  0.9002  0.9283  0.9088  0.9505  0.9769 "
      ]
     },
     "metadata": {},
     "output_type": "display_data"
    }
   ],
   "source": [
    "summary(rho2)"
   ]
  },
  {
   "cell_type": "code",
   "execution_count": 153,
   "id": "artistic-float",
   "metadata": {},
   "outputs": [],
   "source": [
    "mmg = comp[complete.cases(comp),]"
   ]
  },
  {
   "cell_type": "code",
   "execution_count": 155,
   "id": "material-joseph",
   "metadata": {},
   "outputs": [],
   "source": [
    "mmg$alleleDiff = -mmg$alleleDiff"
   ]
  },
  {
   "cell_type": "code",
   "execution_count": 159,
   "id": "respiratory-hypothetical",
   "metadata": {},
   "outputs": [
    {
     "data": {
      "text/html": [
       "<strong>png:</strong> 2"
      ],
      "text/latex": [
       "\\textbf{png:} 2"
      ],
      "text/markdown": [
       "**png:** 2"
      ],
      "text/plain": [
       "png \n",
       "  2 "
      ]
     },
     "metadata": {},
     "output_type": "display_data"
    }
   ],
   "source": [
    "pdf(\"../cytokine_figures/Corr_Selex_pwm.pdf\")\n",
    "par(mfrow=c(3,3),mar=c(4,4,4,2))\n",
    "col = rainbow(4)[3:4]\n",
    "plot(density(rho2), col = col[2], main=\"Correlation per TF\", xlab=\"Pearson coefficient\", lwd=1.5, xlim=c(-0.5,1))\n",
    "abline(v=mean(rho2), col=col[2], lty=2)\n",
    "lines(density(rho1), col = col[1], lwd=1.5)\n",
    "abline(v=mean(rho1), col=col[1], lty=2)\n",
    "legend(\"topleft\", col = col, legend = paste(c( \"all SNPs\",\"pbSNPs\"), \n",
    "                                            c( length(rho1),length(rho2))) , pch=15, bty=\"n\")\n",
    "par( mar=c(4,4,4,4))\n",
    "tb = mmg[mmg$PBSb_pv<0.05  , c(\"PBSb\", \"alleleDiff\" )]\n",
    "pc  = round(sum( sign(tb[, \"PBSb\"]) == sign(tb[, \"alleleDiff\"])) / nrow(tb),4) *100\n",
    "\n",
    "plot(mmg[,c(\"alleleDiff\",\"PBSb\")],  col= alpha(c(\"gray\", col[2]),0.2)[(mmg$PBSb_pv <0.05)+1], \n",
    "       pch=\"\",\n",
    "          ylab= \"Selex change\", xlab= \"PWM change\", las=1)\n",
    "\n",
    "abline (v=0, h=0, lty=2)\n",
    "legend(\"topleft\", legend= paste( pc, \"%\\nconcord.\"), bty=\"n\")  \n",
    "mtext(side=3, text= paste(\"n pbSNPs=\", nrow(tb)), cex=0.8)\n",
    "mtext(side=3, text= paste(\"n all=\", nrow(mmg)), cex=0.8, line=1)\n",
    "dev.off()"
   ]
  },
  {
   "cell_type": "code",
   "execution_count": 160,
   "id": "impressive-modeling",
   "metadata": {},
   "outputs": [
    {
     "data": {
      "text/html": [
       "<strong>png:</strong> 2"
      ],
      "text/latex": [
       "\\textbf{png:} 2"
      ],
      "text/markdown": [
       "**png:** 2"
      ],
      "text/plain": [
       "png \n",
       "  2 "
      ]
     },
     "metadata": {},
     "output_type": "display_data"
    }
   ],
   "source": [
    "png(\"../cytokine_figures/Corr_Selex_pwm.png\", width = 4, height = 4, units = 'in', res = 300)\n",
    "par( mar=c(0,0,0,0))\n",
    "plot(mmg[,c(\"alleleDiff\",\"PBSb\")],  col= alpha(c(\"gray\", col[2]),0.2)[(mmg$PBSb_pv <0.05)+1], \n",
    "       pch=19,ylab= \"\", xlab= \"\", axes=F)\n",
    "        \n",
    "dev.off()"
   ]
  },
  {
   "cell_type": "code",
   "execution_count": null,
   "id": "apparent-crisis",
   "metadata": {},
   "outputs": [],
   "source": []
  }
 ],
 "metadata": {
  "kernelspec": {
   "display_name": "R 4.1",
   "language": "R",
   "name": "ir41"
  },
  "language_info": {
   "codemirror_mode": "r",
   "file_extension": ".r",
   "mimetype": "text/x-r-source",
   "name": "R",
   "pygments_lexer": "r",
   "version": "4.1.1"
  }
 },
 "nbformat": 4,
 "nbformat_minor": 5
}
