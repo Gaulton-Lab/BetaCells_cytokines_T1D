{
 "cells": [
  {
   "cell_type": "code",
   "execution_count": 1,
   "id": "hidden-commonwealth",
   "metadata": {},
   "outputs": [],
   "source": [
    "setwd(\"/nfs/lab/projects/islet_cytok/analysis/crispr_screen\")"
   ]
  },
  {
   "cell_type": "code",
   "execution_count": 2,
   "id": "little-capability",
   "metadata": {},
   "outputs": [],
   "source": [
    "library(scales)"
   ]
  },
  {
   "cell_type": "code",
   "execution_count": 3,
   "id": "stock-deadline",
   "metadata": {},
   "outputs": [],
   "source": [
    "# full set of genes being considered after some filtering \n",
    "# (miRNA genes, any gene with less than 3 guides)\n",
    "res2 = read.table('cytokie_screen_mle.gene_summary.txt', header=T, stringsAsFactors = F)\n",
    "res2 = subset(res2, sgRNA >2)\n",
    "res2 = subset(res2,  !grepl('hsa-', res2$Gene))\n",
    "res2 = res2[order(res2$cytokine_survival.p.value),]\n",
    "res2$cytokine_survival.p.value[res2$cytokine_survival.p.value==0]<- 1e-5\n",
    "#write.csv(res2[,1:6], \"all_screen.csv\" , row.names=F)"
   ]
  },
  {
   "cell_type": "code",
   "execution_count": 4,
   "id": "vocational-basic",
   "metadata": {},
   "outputs": [],
   "source": [
    "res = read.csv(\"all_screen.csv\", stringsAsFactors = F)"
   ]
  },
  {
   "cell_type": "code",
   "execution_count": 5,
   "id": "passing-congress",
   "metadata": {},
   "outputs": [],
   "source": [
    "res$logP = -log(res$cytokine_survival.p.value,10)"
   ]
  },
  {
   "cell_type": "code",
   "execution_count": 6,
   "id": "palestinian-rhythm",
   "metadata": {},
   "outputs": [
    {
     "data": {
      "text/plain": [
       "       \n",
       "        FALSE TRUE\n",
       "  FALSE  9043 8804\n",
       "  TRUE    440  427"
      ]
     },
     "metadata": {},
     "output_type": "display_data"
    }
   ],
   "source": [
    "table(res$cytokine_survival.fdr<0.1,  res$cytokine_survival.beta>0 )"
   ]
  },
  {
   "cell_type": "code",
   "execution_count": 7,
   "id": "responsible-desktop",
   "metadata": {},
   "outputs": [
    {
     "data": {
      "text/html": [
       "<table class=\"dataframe\">\n",
       "<caption>A data.frame: 6 × 7</caption>\n",
       "<thead>\n",
       "\t<tr><th></th><th scope=col>Gene</th><th scope=col>sgRNA</th><th scope=col>cytokine_survival.beta</th><th scope=col>cytokine_survival.z</th><th scope=col>cytokine_survival.p.value</th><th scope=col>cytokine_survival.fdr</th><th scope=col>logP</th></tr>\n",
       "\t<tr><th></th><th scope=col>&lt;chr&gt;</th><th scope=col>&lt;int&gt;</th><th scope=col>&lt;dbl&gt;</th><th scope=col>&lt;dbl&gt;</th><th scope=col>&lt;dbl&gt;</th><th scope=col>&lt;dbl&gt;</th><th scope=col>&lt;dbl&gt;</th></tr>\n",
       "</thead>\n",
       "<tbody>\n",
       "\t<tr><th scope=row>1</th><td>NDRG2    </td><td>6</td><td> 0.58396</td><td> 1.5102</td><td>1e-05</td><td>0</td><td>5</td></tr>\n",
       "\t<tr><th scope=row>2</th><td>AKIRIN1  </td><td>6</td><td> 0.65073</td><td> 1.2183</td><td>1e-05</td><td>0</td><td>5</td></tr>\n",
       "\t<tr><th scope=row>3</th><td>CAGE1    </td><td>6</td><td>-0.72201</td><td>-2.1079</td><td>1e-05</td><td>0</td><td>5</td></tr>\n",
       "\t<tr><th scope=row>4</th><td>LOC653486</td><td>5</td><td> 0.57880</td><td> 1.3612</td><td>1e-05</td><td>0</td><td>5</td></tr>\n",
       "\t<tr><th scope=row>5</th><td>IFT43    </td><td>6</td><td> 0.62205</td><td> 1.2547</td><td>1e-05</td><td>0</td><td>5</td></tr>\n",
       "\t<tr><th scope=row>6</th><td>UTY      </td><td>6</td><td> 0.55310</td><td> 1.4092</td><td>1e-05</td><td>0</td><td>5</td></tr>\n",
       "</tbody>\n",
       "</table>\n"
      ],
      "text/latex": [
       "A data.frame: 6 × 7\n",
       "\\begin{tabular}{r|lllllll}\n",
       "  & Gene & sgRNA & cytokine\\_survival.beta & cytokine\\_survival.z & cytokine\\_survival.p.value & cytokine\\_survival.fdr & logP\\\\\n",
       "  & <chr> & <int> & <dbl> & <dbl> & <dbl> & <dbl> & <dbl>\\\\\n",
       "\\hline\n",
       "\t1 & NDRG2     & 6 &  0.58396 &  1.5102 & 1e-05 & 0 & 5\\\\\n",
       "\t2 & AKIRIN1   & 6 &  0.65073 &  1.2183 & 1e-05 & 0 & 5\\\\\n",
       "\t3 & CAGE1     & 6 & -0.72201 & -2.1079 & 1e-05 & 0 & 5\\\\\n",
       "\t4 & LOC653486 & 5 &  0.57880 &  1.3612 & 1e-05 & 0 & 5\\\\\n",
       "\t5 & IFT43     & 6 &  0.62205 &  1.2547 & 1e-05 & 0 & 5\\\\\n",
       "\t6 & UTY       & 6 &  0.55310 &  1.4092 & 1e-05 & 0 & 5\\\\\n",
       "\\end{tabular}\n"
      ],
      "text/markdown": [
       "\n",
       "A data.frame: 6 × 7\n",
       "\n",
       "| <!--/--> | Gene &lt;chr&gt; | sgRNA &lt;int&gt; | cytokine_survival.beta &lt;dbl&gt; | cytokine_survival.z &lt;dbl&gt; | cytokine_survival.p.value &lt;dbl&gt; | cytokine_survival.fdr &lt;dbl&gt; | logP &lt;dbl&gt; |\n",
       "|---|---|---|---|---|---|---|---|\n",
       "| 1 | NDRG2     | 6 |  0.58396 |  1.5102 | 1e-05 | 0 | 5 |\n",
       "| 2 | AKIRIN1   | 6 |  0.65073 |  1.2183 | 1e-05 | 0 | 5 |\n",
       "| 3 | CAGE1     | 6 | -0.72201 | -2.1079 | 1e-05 | 0 | 5 |\n",
       "| 4 | LOC653486 | 5 |  0.57880 |  1.3612 | 1e-05 | 0 | 5 |\n",
       "| 5 | IFT43     | 6 |  0.62205 |  1.2547 | 1e-05 | 0 | 5 |\n",
       "| 6 | UTY       | 6 |  0.55310 |  1.4092 | 1e-05 | 0 | 5 |\n",
       "\n"
      ],
      "text/plain": [
       "  Gene      sgRNA cytokine_survival.beta cytokine_survival.z\n",
       "1 NDRG2     6      0.58396                1.5102            \n",
       "2 AKIRIN1   6      0.65073                1.2183            \n",
       "3 CAGE1     6     -0.72201               -2.1079            \n",
       "4 LOC653486 5      0.57880                1.3612            \n",
       "5 IFT43     6      0.62205                1.2547            \n",
       "6 UTY       6      0.55310                1.4092            \n",
       "  cytokine_survival.p.value cytokine_survival.fdr logP\n",
       "1 1e-05                     0                     5   \n",
       "2 1e-05                     0                     5   \n",
       "3 1e-05                     0                     5   \n",
       "4 1e-05                     0                     5   \n",
       "5 1e-05                     0                     5   \n",
       "6 1e-05                     0                     5   "
      ]
     },
     "metadata": {},
     "output_type": "display_data"
    }
   ],
   "source": [
    "head(res)"
   ]
  },
  {
   "cell_type": "code",
   "execution_count": 137,
   "id": "beautiful-moore",
   "metadata": {},
   "outputs": [],
   "source": [
    "TPM= read.table(\"../../pipeline/RNAseq/combined_files/cytok_genes.tpm\", sep=\"\\t\", header=T, row.names=1)"
   ]
  },
  {
   "cell_type": "code",
   "execution_count": 136,
   "id": "complete-pension",
   "metadata": {},
   "outputs": [],
   "source": [
    "gene_info = read.table(\"/nfs/lab/publicdata/gencode_v19/gene_info.tsv\", header=T)"
   ]
  },
  {
   "cell_type": "code",
   "execution_count": 138,
   "id": "broad-darwin",
   "metadata": {},
   "outputs": [],
   "source": [
    "TPM = subset(TPM, rowMeans(TPM) >=1)\n",
    "tpm1 = unique(as.character(gene_info$gene_name[match( rownames(TPM),gene_info$gene_id)]))\n",
    "res_exp = subset( res, Gene %in% tpm1 & logP > 4)"
   ]
  },
  {
   "cell_type": "code",
   "execution_count": 36,
   "id": "colonial-malpractice",
   "metadata": {},
   "outputs": [],
   "source": [
    "writeLines(tpm1, \"Genes_tpm1.txt\", )"
   ]
  },
  {
   "cell_type": "code",
   "execution_count": 12,
   "id": "continental-opposition",
   "metadata": {},
   "outputs": [],
   "source": [
    "res_up   = subset( res_exp, cytokine_survival.beta>0)[1:38,]\n",
    "res_down = subset( res_exp, cytokine_survival.beta<0)"
   ]
  },
  {
   "cell_type": "code",
   "execution_count": 13,
   "id": "disciplinary-contact",
   "metadata": {},
   "outputs": [],
   "source": [
    "spu = split(res_up, res_up$logP)\n",
    "spd = split(res_down, res_down$logP)"
   ]
  },
  {
   "cell_type": "code",
   "execution_count": 450,
   "id": "recorded-electron",
   "metadata": {},
   "outputs": [
    {
     "data": {
      "text/html": [
       "<strong>png:</strong> 2"
      ],
      "text/latex": [
       "\\textbf{png:} 2"
      ],
      "text/markdown": [
       "**png:** 2"
      ],
      "text/plain": [
       "png \n",
       "  2 "
      ]
     },
     "metadata": {},
     "output_type": "display_data"
    }
   ],
   "source": [
    "pdf(\"../cytokine_figures/Cyto_screen_volcano.pdf\")\n",
    "plot(logP ~cytokine_survival.beta, res, xlim=c(-1.2,1.2), pch = NA, \n",
    "     col = c(\"gray\", \"black\")[(res$cytokine_survival.fdr<0.1)+1])\n",
    "CEX = 0.75\n",
    "text( -0.45, 4, paste( sort(spd[[1]]$Gene), collapse=\"\\n\"), font = 3, cex=CEX, adj = c(0,1))\n",
    "text( -1, 5, paste(sort(spd[[2]]$Gene), collapse=\"\\n\"), font = 3, cex=CEX, adj = c(1,1))\n",
    "text( -0.35, 5.1, paste(sort(spd[[3]]$Gene), collapse=\"\\n\"), font = 3, cex=CEX, adj = c(0,1))\n",
    "\n",
    "text( 0.4, 4.5, paste(sort(spu[[1]]$Gene), collapse=\"\\n\"), font = 3, cex=CEX, adj = c(1,1))\n",
    "text( 1, 5,   paste(sort(spu[[2]]$Gene), collapse=\"\\n\"), font = 3, cex=CEX, adj = c(0,1))\n",
    "dev.off()"
   ]
  },
  {
   "cell_type": "code",
   "execution_count": 451,
   "id": "pending-evanescence",
   "metadata": {},
   "outputs": [
    {
     "data": {
      "text/html": [
       "<strong>png:</strong> 2"
      ],
      "text/latex": [
       "\\textbf{png:} 2"
      ],
      "text/markdown": [
       "**png:** 2"
      ],
      "text/plain": [
       "png \n",
       "  2 "
      ]
     },
     "metadata": {},
     "output_type": "display_data"
    }
   ],
   "source": [
    "png(\"../cytokine_figures/Cyto_screen_volcano.png\", height = 4, width = 4, res = 300, unit= 'in')\n",
    "par(mar=c(0,0,0,0))\n",
    "plot(logP ~cytokine_survival.beta, res, xlim=c(-1.2,1.2), pch = 16, \n",
    "     col = c(\"gray\", \"black\")[(res$cytokine_survival.fdr<0.1)+1])\n",
    "dev.off()"
   ]
  },
  {
   "cell_type": "code",
   "execution_count": 30,
   "id": "least-gazette",
   "metadata": {},
   "outputs": [],
   "source": [
    "res_exp2 = subset( res, Gene %in% tpm1)"
   ]
  },
  {
   "cell_type": "code",
   "execution_count": 32,
   "id": "educational-finance",
   "metadata": {},
   "outputs": [],
   "source": [
    "cyt_minus = res_exp2$Gene[res_exp2$cytokine_survival.fdr<0.1 & res_exp2$cytokine_survival.beta<0 ]\n",
    "cyt_plus  = res_exp2$Gene[res_exp2$cytokine_survival.fdr<0.1 & res_exp2$cytokine_survival.beta>0 ]"
   ]
  },
  {
   "cell_type": "code",
   "execution_count": 34,
   "id": "mineral-silly",
   "metadata": {},
   "outputs": [
    {
     "data": {
      "text/html": [
       "298"
      ],
      "text/latex": [
       "298"
      ],
      "text/markdown": [
       "298"
      ],
      "text/plain": [
       "[1] 298"
      ]
     },
     "metadata": {},
     "output_type": "display_data"
    },
    {
     "data": {
      "text/html": [
       "309"
      ],
      "text/latex": [
       "309"
      ],
      "text/markdown": [
       "309"
      ],
      "text/plain": [
       "[1] 309"
      ]
     },
     "metadata": {},
     "output_type": "display_data"
    }
   ],
   "source": [
    "length(cyt_minus)\n",
    "length(cyt_plus)"
   ]
  },
  {
   "cell_type": "code",
   "execution_count": 33,
   "id": "warming-block",
   "metadata": {},
   "outputs": [],
   "source": [
    "writeLines(cyt_minus, \"Cyt_minus_expr.txt\")\n",
    "writeLines(cyt_plus,  \"Cyt_plus_expr.txt\")"
   ]
  },
  {
   "cell_type": "markdown",
   "id": "promising-meaning",
   "metadata": {},
   "source": [
    "### Annotare results with T1D variants and genes differentially expressed in cytok islets"
   ]
  },
  {
   "cell_type": "code",
   "execution_count": 8,
   "id": "chicken-testament",
   "metadata": {},
   "outputs": [],
   "source": [
    "expr = read.table('../deseq_analysis/g.highcyt3.deseq_results_cytok.tsv', header=T)"
   ]
  },
  {
   "cell_type": "code",
   "execution_count": 9,
   "id": "everyday-jordan",
   "metadata": {},
   "outputs": [
    {
     "data": {
      "text/html": [
       "3367"
      ],
      "text/latex": [
       "3367"
      ],
      "text/markdown": [
       "3367"
      ],
      "text/plain": [
       "[1] 3367"
      ]
     },
     "metadata": {},
     "output_type": "display_data"
    }
   ],
   "source": [
    "sum(expr$padj<0.1 & expr$log2FoldChange >0, na.rm=T)"
   ]
  },
  {
   "cell_type": "code",
   "execution_count": 132,
   "id": "amino-ranking",
   "metadata": {},
   "outputs": [],
   "source": [
    "t1d = read.table('../selex/T1D.99credset_new.bed')"
   ]
  },
  {
   "cell_type": "markdown",
   "id": "connected-prior",
   "metadata": {},
   "source": [
    "select the top variant in each credible set and expand of 1Mb ineach direction"
   ]
  },
  {
   "cell_type": "code",
   "execution_count": 133,
   "id": "affected-bottom",
   "metadata": {},
   "outputs": [],
   "source": [
    "t1d = t1d[order(t1d$V7, decreasing = T),]\n",
    "top = t1d[!duplicated(t1d[,5]),]"
   ]
  },
  {
   "cell_type": "code",
   "execution_count": 21,
   "id": "liquid-departure",
   "metadata": {},
   "outputs": [],
   "source": [
    "write.table(top[,1:3], \"top_finemap_t1d.bed\",sep=\"\\t\", quote=F, row.names=F, col.names=F)"
   ]
  },
  {
   "cell_type": "code",
   "execution_count": 131,
   "id": "induced-sport",
   "metadata": {},
   "outputs": [],
   "source": [
    "#system(\"bedtools intersect -a top_finemap_t1d.bed -b ../ldsc/Islet_bulkATAC.bed > top_finemap_t1d_isletATAC.bed\")\n",
    "#system(\"bedtools slop -i top_finemap_t1d_isletATAC.bed -g ~/general_files/human.hg19.genome.bedtools -b 1000000 > top_finemap_t1d_isletATAC_1Mb.bed\")\n",
    "#system(\"bedtools intersect -a /nfs/lab/publicdata/gencode_v19/genes.bed -b top_finemap_t1d_isletATAC_1Mb.bed -wa > genes_within_1Mb_top_finemap_isletATAC.bed\")"
   ]
  },
  {
   "cell_type": "code",
   "execution_count": null,
   "id": "excellent-enough",
   "metadata": {},
   "outputs": [],
   "source": [
    "# sumst = data.table::fread('/home/joshchiou/joshchiou-data2/T1D-GWAS/matched_cohorts/TOPMed/meta_analysis/T1D_meta.all_chr.hg19.sumstats.txt.gz')\n",
    "# sumsub = subset(sumst, PVALUE <1e-4)\n",
    "# bed = data.frame(paste0( \"chr\", sumsub$CHR), sumsub$POS -1, sumsub$POS)\n",
    "# write.table(bed, \"t1d_var_1e-4.bed\",sep=\"\\t\", quote=F, row.names=F, col.names=F)\n",
    "# system(\"bedtools slop -i t1d_var_1e-4.bed -g ~/general_files/human.hg19.genome.bedtools -b 1000000 > t1d_var_1e-4_1Mb.bed\")\n",
    "# system(\"bedtools intersect -a /nfs/lab/publicdata/gencode_v19/genes.bed -b t1d_var_1e-4_1Mb.bed -wa > genes_within_1Mb_1e-4_vars.bed\")"
   ]
  },
  {
   "cell_type": "code",
   "execution_count": 132,
   "id": "trying-wallace",
   "metadata": {},
   "outputs": [],
   "source": [
    "system(\"bedtools intersect -a t1d_var_1e-4.bed -b ../ldsc/Islet_bulkATAC.bed > t1d_var_1e-4_isletATAC.bed\")\n",
    "system(\"bedtools slop -i t1d_var_1e-4_isletATAC.bed -g ~/general_files/human.hg19.genome.bedtools -b 1000000 > t1d_var_1e-4_1Mb_isletATAC.bed\")\n",
    "system(\"bedtools intersect -a /nfs/lab/publicdata/gencode_v19/genes.bed -b t1d_var_1e-4_1Mb_isletATAC.bed -wa > genes_within_1Mb_1e-4_vars_isletATAC.bed\")"
   ]
  },
  {
   "cell_type": "code",
   "execution_count": 134,
   "id": "annoying-mercy",
   "metadata": {},
   "outputs": [],
   "source": [
    "dgenes = read.table(\"genes_within_1Mb_top_finemap.bed\")"
   ]
  },
  {
   "cell_type": "code",
   "execution_count": 139,
   "id": "healthy-consideration",
   "metadata": {},
   "outputs": [],
   "source": [
    "dgenes = unique(as.character(gene_info$gene_name[match( dgenes$V4,gene_info$gene_id)]))"
   ]
  },
  {
   "cell_type": "code",
   "execution_count": 140,
   "id": "timely-cleanup",
   "metadata": {},
   "outputs": [],
   "source": [
    "dgenes_save = dgenes"
   ]
  },
  {
   "cell_type": "code",
   "execution_count": 141,
   "id": "possible-knight",
   "metadata": {},
   "outputs": [],
   "source": [
    "mhc_genes = subset(gene_info, chrom ==\"chr6\" & start > 29613892 & end < 33292910 & gene_type==\"protein_coding\")"
   ]
  },
  {
   "cell_type": "code",
   "execution_count": 142,
   "id": "constitutional-diamond",
   "metadata": {},
   "outputs": [],
   "source": [
    "dgenes = unique(c(dgenes, as.character(mhc_genes$gene_name)))"
   ]
  },
  {
   "cell_type": "code",
   "execution_count": 143,
   "id": "electoral-royalty",
   "metadata": {},
   "outputs": [],
   "source": [
    "dgenes4 = read.table(\"genes_within_1Mb_1e-4_vars_isletATAC.bed\") "
   ]
  },
  {
   "cell_type": "code",
   "execution_count": 144,
   "id": "appropriate-dress",
   "metadata": {},
   "outputs": [],
   "source": [
    "dgenes4 = unique(as.character(gene_info$gene_name[match( dgenes4$V4,gene_info$gene_id)]))"
   ]
  },
  {
   "cell_type": "code",
   "execution_count": 145,
   "id": "absolute-pakistan",
   "metadata": {},
   "outputs": [],
   "source": [
    "M = merge(res, expr, by.y=\"row.names\", by.x=\"Gene\")\n",
    "M$t1d = M$Gene %in% dgenes\n",
    "M$t1d_1e4 = M$Gene %in% dgenes4"
   ]
  },
  {
   "cell_type": "code",
   "execution_count": 146,
   "id": "julian-toyota",
   "metadata": {},
   "outputs": [],
   "source": [
    "m = subset(M, cytokine_survival.fdr<0.1 & cytokine_survival.beta<0)\n",
    "m$zscore = qnorm(m$pvalue/2)\n",
    "m$zscore_signed = m$zscore * c(1,-1)[(m$log2FoldChange>0)+1]\n",
    "m$cat = paste0(as.numeric(m[,'t1d']),  as.numeric(m[,'t1d_1e4']))\n",
    "m$cat2 = m$cat\n",
    "m$cat2[m$cat2==10]<-11"
   ]
  },
  {
   "cell_type": "code",
   "execution_count": 147,
   "id": "infinite-witness",
   "metadata": {},
   "outputs": [
    {
     "data": {
      "text/html": [
       "84"
      ],
      "text/latex": [
       "84"
      ],
      "text/markdown": [
       "84"
      ],
      "text/plain": [
       "[1] 84"
      ]
     },
     "metadata": {},
     "output_type": "display_data"
    }
   ],
   "source": [
    "sum(m$padj<0.1 & m$log2FoldChange>0, na.rm=T)"
   ]
  },
  {
   "cell_type": "code",
   "execution_count": 148,
   "id": "secure-present",
   "metadata": {},
   "outputs": [],
   "source": [
    "m$tpm1 = m$Gene %in% tpm1"
   ]
  },
  {
   "cell_type": "code",
   "execution_count": 149,
   "id": "agricultural-ivory",
   "metadata": {},
   "outputs": [
    {
     "data": {
      "text/html": [
       "76"
      ],
      "text/latex": [
       "76"
      ],
      "text/markdown": [
       "76"
      ],
      "text/plain": [
       "[1] 76"
      ]
     },
     "metadata": {},
     "output_type": "display_data"
    }
   ],
   "source": [
    "sum(m$padj<0.1 & m$log2FoldChange>0 & m$tpm1, na.rm=T)"
   ]
  },
  {
   "cell_type": "code",
   "execution_count": 150,
   "id": "opponent-width",
   "metadata": {},
   "outputs": [
    {
     "data": {
      "text/html": [
       "35"
      ],
      "text/latex": [
       "35"
      ],
      "text/markdown": [
       "35"
      ],
      "text/plain": [
       "[1] 35"
      ]
     },
     "metadata": {},
     "output_type": "display_data"
    }
   ],
   "source": [
    "sum((m$t1d==T | m$t1d_1e4==T)[m$padj<0.1 & m$log2FoldChange>0], na.rm=T)"
   ]
  },
  {
   "cell_type": "code",
   "execution_count": 151,
   "id": "psychological-harbor",
   "metadata": {},
   "outputs": [
    {
     "data": {
      "text/html": [
       "15"
      ],
      "text/latex": [
       "15"
      ],
      "text/markdown": [
       "15"
      ],
      "text/plain": [
       "[1] 15"
      ]
     },
     "metadata": {},
     "output_type": "display_data"
    }
   ],
   "source": [
    "sum(m$t1d[m$padj<0.1 & m$log2FoldChange>0], na.rm=T)"
   ]
  },
  {
   "cell_type": "code",
   "execution_count": 152,
   "id": "deluxe-agency",
   "metadata": {},
   "outputs": [
    {
     "data": {
      "text/plain": [
       "\n",
       " 00  01  11 \n",
       "231  76  41 "
      ]
     },
     "metadata": {},
     "output_type": "display_data"
    }
   ],
   "source": [
    "table(m$cat2)"
   ]
  },
  {
   "cell_type": "code",
   "execution_count": 153,
   "id": "severe-tanzania",
   "metadata": {},
   "outputs": [
    {
     "data": {
      "image/png": "[encoded data removed]",
      "text/plain": [
       "plot without title"
      ]
     },
     "metadata": {
      "image/png": {
       "height": 420,
       "width": 420
      }
     },
     "output_type": "display_data"
    }
   ],
   "source": [
    "#pdf(\"../cytokine_figures/T1D_plot_with_mhc.pdf\")\n",
    "par(mar=c(8,8,8,8))\n",
    "plot(zscore_signed~cytokine_survival.beta,m, pch=19, \n",
    "     #col=c(\"gray\", \"red4\")[(m$Gene %in% dgenes)+1])\n",
    "col=c(\"gray\",\"blue4\" ,\"red4\" ) [as.numeric(as.factor(m$cat2))])\n",
    "\n",
    "abline (h= min(abs(m$zscore)[m$padj<0.1], na.rm=T), lty=2)\n",
    "abline (h= -min(abs(m$zscore)[m$padj<0.1], na.rm=T), lty=2)\n",
    "sig = subset(m, (m$padj<0.1 & m$t1d) | (m$zscore_signed>5 & m$t1d_1e4 ))\n",
    "text(sig[,c('cytokine_survival.beta', 'zscore_signed')], labels = sig$Gene,\n",
    "    pos=c(2,4), font=3)\n",
    "#dev.off()"
   ]
  },
  {
   "cell_type": "code",
   "execution_count": 155,
   "id": "ongoing-holly",
   "metadata": {},
   "outputs": [],
   "source": [
    "# png(\"../cytokine_figures/T1D_plot_with_mhc.png\", height = 4, width = 4, res = 200, unit= 'in')\n",
    "# par(mar=c(0,0,0,0))\n",
    "# plot(zscore_signed~cytokine_survival.beta,m, pch=19, \n",
    "     \n",
    "# col=c(\"gray\",\"blue4\" ,\"red4\" ) [as.numeric(as.factor(m$cat2))])\n",
    "\n",
    "\n",
    "# dev.off()"
   ]
  },
  {
   "cell_type": "markdown",
   "id": "compact-nelson",
   "metadata": {},
   "source": [
    "### Gene ontology"
   ]
  },
  {
   "cell_type": "code",
   "execution_count": 1,
   "id": "improved-milan",
   "metadata": {},
   "outputs": [],
   "source": [
    "library(breaker)"
   ]
  },
  {
   "cell_type": "code",
   "execution_count": 2,
   "id": "bridal-amber",
   "metadata": {},
   "outputs": [],
   "source": [
    "library(pheatmap)"
   ]
  },
  {
   "cell_type": "code",
   "execution_count": 3,
   "id": "rational-assist",
   "metadata": {},
   "outputs": [],
   "source": [
    "suppressPackageStartupMessages(library(gplots))"
   ]
  },
  {
   "cell_type": "code",
   "execution_count": 30,
   "id": "registered-morning",
   "metadata": {},
   "outputs": [],
   "source": [
    "M$cr_up = M$cytokine_survival.fdr<0.1 & M$cytokine_survival.beta>0\n",
    "M$cr_do = M$cytokine_survival.fdr<0.1 & M$cytokine_survival.beta<0\n",
    "M$cr_up_exp_do = M$cr_do & M$padj<0.1 & M$log2FoldChange >0\n",
    "M$cr_up_exp_do_T1D = M$cr_up_exp_do & (M$t1d | M$t1d_1e4)"
   ]
  },
  {
   "cell_type": "code",
   "execution_count": 31,
   "id": "consolidated-hunger",
   "metadata": {},
   "outputs": [],
   "source": [
    "M = M[order(M$pvalue),]"
   ]
  },
  {
   "cell_type": "code",
   "execution_count": 32,
   "id": "legal-multimedia",
   "metadata": {},
   "outputs": [],
   "source": [
    "writeLines(m$Gene[m$padj<0.1 & m$log2FoldChange>0], \"Listgenes_1.txt\")\n",
    "writeLines(na.omit(m$Gene[m$cat2!='00' & m$padj<0.1 & m$log2FoldChange>0]), \"Listgenes_2.txt\")\n",
    "writeLines(na.omit(m$Gene[m$t1d & m$padj<0.1 & m$log2FoldChange>0]), \"Listgenes_3.txt\")"
   ]
  },
  {
   "cell_type": "code",
   "execution_count": null,
   "id": "amber-payday",
   "metadata": {},
   "outputs": [],
   "source": [
    "#list1 = 84\n",
    "#list2 = 35\n",
    "#list3 = 15"
   ]
  },
  {
   "cell_type": "code",
   "execution_count": 34,
   "id": "compressed-wiring",
   "metadata": {},
   "outputs": [],
   "source": [
    "impgenes =na.omit(m$Gene[m$t1d & m$padj<0.1 & m$log2FoldChange>0]) "
   ]
  },
  {
   "cell_type": "code",
   "execution_count": 35,
   "id": "plastic-underwear",
   "metadata": {},
   "outputs": [
    {
     "data": {
      "text/html": [
       "<style>\n",
       ".list-inline {list-style: none; margin:0; padding: 0}\n",
       ".list-inline>li {display: inline-block}\n",
       ".list-inline>li:not(:last-child)::after {content: \"\\00b7\"; padding: 0 .5ex}\n",
       "</style>\n",
       "<ol class=list-inline><li>'PPP1R11'</li><li>'PPP1R18'</li></ol>\n"
      ],
      "text/latex": [
       "\\begin{enumerate*}\n",
       "\\item 'PPP1R11'\n",
       "\\item 'PPP1R18'\n",
       "\\end{enumerate*}\n"
      ],
      "text/markdown": [
       "1. 'PPP1R11'\n",
       "2. 'PPP1R18'\n",
       "\n",
       "\n"
      ],
      "text/plain": [
       "[1] \"PPP1R11\" \"PPP1R18\""
      ]
     },
     "metadata": {},
     "output_type": "display_data"
    }
   ],
   "source": [
    "impgenes[!(impgenes %in% dgenes_save)] ###<- MHC genes"
   ]
  },
  {
   "cell_type": "code",
   "execution_count": 36,
   "id": "impaired-treasure",
   "metadata": {},
   "outputs": [],
   "source": [
    "#go = read.table(\"GSEA_selected_results.txt\", header=T, sep=\"\\t\", stringsAsFactors = F)\n",
    "go = read.table(\"GSEA_min20_max1000.tsv\", header=T, sep=\"\\t\", stringsAsFactors = F)"
   ]
  },
  {
   "cell_type": "code",
   "execution_count": 41,
   "id": "confidential-hometown",
   "metadata": {},
   "outputs": [],
   "source": [
    "#go = read.table(\"GSEA_alldown_UP_20-1000.tsv\", header=T, sep=\"\\t\", stringsAsFactors = F)\n",
    "go = read.table(\"GSEA_alldown_UP_20-1000_tpm1.tsv\", header=T, sep=\"\\t\", stringsAsFactors = F)\n"
   ]
  },
  {
   "cell_type": "code",
   "execution_count": 42,
   "id": "sixth-diagram",
   "metadata": {},
   "outputs": [],
   "source": [
    "go$LogP = -log(go$p.value,10)"
   ]
  },
  {
   "cell_type": "code",
   "execution_count": 43,
   "id": "possible-station",
   "metadata": {},
   "outputs": [],
   "source": [
    "go$Name = tolower(gsub(\"_\", \" \", go$Gene_Set_Name))\n",
    "go$Name = gsub(\"gobp\", \"GOBP:\",go$Name)\n",
    "go$Name = gsub(\"reactome\", \"REACTOME:\",go$Name)"
   ]
  },
  {
   "cell_type": "code",
   "execution_count": 45,
   "id": "aquatic-winner",
   "metadata": {},
   "outputs": [
    {
     "data": {
      "text/html": [
       "<strong>png:</strong> 2"
      ],
      "text/latex": [
       "\\textbf{png:} 2"
      ],
      "text/markdown": [
       "**png:** 2"
      ],
      "text/plain": [
       "png \n",
       "  2 "
      ]
     },
     "metadata": {},
     "output_type": "display_data"
    }
   ],
   "source": [
    "#pdf(\"../cytokine_figures/GO_enrichment_crispr_screen_names_oneline.pdf\")\n",
    "pdf(\"../cytokine_figures/GO_enrichment_crispr_screen_allresults.pdf\")\n",
    "\n",
    "par(mar = c(8,12,4,4), mfcol=c(2,2))\n",
    "plot.new()\n",
    "plot.new()\n",
    "barplot(go$LogP[10:1], names.arg=go$Name[10:1], horiz=T, xlim=c(0,8),\n",
    "   las=1, cex.axis=1, cex.names=0.8)\n",
    "barplot(go$LogP[20:11], names.arg=go$Name[20:11], horiz=T, xlim=c(0,8),\n",
    "   las=1, cex.axis=1, cex.names=0.8)\n",
    "\n",
    "                  dev.off()\n"
   ]
  },
  {
   "cell_type": "code",
   "execution_count": 47,
   "id": "structural-welsh",
   "metadata": {},
   "outputs": [],
   "source": [
    "#bp_mat = read.table(\"gobp_overlap_matrix.txt\", header=T, sep=\"\\t\", stringsAsFactors = F)\n",
    "bp_mat = read.table(\"overlap_BP_min20max1000.mat.txt\", header=T, sep=\"\\t\", stringsAsFactors = F)\n",
    "rownames(bp_mat) = bp_mat$Gene.Symbol\n",
    "bp_mat = bp_mat[ rownames(bp_mat) %in% M$Gene[M$cr_up_exp_do_T1D], 4:13]\n",
    "#re_mat = read.table(\"reactome_overlap_matrix.txt\", header=T, sep=\"\\t\", stringsAsFactors = F)\n",
    "re_mat = read.table(\"overlap_reactome_min20max1000.mat.txt\", header=T, sep=\"\\t\", stringsAsFactors = F)\n",
    "rownames(re_mat) = re_mat$Gene.Symbol\n",
    "re_mat = re_mat[ rownames(re_mat) %in% M$Gene[M$cr_up_exp_do_T1D], 4:13]"
   ]
  },
  {
   "cell_type": "code",
   "execution_count": 48,
   "id": "inclusive-france",
   "metadata": {},
   "outputs": [],
   "source": [
    "mermat = merge(bp_mat,re_mat, all=T, by=\"row.names\" )"
   ]
  },
  {
   "cell_type": "code",
   "execution_count": 49,
   "id": "foster-colors",
   "metadata": {},
   "outputs": [],
   "source": [
    "mat = t(apply(mermat[,-1], 1, function(x) as.numeric(x!=\"\")))"
   ]
  },
  {
   "cell_type": "code",
   "execution_count": 50,
   "id": "southwest-organization",
   "metadata": {},
   "outputs": [],
   "source": [
    "mat[is.na(mat)]<-0"
   ]
  },
  {
   "cell_type": "code",
   "execution_count": 51,
   "id": "medium-explosion",
   "metadata": {},
   "outputs": [],
   "source": [
    "rownames(mat) = mermat[,1]\n",
    "colnames(mat) = colnames(mermat)[-1]"
   ]
  },
  {
   "cell_type": "code",
   "execution_count": 52,
   "id": "honey-oklahoma",
   "metadata": {},
   "outputs": [],
   "source": [
    "mat = mat[order(-rowSums(mat)),]"
   ]
  },
  {
   "cell_type": "code",
   "execution_count": 53,
   "id": "broke-titanium",
   "metadata": {},
   "outputs": [],
   "source": [
    "pheatmap(t(mat), cluster_rows = F, cluster_cols = F, legend = FALSE, col=c(0,1),\n",
    "         fontsize_col = 9,\n",
    "         gaps_row = 10,\n",
    "         angle_col = 45, \n",
    "         file = \"../cytokine_figures/gobp_react_crispr_screen_new.pdf\",\n",
    "         cellwidth = 10, cellheight = 10)"
   ]
  }
 ],
 "metadata": {
  "kernelspec": {
   "display_name": "R 4.1",
   "language": "R",
   "name": "ir41"
  },
  "language_info": {
   "codemirror_mode": "r",
   "file_extension": ".r",
   "mimetype": "text/x-r-source",
   "name": "R",
   "pygments_lexer": "r",
   "version": "4.1.1"
  }
 },
 "nbformat": 4,
 "nbformat_minor": 5
}
