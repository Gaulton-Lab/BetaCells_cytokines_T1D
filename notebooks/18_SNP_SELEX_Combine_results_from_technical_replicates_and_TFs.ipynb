{
 "cells": [
  {
   "cell_type": "code",
   "execution_count": 2,
   "metadata": {},
   "outputs": [],
   "source": [
    "suppressPackageStartupMessages(library(stringr))\n",
    "suppressPackageStartupMessages(library(scales))\n",
    "suppressPackageStartupMessages(library(gCMAP))"
   ]
  },
  {
   "cell_type": "code",
   "execution_count": 71,
   "metadata": {},
   "outputs": [],
   "source": [
    "suppressPackageStartupMessages(library(parallel))"
   ]
  },
  {
   "cell_type": "code",
   "execution_count": 98,
   "metadata": {},
   "outputs": [],
   "source": [
    "home_dir = '/nfs/lab/projects/selex/selex_t2d_t1d/pipeline'\n",
    "well_list = readLines(paste(home_dir,'rep1/well_list.txt', sep=\"/\" ))"
   ]
  },
  {
   "cell_type": "code",
   "execution_count": 99,
   "metadata": {},
   "outputs": [],
   "source": [
    "failed = read.csv(\"/nfs/lab/projects/selex/selex_t2d_t1d/results/QC_correlations_reps/exclude_wells\", header=T, row.names=1)\n",
    "failed$well_rep = paste(failed$well, failed$rep, sep=\"_\")\n"
   ]
  },
  {
   "cell_type": "code",
   "execution_count": 100,
   "metadata": {},
   "outputs": [],
   "source": [
    "setwd(\"/nfs/lab/projects/selex/analysis/\")"
   ]
  },
  {
   "cell_type": "code",
   "execution_count": 85,
   "metadata": {},
   "outputs": [],
   "source": [
    "meta_analyze = function( repi, pva, sta, weigth, average_stat=TRUE) {\n",
    "\n",
    "repi = repi[,c('snp_name', pva, sta, weigth )]\n",
    "colnames(repi)[4] = \"w\"\n",
    "repi = na.omit(repi)\n",
    "\n",
    "### use a package to calculate z-score also when p-values are very low or 0    \n",
    "repi$z_score = zScores(repi[,pva])*c(-1,1)[(repi[,sta]>0)+1]\n",
    "\n",
    "## Combine the Z-scores using  Stouffer 1948 DOI: 10.1111/j.1420-9101.2005.00917.x\n",
    "### weighted Z-scores\n",
    "    \n",
    "ag1 = aggregate(z_score*w~snp_name,repi, sum)\n",
    "ag2 = aggregate((w^2)~snp_name,repi, sum)\n",
    "czs = ag1[,2]/sqrt(ag2[,2])\n",
    "    \n",
    "ag1$combined_pv=pnorm(abs(czs),lower.tail=FALSE)*2\n",
    "\n",
    "\n",
    "if( average_stat == TRUE ){\n",
    "#### Now calculate the average of PBS and merge with the rest of the data\n",
    "#avg=aggregate(repi [,sta] ~ snp_name,repi,mean) \n",
    "#avg = merge(ag1, avg, by=1)\n",
    "\n",
    "#### Now calculate the WEIGHTED average of PBS and merge with the rest of the data\n",
    "sp = split(repi, repi$snp_name)\n",
    "wm = mclapply(sp, function(x) weighted.mean(x[,sta] ,x[,'w']), mc.cores = 18)\n",
    "df = as.data.frame(unlist(wm))\n",
    "avg = merge(ag1, df, by.x=1, by.y=\"row.names\")   \n",
    "\n",
    "              \n",
    "colnames(avg)[3:4] = c(pva, sta)\n",
    "return (avg[,c(1,3:4)])\n",
    "    \n",
    "   } else{\n",
    "    colnames(ag1)[3] = pva\n",
    "    return (ag1[,c(1,3)])\n",
    "}\n",
    "    \n",
    "}\n"
   ]
  },
  {
   "cell_type": "markdown",
   "metadata": {},
   "source": [
    "### 1) Combine results from the two tech reps"
   ]
  },
  {
   "cell_type": "code",
   "execution_count": 111,
   "metadata": {},
   "outputs": [],
   "source": [
    "dir.create(\"meta_reps\")"
   ]
  },
  {
   "cell_type": "code",
   "execution_count": 101,
   "metadata": {},
   "outputs": [],
   "source": [
    "for (well in well_list) {\n",
    "outfile = paste( 'meta_reps/' , well,  \"_Enrichment_scores_reps_combined.txt\", sep=\"\")\n",
    "bindi   = data.frame()    \n",
    "for (vtype in c( \"indels\", \"snvs\")) {\n",
    "for (rep in 1:2) {\n",
    "\n",
    "file1 = paste( 'enrich/', well,  \"_Enrichment_scores_\", vtype, \".rep\", rep, \"dup\",  sep=\"\")\n",
    "file2 = paste( '/nfs/lab/projects/selex/pipeline/', well, \"/\" ,vtype,  \"/read_counts_rep\", rep, \".txt\", sep=\"\") \n",
    "\n",
    "wellrep = paste(well,  \"_rep\", rep, sep=\"\")\n",
    "    \n",
    "if(file.exists(file1)  & !(wellrep %in% failed$well_rep)){\n",
    "rep1 = na.omit(read.table(file1 , header=T,  row.names=1))\n",
    "rc   = read.table(file2, row.names=1)\n",
    "rep1 = merge(rep1,rc, by=\"row.names\")\n",
    "    \n",
    "if( (nrow(rep1)<25 & vtype==\"snv\") ) {rep1=NA}  ### this step is to avoid to count those with few oligos >> bad MCMC\n",
    "    }else{rep1=NA}\n",
    "\n",
    "bindi   = na.omit(rbind(bindi, rep1))\n",
    "    \n",
    "    }\n",
    "    }   \n",
    "    \n",
    "if(nrow(bindi)>0){\n",
    "colnames(bindi)[1] =    'snp_name'\n",
    "colnames(bindi)[8] =   'read_count'\n",
    "pvalues = c( 'pv_OBS','pv_PBS')  \n",
    "statist = c( 'OBS' ,   'PBS' )\n",
    "weigths = 'read_count'\n",
    "    \n",
    "for (i in 1:2){\n",
    " meta = meta_analyze (bindi,pvalues[i], statist[i], weigths )\n",
    "    if(i ==1){\n",
    "        bindino = meta\n",
    "    }else{\n",
    "    bindino = merge(bindino, meta, by=1, all.x=T)\n",
    "    }\n",
    "}\n",
    "\n",
    "    ## sum of reads across reps\n",
    "avg=aggregate(bindi [,\"read_count\"] ~ snp_name, bindi , sum) \n",
    "colnames(avg)[2]=\"sum_read_count\" \n",
    "bindino = merge(bindino, avg, by=1, all.x=T)\n",
    "\n",
    "write.table(bindino, outfile, sep=\"\\t\", row.names=F, quote=F)\n",
    "\n",
    "\n",
    "                  }\n",
    "}\n",
    "    \n"
   ]
  },
  {
   "cell_type": "code",
   "execution_count": 112,
   "metadata": {},
   "outputs": [
    {
     "data": {
      "text/html": [
       "<table>\n",
       "<caption>A data.frame: 6 × 6</caption>\n",
       "<thead>\n",
       "\t<tr><th></th><th scope=col>snp_name</th><th scope=col>pv_OBS</th><th scope=col>OBS</th><th scope=col>pv_PBS</th><th scope=col>PBS</th><th scope=col>sum_read_count</th></tr>\n",
       "\t<tr><th></th><th scope=col>&lt;I&lt;chr&gt;&gt;</th><th scope=col>&lt;dbl&gt;</th><th scope=col>&lt;dbl&gt;</th><th scope=col>&lt;dbl&gt;</th><th scope=col>&lt;dbl&gt;</th><th scope=col>&lt;int&gt;</th></tr>\n",
       "</thead>\n",
       "<tbody>\n",
       "\t<tr><th scope=row>1</th><td>T1D_1_200712429_CTAT_C</td><td>0.8132047</td><td>-0.33489500</td><td>0.8124608</td><td>-0.6704329</td><td>19</td></tr>\n",
       "\t<tr><th scope=row>2</th><td>T1D_1_200718569_C_CTTG</td><td>0.9090884</td><td>-0.16147043</td><td>0.9147883</td><td>-0.3021014</td><td>40</td></tr>\n",
       "\t<tr><th scope=row>3</th><td>T1D_1_200761255_A_AT  </td><td>0.9594162</td><td> 0.07158819</td><td>0.9624402</td><td> 0.1308676</td><td>28</td></tr>\n",
       "\t<tr><th scope=row>4</th><td>T1D_1_200844298_CT_C  </td><td>0.4983580</td><td>-0.96776097</td><td>0.4981340</td><td>-1.9309116</td><td>28</td></tr>\n",
       "\t<tr><th scope=row>5</th><td>T1D_10_33305680_A_G   </td><td>0.9647241</td><td> 0.07049416</td><td>0.9170403</td><td> 0.2168331</td><td>68</td></tr>\n",
       "\t<tr><th scope=row>6</th><td>T1D_10_6537425_T_C    </td><td>0.8090368</td><td>-0.38178081</td><td>0.8432446</td><td>-0.4100383</td><td>32</td></tr>\n",
       "</tbody>\n",
       "</table>\n"
      ],
      "text/latex": [
       "A data.frame: 6 × 6\n",
       "\\begin{tabular}{r|llllll}\n",
       "  & snp\\_name & pv\\_OBS & OBS & pv\\_PBS & PBS & sum\\_read\\_count\\\\\n",
       "  & <I<chr>> & <dbl> & <dbl> & <dbl> & <dbl> & <int>\\\\\n",
       "\\hline\n",
       "\t1 & T1D\\_1\\_200712429\\_CTAT\\_C & 0.8132047 & -0.33489500 & 0.8124608 & -0.6704329 & 19\\\\\n",
       "\t2 & T1D\\_1\\_200718569\\_C\\_CTTG & 0.9090884 & -0.16147043 & 0.9147883 & -0.3021014 & 40\\\\\n",
       "\t3 & T1D\\_1\\_200761255\\_A\\_AT   & 0.9594162 &  0.07158819 & 0.9624402 &  0.1308676 & 28\\\\\n",
       "\t4 & T1D\\_1\\_200844298\\_CT\\_C   & 0.4983580 & -0.96776097 & 0.4981340 & -1.9309116 & 28\\\\\n",
       "\t5 & T1D\\_10\\_33305680\\_A\\_G    & 0.9647241 &  0.07049416 & 0.9170403 &  0.2168331 & 68\\\\\n",
       "\t6 & T1D\\_10\\_6537425\\_T\\_C     & 0.8090368 & -0.38178081 & 0.8432446 & -0.4100383 & 32\\\\\n",
       "\\end{tabular}\n"
      ],
      "text/markdown": [
       "\n",
       "A data.frame: 6 × 6\n",
       "\n",
       "| <!--/--> | snp_name &lt;I&lt;chr&gt;&gt; | pv_OBS &lt;dbl&gt; | OBS &lt;dbl&gt; | pv_PBS &lt;dbl&gt; | PBS &lt;dbl&gt; | sum_read_count &lt;int&gt; |\n",
       "|---|---|---|---|---|---|---|\n",
       "| 1 | T1D_1_200712429_CTAT_C | 0.8132047 | -0.33489500 | 0.8124608 | -0.6704329 | 19 |\n",
       "| 2 | T1D_1_200718569_C_CTTG | 0.9090884 | -0.16147043 | 0.9147883 | -0.3021014 | 40 |\n",
       "| 3 | T1D_1_200761255_A_AT   | 0.9594162 |  0.07158819 | 0.9624402 |  0.1308676 | 28 |\n",
       "| 4 | T1D_1_200844298_CT_C   | 0.4983580 | -0.96776097 | 0.4981340 | -1.9309116 | 28 |\n",
       "| 5 | T1D_10_33305680_A_G    | 0.9647241 |  0.07049416 | 0.9170403 |  0.2168331 | 68 |\n",
       "| 6 | T1D_10_6537425_T_C     | 0.8090368 | -0.38178081 | 0.8432446 | -0.4100383 | 32 |\n",
       "\n"
      ],
      "text/plain": [
       "  snp_name               pv_OBS    OBS         pv_PBS    PBS       \n",
       "1 T1D_1_200712429_CTAT_C 0.8132047 -0.33489500 0.8124608 -0.6704329\n",
       "2 T1D_1_200718569_C_CTTG 0.9090884 -0.16147043 0.9147883 -0.3021014\n",
       "3 T1D_1_200761255_A_AT   0.9594162  0.07158819 0.9624402  0.1308676\n",
       "4 T1D_1_200844298_CT_C   0.4983580 -0.96776097 0.4981340 -1.9309116\n",
       "5 T1D_10_33305680_A_G    0.9647241  0.07049416 0.9170403  0.2168331\n",
       "6 T1D_10_6537425_T_C     0.8090368 -0.38178081 0.8432446 -0.4100383\n",
       "  sum_read_count\n",
       "1 19            \n",
       "2 40            \n",
       "3 28            \n",
       "4 28            \n",
       "5 68            \n",
       "6 32            "
      ]
     },
     "metadata": {},
     "output_type": "display_data"
    }
   ],
   "source": [
    "head(bindino)"
   ]
  },
  {
   "cell_type": "markdown",
   "metadata": {},
   "source": [
    "### 2) Combine results from the same TFs"
   ]
  },
  {
   "cell_type": "code",
   "execution_count": 104,
   "metadata": {},
   "outputs": [],
   "source": [
    "motif_results = read.csv(\"../selex_t2d_t1d/results/QC_motif_enrichment/Motif_summary.csv\", row.names=1, stringsAsFactor=F)\n",
    "exclude_wells = motif_results$well[ motif_results$Combined==FALSE & (motif_results$Corr<0.6 | is.na(motif_results$Corr)) ]\n",
    "\n",
    "prot = read.table(\"../selex_t2d_t1d//info/TF_list.txt\", header=T)\n",
    "prot = subset(prot, !(protein %in% c('ORFwrong' ,'No')))\n",
    "prot = subset(prot, !(well %in% exclude_wells))"
   ]
  },
  {
   "cell_type": "code",
   "execution_count": 108,
   "metadata": {},
   "outputs": [],
   "source": [
    "pp = unique(prot$protein)"
   ]
  },
  {
   "cell_type": "code",
   "execution_count": 110,
   "metadata": {},
   "outputs": [],
   "source": [
    "dir.create(\"meta_prot\")"
   ]
  },
  {
   "cell_type": "code",
   "execution_count": 140,
   "metadata": {},
   "outputs": [],
   "source": [
    "for (p in pp){\n",
    "well_list = prot$well[prot$protein==p]\n",
    "outfile   = paste( 'meta_prot/' , p,  \"_Enrichment_scores_combined.txt\", sep=\"\")\n",
    "bindi     = data.frame() \n",
    "\n",
    "for (well in well_list) {\n",
    "file = paste( 'meta_reps/' , well,  \"_Enrichment_scores_reps_combined.txt\", sep=\"\")\n",
    "   if(file.exists(file)){\n",
    "rep = read.table(file , header=T,  sep=\"\\t\")\n",
    "rep$well = well    \n",
    "    }else{rep=NA}\n",
    "        \n",
    "    bindi   = na.omit(rbind(bindi, rep))\n",
    "    \n",
    "    }\n",
    "    \n",
    "if(nrow(bindi)>0){\n",
    "\n",
    "pvalues = c( 'pv_OBS','pv_PBS')  \n",
    "statist = c( 'OBS' ,   'PBS' )\n",
    "weigths = 'sum_read_count'\n",
    "\n",
    "    \n",
    "for (i in 1:2){\n",
    " meta = meta_analyze (bindi,pvalues[i], statist[i], weigths )\n",
    "    if(i ==1){\n",
    "        bindino = meta\n",
    "    }else{\n",
    "    bindino = merge(bindino, meta, by=1, all.x=T)\n",
    "    }\n",
    "}\n",
    "\n",
    "aga = aggregate(well ~ snp_name, bindi, paste, collapse = \",\")\n",
    "agb = aggregate(well ~ snp_name, bindi, length)  \n",
    "aga = merge(aga, agb, by=1)\n",
    "colnames(aga)[2:3] = c(\"wells\", \"n_wells\")    \n",
    "\n",
    "avg=aggregate(bindi [,\"sum_read_count\"] ~ snp_name, bindi , sum)  \n",
    "colnames(avg)[2]=\"sum_read_count\" \n",
    "\n",
    "bindino = merge(bindino, avg, by=1, all.x=T)\n",
    "bindino = merge(bindino, aga, by=1, all.x=T)\n",
    "\n",
    "\n",
    "write.table(bindino, outfile, sep=\"\\t\", row.names=F, quote=F)\n",
    "\n",
    "   } # if statement\n",
    "    } # tf loops"
   ]
  },
  {
   "cell_type": "code",
   "execution_count": null,
   "metadata": {},
   "outputs": [],
   "source": []
  }
 ],
 "metadata": {
  "kernelspec": {
   "display_name": "R 4.1",
   "language": "R",
   "name": "ir41"
  },
  "language_info": {
   "codemirror_mode": "r",
   "file_extension": ".r",
   "mimetype": "text/x-r-source",
   "name": "R",
   "pygments_lexer": "r",
   "version": "4.1.1"
  }
 },
 "nbformat": 4,
 "nbformat_minor": 1
}
