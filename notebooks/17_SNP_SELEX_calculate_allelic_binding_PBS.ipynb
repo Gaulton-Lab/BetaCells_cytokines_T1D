{
 "cells": [
  {
   "cell_type": "code",
   "execution_count": 1,
   "metadata": {},
   "outputs": [],
   "source": [
    "suppressPackageStartupMessages(library(stringr))\n",
    "suppressPackageStartupMessages(library(DescTools))\n",
    "suppressPackageStartupMessages(library(scales))\n",
    "suppressPackageStartupMessages(library(parallel))\n",
    "\n",
    "home_dir  = '/nfs/lab/projects/selex/pipeline'\n",
    "#well      = basename(getwd())\n",
    "prot      = read.table(paste(home_dir, \"TF_list.txt\", sep=\"/\"), header=T, stringsAsFactors = F)\n",
    "well_list = prot$well\n",
    "setwd(home_dir)"
   ]
  },
  {
   "cell_type": "code",
   "execution_count": 2,
   "metadata": {},
   "outputs": [],
   "source": [
    "#### I copied the count files in a new directory\n",
    "# for( well in well_list){\n",
    "# dir.create(wwll)\n",
    "# dir.create(paste0(well, '/snvs'))\n",
    "# file1 = paste('/nfs/lab/projects/selex/selex_t2d_t1d/results/obs_pbs_snvs/', well,  \"/Sum_of_alleles_over_cycles*\", sep=\"\")\n",
    "# system(paste('cp', file1, paste0(well, '/snvs')))\n",
    "# dir.create(paste0(well, '/indels'))\n",
    "# file2 = paste('/nfs/lab/projects/selex/selex_t2d_t1d/results/obs_pbs_indels/', well,  \"/Sum_of_alleles_over_cycles*\", sep=\"\")\n",
    "# system(paste('cp', file2, paste0(well, '/indels')))       \n",
    "# }       "
   ]
  },
  {
   "cell_type": "code",
   "execution_count": 2,
   "metadata": {},
   "outputs": [],
   "source": [
    "###### FUNCTIONS ######\n",
    "######################\n",
    "### function to calculate the area used for PBS and OBS\n",
    "\n",
    "calc_area = function(xx, yy){\n",
    "  N   = length(xx)\n",
    "  dx  = xx[2:N] - xx[1:(N-1)]\n",
    "  my  = 0.5*(yy[2:N] + yy[1:(N-1)])\n",
    "  A   = sum(dx * my)\n",
    "return(A)\n",
    "    }\n",
    "\n",
    "##### function to caluclate PBS \n",
    "calc_pbs = function(total_counts, ref_counts, alt_counts, pseudo =0.1){\n",
    "\n",
    "tab_ref = data.frame( \"rest\" = total_counts - ref_counts,  \"reads\" = ref_counts ) + pseudo\n",
    "tab_alt = data.frame( \"rest\" = total_counts - alt_counts,  \"reads\" = alt_counts ) + pseudo\n",
    "    \n",
    "logOR_ref = sapply(1:5, function(p) log10(tab_ref[1,1]) + log10(tab_ref[p,2]) - log10(tab_ref[1,2]) -log10(tab_ref[p,1]))\n",
    "logOR_alt = sapply(1:5, function(p) log10(tab_alt[1,1]) + log10(tab_alt[p,2]) - log10(tab_alt[1,2]) -log10(tab_alt[p,1]))  \n",
    "    \n",
    "pbs = calc_area(0:4, logOR_ref) - calc_area(0:4, logOR_alt)  \n",
    "return(pbs)    \n",
    "}\n",
    "\n",
    "#### make permutations by changing labels of the snps within the same cycles\n",
    "\n",
    "permuted_vals = function(MER){\n",
    "    \n",
    "permuted_snps =  unlist(lapply(split(MER, MER$cycle), function(x)  sample(x$snp_var )))\n",
    "o             =  sample(permuted_snps,1) \n",
    "test          =  subset(MER, permuted_snps==o)\n",
    "dd            = c( calc_pbs(test$read_count, test$ref_count, test$alt_count),\n",
    "                   calc_pbs(test$total_reads, test$ref_count, test$alt_count))\n",
    "return(dd)                             \n",
    "}"
   ]
  },
  {
   "cell_type": "code",
   "execution_count": 3,
   "metadata": {},
   "outputs": [],
   "source": [
    "##### Test using one experiment (loop or parallelize for all wells, two replicates and 2 variant types)\n",
    "well    = \"8_D3\"  ### well_list\n",
    "rep     = \"rep1\"  ### or \"rep2\" or none for merged \n",
    "vtype   = 'snvs'  ### or indels\n",
    "file    = paste(well, \"/\" ,vtype,   \"/Sum_of_alleles_over_cycles_\", rep, \".txt\", sep=\"\")\n",
    "\n"
   ]
  },
  {
   "cell_type": "code",
   "execution_count": 18,
   "metadata": {},
   "outputs": [],
   "source": [
    "if(file.exists(file)) {\n",
    "MER = read.table(file, header=T,  sep=\"\\t\")\n",
    "\n",
    "if((nrow(MER)>100 & vtype == \"snvs\") | (nrow(MER) >=10   & vtype == \"indels\" ))   { ### minumum number of oligos x well\n",
    "\n",
    "ag  = aggregate(cycle~snp_var, MER, paste, collapse=\"\")\n",
    "MER = subset(MER,snp_var %in% ag$snp_var[ag$cycle==\"01234\"]) ### read counts in all cycles\n",
    "\n",
    "PBS = OBS = c()\n",
    "#### loop thorugh each variant\n",
    "for( o in unique(MER$snp_var)) {\n",
    "        test = subset(MER, snp_var==o)\n",
    "\n",
    "    if (test$ref_count[1]/test$read_count[1] >= 0.05 & test$alt_count[1]/test$read_count[1] >= 0.05 ) { \n",
    "    ## ref and alt allele should be represented by at least 5% of input reads\n",
    "\n",
    "        ### calculate PBS #########\n",
    "        PBS[o]   = calc_pbs(test$read_count, test$ref_count, test$alt_count)\n",
    "\n",
    "        ### calculate deltaOBS ## the only difference is that is calculated on the total reads \n",
    "        OBS[o]   = calc_pbs(test$total_reads, test$ref_count, test$alt_count)    \n",
    "        } \n",
    "         }                  \n",
    "d = data.frame(OBS, PBS)\n",
    "\n",
    "    \n",
    "np=250000  #### number of permutations\n",
    "\n",
    "perm = mclapply(1:np, function(x) permuted_vals(MER), mc.cores=18)\n",
    "perm = matrix(unlist(perm), ncol=2, byrow=T)\n",
    "colnames(perm) = c(\"rPBS\", \"rOBS\")\n",
    "\n",
    "write.table(perm, paste(well,\"/\" ,vtype,\"/permutations_\",rep, sep=\"\"), quote=F, col.names=T, row.names=F)\n",
    "\n",
    "### P-values\n",
    "d$pv_OBS =  (sapply( abs(d$OBS), function(x) sum( abs(perm[,2])  >=x ))+1)/(np+1)\n",
    "d$pv_PBS =  (sapply( abs(d$PBS), function(x) sum( abs(perm[,1])  >=x ))+1)/(np+1)\n",
    "\n",
    "### Q-values\n",
    "d$qv_OBS = p.adjust(d$pv_OBS, \"BH\")\n",
    "d$qv_PBS = p.adjust(d$pv_PBS, \"BH\")\n",
    "\n",
    "write.table(d, paste(well,\"/Enrichment_scores_\", vtype ,'.',rep, sep=\"\"), quote=F)\n",
    "                    }\n",
    "                    }\n",
    "                    \n",
    "                    \n",
    "                    "
   ]
  },
  {
   "cell_type": "code",
   "execution_count": 29,
   "metadata": {},
   "outputs": [
    {
     "data": {
      "text/html": [
       "<table>\n",
       "<caption>A data.frame: 5 × 16</caption>\n",
       "<thead>\n",
       "\t<tr><th></th><th scope=col>snp</th><th scope=col>A</th><th scope=col>T</th><th scope=col>G</th><th scope=col>C</th><th scope=col>read_count</th><th scope=col>total_reads</th><th scope=col>cycle</th><th scope=col>ref</th><th scope=col>alt</th><th scope=col>t2d</th><th scope=col>t1d</th><th scope=col>snp_var</th><th scope=col>ref_count</th><th scope=col>alt_count</th><th scope=col>permuted_snps</th></tr>\n",
       "\t<tr><th></th><th scope=col>&lt;fct&gt;</th><th scope=col>&lt;int&gt;</th><th scope=col>&lt;int&gt;</th><th scope=col>&lt;int&gt;</th><th scope=col>&lt;int&gt;</th><th scope=col>&lt;int&gt;</th><th scope=col>&lt;int&gt;</th><th scope=col>&lt;int&gt;</th><th scope=col>&lt;fct&gt;</th><th scope=col>&lt;fct&gt;</th><th scope=col>&lt;lgl&gt;</th><th scope=col>&lt;lgl&gt;</th><th scope=col>&lt;fct&gt;</th><th scope=col>&lt;int&gt;</th><th scope=col>&lt;int&gt;</th><th scope=col>&lt;fct&gt;</th></tr>\n",
       "</thead>\n",
       "<tbody>\n",
       "\t<tr><th scope=row>1</th><td>T1D_1_101634618_G</td><td>5</td><td> 9</td><td> 4</td><td>2</td><td>20</td><td>1567611</td><td>0</td><td>G</td><td>A</td><td> TRUE</td><td> TRUE</td><td>T1D_1_101634618_G_A</td><td> 4</td><td> 5</td><td>T1D_6_32596647_T_C</td></tr>\n",
       "\t<tr><th scope=row>13494</th><td>T2D_11_92812922_A</td><td>9</td><td>10</td><td>10</td><td>8</td><td>37</td><td> 638181</td><td>1</td><td>A</td><td>G</td><td> TRUE</td><td>FALSE</td><td>T2D_11_92812922_A_G</td><td> 9</td><td>10</td><td>T1D_6_32596647_T_C</td></tr>\n",
       "\t<tr><th scope=row>23792</th><td>T2D_4_96748556_T </td><td>9</td><td>18</td><td> 8</td><td>4</td><td>39</td><td> 575048</td><td>2</td><td>T</td><td>A</td><td> TRUE</td><td>FALSE</td><td>T2D_4_96748556_T_A </td><td>18</td><td> 9</td><td>T1D_6_32596647_T_C</td></tr>\n",
       "\t<tr><th scope=row>26421</th><td>T1D_16_29198117_G</td><td>8</td><td> 8</td><td> 6</td><td>6</td><td>28</td><td> 551284</td><td>3</td><td>G</td><td>A</td><td>FALSE</td><td> TRUE</td><td>T1D_16_29198117_G_A</td><td> 6</td><td> 8</td><td>T1D_6_32596647_T_C</td></tr>\n",
       "\t<tr><th scope=row>37496</th><td>T1D_7_27017870_G </td><td>8</td><td>15</td><td> 6</td><td>9</td><td>38</td><td> 655179</td><td>4</td><td>G</td><td>A</td><td>FALSE</td><td> TRUE</td><td>T1D_7_27017870_G_A </td><td> 6</td><td> 8</td><td>T1D_6_32596647_T_C</td></tr>\n",
       "</tbody>\n",
       "</table>\n"
      ],
      "text/latex": [
       "A data.frame: 5 × 16\n",
       "\\begin{tabular}{r|llllllllllllllll}\n",
       "  & snp & A & T & G & C & read\\_count & total\\_reads & cycle & ref & alt & t2d & t1d & snp\\_var & ref\\_count & alt\\_count & permuted\\_snps\\\\\n",
       "  & <fct> & <int> & <int> & <int> & <int> & <int> & <int> & <int> & <fct> & <fct> & <lgl> & <lgl> & <fct> & <int> & <int> & <fct>\\\\\n",
       "\\hline\n",
       "\t1 & T1D\\_1\\_101634618\\_G & 5 &  9 &  4 & 2 & 20 & 1567611 & 0 & G & A &  TRUE &  TRUE & T1D\\_1\\_101634618\\_G\\_A &  4 &  5 & T1D\\_6\\_32596647\\_T\\_C\\\\\n",
       "\t13494 & T2D\\_11\\_92812922\\_A & 9 & 10 & 10 & 8 & 37 &  638181 & 1 & A & G &  TRUE & FALSE & T2D\\_11\\_92812922\\_A\\_G &  9 & 10 & T1D\\_6\\_32596647\\_T\\_C\\\\\n",
       "\t23792 & T2D\\_4\\_96748556\\_T  & 9 & 18 &  8 & 4 & 39 &  575048 & 2 & T & A &  TRUE & FALSE & T2D\\_4\\_96748556\\_T\\_A  & 18 &  9 & T1D\\_6\\_32596647\\_T\\_C\\\\\n",
       "\t26421 & T1D\\_16\\_29198117\\_G & 8 &  8 &  6 & 6 & 28 &  551284 & 3 & G & A & FALSE &  TRUE & T1D\\_16\\_29198117\\_G\\_A &  6 &  8 & T1D\\_6\\_32596647\\_T\\_C\\\\\n",
       "\t37496 & T1D\\_7\\_27017870\\_G  & 8 & 15 &  6 & 9 & 38 &  655179 & 4 & G & A & FALSE &  TRUE & T1D\\_7\\_27017870\\_G\\_A  &  6 &  8 & T1D\\_6\\_32596647\\_T\\_C\\\\\n",
       "\\end{tabular}\n"
      ],
      "text/markdown": [
       "\n",
       "A data.frame: 5 × 16\n",
       "\n",
       "| <!--/--> | snp &lt;fct&gt; | A &lt;int&gt; | T &lt;int&gt; | G &lt;int&gt; | C &lt;int&gt; | read_count &lt;int&gt; | total_reads &lt;int&gt; | cycle &lt;int&gt; | ref &lt;fct&gt; | alt &lt;fct&gt; | t2d &lt;lgl&gt; | t1d &lt;lgl&gt; | snp_var &lt;fct&gt; | ref_count &lt;int&gt; | alt_count &lt;int&gt; | permuted_snps &lt;fct&gt; |\n",
       "|---|---|---|---|---|---|---|---|---|---|---|---|---|---|---|---|---|\n",
       "| 1 | T1D_1_101634618_G | 5 |  9 |  4 | 2 | 20 | 1567611 | 0 | G | A |  TRUE |  TRUE | T1D_1_101634618_G_A |  4 |  5 | T1D_6_32596647_T_C |\n",
       "| 13494 | T2D_11_92812922_A | 9 | 10 | 10 | 8 | 37 |  638181 | 1 | A | G |  TRUE | FALSE | T2D_11_92812922_A_G |  9 | 10 | T1D_6_32596647_T_C |\n",
       "| 23792 | T2D_4_96748556_T  | 9 | 18 |  8 | 4 | 39 |  575048 | 2 | T | A |  TRUE | FALSE | T2D_4_96748556_T_A  | 18 |  9 | T1D_6_32596647_T_C |\n",
       "| 26421 | T1D_16_29198117_G | 8 |  8 |  6 | 6 | 28 |  551284 | 3 | G | A | FALSE |  TRUE | T1D_16_29198117_G_A |  6 |  8 | T1D_6_32596647_T_C |\n",
       "| 37496 | T1D_7_27017870_G  | 8 | 15 |  6 | 9 | 38 |  655179 | 4 | G | A | FALSE |  TRUE | T1D_7_27017870_G_A  |  6 |  8 | T1D_6_32596647_T_C |\n",
       "\n"
      ],
      "text/plain": [
       "      snp               A T  G  C read_count total_reads cycle ref alt t2d  \n",
       "1     T1D_1_101634618_G 5  9  4 2 20         1567611     0     G   A    TRUE\n",
       "13494 T2D_11_92812922_A 9 10 10 8 37          638181     1     A   G    TRUE\n",
       "23792 T2D_4_96748556_T  9 18  8 4 39          575048     2     T   A    TRUE\n",
       "26421 T1D_16_29198117_G 8  8  6 6 28          551284     3     G   A   FALSE\n",
       "37496 T1D_7_27017870_G  8 15  6 9 38          655179     4     G   A   FALSE\n",
       "      t1d   snp_var             ref_count alt_count permuted_snps     \n",
       "1      TRUE T1D_1_101634618_G_A  4         5        T1D_6_32596647_T_C\n",
       "13494 FALSE T2D_11_92812922_A_G  9        10        T1D_6_32596647_T_C\n",
       "23792 FALSE T2D_4_96748556_T_A  18         9        T1D_6_32596647_T_C\n",
       "26421  TRUE T1D_16_29198117_G_A  6         8        T1D_6_32596647_T_C\n",
       "37496  TRUE T1D_7_27017870_G_A   6         8        T1D_6_32596647_T_C"
      ]
     },
     "metadata": {},
     "output_type": "display_data"
    }
   ],
   "source": [
    "head(test)"
   ]
  },
  {
   "cell_type": "markdown",
   "metadata": {},
   "source": [
    "#### Count the sum of the reads in cycle 1:4 to use as weight in the metaanalysis\n",
    "I forgot to add it so I'll make a new file"
   ]
  },
  {
   "cell_type": "code",
   "execution_count": null,
   "metadata": {},
   "outputs": [],
   "source": [
    "for (well   in    well_list)     {\n",
    "for (rep    in    c(\"rep1\" , \"rep2\" ))   {\n",
    "for (vtype  in    c('snvs' , 'indels'))      {\n",
    "\n",
    "file    = paste(well, \"/\" ,vtype,   \"/Sum_of_alleles_over_cycles_\", rep, \".txt\", sep=\"\")\n",
    "\n",
    "if(file.exists(file)) {\n",
    "MER = read.table(file, header=T,  sep=\"\\t\")\n",
    "\n",
    "if((nrow(MER)>100 & vtype == \"snvs\") | (nrow(MER) >=10   & vtype == \"indels\" ))   { ### minumum number of oligos x well\n",
    "\n",
    "ag  = aggregate(cycle~snp_var, MER, paste, collapse=\"\")\n",
    "MER = subset(MER,snp_var %in% ag$snp_var[ag$cycle==\"01234\"]) ### read counts in all cycles\n",
    "\n",
    "sp = split(MER, MER$snp_var)\n",
    "readcounts = sapply( sp, function(x) sum(x[2:5,c('ref_count','alt_count')]))\n",
    "     outfile = paste(well, \"/\" ,vtype,   \"/read_counts_\", rep, \".txt\", sep=\"\") \n",
    "                    write.table (readcounts, outfile, col.names=F, sep=\"\\t\", quote=F)             \n",
    "                    }\n",
    "            }\n",
    "                  }\n",
    "                    }\n",
    "                      }"
   ]
  },
  {
   "cell_type": "code",
   "execution_count": null,
   "metadata": {},
   "outputs": [],
   "source": []
  }
 ],
 "metadata": {
  "kernelspec": {
   "display_name": "R 4.1",
   "language": "R",
   "name": "ir41"
  },
  "language_info": {
   "codemirror_mode": "r",
   "file_extension": ".r",
   "mimetype": "text/x-r-source",
   "name": "R",
   "pygments_lexer": "r",
   "version": "4.1.1"
  }
 },
 "nbformat": 4,
 "nbformat_minor": 2
}
