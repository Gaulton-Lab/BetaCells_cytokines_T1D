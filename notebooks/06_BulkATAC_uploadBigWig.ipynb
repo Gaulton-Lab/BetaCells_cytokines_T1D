{
 "cells": [
  {
   "cell_type": "code",
   "execution_count": 15,
   "metadata": {},
   "outputs": [],
   "source": [
    "library(stringr)\n",
    "library(RColorBrewer)"
   ]
  },
  {
   "cell_type": "markdown",
   "metadata": {},
   "source": [
    "#### This takes all .bw files that are in the speficied directory "
   ]
  },
  {
   "cell_type": "code",
   "execution_count": 2,
   "metadata": {},
   "outputs": [],
   "source": [
    "bwdir = '/nfs/lab/projects/islet_cytok/data/ATACseq/bigWig_bulkATAC_merged'"
   ]
  },
  {
   "cell_type": "code",
   "execution_count": 6,
   "metadata": {},
   "outputs": [],
   "source": [
    "bws = list.files(bwdir)[grepl(\".bw\",list.files(bwdir))]"
   ]
  },
  {
   "cell_type": "code",
   "execution_count": 7,
   "metadata": {},
   "outputs": [],
   "source": [
    "samples = str_remove (bws, \"_merge.bw\")"
   ]
  },
  {
   "cell_type": "code",
   "execution_count": 8,
   "metadata": {},
   "outputs": [
    {
     "data": {
      "text/html": [
       "<style>\n",
       ".list-inline {list-style: none; margin:0; padding: 0}\n",
       ".list-inline>li {display: inline-block}\n",
       ".list-inline>li:not(:last-child)::after {content: \"\\00b7\"; padding: 0 .5ex}\n",
       "</style>\n",
       "<ol class=list-inline><li>'hi224'</li><li>'hi24'</li><li>'hi48'</li><li>'hi6'</li><li>'hi72'</li><li>'lo224'</li><li>'lo24'</li><li>'unt24'</li><li>'unt48'</li><li>'unt6'</li><li>'unt72'</li></ol>\n"
      ],
      "text/latex": [
       "\\begin{enumerate*}\n",
       "\\item 'hi224'\n",
       "\\item 'hi24'\n",
       "\\item 'hi48'\n",
       "\\item 'hi6'\n",
       "\\item 'hi72'\n",
       "\\item 'lo224'\n",
       "\\item 'lo24'\n",
       "\\item 'unt24'\n",
       "\\item 'unt48'\n",
       "\\item 'unt6'\n",
       "\\item 'unt72'\n",
       "\\end{enumerate*}\n"
      ],
      "text/markdown": [
       "1. 'hi224'\n",
       "2. 'hi24'\n",
       "3. 'hi48'\n",
       "4. 'hi6'\n",
       "5. 'hi72'\n",
       "6. 'lo224'\n",
       "7. 'lo24'\n",
       "8. 'unt24'\n",
       "9. 'unt48'\n",
       "10. 'unt6'\n",
       "11. 'unt72'\n",
       "\n",
       "\n"
      ],
      "text/plain": [
       " [1] \"hi224\" \"hi24\"  \"hi48\"  \"hi6\"   \"hi72\"  \"lo224\" \"lo24\"  \"unt24\" \"unt48\"\n",
       "[10] \"unt6\"  \"unt72\""
      ]
     },
     "metadata": {},
     "output_type": "display_data"
    }
   ],
   "source": [
    "samples"
   ]
  },
  {
   "cell_type": "markdown",
   "metadata": {},
   "source": [
    "#### Copy the .bw files in the amazon bucket"
   ]
  },
  {
   "cell_type": "code",
   "execution_count": 9,
   "metadata": {},
   "outputs": [],
   "source": [
    "awsdir = 's3://gaulton-lab-ucsc/treated_islet_new/'"
   ]
  },
  {
   "cell_type": "code",
   "execution_count": 12,
   "metadata": {},
   "outputs": [],
   "source": [
    "commands = paste0(\"aws s3 cp \" , bwdir,\"/\", bws,\" \" ,awsdir , bws)"
   ]
  },
  {
   "cell_type": "code",
   "execution_count": 13,
   "metadata": {
    "scrolled": true
   },
   "outputs": [
    {
     "data": {
      "text/html": [
       "<style>\n",
       ".dl-inline {width: auto; margin:0; padding: 0}\n",
       ".dl-inline>dt, .dl-inline>dd {float: none; width: auto; display: inline-block}\n",
       ".dl-inline>dt::after {content: \":\\0020\"; padding-right: .5ex}\n",
       ".dl-inline>dt:not(:first-of-type) {padding-left: .5ex}\n",
       "</style><dl class=dl-inline><dt>aws s3 cp /nfs/lab/projects/islet_cytok/data/ATACseq/bigWig_bulkATAC_merged/hi224_merge.bw s3://gaulton-lab-ucsc/treated_islet_new/hi224_merge.bw</dt><dd>0</dd><dt>aws s3 cp /nfs/lab/projects/islet_cytok/data/ATACseq/bigWig_bulkATAC_merged/hi24_merge.bw s3://gaulton-lab-ucsc/treated_islet_new/hi24_merge.bw</dt><dd>0</dd><dt>aws s3 cp /nfs/lab/projects/islet_cytok/data/ATACseq/bigWig_bulkATAC_merged/hi48_merge.bw s3://gaulton-lab-ucsc/treated_islet_new/hi48_merge.bw</dt><dd>0</dd><dt>aws s3 cp /nfs/lab/projects/islet_cytok/data/ATACseq/bigWig_bulkATAC_merged/hi6_merge.bw s3://gaulton-lab-ucsc/treated_islet_new/hi6_merge.bw</dt><dd>0</dd><dt>aws s3 cp /nfs/lab/projects/islet_cytok/data/ATACseq/bigWig_bulkATAC_merged/hi72_merge.bw s3://gaulton-lab-ucsc/treated_islet_new/hi72_merge.bw</dt><dd>0</dd><dt>aws s3 cp /nfs/lab/projects/islet_cytok/data/ATACseq/bigWig_bulkATAC_merged/lo224_merge.bw s3://gaulton-lab-ucsc/treated_islet_new/lo224_merge.bw</dt><dd>0</dd><dt>aws s3 cp /nfs/lab/projects/islet_cytok/data/ATACseq/bigWig_bulkATAC_merged/lo24_merge.bw s3://gaulton-lab-ucsc/treated_islet_new/lo24_merge.bw</dt><dd>0</dd><dt>aws s3 cp /nfs/lab/projects/islet_cytok/data/ATACseq/bigWig_bulkATAC_merged/unt24_merge.bw s3://gaulton-lab-ucsc/treated_islet_new/unt24_merge.bw</dt><dd>0</dd><dt>aws s3 cp /nfs/lab/projects/islet_cytok/data/ATACseq/bigWig_bulkATAC_merged/unt48_merge.bw s3://gaulton-lab-ucsc/treated_islet_new/unt48_merge.bw</dt><dd>0</dd><dt>aws s3 cp /nfs/lab/projects/islet_cytok/data/ATACseq/bigWig_bulkATAC_merged/unt6_merge.bw s3://gaulton-lab-ucsc/treated_islet_new/unt6_merge.bw</dt><dd>0</dd><dt>aws s3 cp /nfs/lab/projects/islet_cytok/data/ATACseq/bigWig_bulkATAC_merged/unt72_merge.bw s3://gaulton-lab-ucsc/treated_islet_new/unt72_merge.bw</dt><dd>0</dd></dl>\n"
      ],
      "text/latex": [
       "\\begin{description*}\n",
       "\\item[aws s3 cp /nfs/lab/projects/islet\\textbackslash{}\\_cytok/data/ATACseq/bigWig\\textbackslash{}\\_bulkATAC\\textbackslash{}\\_merged/hi224\\textbackslash{}\\_merge.bw s3://gaulton-lab-ucsc/treated\\textbackslash{}\\_islet\\textbackslash{}\\_new/hi224\\textbackslash{}\\_merge.bw] 0\n",
       "\\item[aws s3 cp /nfs/lab/projects/islet\\textbackslash{}\\_cytok/data/ATACseq/bigWig\\textbackslash{}\\_bulkATAC\\textbackslash{}\\_merged/hi24\\textbackslash{}\\_merge.bw s3://gaulton-lab-ucsc/treated\\textbackslash{}\\_islet\\textbackslash{}\\_new/hi24\\textbackslash{}\\_merge.bw] 0\n",
       "\\item[aws s3 cp /nfs/lab/projects/islet\\textbackslash{}\\_cytok/data/ATACseq/bigWig\\textbackslash{}\\_bulkATAC\\textbackslash{}\\_merged/hi48\\textbackslash{}\\_merge.bw s3://gaulton-lab-ucsc/treated\\textbackslash{}\\_islet\\textbackslash{}\\_new/hi48\\textbackslash{}\\_merge.bw] 0\n",
       "\\item[aws s3 cp /nfs/lab/projects/islet\\textbackslash{}\\_cytok/data/ATACseq/bigWig\\textbackslash{}\\_bulkATAC\\textbackslash{}\\_merged/hi6\\textbackslash{}\\_merge.bw s3://gaulton-lab-ucsc/treated\\textbackslash{}\\_islet\\textbackslash{}\\_new/hi6\\textbackslash{}\\_merge.bw] 0\n",
       "\\item[aws s3 cp /nfs/lab/projects/islet\\textbackslash{}\\_cytok/data/ATACseq/bigWig\\textbackslash{}\\_bulkATAC\\textbackslash{}\\_merged/hi72\\textbackslash{}\\_merge.bw s3://gaulton-lab-ucsc/treated\\textbackslash{}\\_islet\\textbackslash{}\\_new/hi72\\textbackslash{}\\_merge.bw] 0\n",
       "\\item[aws s3 cp /nfs/lab/projects/islet\\textbackslash{}\\_cytok/data/ATACseq/bigWig\\textbackslash{}\\_bulkATAC\\textbackslash{}\\_merged/lo224\\textbackslash{}\\_merge.bw s3://gaulton-lab-ucsc/treated\\textbackslash{}\\_islet\\textbackslash{}\\_new/lo224\\textbackslash{}\\_merge.bw] 0\n",
       "\\item[aws s3 cp /nfs/lab/projects/islet\\textbackslash{}\\_cytok/data/ATACseq/bigWig\\textbackslash{}\\_bulkATAC\\textbackslash{}\\_merged/lo24\\textbackslash{}\\_merge.bw s3://gaulton-lab-ucsc/treated\\textbackslash{}\\_islet\\textbackslash{}\\_new/lo24\\textbackslash{}\\_merge.bw] 0\n",
       "\\item[aws s3 cp /nfs/lab/projects/islet\\textbackslash{}\\_cytok/data/ATACseq/bigWig\\textbackslash{}\\_bulkATAC\\textbackslash{}\\_merged/unt24\\textbackslash{}\\_merge.bw s3://gaulton-lab-ucsc/treated\\textbackslash{}\\_islet\\textbackslash{}\\_new/unt24\\textbackslash{}\\_merge.bw] 0\n",
       "\\item[aws s3 cp /nfs/lab/projects/islet\\textbackslash{}\\_cytok/data/ATACseq/bigWig\\textbackslash{}\\_bulkATAC\\textbackslash{}\\_merged/unt48\\textbackslash{}\\_merge.bw s3://gaulton-lab-ucsc/treated\\textbackslash{}\\_islet\\textbackslash{}\\_new/unt48\\textbackslash{}\\_merge.bw] 0\n",
       "\\item[aws s3 cp /nfs/lab/projects/islet\\textbackslash{}\\_cytok/data/ATACseq/bigWig\\textbackslash{}\\_bulkATAC\\textbackslash{}\\_merged/unt6\\textbackslash{}\\_merge.bw s3://gaulton-lab-ucsc/treated\\textbackslash{}\\_islet\\textbackslash{}\\_new/unt6\\textbackslash{}\\_merge.bw] 0\n",
       "\\item[aws s3 cp /nfs/lab/projects/islet\\textbackslash{}\\_cytok/data/ATACseq/bigWig\\textbackslash{}\\_bulkATAC\\textbackslash{}\\_merged/unt72\\textbackslash{}\\_merge.bw s3://gaulton-lab-ucsc/treated\\textbackslash{}\\_islet\\textbackslash{}\\_new/unt72\\textbackslash{}\\_merge.bw] 0\n",
       "\\end{description*}\n"
      ],
      "text/markdown": [
       "aws s3 cp /nfs/lab/projects/islet_cytok/data/ATACseq/bigWig_bulkATAC_merged/hi224_merge.bw s3://gaulton-lab-ucsc/treated_islet_new/hi224_merge.bw\n",
       ":   0aws s3 cp /nfs/lab/projects/islet_cytok/data/ATACseq/bigWig_bulkATAC_merged/hi24_merge.bw s3://gaulton-lab-ucsc/treated_islet_new/hi24_merge.bw\n",
       ":   0aws s3 cp /nfs/lab/projects/islet_cytok/data/ATACseq/bigWig_bulkATAC_merged/hi48_merge.bw s3://gaulton-lab-ucsc/treated_islet_new/hi48_merge.bw\n",
       ":   0aws s3 cp /nfs/lab/projects/islet_cytok/data/ATACseq/bigWig_bulkATAC_merged/hi6_merge.bw s3://gaulton-lab-ucsc/treated_islet_new/hi6_merge.bw\n",
       ":   0aws s3 cp /nfs/lab/projects/islet_cytok/data/ATACseq/bigWig_bulkATAC_merged/hi72_merge.bw s3://gaulton-lab-ucsc/treated_islet_new/hi72_merge.bw\n",
       ":   0aws s3 cp /nfs/lab/projects/islet_cytok/data/ATACseq/bigWig_bulkATAC_merged/lo224_merge.bw s3://gaulton-lab-ucsc/treated_islet_new/lo224_merge.bw\n",
       ":   0aws s3 cp /nfs/lab/projects/islet_cytok/data/ATACseq/bigWig_bulkATAC_merged/lo24_merge.bw s3://gaulton-lab-ucsc/treated_islet_new/lo24_merge.bw\n",
       ":   0aws s3 cp /nfs/lab/projects/islet_cytok/data/ATACseq/bigWig_bulkATAC_merged/unt24_merge.bw s3://gaulton-lab-ucsc/treated_islet_new/unt24_merge.bw\n",
       ":   0aws s3 cp /nfs/lab/projects/islet_cytok/data/ATACseq/bigWig_bulkATAC_merged/unt48_merge.bw s3://gaulton-lab-ucsc/treated_islet_new/unt48_merge.bw\n",
       ":   0aws s3 cp /nfs/lab/projects/islet_cytok/data/ATACseq/bigWig_bulkATAC_merged/unt6_merge.bw s3://gaulton-lab-ucsc/treated_islet_new/unt6_merge.bw\n",
       ":   0aws s3 cp /nfs/lab/projects/islet_cytok/data/ATACseq/bigWig_bulkATAC_merged/unt72_merge.bw s3://gaulton-lab-ucsc/treated_islet_new/unt72_merge.bw\n",
       ":   0\n",
       "\n"
      ],
      "text/plain": [
       "aws s3 cp /nfs/lab/projects/islet_cytok/data/ATACseq/bigWig_bulkATAC_merged/hi224_merge.bw s3://gaulton-lab-ucsc/treated_islet_new/hi224_merge.bw \n",
       "                                                                                                                                                0 \n",
       "  aws s3 cp /nfs/lab/projects/islet_cytok/data/ATACseq/bigWig_bulkATAC_merged/hi24_merge.bw s3://gaulton-lab-ucsc/treated_islet_new/hi24_merge.bw \n",
       "                                                                                                                                                0 \n",
       "  aws s3 cp /nfs/lab/projects/islet_cytok/data/ATACseq/bigWig_bulkATAC_merged/hi48_merge.bw s3://gaulton-lab-ucsc/treated_islet_new/hi48_merge.bw \n",
       "                                                                                                                                                0 \n",
       "    aws s3 cp /nfs/lab/projects/islet_cytok/data/ATACseq/bigWig_bulkATAC_merged/hi6_merge.bw s3://gaulton-lab-ucsc/treated_islet_new/hi6_merge.bw \n",
       "                                                                                                                                                0 \n",
       "  aws s3 cp /nfs/lab/projects/islet_cytok/data/ATACseq/bigWig_bulkATAC_merged/hi72_merge.bw s3://gaulton-lab-ucsc/treated_islet_new/hi72_merge.bw \n",
       "                                                                                                                                                0 \n",
       "aws s3 cp /nfs/lab/projects/islet_cytok/data/ATACseq/bigWig_bulkATAC_merged/lo224_merge.bw s3://gaulton-lab-ucsc/treated_islet_new/lo224_merge.bw \n",
       "                                                                                                                                                0 \n",
       "  aws s3 cp /nfs/lab/projects/islet_cytok/data/ATACseq/bigWig_bulkATAC_merged/lo24_merge.bw s3://gaulton-lab-ucsc/treated_islet_new/lo24_merge.bw \n",
       "                                                                                                                                                0 \n",
       "aws s3 cp /nfs/lab/projects/islet_cytok/data/ATACseq/bigWig_bulkATAC_merged/unt24_merge.bw s3://gaulton-lab-ucsc/treated_islet_new/unt24_merge.bw \n",
       "                                                                                                                                                0 \n",
       "aws s3 cp /nfs/lab/projects/islet_cytok/data/ATACseq/bigWig_bulkATAC_merged/unt48_merge.bw s3://gaulton-lab-ucsc/treated_islet_new/unt48_merge.bw \n",
       "                                                                                                                                                0 \n",
       "  aws s3 cp /nfs/lab/projects/islet_cytok/data/ATACseq/bigWig_bulkATAC_merged/unt6_merge.bw s3://gaulton-lab-ucsc/treated_islet_new/unt6_merge.bw \n",
       "                                                                                                                                                0 \n",
       "aws s3 cp /nfs/lab/projects/islet_cytok/data/ATACseq/bigWig_bulkATAC_merged/unt72_merge.bw s3://gaulton-lab-ucsc/treated_islet_new/unt72_merge.bw \n",
       "                                                                                                                                                0 "
      ]
     },
     "metadata": {},
     "output_type": "display_data"
    }
   ],
   "source": [
    "sapply (commands, system)"
   ]
  },
  {
   "cell_type": "markdown",
   "metadata": {},
   "source": [
    "#### Make track lines to inster tin the ucsc browser (copy-paste)"
   ]
  },
  {
   "cell_type": "code",
   "execution_count": 24,
   "metadata": {},
   "outputs": [],
   "source": [
    "color = brewer.pal(5, \"Set1\")[c(5,1,1,1,1,2,3,4,4,4,4)]"
   ]
  },
  {
   "cell_type": "code",
   "execution_count": 26,
   "metadata": {},
   "outputs": [],
   "source": [
    "rgb_colors   = sapply (color , function(x) paste(col2rgb(x), collapse=\",\"))"
   ]
  },
  {
   "cell_type": "code",
   "execution_count": 32,
   "metadata": {},
   "outputs": [
    {
     "name": "stdout",
     "output_type": "stream",
     "text": [
      "track name=\"hi224\" color=255,127,0 type=bigWig bigDataUrl=https://s3-us-west-2.amazonaws.com/gaulton-lab-ucsc/treated_islet_new/hi224_merge.bw visibility=2 maxHeightPixels=20 smoothingWindow=2 autoScale=off viewLimits=0:30 yLineOnOff=on \n",
      "track name=\"hi24\" color=228,26,28 type=bigWig bigDataUrl=https://s3-us-west-2.amazonaws.com/gaulton-lab-ucsc/treated_islet_new/hi24_merge.bw visibility=2 maxHeightPixels=20 smoothingWindow=2 autoScale=off viewLimits=0:30 yLineOnOff=on \n",
      "track name=\"hi48\" color=228,26,28 type=bigWig bigDataUrl=https://s3-us-west-2.amazonaws.com/gaulton-lab-ucsc/treated_islet_new/hi48_merge.bw visibility=2 maxHeightPixels=20 smoothingWindow=2 autoScale=off viewLimits=0:30 yLineOnOff=on \n",
      "track name=\"hi6\" color=228,26,28 type=bigWig bigDataUrl=https://s3-us-west-2.amazonaws.com/gaulton-lab-ucsc/treated_islet_new/hi6_merge.bw visibility=2 maxHeightPixels=20 smoothingWindow=2 autoScale=off viewLimits=0:30 yLineOnOff=on \n",
      "track name=\"hi72\" color=228,26,28 type=bigWig bigDataUrl=https://s3-us-west-2.amazonaws.com/gaulton-lab-ucsc/treated_islet_new/hi72_merge.bw visibility=2 maxHeightPixels=20 smoothingWindow=2 autoScale=off viewLimits=0:30 yLineOnOff=on \n",
      "track name=\"lo224\" color=55,126,184 type=bigWig bigDataUrl=https://s3-us-west-2.amazonaws.com/gaulton-lab-ucsc/treated_islet_new/lo224_merge.bw visibility=2 maxHeightPixels=20 smoothingWindow=2 autoScale=off viewLimits=0:30 yLineOnOff=on \n",
      "track name=\"lo24\" color=77,175,74 type=bigWig bigDataUrl=https://s3-us-west-2.amazonaws.com/gaulton-lab-ucsc/treated_islet_new/lo24_merge.bw visibility=2 maxHeightPixels=20 smoothingWindow=2 autoScale=off viewLimits=0:30 yLineOnOff=on \n",
      "track name=\"unt24\" color=152,78,163 type=bigWig bigDataUrl=https://s3-us-west-2.amazonaws.com/gaulton-lab-ucsc/treated_islet_new/unt24_merge.bw visibility=2 maxHeightPixels=20 smoothingWindow=2 autoScale=off viewLimits=0:30 yLineOnOff=on \n",
      "track name=\"unt48\" color=152,78,163 type=bigWig bigDataUrl=https://s3-us-west-2.amazonaws.com/gaulton-lab-ucsc/treated_islet_new/unt48_merge.bw visibility=2 maxHeightPixels=20 smoothingWindow=2 autoScale=off viewLimits=0:30 yLineOnOff=on \n",
      "track name=\"unt6\" color=152,78,163 type=bigWig bigDataUrl=https://s3-us-west-2.amazonaws.com/gaulton-lab-ucsc/treated_islet_new/unt6_merge.bw visibility=2 maxHeightPixels=20 smoothingWindow=2 autoScale=off viewLimits=0:30 yLineOnOff=on \n",
      "track name=\"unt72\" color=152,78,163 type=bigWig bigDataUrl=https://s3-us-west-2.amazonaws.com/gaulton-lab-ucsc/treated_islet_new/unt72_merge.bw visibility=2 maxHeightPixels=20 smoothingWindow=2 autoScale=off viewLimits=0:30 yLineOnOff=on \n"
     ]
    }
   ],
   "source": [
    "for( i in 1:length(samples)) {\n",
    "nam    = samples[i]\n",
    "col    = rgb_colors [i]\n",
    "url    = paste0('https://s3-us-west-2.amazonaws.com/gaulton-lab-ucsc/treated_islet_new/', bws[i])\n",
    "text   = paste(\"track name=\\\"\", nam, \"\\\" color=\", col, \" type=bigWig bigDataUrl=\", url, \n",
    "               \" visibility=2 maxHeightPixels=20 smoothingWindow=2 autoScale=off viewLimits=0:30 yLineOnOff=on\", sep=\"\")\n",
    "cat(text, \"\\n\")    \n",
    "    }"
   ]
  },
  {
   "cell_type": "code",
   "execution_count": null,
   "metadata": {},
   "outputs": [],
   "source": []
  }
 ],
 "metadata": {
  "kernelspec": {
   "display_name": "R",
   "language": "R",
   "name": "ir"
  },
  "language_info": {
   "codemirror_mode": "r",
   "file_extension": ".r",
   "mimetype": "text/x-r-source",
   "name": "R",
   "pygments_lexer": "r",
   "version": "3.6.0"
  }
 },
 "nbformat": 4,
 "nbformat_minor": 2
}
