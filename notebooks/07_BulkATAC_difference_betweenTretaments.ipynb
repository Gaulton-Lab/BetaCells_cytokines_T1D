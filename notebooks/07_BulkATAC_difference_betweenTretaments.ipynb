{
 "cells": [
  {
   "cell_type": "code",
   "execution_count": 143,
   "id": "considered-helena",
   "metadata": {},
   "outputs": [],
   "source": [
    "library(stringr)\n",
    "library(parallel)\n",
    "library(pheatmap)\n",
    "suppressPackageStartupMessages(library(DESeq2))\n",
    "suppressPackageStartupMessages(library(limma))\n",
    "suppressPackageStartupMessages(library(RColorBrewer))\n",
    "suppressPackageStartupMessages(library(plot3D))\n",
    "suppressPackageStartupMessages(library(scales))"
   ]
  },
  {
   "cell_type": "markdown",
   "id": "coordinated-minutes",
   "metadata": {},
   "source": [
    "## Examples of peaks that change by time"
   ]
  },
  {
   "cell_type": "code",
   "execution_count": 2,
   "id": "color-holder",
   "metadata": {},
   "outputs": [],
   "source": [
    "setwd('/nfs/lab/projects/islet_cytok/analysis/deseq_matrix')"
   ]
  },
  {
   "cell_type": "code",
   "execution_count": 3,
   "id": "adjacent-congo",
   "metadata": {},
   "outputs": [],
   "source": [
    "meta = read.table(\"metadata_atac\", header= T)"
   ]
  },
  {
   "cell_type": "code",
   "execution_count": 4,
   "id": "postal-company",
   "metadata": {},
   "outputs": [],
   "source": [
    "meta2 = read.table(\"cytokine_35.metadata.txt\", header=T)"
   ]
  },
  {
   "cell_type": "code",
   "execution_count": 5,
   "id": "certain-reunion",
   "metadata": {},
   "outputs": [
    {
     "data": {
      "text/html": [
       "35"
      ],
      "text/latex": [
       "35"
      ],
      "text/markdown": [
       "35"
      ],
      "text/plain": [
       "[1] 35"
      ]
     },
     "metadata": {},
     "output_type": "display_data"
    }
   ],
   "source": [
    "sum(meta2$treatment %in% meta$Internal_Data_Label)"
   ]
  },
  {
   "cell_type": "code",
   "execution_count": 6,
   "id": "electrical-subcommittee",
   "metadata": {},
   "outputs": [],
   "source": [
    "meta = merge(meta, meta2[,c('treatment','time','bam')], by.x=\"Internal_Data_Label\", by.y=\"treatment\")"
   ]
  },
  {
   "cell_type": "code",
   "execution_count": 162,
   "id": "increasing-aspect",
   "metadata": {},
   "outputs": [],
   "source": [
    "raw = read.table(\"cytPeak.dec9.matrix.filtered.R\", header=T, row.names=1)"
   ]
  },
  {
   "cell_type": "code",
   "execution_count": 8,
   "id": "initial-gossip",
   "metadata": {},
   "outputs": [
    {
     "data": {
      "text/html": [
       "35"
      ],
      "text/latex": [
       "35"
      ],
      "text/markdown": [
       "35"
      ],
      "text/plain": [
       "[1] 35"
      ]
     },
     "metadata": {},
     "output_type": "display_data"
    }
   ],
   "source": [
    "sum(meta$bam %in% colnames(raw))"
   ]
  },
  {
   "cell_type": "code",
   "execution_count": 9,
   "id": "leading-hometown",
   "metadata": {},
   "outputs": [],
   "source": [
    "mat <- limma::voom(raw)\n",
    "mat_corrected <- limma::removeBatchEffect(mat, batch= meta$Islet_ID)"
   ]
  },
  {
   "cell_type": "code",
   "execution_count": 10,
   "id": "printable-seattle",
   "metadata": {},
   "outputs": [],
   "source": [
    "u= read.table(\"../deseq_ATAC_NEW_bedfiles/annotated_peaks.tsv\", header=T)\n",
    "u = subset(u, rowSums(u)>0)"
   ]
  },
  {
   "cell_type": "code",
   "execution_count": 11,
   "id": "after-brick",
   "metadata": {},
   "outputs": [],
   "source": [
    "testmat = subset(mat_corrected, rownames(mat_corrected)%in% rownames(u))"
   ]
  },
  {
   "cell_type": "code",
   "execution_count": 12,
   "id": "demonstrated-twist",
   "metadata": {},
   "outputs": [],
   "source": [
    "samp1 = subset(meta, Treatment_label == '3cyt-hi')"
   ]
  },
  {
   "cell_type": "code",
   "execution_count": 13,
   "id": "thermal-queen",
   "metadata": {},
   "outputs": [],
   "source": [
    "samp2 = subset(meta, Treatment_label == 'untreat')"
   ]
  },
  {
   "cell_type": "code",
   "execution_count": 14,
   "id": "hollow-butterfly",
   "metadata": {},
   "outputs": [],
   "source": [
    "m1 = subset(testmat, select = as.character(samp1$bam))"
   ]
  },
  {
   "cell_type": "code",
   "execution_count": 15,
   "id": "comprehensive-shoulder",
   "metadata": {},
   "outputs": [],
   "source": [
    "m2 = subset(testmat, select = as.character(samp2$bam))"
   ]
  },
  {
   "cell_type": "code",
   "execution_count": 16,
   "id": "superior-mailman",
   "metadata": {},
   "outputs": [
    {
     "data": {
      "text/html": [
       "<style>\n",
       ".list-inline {list-style: none; margin:0; padding: 0}\n",
       ".list-inline>li {display: inline-block}\n",
       ".list-inline>li:not(:last-child)::after {content: \"\\00b7\"; padding: 0 .5ex}\n",
       "</style>\n",
       "<ol class=list-inline><li>44969</li><li>13</li></ol>\n"
      ],
      "text/latex": [
       "\\begin{enumerate*}\n",
       "\\item 44969\n",
       "\\item 13\n",
       "\\end{enumerate*}\n"
      ],
      "text/markdown": [
       "1. 44969\n",
       "2. 13\n",
       "\n",
       "\n"
      ],
      "text/plain": [
       "[1] 44969    13"
      ]
     },
     "metadata": {},
     "output_type": "display_data"
    }
   ],
   "source": [
    "dim(m2)"
   ]
  },
  {
   "cell_type": "code",
   "execution_count": 17,
   "id": "indonesian-savage",
   "metadata": {},
   "outputs": [],
   "source": [
    "calc_lm = function(i){\n",
    "df = data.frame(samp$time, test[i,])\n",
    "p = summary(lm(df[,2]~df[,1]))$coefficients[2,4]\n",
    "    return(p)\n",
    "    }"
   ]
  },
  {
   "cell_type": "code",
   "execution_count": 18,
   "id": "requested-scanning",
   "metadata": {},
   "outputs": [],
   "source": [
    "calc_lm_cov = function(i){\n",
    "df = data.frame(samp$time, test[i,], samp$Treatment_label)\n",
    "p = summary(lm(df[,2]~df[,1] +df[,3]))$coefficients[2,4]\n",
    "    return(p)\n",
    "    }"
   ]
  },
  {
   "cell_type": "code",
   "execution_count": 19,
   "id": "fabulous-aging",
   "metadata": {},
   "outputs": [],
   "source": [
    "test = m1\n",
    "samp = samp1\n",
    "pvalues1 = mclapply(1:nrow(test),calc_lm, mc.cores = 32 )"
   ]
  },
  {
   "cell_type": "code",
   "execution_count": 20,
   "id": "imperial-volleyball",
   "metadata": {},
   "outputs": [],
   "source": [
    "test = m2\n",
    "samp = samp2\n",
    "pvalues2 = mclapply(1:nrow(test),calc_lm, mc.cores = 32 )"
   ]
  },
  {
   "cell_type": "code",
   "execution_count": 21,
   "id": "concerned-curtis",
   "metadata": {},
   "outputs": [
    {
     "data": {
      "text/html": [
       "<style>\n",
       ".list-inline {list-style: none; margin:0; padding: 0}\n",
       ".list-inline>li {display: inline-block}\n",
       ".list-inline>li:not(:last-child)::after {content: \"\\00b7\"; padding: 0 .5ex}\n",
       "</style>\n",
       "<ol class=list-inline><li>44969</li><li>13</li></ol>\n"
      ],
      "text/latex": [
       "\\begin{enumerate*}\n",
       "\\item 44969\n",
       "\\item 13\n",
       "\\end{enumerate*}\n"
      ],
      "text/markdown": [
       "1. 44969\n",
       "2. 13\n",
       "\n",
       "\n"
      ],
      "text/plain": [
       "[1] 44969    13"
      ]
     },
     "metadata": {},
     "output_type": "display_data"
    }
   ],
   "source": [
    "dim(test)"
   ]
  },
  {
   "cell_type": "code",
   "execution_count": 22,
   "id": "conservative-subcommittee",
   "metadata": {},
   "outputs": [],
   "source": [
    "samp = subset(meta, Treatment_label %in% c('3cyt-hi','untreat'))\n",
    "test = subset(testmat, select = as.character(samp$bam))\n",
    "pvalues3 = mclapply(1:nrow(test),calc_lm_cov, mc.cores = 32 )"
   ]
  },
  {
   "cell_type": "code",
   "execution_count": 23,
   "id": "breeding-companion",
   "metadata": {},
   "outputs": [],
   "source": [
    "res= data.frame(peak = rownames(testmat), pval_cyt = unlist(pvalues1), \n",
    "                pval_unt = unlist(pvalues2),pval_cov = unlist(pvalues3))"
   ]
  },
  {
   "cell_type": "code",
   "execution_count": 24,
   "id": "embedded-assets",
   "metadata": {},
   "outputs": [],
   "source": [
    "res$qval_cyt = p.adjust(res$pval_cyt)\n",
    "res$qval_unt = p.adjust(res$pval_unt)\n",
    "res$qval_cov = p.adjust(res$pval_cov)"
   ]
  },
  {
   "cell_type": "code",
   "execution_count": 25,
   "id": "incorporate-attachment",
   "metadata": {},
   "outputs": [],
   "source": [
    "res= res[order(res$qval_cov, -res$pval_unt) ,]"
   ]
  },
  {
   "cell_type": "code",
   "execution_count": 26,
   "id": "progressive-victor",
   "metadata": {},
   "outputs": [
    {
     "data": {
      "text/html": [
       "1"
      ],
      "text/latex": [
       "1"
      ],
      "text/markdown": [
       "1"
      ],
      "text/plain": [
       "[1] 1"
      ]
     },
     "metadata": {},
     "output_type": "display_data"
    },
    {
     "data": {
      "text/html": [
       "0"
      ],
      "text/latex": [
       "0"
      ],
      "text/markdown": [
       "0"
      ],
      "text/plain": [
       "[1] 0"
      ]
     },
     "metadata": {},
     "output_type": "display_data"
    },
    {
     "data": {
      "text/html": [
       "5"
      ],
      "text/latex": [
       "5"
      ],
      "text/markdown": [
       "5"
      ],
      "text/plain": [
       "[1] 5"
      ]
     },
     "metadata": {},
     "output_type": "display_data"
    }
   ],
   "source": [
    "sum(res$qval_cyt<0.1)\n",
    "sum(res$qval_unt<0.1)\n",
    "sum(res$qval_cov<0.1)"
   ]
  },
  {
   "cell_type": "code",
   "execution_count": 27,
   "id": "regular-decline",
   "metadata": {},
   "outputs": [],
   "source": [
    "res_sub = subset(res, pval_unt>0.05)"
   ]
  },
  {
   "cell_type": "code",
   "execution_count": 28,
   "id": "parental-newspaper",
   "metadata": {},
   "outputs": [],
   "source": [
    "dir = '/nfs/lab/projects/islet_cytok/analysis/deseq_ATAC_NEW/'"
   ]
  },
  {
   "cell_type": "code",
   "execution_count": 29,
   "id": "defined-shoot",
   "metadata": {},
   "outputs": [],
   "source": [
    "fi = list.files(dir)[grepl('Hi.dec16',list.files(dir))]"
   ]
  },
  {
   "cell_type": "code",
   "execution_count": 30,
   "id": "quiet-array",
   "metadata": {},
   "outputs": [],
   "source": [
    "for (ff in 1:4 ){\n",
    "    \n",
    "    file = read.table(paste0(dir, fi[ff]), header=T, row.names = 1)\n",
    "    if(ff==1){dt=data.frame(file$log2FoldChange)}else{\n",
    "    dt=cbind(dt,file$log2FoldChange)}\n",
    "    \n",
    "}"
   ]
  },
  {
   "cell_type": "code",
   "execution_count": 31,
   "id": "previous-minneapolis",
   "metadata": {},
   "outputs": [],
   "source": [
    "rownames(dt)= rownames(file)\n",
    "colnames(dt) = c(24,48,6,72)"
   ]
  },
  {
   "cell_type": "code",
   "execution_count": 32,
   "id": "welsh-color",
   "metadata": {},
   "outputs": [],
   "source": [
    "dts = subset(dt, rownames(dt)%in% rownames(u))"
   ]
  },
  {
   "cell_type": "code",
   "execution_count": 33,
   "id": "eligible-humanitarian",
   "metadata": {},
   "outputs": [
    {
     "data": {
      "text/html": [
       "<style>\n",
       ".list-inline {list-style: none; margin:0; padding: 0}\n",
       ".list-inline>li {display: inline-block}\n",
       ".list-inline>li:not(:last-child)::after {content: \"\\00b7\"; padding: 0 .5ex}\n",
       "</style>\n",
       "<ol class=list-inline><li>44969</li><li>4</li></ol>\n"
      ],
      "text/latex": [
       "\\begin{enumerate*}\n",
       "\\item 44969\n",
       "\\item 4\n",
       "\\end{enumerate*}\n"
      ],
      "text/markdown": [
       "1. 44969\n",
       "2. 4\n",
       "\n",
       "\n"
      ],
      "text/plain": [
       "[1] 44969     4"
      ]
     },
     "metadata": {},
     "output_type": "display_data"
    }
   ],
   "source": [
    "dim(dts)"
   ]
  },
  {
   "cell_type": "code",
   "execution_count": 34,
   "id": "tired-amendment",
   "metadata": {},
   "outputs": [],
   "source": [
    "calc_lm_fc = function(i, ret = \"pval\"){\n",
    "df = data.frame(as.numeric(colnames(test)), unlist(test[i,]))\n",
    "p = summary(lm(df[,2]~df[,1]))$coefficients[2,4]\n",
    "b = summary(lm(df[,2]~df[,1]))$coefficients[2,1]\n",
    "   if(ret==\"pval\") {return(p)}\n",
    "     if(ret==\"beta\") {return(b)}\n",
    "    }"
   ]
  },
  {
   "cell_type": "code",
   "execution_count": 35,
   "id": "traditional-berry",
   "metadata": {},
   "outputs": [],
   "source": [
    "test=dts\n",
    "dts$pval = unlist(mclapply(1:nrow(test),calc_lm_fc, mc.cores = 32 ))"
   ]
  },
  {
   "cell_type": "code",
   "execution_count": 36,
   "id": "psychological-offer",
   "metadata": {},
   "outputs": [],
   "source": [
    "dts$beta = unlist(mclapply(1:nrow(test),calc_lm_fc,ret = \"beta\", mc.cores = 32 ))"
   ]
  },
  {
   "cell_type": "code",
   "execution_count": 38,
   "id": "marine-bridal",
   "metadata": {},
   "outputs": [],
   "source": [
    "dts$qval = p.adjust(dts$pval)"
   ]
  },
  {
   "cell_type": "code",
   "execution_count": 182,
   "id": "conventional-integer",
   "metadata": {},
   "outputs": [],
   "source": [
    "dts = dts[order(dts$pval),]"
   ]
  },
  {
   "cell_type": "code",
   "execution_count": 183,
   "id": "actual-begin",
   "metadata": {},
   "outputs": [
    {
     "data": {
      "text/html": [
       "<table class=\"dataframe\">\n",
       "<caption>A data.frame: 44 × 7</caption>\n",
       "<thead>\n",
       "\t<tr><th></th><th scope=col>24</th><th scope=col>48</th><th scope=col>6</th><th scope=col>72</th><th scope=col>pval</th><th scope=col>beta</th><th scope=col>qval</th></tr>\n",
       "\t<tr><th></th><th scope=col>&lt;dbl&gt;</th><th scope=col>&lt;dbl&gt;</th><th scope=col>&lt;dbl&gt;</th><th scope=col>&lt;dbl&gt;</th><th scope=col>&lt;dbl&gt;</th><th scope=col>&lt;dbl&gt;</th><th scope=col>&lt;dbl&gt;</th></tr>\n",
       "</thead>\n",
       "<tbody>\n",
       "\t<tr><th scope=row>peak-chr6-16420973-16422131</th><td> 0.88638796</td><td> 0.7176341</td><td> 1.00867573</td><td> 0.55215065</td><td>1.671509e-05</td><td>-0.006931381</td><td>0.7516107</td></tr>\n",
       "\t<tr><th scope=row>peak-chr1-22746800-22747453</th><td>-0.41686283</td><td>-0.5554921</td><td>-0.31657842</td><td>-0.69023638</td><td>2.126654e-05</td><td>-0.005675133</td><td>0.9562501</td></tr>\n",
       "\t<tr><th scope=row>peak-chr1-48209765-48210438</th><td>-0.66470146</td><td>-1.0103380</td><td>-0.39201319</td><td>-1.35979692</td><td>4.506801e-05</td><td>-0.014626124</td><td>1.0000000</td></tr>\n",
       "\t<tr><th scope=row>peak-chr3-54815793-54816043</th><td>-0.46705112</td><td>-1.1701473</td><td> 0.08835114</td><td>-1.87838708</td><td>5.207013e-05</td><td>-0.029724756</td><td>1.0000000</td></tr>\n",
       "\t<tr><th scope=row>peak-chr16-71156233-71156618</th><td>-1.00774157</td><td>-1.1885205</td><td>-0.86835666</td><td>-1.37938572</td><td>6.071780e-05</td><td>-0.007721425</td><td>1.0000000</td></tr>\n",
       "\t<tr><th scope=row>peak-chr15-82397499-82398321</th><td>-0.36974226</td><td>-0.4545967</td><td>-0.30274126</td><td>-0.54566234</td><td>9.669580e-05</td><td>-0.003664948</td><td>1.0000000</td></tr>\n",
       "\t<tr><th scope=row>peak-chr15-45329104-45330199</th><td>-0.37905414</td><td>-0.4558712</td><td>-0.31935311</td><td>-0.53032285</td><td>9.692102e-05</td><td>-0.003194316</td><td>1.0000000</td></tr>\n",
       "\t<tr><th scope=row>peak-chr12-111165524-111166579</th><td> 1.90204072</td><td> 1.5023020</td><td> 2.21778345</td><td> 1.07275320</td><td>1.002660e-04</td><td>-0.017274171</td><td>1.0000000</td></tr>\n",
       "\t<tr><th scope=row>peak-chr2-205124849-205125407</th><td>-0.15921599</td><td>-0.5164024</td><td> 0.11262553</td><td>-0.89799525</td><td>1.119292e-04</td><td>-0.015273273</td><td>1.0000000</td></tr>\n",
       "\t<tr><th scope=row>peak-chr10-116877333-116878449</th><td> 0.94254291</td><td> 0.7031338</td><td> 1.12350952</td><td> 0.47881164</td><td>1.476953e-04</td><td>-0.009783019</td><td>1.0000000</td></tr>\n",
       "\t<tr><th scope=row>peak-chr1-210895741-210896731</th><td>-0.49456462</td><td>-0.7338305</td><td>-0.32303329</td><td>-0.95245354</td><td>1.644474e-04</td><td>-0.009580888</td><td>1.0000000</td></tr>\n",
       "\t<tr><th scope=row>peak-chr16-49005432-49005930</th><td>-0.07182263</td><td>-0.7640271</td><td> 0.51121376</td><td>-1.50540828</td><td>1.946751e-04</td><td>-0.030340403</td><td>1.0000000</td></tr>\n",
       "\t<tr><th scope=row>peak-chr1-100643416-100644004</th><td>-0.32613809</td><td>-1.0604379</td><td> 0.17118044</td><td>-1.71433981</td><td>2.706286e-04</td><td>-0.028795411</td><td>1.0000000</td></tr>\n",
       "\t<tr><th scope=row>peak-chr1-198154796-198155225</th><td> 1.70100975</td><td> 1.4182160</td><td> 1.91314278</td><td> 1.16121263</td><td>2.775103e-04</td><td>-0.011424051</td><td>1.0000000</td></tr>\n",
       "\t<tr><th scope=row>peak-chr9-109521229-109521544</th><td> 1.59902274</td><td> 1.3938051</td><td> 1.73644864</td><td> 1.18837687</td><td>2.790890e-04</td><td>-0.008343832</td><td>1.0000000</td></tr>\n",
       "\t<tr><th scope=row>peak-chr6-164722317-164722886</th><td>-0.81151455</td><td>-1.1105073</td><td>-0.57657552</td><td>-1.38952589</td><td>3.036301e-04</td><td>-0.012315715</td><td>1.0000000</td></tr>\n",
       "\t<tr><th scope=row>peak-chr6-147907052-147907595</th><td>-0.57435737</td><td>-0.7115660</td><td>-0.48331868</td><td>-0.84827675</td><td>3.071055e-04</td><td>-0.005559042</td><td>1.0000000</td></tr>\n",
       "\t<tr><th scope=row>peak-chr15-35133391-35133958</th><td>-0.06293938</td><td>-0.8327317</td><td> 0.44119569</td><td>-1.51845121</td><td>3.248935e-04</td><td>-0.029971003</td><td>1.0000000</td></tr>\n",
       "\t<tr><th scope=row>peak-chr13-50255941-50256844</th><td>-0.44043969</td><td>-0.4934615</td><td>-0.40503424</td><td>-0.54012561</td><td>3.328692e-04</td><td>-0.002065117</td><td>1.0000000</td></tr>\n",
       "\t<tr><th scope=row>peak-chr5-57282603-57283165</th><td>-0.59082680</td><td>-0.8372188</td><td>-0.42319595</td><td>-1.09317551</td><td>3.691814e-04</td><td>-0.010181219</td><td>1.0000000</td></tr>\n",
       "\t<tr><th scope=row>peak-chr7-138757104-138757784</th><td> 2.13202069</td><td> 1.6612254</td><td> 2.54439648</td><td> 1.13367412</td><td>3.702190e-04</td><td>-0.021162079</td><td>1.0000000</td></tr>\n",
       "\t<tr><th scope=row>peak-chr20-34582862-34583328</th><td>-0.44366417</td><td>-0.5664888</td><td>-0.35301890</td><td>-0.70255225</td><td>3.999300e-04</td><td>-0.005283484</td><td>1.0000000</td></tr>\n",
       "\t<tr><th scope=row>peak-chr12-122795204-122795781</th><td>-0.46906294</td><td>-0.7433483</td><td>-0.29392585</td><td>-0.98363246</td><td>4.418206e-04</td><td>-0.010565439</td><td>1.0000000</td></tr>\n",
       "\t<tr><th scope=row>peak-chr19-45303437-45304121</th><td> 0.35055991</td><td> 0.1109213</td><td> 0.49572195</td><td>-0.11420352</td><td>6.568239e-04</td><td>-0.009342686</td><td>1.0000000</td></tr>\n",
       "\t<tr><th scope=row>peak-chr3-117123523-117124252</th><td>-0.32774628</td><td>-0.5981064</td><td>-0.15238876</td><td>-0.82122291</td><td>7.156908e-04</td><td>-0.010257570</td><td>1.0000000</td></tr>\n",
       "\t<tr><th scope=row>peak-chr17-11276053-11276318</th><td> 1.11577032</td><td> 0.7932520</td><td> 1.40603154</td><td> 0.46447986</td><td>7.194871e-04</td><td>-0.014141088</td><td>1.0000000</td></tr>\n",
       "\t<tr><th scope=row>peak-chr6-64722152-64723479</th><td>-0.37687495</td><td>-0.4287506</td><td>-0.32829176</td><td>-0.48679550</td><td>7.307957e-04</td><td>-0.002370636</td><td>1.0000000</td></tr>\n",
       "\t<tr><th scope=row>peak-chr7-75567059-75567853</th><td>-0.36213939</td><td>-0.4862164</td><td>-0.28810451</td><td>-0.60206442</td><td>7.434589e-04</td><td>-0.004813059</td><td>1.0000000</td></tr>\n",
       "\t<tr><th scope=row>peak-chr15-99384687-99385349</th><td> 0.95912200</td><td> 0.6410592</td><td> 1.22554825</td><td> 0.34604152</td><td>7.512923e-04</td><td>-0.013286207</td><td>1.0000000</td></tr>\n",
       "\t<tr><th scope=row>peak-chr9-124454832-124455422</th><td> 0.82219460</td><td> 0.7925581</td><td> 0.84699800</td><td> 0.75662241</td><td>7.531555e-04</td><td>-0.001355447</td><td>1.0000000</td></tr>\n",
       "\t<tr><th scope=row>peak-chr2-142613852-142614370</th><td>-0.51632493</td><td>-1.3701484</td><td> 0.06523921</td><td>-2.07149277</td><td>7.684361e-04</td><td>-0.032702104</td><td>1.0000000</td></tr>\n",
       "\t<tr><th scope=row>peak-chr5-102551899-102552200</th><td> 1.10366403</td><td> 0.8049521</td><td> 1.28449106</td><td> 0.55378542</td><td>7.724705e-04</td><td>-0.011233672</td><td>1.0000000</td></tr>\n",
       "\t<tr><th scope=row>peak-chr7-14607416-14608166</th><td>-0.99610736</td><td>-1.8716222</td><td>-0.47734946</td><td>-2.62432031</td><td>7.945003e-04</td><td>-0.033012980</td><td>1.0000000</td></tr>\n",
       "\t<tr><th scope=row>peak-chr6-108350564-108351018</th><td>-0.47093984</td><td>-0.9560364</td><td>-0.03023214</td><td>-1.45029174</td><td>8.079622e-04</td><td>-0.021318564</td><td>1.0000000</td></tr>\n",
       "\t<tr><th scope=row>peak-chr6-154723567-154723814</th><td> 1.13536977</td><td> 0.8174390</td><td> 1.43581640</td><td> 0.43433901</td><td>8.642236e-04</td><td>-0.014944608</td><td>1.0000000</td></tr>\n",
       "\t<tr><th scope=row>peak-chr6-715284-715744</th><td>-0.30606584</td><td>-0.5085419</td><td>-0.14764916</td><td>-0.68362996</td><td>8.676090e-04</td><td>-0.008138216</td><td>1.0000000</td></tr>\n",
       "\t<tr><th scope=row>peak-chr12-72159905-72160505</th><td>-0.65513021</td><td>-0.8928737</td><td>-0.51285937</td><td>-1.09037779</td><td>8.703557e-04</td><td>-0.008886416</td><td>1.0000000</td></tr>\n",
       "\t<tr><th scope=row>peak-chr10-90146744-90147638</th><td>-0.33606740</td><td>-0.5184884</td><td>-0.17239416</td><td>-0.69902948</td><td>8.751718e-04</td><td>-0.007916493</td><td>1.0000000</td></tr>\n",
       "\t<tr><th scope=row>peak-chr16-73373433-73374432</th><td>-0.42263004</td><td>-0.6212721</td><td>-0.26360399</td><td>-0.79567682</td><td>8.847605e-04</td><td>-0.008066738</td><td>1.0000000</td></tr>\n",
       "\t<tr><th scope=row>peak-chr9-90284743-90285758</th><td> 1.02321807</td><td> 0.7356895</td><td> 1.29047667</td><td> 0.43635917</td><td>9.073070e-04</td><td>-0.012801749</td><td>1.0000000</td></tr>\n",
       "\t<tr><th scope=row>peak-chr5-138321874-138322389</th><td>-0.70335906</td><td>-0.8667038</td><td>-0.60323204</td><td>-0.99867159</td><td>9.495188e-04</td><td>-0.006083799</td><td>1.0000000</td></tr>\n",
       "\t<tr><th scope=row>peak-chr10-27642674-27643985</th><td>-0.63284654</td><td>-1.2102435</td><td>-0.22503149</td><td>-1.67893422</td><td>9.660523e-04</td><td>-0.022221765</td><td>1.0000000</td></tr>\n",
       "\t<tr><th scope=row>peak-chr2-139191419-139192428</th><td> 0.65551109</td><td> 0.3406053</td><td> 0.91029604</td><td> 0.06475499</td><td>9.903890e-04</td><td>-0.012813463</td><td>1.0000000</td></tr>\n",
       "\t<tr><th scope=row>peak-chr6-39110919-39111772</th><td>-0.81882674</td><td>-1.0076592</td><td>-0.64703373</td><td>-1.24480148</td><td>9.990873e-04</td><td>-0.008925394</td><td>1.0000000</td></tr>\n",
       "</tbody>\n",
       "</table>\n"
      ],
      "text/latex": [
       "A data.frame: 44 × 7\n",
       "\\begin{tabular}{r|lllllll}\n",
       "  & 24 & 48 & 6 & 72 & pval & beta & qval\\\\\n",
       "  & <dbl> & <dbl> & <dbl> & <dbl> & <dbl> & <dbl> & <dbl>\\\\\n",
       "\\hline\n",
       "\tpeak-chr6-16420973-16422131 &  0.88638796 &  0.7176341 &  1.00867573 &  0.55215065 & 1.671509e-05 & -0.006931381 & 0.7516107\\\\\n",
       "\tpeak-chr1-22746800-22747453 & -0.41686283 & -0.5554921 & -0.31657842 & -0.69023638 & 2.126654e-05 & -0.005675133 & 0.9562501\\\\\n",
       "\tpeak-chr1-48209765-48210438 & -0.66470146 & -1.0103380 & -0.39201319 & -1.35979692 & 4.506801e-05 & -0.014626124 & 1.0000000\\\\\n",
       "\tpeak-chr3-54815793-54816043 & -0.46705112 & -1.1701473 &  0.08835114 & -1.87838708 & 5.207013e-05 & -0.029724756 & 1.0000000\\\\\n",
       "\tpeak-chr16-71156233-71156618 & -1.00774157 & -1.1885205 & -0.86835666 & -1.37938572 & 6.071780e-05 & -0.007721425 & 1.0000000\\\\\n",
       "\tpeak-chr15-82397499-82398321 & -0.36974226 & -0.4545967 & -0.30274126 & -0.54566234 & 9.669580e-05 & -0.003664948 & 1.0000000\\\\\n",
       "\tpeak-chr15-45329104-45330199 & -0.37905414 & -0.4558712 & -0.31935311 & -0.53032285 & 9.692102e-05 & -0.003194316 & 1.0000000\\\\\n",
       "\tpeak-chr12-111165524-111166579 &  1.90204072 &  1.5023020 &  2.21778345 &  1.07275320 & 1.002660e-04 & -0.017274171 & 1.0000000\\\\\n",
       "\tpeak-chr2-205124849-205125407 & -0.15921599 & -0.5164024 &  0.11262553 & -0.89799525 & 1.119292e-04 & -0.015273273 & 1.0000000\\\\\n",
       "\tpeak-chr10-116877333-116878449 &  0.94254291 &  0.7031338 &  1.12350952 &  0.47881164 & 1.476953e-04 & -0.009783019 & 1.0000000\\\\\n",
       "\tpeak-chr1-210895741-210896731 & -0.49456462 & -0.7338305 & -0.32303329 & -0.95245354 & 1.644474e-04 & -0.009580888 & 1.0000000\\\\\n",
       "\tpeak-chr16-49005432-49005930 & -0.07182263 & -0.7640271 &  0.51121376 & -1.50540828 & 1.946751e-04 & -0.030340403 & 1.0000000\\\\\n",
       "\tpeak-chr1-100643416-100644004 & -0.32613809 & -1.0604379 &  0.17118044 & -1.71433981 & 2.706286e-04 & -0.028795411 & 1.0000000\\\\\n",
       "\tpeak-chr1-198154796-198155225 &  1.70100975 &  1.4182160 &  1.91314278 &  1.16121263 & 2.775103e-04 & -0.011424051 & 1.0000000\\\\\n",
       "\tpeak-chr9-109521229-109521544 &  1.59902274 &  1.3938051 &  1.73644864 &  1.18837687 & 2.790890e-04 & -0.008343832 & 1.0000000\\\\\n",
       "\tpeak-chr6-164722317-164722886 & -0.81151455 & -1.1105073 & -0.57657552 & -1.38952589 & 3.036301e-04 & -0.012315715 & 1.0000000\\\\\n",
       "\tpeak-chr6-147907052-147907595 & -0.57435737 & -0.7115660 & -0.48331868 & -0.84827675 & 3.071055e-04 & -0.005559042 & 1.0000000\\\\\n",
       "\tpeak-chr15-35133391-35133958 & -0.06293938 & -0.8327317 &  0.44119569 & -1.51845121 & 3.248935e-04 & -0.029971003 & 1.0000000\\\\\n",
       "\tpeak-chr13-50255941-50256844 & -0.44043969 & -0.4934615 & -0.40503424 & -0.54012561 & 3.328692e-04 & -0.002065117 & 1.0000000\\\\\n",
       "\tpeak-chr5-57282603-57283165 & -0.59082680 & -0.8372188 & -0.42319595 & -1.09317551 & 3.691814e-04 & -0.010181219 & 1.0000000\\\\\n",
       "\tpeak-chr7-138757104-138757784 &  2.13202069 &  1.6612254 &  2.54439648 &  1.13367412 & 3.702190e-04 & -0.021162079 & 1.0000000\\\\\n",
       "\tpeak-chr20-34582862-34583328 & -0.44366417 & -0.5664888 & -0.35301890 & -0.70255225 & 3.999300e-04 & -0.005283484 & 1.0000000\\\\\n",
       "\tpeak-chr12-122795204-122795781 & -0.46906294 & -0.7433483 & -0.29392585 & -0.98363246 & 4.418206e-04 & -0.010565439 & 1.0000000\\\\\n",
       "\tpeak-chr19-45303437-45304121 &  0.35055991 &  0.1109213 &  0.49572195 & -0.11420352 & 6.568239e-04 & -0.009342686 & 1.0000000\\\\\n",
       "\tpeak-chr3-117123523-117124252 & -0.32774628 & -0.5981064 & -0.15238876 & -0.82122291 & 7.156908e-04 & -0.010257570 & 1.0000000\\\\\n",
       "\tpeak-chr17-11276053-11276318 &  1.11577032 &  0.7932520 &  1.40603154 &  0.46447986 & 7.194871e-04 & -0.014141088 & 1.0000000\\\\\n",
       "\tpeak-chr6-64722152-64723479 & -0.37687495 & -0.4287506 & -0.32829176 & -0.48679550 & 7.307957e-04 & -0.002370636 & 1.0000000\\\\\n",
       "\tpeak-chr7-75567059-75567853 & -0.36213939 & -0.4862164 & -0.28810451 & -0.60206442 & 7.434589e-04 & -0.004813059 & 1.0000000\\\\\n",
       "\tpeak-chr15-99384687-99385349 &  0.95912200 &  0.6410592 &  1.22554825 &  0.34604152 & 7.512923e-04 & -0.013286207 & 1.0000000\\\\\n",
       "\tpeak-chr9-124454832-124455422 &  0.82219460 &  0.7925581 &  0.84699800 &  0.75662241 & 7.531555e-04 & -0.001355447 & 1.0000000\\\\\n",
       "\tpeak-chr2-142613852-142614370 & -0.51632493 & -1.3701484 &  0.06523921 & -2.07149277 & 7.684361e-04 & -0.032702104 & 1.0000000\\\\\n",
       "\tpeak-chr5-102551899-102552200 &  1.10366403 &  0.8049521 &  1.28449106 &  0.55378542 & 7.724705e-04 & -0.011233672 & 1.0000000\\\\\n",
       "\tpeak-chr7-14607416-14608166 & -0.99610736 & -1.8716222 & -0.47734946 & -2.62432031 & 7.945003e-04 & -0.033012980 & 1.0000000\\\\\n",
       "\tpeak-chr6-108350564-108351018 & -0.47093984 & -0.9560364 & -0.03023214 & -1.45029174 & 8.079622e-04 & -0.021318564 & 1.0000000\\\\\n",
       "\tpeak-chr6-154723567-154723814 &  1.13536977 &  0.8174390 &  1.43581640 &  0.43433901 & 8.642236e-04 & -0.014944608 & 1.0000000\\\\\n",
       "\tpeak-chr6-715284-715744 & -0.30606584 & -0.5085419 & -0.14764916 & -0.68362996 & 8.676090e-04 & -0.008138216 & 1.0000000\\\\\n",
       "\tpeak-chr12-72159905-72160505 & -0.65513021 & -0.8928737 & -0.51285937 & -1.09037779 & 8.703557e-04 & -0.008886416 & 1.0000000\\\\\n",
       "\tpeak-chr10-90146744-90147638 & -0.33606740 & -0.5184884 & -0.17239416 & -0.69902948 & 8.751718e-04 & -0.007916493 & 1.0000000\\\\\n",
       "\tpeak-chr16-73373433-73374432 & -0.42263004 & -0.6212721 & -0.26360399 & -0.79567682 & 8.847605e-04 & -0.008066738 & 1.0000000\\\\\n",
       "\tpeak-chr9-90284743-90285758 &  1.02321807 &  0.7356895 &  1.29047667 &  0.43635917 & 9.073070e-04 & -0.012801749 & 1.0000000\\\\\n",
       "\tpeak-chr5-138321874-138322389 & -0.70335906 & -0.8667038 & -0.60323204 & -0.99867159 & 9.495188e-04 & -0.006083799 & 1.0000000\\\\\n",
       "\tpeak-chr10-27642674-27643985 & -0.63284654 & -1.2102435 & -0.22503149 & -1.67893422 & 9.660523e-04 & -0.022221765 & 1.0000000\\\\\n",
       "\tpeak-chr2-139191419-139192428 &  0.65551109 &  0.3406053 &  0.91029604 &  0.06475499 & 9.903890e-04 & -0.012813463 & 1.0000000\\\\\n",
       "\tpeak-chr6-39110919-39111772 & -0.81882674 & -1.0076592 & -0.64703373 & -1.24480148 & 9.990873e-04 & -0.008925394 & 1.0000000\\\\\n",
       "\\end{tabular}\n"
      ],
      "text/markdown": [
       "\n",
       "A data.frame: 44 × 7\n",
       "\n",
       "| <!--/--> | 24 &lt;dbl&gt; | 48 &lt;dbl&gt; | 6 &lt;dbl&gt; | 72 &lt;dbl&gt; | pval &lt;dbl&gt; | beta &lt;dbl&gt; | qval &lt;dbl&gt; |\n",
       "|---|---|---|---|---|---|---|---|\n",
       "| peak-chr6-16420973-16422131 |  0.88638796 |  0.7176341 |  1.00867573 |  0.55215065 | 1.671509e-05 | -0.006931381 | 0.7516107 |\n",
       "| peak-chr1-22746800-22747453 | -0.41686283 | -0.5554921 | -0.31657842 | -0.69023638 | 2.126654e-05 | -0.005675133 | 0.9562501 |\n",
       "| peak-chr1-48209765-48210438 | -0.66470146 | -1.0103380 | -0.39201319 | -1.35979692 | 4.506801e-05 | -0.014626124 | 1.0000000 |\n",
       "| peak-chr3-54815793-54816043 | -0.46705112 | -1.1701473 |  0.08835114 | -1.87838708 | 5.207013e-05 | -0.029724756 | 1.0000000 |\n",
       "| peak-chr16-71156233-71156618 | -1.00774157 | -1.1885205 | -0.86835666 | -1.37938572 | 6.071780e-05 | -0.007721425 | 1.0000000 |\n",
       "| peak-chr15-82397499-82398321 | -0.36974226 | -0.4545967 | -0.30274126 | -0.54566234 | 9.669580e-05 | -0.003664948 | 1.0000000 |\n",
       "| peak-chr15-45329104-45330199 | -0.37905414 | -0.4558712 | -0.31935311 | -0.53032285 | 9.692102e-05 | -0.003194316 | 1.0000000 |\n",
       "| peak-chr12-111165524-111166579 |  1.90204072 |  1.5023020 |  2.21778345 |  1.07275320 | 1.002660e-04 | -0.017274171 | 1.0000000 |\n",
       "| peak-chr2-205124849-205125407 | -0.15921599 | -0.5164024 |  0.11262553 | -0.89799525 | 1.119292e-04 | -0.015273273 | 1.0000000 |\n",
       "| peak-chr10-116877333-116878449 |  0.94254291 |  0.7031338 |  1.12350952 |  0.47881164 | 1.476953e-04 | -0.009783019 | 1.0000000 |\n",
       "| peak-chr1-210895741-210896731 | -0.49456462 | -0.7338305 | -0.32303329 | -0.95245354 | 1.644474e-04 | -0.009580888 | 1.0000000 |\n",
       "| peak-chr16-49005432-49005930 | -0.07182263 | -0.7640271 |  0.51121376 | -1.50540828 | 1.946751e-04 | -0.030340403 | 1.0000000 |\n",
       "| peak-chr1-100643416-100644004 | -0.32613809 | -1.0604379 |  0.17118044 | -1.71433981 | 2.706286e-04 | -0.028795411 | 1.0000000 |\n",
       "| peak-chr1-198154796-198155225 |  1.70100975 |  1.4182160 |  1.91314278 |  1.16121263 | 2.775103e-04 | -0.011424051 | 1.0000000 |\n",
       "| peak-chr9-109521229-109521544 |  1.59902274 |  1.3938051 |  1.73644864 |  1.18837687 | 2.790890e-04 | -0.008343832 | 1.0000000 |\n",
       "| peak-chr6-164722317-164722886 | -0.81151455 | -1.1105073 | -0.57657552 | -1.38952589 | 3.036301e-04 | -0.012315715 | 1.0000000 |\n",
       "| peak-chr6-147907052-147907595 | -0.57435737 | -0.7115660 | -0.48331868 | -0.84827675 | 3.071055e-04 | -0.005559042 | 1.0000000 |\n",
       "| peak-chr15-35133391-35133958 | -0.06293938 | -0.8327317 |  0.44119569 | -1.51845121 | 3.248935e-04 | -0.029971003 | 1.0000000 |\n",
       "| peak-chr13-50255941-50256844 | -0.44043969 | -0.4934615 | -0.40503424 | -0.54012561 | 3.328692e-04 | -0.002065117 | 1.0000000 |\n",
       "| peak-chr5-57282603-57283165 | -0.59082680 | -0.8372188 | -0.42319595 | -1.09317551 | 3.691814e-04 | -0.010181219 | 1.0000000 |\n",
       "| peak-chr7-138757104-138757784 |  2.13202069 |  1.6612254 |  2.54439648 |  1.13367412 | 3.702190e-04 | -0.021162079 | 1.0000000 |\n",
       "| peak-chr20-34582862-34583328 | -0.44366417 | -0.5664888 | -0.35301890 | -0.70255225 | 3.999300e-04 | -0.005283484 | 1.0000000 |\n",
       "| peak-chr12-122795204-122795781 | -0.46906294 | -0.7433483 | -0.29392585 | -0.98363246 | 4.418206e-04 | -0.010565439 | 1.0000000 |\n",
       "| peak-chr19-45303437-45304121 |  0.35055991 |  0.1109213 |  0.49572195 | -0.11420352 | 6.568239e-04 | -0.009342686 | 1.0000000 |\n",
       "| peak-chr3-117123523-117124252 | -0.32774628 | -0.5981064 | -0.15238876 | -0.82122291 | 7.156908e-04 | -0.010257570 | 1.0000000 |\n",
       "| peak-chr17-11276053-11276318 |  1.11577032 |  0.7932520 |  1.40603154 |  0.46447986 | 7.194871e-04 | -0.014141088 | 1.0000000 |\n",
       "| peak-chr6-64722152-64723479 | -0.37687495 | -0.4287506 | -0.32829176 | -0.48679550 | 7.307957e-04 | -0.002370636 | 1.0000000 |\n",
       "| peak-chr7-75567059-75567853 | -0.36213939 | -0.4862164 | -0.28810451 | -0.60206442 | 7.434589e-04 | -0.004813059 | 1.0000000 |\n",
       "| peak-chr15-99384687-99385349 |  0.95912200 |  0.6410592 |  1.22554825 |  0.34604152 | 7.512923e-04 | -0.013286207 | 1.0000000 |\n",
       "| peak-chr9-124454832-124455422 |  0.82219460 |  0.7925581 |  0.84699800 |  0.75662241 | 7.531555e-04 | -0.001355447 | 1.0000000 |\n",
       "| peak-chr2-142613852-142614370 | -0.51632493 | -1.3701484 |  0.06523921 | -2.07149277 | 7.684361e-04 | -0.032702104 | 1.0000000 |\n",
       "| peak-chr5-102551899-102552200 |  1.10366403 |  0.8049521 |  1.28449106 |  0.55378542 | 7.724705e-04 | -0.011233672 | 1.0000000 |\n",
       "| peak-chr7-14607416-14608166 | -0.99610736 | -1.8716222 | -0.47734946 | -2.62432031 | 7.945003e-04 | -0.033012980 | 1.0000000 |\n",
       "| peak-chr6-108350564-108351018 | -0.47093984 | -0.9560364 | -0.03023214 | -1.45029174 | 8.079622e-04 | -0.021318564 | 1.0000000 |\n",
       "| peak-chr6-154723567-154723814 |  1.13536977 |  0.8174390 |  1.43581640 |  0.43433901 | 8.642236e-04 | -0.014944608 | 1.0000000 |\n",
       "| peak-chr6-715284-715744 | -0.30606584 | -0.5085419 | -0.14764916 | -0.68362996 | 8.676090e-04 | -0.008138216 | 1.0000000 |\n",
       "| peak-chr12-72159905-72160505 | -0.65513021 | -0.8928737 | -0.51285937 | -1.09037779 | 8.703557e-04 | -0.008886416 | 1.0000000 |\n",
       "| peak-chr10-90146744-90147638 | -0.33606740 | -0.5184884 | -0.17239416 | -0.69902948 | 8.751718e-04 | -0.007916493 | 1.0000000 |\n",
       "| peak-chr16-73373433-73374432 | -0.42263004 | -0.6212721 | -0.26360399 | -0.79567682 | 8.847605e-04 | -0.008066738 | 1.0000000 |\n",
       "| peak-chr9-90284743-90285758 |  1.02321807 |  0.7356895 |  1.29047667 |  0.43635917 | 9.073070e-04 | -0.012801749 | 1.0000000 |\n",
       "| peak-chr5-138321874-138322389 | -0.70335906 | -0.8667038 | -0.60323204 | -0.99867159 | 9.495188e-04 | -0.006083799 | 1.0000000 |\n",
       "| peak-chr10-27642674-27643985 | -0.63284654 | -1.2102435 | -0.22503149 | -1.67893422 | 9.660523e-04 | -0.022221765 | 1.0000000 |\n",
       "| peak-chr2-139191419-139192428 |  0.65551109 |  0.3406053 |  0.91029604 |  0.06475499 | 9.903890e-04 | -0.012813463 | 1.0000000 |\n",
       "| peak-chr6-39110919-39111772 | -0.81882674 | -1.0076592 | -0.64703373 | -1.24480148 | 9.990873e-04 | -0.008925394 | 1.0000000 |\n",
       "\n"
      ],
      "text/plain": [
       "                               24          48         6           72         \n",
       "peak-chr6-16420973-16422131     0.88638796  0.7176341  1.00867573  0.55215065\n",
       "peak-chr1-22746800-22747453    -0.41686283 -0.5554921 -0.31657842 -0.69023638\n",
       "peak-chr1-48209765-48210438    -0.66470146 -1.0103380 -0.39201319 -1.35979692\n",
       "peak-chr3-54815793-54816043    -0.46705112 -1.1701473  0.08835114 -1.87838708\n",
       "peak-chr16-71156233-71156618   -1.00774157 -1.1885205 -0.86835666 -1.37938572\n",
       "peak-chr15-82397499-82398321   -0.36974226 -0.4545967 -0.30274126 -0.54566234\n",
       "peak-chr15-45329104-45330199   -0.37905414 -0.4558712 -0.31935311 -0.53032285\n",
       "peak-chr12-111165524-111166579  1.90204072  1.5023020  2.21778345  1.07275320\n",
       "peak-chr2-205124849-205125407  -0.15921599 -0.5164024  0.11262553 -0.89799525\n",
       "peak-chr10-116877333-116878449  0.94254291  0.7031338  1.12350952  0.47881164\n",
       "peak-chr1-210895741-210896731  -0.49456462 -0.7338305 -0.32303329 -0.95245354\n",
       "peak-chr16-49005432-49005930   -0.07182263 -0.7640271  0.51121376 -1.50540828\n",
       "peak-chr1-100643416-100644004  -0.32613809 -1.0604379  0.17118044 -1.71433981\n",
       "peak-chr1-198154796-198155225   1.70100975  1.4182160  1.91314278  1.16121263\n",
       "peak-chr9-109521229-109521544   1.59902274  1.3938051  1.73644864  1.18837687\n",
       "peak-chr6-164722317-164722886  -0.81151455 -1.1105073 -0.57657552 -1.38952589\n",
       "peak-chr6-147907052-147907595  -0.57435737 -0.7115660 -0.48331868 -0.84827675\n",
       "peak-chr15-35133391-35133958   -0.06293938 -0.8327317  0.44119569 -1.51845121\n",
       "peak-chr13-50255941-50256844   -0.44043969 -0.4934615 -0.40503424 -0.54012561\n",
       "peak-chr5-57282603-57283165    -0.59082680 -0.8372188 -0.42319595 -1.09317551\n",
       "peak-chr7-138757104-138757784   2.13202069  1.6612254  2.54439648  1.13367412\n",
       "peak-chr20-34582862-34583328   -0.44366417 -0.5664888 -0.35301890 -0.70255225\n",
       "peak-chr12-122795204-122795781 -0.46906294 -0.7433483 -0.29392585 -0.98363246\n",
       "peak-chr19-45303437-45304121    0.35055991  0.1109213  0.49572195 -0.11420352\n",
       "peak-chr3-117123523-117124252  -0.32774628 -0.5981064 -0.15238876 -0.82122291\n",
       "peak-chr17-11276053-11276318    1.11577032  0.7932520  1.40603154  0.46447986\n",
       "peak-chr6-64722152-64723479    -0.37687495 -0.4287506 -0.32829176 -0.48679550\n",
       "peak-chr7-75567059-75567853    -0.36213939 -0.4862164 -0.28810451 -0.60206442\n",
       "peak-chr15-99384687-99385349    0.95912200  0.6410592  1.22554825  0.34604152\n",
       "peak-chr9-124454832-124455422   0.82219460  0.7925581  0.84699800  0.75662241\n",
       "peak-chr2-142613852-142614370  -0.51632493 -1.3701484  0.06523921 -2.07149277\n",
       "peak-chr5-102551899-102552200   1.10366403  0.8049521  1.28449106  0.55378542\n",
       "peak-chr7-14607416-14608166    -0.99610736 -1.8716222 -0.47734946 -2.62432031\n",
       "peak-chr6-108350564-108351018  -0.47093984 -0.9560364 -0.03023214 -1.45029174\n",
       "peak-chr6-154723567-154723814   1.13536977  0.8174390  1.43581640  0.43433901\n",
       "peak-chr6-715284-715744        -0.30606584 -0.5085419 -0.14764916 -0.68362996\n",
       "peak-chr12-72159905-72160505   -0.65513021 -0.8928737 -0.51285937 -1.09037779\n",
       "peak-chr10-90146744-90147638   -0.33606740 -0.5184884 -0.17239416 -0.69902948\n",
       "peak-chr16-73373433-73374432   -0.42263004 -0.6212721 -0.26360399 -0.79567682\n",
       "peak-chr9-90284743-90285758     1.02321807  0.7356895  1.29047667  0.43635917\n",
       "peak-chr5-138321874-138322389  -0.70335906 -0.8667038 -0.60323204 -0.99867159\n",
       "peak-chr10-27642674-27643985   -0.63284654 -1.2102435 -0.22503149 -1.67893422\n",
       "peak-chr2-139191419-139192428   0.65551109  0.3406053  0.91029604  0.06475499\n",
       "peak-chr6-39110919-39111772    -0.81882674 -1.0076592 -0.64703373 -1.24480148\n",
       "                               pval         beta         qval     \n",
       "peak-chr6-16420973-16422131    1.671509e-05 -0.006931381 0.7516107\n",
       "peak-chr1-22746800-22747453    2.126654e-05 -0.005675133 0.9562501\n",
       "peak-chr1-48209765-48210438    4.506801e-05 -0.014626124 1.0000000\n",
       "peak-chr3-54815793-54816043    5.207013e-05 -0.029724756 1.0000000\n",
       "peak-chr16-71156233-71156618   6.071780e-05 -0.007721425 1.0000000\n",
       "peak-chr15-82397499-82398321   9.669580e-05 -0.003664948 1.0000000\n",
       "peak-chr15-45329104-45330199   9.692102e-05 -0.003194316 1.0000000\n",
       "peak-chr12-111165524-111166579 1.002660e-04 -0.017274171 1.0000000\n",
       "peak-chr2-205124849-205125407  1.119292e-04 -0.015273273 1.0000000\n",
       "peak-chr10-116877333-116878449 1.476953e-04 -0.009783019 1.0000000\n",
       "peak-chr1-210895741-210896731  1.644474e-04 -0.009580888 1.0000000\n",
       "peak-chr16-49005432-49005930   1.946751e-04 -0.030340403 1.0000000\n",
       "peak-chr1-100643416-100644004  2.706286e-04 -0.028795411 1.0000000\n",
       "peak-chr1-198154796-198155225  2.775103e-04 -0.011424051 1.0000000\n",
       "peak-chr9-109521229-109521544  2.790890e-04 -0.008343832 1.0000000\n",
       "peak-chr6-164722317-164722886  3.036301e-04 -0.012315715 1.0000000\n",
       "peak-chr6-147907052-147907595  3.071055e-04 -0.005559042 1.0000000\n",
       "peak-chr15-35133391-35133958   3.248935e-04 -0.029971003 1.0000000\n",
       "peak-chr13-50255941-50256844   3.328692e-04 -0.002065117 1.0000000\n",
       "peak-chr5-57282603-57283165    3.691814e-04 -0.010181219 1.0000000\n",
       "peak-chr7-138757104-138757784  3.702190e-04 -0.021162079 1.0000000\n",
       "peak-chr20-34582862-34583328   3.999300e-04 -0.005283484 1.0000000\n",
       "peak-chr12-122795204-122795781 4.418206e-04 -0.010565439 1.0000000\n",
       "peak-chr19-45303437-45304121   6.568239e-04 -0.009342686 1.0000000\n",
       "peak-chr3-117123523-117124252  7.156908e-04 -0.010257570 1.0000000\n",
       "peak-chr17-11276053-11276318   7.194871e-04 -0.014141088 1.0000000\n",
       "peak-chr6-64722152-64723479    7.307957e-04 -0.002370636 1.0000000\n",
       "peak-chr7-75567059-75567853    7.434589e-04 -0.004813059 1.0000000\n",
       "peak-chr15-99384687-99385349   7.512923e-04 -0.013286207 1.0000000\n",
       "peak-chr9-124454832-124455422  7.531555e-04 -0.001355447 1.0000000\n",
       "peak-chr2-142613852-142614370  7.684361e-04 -0.032702104 1.0000000\n",
       "peak-chr5-102551899-102552200  7.724705e-04 -0.011233672 1.0000000\n",
       "peak-chr7-14607416-14608166    7.945003e-04 -0.033012980 1.0000000\n",
       "peak-chr6-108350564-108351018  8.079622e-04 -0.021318564 1.0000000\n",
       "peak-chr6-154723567-154723814  8.642236e-04 -0.014944608 1.0000000\n",
       "peak-chr6-715284-715744        8.676090e-04 -0.008138216 1.0000000\n",
       "peak-chr12-72159905-72160505   8.703557e-04 -0.008886416 1.0000000\n",
       "peak-chr10-90146744-90147638   8.751718e-04 -0.007916493 1.0000000\n",
       "peak-chr16-73373433-73374432   8.847605e-04 -0.008066738 1.0000000\n",
       "peak-chr9-90284743-90285758    9.073070e-04 -0.012801749 1.0000000\n",
       "peak-chr5-138321874-138322389  9.495188e-04 -0.006083799 1.0000000\n",
       "peak-chr10-27642674-27643985   9.660523e-04 -0.022221765 1.0000000\n",
       "peak-chr2-139191419-139192428  9.903890e-04 -0.012813463 1.0000000\n",
       "peak-chr6-39110919-39111772    9.990873e-04 -0.008925394 1.0000000"
      ]
     },
     "metadata": {},
     "output_type": "display_data"
    }
   ],
   "source": [
    "dts[dts$beta<0 & dts$pval<0.001,]"
   ]
  },
  {
   "cell_type": "code",
   "execution_count": 40,
   "id": "sudden-company",
   "metadata": {},
   "outputs": [
    {
     "data": {
      "text/plain": [
       "\n",
       "FALSE  TRUE \n",
       "21557 23412 "
      ]
     },
     "metadata": {},
     "output_type": "display_data"
    }
   ],
   "source": [
    "table(dts$beta>0)"
   ]
  },
  {
   "cell_type": "markdown",
   "id": "outdoor-substitute",
   "metadata": {},
   "source": [
    "### Find example related to TNFa +/-"
   ]
  },
  {
   "cell_type": "code",
   "execution_count": 41,
   "id": "identical-girlfriend",
   "metadata": {},
   "outputs": [
    {
     "data": {
      "text/html": [
       "<style>\n",
       ".list-inline {list-style: none; margin:0; padding: 0}\n",
       ".list-inline>li {display: inline-block}\n",
       ".list-inline>li:not(:last-child)::after {content: \"\\00b7\"; padding: 0 .5ex}\n",
       "</style>\n",
       "<ol class=list-inline><li>'cytokine_24hr_Hi.dec16.filtered.txt'</li><li>'cytokine_24hr_Hi2.dec16.filtered.txt'</li><li>'cytokine_24hr_Lo.dec16.filtered.txt'</li><li>'cytokine_24hr_Lo2.dec16.filtered.txt'</li><li>'cytokine_4h8r_Hi.dec16.filtered.txt'</li><li>'cytokine_6hr_Hi.dec16.filtered.txt'</li><li>'cytokine_72hr_Hi.dec16.filtered.txt'</li><li>'cytokine_all.jan4.filtered.txt'</li><li>'cytokine_hiVhi2.feb3.filtered.txt'</li></ol>\n"
      ],
      "text/latex": [
       "\\begin{enumerate*}\n",
       "\\item 'cytokine\\_24hr\\_Hi.dec16.filtered.txt'\n",
       "\\item 'cytokine\\_24hr\\_Hi2.dec16.filtered.txt'\n",
       "\\item 'cytokine\\_24hr\\_Lo.dec16.filtered.txt'\n",
       "\\item 'cytokine\\_24hr\\_Lo2.dec16.filtered.txt'\n",
       "\\item 'cytokine\\_4h8r\\_Hi.dec16.filtered.txt'\n",
       "\\item 'cytokine\\_6hr\\_Hi.dec16.filtered.txt'\n",
       "\\item 'cytokine\\_72hr\\_Hi.dec16.filtered.txt'\n",
       "\\item 'cytokine\\_all.jan4.filtered.txt'\n",
       "\\item 'cytokine\\_hiVhi2.feb3.filtered.txt'\n",
       "\\end{enumerate*}\n"
      ],
      "text/markdown": [
       "1. 'cytokine_24hr_Hi.dec16.filtered.txt'\n",
       "2. 'cytokine_24hr_Hi2.dec16.filtered.txt'\n",
       "3. 'cytokine_24hr_Lo.dec16.filtered.txt'\n",
       "4. 'cytokine_24hr_Lo2.dec16.filtered.txt'\n",
       "5. 'cytokine_4h8r_Hi.dec16.filtered.txt'\n",
       "6. 'cytokine_6hr_Hi.dec16.filtered.txt'\n",
       "7. 'cytokine_72hr_Hi.dec16.filtered.txt'\n",
       "8. 'cytokine_all.jan4.filtered.txt'\n",
       "9. 'cytokine_hiVhi2.feb3.filtered.txt'\n",
       "\n",
       "\n"
      ],
      "text/plain": [
       "[1] \"cytokine_24hr_Hi.dec16.filtered.txt\" \n",
       "[2] \"cytokine_24hr_Hi2.dec16.filtered.txt\"\n",
       "[3] \"cytokine_24hr_Lo.dec16.filtered.txt\" \n",
       "[4] \"cytokine_24hr_Lo2.dec16.filtered.txt\"\n",
       "[5] \"cytokine_4h8r_Hi.dec16.filtered.txt\" \n",
       "[6] \"cytokine_6hr_Hi.dec16.filtered.txt\"  \n",
       "[7] \"cytokine_72hr_Hi.dec16.filtered.txt\" \n",
       "[8] \"cytokine_all.jan4.filtered.txt\"      \n",
       "[9] \"cytokine_hiVhi2.feb3.filtered.txt\"   "
      ]
     },
     "metadata": {},
     "output_type": "display_data"
    }
   ],
   "source": [
    "list.files(dir)"
   ]
  },
  {
   "cell_type": "code",
   "execution_count": 42,
   "id": "impressive-davis",
   "metadata": {},
   "outputs": [],
   "source": [
    "tn = read.table(paste0(dir, 'cytokine_hiVhi2.feb3.filtered.txt'), header=T, row.names = 1)"
   ]
  },
  {
   "cell_type": "code",
   "execution_count": 43,
   "id": "historical-stream",
   "metadata": {},
   "outputs": [
    {
     "data": {
      "text/html": [
       "0"
      ],
      "text/latex": [
       "0"
      ],
      "text/markdown": [
       "0"
      ],
      "text/plain": [
       "[1] 0"
      ]
     },
     "metadata": {},
     "output_type": "display_data"
    }
   ],
   "source": [
    "sum (tn$padj<0.1, na.rm=T)"
   ]
  },
  {
   "cell_type": "code",
   "execution_count": 44,
   "id": "sharp-liabilities",
   "metadata": {},
   "outputs": [],
   "source": [
    "tn = tn[order(tn$pvalue),]"
   ]
  },
  {
   "cell_type": "code",
   "execution_count": 47,
   "id": "lesbian-employment",
   "metadata": {},
   "outputs": [
    {
     "data": {
      "text/html": [
       "<table class=\"dataframe\">\n",
       "<caption>A data.frame: 15 × 6</caption>\n",
       "<thead>\n",
       "\t<tr><th></th><th scope=col>baseMean</th><th scope=col>log2FoldChange</th><th scope=col>lfcSE</th><th scope=col>stat</th><th scope=col>pvalue</th><th scope=col>padj</th></tr>\n",
       "\t<tr><th></th><th scope=col>&lt;dbl&gt;</th><th scope=col>&lt;dbl&gt;</th><th scope=col>&lt;dbl&gt;</th><th scope=col>&lt;dbl&gt;</th><th scope=col>&lt;dbl&gt;</th><th scope=col>&lt;dbl&gt;</th></tr>\n",
       "</thead>\n",
       "<tbody>\n",
       "\t<tr><th scope=row>peak-chr8-134440603-134441786</th><td>275.83686</td><td> 0.6695062</td><td>0.2044839</td><td> 3.274127</td><td>0.001059890</td><td>0.9999986</td></tr>\n",
       "\t<tr><th scope=row>peak-chr12-105323919-105324985</th><td>129.92522</td><td>-0.8807923</td><td>0.2690644</td><td>-3.273538</td><td>0.001062103</td><td>0.9999986</td></tr>\n",
       "\t<tr><th scope=row>peak-chr6-143856196-143856717</th><td> 99.01570</td><td> 0.9606471</td><td>0.2998400</td><td> 3.203865</td><td>0.001355960</td><td>0.9999986</td></tr>\n",
       "\t<tr><th scope=row>peak-chr11-46395274-46396000</th><td>256.92764</td><td>-0.6321598</td><td>0.2011966</td><td>-3.142000</td><td>0.001677983</td><td>0.9999986</td></tr>\n",
       "\t<tr><th scope=row>peak-chr2-80182467-80183251</th><td>143.40565</td><td>-0.7786214</td><td>0.2504090</td><td>-3.109398</td><td>0.001874687</td><td>0.9999986</td></tr>\n",
       "\t<tr><th scope=row>peak-chr22-18264007-18264967</th><td>231.50339</td><td>-0.7601547</td><td>0.2455183</td><td>-3.096122</td><td>0.001960696</td><td>0.9999986</td></tr>\n",
       "\t<tr><th scope=row>peak-chr1-234613765-234615257</th><td>935.38236</td><td> 0.3785343</td><td>0.1242450</td><td> 3.046677</td><td>0.002313860</td><td>0.9999986</td></tr>\n",
       "\t<tr><th scope=row>peak-chr2-129590362-129591170</th><td>158.18383</td><td> 0.7755570</td><td>0.2547504</td><td> 3.044380</td><td>0.002331602</td><td>0.9999986</td></tr>\n",
       "\t<tr><th scope=row>peak-chr12-92924303-92925071</th><td>144.70511</td><td>-0.8372558</td><td>0.2766418</td><td>-3.026497</td><td>0.002474050</td><td>0.9999986</td></tr>\n",
       "\t<tr><th scope=row>peak-chr12-71652936-71653246</th><td> 22.69458</td><td> 1.9056326</td><td>0.6353082</td><td> 2.999541</td><td>0.002703871</td><td>0.9999986</td></tr>\n",
       "\t<tr><th scope=row>peak-chr19-11070704-11072272</th><td>761.97748</td><td> 0.3864050</td><td>0.1301295</td><td> 2.969389</td><td>0.002983928</td><td>0.9999986</td></tr>\n",
       "\t<tr><th scope=row>peak-chr12-66486061-66487326</th><td>425.58462</td><td>-0.5044449</td><td>0.1712983</td><td>-2.944834</td><td>0.003231282</td><td>0.9999986</td></tr>\n",
       "\t<tr><th scope=row>peak-chr15-38779229-38779434</th><td> 20.72053</td><td>-1.9503954</td><td>0.6688705</td><td>-2.915954</td><td>0.003546029</td><td>0.9999986</td></tr>\n",
       "\t<tr><th scope=row>peak-chr2-129591489-129592783</th><td>364.57132</td><td> 0.5210995</td><td>0.1787664</td><td> 2.914975</td><td>0.003557167</td><td>0.9999986</td></tr>\n",
       "\t<tr><th scope=row>peak-chr10-128588669-128589217</th><td>173.18861</td><td> 0.7493913</td><td>0.2585186</td><td> 2.898791</td><td>0.003746049</td><td>0.9999986</td></tr>\n",
       "</tbody>\n",
       "</table>\n"
      ],
      "text/latex": [
       "A data.frame: 15 × 6\n",
       "\\begin{tabular}{r|llllll}\n",
       "  & baseMean & log2FoldChange & lfcSE & stat & pvalue & padj\\\\\n",
       "  & <dbl> & <dbl> & <dbl> & <dbl> & <dbl> & <dbl>\\\\\n",
       "\\hline\n",
       "\tpeak-chr8-134440603-134441786 & 275.83686 &  0.6695062 & 0.2044839 &  3.274127 & 0.001059890 & 0.9999986\\\\\n",
       "\tpeak-chr12-105323919-105324985 & 129.92522 & -0.8807923 & 0.2690644 & -3.273538 & 0.001062103 & 0.9999986\\\\\n",
       "\tpeak-chr6-143856196-143856717 &  99.01570 &  0.9606471 & 0.2998400 &  3.203865 & 0.001355960 & 0.9999986\\\\\n",
       "\tpeak-chr11-46395274-46396000 & 256.92764 & -0.6321598 & 0.2011966 & -3.142000 & 0.001677983 & 0.9999986\\\\\n",
       "\tpeak-chr2-80182467-80183251 & 143.40565 & -0.7786214 & 0.2504090 & -3.109398 & 0.001874687 & 0.9999986\\\\\n",
       "\tpeak-chr22-18264007-18264967 & 231.50339 & -0.7601547 & 0.2455183 & -3.096122 & 0.001960696 & 0.9999986\\\\\n",
       "\tpeak-chr1-234613765-234615257 & 935.38236 &  0.3785343 & 0.1242450 &  3.046677 & 0.002313860 & 0.9999986\\\\\n",
       "\tpeak-chr2-129590362-129591170 & 158.18383 &  0.7755570 & 0.2547504 &  3.044380 & 0.002331602 & 0.9999986\\\\\n",
       "\tpeak-chr12-92924303-92925071 & 144.70511 & -0.8372558 & 0.2766418 & -3.026497 & 0.002474050 & 0.9999986\\\\\n",
       "\tpeak-chr12-71652936-71653246 &  22.69458 &  1.9056326 & 0.6353082 &  2.999541 & 0.002703871 & 0.9999986\\\\\n",
       "\tpeak-chr19-11070704-11072272 & 761.97748 &  0.3864050 & 0.1301295 &  2.969389 & 0.002983928 & 0.9999986\\\\\n",
       "\tpeak-chr12-66486061-66487326 & 425.58462 & -0.5044449 & 0.1712983 & -2.944834 & 0.003231282 & 0.9999986\\\\\n",
       "\tpeak-chr15-38779229-38779434 &  20.72053 & -1.9503954 & 0.6688705 & -2.915954 & 0.003546029 & 0.9999986\\\\\n",
       "\tpeak-chr2-129591489-129592783 & 364.57132 &  0.5210995 & 0.1787664 &  2.914975 & 0.003557167 & 0.9999986\\\\\n",
       "\tpeak-chr10-128588669-128589217 & 173.18861 &  0.7493913 & 0.2585186 &  2.898791 & 0.003746049 & 0.9999986\\\\\n",
       "\\end{tabular}\n"
      ],
      "text/markdown": [
       "\n",
       "A data.frame: 15 × 6\n",
       "\n",
       "| <!--/--> | baseMean &lt;dbl&gt; | log2FoldChange &lt;dbl&gt; | lfcSE &lt;dbl&gt; | stat &lt;dbl&gt; | pvalue &lt;dbl&gt; | padj &lt;dbl&gt; |\n",
       "|---|---|---|---|---|---|---|\n",
       "| peak-chr8-134440603-134441786 | 275.83686 |  0.6695062 | 0.2044839 |  3.274127 | 0.001059890 | 0.9999986 |\n",
       "| peak-chr12-105323919-105324985 | 129.92522 | -0.8807923 | 0.2690644 | -3.273538 | 0.001062103 | 0.9999986 |\n",
       "| peak-chr6-143856196-143856717 |  99.01570 |  0.9606471 | 0.2998400 |  3.203865 | 0.001355960 | 0.9999986 |\n",
       "| peak-chr11-46395274-46396000 | 256.92764 | -0.6321598 | 0.2011966 | -3.142000 | 0.001677983 | 0.9999986 |\n",
       "| peak-chr2-80182467-80183251 | 143.40565 | -0.7786214 | 0.2504090 | -3.109398 | 0.001874687 | 0.9999986 |\n",
       "| peak-chr22-18264007-18264967 | 231.50339 | -0.7601547 | 0.2455183 | -3.096122 | 0.001960696 | 0.9999986 |\n",
       "| peak-chr1-234613765-234615257 | 935.38236 |  0.3785343 | 0.1242450 |  3.046677 | 0.002313860 | 0.9999986 |\n",
       "| peak-chr2-129590362-129591170 | 158.18383 |  0.7755570 | 0.2547504 |  3.044380 | 0.002331602 | 0.9999986 |\n",
       "| peak-chr12-92924303-92925071 | 144.70511 | -0.8372558 | 0.2766418 | -3.026497 | 0.002474050 | 0.9999986 |\n",
       "| peak-chr12-71652936-71653246 |  22.69458 |  1.9056326 | 0.6353082 |  2.999541 | 0.002703871 | 0.9999986 |\n",
       "| peak-chr19-11070704-11072272 | 761.97748 |  0.3864050 | 0.1301295 |  2.969389 | 0.002983928 | 0.9999986 |\n",
       "| peak-chr12-66486061-66487326 | 425.58462 | -0.5044449 | 0.1712983 | -2.944834 | 0.003231282 | 0.9999986 |\n",
       "| peak-chr15-38779229-38779434 |  20.72053 | -1.9503954 | 0.6688705 | -2.915954 | 0.003546029 | 0.9999986 |\n",
       "| peak-chr2-129591489-129592783 | 364.57132 |  0.5210995 | 0.1787664 |  2.914975 | 0.003557167 | 0.9999986 |\n",
       "| peak-chr10-128588669-128589217 | 173.18861 |  0.7493913 | 0.2585186 |  2.898791 | 0.003746049 | 0.9999986 |\n",
       "\n"
      ],
      "text/plain": [
       "                               baseMean  log2FoldChange lfcSE     stat     \n",
       "peak-chr8-134440603-134441786  275.83686  0.6695062     0.2044839  3.274127\n",
       "peak-chr12-105323919-105324985 129.92522 -0.8807923     0.2690644 -3.273538\n",
       "peak-chr6-143856196-143856717   99.01570  0.9606471     0.2998400  3.203865\n",
       "peak-chr11-46395274-46396000   256.92764 -0.6321598     0.2011966 -3.142000\n",
       "peak-chr2-80182467-80183251    143.40565 -0.7786214     0.2504090 -3.109398\n",
       "peak-chr22-18264007-18264967   231.50339 -0.7601547     0.2455183 -3.096122\n",
       "peak-chr1-234613765-234615257  935.38236  0.3785343     0.1242450  3.046677\n",
       "peak-chr2-129590362-129591170  158.18383  0.7755570     0.2547504  3.044380\n",
       "peak-chr12-92924303-92925071   144.70511 -0.8372558     0.2766418 -3.026497\n",
       "peak-chr12-71652936-71653246    22.69458  1.9056326     0.6353082  2.999541\n",
       "peak-chr19-11070704-11072272   761.97748  0.3864050     0.1301295  2.969389\n",
       "peak-chr12-66486061-66487326   425.58462 -0.5044449     0.1712983 -2.944834\n",
       "peak-chr15-38779229-38779434    20.72053 -1.9503954     0.6688705 -2.915954\n",
       "peak-chr2-129591489-129592783  364.57132  0.5210995     0.1787664  2.914975\n",
       "peak-chr10-128588669-128589217 173.18861  0.7493913     0.2585186  2.898791\n",
       "                               pvalue      padj     \n",
       "peak-chr8-134440603-134441786  0.001059890 0.9999986\n",
       "peak-chr12-105323919-105324985 0.001062103 0.9999986\n",
       "peak-chr6-143856196-143856717  0.001355960 0.9999986\n",
       "peak-chr11-46395274-46396000   0.001677983 0.9999986\n",
       "peak-chr2-80182467-80183251    0.001874687 0.9999986\n",
       "peak-chr22-18264007-18264967   0.001960696 0.9999986\n",
       "peak-chr1-234613765-234615257  0.002313860 0.9999986\n",
       "peak-chr2-129590362-129591170  0.002331602 0.9999986\n",
       "peak-chr12-92924303-92925071   0.002474050 0.9999986\n",
       "peak-chr12-71652936-71653246   0.002703871 0.9999986\n",
       "peak-chr19-11070704-11072272   0.002983928 0.9999986\n",
       "peak-chr12-66486061-66487326   0.003231282 0.9999986\n",
       "peak-chr15-38779229-38779434   0.003546029 0.9999986\n",
       "peak-chr2-129591489-129592783  0.003557167 0.9999986\n",
       "peak-chr10-128588669-128589217 0.003746049 0.9999986"
      ]
     },
     "metadata": {},
     "output_type": "display_data"
    }
   ],
   "source": [
    "head(tn,15)"
   ]
  },
  {
   "cell_type": "code",
   "execution_count": 48,
   "id": "received-bronze",
   "metadata": {},
   "outputs": [
    {
     "data": {
      "text/plain": [
       "\n",
       "2cyt-hi 2cyt-lo 3cyt-hi 3cyt-lo untreat \n",
       "      5       3      11       3      13 "
      ]
     },
     "metadata": {},
     "output_type": "display_data"
    }
   ],
   "source": [
    "table(meta$Treatment_label)"
   ]
  },
  {
   "cell_type": "code",
   "execution_count": 49,
   "id": "thrown-kelly",
   "metadata": {},
   "outputs": [],
   "source": [
    "meta$tnf = substr(meta$Treatment_label,1,4)"
   ]
  },
  {
   "cell_type": "code",
   "execution_count": 50,
   "id": "stopped-superior",
   "metadata": {},
   "outputs": [],
   "source": [
    "meta$lohi = substr(meta$Treatment_label,6,7)"
   ]
  },
  {
   "cell_type": "code",
   "execution_count": 51,
   "id": "civic-virtue",
   "metadata": {},
   "outputs": [],
   "source": [
    "calc_lm_tnf = function(i){\n",
    "df = data.frame(samp$tnf, test[i,], samp$lohi)\n",
    "p = summary(lm(df[,2]~df[,1] +df[,3]))$coefficients[2,4]\n",
    "    return(p)\n",
    "    }"
   ]
  },
  {
   "cell_type": "code",
   "execution_count": 52,
   "id": "prime-bunny",
   "metadata": {},
   "outputs": [],
   "source": [
    "samp = subset(meta, time==24 & Treatment_label!= 'untreat')\n",
    "test = subset(testmat, select = as.character(samp$bam))\n",
    "pvalues_tnf = mclapply(1:nrow(test),calc_lm_tnf, mc.cores = 32 )"
   ]
  },
  {
   "cell_type": "code",
   "execution_count": 53,
   "id": "trying-container",
   "metadata": {},
   "outputs": [],
   "source": [
    "restn = data.frame(rownames(test), pval = unlist(pvalues_tnf))\n",
    "restn = restn[order(restn$pval) ,]"
   ]
  },
  {
   "cell_type": "code",
   "execution_count": 54,
   "id": "fifteen-pizza",
   "metadata": {},
   "outputs": [
    {
     "data": {
      "text/html": [
       "<table class=\"dataframe\">\n",
       "<caption>A data.frame: 6 × 2</caption>\n",
       "<thead>\n",
       "\t<tr><th></th><th scope=col>rownames.test.</th><th scope=col>pval</th></tr>\n",
       "\t<tr><th></th><th scope=col>&lt;fct&gt;</th><th scope=col>&lt;dbl&gt;</th></tr>\n",
       "</thead>\n",
       "<tbody>\n",
       "\t<tr><th scope=row>18346</th><td>peak-chr18-68036225-68036492 </td><td>0.0004271357</td></tr>\n",
       "\t<tr><th scope=row>26970</th><td>peak-chr3-73522907-73523251  </td><td>0.0012313239</td></tr>\n",
       "\t<tr><th scope=row>32626</th><td>peak-chr5-76573717-76573941  </td><td>0.0016449717</td></tr>\n",
       "\t<tr><th scope=row>23154</th><td>peak-chr2-234351508-234351881</td><td>0.0017263794</td></tr>\n",
       "\t<tr><th scope=row>33742</th><td>peak-chr5-141190913-141191925</td><td>0.0031812635</td></tr>\n",
       "\t<tr><th scope=row>20654</th><td>peak-chr2-61886055-61887220  </td><td>0.0034631906</td></tr>\n",
       "</tbody>\n",
       "</table>\n"
      ],
      "text/latex": [
       "A data.frame: 6 × 2\n",
       "\\begin{tabular}{r|ll}\n",
       "  & rownames.test. & pval\\\\\n",
       "  & <fct> & <dbl>\\\\\n",
       "\\hline\n",
       "\t18346 & peak-chr18-68036225-68036492  & 0.0004271357\\\\\n",
       "\t26970 & peak-chr3-73522907-73523251   & 0.0012313239\\\\\n",
       "\t32626 & peak-chr5-76573717-76573941   & 0.0016449717\\\\\n",
       "\t23154 & peak-chr2-234351508-234351881 & 0.0017263794\\\\\n",
       "\t33742 & peak-chr5-141190913-141191925 & 0.0031812635\\\\\n",
       "\t20654 & peak-chr2-61886055-61887220   & 0.0034631906\\\\\n",
       "\\end{tabular}\n"
      ],
      "text/markdown": [
       "\n",
       "A data.frame: 6 × 2\n",
       "\n",
       "| <!--/--> | rownames.test. &lt;fct&gt; | pval &lt;dbl&gt; |\n",
       "|---|---|---|\n",
       "| 18346 | peak-chr18-68036225-68036492  | 0.0004271357 |\n",
       "| 26970 | peak-chr3-73522907-73523251   | 0.0012313239 |\n",
       "| 32626 | peak-chr5-76573717-76573941   | 0.0016449717 |\n",
       "| 23154 | peak-chr2-234351508-234351881 | 0.0017263794 |\n",
       "| 33742 | peak-chr5-141190913-141191925 | 0.0031812635 |\n",
       "| 20654 | peak-chr2-61886055-61887220   | 0.0034631906 |\n",
       "\n"
      ],
      "text/plain": [
       "      rownames.test.                pval        \n",
       "18346 peak-chr18-68036225-68036492  0.0004271357\n",
       "26970 peak-chr3-73522907-73523251   0.0012313239\n",
       "32626 peak-chr5-76573717-76573941   0.0016449717\n",
       "23154 peak-chr2-234351508-234351881 0.0017263794\n",
       "33742 peak-chr5-141190913-141191925 0.0031812635\n",
       "20654 peak-chr2-61886055-61887220   0.0034631906"
      ]
     },
     "metadata": {},
     "output_type": "display_data"
    }
   ],
   "source": [
    "head(restn)"
   ]
  },
  {
   "cell_type": "code",
   "execution_count": 169,
   "id": "formed-pakistan",
   "metadata": {},
   "outputs": [],
   "source": [
    "meta_sub = droplevels(subset(meta, lohi=='hi' & Duration==\"24h\"))"
   ]
  },
  {
   "cell_type": "code",
   "execution_count": 177,
   "id": "motivated-australia",
   "metadata": {},
   "outputs": [
    {
     "data": {
      "text/plain": [
       "\n",
       "2cyt-hi 3cyt-hi \n",
       "      5       5 "
      ]
     },
     "metadata": {},
     "output_type": "display_data"
    }
   ],
   "source": [
    "table(meta_sub$Treatment_label)"
   ]
  },
  {
   "cell_type": "code",
   "execution_count": 174,
   "id": "arbitrary-gamma",
   "metadata": {},
   "outputs": [],
   "source": [
    "tab_sub = droplevels(subset(raw, select = as.character(meta_sub$bam)))"
   ]
  },
  {
   "cell_type": "code",
   "execution_count": 176,
   "id": "acoustic-period",
   "metadata": {},
   "outputs": [
    {
     "name": "stderr",
     "output_type": "stream",
     "text": [
      "  Note: levels of factors in the design contain characters other than\n",
      "  letters, numbers, '_' and '.'. It is recommended (but not required) to use\n",
      "  only letters, numbers, and delimiters '_' or '.', as these are safe characters\n",
      "  for column names in R. [This is a message, not an warning or error]\n",
      "\n"
     ]
    }
   ],
   "source": [
    "dds <-DESeqDataSetFromMatrix(tab_sub, colData = meta_sub, design = ~ Treatment_label + Islet_ID)\n"
   ]
  },
  {
   "cell_type": "code",
   "execution_count": 178,
   "id": "pressed-singer",
   "metadata": {},
   "outputs": [
    {
     "name": "stderr",
     "output_type": "stream",
     "text": [
      "estimating size factors\n",
      "\n",
      "  Note: levels of factors in the design contain characters other than\n",
      "  letters, numbers, '_' and '.'. It is recommended (but not required) to use\n",
      "  only letters, numbers, and delimiters '_' or '.', as these are safe characters\n",
      "  for column names in R. [This is a message, not an warning or error]\n",
      "\n",
      "estimating dispersions\n",
      "\n",
      "gene-wise dispersion estimates\n",
      "\n",
      "mean-dispersion relationship\n",
      "\n",
      "  Note: levels of factors in the design contain characters other than\n",
      "  letters, numbers, '_' and '.'. It is recommended (but not required) to use\n",
      "  only letters, numbers, and delimiters '_' or '.', as these are safe characters\n",
      "  for column names in R. [This is a message, not an warning or error]\n",
      "\n",
      "final dispersion estimates\n",
      "\n",
      "  Note: levels of factors in the design contain characters other than\n",
      "  letters, numbers, '_' and '.'. It is recommended (but not required) to use\n",
      "  only letters, numbers, and delimiters '_' or '.', as these are safe characters\n",
      "  for column names in R. [This is a message, not an warning or error]\n",
      "\n",
      "fitting model and testing\n",
      "\n"
     ]
    }
   ],
   "source": [
    "dds     <- DESeq(dds)    \n",
    "res     <- results(dds, contrast=c(\"Treatment_label\", \"3cyt-hi\", \"2cyt-hi\")  )\n",
    "   res     = res[order(res$pvalue),]"
   ]
  },
  {
   "cell_type": "code",
   "execution_count": 55,
   "id": "pregnant-morning",
   "metadata": {},
   "outputs": [],
   "source": [
    "dir = '/nfs/lab/projects/islet_cytok/analysis/deseq_ATAC_NEW/'"
   ]
  },
  {
   "cell_type": "code",
   "execution_count": 56,
   "id": "under-possibility",
   "metadata": {},
   "outputs": [],
   "source": [
    "files = list.files(dir)[1:7]"
   ]
  },
  {
   "cell_type": "code",
   "execution_count": 57,
   "id": "collective-utility",
   "metadata": {},
   "outputs": [],
   "source": [
    "for(i in 1:7){\n",
    "    df = read.table(paste0(dir, files[i]), header=T)\n",
    "    if (i==1){\n",
    "        re = df[,\"log2FoldChange\"]\n",
    "    } else{\n",
    "        re = cbind(re, df[,\"log2FoldChange\"])\n",
    "    }\n",
    "}"
   ]
  },
  {
   "cell_type": "code",
   "execution_count": 58,
   "id": "distributed-gamma",
   "metadata": {},
   "outputs": [],
   "source": [
    "rownames(re )=rownames(df)"
   ]
  },
  {
   "cell_type": "code",
   "execution_count": 59,
   "id": "popular-injection",
   "metadata": {},
   "outputs": [],
   "source": [
    "colnames(re) = c(\"3cyt-hi-24\", \"2cyt-hi-24\",\"3cyt-lo-24\",'2cyt-lo-24','3cyt-hi-48','3cyt-hi-6','3cyt-hi-71')"
   ]
  },
  {
   "cell_type": "code",
   "execution_count": 60,
   "id": "anticipated-campus",
   "metadata": {},
   "outputs": [],
   "source": [
    "re = subset(re, rownames(re) %in% rownames(u))"
   ]
  },
  {
   "cell_type": "code",
   "execution_count": 70,
   "id": "peripheral-chassis",
   "metadata": {},
   "outputs": [],
   "source": [
    "re = re[,c(4,3,2,6,1,5,7)]"
   ]
  },
  {
   "cell_type": "code",
   "execution_count": 61,
   "id": "tamil-college",
   "metadata": {},
   "outputs": [],
   "source": [
    "pheatmap(re, file = \"heatmap_fc.pdf\", show_rownames = FALSE, \n",
    "         breaks = seq(-max(abs(re)), max(abs(re)), length.out = 100))"
   ]
  },
  {
   "cell_type": "code",
   "execution_count": 62,
   "id": "suffering-gospel",
   "metadata": {},
   "outputs": [],
   "source": [
    "mydata <- t(apply(re, 1, scale))"
   ]
  },
  {
   "cell_type": "markdown",
   "id": "developing-north",
   "metadata": {},
   "source": [
    "####  kmeans clustering"
   ]
  },
  {
   "cell_type": "code",
   "execution_count": 63,
   "id": "minute-brazil",
   "metadata": {},
   "outputs": [],
   "source": [
    "nclust = 3\n",
    "fit <- kmeans(mydata, nclust) \n",
    "# get cluster means\n",
    "km =aggregate(mydata,by=list(fit$cluster),FUN=mean)\n",
    "km=km[,-1]\n",
    "colnames(km) = colnames(re)"
   ]
  },
  {
   "cell_type": "code",
   "execution_count": 64,
   "id": "focal-chance",
   "metadata": {},
   "outputs": [],
   "source": [
    "km = km[,c(4,3,2,6,1,5,7)]"
   ]
  },
  {
   "cell_type": "code",
   "execution_count": 65,
   "id": "functioning-serve",
   "metadata": {},
   "outputs": [
    {
     "data": {
      "image/png": "[encoded data removed]",
      "text/plain": [
       "plot without title"
      ]
     },
     "metadata": {
      "image/png": {
       "height": 420,
       "width": 420
      }
     },
     "output_type": "display_data"
    }
   ],
   "source": [
    "pheatmap(km, cluster_cols = FALSE)"
   ]
  },
  {
   "cell_type": "code",
   "execution_count": 66,
   "id": "indian-stability",
   "metadata": {},
   "outputs": [
    {
     "data": {
      "text/html": [
       "<style>\n",
       ".list-inline {list-style: none; margin:0; padding: 0}\n",
       ".list-inline>li {display: inline-block}\n",
       ".list-inline>li:not(:last-child)::after {content: \"\\00b7\"; padding: 0 .5ex}\n",
       "</style>\n",
       "<ol class=list-inline><li>44969</li><li>7</li></ol>\n"
      ],
      "text/latex": [
       "\\begin{enumerate*}\n",
       "\\item 44969\n",
       "\\item 7\n",
       "\\end{enumerate*}\n"
      ],
      "text/markdown": [
       "1. 44969\n",
       "2. 7\n",
       "\n",
       "\n"
      ],
      "text/plain": [
       "[1] 44969     7"
      ]
     },
     "metadata": {},
     "output_type": "display_data"
    },
    {
     "data": {
      "text/html": [
       "<style>\n",
       ".list-inline {list-style: none; margin:0; padding: 0}\n",
       ".list-inline>li {display: inline-block}\n",
       ".list-inline>li:not(:last-child)::after {content: \"\\00b7\"; padding: 0 .5ex}\n",
       "</style>\n",
       "<ol class=list-inline><li>44969</li><li>14</li></ol>\n"
      ],
      "text/latex": [
       "\\begin{enumerate*}\n",
       "\\item 44969\n",
       "\\item 14\n",
       "\\end{enumerate*}\n"
      ],
      "text/markdown": [
       "1. 44969\n",
       "2. 14\n",
       "\n",
       "\n"
      ],
      "text/plain": [
       "[1] 44969    14"
      ]
     },
     "metadata": {},
     "output_type": "display_data"
    }
   ],
   "source": [
    "dim(mydata)\n",
    "dim(u)"
   ]
  },
  {
   "cell_type": "code",
   "execution_count": 67,
   "id": "demanding-tokyo",
   "metadata": {},
   "outputs": [],
   "source": [
    "annopeak = data.frame(dif06 = apply(u[,c('cytokine_6hr_Hi.up','cytokine_6hr_Hi.down')], 1, function(x) paste (as.numeric(x), collapse=\"\")) ,\n",
    "                      dif24 = apply(u[,c('cytokine_24hr_Hi.up','cytokine_24hr_Hi.down')], 1, function(x) paste (as.numeric(x), collapse=\"\")) ,\n",
    "                      dif48 = apply(u[,c('cytokine_48hr_Hi.up','cytokine_48hr_Hi.down')], 1, function(x) paste (as.numeric(x), collapse=\"\")) ,\n",
    "                      dif72 = apply(u[,c('cytokine_72hr_Hi.up','cytokine_72hr_Hi.down')], 1, function(x) paste (as.numeric(x), collapse=\"\")) ,\n",
    "                      dif2cythi = apply(u[,c('cytokine_24hr_Hi2.up','cytokine_24hr_Hi2.down')], 1, function(x) paste (as.numeric(x), collapse=\"\")) ,          \n",
    "                      dif3cytlo = apply(u[,c('cytokine_24hr_Lo.up','cytokine_24hr_Lo.down')], 1, function(x) paste (as.numeric(x), collapse=\"\")) ,          \n",
    "                      dif2cytlo =  apply(u[,c('cytokine_24hr_Lo2.up','cytokine_24hr_Lo2.down')], 1, function(x) paste (as.numeric(x), collapse=\"\")) )          \n",
    "                        \n",
    "rownames(annopeak)  = rownames(u)                               \n"
   ]
  },
  {
   "cell_type": "code",
   "execution_count": 80,
   "id": "flush-demand",
   "metadata": {},
   "outputs": [],
   "source": [
    "km_clust = brewer.pal(nclust, \"Spectral\")\n",
    "names(km_clust) = 1:nclust\n",
    "\n",
    "diff24 = brewer.pal(3, \"Set1\")[1:2]\n",
    "names(diff24) = c('10', '01')\n",
    "colorlist = list( dif06 =diff24, dif24=diff24, dif48 =diff24, dif72 =diff24, \n",
    "                 dif2cythi =diff24, dif3cytlo=diff24, dif2cytlo =diff24, \n",
    "                 km_clust=km_clust )\n",
    "\n"
   ]
  },
  {
   "cell_type": "code",
   "execution_count": null,
   "id": "grateful-landing",
   "metadata": {},
   "outputs": [],
   "source": [
    "\n",
    "# nclust = 6\n",
    "# fit <- kmeans(mydata, nclust) \n",
    "\n",
    "# annopeak3 = data.frame(annopeak, km_clust = as.character(fit$cluster))\n",
    "# annopeak3[annopeak3==\"00\"]<-NA\n",
    "# annopeak3 = as.data.frame(annopeak3)\n",
    "\n",
    "# table(annopeak3$km_clust)\n",
    "\n",
    "# table(annopeak3$km_clust)\n",
    "\n",
    "\n",
    "\n",
    "# pheatmap(re, cluster_rows = T, cluster_cols = F, treeheight_row = FALSE,\n",
    "#          show_rownames = F,\n",
    "#          #col = rev(colorRampPalette(brewer.pal(9, \"PuOr\"))(50)),\n",
    "#          annotation_row=annopeak3,\n",
    "#          annotation_colors = colorlist,\n",
    "#           cellwidth=15, \n",
    "#          file =\"heatmap_fc_kmclust.pdf\",\n",
    "#          scale = 'row', \n",
    "#          fontsize = 10)"
   ]
  },
  {
   "cell_type": "code",
   "execution_count": null,
   "id": "passive-butler",
   "metadata": {},
   "outputs": [],
   "source": []
  },
  {
   "cell_type": "markdown",
   "id": "latin-poverty",
   "metadata": {},
   "source": [
    "#### Separate  up and downregulated and direction of change"
   ]
  },
  {
   "cell_type": "code",
   "execution_count": 68,
   "id": "stuck-adolescent",
   "metadata": {},
   "outputs": [],
   "source": [
    "annopeak$up = rowSums(annopeak=='10')>0\n",
    "annopeak$down = rowSums(annopeak=='01')>0"
   ]
  },
  {
   "cell_type": "code",
   "execution_count": 69,
   "id": "optimum-identifier",
   "metadata": {},
   "outputs": [
    {
     "data": {
      "text/plain": [
       "       \n",
       "        FALSE  TRUE\n",
       "  FALSE     0 22092\n",
       "  TRUE  22830    47"
      ]
     },
     "metadata": {},
     "output_type": "display_data"
    }
   ],
   "source": [
    "table(annopeak$up, annopeak$down)"
   ]
  },
  {
   "cell_type": "code",
   "execution_count": 71,
   "id": "scenic-heritage",
   "metadata": {},
   "outputs": [
    {
     "data": {
      "text/html": [
       "1000"
      ],
      "text/latex": [
       "1000"
      ],
      "text/markdown": [
       "1000"
      ],
      "text/plain": [
       "[1] 1000"
      ]
     },
     "metadata": {},
     "output_type": "display_data"
    }
   ],
   "source": [
    "sum(dts$pval<0.01)"
   ]
  },
  {
   "cell_type": "code",
   "execution_count": 72,
   "id": "possible-serial",
   "metadata": {},
   "outputs": [],
   "source": [
    "sigT = rownames(dts)[dts$pval<0.01]"
   ]
  },
  {
   "cell_type": "code",
   "execution_count": 75,
   "id": "entire-breathing",
   "metadata": {},
   "outputs": [],
   "source": [
    "dts = dts[match(rownames(annopeak), rownames(dts)),]\n",
    "\n",
    "annopeak$beta = as.numeric(dts$beta>0)\n",
    "annopeak$categ = apply(annopeak[,c('up','down','beta')],  1, function(x) paste (as.numeric(x), collapse=\"\"))\n",
    "annopeak$beta_val = dts$beta\n",
    "annopeak$pval = dts$pval\n",
    "ann = annopeak[sigT,]\n",
    "ann = ann[order( ann$up, ann$beta_val, -ann$beta_val, decreasing=F), ]\n",
    "ann = ann[!(ann$categ %in% c('000', '001', '111')), ]\n",
    "\n",
    "ann = ann[!(ann$categ %in% c('000', '001', '111')),c(1:4,11) ]\n",
    "ann[ann==\"00\"]<-NA"
   ]
  },
  {
   "cell_type": "code",
   "execution_count": 81,
   "id": "trying-wallace",
   "metadata": {},
   "outputs": [],
   "source": [
    "categ = brewer.pal(4, \"Paired\")\n",
    "names(categ)=c('011', '010','101','100')\n",
    "colnew = colorlist[1:4]\n",
    "colnew[['categ']]=categ"
   ]
  },
  {
   "cell_type": "code",
   "execution_count": 180,
   "id": "ethical-causing",
   "metadata": {},
   "outputs": [
    {
     "data": {
      "text/plain": [
       "\n",
       "010 011 100 101 \n",
       "234 196 121 444 "
      ]
     },
     "metadata": {},
     "output_type": "display_data"
    }
   ],
   "source": [
    "table(ann$categ)"
   ]
  },
  {
   "cell_type": "code",
   "execution_count": 84,
   "id": "coordinated-blend",
   "metadata": {},
   "outputs": [],
   "source": [
    "pheatmap(re[sigT,4:7], cluster_rows = T, cluster_cols = T, treeheight_row = FALSE,\n",
    "         show_rownames = F,\n",
    "         #col = rev(colorRampPalette(brewer.pal(9, \"PuOr\"))(50)),\n",
    "         annotation_row=ann,\n",
    "         annotation_colors = colnew,\n",
    "          cellwidth=15, \n",
    "         file ='heatmap_fc_time_sig.png',\n",
    "         scale = 'row', \n",
    "         fontsize = 10)"
   ]
  },
  {
   "cell_type": "code",
   "execution_count": 85,
   "id": "advised-grenada",
   "metadata": {},
   "outputs": [],
   "source": [
    "pheatmap(re[sigT,4:7], cluster_rows = T, cluster_cols = T, treeheight_row = FALSE,\n",
    "         show_rownames = F,\n",
    "         #col = rev(colorRampPalette(brewer.pal(9, \"PuOr\"))(50)),\n",
    "         annotation_row=ann,\n",
    "         annotation_colors = colnew,\n",
    "          cellwidth=15, \n",
    "         file ='heatmap_fc_time_sig_noscale.png',\n",
    "         #scale = 'row', \n",
    "         fontsize = 10)"
   ]
  },
  {
   "cell_type": "code",
   "execution_count": 88,
   "id": "premium-diesel",
   "metadata": {},
   "outputs": [],
   "source": [
    "pheatmap(re[as.character(rownames(ann)),4:7], cluster_rows = F, cluster_cols = T, treeheight_row = FALSE,\n",
    "         show_rownames = F,\n",
    "         #col = rev(colorRampPalette(brewer.pal(9, \"PuOr\"))(50)),\n",
    "         annotation_row=ann,\n",
    "         annotation_colors = colnew,\n",
    "          cellwidth=15, \n",
    "          scale = 'row', \n",
    "         file ='heatmap_fc_time_sig_noclust.png',\n",
    "         fontsize = 10)"
   ]
  },
  {
   "cell_type": "code",
   "execution_count": 90,
   "id": "other-butler",
   "metadata": {},
   "outputs": [],
   "source": [
    "pheatmap(re[as.character(rownames(ann)),4:7], cluster_rows = F, cluster_cols = T, treeheight_row = FALSE,\n",
    "         show_rownames = F,\n",
    "         #col = rev(colorRampPalette(brewer.pal(9, \"PuOr\"))(50)),\n",
    "         annotation_row=ann,\n",
    "         annotation_colors = colnew,\n",
    "          cellwidth=15, \n",
    "         file ='heatmap_fc_time_sig_noscale_noclust.pdf',\n",
    "         fontsize = 10)"
   ]
  },
  {
   "cell_type": "markdown",
   "id": "harmful-basin",
   "metadata": {},
   "source": [
    "## motif analysis"
   ]
  },
  {
   "cell_type": "code",
   "execution_count": 95,
   "id": "surrounded-renaissance",
   "metadata": {},
   "outputs": [],
   "source": [
    "beddir =\"/nfs/lab/projects/islet_cytok/analysis/deseq_ATAC_NEW_bedfiles\"\n",
    "hdir = \"/nfs/lab/projects/islet_cytok/analysis/HOMER_diff_sites/\"\n",
    "\n",
    "run_homer = function(bedfile, outdir,bgfile )\n",
    "{\n",
    "    system(paste ('findMotifsGenome.pl', bedfile, '/nfs/lab/KG/ref/male.masked.hg19.fa', \n",
    "       outdir,  '-bg', bgfile,  '-nomotif' ))\n",
    "}"
   ]
  },
  {
   "cell_type": "code",
   "execution_count": 293,
   "id": "optical-chapter",
   "metadata": {},
   "outputs": [],
   "source": [
    "bed = str_split_fixed(rownames(ann), \"\\\\-\", 4)[,2:4]"
   ]
  },
  {
   "cell_type": "code",
   "execution_count": 296,
   "id": "molecular-finland",
   "metadata": {},
   "outputs": [
    {
     "data": {
      "text/html": [
       "<style>\n",
       ".list-inline {list-style: none; margin:0; padding: 0}\n",
       ".list-inline>li {display: inline-block}\n",
       ".list-inline>li:not(:last-child)::after {content: \"\\00b7\"; padding: 0 .5ex}\n",
       "</style>\n",
       "<ol class=list-inline><li>'010'</li><li>'011'</li><li>'100'</li><li>'101'</li></ol>\n"
      ],
      "text/latex": [
       "\\begin{enumerate*}\n",
       "\\item '010'\n",
       "\\item '011'\n",
       "\\item '100'\n",
       "\\item '101'\n",
       "\\end{enumerate*}\n"
      ],
      "text/markdown": [
       "1. '010'\n",
       "2. '011'\n",
       "3. '100'\n",
       "4. '101'\n",
       "\n",
       "\n"
      ],
      "text/plain": [
       "[1] \"010\" \"011\" \"100\" \"101\""
      ]
     },
     "metadata": {},
     "output_type": "display_data"
    }
   ],
   "source": [
    "unique(ann$categ)"
   ]
  },
  {
   "cell_type": "code",
   "execution_count": 297,
   "id": "offshore-scottish",
   "metadata": {},
   "outputs": [],
   "source": [
    "for (x in unique(ann$categ)){\n",
    "    write.table(bed[ann$categ==x,], paste0(hdir, \"timecourse.\", x,\".bed\"),\n",
    "    sep=\"\\t\", quote=F, row.names=F, col.names=F)\n",
    "\n",
    "\n",
    "}"
   ]
  },
  {
   "cell_type": "code",
   "execution_count": 287,
   "id": "opponent-realtor",
   "metadata": {},
   "outputs": [],
   "source": [
    "lf    = list.files(beddir)\n",
    "bup   = lf[grepl(\"up\",lf) & grepl(\"All\",lf)]\n",
    "bdown = lf[grepl(\"down\",lf) & grepl(\"All\",lf)]"
   ]
  },
  {
   "cell_type": "code",
   "execution_count": 92,
   "id": "green-brick",
   "metadata": {},
   "outputs": [],
   "source": [
    "ups   = c('timecourse.100.bed','timecourse.101.bed')\n",
    "downs = c('timecourse.010.bed','timecourse.011.bed')"
   ]
  },
  {
   "cell_type": "code",
   "execution_count": 301,
   "id": "dangerous-identity",
   "metadata": {},
   "outputs": [
    {
     "data": {
      "text/html": [
       "<ol>\n",
       "\t<li>0</li>\n",
       "\t<li>0</li>\n",
       "</ol>\n"
      ],
      "text/latex": [
       "\\begin{enumerate}\n",
       "\\item 0\n",
       "\\item 0\n",
       "\\end{enumerate}\n"
      ],
      "text/markdown": [
       "1. 0\n",
       "2. 0\n",
       "\n",
       "\n"
      ],
      "text/plain": [
       "[[1]]\n",
       "[1] 0\n",
       "\n",
       "[[2]]\n",
       "[1] 0\n"
      ]
     },
     "metadata": {},
     "output_type": "display_data"
    }
   ],
   "source": [
    "mclapply(1:2, function (i) run_homer(paste(hdir,ups[i], sep=\"/\"), \n",
    "                                               paste0(hdir,gsub(\".bed\", \"\", ups[i]) ), \n",
    "                                               paste(beddir,bup, sep=\"/\")),mc.cores = 18)"
   ]
  },
  {
   "cell_type": "code",
   "execution_count": null,
   "id": "executed-bahrain",
   "metadata": {},
   "outputs": [],
   "source": [
    "mclapply(1:2, \n",
    "         function (i) run_homer(paste(hdir,downs[i], sep=\"/\"), paste0(hdir,gsub(\".bed\", \"\", downs[i]) ), \n",
    "                                paste(beddir,bdown, sep=\"/\")),mc.cores = 18)\n",
    "  "
   ]
  },
  {
   "cell_type": "code",
   "execution_count": 93,
   "id": "caroline-proportion",
   "metadata": {},
   "outputs": [],
   "source": [
    "exps = gsub(\".bed\", \"\",c(ups, downs))"
   ]
  },
  {
   "cell_type": "code",
   "execution_count": 94,
   "id": "corresponding-killing",
   "metadata": {},
   "outputs": [
    {
     "data": {
      "text/html": [
       "<style>\n",
       ".list-inline {list-style: none; margin:0; padding: 0}\n",
       ".list-inline>li {display: inline-block}\n",
       ".list-inline>li:not(:last-child)::after {content: \"\\00b7\"; padding: 0 .5ex}\n",
       "</style>\n",
       "<ol class=list-inline><li>'timecourse.100'</li><li>'timecourse.101'</li><li>'timecourse.010'</li><li>'timecourse.011'</li></ol>\n"
      ],
      "text/latex": [
       "\\begin{enumerate*}\n",
       "\\item 'timecourse.100'\n",
       "\\item 'timecourse.101'\n",
       "\\item 'timecourse.010'\n",
       "\\item 'timecourse.011'\n",
       "\\end{enumerate*}\n"
      ],
      "text/markdown": [
       "1. 'timecourse.100'\n",
       "2. 'timecourse.101'\n",
       "3. 'timecourse.010'\n",
       "4. 'timecourse.011'\n",
       "\n",
       "\n"
      ],
      "text/plain": [
       "[1] \"timecourse.100\" \"timecourse.101\" \"timecourse.010\" \"timecourse.011\""
      ]
     },
     "metadata": {},
     "output_type": "display_data"
    }
   ],
   "source": [
    "exps"
   ]
  },
  {
   "cell_type": "code",
   "execution_count": 115,
   "id": "seeing-option",
   "metadata": {},
   "outputs": [
    {
     "name": "stderr",
     "output_type": "stream",
     "text": [
      "Warning message in p.adjust(as.numeric(hom$V3), method = \"BH\"):\n",
      "“NAs introduced by coercion”\n",
      "Warning message in eval(expr, envir, enclos):\n",
      "“NAs introduced by coercion”\n",
      "Warning message in p.adjust(as.numeric(hom$V3), method = \"BH\"):\n",
      "“NAs introduced by coercion”\n",
      "Warning message in eval(expr, envir, enclos):\n",
      "“NAs introduced by coercion”\n",
      "Warning message in p.adjust(as.numeric(hom$V3), method = \"BH\"):\n",
      "“NAs introduced by coercion”\n",
      "Warning message in eval(expr, envir, enclos):\n",
      "“NAs introduced by coercion”\n",
      "Warning message in p.adjust(as.numeric(hom$V3), method = \"BH\"):\n",
      "“NAs introduced by coercion”\n",
      "Warning message in eval(expr, envir, enclos):\n",
      "“NAs introduced by coercion”\n"
     ]
    }
   ],
   "source": [
    "dl = list()\n",
    "for (exp in exps){\n",
    "hom= read.table( paste0(hdir, exp, '/knownResults.txt'), header=F, fill=T, check.names=F, skip=1, stringsAsFactors = F)\n",
    "hom$fold_change = as.numeric(gsub('%',\"\", hom$V7)) /(as.numeric(gsub('%',\"\", hom$V9))+0.1) ##pseudocount for inf (only V2)\n",
    "hom$Motif = str_split_fixed(hom$V1, \"\\\\/\",3)[,1]\n",
    "hom = hom[complete.cases(hom),] \n",
    "hom = subset(hom, Motif !=\"SEQBIAS:\") \n",
    "hom$Qval = p.adjust(as.numeric(hom$V3), method = \"BH\")\n",
    "hom$LogP = -log(as.numeric(as.numeric(hom$V3)),10)\n",
    "tab = hom[,c(\"Motif\",\"fold_change\", \"Qval\", \"LogP\")]\n",
    "tab = tab[complete.cases(tab),]\n",
    "tab$treat = exp\n",
    "    dl[[exp]] = tab\n",
    "}\n",
    "\n",
    "logp =sapply(dl, function(x) unlist(x$LogP)[1:10])\n",
    "\n"
   ]
  },
  {
   "cell_type": "code",
   "execution_count": 104,
   "id": "continent-setup",
   "metadata": {},
   "outputs": [
    {
     "data": {
      "text/html": [
       "'/nfs/lab/projects/islet_cytok/analysis/deseq_matrix'"
      ],
      "text/latex": [
       "'/nfs/lab/projects/islet\\_cytok/analysis/deseq\\_matrix'"
      ],
      "text/markdown": [
       "'/nfs/lab/projects/islet_cytok/analysis/deseq_matrix'"
      ],
      "text/plain": [
       "[1] \"/nfs/lab/projects/islet_cytok/analysis/deseq_matrix\""
      ]
     },
     "metadata": {},
     "output_type": "display_data"
    }
   ],
   "source": [
    "getwd()"
   ]
  },
  {
   "cell_type": "code",
   "execution_count": 116,
   "id": "periodic-specific",
   "metadata": {},
   "outputs": [
    {
     "data": {
      "text/html": [
       "<strong>png:</strong> 2"
      ],
      "text/latex": [
       "\\textbf{png:} 2"
      ],
      "text/markdown": [
       "**png:** 2"
      ],
      "text/plain": [
       "png \n",
       "  2 "
      ]
     },
     "metadata": {},
     "output_type": "display_data"
    }
   ],
   "source": [
    "my_palette =colorRampPalette( brewer.pal(9, \"Greys\") , bias=1.5)(20)[2:20]\n",
    "color <- my_palette[as.numeric(cut(c(logp),breaks = 19))]\n",
    "color = matrix(color, ncol=4)\n",
    "\n",
    "pdf(\"top_motifs_time.pdf\")\n",
    "par(mfrow = c(2,3), mar = c(8,8,8,4))\n",
    "for (i in 1:4){\n",
    "    tab = dl[[i]][10:1,]\n",
    "    barplot(tab$fold_change, horiz = T, main=i,\n",
    "            names.arg = tab$Motif , las=1,  col=color[10:1,i])\n",
    "    \n",
    "}\n",
    "colkey(my_palette, clim=range(c(logp)), clab=\"-logP\", add=T, side=1, length=2)\n",
    "dev.off()"
   ]
  },
  {
   "cell_type": "markdown",
   "id": "hired-shareware",
   "metadata": {},
   "source": [
    "none significant at q<0.1"
   ]
  },
  {
   "cell_type": "markdown",
   "id": "ruled-beverage",
   "metadata": {},
   "source": [
    "### TNFa effects"
   ]
  },
  {
   "cell_type": "code",
   "execution_count": 118,
   "id": "rational-program",
   "metadata": {},
   "outputs": [
    {
     "data": {
      "text/html": [
       "<style>\n",
       ".list-inline {list-style: none; margin:0; padding: 0}\n",
       ".list-inline>li {display: inline-block}\n",
       ".list-inline>li:not(:last-child)::after {content: \"\\00b7\"; padding: 0 .5ex}\n",
       "</style>\n",
       "<ol class=list-inline><li>'cytokine_24hr_Hi.dec16.filtered.txt'</li><li>'cytokine_24hr_Hi2.dec16.filtered.txt'</li><li>'cytokine_24hr_Lo.dec16.filtered.txt'</li><li>'cytokine_24hr_Lo2.dec16.filtered.txt'</li><li>'cytokine_4h8r_Hi.dec16.filtered.txt'</li><li>'cytokine_6hr_Hi.dec16.filtered.txt'</li><li>'cytokine_72hr_Hi.dec16.filtered.txt'</li></ol>\n"
      ],
      "text/latex": [
       "\\begin{enumerate*}\n",
       "\\item 'cytokine\\_24hr\\_Hi.dec16.filtered.txt'\n",
       "\\item 'cytokine\\_24hr\\_Hi2.dec16.filtered.txt'\n",
       "\\item 'cytokine\\_24hr\\_Lo.dec16.filtered.txt'\n",
       "\\item 'cytokine\\_24hr\\_Lo2.dec16.filtered.txt'\n",
       "\\item 'cytokine\\_4h8r\\_Hi.dec16.filtered.txt'\n",
       "\\item 'cytokine\\_6hr\\_Hi.dec16.filtered.txt'\n",
       "\\item 'cytokine\\_72hr\\_Hi.dec16.filtered.txt'\n",
       "\\end{enumerate*}\n"
      ],
      "text/markdown": [
       "1. 'cytokine_24hr_Hi.dec16.filtered.txt'\n",
       "2. 'cytokine_24hr_Hi2.dec16.filtered.txt'\n",
       "3. 'cytokine_24hr_Lo.dec16.filtered.txt'\n",
       "4. 'cytokine_24hr_Lo2.dec16.filtered.txt'\n",
       "5. 'cytokine_4h8r_Hi.dec16.filtered.txt'\n",
       "6. 'cytokine_6hr_Hi.dec16.filtered.txt'\n",
       "7. 'cytokine_72hr_Hi.dec16.filtered.txt'\n",
       "\n",
       "\n"
      ],
      "text/plain": [
       "[1] \"cytokine_24hr_Hi.dec16.filtered.txt\" \n",
       "[2] \"cytokine_24hr_Hi2.dec16.filtered.txt\"\n",
       "[3] \"cytokine_24hr_Lo.dec16.filtered.txt\" \n",
       "[4] \"cytokine_24hr_Lo2.dec16.filtered.txt\"\n",
       "[5] \"cytokine_4h8r_Hi.dec16.filtered.txt\" \n",
       "[6] \"cytokine_6hr_Hi.dec16.filtered.txt\"  \n",
       "[7] \"cytokine_72hr_Hi.dec16.filtered.txt\" "
      ]
     },
     "metadata": {},
     "output_type": "display_data"
    }
   ],
   "source": [
    "files"
   ]
  },
  {
   "cell_type": "code",
   "execution_count": 119,
   "id": "electric-premiere",
   "metadata": {},
   "outputs": [],
   "source": [
    "cyt3 = read.table(paste0(dir, files[1]), header=T)\n",
    "cyt2 = read.table(paste0(dir, files[2]), header=T)"
   ]
  },
  {
   "cell_type": "code",
   "execution_count": 120,
   "id": "spectacular-bibliography",
   "metadata": {},
   "outputs": [],
   "source": [
    "me = merge(cyt3[,c(1,2,6)], cyt2[,c(1,2,6)], by=\"row.names\")"
   ]
  },
  {
   "cell_type": "code",
   "execution_count": 134,
   "id": "patient-royal",
   "metadata": {},
   "outputs": [
    {
     "data": {
      "text/plain": [
       "       \n",
       "         FALSE   TRUE\n",
       "  FALSE 130030    724\n",
       "  TRUE   23456  11674"
      ]
     },
     "metadata": {},
     "output_type": "display_data"
    }
   ],
   "source": [
    "table(me$padj.x<0.1 , me$padj.y<0.1)"
   ]
  },
  {
   "cell_type": "code",
   "execution_count": 150,
   "id": "threaded-burden",
   "metadata": {},
   "outputs": [],
   "source": [
    "su =subset(me, padj.x<0.1 | padj.y<0.1)"
   ]
  },
  {
   "cell_type": "code",
   "execution_count": 151,
   "id": "incredible-fever",
   "metadata": {},
   "outputs": [],
   "source": [
    "su$col = as.factor(paste0(as.numeric(su[,4]<0.1), as.numeric(su[,7]<0.1)))"
   ]
  },
  {
   "cell_type": "code",
   "execution_count": 152,
   "id": "drawn-shirt",
   "metadata": {},
   "outputs": [],
   "source": [
    "#su=su[order(su[,7]),]\n",
    "col3=alpha(c(\"purple\", \"green\", \"black\"),0.5)"
   ]
  },
  {
   "cell_type": "code",
   "execution_count": 207,
   "id": "designed-lecture",
   "metadata": {},
   "outputs": [],
   "source": [
    "col3=alpha(c(\"orange\", \"red3\", \"black\"),0.5)"
   ]
  },
  {
   "cell_type": "code",
   "execution_count": 209,
   "id": "constitutional-parcel",
   "metadata": {},
   "outputs": [
    {
     "data": {
      "text/html": [
       "<strong>png:</strong> 2"
      ],
      "text/latex": [
       "\\textbf{png:} 2"
      ],
      "text/markdown": [
       "**png:** 2"
      ],
      "text/plain": [
       "png \n",
       "  2 "
      ]
     },
     "metadata": {},
     "output_type": "display_data"
    }
   ],
   "source": [
    "png(\"scatterplot_deseq_tnf.png\",width = 3, height = 3, units = 'in', res = 300)\n",
    "par(mar=c(0,0,0,0))\n",
    "plot(su$log2FoldChange.x,su$log2FoldChange.y, col =col3[as.numeric(su$col)] , cex=0.2, pch=20,\n",
    "    , axes=F)\n",
    "dev.off()"
   ]
  },
  {
   "cell_type": "code",
   "execution_count": 214,
   "id": "unauthorized-wireless",
   "metadata": {},
   "outputs": [
    {
     "data": {
      "text/plain": [
       "\n",
       "\tWilcoxon signed rank test with continuity correction\n",
       "\n",
       "data:  abs(su$log2FoldChange.x) and abs(su$log2FoldChange.y)\n",
       "V = 617885424, p-value < 2.2e-16\n",
       "alternative hypothesis: true location shift is not equal to 0\n"
      ]
     },
     "metadata": {},
     "output_type": "display_data"
    }
   ],
   "source": [
    "wilcox.test(abs(su$log2FoldChange.x),abs(su$log2FoldChange.y), paired=T)"
   ]
  },
  {
   "cell_type": "code",
   "execution_count": 154,
   "id": "alive-recycling",
   "metadata": {},
   "outputs": [
    {
     "data": {
      "text/html": [
       "<strong>png:</strong> 2"
      ],
      "text/latex": [
       "\\textbf{png:} 2"
      ],
      "text/markdown": [
       "**png:** 2"
      ],
      "text/plain": [
       "png \n",
       "  2 "
      ]
     },
     "metadata": {},
     "output_type": "display_data"
    }
   ],
   "source": [
    "pdf(\"scatterplot_deseq_tnf.pdf\")\n",
    "plot(su$log2FoldChange.x,su$log2FoldChange.y, col =col3[as.numeric(su$col)] , \n",
    "     xlab=\"+TNFa log2FC\", ylab=\"-TNFa log2FC\", pch=\"\")\n",
    "abline(h=0, v=0, col=\"gray\")\n",
    "legend(\"topleft\", col=col3, pch=19, legend=c(\"only -TNFa\", \"only +TNFa\",\"both\"))\n",
    "dev.off()"
   ]
  },
  {
   "cell_type": "code",
   "execution_count": 157,
   "id": "trained-saint",
   "metadata": {},
   "outputs": [],
   "source": [
    "su2 =subset(me, padj.x<0.1 & padj.y<0.1)"
   ]
  },
  {
   "cell_type": "code",
   "execution_count": 160,
   "id": "acting-material",
   "metadata": {},
   "outputs": [
    {
     "data": {
      "text/html": [
       "<strong>png:</strong> 2"
      ],
      "text/latex": [
       "\\textbf{png:} 2"
      ],
      "text/markdown": [
       "**png:** 2"
      ],
      "text/plain": [
       "png \n",
       "  2 "
      ]
     },
     "metadata": {},
     "output_type": "display_data"
    }
   ],
   "source": [
    "pdf(\"densityeffects.pdf\")\n",
    "par(pin=c(2,1))\n",
    "plot(density(su2$log2FoldChange.y), xlim=c(-4,4), col = \"purple\")\n",
    "lines(density(su2$log2FoldChange.x), col=\"green\")\n",
    "dev.off()"
   ]
  },
  {
   "cell_type": "code",
   "execution_count": null,
   "id": "sustainable-mercury",
   "metadata": {},
   "outputs": [],
   "source": []
  },
  {
   "cell_type": "code",
   "execution_count": 185,
   "id": "careful-gilbert",
   "metadata": {},
   "outputs": [],
   "source": [
    "genes = read.table(\"../enrichment_genes/genes_within_10kb\")\n",
    "genes$peak = paste(\"peak\",genes[,1], genes[,2], genes[,3], sep=\"-\")"
   ]
  },
  {
   "cell_type": "code",
   "execution_count": 192,
   "id": "female-creature",
   "metadata": {},
   "outputs": [],
   "source": [
    "mm = merge(su, genes[,8:7], by=1 )"
   ]
  },
  {
   "cell_type": "code",
   "execution_count": 196,
   "id": "solar-texas",
   "metadata": {},
   "outputs": [],
   "source": [
    "both_genes =unique(mm$V7[mm$padj.x<0.1 & mm$padj.y<0.1])"
   ]
  },
  {
   "cell_type": "code",
   "execution_count": 198,
   "id": "innovative-arkansas",
   "metadata": {},
   "outputs": [],
   "source": [
    "onlytfa = unique(mm$V7[mm$padj.x<0.1 & mm$padj.y>0.1])"
   ]
  },
  {
   "cell_type": "code",
   "execution_count": 201,
   "id": "civil-scroll",
   "metadata": {},
   "outputs": [],
   "source": [
    "writeLines(as.character(both_genes),\"genes_bothTNFa.txt\")"
   ]
  },
  {
   "cell_type": "code",
   "execution_count": 202,
   "id": "intellectual-clause",
   "metadata": {},
   "outputs": [],
   "source": [
    "writeLines(as.character(onlytfa),\"genes_onlyTNFa.txt\")"
   ]
  },
  {
   "cell_type": "code",
   "execution_count": null,
   "id": "bibliographic-survivor",
   "metadata": {},
   "outputs": [],
   "source": []
  }
 ],
 "metadata": {
  "kernelspec": {
   "display_name": "R 4.1",
   "language": "R",
   "name": "ir41"
  },
  "language_info": {
   "codemirror_mode": "r",
   "file_extension": ".r",
   "mimetype": "text/x-r-source",
   "name": "R",
   "pygments_lexer": "r",
   "version": "4.1.1"
  }
 },
 "nbformat": 4,
 "nbformat_minor": 5
}
