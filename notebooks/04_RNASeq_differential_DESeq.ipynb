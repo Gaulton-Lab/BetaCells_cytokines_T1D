{
 "cells": [
  {
   "cell_type": "code",
   "execution_count": 1,
   "metadata": {},
   "outputs": [],
   "source": [
    "suppressPackageStartupMessages(library(stringr))\n",
    "suppressPackageStartupMessages(library(DESeq2))\n",
    "suppressPackageStartupMessages(library(RColorBrewer))\n",
    "suppressPackageStartupMessages(library(limma))\n",
    "suppressPackageStartupMessages(library(beeswarm))\n",
    "suppressPackageStartupMessages(library(pheatmap))\n",
    "home = '/nfs/lab/projects/islet_cytok/pipeline/RNAseq/sample'"
   ]
  },
  {
   "cell_type": "code",
   "execution_count": 2,
   "metadata": {},
   "outputs": [],
   "source": [
    "info = read.table(\"../data/RNAseq/metadata_edited\", header=T, sep=\"\\t\")"
   ]
  },
  {
   "cell_type": "code",
   "execution_count": 3,
   "metadata": {},
   "outputs": [],
   "source": [
    "info = droplevels(subset(info, treatment !=\"DEX\"))"
   ]
  },
  {
   "cell_type": "code",
   "execution_count": 4,
   "metadata": {},
   "outputs": [],
   "source": [
    "samples = info$name"
   ]
  },
  {
   "cell_type": "code",
   "execution_count": 6,
   "metadata": {},
   "outputs": [],
   "source": [
    "TPM  = expected_count = matrix(NA, nrow =196520 )\n",
    "for(samp in samples){\n",
    "genes = read.table(paste(home, \"/\", samp, \"/rsem/\", samp,  \".isoforms.results\", sep=\"\"), header=T)\n",
    "TPM   = cbind(TPM, genes[,\"TPM\"])\n",
    "\n",
    "expected_count = cbind(expected_count, genes[,\"expected_count\"])\n",
    "}\n",
    "\n",
    "\n",
    "TPM = TPM[,-1]\n",
    "expected_count = expected_count[,-1]\n",
    "\n",
    " colnames (TPM)=colnames (expected_count) = samples\n",
    " rownames (TPM)=rownames (expected_count) = genes[,1]\n",
    "\n",
    "write.table(TPM, \"../pipeline/RNAseq/combined_files/cytok_transcripts.tpm\", sep=\"\\t\", quote=F)\n",
    "write.table(expected_count, \"../pipeline/RNAseq/combined_files/cytok_transcripts.raw_counts\", sep=\"\\t\", quote=F)"
   ]
  },
  {
   "cell_type": "code",
   "execution_count": 7,
   "metadata": {},
   "outputs": [],
   "source": [
    "TPM = FPKM = expected_count = matrix(NA, nrow =57820 )\n",
    "for(samp in samples){\n",
    "genes = read.table(paste(home, \"/\", samp, \"/rsem/\", samp,  \".genes.results\", sep=\"\"), header=T)\n",
    "TPM   = cbind(TPM, genes[,\"TPM\"])\n",
    "FPKM  = cbind(FPKM, genes[,\"FPKM\"])\n",
    "expected_count = cbind(expected_count, genes[,\"expected_count\"])\n",
    "}\n",
    "\n",
    "FPKM = FPKM[,-1]\n",
    "TPM = TPM[,-1]\n",
    "expected_count = expected_count[,-1]\n",
    "\n",
    "colnames (FPKM) = colnames (TPM)=colnames (expected_count) = samples\n",
    "rownames (FPKM) = rownames (TPM)=rownames (expected_count) = genes[,1]\n",
    "\n",
    "write.table(TPM, \"../pipeline/RNAseq/combined_files/cytok_genes.tpm\", sep=\"\\t\", quote=F)\n",
    "write.table(FPKM, \"../pipeline/RNAseq/combined_files/cytok_genes.fpkm\", sep=\"\\t\", quote=F)\n",
    "write.table(expected_count, \"../pipeline/RNAseq/combined_files/cytok_genes.raw_counts\", sep=\"\\t\", quote=F)"
   ]
  },
  {
   "cell_type": "markdown",
   "metadata": {},
   "source": [
    "### PCA analysis"
   ]
  },
  {
   "cell_type": "code",
   "execution_count": 6,
   "metadata": {},
   "outputs": [],
   "source": [
    "expected_count = as.matrix(read.table(\"../pipeline/RNAseq/combined_files/cytok_genes.raw_counts\", sep=\"\\t\", header=T, row.names=1))\n",
    "TPM            = read.table(\"../pipeline/RNAseq/combined_files/cytok_genes.tpm\", sep=\"\\t\", header=T, row.names=1)"
   ]
  },
  {
   "cell_type": "code",
   "execution_count": 7,
   "metadata": {},
   "outputs": [],
   "source": [
    "expected_count_all = expected_count\n",
    "TPM_all = TPM"
   ]
  },
  {
   "cell_type": "code",
   "execution_count": 8,
   "metadata": {},
   "outputs": [],
   "source": [
    "info = droplevels(subset(info, !(sample %in% c('R310','SAMN11250012'))))\n",
    "expected_count = subset(expected_count, select=as.character(info$name))\n",
    "TPM = subset(TPM, select=as.character(info$name))"
   ]
  },
  {
   "cell_type": "code",
   "execution_count": 12,
   "metadata": {},
   "outputs": [],
   "source": [
    "info$experiment = paste(info$sample, info$treatment, sep=\"_\")"
   ]
  },
  {
   "cell_type": "code",
   "execution_count": 15,
   "metadata": {},
   "outputs": [],
   "source": [
    "geo_table = expected_count"
   ]
  },
  {
   "cell_type": "code",
   "execution_count": 23,
   "metadata": {},
   "outputs": [],
   "source": [
    "\n",
    "recode = c('highcyt-TNF-a'='2cyt-hi',  'highcyt+TNF-a'  ='3cyt-hi',\n",
    "           'lowcyt-TNF-a'='2cyt-lo',  'lowcyt+TNF-a'='3cyt-lo', \n",
    "           untreated='untreated')"
   ]
  },
  {
   "cell_type": "code",
   "execution_count": 25,
   "metadata": {},
   "outputs": [],
   "source": [
    "info$recode = recode[info$treatment]"
   ]
  },
  {
   "cell_type": "code",
   "execution_count": 28,
   "metadata": {},
   "outputs": [],
   "source": [
    "info$newname = paste(info$sample, info$recode, \"24h\", sep=\"_\")"
   ]
  },
  {
   "cell_type": "code",
   "execution_count": 30,
   "metadata": {},
   "outputs": [],
   "source": [
    "colnames(geo_table) = info$newname"
   ]
  },
  {
   "cell_type": "code",
   "execution_count": 31,
   "metadata": {},
   "outputs": [],
   "source": [
    "write.table(geo_table,\"../geo_submission_oct21/processed_files/Bulk_RNASeq_count.matrix.txt\", sep=\"\\t\", quote=F)"
   ]
  },
  {
   "cell_type": "code",
   "execution_count": 12,
   "metadata": {},
   "outputs": [
    {
     "data": {
      "text/html": [
       "<style>\n",
       ".list-inline {list-style: none; margin:0; padding: 0}\n",
       ".list-inline>li {display: inline-block}\n",
       ".list-inline>li:not(:last-child)::after {content: \"\\00b7\"; padding: 0 .5ex}\n",
       "</style>\n",
       "<ol class=list-inline><li>22175</li><li>16</li></ol>\n"
      ],
      "text/latex": [
       "\\begin{enumerate*}\n",
       "\\item 22175\n",
       "\\item 16\n",
       "\\end{enumerate*}\n"
      ],
      "text/markdown": [
       "1. 22175\n",
       "2. 16\n",
       "\n",
       "\n"
      ],
      "text/plain": [
       "[1] 22175    16"
      ]
     },
     "metadata": {},
     "output_type": "display_data"
    }
   ],
   "source": [
    "#counts_raw<-subset(expected_count, rowMeans(TPM)>1)   ## filter for low expr. genes\n",
    "counts_raw<-subset(expected_count, rowMeans(TPM)>0.1)  \n",
    "dim(counts_raw)"
   ]
  },
  {
   "cell_type": "code",
   "execution_count": 13,
   "metadata": {},
   "outputs": [],
   "source": [
    "counts = round(counts_raw)"
   ]
  },
  {
   "cell_type": "code",
   "execution_count": 14,
   "metadata": {},
   "outputs": [],
   "source": [
    "#mat <- vst(counts, blind=FALSE)"
   ]
  },
  {
   "cell_type": "code",
   "execution_count": 15,
   "metadata": {},
   "outputs": [],
   "source": [
    "mat<- limma::voom(counts_raw)\n",
    "\n",
    "mat_corrected <- limma::removeBatchEffect(mat, batch= info$sample)"
   ]
  },
  {
   "cell_type": "code",
   "execution_count": 17,
   "metadata": {},
   "outputs": [],
   "source": [
    "mat_corrected = mat_corrected[order(rowVars(mat_corrected),decreasing=T),]"
   ]
  },
  {
   "cell_type": "code",
   "execution_count": 18,
   "metadata": {},
   "outputs": [],
   "source": [
    "pca <- prcomp(t(mat_corrected))\n",
    "pca <- prcomp(t(mat_corrected[1:500,]))\n",
    "percentVar <- pca$sdev^2 / sum( pca$sdev^2 )\n",
    "d <- data.frame(PC1=pca$x[,1], PC2=pca$x[,2] , PC3=pca$x[,3], PC4=pca$x[,4], info)"
   ]
  },
  {
   "cell_type": "code",
   "execution_count": null,
   "metadata": {},
   "outputs": [],
   "source": [
    "pdf(\"../analysis/data_qc/PCA_cytok_500mostvargenes_batchsampl_correct.pdf\")\n",
    "par(pin =c(5,4))\n",
    "\n",
    "plot(data=d, PC2~PC1,  xlab=(paste0(\"PC1:\" ,round(percentVar[1] * 100),\"% variance\")),\n",
    "       ylab=(paste0(\"PC2:\",round(percentVar[2] * 100),\"% variance\")) , \n",
    "       pch= 19,\n",
    "      col = as.character(d$color),  cex=1.6, las=1, xlim=c(min(d$PC1)-2, max(d$PC1)+2) , \n",
    "         ylim=c(min(d$PC2)-2, max(d$PC2)+2) )\n",
    "grid()\n",
    "text(d$PC1, d$PC2, str_sub(d$sample, -4,-1), pos=3, cex=0.8 )\n",
    "\n",
    "legend(\"bottomright\", legend=unique(d$treatment), pch=19, col = as.character(unique(d$color)), bty = \"n\")\n",
    "\n",
    "# plot(data=d, PC4~PC3,  xlab=(paste0(\"PC3:\" ,round(percentVar[3] * 100),\"% variance\")),\n",
    "#        ylab=(paste0(\"PC4:\",round(percentVar[4] * 100),\"% variance\")) , \n",
    "#        pch= c(19,18,15,4,8,17)[as.numeric(d$sample)],\n",
    "#       col = as.character(d$color),  cex=1.5, las=1, xlim=c(min(d$PC3)-2, max(d$PC3)+2) , \n",
    "#          ylim=c(min(d$PC4)-2, max(d$PC4)+2) )\n",
    "grid()\n",
    "\n",
    "dev.off()"
   ]
  },
  {
   "cell_type": "code",
   "execution_count": 19,
   "metadata": {},
   "outputs": [],
   "source": [
    "write.table(mat,'../pipeline/RNAseq/combined_files/voom_normalized_filtered_gene_expr_cytok.tsv', sep=\"\\t\", quote=F)"
   ]
  },
  {
   "cell_type": "code",
   "execution_count": 20,
   "metadata": {},
   "outputs": [],
   "source": [
    "write.table(mat_corrected, \"../pipeline/RNAseq/combined_files/voom_normalized_batc_correct_gene_expr_cytok.tsv\", sep=\"\\t\", quote=F)"
   ]
  },
  {
   "cell_type": "markdown",
   "metadata": {},
   "source": [
    "### Find differentially expressed genes"
   ]
  },
  {
   "cell_type": "code",
   "execution_count": 21,
   "metadata": {},
   "outputs": [],
   "source": [
    "setwd(\"../analysis/deseq_analysis/\")"
   ]
  },
  {
   "cell_type": "code",
   "execution_count": 22,
   "metadata": {},
   "outputs": [],
   "source": [
    "counts_gid = counts"
   ]
  },
  {
   "cell_type": "code",
   "execution_count": 23,
   "metadata": {},
   "outputs": [],
   "source": [
    "gene_info = read.table(\"/nfs/lab/publicdata/gencode_v19/gene_info.tsv\", header=T)\n",
    "\n",
    "rownames(counts) = gene_info$gene_name[match( rownames(counts),gene_info$gene_id)]"
   ]
  },
  {
   "cell_type": "code",
   "execution_count": 24,
   "metadata": {},
   "outputs": [],
   "source": [
    "info$condition = str_replace_all(info$treatment, \"-TNF-a\", \"2\")\n",
    "info$condition = str_replace_all(info$condition, \"\\\\+TNF-a\", \"3\")\n",
    "info$condition = str_replace_all(info$condition, \"untreated\", \"untr\")"
   ]
  },
  {
   "cell_type": "code",
   "execution_count": 25,
   "metadata": {},
   "outputs": [],
   "source": [
    "write.table(info, '../../data/RNAseq/metadata_cytok_paper.txt', quote=F, sep=\"\\t\")"
   ]
  },
  {
   "cell_type": "code",
   "execution_count": 26,
   "metadata": {},
   "outputs": [],
   "source": [
    "differential_atac = function (contrast = c(\"untr\", \"highcyt3\"), samples = info, mat = counts, lab=\"g\") {\n",
    "\n",
    "#g        = samples[samples$condition %in% contrast, ]\n",
    "#data     = subset(mat, select = as.character(g$name))\n",
    "\n",
    "g    = samples    \n",
    "data = mat\n",
    "    \n",
    "### differential accessibility using Deseq2\n",
    "dds     <- DESeqDataSetFromMatrix(data, g, design= ~ sample + condition)\n",
    "#dds     <- dds[ rowSums(counts(dds)) > 2, ]\n",
    "dds     <- DESeq(dds, fitType=\"parametric\")    \n",
    "res     <- results(dds, contrast=c(\"condition\", contrast[2], contrast[1]))\n",
    "res     <- as.data.frame(res)\n",
    "\n",
    "res = res[order(res$pvalue),]\n",
    "write.table (res, paste( lab, contrast[2], \"deseq_results_cytok.tsv\", sep=\".\"))\n",
    "\n",
    "    \n",
    "   }\n"
   ]
  },
  {
   "cell_type": "code",
   "execution_count": 27,
   "metadata": {},
   "outputs": [],
   "source": [
    "#differential_atac(contrast = c(\"untr\", \"highcyt3\"), samples = info, mat =counts_gid, lab=\"gid\")\n",
    "#differential_atac(contrast = c(\"untr\", \"highcyt3\"), samples = info, mat =counts, lab=\"g\")"
   ]
  },
  {
   "cell_type": "code",
   "execution_count": 28,
   "metadata": {},
   "outputs": [],
   "source": [
    "#differential_atac(contrast = c(\"untr\", \"highcyt2\"), samples = info, mat =counts_gid, lab=\"gid\")\n",
    "#differential_atac(contrast = c(\"untr\", \"highcyt2\"), samples = info, mat =counts, lab=\"g\")"
   ]
  },
  {
   "cell_type": "code",
   "execution_count": 29,
   "metadata": {},
   "outputs": [],
   "source": [
    "#differential_atac(contrast = c(\"untr\", \"lowcyt2\"), samples = info, mat =counts_gid, lab=\"gid\")\n",
    "#differential_atac(contrast = c(\"untr\", \"lowcyt2\"), samples = info, mat =counts, lab=\"g\")"
   ]
  },
  {
   "cell_type": "code",
   "execution_count": 30,
   "metadata": {},
   "outputs": [],
   "source": [
    "#differential_atac(contrast = c(\"untr\", \"lowcyt3\"), samples = info, mat =counts_gid, lab=\"gid\")\n",
    "#differential_atac(contrast = c(\"untr\", \"lowcyt3\"), samples = info, mat =counts, lab=\"g\")"
   ]
  },
  {
   "cell_type": "code",
   "execution_count": 31,
   "metadata": {},
   "outputs": [
    {
     "name": "stderr",
     "output_type": "stream",
     "text": [
      "converting counts to integer mode\n",
      "\n",
      "Warning message in DESeqDataSet(se, design = design, ignoreRank):\n",
      "“some variables in design formula are characters, converting to factors”\n",
      "estimating size factors\n",
      "\n",
      "estimating dispersions\n",
      "\n",
      "gene-wise dispersion estimates\n",
      "\n",
      "mean-dispersion relationship\n",
      "\n",
      "final dispersion estimates\n",
      "\n",
      "fitting model and testing\n",
      "\n"
     ]
    }
   ],
   "source": [
    "differential_atac(contrast = c(\"highcyt2\", \"highcyt3\"), samples = info, mat =counts_gid, lab=\"g_idvs2\")"
   ]
  },
  {
   "cell_type": "code",
   "execution_count": 32,
   "metadata": {},
   "outputs": [],
   "source": [
    "tnf = read.table(\"g_idvs2.highcyt3.deseq_results_cytok.tsv\")"
   ]
  },
  {
   "cell_type": "code",
   "execution_count": 34,
   "metadata": {},
   "outputs": [],
   "source": [
    "tnf = merge(gene_info[,c(\"gene_id\", \"gene_name\")], tnf, by.x=1, by.y=\"row.names\")"
   ]
  },
  {
   "cell_type": "code",
   "execution_count": 36,
   "metadata": {},
   "outputs": [],
   "source": [
    "tnf = tnf[order(tnf$pvalue),]"
   ]
  },
  {
   "cell_type": "code",
   "execution_count": 40,
   "metadata": {},
   "outputs": [],
   "source": [
    "sub = subset(tnf, padj<0.1)"
   ]
  },
  {
   "cell_type": "code",
   "execution_count": 41,
   "metadata": {},
   "outputs": [
    {
     "data": {
      "text/plain": [
       "\n",
       "FALSE  TRUE \n",
       "   22    49 "
      ]
     },
     "metadata": {},
     "output_type": "display_data"
    }
   ],
   "source": [
    "table(sub$log2FoldChange >0)"
   ]
  },
  {
   "cell_type": "code",
   "execution_count": 42,
   "metadata": {},
   "outputs": [],
   "source": [
    "write.table(tnf, 'highcyt3vs2.deseq_results_cytok.txt', sep=\"\\t\", quote=F, row.names=F)"
   ]
  },
  {
   "cell_type": "code",
   "execution_count": 195,
   "metadata": {},
   "outputs": [
    {
     "data": {
      "text/html": [
       "<strong>png:</strong> 2"
      ],
      "text/latex": [
       "\\textbf{png:} 2"
      ],
      "text/markdown": [
       "**png:** 2"
      ],
      "text/plain": [
       "png \n",
       "  2 "
      ]
     },
     "metadata": {},
     "output_type": "display_data"
    }
   ],
   "source": [
    "pdf(\"Volcano_plots_fdr10_cytok_supp.pdf\")\n",
    "par(mfrow=c(2,2))\n",
    "\n",
    "for (f in  c('highcyt3', 'highcyt2', 'lowcyt3', 'lowcyt2')) {\n",
    "co = as.character(unique(info$color[info$condition==f]))\n",
    "file =paste( \"g\", f, \"deseq_results_cytok.tsv\", sep=\".\")\n",
    "res  = read.table(file, row.names=1, header=T)  \n",
    "plot(-log10(pvalue)~log2FoldChange, res, pch=\".\", xlim=c(-7,7),\n",
    "     col = c(\"black\", co)[(res$padj<0.1 )+1] , cex=3 , las=1)\n",
    "n=10\n",
    "text(res[1:n,\"log2FoldChange\"], -log10(res[1:n, \"pvalue\"]), labels =rownames(res)[1:n], cex=0.6, pos=c(2,4) )\n",
    "mtext(paste(f, \"up=\",  sum(res$padj <0.1 & res$log2FoldChange>0, na.rm=T), \n",
    "               \"down=\",  sum(res$padj <0.1 & res$log2FoldChange<0, na.rm=T)))\n",
    "    \n",
    "writeLines( na.omit(rownames(res)[res$padj <0.1 & res$log2FoldChange<0]), paste0(f,\".down_degs.txt\") )      \n",
    "writeLines( na.omit(rownames(res)[res$padj <0.1 & res$log2FoldChange>0]), paste0(f,\".up_degs.txt\") )    \n",
    "    }\n",
    "dev.off()"
   ]
  },
  {
   "cell_type": "code",
   "execution_count": 293,
   "metadata": {},
   "outputs": [
    {
     "data": {
      "image/png": "[encoded data removed]",
      "text/plain": [
       "plot without title"
      ]
     },
     "metadata": {
      "image/png": {
       "height": 420,
       "width": 420
      },
      "text/plain": {
       "height": 420,
       "width": 420
      }
     },
     "output_type": "display_data"
    }
   ],
   "source": [
    "f = 'highcyt3'\n",
    "file =paste( \"gvs2\", f, \"deseq_results_cytok.tsv\", sep=\".\")\n",
    "res  = read.table(file, row.names=1, header=T)  \n",
    "res = res[complete.cases(res),]\n",
    "plot(-log10(pvalue)~log2FoldChange, res, pch=\".\", xlim=c(-2,2),\n",
    "     col = c(\"black\", co)[(res$padj<0.1 )+1] , cex=3 , las=1)\n",
    "n=20\n",
    "text(res[1:n,\"log2FoldChange\"], -log10(res[1:n, \"pvalue\"]), labels =rownames(res)[1:n], cex=0.6, pos=c(2,4) )\n",
    "mtext(paste(f, \"up=\",  sum(res$padj <0.1 & res$log2FoldChange>0, na.rm=T), \n",
    "               \"down=\",  sum(res$padj <0.1 & res$log2FoldChange<0, na.rm=T)))\n",
    "    \n",
    "writeLines( na.omit(rownames(res)[res$padj <0.1 & res$log2FoldChange<0]), paste0(f,\".down_degs_vs2.txt\") )      \n",
    "writeLines( na.omit(rownames(res)[res$padj <0.1 & res$log2FoldChange>0]), paste0(f,\".up_degs_vs2.txt\") )    \n"
   ]
  },
  {
   "cell_type": "code",
   "execution_count": 295,
   "metadata": {},
   "outputs": [],
   "source": [
    "tnfdiff = na.omit(rownames(res)[res$padj <0.1])"
   ]
  },
  {
   "cell_type": "code",
   "execution_count": 296,
   "metadata": {},
   "outputs": [
    {
     "data": {
      "text/html": [
       "<style>\n",
       ".list-inline {list-style: none; margin:0; padding: 0}\n",
       ".list-inline>li {display: inline-block}\n",
       ".list-inline>li:not(:last-child)::after {content: \"\\00b7\"; padding: 0 .5ex}\n",
       "</style>\n",
       "<ol class=list-inline><li>'GAD2'</li><li>'IL17RB'</li><li>'ADAMTSL2'</li><li>'FAM47E-STBD1'</li><li>'ODF3B'</li><li>'PEMT'</li><li>'ZNF641'</li><li>'WNT4'</li><li>'PTGS2'</li><li>'NFKB2'</li><li>'NEDD4'</li><li>'WTAP'</li><li>'DDR1'</li><li>'NFKBIE'</li><li>'MAML2'</li><li>'ST5'</li><li>'MAATS1'</li><li>'STAT5A'</li><li>'ARRDC3'</li><li>'AATK'</li><li>'SLC39A14'</li><li>'RFX3'</li><li>'SLC11A2'</li><li>'CMTM6'</li><li>'UBE2Z'</li><li>'ABCB1'</li><li>'KCNK16'</li><li>'TRAF3'</li><li>'KLHL41'</li><li>'LYN'</li><li>'MRC1L1'</li><li>'INHBA'</li><li>'PLA2G4A'</li><li>'SLC30A8'</li><li>'SLC4A8'</li><li>'CDON'</li><li>'SERPINB9'</li><li>'VAT1L'</li><li>'ARAP1'</li><li>'BAMBI'</li><li>'MMP10'</li><li>'NFKBIA'</li><li>'CHDH'</li><li>'RELB'</li><li>'MARCKS'</li><li>'NT5DC3'</li><li>'PLEKHG3'</li><li>'HDGF'</li><li>'KIAA1217'</li><li>'ECE1'</li><li>'ENTPD3'</li><li>'SLC45A3'</li><li>'MYO1B'</li><li>'GJD2'</li><li>'ID4'</li><li>'SCN1B'</li><li>'IL6'</li><li>'TBC1D9'</li><li>'LACC1'</li><li>'PNRC2'</li><li>'SEPT5'</li><li>'NAB1'</li><li>'FRK'</li><li>'PTP4A3'</li><li>'NAMPT'</li><li>'B4GALT6'</li><li>'NCEH1'</li><li>'PCK1'</li><li>'CXCL10'</li><li>'CRYBA2'</li><li>'KCNJ8'</li></ol>\n"
      ],
      "text/latex": [
       "\\begin{enumerate*}\n",
       "\\item 'GAD2'\n",
       "\\item 'IL17RB'\n",
       "\\item 'ADAMTSL2'\n",
       "\\item 'FAM47E-STBD1'\n",
       "\\item 'ODF3B'\n",
       "\\item 'PEMT'\n",
       "\\item 'ZNF641'\n",
       "\\item 'WNT4'\n",
       "\\item 'PTGS2'\n",
       "\\item 'NFKB2'\n",
       "\\item 'NEDD4'\n",
       "\\item 'WTAP'\n",
       "\\item 'DDR1'\n",
       "\\item 'NFKBIE'\n",
       "\\item 'MAML2'\n",
       "\\item 'ST5'\n",
       "\\item 'MAATS1'\n",
       "\\item 'STAT5A'\n",
       "\\item 'ARRDC3'\n",
       "\\item 'AATK'\n",
       "\\item 'SLC39A14'\n",
       "\\item 'RFX3'\n",
       "\\item 'SLC11A2'\n",
       "\\item 'CMTM6'\n",
       "\\item 'UBE2Z'\n",
       "\\item 'ABCB1'\n",
       "\\item 'KCNK16'\n",
       "\\item 'TRAF3'\n",
       "\\item 'KLHL41'\n",
       "\\item 'LYN'\n",
       "\\item 'MRC1L1'\n",
       "\\item 'INHBA'\n",
       "\\item 'PLA2G4A'\n",
       "\\item 'SLC30A8'\n",
       "\\item 'SLC4A8'\n",
       "\\item 'CDON'\n",
       "\\item 'SERPINB9'\n",
       "\\item 'VAT1L'\n",
       "\\item 'ARAP1'\n",
       "\\item 'BAMBI'\n",
       "\\item 'MMP10'\n",
       "\\item 'NFKBIA'\n",
       "\\item 'CHDH'\n",
       "\\item 'RELB'\n",
       "\\item 'MARCKS'\n",
       "\\item 'NT5DC3'\n",
       "\\item 'PLEKHG3'\n",
       "\\item 'HDGF'\n",
       "\\item 'KIAA1217'\n",
       "\\item 'ECE1'\n",
       "\\item 'ENTPD3'\n",
       "\\item 'SLC45A3'\n",
       "\\item 'MYO1B'\n",
       "\\item 'GJD2'\n",
       "\\item 'ID4'\n",
       "\\item 'SCN1B'\n",
       "\\item 'IL6'\n",
       "\\item 'TBC1D9'\n",
       "\\item 'LACC1'\n",
       "\\item 'PNRC2'\n",
       "\\item 'SEPT5'\n",
       "\\item 'NAB1'\n",
       "\\item 'FRK'\n",
       "\\item 'PTP4A3'\n",
       "\\item 'NAMPT'\n",
       "\\item 'B4GALT6'\n",
       "\\item 'NCEH1'\n",
       "\\item 'PCK1'\n",
       "\\item 'CXCL10'\n",
       "\\item 'CRYBA2'\n",
       "\\item 'KCNJ8'\n",
       "\\end{enumerate*}\n"
      ],
      "text/markdown": [
       "1. 'GAD2'\n",
       "2. 'IL17RB'\n",
       "3. 'ADAMTSL2'\n",
       "4. 'FAM47E-STBD1'\n",
       "5. 'ODF3B'\n",
       "6. 'PEMT'\n",
       "7. 'ZNF641'\n",
       "8. 'WNT4'\n",
       "9. 'PTGS2'\n",
       "10. 'NFKB2'\n",
       "11. 'NEDD4'\n",
       "12. 'WTAP'\n",
       "13. 'DDR1'\n",
       "14. 'NFKBIE'\n",
       "15. 'MAML2'\n",
       "16. 'ST5'\n",
       "17. 'MAATS1'\n",
       "18. 'STAT5A'\n",
       "19. 'ARRDC3'\n",
       "20. 'AATK'\n",
       "21. 'SLC39A14'\n",
       "22. 'RFX3'\n",
       "23. 'SLC11A2'\n",
       "24. 'CMTM6'\n",
       "25. 'UBE2Z'\n",
       "26. 'ABCB1'\n",
       "27. 'KCNK16'\n",
       "28. 'TRAF3'\n",
       "29. 'KLHL41'\n",
       "30. 'LYN'\n",
       "31. 'MRC1L1'\n",
       "32. 'INHBA'\n",
       "33. 'PLA2G4A'\n",
       "34. 'SLC30A8'\n",
       "35. 'SLC4A8'\n",
       "36. 'CDON'\n",
       "37. 'SERPINB9'\n",
       "38. 'VAT1L'\n",
       "39. 'ARAP1'\n",
       "40. 'BAMBI'\n",
       "41. 'MMP10'\n",
       "42. 'NFKBIA'\n",
       "43. 'CHDH'\n",
       "44. 'RELB'\n",
       "45. 'MARCKS'\n",
       "46. 'NT5DC3'\n",
       "47. 'PLEKHG3'\n",
       "48. 'HDGF'\n",
       "49. 'KIAA1217'\n",
       "50. 'ECE1'\n",
       "51. 'ENTPD3'\n",
       "52. 'SLC45A3'\n",
       "53. 'MYO1B'\n",
       "54. 'GJD2'\n",
       "55. 'ID4'\n",
       "56. 'SCN1B'\n",
       "57. 'IL6'\n",
       "58. 'TBC1D9'\n",
       "59. 'LACC1'\n",
       "60. 'PNRC2'\n",
       "61. 'SEPT5'\n",
       "62. 'NAB1'\n",
       "63. 'FRK'\n",
       "64. 'PTP4A3'\n",
       "65. 'NAMPT'\n",
       "66. 'B4GALT6'\n",
       "67. 'NCEH1'\n",
       "68. 'PCK1'\n",
       "69. 'CXCL10'\n",
       "70. 'CRYBA2'\n",
       "71. 'KCNJ8'\n",
       "\n",
       "\n"
      ],
      "text/plain": [
       " [1] \"GAD2\"         \"IL17RB\"       \"ADAMTSL2\"     \"FAM47E-STBD1\" \"ODF3B\"       \n",
       " [6] \"PEMT\"         \"ZNF641\"       \"WNT4\"         \"PTGS2\"        \"NFKB2\"       \n",
       "[11] \"NEDD4\"        \"WTAP\"         \"DDR1\"         \"NFKBIE\"       \"MAML2\"       \n",
       "[16] \"ST5\"          \"MAATS1\"       \"STAT5A\"       \"ARRDC3\"       \"AATK\"        \n",
       "[21] \"SLC39A14\"     \"RFX3\"         \"SLC11A2\"      \"CMTM6\"        \"UBE2Z\"       \n",
       "[26] \"ABCB1\"        \"KCNK16\"       \"TRAF3\"        \"KLHL41\"       \"LYN\"         \n",
       "[31] \"MRC1L1\"       \"INHBA\"        \"PLA2G4A\"      \"SLC30A8\"      \"SLC4A8\"      \n",
       "[36] \"CDON\"         \"SERPINB9\"     \"VAT1L\"        \"ARAP1\"        \"BAMBI\"       \n",
       "[41] \"MMP10\"        \"NFKBIA\"       \"CHDH\"         \"RELB\"         \"MARCKS\"      \n",
       "[46] \"NT5DC3\"       \"PLEKHG3\"      \"HDGF\"         \"KIAA1217\"     \"ECE1\"        \n",
       "[51] \"ENTPD3\"       \"SLC45A3\"      \"MYO1B\"        \"GJD2\"         \"ID4\"         \n",
       "[56] \"SCN1B\"        \"IL6\"          \"TBC1D9\"       \"LACC1\"        \"PNRC2\"       \n",
       "[61] \"SEPT5\"        \"NAB1\"         \"FRK\"          \"PTP4A3\"       \"NAMPT\"       \n",
       "[66] \"B4GALT6\"      \"NCEH1\"        \"PCK1\"         \"CXCL10\"       \"CRYBA2\"      \n",
       "[71] \"KCNJ8\"       "
      ]
     },
     "metadata": {},
     "output_type": "display_data"
    }
   ],
   "source": [
    "tnfdiff"
   ]
  },
  {
   "cell_type": "markdown",
   "metadata": {},
   "source": [
    "### Compare treatments"
   ]
  },
  {
   "cell_type": "code",
   "execution_count": 199,
   "metadata": {},
   "outputs": [],
   "source": [
    "suppressPackageStartupMessages(library(matrixStats))\n",
    "suppressPackageStartupMessages(library(pheatmap))\n",
    "suppressPackageStartupMessages(library(RColorBrewer))"
   ]
  },
  {
   "cell_type": "code",
   "execution_count": 275,
   "metadata": {},
   "outputs": [],
   "source": [
    "l=list()\n",
    "for (f in  c('highcyt3', 'highcyt2', 'lowcyt3', 'lowcyt2')) {\n",
    "file =paste( \"g\", f, \"deseq_results_cytok.tsv\", sep=\".\")\n",
    "res  = read.table(file, row.names=1, header=T)  \n",
    "\n",
    "l[[f]] = na.omit(rownames(res)[res$padj <0.1])\n",
    "                 }\n",
    "                 \n",
    "u =  data.frame(unique(unlist(l)))\n",
    "for(n in 1:4){\n",
    "    u[,n+1] =   u[,1] %in% l[[n]]\n",
    "}\n"
   ]
  },
  {
   "cell_type": "code",
   "execution_count": 276,
   "metadata": {},
   "outputs": [],
   "source": [
    "colnames(u) = c(\"gene\",  c('highcyt3', 'highcyt2', 'lowcyt3', 'lowcyt2'))\n",
    "\n",
    "v = vennCounts (u[,2:5])\n"
   ]
  },
  {
   "cell_type": "code",
   "execution_count": 204,
   "metadata": {},
   "outputs": [],
   "source": [
    "info_uni = info[!duplicated(info$condition),]"
   ]
  },
  {
   "cell_type": "code",
   "execution_count": 205,
   "metadata": {},
   "outputs": [],
   "source": [
    "annot = data.frame(  Treatment = info$condition, Sample = info$sample)\n",
    "rownames(annot) = info$name\n",
    "\n",
    "Sample           = brewer.pal(6, 'Pastel1')\n",
    "names(Sample)    = unique(info$sample)\n",
    "Treatment        = as.character(info_uni$color)\n",
    "names(Treatment) = info_uni$condition\n",
    "annocol = list(Sample = Sample, Treatment = Treatment)"
   ]
  },
  {
   "cell_type": "code",
   "execution_count": 212,
   "metadata": {},
   "outputs": [],
   "source": [
    "rownames(mat) = gene_info$gene_name[match( rownames(mat),gene_info$gene_id)]"
   ]
  },
  {
   "cell_type": "code",
   "execution_count": 217,
   "metadata": {},
   "outputs": [],
   "source": [
    "rownames(mat_corrected) = gene_info$gene_name[match( rownames(mat_corrected),gene_info$gene_id)]"
   ]
  },
  {
   "cell_type": "code",
   "execution_count": 281,
   "metadata": {},
   "outputs": [],
   "source": [
    "res = res[complete.cases(res),]\n",
    "selup   = rownames(res)[res$log2FoldChange>0]\n",
    "seldown = rownames(res)[res$log2FoldChange<0]\n"
   ]
  },
  {
   "cell_type": "code",
   "execution_count": 285,
   "metadata": {},
   "outputs": [],
   "source": [
    "commongenes = as.character(u$gene[rowSums(u[,2:5])==4])"
   ]
  },
  {
   "cell_type": "code",
   "execution_count": 287,
   "metadata": {},
   "outputs": [],
   "source": [
    "coup = commongenes[commongenes %in% selup]\n",
    "codo = commongenes[commongenes %in% seldown]"
   ]
  },
  {
   "cell_type": "code",
   "execution_count": 298,
   "metadata": {},
   "outputs": [],
   "source": [
    "sel=unique(c(coup[1:20], codo[1:20], tnfdiff[1:10] ))\n",
    "pheatmap(mat_corrected[sel,], cluster_rows = T, cluster_cols = T, \n",
    "         show_rownames = T,\n",
    "         col = rev(colorRampPalette(brewer.pal(9, \"PuOr\"))(50)),\n",
    "         annotation_col=annot  , annotation_colors = annocol, \n",
    "          cellwidth=15, cellheight=8, \n",
    "         file =\"Heatmap_top_40_DEGs_cytok.pdf\",\n",
    "         scale = 'row', fontsize = 10)\n"
   ]
  },
  {
   "cell_type": "code",
   "execution_count": 209,
   "metadata": {},
   "outputs": [
    {
     "data": {
      "image/png": "[encoded data removed]",
      "text/plain": [
       "plot without title"
      ]
     },
     "metadata": {
      "image/png": {
       "height": 420,
       "width": 420
      },
      "text/plain": {
       "height": 420,
       "width": 420
      }
     },
     "output_type": "display_data"
    }
   ],
   "source": [
    "par(mfrow=c(2,2))\n",
    "vennDiagram(v, lwd=2, bty=\"o\", cex=1.2, circle.col = as.character(info_uni$color)[c(3,2,5,4)])\n"
   ]
  },
  {
   "cell_type": "markdown",
   "metadata": {},
   "source": [
    "### barplots"
   ]
  },
  {
   "cell_type": "code",
   "execution_count": 311,
   "metadata": {},
   "outputs": [],
   "source": [
    "lili = list()\n",
    "for(x in 3:2){  \n",
    "for (f in  c('highcyt','lowcyt')) {\n",
    "file =paste0(f, x, \".up_degs.txt\") \n",
    "lili[[file]]  = readLines(file)\n",
    "file =paste0(f, x, \".down_degs.txt\") \n",
    "lili[[file]]  = readLines(file)   \n",
    " }\n",
    "    }"
   ]
  },
  {
   "cell_type": "code",
   "execution_count": 353,
   "metadata": {},
   "outputs": [
    {
     "data": {
      "text/html": [
       "<dl>\n",
       "\t<dt>$highcyt3.up_degs.txt</dt>\n",
       "\t\t<dd>3367</dd>\n",
       "\t<dt>$highcyt3.down_degs.txt</dt>\n",
       "\t\t<dd>3414</dd>\n",
       "\t<dt>$lowcyt3.up_degs.txt</dt>\n",
       "\t\t<dd>232</dd>\n",
       "\t<dt>$lowcyt3.down_degs.txt</dt>\n",
       "\t\t<dd>98</dd>\n",
       "\t<dt>$highcyt2.up_degs.txt</dt>\n",
       "\t\t<dd>2543</dd>\n",
       "\t<dt>$highcyt2.down_degs.txt</dt>\n",
       "\t\t<dd>2508</dd>\n",
       "\t<dt>$lowcyt2.up_degs.txt</dt>\n",
       "\t\t<dd>252</dd>\n",
       "\t<dt>$lowcyt2.down_degs.txt</dt>\n",
       "\t\t<dd>72</dd>\n",
       "</dl>\n"
      ],
      "text/latex": [
       "\\begin{description}\n",
       "\\item[\\$highcyt3.up\\_degs.txt] 3367\n",
       "\\item[\\$highcyt3.down\\_degs.txt] 3414\n",
       "\\item[\\$lowcyt3.up\\_degs.txt] 232\n",
       "\\item[\\$lowcyt3.down\\_degs.txt] 98\n",
       "\\item[\\$highcyt2.up\\_degs.txt] 2543\n",
       "\\item[\\$highcyt2.down\\_degs.txt] 2508\n",
       "\\item[\\$lowcyt2.up\\_degs.txt] 252\n",
       "\\item[\\$lowcyt2.down\\_degs.txt] 72\n",
       "\\end{description}\n"
      ],
      "text/markdown": [
       "$highcyt3.up_degs.txt\n",
       ":   3367\n",
       "$highcyt3.down_degs.txt\n",
       ":   3414\n",
       "$lowcyt3.up_degs.txt\n",
       ":   232\n",
       "$lowcyt3.down_degs.txt\n",
       ":   98\n",
       "$highcyt2.up_degs.txt\n",
       ":   2543\n",
       "$highcyt2.down_degs.txt\n",
       ":   2508\n",
       "$lowcyt2.up_degs.txt\n",
       ":   252\n",
       "$lowcyt2.down_degs.txt\n",
       ":   72\n",
       "\n",
       "\n"
      ],
      "text/plain": [
       "$highcyt3.up_degs.txt\n",
       "[1] 3367\n",
       "\n",
       "$highcyt3.down_degs.txt\n",
       "[1] 3414\n",
       "\n",
       "$lowcyt3.up_degs.txt\n",
       "[1] 232\n",
       "\n",
       "$lowcyt3.down_degs.txt\n",
       "[1] 98\n",
       "\n",
       "$highcyt2.up_degs.txt\n",
       "[1] 2543\n",
       "\n",
       "$highcyt2.down_degs.txt\n",
       "[1] 2508\n",
       "\n",
       "$lowcyt2.up_degs.txt\n",
       "[1] 252\n",
       "\n",
       "$lowcyt2.down_degs.txt\n",
       "[1] 72\n"
      ]
     },
     "metadata": {},
     "output_type": "display_data"
    }
   ],
   "source": [
    "lapply(lili, length)"
   ]
  },
  {
   "cell_type": "code",
   "execution_count": 43,
   "metadata": {},
   "outputs": [
    {
     "data": {
      "text/html": [
       "5051"
      ],
      "text/latex": [
       "5051"
      ],
      "text/markdown": [
       "5051"
      ],
      "text/plain": [
       "[1] 5051"
      ]
     },
     "metadata": {},
     "output_type": "display_data"
    },
    {
     "data": {
      "text/html": [
       "330"
      ],
      "text/latex": [
       "330"
      ],
      "text/markdown": [
       "330"
      ],
      "text/plain": [
       "[1] 330"
      ]
     },
     "metadata": {},
     "output_type": "display_data"
    },
    {
     "data": {
      "text/html": [
       "324"
      ],
      "text/latex": [
       "324"
      ],
      "text/markdown": [
       "324"
      ],
      "text/plain": [
       "[1] 324"
      ]
     },
     "metadata": {},
     "output_type": "display_data"
    }
   ],
   "source": [
    "2543+2508\n",
    "232+98\n",
    "252+72"
   ]
  },
  {
   "cell_type": "code",
   "execution_count": 355,
   "metadata": {},
   "outputs": [],
   "source": [
    "mm = matrix(lapply(lili, length), ncol = 2, byrow = T)[c(1,3,2,4),]\n",
    "colnames(mm)= c(\"Up\", \"Down\")"
   ]
  },
  {
   "cell_type": "code",
   "execution_count": 327,
   "metadata": {},
   "outputs": [],
   "source": [
    "m = data.frame()"
   ]
  },
  {
   "cell_type": "code",
   "execution_count": 328,
   "metadata": {},
   "outputs": [],
   "source": [
    "for (x in c(1,2,5,6)){\n",
    "d = unique(c(lili[[x]], lili[[x+2]]))\n",
    "df = data.frame(gene = d, hi = d %in% lili[[x]], lo = d %in% lili[[x+2]])\n",
    "m = rbind(m, table(df[,2:3])[2:4])\n",
    "    }"
   ]
  },
  {
   "cell_type": "code",
   "execution_count": 336,
   "metadata": {},
   "outputs": [],
   "source": [
    "colnames(m) = c(\"hi\", 'lo', \"both\")\n",
    "rownames(m) = c('3up', '3down', '2up', '2down')"
   ]
  },
  {
   "cell_type": "code",
   "execution_count": 374,
   "metadata": {},
   "outputs": [
    {
     "data": {
      "text/html": [
       "<strong>png:</strong> 2"
      ],
      "text/latex": [
       "\\textbf{png:} 2"
      ],
      "text/markdown": [
       "**png:** 2"
      ],
      "text/plain": [
       "png \n",
       "  2 "
      ]
     },
     "metadata": {},
     "output_type": "display_data"
    }
   ],
   "source": [
    "pdf(\"Compare_DEGs_cytok.pdf\")\n",
    "par(mfrow=c(2,2))\n",
    "vennDiagram(v, lwd=2, bty=\"o\", cex=1.2, circle.col = as.character(info_uni$color)[c(3,2,5,4)])\n",
    "\n",
    "barplot(t(m), las=2, legend.text = colnames(m), ylim=c(0,4000), col = c(\"gray\", \"gold\", \"bisque\") )\n",
    "b = barplot(t(mm), las=2, legend.text = colnames(mm), ylim=c(0,7000), col = brewer.pal(9, \"PuOr\")[c(3,7)] )\n",
    "text(x = b, y =mm[,1], labels = mm[,1] , pos = 1)\n",
    "text(x = b, y = as.numeric(mm[,2])+ as.numeric(mm[,1]), labels = mm[,2] , pos = 1)\n",
    "dev.off()"
   ]
  },
  {
   "cell_type": "code",
   "execution_count": 334,
   "metadata": {},
   "outputs": [
    {
     "data": {
      "text/html": [
       "<table>\n",
       "<caption>A data.frame: 4 × 3</caption>\n",
       "<thead>\n",
       "\t<tr><th></th><th scope=col>hi</th><th scope=col>both</th><th scope=col>lo</th></tr>\n",
       "\t<tr><th></th><th scope=col>&lt;int&gt;</th><th scope=col>&lt;int&gt;</th><th scope=col>&lt;int&gt;</th></tr>\n",
       "</thead>\n",
       "<tbody>\n",
       "\t<tr><th scope=row>3up</th><td>3150</td><td>15</td><td>217</td></tr>\n",
       "\t<tr><th scope=row>3down</th><td>3338</td><td>22</td><td> 76</td></tr>\n",
       "\t<tr><th scope=row>2up</th><td>2314</td><td>23</td><td>229</td></tr>\n",
       "\t<tr><th scope=row>2down</th><td>2461</td><td>25</td><td> 47</td></tr>\n",
       "</tbody>\n",
       "</table>\n"
      ],
      "text/latex": [
       "A data.frame: 4 × 3\n",
       "\\begin{tabular}{r|lll}\n",
       "  & hi & both & lo\\\\\n",
       "  & <int> & <int> & <int>\\\\\n",
       "\\hline\n",
       "\t3up & 3150 & 15 & 217\\\\\n",
       "\t3down & 3338 & 22 &  76\\\\\n",
       "\t2up & 2314 & 23 & 229\\\\\n",
       "\t2down & 2461 & 25 &  47\\\\\n",
       "\\end{tabular}\n"
      ],
      "text/markdown": [
       "\n",
       "A data.frame: 4 × 3\n",
       "\n",
       "| <!--/--> | hi &lt;int&gt; | both &lt;int&gt; | lo &lt;int&gt; |\n",
       "|---|---|---|---|\n",
       "| 3up | 3150 | 15 | 217 |\n",
       "| 3down | 3338 | 22 |  76 |\n",
       "| 2up | 2314 | 23 | 229 |\n",
       "| 2down | 2461 | 25 |  47 |\n",
       "\n"
      ],
      "text/plain": [
       "      hi   both lo \n",
       "3up   3150 15   217\n",
       "3down 3338 22    76\n",
       "2up   2314 23   229\n",
       "2down 2461 25    47"
      ]
     },
     "metadata": {},
     "output_type": "display_data"
    }
   ],
   "source": [
    "m"
   ]
  },
  {
   "cell_type": "code",
   "execution_count": 335,
   "metadata": {},
   "outputs": [
    {
     "data": {
      "text/plain": [
       "       lo\n",
       "hi      FALSE TRUE\n",
       "  FALSE     0   25\n",
       "  TRUE   2461   47"
      ]
     },
     "metadata": {},
     "output_type": "display_data"
    }
   ],
   "source": [
    "table(df[,2:3])"
   ]
  },
  {
   "cell_type": "code",
   "execution_count": 373,
   "metadata": {},
   "outputs": [
    {
     "data": {
      "image/png": "[encoded data removed]",
      "text/plain": [
       "plot without title"
      ]
     },
     "metadata": {
      "image/png": {
       "height": 420,
       "width": 420
      },
      "text/plain": {
       "height": 420,
       "width": 420
      }
     },
     "output_type": "display_data"
    }
   ],
   "source": [
    "b = barplot(t(mm), las=2, legend.text = colnames(mm), ylim=c(0,7000), col = brewer.pal(9, \"PuOr\")[c(3,7)] )\n",
    "text(x = b, y =mm[,1], labels = mm[,1] , pos = 1)\n",
    "text(x = b, y = as.numeric(mm[,2])+ as.numeric(mm[,1]), labels = mm[,2] , pos = 1)"
   ]
  },
  {
   "cell_type": "code",
   "execution_count": 361,
   "metadata": {},
   "outputs": [
    {
     "data": {
      "text/html": [
       "<style>\n",
       ".list-inline {list-style: none; margin:0; padding: 0}\n",
       ".list-inline>li {display: inline-block}\n",
       ".list-inline>li:not(:last-child)::after {content: \"\\00b7\"; padding: 0 .5ex}\n",
       "</style>\n",
       "<ol class=list-inline><li>0.7</li><li>1.9</li><li>3.1</li><li>4.3</li></ol>\n"
      ],
      "text/latex": [
       "\\begin{enumerate*}\n",
       "\\item 0.7\n",
       "\\item 1.9\n",
       "\\item 3.1\n",
       "\\item 4.3\n",
       "\\end{enumerate*}\n"
      ],
      "text/markdown": [
       "1. 0.7\n",
       "2. 1.9\n",
       "3. 3.1\n",
       "4. 4.3\n",
       "\n",
       "\n"
      ],
      "text/plain": [
       "[1] 0.7 1.9 3.1 4.3"
      ]
     },
     "metadata": {},
     "output_type": "display_data"
    }
   ],
   "source": [
    "b"
   ]
  },
  {
   "cell_type": "code",
   "execution_count": 362,
   "metadata": {},
   "outputs": [
    {
     "data": {
      "text/html": [
       "<table>\n",
       "<caption>A matrix: 4 × 2</caption>\n",
       "<thead>\n",
       "\t<tr><th scope=col>Up</th><th scope=col>Down</th></tr>\n",
       "\t<tr><th scope=col>&lt;int&gt;</th><th scope=col>&lt;int&gt;</th><th scope=col>&lt;int&gt;</th><th scope=col>&lt;int&gt;</th><th scope=col>&lt;int&gt;</th><th scope=col>&lt;int&gt;</th><th scope=col>&lt;int&gt;</th><th scope=col>&lt;int&gt;</th></tr>\n",
       "</thead>\n",
       "<tbody>\n",
       "\t<tr><td>3367</td><td>3414</td></tr>\n",
       "\t<tr><td>2543</td><td>2508</td></tr>\n",
       "\t<tr><td>232</td><td>98</td></tr>\n",
       "\t<tr><td>252</td><td>72</td></tr>\n",
       "</tbody>\n",
       "</table>\n"
      ],
      "text/latex": [
       "A matrix: 4 × 2\n",
       "\\begin{tabular}{ll}\n",
       " Up & Down\\\\\n",
       " <int> & <int> & <int> & <int> & <int> & <int> & <int> & <int>\\\\\n",
       "\\hline\n",
       "\t 3367 & 3414\\\\\n",
       "\t 2543 & 2508\\\\\n",
       "\t 232 & 98\\\\\n",
       "\t 252 & 72\\\\\n",
       "\\end{tabular}\n"
      ],
      "text/markdown": [
       "\n",
       "A matrix: 4 × 2\n",
       "\n",
       "| Up &lt;int&gt; | Down &lt;int&gt; | Up &lt;int&gt; | Down &lt;int&gt; | Up &lt;int&gt; | Down &lt;int&gt; | Up &lt;int&gt; | Down &lt;int&gt; |\n",
       "|---|---|\n",
       "| 3367 | 3414 |\n",
       "| 2543 | 2508 |\n",
       "| 232 | 98 |\n",
       "| 252 | 72 |\n",
       "\n"
      ],
      "text/plain": [
       "     Up   Down\n",
       "[1,] 3367 3414\n",
       "[2,] 2543 2508\n",
       "[3,] 232  98  \n",
       "[4,] 252  72  "
      ]
     },
     "metadata": {},
     "output_type": "display_data"
    }
   ],
   "source": [
    "mm"
   ]
  },
  {
   "cell_type": "markdown",
   "metadata": {},
   "source": [
    "### Transcript- level deseq"
   ]
  },
  {
   "cell_type": "code",
   "execution_count": 12,
   "metadata": {},
   "outputs": [],
   "source": [
    "gene_info = read.table(\"/nfs/lab/publicdata/gencode_v19/gene_info.tsv\", header=T)"
   ]
  },
  {
   "cell_type": "code",
   "execution_count": 29,
   "metadata": {},
   "outputs": [],
   "source": [
    "info = read.table( '/nfs/lab/projects/islet_cytok/data/RNAseq/metadata_cytok_paper.txt', sep=\"\\t\", header=T, \n",
    "                  comment.char = \"\")"
   ]
  },
  {
   "cell_type": "code",
   "execution_count": 31,
   "metadata": {},
   "outputs": [],
   "source": [
    "expected_count = as.matrix(read.table(\"../pipeline/RNAseq/combined_files/cytok_transcripts.raw_counts\", sep=\"\\t\", header=T, row.names=1))"
   ]
  },
  {
   "cell_type": "code",
   "execution_count": 32,
   "metadata": {},
   "outputs": [],
   "source": [
    "info = droplevels(subset(info, !(sample %in% c('R310','SAMN11250012'))))\n",
    "expected_count = subset(expected_count, select=as.character(info$name))\n"
   ]
  },
  {
   "cell_type": "code",
   "execution_count": 34,
   "metadata": {},
   "outputs": [
    {
     "name": "stderr",
     "output_type": "stream",
     "text": [
      "converting counts to integer mode\n",
      "\n",
      "estimating size factors\n",
      "\n",
      "estimating dispersions\n",
      "\n",
      "gene-wise dispersion estimates\n",
      "\n",
      "mean-dispersion relationship\n",
      "\n",
      "final dispersion estimates\n",
      "\n",
      "fitting model and testing\n",
      "\n"
     ]
    }
   ],
   "source": [
    "differential_atac(contrast = c(\"untr\", \"highcyt3\"), samples = info, mat =round(expected_count), lab=\"transcripts\")"
   ]
  },
  {
   "cell_type": "code",
   "execution_count": 36,
   "metadata": {},
   "outputs": [],
   "source": [
    "res = read.table(\"transcripts.highcyt3.deseq_results_cytok.tsv\")"
   ]
  },
  {
   "cell_type": "code",
   "execution_count": 41,
   "metadata": {},
   "outputs": [],
   "source": [
    "transc_to_gene = read.table(\"/nfs/lab/publicdata/gencode_v19/transcript_to_gene.tsv\")"
   ]
  },
  {
   "cell_type": "code",
   "execution_count": 43,
   "metadata": {},
   "outputs": [],
   "source": [
    "colnames(transc_to_gene) = c(\"transcrip_id\", \"gene_id\")"
   ]
  },
  {
   "cell_type": "code",
   "execution_count": 45,
   "metadata": {},
   "outputs": [],
   "source": [
    "tr_info = merge(gene_info, transc_to_gene, by=\"gene_id\")"
   ]
  },
  {
   "cell_type": "code",
   "execution_count": 47,
   "metadata": {},
   "outputs": [],
   "source": [
    "res = merge(tr_info[, c('transcrip_id', 'gene_id', 'gene_name')], res, by.x=1, by.y=\"row.names\")"
   ]
  },
  {
   "cell_type": "code",
   "execution_count": 50,
   "metadata": {},
   "outputs": [
    {
     "data": {
      "text/html": [
       "<table class=\"dataframe\">\n",
       "<caption>A data.frame: 13 × 9</caption>\n",
       "<thead>\n",
       "\t<tr><th></th><th scope=col>transcrip_id</th><th scope=col>gene_id</th><th scope=col>gene_name</th><th scope=col>baseMean</th><th scope=col>log2FoldChange</th><th scope=col>lfcSE</th><th scope=col>stat</th><th scope=col>pvalue</th><th scope=col>padj</th></tr>\n",
       "\t<tr><th></th><th scope=col>&lt;fct&gt;</th><th scope=col>&lt;fct&gt;</th><th scope=col>&lt;fct&gt;</th><th scope=col>&lt;dbl&gt;</th><th scope=col>&lt;dbl&gt;</th><th scope=col>&lt;dbl&gt;</th><th scope=col>&lt;dbl&gt;</th><th scope=col>&lt;dbl&gt;</th><th scope=col>&lt;dbl&gt;</th></tr>\n",
       "</thead>\n",
       "<tbody>\n",
       "\t<tr><th scope=row>3623</th><td>ENST00000261657.5</td><td>ENSG00000038532.10</td><td>CLEC16A</td><td> 63.0696451</td><td>  0.77276994</td><td>1.9129842</td><td> 0.40396044</td><td>6.862418e-01</td><td>1.000000000</td></tr>\n",
       "\t<tr><th scope=row>31224</th><td>ENST00000381822.2</td><td>ENSG00000038532.10</td><td>CLEC16A</td><td> 86.7387401</td><td> -1.86900770</td><td>0.9891993</td><td>-1.88941477</td><td>5.883627e-02</td><td>0.510189362</td></tr>\n",
       "\t<tr><th scope=row>42936</th><td>ENST00000409552.3</td><td>ENSG00000038532.10</td><td>CLEC16A</td><td>194.7347605</td><td>  0.05912350</td><td>0.1654586</td><td> 0.35733097</td><td>7.208440e-01</td><td>1.000000000</td></tr>\n",
       "\t<tr><th scope=row>43150</th><td>ENST00000409790.1</td><td>ENSG00000038532.10</td><td>CLEC16A</td><td>359.7484136</td><td>  0.03267926</td><td>0.1748810</td><td> 0.18686574</td><td>8.517659e-01</td><td>1.000000000</td></tr>\n",
       "\t<tr><th scope=row>56083</th><td>ENST00000428742.2</td><td>ENSG00000038532.10</td><td>CLEC16A</td><td>  0.6869818</td><td>  4.27026311</td><td>4.2428036</td><td> 1.00647202</td><td>3.141886e-01</td><td>1.000000000</td></tr>\n",
       "\t<tr><th scope=row>61765</th><td>ENST00000436973.1</td><td>ENSG00000038532.10</td><td>CLEC16A</td><td>  0.2049997</td><td>  0.00000000</td><td>4.3280446</td><td> 0.00000000</td><td>1.000000e+00</td><td>1.000000000</td></tr>\n",
       "\t<tr><th scope=row>77580</th><td>ENST00000459723.1</td><td>ENSG00000038532.10</td><td>CLEC16A</td><td>  0.8481553</td><td> -0.10454931</td><td>3.3532858</td><td>-0.03117817</td><td>9.751274e-01</td><td>1.000000000</td></tr>\n",
       "\t<tr><th scope=row>80620</th><td>ENST00000463459.1</td><td>ENSG00000038532.10</td><td>CLEC16A</td><td>  0.0000000</td><td>          NA</td><td>       NA</td><td>         NA</td><td>          NA</td><td>         NA</td></tr>\n",
       "\t<tr><th scope=row>80985</th><td>ENST00000463896.1</td><td>ENSG00000038532.10</td><td>CLEC16A</td><td>  8.0007211</td><td>  0.47302598</td><td>0.7089815</td><td> 0.66719087</td><td>5.046502e-01</td><td>1.000000000</td></tr>\n",
       "\t<tr><th scope=row>82308</th><td>ENST00000465491.1</td><td>ENSG00000038532.10</td><td>CLEC16A</td><td>  7.2157347</td><td>  0.48339872</td><td>2.1491090</td><td> 0.22492983</td><td>8.220339e-01</td><td>1.000000000</td></tr>\n",
       "\t<tr><th scope=row>90955</th><td>ENST00000476025.1</td><td>ENSG00000038532.10</td><td>CLEC16A</td><td>  0.3682771</td><td>-17.23210008</td><td>4.2848028</td><td>-4.02167870</td><td>5.778484e-05</td><td>0.001381117</td></tr>\n",
       "\t<tr><th scope=row>100135</th><td>ENST00000487189.1</td><td>ENSG00000038532.10</td><td>CLEC16A</td><td>  4.3142975</td><td>  2.53306442</td><td>1.4248268</td><td> 1.77780515</td><td>7.543586e-02</td><td>0.597991648</td></tr>\n",
       "\t<tr><th scope=row>106386</th><td>ENST00000494853.1</td><td>ENSG00000038532.10</td><td>CLEC16A</td><td>  5.5044360</td><td>  0.89357730</td><td>2.6430933</td><td> 0.33808013</td><td>7.353028e-01</td><td>1.000000000</td></tr>\n",
       "</tbody>\n",
       "</table>\n"
      ],
      "text/latex": [
       "A data.frame: 13 × 9\n",
       "\\begin{tabular}{r|lllllllll}\n",
       "  & transcrip\\_id & gene\\_id & gene\\_name & baseMean & log2FoldChange & lfcSE & stat & pvalue & padj\\\\\n",
       "  & <fct> & <fct> & <fct> & <dbl> & <dbl> & <dbl> & <dbl> & <dbl> & <dbl>\\\\\n",
       "\\hline\n",
       "\t3623 & ENST00000261657.5 & ENSG00000038532.10 & CLEC16A &  63.0696451 &   0.77276994 & 1.9129842 &  0.40396044 & 6.862418e-01 & 1.000000000\\\\\n",
       "\t31224 & ENST00000381822.2 & ENSG00000038532.10 & CLEC16A &  86.7387401 &  -1.86900770 & 0.9891993 & -1.88941477 & 5.883627e-02 & 0.510189362\\\\\n",
       "\t42936 & ENST00000409552.3 & ENSG00000038532.10 & CLEC16A & 194.7347605 &   0.05912350 & 0.1654586 &  0.35733097 & 7.208440e-01 & 1.000000000\\\\\n",
       "\t43150 & ENST00000409790.1 & ENSG00000038532.10 & CLEC16A & 359.7484136 &   0.03267926 & 0.1748810 &  0.18686574 & 8.517659e-01 & 1.000000000\\\\\n",
       "\t56083 & ENST00000428742.2 & ENSG00000038532.10 & CLEC16A &   0.6869818 &   4.27026311 & 4.2428036 &  1.00647202 & 3.141886e-01 & 1.000000000\\\\\n",
       "\t61765 & ENST00000436973.1 & ENSG00000038532.10 & CLEC16A &   0.2049997 &   0.00000000 & 4.3280446 &  0.00000000 & 1.000000e+00 & 1.000000000\\\\\n",
       "\t77580 & ENST00000459723.1 & ENSG00000038532.10 & CLEC16A &   0.8481553 &  -0.10454931 & 3.3532858 & -0.03117817 & 9.751274e-01 & 1.000000000\\\\\n",
       "\t80620 & ENST00000463459.1 & ENSG00000038532.10 & CLEC16A &   0.0000000 &           NA &        NA &          NA &           NA &          NA\\\\\n",
       "\t80985 & ENST00000463896.1 & ENSG00000038532.10 & CLEC16A &   8.0007211 &   0.47302598 & 0.7089815 &  0.66719087 & 5.046502e-01 & 1.000000000\\\\\n",
       "\t82308 & ENST00000465491.1 & ENSG00000038532.10 & CLEC16A &   7.2157347 &   0.48339872 & 2.1491090 &  0.22492983 & 8.220339e-01 & 1.000000000\\\\\n",
       "\t90955 & ENST00000476025.1 & ENSG00000038532.10 & CLEC16A &   0.3682771 & -17.23210008 & 4.2848028 & -4.02167870 & 5.778484e-05 & 0.001381117\\\\\n",
       "\t100135 & ENST00000487189.1 & ENSG00000038532.10 & CLEC16A &   4.3142975 &   2.53306442 & 1.4248268 &  1.77780515 & 7.543586e-02 & 0.597991648\\\\\n",
       "\t106386 & ENST00000494853.1 & ENSG00000038532.10 & CLEC16A &   5.5044360 &   0.89357730 & 2.6430933 &  0.33808013 & 7.353028e-01 & 1.000000000\\\\\n",
       "\\end{tabular}\n"
      ],
      "text/markdown": [
       "\n",
       "A data.frame: 13 × 9\n",
       "\n",
       "| <!--/--> | transcrip_id &lt;fct&gt; | gene_id &lt;fct&gt; | gene_name &lt;fct&gt; | baseMean &lt;dbl&gt; | log2FoldChange &lt;dbl&gt; | lfcSE &lt;dbl&gt; | stat &lt;dbl&gt; | pvalue &lt;dbl&gt; | padj &lt;dbl&gt; |\n",
       "|---|---|---|---|---|---|---|---|---|---|\n",
       "| 3623 | ENST00000261657.5 | ENSG00000038532.10 | CLEC16A |  63.0696451 |   0.77276994 | 1.9129842 |  0.40396044 | 6.862418e-01 | 1.000000000 |\n",
       "| 31224 | ENST00000381822.2 | ENSG00000038532.10 | CLEC16A |  86.7387401 |  -1.86900770 | 0.9891993 | -1.88941477 | 5.883627e-02 | 0.510189362 |\n",
       "| 42936 | ENST00000409552.3 | ENSG00000038532.10 | CLEC16A | 194.7347605 |   0.05912350 | 0.1654586 |  0.35733097 | 7.208440e-01 | 1.000000000 |\n",
       "| 43150 | ENST00000409790.1 | ENSG00000038532.10 | CLEC16A | 359.7484136 |   0.03267926 | 0.1748810 |  0.18686574 | 8.517659e-01 | 1.000000000 |\n",
       "| 56083 | ENST00000428742.2 | ENSG00000038532.10 | CLEC16A |   0.6869818 |   4.27026311 | 4.2428036 |  1.00647202 | 3.141886e-01 | 1.000000000 |\n",
       "| 61765 | ENST00000436973.1 | ENSG00000038532.10 | CLEC16A |   0.2049997 |   0.00000000 | 4.3280446 |  0.00000000 | 1.000000e+00 | 1.000000000 |\n",
       "| 77580 | ENST00000459723.1 | ENSG00000038532.10 | CLEC16A |   0.8481553 |  -0.10454931 | 3.3532858 | -0.03117817 | 9.751274e-01 | 1.000000000 |\n",
       "| 80620 | ENST00000463459.1 | ENSG00000038532.10 | CLEC16A |   0.0000000 |           NA |        NA |          NA |           NA |          NA |\n",
       "| 80985 | ENST00000463896.1 | ENSG00000038532.10 | CLEC16A |   8.0007211 |   0.47302598 | 0.7089815 |  0.66719087 | 5.046502e-01 | 1.000000000 |\n",
       "| 82308 | ENST00000465491.1 | ENSG00000038532.10 | CLEC16A |   7.2157347 |   0.48339872 | 2.1491090 |  0.22492983 | 8.220339e-01 | 1.000000000 |\n",
       "| 90955 | ENST00000476025.1 | ENSG00000038532.10 | CLEC16A |   0.3682771 | -17.23210008 | 4.2848028 | -4.02167870 | 5.778484e-05 | 0.001381117 |\n",
       "| 100135 | ENST00000487189.1 | ENSG00000038532.10 | CLEC16A |   4.3142975 |   2.53306442 | 1.4248268 |  1.77780515 | 7.543586e-02 | 0.597991648 |\n",
       "| 106386 | ENST00000494853.1 | ENSG00000038532.10 | CLEC16A |   5.5044360 |   0.89357730 | 2.6430933 |  0.33808013 | 7.353028e-01 | 1.000000000 |\n",
       "\n"
      ],
      "text/plain": [
       "       transcrip_id      gene_id            gene_name baseMean   \n",
       "3623   ENST00000261657.5 ENSG00000038532.10 CLEC16A    63.0696451\n",
       "31224  ENST00000381822.2 ENSG00000038532.10 CLEC16A    86.7387401\n",
       "42936  ENST00000409552.3 ENSG00000038532.10 CLEC16A   194.7347605\n",
       "43150  ENST00000409790.1 ENSG00000038532.10 CLEC16A   359.7484136\n",
       "56083  ENST00000428742.2 ENSG00000038532.10 CLEC16A     0.6869818\n",
       "61765  ENST00000436973.1 ENSG00000038532.10 CLEC16A     0.2049997\n",
       "77580  ENST00000459723.1 ENSG00000038532.10 CLEC16A     0.8481553\n",
       "80620  ENST00000463459.1 ENSG00000038532.10 CLEC16A     0.0000000\n",
       "80985  ENST00000463896.1 ENSG00000038532.10 CLEC16A     8.0007211\n",
       "82308  ENST00000465491.1 ENSG00000038532.10 CLEC16A     7.2157347\n",
       "90955  ENST00000476025.1 ENSG00000038532.10 CLEC16A     0.3682771\n",
       "100135 ENST00000487189.1 ENSG00000038532.10 CLEC16A     4.3142975\n",
       "106386 ENST00000494853.1 ENSG00000038532.10 CLEC16A     5.5044360\n",
       "       log2FoldChange lfcSE     stat        pvalue       padj       \n",
       "3623     0.77276994   1.9129842  0.40396044 6.862418e-01 1.000000000\n",
       "31224   -1.86900770   0.9891993 -1.88941477 5.883627e-02 0.510189362\n",
       "42936    0.05912350   0.1654586  0.35733097 7.208440e-01 1.000000000\n",
       "43150    0.03267926   0.1748810  0.18686574 8.517659e-01 1.000000000\n",
       "56083    4.27026311   4.2428036  1.00647202 3.141886e-01 1.000000000\n",
       "61765    0.00000000   4.3280446  0.00000000 1.000000e+00 1.000000000\n",
       "77580   -0.10454931   3.3532858 -0.03117817 9.751274e-01 1.000000000\n",
       "80620            NA          NA          NA           NA          NA\n",
       "80985    0.47302598   0.7089815  0.66719087 5.046502e-01 1.000000000\n",
       "82308    0.48339872   2.1491090  0.22492983 8.220339e-01 1.000000000\n",
       "90955  -17.23210008   4.2848028 -4.02167870 5.778484e-05 0.001381117\n",
       "100135   2.53306442   1.4248268  1.77780515 7.543586e-02 0.597991648\n",
       "106386   0.89357730   2.6430933  0.33808013 7.353028e-01 1.000000000"
      ]
     },
     "metadata": {},
     "output_type": "display_data"
    }
   ],
   "source": [
    "subset(res, gene_name ==\"CLEC16A\")"
   ]
  },
  {
   "cell_type": "code",
   "execution_count": 53,
   "metadata": {},
   "outputs": [],
   "source": [
    "write.table (res,   \"transcripts.highcyt3_deseq_results_cytok.tsv\", quote=F)"
   ]
  },
  {
   "cell_type": "code",
   "execution_count": null,
   "metadata": {},
   "outputs": [],
   "source": []
  }
 ],
 "metadata": {
  "kernelspec": {
   "display_name": "R 4.1",
   "language": "R",
   "name": "ir41"
  },
  "language_info": {
   "codemirror_mode": "r",
   "file_extension": ".r",
   "mimetype": "text/x-r-source",
   "name": "R",
   "pygments_lexer": "r",
   "version": "4.1.1"
  }
 },
 "nbformat": 4,
 "nbformat_minor": 2
}
